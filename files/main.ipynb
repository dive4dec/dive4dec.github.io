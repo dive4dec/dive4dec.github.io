{
 "cells": [
  {
   "cell_type": "markdown",
   "metadata": {},
   "source": [
    "# DIVE: Make Online Learning Diversified, Interactive, Versatile, and Engaging"
   ]
  },
  {
   "cell_type": "markdown",
   "metadata": {},
   "source": [
    "## Teaching Philosophy"
   ]
  },
  {
   "cell_type": "markdown",
   "metadata": {},
   "source": [
    "As university courses move online due to the pandemic, resources for face-to-face teaching become ineffective or unusable. Especially for computer science courses requiring a complicated setup, students may not be able to access the computer labs nor receive immediate guidance. To help students dive into a discovery-enriched curriculum without getting lost, we successfully developed effective courseware for various online courses and workshops to provide a diversified, interactive, versatile, and engaging (DIVE) virtual learning environment. By integrating and enhancing tools such as interactive notebook, docker, and git, students can easily reproduce the environment in a web browser, share GPU resources, interact with the lecture materials, submit lab assignments for auto-grading, collaborate on group projects with proper version control, and receive instant automated feedback as well as detailed guidance from instructors."
   ]
  },
  {
   "cell_type": "markdown",
   "metadata": {},
   "source": [
    "The object of Project DIVE is deliver to students' homes the necessary computing resources and the online learning materials that are:\n",
    "\n",
    "- **D**iversified: allowing students of different backgrounds to explore easily and freely in different ways;\n",
    "- **I**nteractive: providing helpful guidance and feedback while students explore;\n",
    "- **V**ersatile: applicable to a variety of courses so students may reuse the same tools to learn different subjects; and\n",
    "- **E**ngaging: sparking students' interest and helping them excel in the subject beyond what is taught in class."
   ]
  },
  {
   "cell_type": "markdown",
   "metadata": {},
   "source": [
    "Instead of reducing the difficulty level, the ultimate goal is to engage students with *challenging but practical contents* and encourage them to *dive deep into a discovery-enriched curriculum*."
   ]
  },
  {
   "cell_type": "markdown",
   "metadata": {},
   "source": [
    "## Course Materials Developed"
   ]
  },
  {
   "cell_type": "markdown",
   "metadata": {},
   "source": [
    "The DIVE virtual learning environment has matured after solving different challenges met in various teaching scenarios. The following is a list of course materials developed:"
   ]
  },
  {
   "cell_type": "markdown",
   "metadata": {},
   "source": [
    "- [Introductory programming with engineering applications](https://www.cs.cityu.edu.hk/~ccha23/cs1302book)\n",
    "- [Graduate-level data mining](https://www.cs.cityu.edu.hk/~ccha23/cs5483book)\n",
    "- [Mutual information in machine learning for researchers](https://www.cs.cityu.edu.hk/~ccha23/miml)\n",
    "- [Deep learning for secondary school students](https://www.cs.cityu.edu.hk/~ccha23/deepbook)\n",
    "- [DIVE into Math for secondary school students](divemath/divemath.ipynb)"
   ]
  },
  {
   "cell_type": "markdown",
   "metadata": {},
   "source": [
    "## Tools developed"
   ]
  },
  {
   "cell_type": "markdown",
   "metadata": {},
   "source": [
    "Several python packages have been developed to enhance the Jupyter environment for DIVE:"
   ]
  },
  {
   "cell_type": "markdown",
   "metadata": {},
   "source": [
    "- [`divewidgets`](https://github.com/dive4dec/divewidgets), which integrates javascript libraries such as [JSXGraph](https://jsxgraph.uni-bayreuth.de/) for interative illustrations in Jupyter notebooks;\n",
    "- [`divemarkdownit`](https://github.com/dive4dec/divemardownit), which integrates [MyST](https://myst-parser.readthedocs.io/en/latest/syntax/optional.html) parser to JupyterLab; and\n",
    "- [`divemathjax3`](https://github.com/dive4dec/divemathjax3), which integrates [Mathjax3](https://docs.mathjax.org/en/latest/web/configuration.html) parser to JupyterLab."
   ]
  },
  {
   "cell_type": "markdown",
   "metadata": {},
   "source": [
    "### Setup"
   ]
  },
  {
   "cell_type": "markdown",
   "metadata": {},
   "source": [
    "After anaconda is installed, the following shell commands install and run JupyterLab with the above packages in a virtual environment:\n",
    "\n",
    "```bash\n",
    "conda create -n dive -c dive -c conda-forge jupyterlab ipywidgets==7.7 divewidgets divemarkdownit divemathjax3 pip && \\\n",
    "conda activate dive && \\\n",
    "jupyter lab\n",
    "```"
   ]
  },
  {
   "cell_type": "markdown",
   "metadata": {},
   "source": [
    "Alternatively, you may also install the packages with `pip`:\n",
    "\n",
    "```bash\n",
    "pip install ipywidgets==7.7 divewidgets divemarkdownit divemathjax3\n",
    "```"
   ]
  },
  {
   "cell_type": "markdown",
   "metadata": {},
   "source": [
    "The packages are also available at the [JupyterLite](https://github.com/jupyterlite/jupyterlite) website:\n",
    "\n",
    "```{admonition} Demo JupyterLite Site\n",
    "https://dive4dec.github.io\n",
    "```\n",
    "- Install [any web browser that supports web workers](https://developer.mozilla.org/en-US/docs/Web/API/Worker#browser_compatibility). \n",
    "- Visit the link to run jupyter *offline without setup/login*."
   ]
  },
  {
   "cell_type": "markdown",
   "metadata": {},
   "source": [
    "The packages are preinstalled in the `xeus-python` kernel by [injecting the `dive` channel](https://github.com/dive4dec/xeus-python-kernel).\n",
    "\n",
    "For the `pyodide` kernel, the packages can be installed with\n",
    "```python\n",
    "import piplite\n",
    "await piplite.install('ipywidgets==7.7')\n",
    "await piplite.install('divewidgets')\n",
    "```"
   ]
  },
  {
   "cell_type": "markdown",
   "metadata": {},
   "source": [
    "### DIVE Widgets"
   ]
  },
  {
   "cell_type": "code",
   "execution_count": null,
   "metadata": {},
   "outputs": [],
   "source": [
    "%reload_ext divewidgets"
   ]
  },
  {
   "cell_type": "markdown",
   "metadata": {
    "tags": []
   },
   "source": [
    "#### JSXGraph"
   ]
  },
  {
   "cell_type": "markdown",
   "metadata": {},
   "source": [
    "[JSXGraph](https://jsxgraph.org/) can be rendered using the following magic:"
   ]
  },
  {
   "cell_type": "code",
   "execution_count": null,
   "metadata": {},
   "outputs": [],
   "source": [
    "%%jsxgraph?"
   ]
  },
  {
   "cell_type": "code",
   "execution_count": null,
   "metadata": {},
   "outputs": [],
   "source": [
    "%%jsxgraph\n",
    "JXG.Options.text.useMathJax = true;\n",
    "const brd = JXG.JSXGraph.initBoard('box', {\n",
    "    boundingbox: [-8, 8, 8, -4],\n",
    "    axis: true,\n",
    "    showCopyright: false\n",
    "});\n",
    "const a = brd.create('slider', [\n",
    "    [3, 3],\n",
    "    [6, 3],\n",
    "    [-3, 1, 3]\n",
    "], {\n",
    "    name: 'a',\n",
    "    snapWidth: 0.1\n",
    "});\n",
    "const b = brd.create('slider', [\n",
    "    [3, 2],\n",
    "    [6, 2],\n",
    "    [-3, 0, 3]\n",
    "], {\n",
    "    name: 'b',\n",
    "    snapWidth: 0.1\n",
    "});\n",
    "const c = brd.create('slider', [\n",
    "    [3, 1],\n",
    "    [6, 1],\n",
    "    [-3, 0, 3]\n",
    "], {\n",
    "    name: 'c',\n",
    "    snapWidth: 0.1\n",
    "});\n",
    "brd.create('functiongraph', [function(x) {\n",
    "    return a.Value() * x * x + b.Value() * x + c.Value();\n",
    "}, -10, 10]);\n",
    "brd.create('text',\n",
    "    [-2, 0,\n",
    "        function() {\n",
    "            return String.raw`\n",
    "              \\begin{align*} \n",
    "              y&=ax^2+bx+c\\\\ \n",
    "               &= ${a.Value().toFixed(2)}x^2 \n",
    "                + ${b.Value().toFixed(2)}x \n",
    "                + ${c.Value().toFixed(2)}\n",
    "              \\end{align*}`;\n",
    "        }\n",
    "    ], {\n",
    "        anchorX: 'right',\n",
    "        anchorY: 'bottom'\n",
    "    });"
   ]
  },
  {
   "cell_type": "markdown",
   "metadata": {},
   "source": [
    "The rendering can be customized with additional arguments:"
   ]
  },
  {
   "cell_type": "code",
   "execution_count": null,
   "metadata": {},
   "outputs": [],
   "source": [
    "%%jsxgraph -i jxgbox -h 300 -m https://www.cs.cityu.edu.hk/~ccha23/js/load-mathjax.js\n",
    "JXG.Options.text.useMathJax = true;\n",
    "const brd = JXG.JSXGraph.initBoard('jxgbox', {\n",
    "    boundingbox: [-8, 8, 8, -4],\n",
    "    axis: true,\n",
    "    showCopyright: false\n",
    "});\n",
    "const a = brd.create('slider', [\n",
    "    [3, 3],\n",
    "    [6, 3],\n",
    "    [-3, 1, 3]\n",
    "], {\n",
    "    name: 'a',\n",
    "    snapWidth: 0.1\n",
    "});\n",
    "const b = brd.create('slider', [\n",
    "    [3, 2],\n",
    "    [6, 2],\n",
    "    [-3, 0, 3]\n",
    "], {\n",
    "    name: 'b',\n",
    "    snapWidth: 0.1\n",
    "});\n",
    "const c = brd.create('slider', [\n",
    "    [3, 1],\n",
    "    [6, 1],\n",
    "    [-3, 0, 3]\n",
    "], {\n",
    "    name: 'c',\n",
    "    snapWidth: 0.1\n",
    "});\n",
    "brd.create('functiongraph', [function(x) {\n",
    "    return a.Value() * x * x + b.Value() * x + c.Value();\n",
    "}, -10, 10]);\n",
    "brd.create('text',\n",
    "    [-1, -1,\n",
    "        function() {\n",
    "            return String.raw`\n",
    "              \\begin{empheq}[left={\\text{Parabola} \\empheqlbrace}]{align}\n",
    "              y&=ax^2+bx+c\\tag{1}\\\\ \n",
    "               &= ${a.Value().toFixed(2)}x^2 \n",
    "                + ${b.Value().toFixed(2)}x \n",
    "                + ${c.Value().toFixed(2)} \\tag{2}\n",
    "              \\end{empheq}`;\n",
    "        }\n",
    "    ], {\n",
    "        anchorX: 'right',\n",
    "        anchorY: 'top'\n",
    "    });"
   ]
  },
  {
   "cell_type": "markdown",
   "metadata": {},
   "source": [
    "```{note}\n",
    "The above typesets the label use [a custom configuration of mathjax3](https://www.cs.cityu.edu.hk/~ccha23/js/load-mathjax.js).\n",
    "```"
   ]
  },
  {
   "cell_type": "markdown",
   "metadata": {},
   "source": [
    "## Other JS libraries"
   ]
  },
  {
   "cell_type": "code",
   "execution_count": null,
   "metadata": {},
   "outputs": [],
   "source": [
    "import divewidgets as dw\n",
    "print(*[identifier for identifier in dir(dw) if identifier[0] != '_'], sep=', ')"
   ]
  },
  {
   "cell_type": "code",
   "execution_count": null,
   "metadata": {},
   "outputs": [],
   "source": [
    "dw.create_JSXGraph()"
   ]
  },
  {
   "cell_type": "code",
   "execution_count": null,
   "metadata": {},
   "outputs": [],
   "source": [
    "dw.create_flowchart()"
   ]
  },
  {
   "cell_type": "code",
   "execution_count": null,
   "metadata": {},
   "outputs": [],
   "source": [
    "%%flowchart\n",
    "cond3=>condition: if (not input(1))\n",
    "cond8=>condition: if input(2)\n",
    "sub12=>subroutine: input(3)\n",
    "\n",
    "cond3(yes)->cond8\n",
    "cond8(yes)->sub12"
   ]
  },
  {
   "cell_type": "code",
   "execution_count": null,
   "metadata": {},
   "outputs": [],
   "source": [
    "dw.create_mermaid()"
   ]
  },
  {
   "cell_type": "code",
   "execution_count": null,
   "metadata": {},
   "outputs": [],
   "source": [
    "%%mermaid\n",
    "graph TD \n",
    "A[a] --> B[b] \n",
    "B --> C[c] \n",
    "B --> D[d]"
   ]
  },
  {
   "cell_type": "code",
   "execution_count": null,
   "metadata": {
    "tags": []
   },
   "outputs": [],
   "source": [
    "dw.create_optlite(height=450, live=True)"
   ]
  },
  {
   "cell_type": "markdown",
   "metadata": {},
   "source": [
    "### OPTLite"
   ]
  },
  {
   "cell_type": "markdown",
   "metadata": {},
   "source": [
    "[Online Python Tutor](https://pythontutor.com/) but [re-implemented using the pyodide kernel](https://github.com/dive4dec/optlite) that runs offline entirely in the browser."
   ]
  },
  {
   "cell_type": "markdown",
   "metadata": {},
   "source": [
    "The serverless setup can illustrate more packages without security concerns."
   ]
  },
  {
   "cell_type": "code",
   "execution_count": null,
   "metadata": {},
   "outputs": [],
   "source": [
    "%%optlite --live -h 450\n",
    "import sys\n",
    "print(sys.version)"
   ]
  },
  {
   "cell_type": "markdown",
   "metadata": {},
   "source": [
    "It can illustrates program executions without blocking the jupyter environment from executing other codes."
   ]
  },
  {
   "cell_type": "code",
   "execution_count": null,
   "metadata": {},
   "outputs": [],
   "source": [
    "%%optlite --live -h 450\n",
    "print(input())"
   ]
  },
  {
   "cell_type": "markdown",
   "metadata": {},
   "source": [
    "It can run a custom and update-to-date version of python."
   ]
  },
  {
   "cell_type": "markdown",
   "metadata": {},
   "source": [
    "It allows users to share a program via permalink such as\n",
    "- [a program that enumerates ${3 \\choose k}$ subsets for different $k$'s][combination].\n",
    "- [a program that computes the integer squareroot of a number][isqrt].\n",
    "\n",
    "[combination]: https://dive4dec.github.io/optlite/#code=import%20functools%0A%0A%0A%40functools.lru_cache%0Adef%20combination%28n,%20k%29%3A%0A%20%20%20%20output%20%3D%20%5B%5D%0A%20%20%20%20if%200%20%3C%3D%20k%20%3C%3D%20n%3A%0A%20%20%20%20%20%20%20%20if%20k%20%3D%3D%200%3A%0A%20%20%20%20%20%20%20%20%20%20%20%20output.append%28set%28%29%29%0A%20%20%20%20%20%20%20%20else%3A%0A%20%20%20%20%20%20%20%20%20%20%20%20output.extend%28combination%28n%20-%201,%20k%29%29%0A%20%20%20%20%20%20%20%20%20%20%20%20output.extend%28%7B*s,%20%0A%20%20%20%20%20%20%20%20%20%20%20%20n%20-%201%7D%20for%20s%20in%20combination%28n%20-%201,%20k%20-%201%29%29%0A%20%20%20%20return%20output%0A%20%20%20%20%0An%20%3D%203%0Agot%20%3D%20%5Bcombination%28n,%20k%29%20for%20k%20in%20range%28-1,%20n%2B2%29%5D&mode=display&origin=opt-frontend.js&rawInputLstJSON=%5B%5D\n",
    "[isqrt]: https://dive4dec.github.io/optlite/#code=def%20isqrt%28n%29%3A%0A%20%20%20%20a,%20b%20%3D%200,%20n%20%2B%201%0A%20%20%20%20while%20a%20%2B%201%20%3C%20b%3A%0A%20%20%20%20%20%20%20%20c%20%3D%20%28a%20%2B%20b%29%20//%202%0A%20%20%20%20%20%20%20%20if%20n%20%3C%20c%20**%202%3A%0A%20%20%20%20%20%20%20%20%20%20%20%20b%20%3D%20c%0A%20%20%20%20%20%20%20%20else%3A%0A%20%20%20%20%20%20%20%20%20%20%20%20a%20%3D%20c%0A%20%20%20%20return%20a%0A%20%20%20%20%0A_%20%3D%20isqrt%2810**100%29&mode=display&origin=opt-frontend.js&rawInputLstJSON=%5B%5D"
   ]
  },
  {
   "cell_type": "markdown",
   "metadata": {},
   "source": [
    "In a programming exam, OPTLite can also run in [Safe Exam Browser](https://safeexambrowser.org/download_en.html) for students to debug a program."
   ]
  }
 ],
 "metadata": {
  "kernelspec": {
   "display_name": "Python 3 (ipykernel)",
   "language": "python",
   "name": "python3"
  },
  "language_info": {
   "codemirror_mode": {
    "name": "ipython",
    "version": 3
   },
   "file_extension": ".py",
   "mimetype": "text/x-python",
   "name": "python",
   "nbconvert_exporter": "python",
   "pygments_lexer": "ipython3",
   "version": "3.10.4"
  },
  "widgets": {
   "application/vnd.jupyter.widget-state+json": {
    "state": {},
    "version_major": 2,
    "version_minor": 0
   }
  }
 },
 "nbformat": 4,
 "nbformat_minor": 4
}
