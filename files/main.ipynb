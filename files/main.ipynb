{
  "metadata": {
    "language_info": {
      "file_extension": ".py",
      "mimetype": "text/x-python",
      "name": "python",
      "version": "3.10.2"
    },
    "kernelspec": {
      "name": "xeus-python",
      "display_name": "Python (XPython)",
      "language": "python"
    }
  },
  "nbformat_minor": 4,
  "nbformat": 4,
  "cells": [
    {
      "cell_type": "markdown",
      "source": "## DIVE Widgets",
      "metadata": {}
    },
    {
      "cell_type": "markdown",
      "source": "### JSXGraph",
      "metadata": {}
    },
    {
      "cell_type": "markdown",
      "source": "[JSXGraph](https://jsxgraph.org/) can be rendered using the following magic:",
      "metadata": {}
    },
    {
      "cell_type": "code",
      "source": "%reload_ext divewidgets\n%%jsxgraph?",
      "metadata": {
        "trusted": true
      },
      "execution_count": 1,
      "outputs": [
        {
          "output_type": "display_data",
          "data": {
            "text/plain": "\u001b[0;31mDocstring:\u001b[0m\n::\n\n  %jsxgraph [-w WIDTH] [-i ID] [-h HEIGHT] [-m MATHJAX_URL]\n\noptions:\n  -w WIDTH, --width WIDTH\n                        The width of the output frame (default: 600).\n  -i ID, --id ID        id of a <div> element for embeding the board.\n  -h HEIGHT, --height HEIGHT\n                        The height of the output frame (default: 600).\n  -m MATHJAX_URL, --mathjax_url MATHJAX_URL\n                        Absolute/relative url of the javascript file in\n                        loading mathjax.\n\u001b[0;31mFile:\u001b[0m      /tmp/xeus-python-kernel/envs/xeus-python-kernel/lib/python3.10/site-packages/divewidgets/magic.py\n"
          },
          "metadata": {}
        }
      ]
    },
    {
      "cell_type": "code",
      "source": "%%jsxgraph\nJXG.Options.text.useMathJax = true;\nconst brd = JXG.JSXGraph.initBoard('box', {\n    boundingbox: [-8, 8, 8, -4],\n    axis: true,\n    showCopyright: false\n});\nconst a = brd.create('slider', [\n    [3, 3],\n    [6, 3],\n    [-3, 1, 3]\n], {\n    name: 'a',\n    snapWidth: 0.1\n});\nconst b = brd.create('slider', [\n    [3, 2],\n    [6, 2],\n    [-3, 0, 3]\n], {\n    name: 'b',\n    snapWidth: 0.1\n});\nconst c = brd.create('slider', [\n    [3, 1],\n    [6, 1],\n    [-3, 0, 3]\n], {\n    name: 'c',\n    snapWidth: 0.1\n});\nbrd.create('functiongraph', [function(x) {\n    return a.Value() * x * x + b.Value() * x + c.Value();\n}, -10, 10]);\nbrd.create('text',\n    [-2, 0,\n        function() {\n            return String.raw`\n              \\begin{align*} \n              y&=ax^2+bx+c\\\\ \n               &= ${a.Value().toFixed(2)}x^2 \n                + ${b.Value().toFixed(2)}x \n                + ${c.Value().toFixed(2)}\n              \\end{align*}`;\n        }\n    ], {\n        anchorX: 'right',\n        anchorY: 'bottom'\n    });",
      "metadata": {
        "trusted": true
      },
      "execution_count": 14,
      "outputs": [
        {
          "output_type": "display_data",
          "data": {
            "application/vnd.jupyter.widget-view+json": {
              "model_id": "f06a87fa7d784da0a4fe72864a1bda62",
              "version_major": 2,
              "version_minor": 0
            },
            "text/plain": "JSXGraph(value=None, code=\"JXG.Options.text.useMathJax = true;\\nconst brd = JXG.JSXGraph.initBoard('box', {\\n …"
          },
          "metadata": {}
        }
      ]
    },
    {
      "cell_type": "markdown",
      "source": "The rendering can be customized with additional arguments:",
      "metadata": {}
    },
    {
      "cell_type": "code",
      "source": "%%jsxgraph -i jxgbox -h 300 -m https://www.cs.cityu.edu.hk/~ccha23/js/load-mathjax.js\nJXG.Options.text.useMathJax = true;\nconst brd = JXG.JSXGraph.initBoard('jxgbox', {\n    boundingbox: [-8, 8, 8, -4],\n    axis: true,\n    showCopyright: false\n});\nconst a = brd.create('slider', [\n    [3, 3],\n    [6, 3],\n    [-3, 1, 3]\n], {\n    name: 'a',\n    snapWidth: 0.1\n});\nconst b = brd.create('slider', [\n    [3, 2],\n    [6, 2],\n    [-3, 0, 3]\n], {\n    name: 'b',\n    snapWidth: 0.1\n});\nconst c = brd.create('slider', [\n    [3, 1],\n    [6, 1],\n    [-3, 0, 3]\n], {\n    name: 'c',\n    snapWidth: 0.1\n});\nbrd.create('functiongraph', [function(x) {\n    return a.Value() * x * x + b.Value() * x + c.Value();\n}, -10, 10]);\nbrd.create('text',\n    [-1, -1,\n        function() {\n            return String.raw`\n              \\begin{empheq}[left={\\text{Parabola} \\empheqlbrace}]{align}\n              y&=ax^2+bx+c\\tag{1}\\\\ \n               &= ${a.Value().toFixed(2)}x^2 \n                + ${b.Value().toFixed(2)}x \n                + ${c.Value().toFixed(2)} \\tag{2}\n              \\end{empheq}`;\n        }\n    ], {\n        anchorX: 'right',\n        anchorY: 'top'\n    });",
      "metadata": {
        "trusted": true
      },
      "execution_count": 15,
      "outputs": [
        {
          "output_type": "display_data",
          "data": {
            "application/vnd.jupyter.widget-view+json": {
              "model_id": "d9d43a9f9fbc45479b7471a25687ebf7",
              "version_major": 2,
              "version_minor": 0
            },
            "text/plain": "JSXGraph(value=None, code=\"JXG.Options.text.useMathJax = true;\\nconst brd = JXG.JSXGraph.initBoard('jxgbox', {…"
          },
          "metadata": {}
        }
      ]
    },
    {
      "cell_type": "markdown",
      "source": "The above typesets the label use [a custom configuration of mathjax3](https://www.cs.cityu.edu.hk/~ccha23/js/load-mathjax.js).",
      "metadata": {}
    }
  ]
}