{
  "metadata": {
    "kernelspec": {
      "name": "xeus-python",
      "display_name": "Python (XPython)",
      "language": "python"
    },
    "language_info": {
      "file_extension": ".py",
      "mimetype": "text/x-python",
      "name": "python",
      "version": "3.10.2"
    },
    "widgets": {
      "application/vnd.jupyter.widget-state+json": {
        "version_major": 2,
        "version_minor": 0,
        "state": {
          "3d7cab08a2824dc0b2063efe3df855bb": {
            "model_name": "LayoutModel",
            "model_module": "@jupyter-widgets/base",
            "model_module_version": "1.2.0",
            "state": {}
          },
          "4e949af5bb164ebf909c446f03ed0fa3": {
            "model_name": "JSWidgetModel",
            "model_module": "jupyter-divewidgets",
            "model_module_version": "^0.1.5",
            "state": {
              "_model_module_version": "^0.1.5",
              "_view_module_version": "^0.1.5",
              "html": "<!DOCTYPE html>\n<html>\n    <head>\n    <style>\n    html, body {\n        height: 100%;\n    }\n    body {\n        width: 100%;\n        display: flex;\n        padding: 0;\n        margin: 0;\n    }\n    .jxgbox {\n        width:100%; \n        flex-grow: 1;\n    }\n    </style>\n    <link rel=\"stylesheet\" type=\"text/css\" href=\"https://jsxgraph.org/distrib/jsxgraph.css\" />\n    <script type=\"text/javascript\" src=\"https://cdn.jsdelivr.net/npm/jsxgraph/distrib/jsxgraphcore.js\"></script>\n    <script type=\"text/javascript\" src=\"https://cdn.jsdelivr.net/npm/mathjax@3/es5/tex-chtml.js\"></script>\n    </head>\n<body>\n<div id=\"box\" class=\"jxgbox\"></div>\n</body>\n</html>",
              "js": "var board = JXG.JSXGraph.initBoard('box', {boundingbox: [-16, 16, 16, -16], grid:true, keepaspectratio:false,  showCopyright:false});\nxaxis = board.create('axis', [[0, 0], [1,0]], \n\t\t  {name:'x', \n\t\t\twithLabel: true, \n\t\t\tlabel: {position: 'rt',  // possible values are 'lft', 'rt', 'top', 'bot'\n\t\t\t\t\t offset: [-15, 20]   // (in pixels)\n\t\t\t\t\t }\n\t\t\t});\nyaxis = board.create('axis', [[0, 0], [0, 1]], \n\t\t  {name:'y', \n\t\t\twithLabel: true, \n\t\t\tlabel: {\n\t\t\t  position: 'rt',  // possible values are 'lft', 'rt', 'top', 'bot'\n\t\t\t  offset: [-20, 0]   // (in pixels)\n\t\t\t\t}\n\t\t\t});\n\n// Sliders\nvar h = board.create('slider', [[8, -6], [12,-6], [-12, 4, 12]], {name:'h', snapWidth: 0.5});\nvar k = board.create('slider', [[8, -8], [12,-8], [-12, 4, 12]], {name:'k', snapWidth: 0.5});\nvar r = board.create('slider', [[8, -10], [12,-10], [2, 3, 10]], {name:'r', snapWidth: 0.5});\n\n// Points\nvar p = board.create('point',[function(){return h.Value();}, function(){return k.Value();}],{name:\"P\", isDraggable:true, name:function(){return \"Center(\"+JXG.toFixed(h.Value(), 3)+\",\"+JXG.toFixed(k.Value(), 3)+\")\";}});\nvar q = board.create('point',[10, 10],{name:\"Q\"})\n\nvar qc = board.create('circle', [q, 0.5], {fillColor:'dodgerblue', fillOpacity:0.5})\n// Circle\nvar c = board.create(\"circle\",[p,function() {return r.Value()}],{method:\"pointRadius\"});\n\n// Lines\nvar radius_line = board.create('arrow',[[function(){return c.center.X();}, function(){return c.center.Y();}],[function(){return c.center.X()-c.Radius();}, function(){return c.center.Y();}]], {})\n\n\nvar radius_label = board.create('text', [function(){return c.center.X()-c.Radius()/2;}, function(){return c.center.Y()-0.5;}, function() {return JXG.toFixed(c.Radius(), 3);}]);\n\n// Add animations",
              "layout": "IPY_MODEL_3d7cab08a2824dc0b2063efe3df855bb"
            }
          },
          "40f96a3fa56747968e850d6e16adaed1": {
            "model_name": "LayoutModel",
            "model_module": "@jupyter-widgets/base",
            "model_module_version": "1.2.0",
            "state": {}
          },
          "e44dd4cdf0674c718475ec34c9a8311c": {
            "model_name": "JSWidgetModel",
            "model_module": "jupyter-divewidgets",
            "model_module_version": "^0.1.5",
            "state": {
              "_model_module_version": "^0.1.5",
              "_view_module_version": "^0.1.5",
              "html": "<!DOCTYPE html>\n<html>\n    <head>\n    <style>\n    html, body {\n        height: 100%;\n    }\n    body {\n        width: 100%;\n        display: flex;\n        padding: 0;\n        margin: 0;\n    }\n    .jxgbox {\n        width:100%; \n        flex-grow: 1;\n    }\n    </style>\n    <link rel=\"stylesheet\" type=\"text/css\" href=\"https://jsxgraph.org/distrib/jsxgraph.css\" />\n    <script type=\"text/javascript\" src=\"https://cdn.jsdelivr.net/npm/jsxgraph/distrib/jsxgraphcore.js\"></script>\n    <script type=\"text/javascript\" src=\"https://cdn.jsdelivr.net/npm/mathjax@3/es5/tex-chtml.js\"></script>\n    </head>\n<body>\n<div id=\"box\" class=\"jxgbox\"></div>\n</body>\n</html>",
              "js": "JXG.Options.text.useMathJax = true;\nvar board = JXG.JSXGraph.initBoard('box', {boundingbox: [-16, 16, 16, -16], grid:true, keepaspectratio:false,  showCopyright:false});\nxaxis = board.create('axis', [[0, 0], [1,0]], \n\t\t  {name:'x', \n\t\t\twithLabel: true, \n\t\t\tlabel: {position: 'rt',  // possible values are 'lft', 'rt', 'top', 'bot'\n\t\t\t\t\t offset: [-15, 20]   // (in pixels)\n\t\t\t\t\t }\n\t\t\t});\nyaxis = board.create('axis', [[0, 0], [0, 1]], \n\t\t  {name:'y', \n\t\t\twithLabel: true, \n\t\t\tlabel: {\n\t\t\t  position: 'rt',  // possible values are 'lft', 'rt', 'top', 'bot'\n\t\t\t  offset: [-20, 0]   // (in pixels)\n\t\t\t\t}\n\t\t\t});\n\n// Points\nvar p = board.create('point',[1, 6],{name:\"P\", snapToGrid:true});\nvar q = board.create('point',[-7, -2],{name:\"Q\", snapToGrid:true});\nvar r = board.create('point',[5, -2],{name:\"R\", snapToGrid:true});\n\n// Shapes\nvar c = board.create('circle', [p, q, r], {strokeColor: 'blue', center: {visible:true}});\nvar polygon = board.create('polygon', [p, q, r], {fillColor: 'yellow'});\nvar center = board.create('point', [function(){return c.center.X();}, function(){return c.center.Y();}], {color:'purple', name: function(){return \"center (\"+JXG.toFixed(c.center.X(), 3)+\",\"+JXG.toFixed(c.center.Y(), 3)+\")\";}});\n\n// Labels\nvar arrow = board.create('arrow',[c.center, [function(){return c.center.X()-c.Radius();}, function(){return c.center.Y();}]]);\nboard.create('text',[function(){return c.center.X()-c.Radius()+0.5;},function(){return c.center.Y()+0.5;},function(){return c.Radius().toFixed(2);}]);",
              "layout": "IPY_MODEL_40f96a3fa56747968e850d6e16adaed1"
            }
          },
          "378c337d6fa74b5b9bb8aea0442dd987": {
            "model_name": "LayoutModel",
            "model_module": "@jupyter-widgets/base",
            "model_module_version": "1.2.0",
            "state": {}
          },
          "7457ca20b60d4235bc0dbf02e8366120": {
            "model_name": "JSWidgetModel",
            "model_module": "jupyter-divewidgets",
            "model_module_version": "^0.1.5",
            "state": {
              "_model_module_version": "^0.1.5",
              "_view_module_version": "^0.1.5",
              "html": "<!DOCTYPE html>\n<html>\n    <head>\n    <style>\n    html, body {\n        height: 100%;\n    }\n    body {\n        width: 100%;\n        display: flex;\n        padding: 0;\n        margin: 0;\n    }\n    .jxgbox {\n        width:100%; \n        flex-grow: 1;\n    }\n    </style>\n    <link rel=\"stylesheet\" type=\"text/css\" href=\"https://jsxgraph.org/distrib/jsxgraph.css\" />\n    <script type=\"text/javascript\" src=\"https://cdn.jsdelivr.net/npm/jsxgraph/distrib/jsxgraphcore.js\"></script>\n    <script type=\"text/javascript\" src=\"https://cdn.jsdelivr.net/npm/mathjax@3/es5/tex-chtml.js\"></script>\n    </head>\n<body>\n<div id=\"box\" class=\"jxgbox\"></div>\n</body>\n</html>",
              "js": "JXG.Options.text.useMathJax = true;\nvar board = JXG.JSXGraph.initBoard('box', {boundingbox: [-15, 15, 15, -15], grid:true, keepaspectratio:false,  showCopyright:false});\nxaxis = board.create('axis', [[0, 0], [1,0]], \n\t\t  {name:'x', \n\t\t\twithLabel: true, \n\t\t\tlabel: {position: 'rt',  // possible values are 'lft', 'rt', 'top', 'bot'\n\t\t\t\t\t offset: [-15, 20]   // (in pixels)\n\t\t\t\t\t }\n\t\t\t});\nyaxis = board.create('axis', [[0, 0], [0, 1]], \n\t\t  {name:'y', \n\t\t\twithLabel: true, \n\t\t\tlabel: {\n\t\t\t  position: 'rt',  // possible values are 'lft', 'rt', 'top', 'bot'\n\t\t\t  offset: [-20, 0]   // (in pixels)\n\t\t\t\t}\n\t\t\t});\n\n// Step\nvar step = board.create('slider', [[7, -12], [11,-12], [0, 4, 4]], {name:'step', snapWidth: 1});\n\n\n// Step 1\nvar p = board.create('point',[0, 0],{name:\"P\", snapToGrid:true});\nvar q = board.create('point',[3, 8],{name:\"Q\", snapToGrid:true})\nvar c = board.create('circle', [p, q], {strokeColor: 'blue', center: {visible:true}});\nvar l1 = board.create('line', [p, q], {name:\"l1\", visible:false});\nvar l2 = board.create('line', [p, [function () {return p.X();}, function () {return p.Y() - c.Radius();}]], {name: \"l2\", visible:false});\nvar l3 = board.create('line', [[-10, function () {return q.Y();}], [10, function () {return q.Y() ;}]], {name: \"l3\", visible:false});\nvar i1 = board.create('intersection', [l2, l3], {name: \"I\", visible:false})\nvar tangent = board.create('line', [[function() {return q.X() - (i1.Y() - p.Y());}, function() {return q.Y() - (i1.X() - q.X());}], [function() {return q.X() + (i1.Y() - p.Y());}, function() {return q.Y() + (i1.X() - q.X());}]], {name: \"T\", strokeColor:'red'});\n\n// Step 2\nvar arrow = board.create('arrow',[p, q], {visible:function(){return step.Value()!=3;}});\nvar angle = board.create('angle', [l1, tangent, -1, 1], {radius:1, color:'green', name:'90°', visible:function(){return step.Value()==1;}})\nvar polygon = board.create('polygon', [p, q, [function(){return q.X();}, function(){return p.Y()}]], {fillColor: 'yellow', visible:function(){return step.Value()==2 || step.Value()==3;}, borders: {names:['', function(){return JXG.toFixed(q.Y() - c.center.Y(), 3);}, function(){return JXG.toFixed(q.X() - c.center.X(), 3);}], withLabel: true}});\nvar polygon2 = board.create('polygon', [q,\n                                       [function(){return q.X()}, function(){return q.Y()>0 ? q.Y()+Math.abs(p.X()-q.X()): q.Y()-Math.abs(p.X()-q.X()) }], \n\t\t\t\t\t\t\t\t\t\t\t\t\t\t\t\t\t\t\t\t[function(){return q.X()>0 ? q.X() - Math.abs(p.X()-q.Y()) : q.X() + Math.abs(p.X()-q.Y());}, function(){return q.Y()>0 ? q.Y()+Math.abs(p.X()-q.X()): q.Y()-Math.abs(p.X()-q.X()) }] \n\t\t\t\t\t\t\t\t\t\t\t\t\t\t\t\t\t\t\t\t],\n\t\t\t\t\t\t\t\t\t\t\t\t\t\t\t\t\t\t\t\t{fillColor: 'yellow', borders: {names:[function(){return JXG.toFixed(q.X() - c.center.X(), 3);},function(){return JXG.toFixed(q.Y() - c.center.Y(), 3);},''], withLabel: true}, \n\t\t\t\t\t\t\t\t\t\t\t\t\t\t\t\t\t\t\t\t visible:function(){return step.Value()==3;}});\nvar y_intercept = board.create('text', [-14, 13, function(){return '\\\\[y-intercept = '+JXG.toFixed(q.Y() + 1/((q.Y() - c.center.Y())/(q.X() - c.center.X()))*q.X(), 3)+'\\\\]';}], {visible:function(){return step.Value()!=0;}});\n\n// Step 3\n\nboard.create('text',[function(){return (p.X()+q.X())/2;},function(){return (p.Y()+q.Y())/2-0.5;},function(){return '\\\\[m = '+arrow.getSlope().toFixed(2)+'\\\\]'}], {visible:function(){return step.Value()==2 || step.Value()==4;}});\nboard.create('text',[function(){return q.X()+0.5;},function(){return q.Y()-0.5;},function(){return '\\\\[m_{tangent} = '+tangent.getSlope().toFixed(2)+'\\\\]'}], {visible: function(){return step.Value()==4}});",
              "layout": "IPY_MODEL_378c337d6fa74b5b9bb8aea0442dd987"
            }
          }
        }
      }
    }
  },
  "nbformat_minor": 5,
  "nbformat": 4,
  "cells": [
    {
      "cell_type": "markdown",
      "source": "# Locus of a Circle",
      "metadata": {
        "tags": []
      },
      "id": "9266365d-d522-4755-b05e-95a8b98c2bc6"
    },
    {
      "cell_type": "markdown",
      "source": "**DIVE into Math**\n\n---",
      "metadata": {
        "tags": []
      },
      "id": "4276feb8-2a4d-47cb-bdbc-75b1dee34a0c"
    },
    {
      "cell_type": "markdown",
      "source": "Contributor(s): \n\n- Glenn SALTER\n- Chao Zhao\n- Chung Chan\n\n---",
      "metadata": {
        "tags": []
      },
      "id": "5a9a5a79-89a7-41d0-a8df-42f3d04df4ce"
    },
    {
      "cell_type": "code",
      "source": "%reload_ext divewidgets",
      "metadata": {
        "trusted": true
      },
      "execution_count": 1,
      "outputs": [],
      "id": "b5a23dc2-b38d-4d65-9250-d4f85e3fdd90"
    },
    {
      "cell_type": "markdown",
      "source": "## Part I: Finding the equation of a circle given the coordinates of the centre and radius\n",
      "metadata": {},
      "id": "ea02d6a5-39fb-44e4-82a7-69223bf3077f"
    },
    {
      "cell_type": "markdown",
      "source": "\nThe equation of a circle is given by:\n\n$$r^2 = (y-k)^2 + (x-h)^2$$\n\nwhere r is the radius, and $(h, k)$ are the coordinates of the centre.",
      "metadata": {},
      "id": "b55ab32a-9443-40c0-b702-01093a92436e"
    },
    {
      "cell_type": "code",
      "source": "%%jsxgraph\nvar board = JXG.JSXGraph.initBoard('box', {boundingbox: [-16, 16, 16, -16], grid:true, keepaspectratio:false,  showCopyright:false});\nxaxis = board.create('axis', [[0, 0], [1,0]], \n\t\t  {name:'x', \n\t\t\twithLabel: true, \n\t\t\tlabel: {position: 'rt',  // possible values are 'lft', 'rt', 'top', 'bot'\n\t\t\t\t\t offset: [-15, 20]   // (in pixels)\n\t\t\t\t\t }\n\t\t\t});\nyaxis = board.create('axis', [[0, 0], [0, 1]], \n\t\t  {name:'y', \n\t\t\twithLabel: true, \n\t\t\tlabel: {\n\t\t\t  position: 'rt',  // possible values are 'lft', 'rt', 'top', 'bot'\n\t\t\t  offset: [-20, 0]   // (in pixels)\n\t\t\t\t}\n\t\t\t});\n\n// Sliders\nvar h = board.create('slider', [[8, -6], [12,-6], [-12, 4, 12]], {name:'h', snapWidth: 0.5});\nvar k = board.create('slider', [[8, -8], [12,-8], [-12, 4, 12]], {name:'k', snapWidth: 0.5});\nvar r = board.create('slider', [[8, -10], [12,-10], [2, 3, 10]], {name:'r', snapWidth: 0.5});\n\n// Points\nvar p = board.create('point',[function(){return h.Value();}, function(){return k.Value();}],{name:\"P\", isDraggable:true, name:function(){return \"Center(\"+JXG.toFixed(h.Value(), 3)+\",\"+JXG.toFixed(k.Value(), 3)+\")\";}});\nvar q = board.create('point',[10, 10],{name:\"Q\"})\n\nvar qc = board.create('circle', [q, 0.5], {fillColor:'dodgerblue', fillOpacity:0.5})\n// Circle\nvar c = board.create(\"circle\",[p,function() {return r.Value()}],{method:\"pointRadius\"});\n\n// Lines\nvar radius_line = board.create('arrow',[[function(){return c.center.X();}, function(){return c.center.Y();}],[function(){return c.center.X()-c.Radius();}, function(){return c.center.Y();}]], {})\n\n\nvar radius_label = board.create('text', [function(){return c.center.X()-c.Radius()/2;}, function(){return c.center.Y()-0.5;}, function() {return JXG.toFixed(c.Radius(), 3);}]);\n\n// Add animations",
      "metadata": {
        "trusted": true
      },
      "execution_count": 2,
      "outputs": [
        {
          "output_type": "display_data",
          "data": {
            "application/vnd.jupyter.widget-view+json": {
              "model_id": "4e949af5bb164ebf909c446f03ed0fa3",
              "version_major": 2,
              "version_minor": 0
            },
            "text/plain": "JSWidget(value=None, height=600, html='<!DOCTYPE html>\\n<html>\\n    <head>\\n    <style>\\n    html, body {\\n   …"
          },
          "metadata": {}
        }
      ],
      "id": "c36318c4-459d-44c8-a9fa-d1d087ffa5d6"
    },
    {
      "cell_type": "markdown",
      "source": "**Exercise**:  \nGiven the following equation:\n\n$$(x-2)^2 + (y+3)^2 = 9$$  \n\n1. Find the centre and the radius, and    \n2. draw the circle.  \n\nYou may use the graph tool above to tune the parameters h, k, and r.  \n  \nTake a screenshot of the graph and paste image in the cell below.",
      "metadata": {},
      "id": "24d96589-cdbf-4192-861e-b201cf3741b8"
    },
    {
      "cell_type": "markdown",
      "source": "YOUR ANSWER HERE",
      "metadata": {
        "deletable": false,
        "nbgrader": {
          "cell_type": "markdown",
          "checksum": "11b903531c3dc15001aba9cee6eb2924",
          "grade": true,
          "grade_id": "p1",
          "locked": false,
          "points": 1,
          "schema_version": 3,
          "solution": true,
          "task": false
        },
        "tags": []
      },
      "id": "6264ee1a-c78d-482f-99e5-6ab0478bd579"
    },
    {
      "cell_type": "markdown",
      "source": "**Exercise**:  \n\n![](figures/q2.dio.svg) \n\nFrom the graph above, find out the equation of the circle?",
      "metadata": {},
      "id": "007a2677-f4fd-4fa9-8851-5f9a337ffd31"
    },
    {
      "cell_type": "markdown",
      "source": "YOUR ANSWER HERE",
      "metadata": {
        "deletable": false,
        "nbgrader": {
          "cell_type": "markdown",
          "checksum": "60fdd1f7ebf4bcb905d160e67f88525a",
          "grade": true,
          "grade_id": "p2",
          "locked": false,
          "points": 1,
          "schema_version": 3,
          "solution": true,
          "task": false
        },
        "tags": []
      },
      "id": "506867ad-718f-4f33-894a-6ea79eadbc4e"
    },
    {
      "cell_type": "markdown",
      "source": "### Distance between a point and a circle",
      "metadata": {},
      "id": "fa2a1f0c-2c28-4a27-8db4-476916a1791f"
    },
    {
      "cell_type": "markdown",
      "source": "Use the graph above, and move the point Q around.",
      "metadata": {},
      "id": "35d2764f-cbf9-4e28-9aa7-583672820ca9"
    },
    {
      "cell_type": "markdown",
      "source": "**Exercise**  \n\nIf you plug in the coordinates of $Q(x, y)$ into the equation of a circle, it will satisfity one of the following conditions:\n\n$$\n\\begin{align}\n(x-h)^2 + (y-k)^2 \n\\begin{cases}\n= r^2 & \\text{(1)}\\\\\n> r^2 & \\text{(2)}\\\\\n< r^2 & \\text{(3)}\n\\end{cases}\n\\end{align}\n$$\n\nWhat does it say about the point Q when it satisfies each of the three conditions?",
      "metadata": {},
      "id": "55a368f4-738b-4781-b91e-2d011ec94491"
    },
    {
      "cell_type": "markdown",
      "source": "YOUR ANSWER HERE",
      "metadata": {
        "deletable": false,
        "nbgrader": {
          "cell_type": "markdown",
          "checksum": "c8b504260721e8337533afb4b4ad5fa8",
          "grade": true,
          "grade_id": "p3",
          "locked": false,
          "points": 1,
          "schema_version": 3,
          "solution": true,
          "task": false
        },
        "tags": []
      },
      "id": "38b7c322-da16-4fb5-9191-4f81526bcb50"
    },
    {
      "cell_type": "markdown",
      "source": "## Part II: Finding the equation of a circle based on any three points on the circle",
      "metadata": {},
      "id": "09624969-e355-45e0-a6a7-f71e50d89754"
    },
    {
      "cell_type": "code",
      "source": " %%jsxgraph\nJXG.Options.text.useMathJax = true;\nvar board = JXG.JSXGraph.initBoard('box', {boundingbox: [-16, 16, 16, -16], grid:true, keepaspectratio:false,  showCopyright:false});\nxaxis = board.create('axis', [[0, 0], [1,0]], \n\t\t  {name:'x', \n\t\t\twithLabel: true, \n\t\t\tlabel: {position: 'rt',  // possible values are 'lft', 'rt', 'top', 'bot'\n\t\t\t\t\t offset: [-15, 20]   // (in pixels)\n\t\t\t\t\t }\n\t\t\t});\nyaxis = board.create('axis', [[0, 0], [0, 1]], \n\t\t  {name:'y', \n\t\t\twithLabel: true, \n\t\t\tlabel: {\n\t\t\t  position: 'rt',  // possible values are 'lft', 'rt', 'top', 'bot'\n\t\t\t  offset: [-20, 0]   // (in pixels)\n\t\t\t\t}\n\t\t\t});\n\n// Points\nvar p = board.create('point',[1, 6],{name:\"P\", snapToGrid:true});\nvar q = board.create('point',[-7, -2],{name:\"Q\", snapToGrid:true});\nvar r = board.create('point',[5, -2],{name:\"R\", snapToGrid:true});\n\n// Shapes\nvar c = board.create('circle', [p, q, r], {strokeColor: 'blue', center: {visible:true}});\nvar polygon = board.create('polygon', [p, q, r], {fillColor: 'yellow'});\nvar center = board.create('point', [function(){return c.center.X();}, function(){return c.center.Y();}], {color:'purple', name: function(){return \"center (\"+JXG.toFixed(c.center.X(), 3)+\",\"+JXG.toFixed(c.center.Y(), 3)+\")\";}});\n\n// Labels\nvar arrow = board.create('arrow',[c.center, [function(){return c.center.X()-c.Radius();}, function(){return c.center.Y();}]]);\nboard.create('text',[function(){return c.center.X()-c.Radius()+0.5;},function(){return c.center.Y()+0.5;},function(){return c.Radius().toFixed(2);}]);",
      "metadata": {
        "trusted": true
      },
      "execution_count": 3,
      "outputs": [
        {
          "output_type": "display_data",
          "data": {
            "application/vnd.jupyter.widget-view+json": {
              "model_id": "e44dd4cdf0674c718475ec34c9a8311c",
              "version_major": 2,
              "version_minor": 0
            },
            "text/plain": "JSWidget(value=None, height=600, html='<!DOCTYPE html>\\n<html>\\n    <head>\\n    <style>\\n    html, body {\\n   …"
          },
          "metadata": {}
        }
      ],
      "id": "ad919c04-1026-4a37-9ee2-e92d98939f3d"
    },
    {
      "cell_type": "markdown",
      "source": "Let's say we're given the points $(1, 1), (2, 4), (5, 3)$\n  \n1. We can rearrange the general equation from $r^2 = (y-h)^2 + (x-k)^2 \\implies (y-h)^2+(x-c)^2-r^2=0$\n2. Plug in the three points to create three quadratic equations\n\n  $$(1-h)^2+(1-k)^2-r^2=0$$\n\n  $$(2-h)^2+(4-k)^2-r^2=0$$\n\n  $$(5-h)^2+(3-k)^2-r^2=0$$\n\n3. Subtract the first from the second, and the first from the third to create two linear equations\n\n  $$-2h-6(k-3)=0$$\n\n  $$(k+7)-h=0$$\n\n4. Solve for the center as\n\n  $$(h,k)=(3,2)$$\n\n5. Plug the values for the center in any of the three quadratic equations above (I choose the first) and solve for r\n\n  $$(1-3)^2+(1-2)^2-r^2=0$$\n\n  $$5-r^2=0$$\n\n   $$r=\\sqrt{5}$$",
      "metadata": {},
      "id": "d5be3954-eab2-4e94-9196-e826a5c2f137"
    },
    {
      "cell_type": "markdown",
      "source": "**Exercise**  \nTry modifying the graph above to satisfy the following cases:  \n(1)  P, Q, R are collinear;  \n(2)  P, Q, R are not all distinct.    \n  \nYou will find that the graph fails to visualize the circle.  \nCan you explain why in each of the cases?",
      "metadata": {},
      "id": "e3b3a9b2-abdc-4e61-b5c0-df592b45f353"
    },
    {
      "cell_type": "markdown",
      "source": "YOUR ANSWER HERE",
      "metadata": {
        "deletable": false,
        "nbgrader": {
          "cell_type": "markdown",
          "checksum": "e95afce7c7a31f343c985f237b91b56a",
          "grade": true,
          "grade_id": "p4",
          "locked": false,
          "points": 1,
          "schema_version": 3,
          "solution": true,
          "task": false
        },
        "tags": []
      },
      "id": "3ac2df2f-4a0c-417c-a81f-f7cb2c527562"
    },
    {
      "cell_type": "markdown",
      "source": "## Part III: Finding the equation of a tangent to a circle",
      "metadata": {},
      "id": "728ddcbf-1487-4a9a-8746-06ec69464e5a"
    },
    {
      "cell_type": "markdown",
      "source": "The tangent of any point $(x, y)$ on the circle will have an equation in the form $y=mx+c$, so to find the equation you need to find the values of $m$ and $c$. \n\n1. To find the gradient $m$ of the tangent.\nWe draw a line from the centre of the cirlce to the tangent point. \nThe gradient of that line is $m = \\frac{\\Delta y}{\\Delta x}$\n\n> The radius that joins the centre of the circle to the point Q is at right angles to the tangent (90°).\n\n>So the gradient of the tangent is the negative reciprocal of the gradient of the radius.\n\n> Thus, $m_{tangent} = \\frac{-1}{m}$\n\n2. To find the y-intercept $c$, simply substitute the values $x, y$ of the point into the equation.\n\n$$c = y - m_{tangent} x$$\n",
      "metadata": {},
      "id": "675e65f9-d462-44c9-a648-b5b12bc18a06"
    },
    {
      "cell_type": "code",
      "source": " %%jsxgraph\nJXG.Options.text.useMathJax = true;\nvar board = JXG.JSXGraph.initBoard('box', {boundingbox: [-15, 15, 15, -15], grid:true, keepaspectratio:false,  showCopyright:false});\nxaxis = board.create('axis', [[0, 0], [1,0]], \n\t\t  {name:'x', \n\t\t\twithLabel: true, \n\t\t\tlabel: {position: 'rt',  // possible values are 'lft', 'rt', 'top', 'bot'\n\t\t\t\t\t offset: [-15, 20]   // (in pixels)\n\t\t\t\t\t }\n\t\t\t});\nyaxis = board.create('axis', [[0, 0], [0, 1]], \n\t\t  {name:'y', \n\t\t\twithLabel: true, \n\t\t\tlabel: {\n\t\t\t  position: 'rt',  // possible values are 'lft', 'rt', 'top', 'bot'\n\t\t\t  offset: [-20, 0]   // (in pixels)\n\t\t\t\t}\n\t\t\t});\n\n// Step\nvar step = board.create('slider', [[7, -12], [11,-12], [0, 4, 4]], {name:'step', snapWidth: 1});\n\n\n// Step 1\nvar p = board.create('point',[0, 0],{name:\"P\", snapToGrid:true});\nvar q = board.create('point',[3, 8],{name:\"Q\", snapToGrid:true})\nvar c = board.create('circle', [p, q], {strokeColor: 'blue', center: {visible:true}});\nvar l1 = board.create('line', [p, q], {name:\"l1\", visible:false});\nvar l2 = board.create('line', [p, [function () {return p.X();}, function () {return p.Y() - c.Radius();}]], {name: \"l2\", visible:false});\nvar l3 = board.create('line', [[-10, function () {return q.Y();}], [10, function () {return q.Y() ;}]], {name: \"l3\", visible:false});\nvar i1 = board.create('intersection', [l2, l3], {name: \"I\", visible:false})\nvar tangent = board.create('line', [[function() {return q.X() - (i1.Y() - p.Y());}, function() {return q.Y() - (i1.X() - q.X());}], [function() {return q.X() + (i1.Y() - p.Y());}, function() {return q.Y() + (i1.X() - q.X());}]], {name: \"T\", strokeColor:'red'});\n\n// Step 2\nvar arrow = board.create('arrow',[p, q], {visible:function(){return step.Value()!=3;}});\nvar angle = board.create('angle', [l1, tangent, -1, 1], {radius:1, color:'green', name:'90°', visible:function(){return step.Value()==1;}})\nvar polygon = board.create('polygon', [p, q, [function(){return q.X();}, function(){return p.Y()}]], {fillColor: 'yellow', visible:function(){return step.Value()==2 || step.Value()==3;}, borders: {names:['', function(){return JXG.toFixed(q.Y() - c.center.Y(), 3);}, function(){return JXG.toFixed(q.X() - c.center.X(), 3);}], withLabel: true}});\nvar polygon2 = board.create('polygon', [q,\n                                        [function(){return q.X()}, function(){return q.Y()>0 ? q.Y()+Math.abs(p.X()-q.X()): q.Y()-Math.abs(p.X()-q.X()) }], \n\t\t\t\t\t\t\t\t\t\t\t\t\t\t\t\t\t\t\t\t[function(){return q.X()>0 ? q.X() - Math.abs(p.X()-q.Y()) : q.X() + Math.abs(p.X()-q.Y());}, function(){return q.Y()>0 ? q.Y()+Math.abs(p.X()-q.X()): q.Y()-Math.abs(p.X()-q.X()) }] \n\t\t\t\t\t\t\t\t\t\t\t\t\t\t\t\t\t\t\t\t],\n\t\t\t\t\t\t\t\t\t\t\t\t\t\t\t\t\t\t\t\t{fillColor: 'yellow', borders: {names:[function(){return JXG.toFixed(q.X() - c.center.X(), 3);},function(){return JXG.toFixed(q.Y() - c.center.Y(), 3);},''], withLabel: true}, \n\t\t\t\t\t\t\t\t\t\t\t\t\t\t\t\t\t\t\t\t visible:function(){return step.Value()==3;}});\nvar y_intercept = board.create('text', [-14, 13, function(){return '\\\\[y-intercept = '+JXG.toFixed(q.Y() + 1/((q.Y() - c.center.Y())/(q.X() - c.center.X()))*q.X(), 3)+'\\\\]';}], {visible:function(){return step.Value()!=0;}});\n\n// Step 3\n\nboard.create('text',[function(){return (p.X()+q.X())/2;},function(){return (p.Y()+q.Y())/2-0.5;},function(){return '\\\\[m = '+arrow.getSlope().toFixed(2)+'\\\\]'}], {visible:function(){return step.Value()==2 || step.Value()==4;}});\nboard.create('text',[function(){return q.X()+0.5;},function(){return q.Y()-0.5;},function(){return '\\\\[m_{tangent} = '+tangent.getSlope().toFixed(2)+'\\\\]'}], {visible: function(){return step.Value()==4}});\t\t\t\t\t\t\t\t\t\t\t\t\t\t\t\n",
      "metadata": {
        "trusted": true
      },
      "execution_count": 4,
      "outputs": [
        {
          "output_type": "display_data",
          "data": {
            "application/vnd.jupyter.widget-view+json": {
              "model_id": "7457ca20b60d4235bc0dbf02e8366120",
              "version_major": 2,
              "version_minor": 0
            },
            "text/plain": "JSWidget(value=None, height=600, html='<!DOCTYPE html>\\n<html>\\n    <head>\\n    <style>\\n    html, body {\\n   …"
          },
          "metadata": {}
        }
      ],
      "id": "28422bbd-5b8e-4206-a174-1270074b203d"
    },
    {
      "cell_type": "markdown",
      "source": "\nUnderstanding tangents to circles at any arbitrary point $Q(x, y)$ on a circle:  \nYou can move the slider above to illustrate each of the following steps:  \n1.   The tangent line is always perpendicular to the line from the center $P$ to the point $Q$,  \n2.   The gradient $m$ of the line from the center to $Q$ is $\\frac{\\Delta X}{\\Delta Y}$ or simply $\\frac{run}{rise}$,   \n3.   The gradient of the tangent is given by $-\\frac{\\Delta Y}{\\Delta X}$,  \n4.   The gradient of the tangent is equivalent to $-\\frac{-1}{m}$.  \n",
      "metadata": {},
      "id": "5cc2b000-ae88-410f-94af-eb9b75ae8353"
    },
    {
      "cell_type": "markdown",
      "source": "**Exercise**  \nMove the step slider to 0, and try solve the following problem.  \nGiven a circle with center $P(1, 1)$ with a radius of 5, find the equation of the tangent at the point $Q(5, 6)$ . \n",
      "metadata": {},
      "id": "71d67840-7f7a-4590-b635-cb1f28d759c0"
    },
    {
      "cell_type": "markdown",
      "source": "YOUR ANSWER HERE",
      "metadata": {
        "deletable": false,
        "nbgrader": {
          "cell_type": "markdown",
          "checksum": "916f1693024d3b9864680cccb92f8d5f",
          "grade": true,
          "grade_id": "p5",
          "locked": false,
          "points": 1,
          "schema_version": 3,
          "solution": true,
          "task": false
        },
        "tags": []
      },
      "id": "d0084dec-ed58-41a7-bafb-7481e06bdec6"
    }
  ]
}