{
 "cells": [
  {
   "cell_type": "markdown",
   "id": "c5485de7-c203-4498-ac15-bfd9d8a3043f",
   "metadata": {},
   "source": [
    "# Properties of a Circle"
   ]
  },
  {
   "cell_type": "markdown",
   "id": "d06c638f-b164-41b6-8ca4-79a8b76d8d4c",
   "metadata": {},
   "source": [
    "**DIVE into Math**\n",
    "\n",
    "---"
   ]
  },
  {
   "cell_type": "markdown",
   "id": "08438d45-aae8-4032-b03b-778f5faf8f4c",
   "metadata": {},
   "source": [
    "Contributor(s): \n",
    "\n",
    "- Jinhe HU  \n",
    "- Chao Zhao\n",
    "\n",
    "---"
   ]
  },
  {
   "cell_type": "code",
   "execution_count": null,
   "id": "81dabe1d-b1a9-4563-a401-9d0abd7280e0",
   "metadata": {},
   "outputs": [],
   "source": [
    "%reload_ext divewidgets"
   ]
  },
  {
   "cell_type": "markdown",
   "id": "28b80aec-ebef-4228-8b20-17223a8ebd21",
   "metadata": {},
   "source": [
    "## Part I: Arc\n",
    "\n",
    "The arc of a circle is a segment of the circumference of the circle.  It is defined by a center, one point that defines the radius, and a third point that defines the angle of the arc.  \n",
    "In the following graph:  \n",
    "- Point $A$: the center of the circle.  \n",
    "- Point $B$: defines the radius.  \n",
    "- Point $C$: defines the angle of the arc.  \n",
    "\n"
   ]
  },
  {
   "cell_type": "code",
   "execution_count": null,
   "id": "861557fb-5e6e-4c5f-a0ac-8a7b223bc090",
   "metadata": {
    "jupyter": {
     "source_hidden": true
    },
    "tags": []
   },
   "outputs": [],
   "source": [
    "%%jsxgraph\n",
    "JXG.Options.text.useMathJax = true;\n",
    "var board = JXG.JSXGraph.initBoard('box', {boundingbox: [-15, 15, 15, -15], axis:true,grid:true, keepaspectratio:false,  showCopyright:false});\n",
    "var p1 = board.create('point', [5.0, 5.0]);\n",
    "var p2 = board.create('point', [2.0, 2.0]);\n",
    "var p3 = board.create('point', [3.5, 1.0]);\n",
    "\n",
    "var a = board.create('arc', [p1, p2, p3]);\n",
    "board.create('text',[1,6,function(){return 'arc length: '+Math.round(a.Value()*100)/100}])"
   ]
  },
  {
   "cell_type": "markdown",
   "id": "7a6815c1-7b07-4009-8e18-7efbba38d2d6",
   "metadata": {},
   "source": [
    "### Arc length\n",
    "\n",
    "The length of an arc in a circle can be calculated using different formulas, based on the unit of the central angle of the arc. The measurements of the central angle can be given in degrees or radians, and accordingly, we calculate the arc length of a circle.\n",
    "\n",
    "Denote the arc length as $s$, the angle which the arc subtends at the center of the circle as $\\theta$, and the radius of the circle as $r$, then\n",
    "- if $\\theta$ is in radian: $s = \\theta r$.  \n",
    "- if $\\theta$ is in degree: $s = \\frac{\\theta}{180^{\\circ}}  \\pi r$.\n",
    "\n"
   ]
  },
  {
   "cell_type": "code",
   "execution_count": null,
   "id": "e429f447-0bd1-46c7-af6c-0ab26ca5dfa5",
   "metadata": {
    "jupyter": {
     "source_hidden": true
    },
    "tags": []
   },
   "outputs": [],
   "source": [
    "%%jsxgraph\n",
    "JXG.Options.text.useMathJax = true;\n",
    "var board = JXG.JSXGraph.initBoard('box', {boundingbox: [-15, 15, 15, -15], axis:true,grid:true, keepaspectratio:false,  showCopyright:false});\n",
    "// Create an arc out of three free points\n",
    "var p1 = board.create('point', [1.5, 5.0]),\n",
    "    p2 = board.create('point', [1.0, 0.5]),\n",
    "    p3 = board.create('point', [5.0, 3.0]),\n",
    "\n",
    "    a = board.create('circumcirclesector', [p1, p2, p3]);"
   ]
  },
  {
   "cell_type": "markdown",
   "id": "1852060b-00fe-4401-885c-f3e2db9434c6",
   "metadata": {},
   "source": [
    "## Part II: Chord of Circle\n",
    "A chord of a circle is a straight line segment whose endpoints both lie on a circular arc. The infinite line extension of a chord is a secant line, or just secant.  \n",
    "More generally, a chord is a line segment joining two points on any curve, for instance, an ellipse.   \n",
    "A chord that passes through a circle's center point is the circle's diameter. The word chord is from the Latin chorda meaning bowstring."
   ]
  },
  {
   "cell_type": "markdown",
   "id": "6099cf84-c960-406a-afca-0d3aad31037d",
   "metadata": {},
   "source": [
    "### Among properties of chords of a circle are the following:\n",
    "\n",
    "(1) Chords are equidistant from the center if and only if their lengths are equal.\n",
    "\n",
    "(2) Equal chords are subtended by equal angles from the center of the circle.\n",
    "\n",
    "(3) A chord that passes through the center of a circle is called a diameter and is the longest chord of that specific circle.\n",
    "\n",
    "(4) If the line extensions (secant lines) of chords $AB$ and $CD$ intersect at a point P, then their lengths satisfy $$AP\\cdot PB = CP\\cdot PD$$ (power of a point theorem)."
   ]
  },
  {
   "cell_type": "markdown",
   "id": "fb9d6fff-f5d9-44ef-9fa3-74a34d933063",
   "metadata": {},
   "source": [
    "### Other properties:\n",
    "(1) If two chords of a circle are equal, then their corresponding arcs are congruent and conversely, if two arcs are congruent, then their corresponding chords are equal.\n",
    "\n",
    "(2) In equal circles (or in the same circle), if two chords are equal, they cut off equal arcs.  \n",
    "\n",
    "(3) The perpendicular from the center of a circle to a chord bisects the chord.\n",
    "\n",
    "(4) The straight line joining the center and the mid-point of a chord which is not a diameter is perpendicular to the chord.\n",
    "\n",
    "(5) The perpendicular bisector of any chord of any given circle must pass through the center of that circle.\n",
    "\n",
    "(6) Equal chords of a circle (or of congruent circles) are equidistant from the center (or centers).\n",
    "\n",
    "(7) Chords equidistant from the center are equal."
   ]
  },
  {
   "cell_type": "code",
   "execution_count": null,
   "id": "3cc5f2c7-b2a5-42ff-b268-20dd65a3e1a9",
   "metadata": {
    "jupyter": {
     "source_hidden": true
    },
    "tags": []
   },
   "outputs": [],
   "source": [
    "%%jsxgraph\n",
    "JXG.Options.text.useMathJax = true;\n",
    "var board = JXG.JSXGraph.initBoard('box', {boundingbox: [-10, 10, 10, -10], axis:true,grid:true, keepaspectratio:false,  showCopyright:false});\n",
    "\n",
    "\n",
    "var p = board.create('point',[1,1],{name:\"P\", snapToGrid:true});\n",
    "var q = board.create('point',[2,4],{name:\"Q\", snapToGrid:true});\n",
    "var r = board.create('point',[5,3],{name:\"R\", snapToGrid:true});\n",
    "\n",
    "\n",
    "var c = board.create('circle', [p, q, r], {strokeColor: 'blue', center: {visible:true}});\n",
    "var l1 = board.create('segment', [p, q], {strokeColor: 'red'});\n",
    "var l2 = board.create('segment', [r, q], {strokeColor: 'red'});\n",
    "\n",
    "\n",
    "var center = board.create('text', [-9, 9, function(){return \"\\\\[center (\"+JXG.toFixed(c.center.X(), 3)+\",\"+JXG.toFixed(c.center.Y(), 3)+\")\\\\]\";}]);\n",
    "var radius = board.create('text', [-9, 8, function() {return \"\\\\[radius = \"+JXG.toFixed(c.Radius(), 3)+\"\\\\]\";}]);\n"
   ]
  },
  {
   "cell_type": "markdown",
   "id": "f360e066-a008-4eb7-87b1-793f0121a9e8",
   "metadata": {},
   "source": [
    " ## Part III: Circle"
   ]
  },
  {
   "cell_type": "markdown",
   "id": "e833e392-cc58-4bdd-bfbd-28f51fa5f104",
   "metadata": {
    "tags": []
   },
   "source": [
    "\n",
    " ### Three points make a circle\n",
    " There is one and only one circle passing through given three non-collinear points.\n",
    "\n",
    " Steps: \n",
    " \n",
    " 1. Connect three points, form a triangle.\n",
    "\n",
    " 2. Make a perpendicular bisector of any two sides and meet at a point, which is the center of the circle. And it's the same distance from three points.\n",
    "\n",
    "\n"
   ]
  },
  {
   "cell_type": "code",
   "execution_count": null,
   "id": "cb6ccd42-65d3-4270-b575-d823311a44db",
   "metadata": {
    "jupyter": {
     "source_hidden": true
    },
    "tags": []
   },
   "outputs": [],
   "source": [
    "%%jsxgraph\n",
    "JXG.Options.text.useMathJax = true;\n",
    "var board = JXG.JSXGraph.initBoard('box', {boundingbox: [-10, 10, 10, -10], axis:true,grid:true, keepaspectratio:false,  showCopyright:false});\n",
    "\n",
    "\n",
    "var p = board.create('point',[1,1],{name:\"P\", snapToGrid:true});\n",
    "var q = board.create('point',[2,4],{name:\"Q\", snapToGrid:true});\n",
    "var r = board.create('point',[5,3],{name:\"R\", snapToGrid:true});\n",
    "\n",
    "\n",
    "var c = board.create('circle', [p, q, r], {strokeColor: 'blue', center: {visible:true}});\n",
    "\n",
    "var polygon = board.create('polygon', [p, q, r], {fillColor: 'yellow'});\n",
    "\n",
    "\n",
    "var center = board.create('text', [-9, 9, function(){return \"\\\\[center (\"+JXG.toFixed(c.center.X(), 3)+\",\"+JXG.toFixed(c.center.Y(), 3)+\")\\\\]\";}]);\n",
    "var radius = board.create('text', [-9, 8, function() {return \"\\\\[radius = \"+JXG.toFixed(c.Radius(), 3)+\"\\\\]\";}]);\n"
   ]
  },
  {
   "cell_type": "markdown",
   "id": "4ff7398a-6a5a-4574-a6c6-19fa4d74cc1b",
   "metadata": {},
   "source": [
    "### The angle properties of a circle\n",
    "Properties:\n",
    "\n",
    "1. The angle subtended by an arc of a circle at the center is double the angle subtended by the arc at any point on the remaining part of the circumference.\n",
    "\n",
    "2. Angles in the same segment are equal. \n",
    "\n",
    "3. The arcs are proportional to their corresponding angles at the circumference.\n",
    "\n",
    "4. The angle in a semi-circle is a right angle.\n",
    "\n",
    "5. If the angle at the circumference is a right angle, then the chord that subtends the angle is a diameter.\n",
    "\n"
   ]
  },
  {
   "cell_type": "markdown",
   "id": "f220e015-ed0c-4f27-b8c9-04df5cc62d00",
   "metadata": {},
   "source": [
    "### Radius & center together define a circle\n",
    "Just like the equation of a line, which is determined by Slope and Intercept. A circle is determined by the **radius** and the **center**. The **center** determines the position and the **radius** determines the size.  \n",
    "For a circle with center $(h,k)$ and radius $r$, the function is:  \n",
    "$$r^2 = (y-k)^2 + (x-h)^2$$\n",
    "\n"
   ]
  },
  {
   "cell_type": "code",
   "execution_count": null,
   "id": "14c859ec-de07-4ea6-a0d3-a9113a66ef45",
   "metadata": {
    "jupyter": {
     "source_hidden": true
    },
    "tags": []
   },
   "outputs": [],
   "source": [
    "%%jsxgraph\n",
    "JXG.Options.text.useMathJax = true;\n",
    "var board = JXG.JSXGraph.initBoard('box', {boundingbox: [-15, 15, 15, -15], axis:true,grid:true, keepaspectratio:false,  showCopyright:false});\n",
    "// Create an arc out of three free points\n",
    "var p1 = board.create('point', [1.5, 5.0]),\n",
    "    p2 = board.create('point', [1.0, 0.5]),\n",
    "    p3 = board.create('point', [5.0, 3.0]),\n",
    "\n",
    "    a = board.create('circle', [p1, p2, p3]);\n",
    "var ct = board.create('circumcenter', [p1, p2, p3]);\n",
    "var polygon = board.create('polygon', [p1, p2, ct], {fillColor: 'yellow'});\n",
    "var polygon = board.create('polygon', [p1, p3, ct], {fillColor: 'red'});\n",
    "var polygon = board.create('polygon', [p3, p2, ct], {fillColor: 'blue'});\n",
    "var a1 = board.create('angle', [p1, ct,p2]);\n",
    "var a2 = board.create('angle', [p1, ct,p3]);\n",
    "var a3 = board.create('angle', [p3, ct,p2]);\n",
    "t = board.create('text', [-2, 2, function() { return JXG.toFixed(a1.Value(), 2); }]);\n",
    "t1 = board.create('text', [5, 5, function() { return JXG.toFixed(a3.Value(), 2); }]);\n",
    "t2 = board.create('text', [5, -3, function() { return JXG.toFixed(a2.Value(), 2); }]);"
   ]
  },
  {
   "cell_type": "markdown",
   "id": "d4c0f360-61e9-4dff-a725-c56682605313",
   "metadata": {},
   "source": [
    "## Part IV: Cyclic quadrilateral"
   ]
  },
  {
   "cell_type": "markdown",
   "id": "e6fb1428-8da2-4a38-8daa-b7200c698c6d",
   "metadata": {},
   "source": [
    "### The properties of a cyclic quadrilateral\n",
    "\n",
    "In a cyclic quadrilateral, all the four vertices of the quadrilateral lie on the circumference of the circle. The four sides of the inscribed quadrilateral are the four chords of the circle. The measure of an exterior angle at a vertex is equal to the opposite interior angle."
   ]
  },
  {
   "cell_type": "code",
   "execution_count": null,
   "id": "a17d23fb-7cc9-4744-8623-e6bb4b944099",
   "metadata": {
    "jupyter": {
     "source_hidden": true
    },
    "tags": []
   },
   "outputs": [],
   "source": [
    "%%jsxgraph\n",
    "JXG.Options.text.useMathJax = true;\n",
    "var board = JXG.JSXGraph.initBoard('box', {boundingbox: [-15, 15, 15, -15], axis:true,grid:true, keepaspectratio:false,  showCopyright:false});\n",
    "\n",
    "var p1 = board.create('point', [0, 2.0],{name:'O',face:'',label:{offset:[-10,5]}});\n",
    "var c1 = board.create('circle', [p1, 6],);\n",
    "var g1 = board.create('glider', [-1.0, 4, c1],{face:'',label:{offset:[-10,10]}});\n",
    "\n",
    "var g2 = board.create('glider', [1.0, 4, c1],{face:''});\n",
    "\n",
    "var g3 = board.create('glider', [-1.2, 1, c1],{face:'',label:{offset:[-15,-5]}});\n",
    "var g4 = board.create('glider', [1.0, 1, c1],{face:'',label:{offset:[5,-5]}});\n",
    "\n",
    "var l1 = board.create('segment', [g1, g2],);\n",
    "\n",
    "var l2 = board.create('segment', [g2, g4],);\n",
    "var l3 = board.create('segment', [g3, g4]);\n",
    "var l4 = board.create('segment', [g1, g3]);\n",
    "\n",
    "var a1 = board.create('angle', [g3, g1, g2],{radius:1,color:'blue'});\n",
    "var a2 = board.create('angle', [g2, g4, g3],{radius:1,color:'blue'});\n",
    "\n",
    "var a3 = board.create('angle', [g4, g3, g1],{radius:1});\n",
    "var a4 = board.create('angle', [g1, g2, g4],{radius:1});\n",
    "\n",
    "var l5 = board.create('segment', [p1, g3],{strokeColor: 'red'});\n",
    "var l6 = board.create('segment', [p1, g2],{strokeColor: 'red'});"
   ]
  },
  {
   "cell_type": "markdown",
   "id": "59b2f0e2-cd92-4e86-be61-044122b12bdc",
   "metadata": {},
   "source": [
    "1. The opposite angles of a cyclic quadrilateral are supplementary.\n",
    "2. An exterior angle of a cyclic quadrilateral equals its interior opposite angle."
   ]
  },
  {
   "cell_type": "markdown",
   "id": "59e19517-dac9-4de2-86c5-2c77c772011a",
   "metadata": {},
   "source": [
    "## Tangents to a circle"
   ]
  },
  {
   "cell_type": "code",
   "execution_count": null,
   "id": "91b13216-5567-4d20-9edf-3dc97239095c",
   "metadata": {
    "jupyter": {
     "source_hidden": true
    },
    "tags": []
   },
   "outputs": [],
   "source": [
    "%%jsxgraph\n",
    "JXG.Options.text.useMathJax = true;\n",
    "brd = JXG.JSXGraph.initBoard('box', {boundingbox: [-15, 15, 15, -15], axis:true,grid:true, keepaspectratio:false,  showCopyright:false});\n",
    "brd.options.point.strokeColor = 'red';\n",
    "brd.options.point.fillColor = 'red';\n",
    "brd.options.point.strokeOpacity = 0.8;\n",
    "brd.options.point.fillOpacity = 0.8;\n",
    "\n",
    "m = brd.create('point',[0.5,0.3]);\n",
    "b = brd.create('point',[3,0]);\n",
    "c = brd.create('circle',[m,b]);\n",
    "p = brd.create('point',[-4,2]);\n",
    "\n",
    "// If p is not on c, the tangent is the polar.\n",
    "t = brd.create('tangent', [c,p], {name:'polar', withLabel:true}); \n",
    "\n",
    "i1 = brd.create('intersection', [c,t,0],{visible:false});\n",
    "i2 = brd.create('intersection', [c,t,1],{visible:false});\n",
    "t1 = brd.create('tangent', [c,i1]);\n",
    "t2 = brd.create('tangent', [c,i2]);"
   ]
  },
  {
   "cell_type": "markdown",
   "id": "1c057563-8c88-4160-a12e-4dfa9ffac98a",
   "metadata": {},
   "source": [
    "Properties:\n",
    "\n",
    "1. A tangent to a circle is perpendicular to the radius through the point of contact.\n",
    "\n",
    "2. The straight line perpendicular to a radius of a circle at its external extremity is a tangent to the circle.\n",
    "\n",
    "3. The perpendicular to a tangent at its point of contact passes through the center of the circle.\n",
    "\n",
    "4. If two tangents are drawn to a circle from an external point, then:  \n",
    "- the distances from the external point to the points of contact are equal  \n",
    "- the tangents subtend equal angles at the center\n",
    "- the straight line joining the center to the external point bisects the angle between the tangents.\n",
    "\n",
    "5. If a straight line is tangent to a circle, then the tangent-chord angle is equal to the angle in the alternate segment.\n",
    "\n",
    "6. If a straight line passes through an end point of a chord of a circle so that the angle it makes with the chord is equal to the angle in the alternate segment, then the straight line touches the circle."
   ]
  },
  {
   "cell_type": "markdown",
   "id": "3c854ce8-a8ee-4e3e-9be8-98287100ab8b",
   "metadata": {},
   "source": [
    "### Find the two tangent equations of a circle in standard form"
   ]
  },
  {
   "cell_type": "markdown",
   "id": "1d39bc5f-647e-438c-8992-45d20d266684",
   "metadata": {},
   "source": [
    "Let's assume the starting coordinates $$(x_0, y_0),$$ the center coordinates $$(x', y')$$ the equation of the line：$$ Ax+Bx+C=0$$\n",
    "\n",
    "Let's substitute the starting point into the equation:\n",
    "$$ Ax_0+By_0+C=0$$\n",
    "\n",
    "transposition\n",
    "$$ C=-(Ax_0+By_0)$$\n",
    "\n",
    "So the equation of the line becomes:\n",
    "$$Ax+By-(Ax_0+By_0)=0,$$\n",
    "\n",
    "\n"
   ]
  },
  {
   "cell_type": "markdown",
   "id": "b01b5350-3843-48ce-aae4-4354516a8de9",
   "metadata": {},
   "source": [
    "Using the distance between the line and the center of the circle as the radius $r$, the equation is established:\n",
    "$$|Ax'+By'-Ax_0-By_0|/\\sqrt{A^2+B^2} = r^2$$\n",
    "let \n",
    "$$m_1 = (x' -x_0)-r^2$$ \n",
    "$$m_2 = (y' -y_0)-r^2$$ \n",
    "$$m_3 = (x' -x_0)(y'-y0)$$ \n",
    "so the origial equation is \n",
    "$$m_1A^2+m_2B^2+2m_3AB = 0$$\n",
    "when $$m_1 \\neq0$$\n",
    "$$ A = \\frac{-m_3\\pm\\sqrt{m_3^2 -m_1m_2}}{m_1}B$$\n",
    "let $B = 1$:\n",
    "$$ A = \\frac{-m_3\\pm\\sqrt{m_3^2-m_1m_2}}{m_1}$$\n",
    "when $$m_1 = 0, m_2\\neq0$$\n",
    "let $A = 1$:\n",
    "$$B = \\frac {-m_3\\pm|m_3|}{m_2}$$\n",
    "when $m_1 = m_2 =0$,\n",
    "The equations of the two lines are respectively:\n",
    "$$ x = x_0, y = y_0 $$"
   ]
  }
 ],
 "metadata": {
  "kernelspec": {
   "display_name": "Python (XPython)",
   "language": "python",
   "name": "xeus-python"
  },
  "language_info": {
   "codemirror_mode": {
    "name": "ipython",
    "version": 3
   },
   "file_extension": ".py",
   "mimetype": "text/x-python",
   "name": "python",
   "nbconvert_exporter": "python",
   "pygments_lexer": "ipython3",
   "version": "3.10.6"
  },
  "widgets": {
   "application/vnd.jupyter.widget-state+json": {
    "state": {
     "14cf4fb6cbeb4e91992d6603310fcf26": {
      "model_module": "@jupyter-widgets/base",
      "model_module_version": "2.0.0",
      "model_name": "LayoutModel",
      "state": {}
     },
     "1816c4e785a140d883f588331ec77677": {
      "model_module": "jupyter-divewidgets",
      "model_module_version": "^0.1.5",
      "model_name": "JSWidgetModel",
      "state": {
       "_model_module_version": "^0.1.5",
       "_view_module_version": "^0.1.5",
       "html": "<!DOCTYPE html>\n<html>\n    <head>\n    <style>\n    html, body {\n        height: 100%;\n    }\n    body {\n        width: 100%;\n        display: flex;\n        padding: 0;\n        margin: 0;\n    }\n    .jxgbox {\n        width:100%; \n        flex-grow: 1;\n    }\n    </style>\n    <link rel=\"stylesheet\" type=\"text/css\" href=\"https://jsxgraph.org/distrib/jsxgraph.css\" />\n    <script type=\"text/javascript\" src=\"https://cdn.jsdelivr.net/npm/jsxgraph/distrib/jsxgraphcore.js\"></script>\n    <script type=\"text/javascript\" src=\"https://cdn.jsdelivr.net/npm/mathjax@3/es5/tex-chtml.js\"></script>\n    </head>\n<body>\n<div id=\"box\" class=\"jxgbox\"></div>\n</body>\n</html>",
       "js": "JXG.Options.text.useMathJax = true;\nvar board = JXG.JSXGraph.initBoard('box', {boundingbox: [-15, 15, 15, -15], axis:true,grid:true, keepaspectratio:false,  showCopyright:false});\nvar p1 = board.create('point', [5.0, 5.0]);\nvar p2 = board.create('point', [2.0, 2.0]);\nvar p3 = board.create('point', [3.5, 1.0]);\n\nvar a = board.create('arc', [p1, p2, p3]);\nboard.create('text',[1,6,function(){return 'arc length: '+Math.round(a.Value()*100)/100}])",
       "layout": "IPY_MODEL_a823c47009a84a84b1ce545927bd2e14"
      }
     },
     "26ab3d0bc9d84569acd36a1f70c35a6e": {
      "model_module": "jupyter-divewidgets",
      "model_module_version": "^0.1.5",
      "model_name": "JSWidgetModel",
      "state": {
       "_model_module_version": "^0.1.5",
       "_view_module_version": "^0.1.5",
       "html": "<!DOCTYPE html>\n<html>\n    <head>\n    <style>\n    html, body {\n        height: 100%;\n    }\n    body {\n        width: 100%;\n        display: flex;\n        padding: 0;\n        margin: 0;\n    }\n    .jxgbox {\n        width:100%; \n        flex-grow: 1;\n    }\n    </style>\n    <link rel=\"stylesheet\" type=\"text/css\" href=\"https://jsxgraph.org/distrib/jsxgraph.css\" />\n    <script type=\"text/javascript\" src=\"https://cdn.jsdelivr.net/npm/jsxgraph/distrib/jsxgraphcore.js\"></script>\n    <script type=\"text/javascript\" src=\"https://cdn.jsdelivr.net/npm/mathjax@3/es5/tex-chtml.js\"></script>\n    </head>\n<body>\n<div id=\"box\" class=\"jxgbox\"></div>\n</body>\n</html>",
       "js": "JXG.Options.text.useMathJax = true;\nbrd = JXG.JSXGraph.initBoard('box', {boundingbox: [-15, 15, 15, -15], axis:true,grid:true, keepaspectratio:false,  showCopyright:false});\nbrd.options.point.strokeColor = 'red';\nbrd.options.point.fillColor = 'red';\nbrd.options.point.strokeOpacity = 0.8;\nbrd.options.point.fillOpacity = 0.8;\n\nm = brd.create('point',[0.5,0.3]);\nb = brd.create('point',[3,0]);\nc = brd.create('circle',[m,b]);\np = brd.create('point',[-4,2]);\n\n// If p is not on c, the tangent is the polar.\nt = brd.create('tangent', [c,p], {name:'polar', withLabel:true}); \n\ni1 = brd.create('intersection', [c,t,0],{visible:false});\ni2 = brd.create('intersection', [c,t,1],{visible:false});\nt1 = brd.create('tangent', [c,i1]);\nt2 = brd.create('tangent', [c,i2]);",
       "layout": "IPY_MODEL_9789c642401a4973b37bb1fb29ae0f29"
      }
     },
     "29c40e532d3f4cb69a272caf5adb2399": {
      "model_module": "jupyter-divewidgets",
      "model_module_version": "^0.1.5",
      "model_name": "JSWidgetModel",
      "state": {
       "_model_module_version": "^0.1.5",
       "_view_module_version": "^0.1.5",
       "html": "<!DOCTYPE html>\n<html>\n    <head>\n    <style>\n    html, body {\n        height: 100%;\n    }\n    body {\n        width: 100%;\n        display: flex;\n        padding: 0;\n        margin: 0;\n    }\n    .jxgbox {\n        width:100%; \n        flex-grow: 1;\n    }\n    </style>\n    <link rel=\"stylesheet\" type=\"text/css\" href=\"https://jsxgraph.org/distrib/jsxgraph.css\" />\n    <script type=\"text/javascript\" src=\"https://cdn.jsdelivr.net/npm/jsxgraph/distrib/jsxgraphcore.js\"></script>\n    <script type=\"text/javascript\" src=\"https://cdn.jsdelivr.net/npm/mathjax@3/es5/tex-chtml.js\"></script>\n    </head>\n<body>\n<div id=\"box\" class=\"jxgbox\"></div>\n</body>\n</html>",
       "js": "JXG.Options.text.useMathJax = true;\nvar board = JXG.JSXGraph.initBoard('box', {boundingbox: [-15, 15, 15, -15], axis:true,grid:true, keepaspectratio:false,  showCopyright:false});\n// Create an arc out of three free points\nvar p1 = board.create('point', [1.5, 5.0]),\n    p2 = board.create('point', [1.0, 0.5]),\n    p3 = board.create('point', [5.0, 3.0]),\n\n    a = board.create('circumcirclesector', [p1, p2, p3]);",
       "layout": "IPY_MODEL_79ec9ba3f2e94da392d90a10fe3a49a5"
      }
     },
     "2a56bc38a4064a75bc6467fced97dba1": {
      "model_module": "jupyter-divewidgets",
      "model_module_version": "^0.1.5",
      "model_name": "JSWidgetModel",
      "state": {
       "_model_module_version": "^0.1.5",
       "_view_module_version": "^0.1.5",
       "html": "<!DOCTYPE html>\n<html>\n    <head>\n    <style>\n    html, body {\n        height: 100%;\n    }\n    body {\n        width: 100%;\n        display: flex;\n        padding: 0;\n        margin: 0;\n    }\n    .jxgbox {\n        width:100%; \n        flex-grow: 1;\n    }\n    </style>\n    <link rel=\"stylesheet\" type=\"text/css\" href=\"https://jsxgraph.org/distrib/jsxgraph.css\" />\n    <script type=\"text/javascript\" src=\"https://cdn.jsdelivr.net/npm/jsxgraph/distrib/jsxgraphcore.js\"></script>\n    <script type=\"text/javascript\" src=\"https://cdn.jsdelivr.net/npm/mathjax@3/es5/tex-chtml.js\"></script>\n    </head>\n<body>\n<div id=\"box\" class=\"jxgbox\"></div>\n</body>\n</html>",
       "js": "JXG.Options.text.useMathJax = true;\nvar board = JXG.JSXGraph.initBoard('box', {boundingbox: [-15, 15, 15, -15], axis:true,grid:true, keepaspectratio:false,  showCopyright:false});\n\nvar p1 = board.create('point', [0, 2.0],{name:'O',face:'',label:{offset:[-10,5]}});\nvar c1 = board.create('circle', [p1, 6],);\nvar g1 = board.create('glider', [-1.0, 4, c1],{face:'',label:{offset:[-10,10]}});\n\nvar g2 = board.create('glider', [1.0, 4, c1],{face:''});\n\nvar g3 = board.create('glider', [-1.2, 1, c1],{face:'',label:{offset:[-15,-5]}});\nvar g4 = board.create('glider', [1.0, 1, c1],{face:'',label:{offset:[5,-5]}});\n\nvar l1 = board.create('segment', [g1, g2],);\n\nvar l2 = board.create('segment', [g2, g4],);\nvar l3 = board.create('segment', [g3, g4]);\nvar l4 = board.create('segment', [g1, g3]);\n\nvar a1 = board.create('angle', [g3, g1, g2],{radius:1,color:'blue'});\nvar a2 = board.create('angle', [g2, g4, g3],{radius:1,color:'blue'});\n\nvar a3 = board.create('angle', [g4, g3, g1],{radius:1});\nvar a4 = board.create('angle', [g1, g2, g4],{radius:1});\n\nvar l5 = board.create('segment', [p1, g3],{strokeColor: 'red'});\nvar l6 = board.create('segment', [p1, g2],{strokeColor: 'red'});",
       "layout": "IPY_MODEL_82252aa699aa421bb31d6f32e913513b"
      }
     },
     "2b6158ca42dd495184070f455da620a0": {
      "model_module": "@jupyter-widgets/base",
      "model_module_version": "2.0.0",
      "model_name": "LayoutModel",
      "state": {}
     },
     "6c6c1bec627845379f3dc7acfb167170": {
      "model_module": "jupyter-divewidgets",
      "model_module_version": "^0.1.5",
      "model_name": "JSWidgetModel",
      "state": {
       "_model_module_version": "^0.1.5",
       "_view_module_version": "^0.1.5",
       "html": "<!DOCTYPE html>\n<html>\n    <head>\n    <style>\n    html, body {\n        height: 100%;\n    }\n    body {\n        width: 100%;\n        display: flex;\n        padding: 0;\n        margin: 0;\n    }\n    .jxgbox {\n        width:100%; \n        flex-grow: 1;\n    }\n    </style>\n    <link rel=\"stylesheet\" type=\"text/css\" href=\"https://jsxgraph.org/distrib/jsxgraph.css\" />\n    <script type=\"text/javascript\" src=\"https://cdn.jsdelivr.net/npm/jsxgraph/distrib/jsxgraphcore.js\"></script>\n    <script type=\"text/javascript\" src=\"https://cdn.jsdelivr.net/npm/mathjax@3/es5/tex-chtml.js\"></script>\n    </head>\n<body>\n<div id=\"box\" class=\"jxgbox\"></div>\n</body>\n</html>",
       "js": "JXG.Options.text.useMathJax = true;\nvar board = JXG.JSXGraph.initBoard('box', {boundingbox: [-10, 10, 10, -10], axis:true,grid:true, keepaspectratio:false,  showCopyright:false});\n\n\nvar p = board.create('point',[1,1],{name:\"P\", snapToGrid:true});\nvar q = board.create('point',[2,4],{name:\"Q\", snapToGrid:true});\nvar r = board.create('point',[5,3],{name:\"R\", snapToGrid:true});\n\n\nvar c = board.create('circle', [p, q, r], {strokeColor: 'blue', center: {visible:true}});\nvar l1 = board.create('segment', [p, q], {strokeColor: 'red'});\nvar l2 = board.create('segment', [r, q], {strokeColor: 'red'});\n\n\nvar center = board.create('text', [-9, 9, function(){return \"\\\\[center (\"+JXG.toFixed(c.center.X(), 3)+\",\"+JXG.toFixed(c.center.Y(), 3)+\")\\\\]\";}]);\nvar radius = board.create('text', [-9, 8, function() {return \"\\\\[radius = \"+JXG.toFixed(c.Radius(), 3)+\"\\\\]\";}]);",
       "layout": "IPY_MODEL_73282023075842ae96b3eac284020e1b"
      }
     },
     "6ddf919fecad49d08e51a82705974b86": {
      "model_module": "jupyter-divewidgets",
      "model_module_version": "^0.1.5",
      "model_name": "JSWidgetModel",
      "state": {
       "_model_module_version": "^0.1.5",
       "_view_module_version": "^0.1.5",
       "html": "<!DOCTYPE html>\n<html>\n    <head>\n    <style>\n    html, body {\n        height: 100%;\n    }\n    body {\n        width: 100%;\n        display: flex;\n        padding: 0;\n        margin: 0;\n    }\n    .jxgbox {\n        width:100%; \n        flex-grow: 1;\n    }\n    </style>\n    <link rel=\"stylesheet\" type=\"text/css\" href=\"https://jsxgraph.org/distrib/jsxgraph.css\" />\n    <script type=\"text/javascript\" src=\"https://cdn.jsdelivr.net/npm/jsxgraph/distrib/jsxgraphcore.js\"></script>\n    <script type=\"text/javascript\" src=\"https://cdn.jsdelivr.net/npm/mathjax@3/es5/tex-chtml.js\"></script>\n    </head>\n<body>\n<div id=\"box\" class=\"jxgbox\"></div>\n</body>\n</html>",
       "js": "JXG.Options.text.useMathJax = true;\nvar board = JXG.JSXGraph.initBoard('box', {boundingbox: [-10, 10, 10, -10], axis:true,grid:true, keepaspectratio:false,  showCopyright:false});\n\n\nvar p = board.create('point',[1,1],{name:\"P\", snapToGrid:true});\nvar q = board.create('point',[2,4],{name:\"Q\", snapToGrid:true});\nvar r = board.create('point',[5,3],{name:\"R\", snapToGrid:true});\n\n\nvar c = board.create('circle', [p, q, r], {strokeColor: 'blue', center: {visible:true}});\nvar l1 = board.create('segment', [p, q], {strokeColor: 'red'});\nvar l2 = board.create('segment', [r, q], {strokeColor: 'red'});\n\n\nvar center = board.create('text', [-9, 9, function(){return \"\\\\[center (\"+JXG.toFixed(c.center.X(), 3)+\",\"+JXG.toFixed(c.center.Y(), 3)+\")\\\\]\";}]);\nvar radius = board.create('text', [-9, 8, function() {return \"\\\\[radius = \"+JXG.toFixed(c.Radius(), 3)+\"\\\\]\";}]);",
       "layout": "IPY_MODEL_2b6158ca42dd495184070f455da620a0"
      }
     },
     "73282023075842ae96b3eac284020e1b": {
      "model_module": "@jupyter-widgets/base",
      "model_module_version": "2.0.0",
      "model_name": "LayoutModel",
      "state": {}
     },
     "79ec9ba3f2e94da392d90a10fe3a49a5": {
      "model_module": "@jupyter-widgets/base",
      "model_module_version": "2.0.0",
      "model_name": "LayoutModel",
      "state": {}
     },
     "79fb146ceaeb40b4b4f8cdad223c4038": {
      "model_module": "jupyter-divewidgets",
      "model_module_version": "^0.1.5",
      "model_name": "JSWidgetModel",
      "state": {
       "_model_module_version": "^0.1.5",
       "_view_module_version": "^0.1.5",
       "html": "<!DOCTYPE html>\n<html>\n    <head>\n    <style>\n    html, body {\n        height: 100%;\n    }\n    body {\n        width: 100%;\n        display: flex;\n        padding: 0;\n        margin: 0;\n    }\n    .jxgbox {\n        width:100%; \n        flex-grow: 1;\n    }\n    </style>\n    <link rel=\"stylesheet\" type=\"text/css\" href=\"https://jsxgraph.org/distrib/jsxgraph.css\" />\n    <script type=\"text/javascript\" src=\"https://cdn.jsdelivr.net/npm/jsxgraph/distrib/jsxgraphcore.js\"></script>\n    <script type=\"text/javascript\" src=\"https://cdn.jsdelivr.net/npm/mathjax@3/es5/tex-chtml.js\"></script>\n    </head>\n<body>\n<div id=\"box\" class=\"jxgbox\"></div>\n</body>\n</html>",
       "js": "JXG.Options.text.useMathJax = true;\nvar board = JXG.JSXGraph.initBoard('box', {boundingbox: [-15, 15, 15, -15], axis:true,grid:true, keepaspectratio:false,  showCopyright:false});\n// Create an arc out of three free points\nvar p1 = board.create('point', [1.5, 5.0]),\n    p2 = board.create('point', [1.0, 0.5]),\n    p3 = board.create('point', [5.0, 3.0]),\n\n    a = board.create('circle', [p1, p2, p3]);\nvar ct = board.create('circumcenter', [p1, p2, p3]);\nvar polygon = board.create('polygon', [p1, p2, ct], {fillColor: 'yellow'});\nvar polygon = board.create('polygon', [p1, p3, ct], {fillColor: 'red'});\nvar polygon = board.create('polygon', [p3, p2, ct], {fillColor: 'blue'});\nvar a1 = board.create('angle', [p1, ct,p2]);\nvar a2 = board.create('angle', [p1, ct,p3]);\nvar a3 = board.create('angle', [p3, ct,p2]);\nt = board.create('text', [-2, 2, function() { return JXG.toFixed(a1.Value(), 2); }]);\nt1 = board.create('text', [5, 5, function() { return JXG.toFixed(a3.Value(), 2); }]);\nt2 = board.create('text', [5, -3, function() { return JXG.toFixed(a2.Value(), 2); }]);",
       "layout": "IPY_MODEL_ff96f0382e844b0f8d636224bc60c511"
      }
     },
     "82252aa699aa421bb31d6f32e913513b": {
      "model_module": "@jupyter-widgets/base",
      "model_module_version": "2.0.0",
      "model_name": "LayoutModel",
      "state": {}
     },
     "90b5491eb5aa4139b763c82375ec34c8": {
      "model_module": "jupyter-divewidgets",
      "model_module_version": "^0.1.5",
      "model_name": "JSWidgetModel",
      "state": {
       "_model_module_version": "^0.1.5",
       "_view_module_version": "^0.1.5",
       "html": "<!DOCTYPE html>\n<html>\n    <head>\n    <style>\n    html, body {\n        height: 100%;\n    }\n    body {\n        width: 100%;\n        display: flex;\n        padding: 0;\n        margin: 0;\n    }\n    .jxgbox {\n        width:100%; \n        flex-grow: 1;\n    }\n    </style>\n    <link rel=\"stylesheet\" type=\"text/css\" href=\"https://jsxgraph.org/distrib/jsxgraph.css\" />\n    <script type=\"text/javascript\" src=\"https://cdn.jsdelivr.net/npm/jsxgraph/distrib/jsxgraphcore.js\"></script>\n    <script type=\"text/javascript\" src=\"https://cdn.jsdelivr.net/npm/mathjax@3/es5/tex-chtml.js\"></script>\n    </head>\n<body>\n<div id=\"box\" class=\"jxgbox\"></div>\n</body>\n</html>",
       "js": "JXG.Options.text.useMathJax = true;\nvar board = JXG.JSXGraph.initBoard('box', {boundingbox: [-10, 10, 10, -10], axis:true,grid:true, keepaspectratio:false,  showCopyright:false});\n\n\nvar p = board.create('point',[1,1],{name:\"P\", snapToGrid:true});\nvar q = board.create('point',[2,4],{name:\"Q\", snapToGrid:true});\nvar r = board.create('point',[5,3],{name:\"R\", snapToGrid:true});\n\n\nvar c = board.create('circle', [p, q, r], {strokeColor: 'blue', center: {visible:true}});\n\nvar polygon = board.create('polygon', [p, q, r], {fillColor: 'yellow'});\n\n\nvar center = board.create('text', [-9, 9, function(){return \"\\\\[center (\"+JXG.toFixed(c.center.X(), 3)+\",\"+JXG.toFixed(c.center.Y(), 3)+\")\\\\]\";}]);\nvar radius = board.create('text', [-9, 8, function() {return \"\\\\[radius = \"+JXG.toFixed(c.Radius(), 3)+\"\\\\]\";}]);",
       "layout": "IPY_MODEL_14cf4fb6cbeb4e91992d6603310fcf26"
      }
     },
     "9789c642401a4973b37bb1fb29ae0f29": {
      "model_module": "@jupyter-widgets/base",
      "model_module_version": "2.0.0",
      "model_name": "LayoutModel",
      "state": {}
     },
     "a823c47009a84a84b1ce545927bd2e14": {
      "model_module": "@jupyter-widgets/base",
      "model_module_version": "2.0.0",
      "model_name": "LayoutModel",
      "state": {}
     },
     "d9525de3c7fd475aabd35b349202f84a": {
      "model_module": "@jupyter-widgets/base",
      "model_module_version": "2.0.0",
      "model_name": "LayoutModel",
      "state": {}
     },
     "ddd3d0df70d8474aaf3786841abddf13": {
      "model_module": "jupyter-divewidgets",
      "model_module_version": "^0.1.5",
      "model_name": "JSWidgetModel",
      "state": {
       "_model_module_version": "^0.1.5",
       "_view_module_version": "^0.1.5",
       "html": "<!DOCTYPE html>\n<html>\n    <head>\n    <style>\n    html, body {\n        height: 100%;\n    }\n    body {\n        width: 100%;\n        display: flex;\n        padding: 0;\n        margin: 0;\n    }\n    .jxgbox {\n        width:100%; \n        flex-grow: 1;\n    }\n    </style>\n    <link rel=\"stylesheet\" type=\"text/css\" href=\"https://jsxgraph.org/distrib/jsxgraph.css\" />\n    <script type=\"text/javascript\" src=\"https://cdn.jsdelivr.net/npm/jsxgraph/distrib/jsxgraphcore.js\"></script>\n    <script type=\"text/javascript\" src=\"https://cdn.jsdelivr.net/npm/mathjax@3/es5/tex-chtml.js\"></script>\n    </head>\n<body>\n<div id=\"box\" class=\"jxgbox\"></div>\n</body>\n</html>",
       "js": "JXG.Options.text.useMathJax = true;\nvar board = JXG.JSXGraph.initBoard('box', {boundingbox: [-15, 15, 15, -15], axis:true,grid:true, keepaspectratio:false,  showCopyright:false});\n// Create an arc out of three free points\nvar p1 = board.create('point', [1.5, 5.0]),\n    p2 = board.create('point', [1.0, 0.5]),\n    p3 = board.create('point', [5.0, 3.0]),\n\n    a = board.create('circumcirclesector', [p1, p2, p3]);",
       "layout": "IPY_MODEL_d9525de3c7fd475aabd35b349202f84a"
      }
     },
     "ff96f0382e844b0f8d636224bc60c511": {
      "model_module": "@jupyter-widgets/base",
      "model_module_version": "2.0.0",
      "model_name": "LayoutModel",
      "state": {}
     }
    },
    "version_major": 2,
    "version_minor": 0
   }
  }
 },
 "nbformat": 4,
 "nbformat_minor": 5
}
