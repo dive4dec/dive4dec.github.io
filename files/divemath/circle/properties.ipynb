{
  "metadata": {
    "kernelspec": {
      "name": "xeus-python",
      "display_name": "Python (XPython)",
      "language": "python"
    },
    "language_info": {
      "file_extension": ".py",
      "mimetype": "text/x-python",
      "name": "python",
      "version": "3.10.2"
    },
    "widgets": {
      "application/vnd.jupyter.widget-state+json": {
        "version_major": 2,
        "version_minor": 0,
        "state": {
          "0c2014985cec43b4a86e61b4b8284413": {
            "model_name": "LayoutModel",
            "model_module": "@jupyter-widgets/base",
            "model_module_version": "1.2.0",
            "state": {}
          },
          "ed293e3557004d02be05e7a0f8e0af21": {
            "model_name": "JSWidgetModel",
            "model_module": "jupyter-divewidgets",
            "model_module_version": "^0.1.5",
            "state": {
              "_model_module_version": "^0.1.5",
              "_view_module_version": "^0.1.5",
              "html": "<!DOCTYPE html>\n<html>\n    <head>\n    <style>\n    html, body {\n        height: 100%;\n    }\n    body {\n        width: 100%;\n        display: flex;\n        padding: 0;\n        margin: 0;\n    }\n    .jxgbox {\n        width:100%; \n        flex-grow: 1;\n    }\n    </style>\n    <link rel=\"stylesheet\" type=\"text/css\" href=\"https://jsxgraph.org/distrib/jsxgraph.css\" />\n    <script type=\"text/javascript\" src=\"https://cdn.jsdelivr.net/npm/jsxgraph/distrib/jsxgraphcore.js\"></script>\n    <script type=\"text/javascript\" src=\"https://cdn.jsdelivr.net/npm/mathjax@3/es5/tex-chtml.js\"></script>\n    </head>\n<body>\n<div id=\"box\" class=\"jxgbox\"></div>\n</body>\n</html>",
              "js": "JXG.Options.text.useMathJax = true;\nvar board = JXG.JSXGraph.initBoard('box', {boundingbox: [-15, 15, 15, -15], axis:true,grid:true, keepaspectratio:false,  showCopyright:false});\nvar p1 = board.create('point', [5.0, 5.0]);\nvar p2 = board.create('point', [2.0, 2.0]);\nvar p3 = board.create('point', [3.5, 1.0]);\n\nvar a = board.create('arc', [p1, p2, p3]);\nboard.create('text',[1,6,function(){return 'arc length: '+Math.round(a.Value()*100)/100}])",
              "layout": "IPY_MODEL_0c2014985cec43b4a86e61b4b8284413"
            }
          },
          "02f0884737344a799291051950912e58": {
            "model_name": "LayoutModel",
            "model_module": "@jupyter-widgets/base",
            "model_module_version": "1.2.0",
            "state": {}
          },
          "0bb415e632994599a3d76d8d5e16a949": {
            "model_name": "JSWidgetModel",
            "model_module": "jupyter-divewidgets",
            "model_module_version": "^0.1.5",
            "state": {
              "_model_module_version": "^0.1.5",
              "_view_module_version": "^0.1.5",
              "html": "<!DOCTYPE html>\n<html>\n    <head>\n    <style>\n    html, body {\n        height: 100%;\n    }\n    body {\n        width: 100%;\n        display: flex;\n        padding: 0;\n        margin: 0;\n    }\n    .jxgbox {\n        width:100%; \n        flex-grow: 1;\n    }\n    </style>\n    <link rel=\"stylesheet\" type=\"text/css\" href=\"https://jsxgraph.org/distrib/jsxgraph.css\" />\n    <script type=\"text/javascript\" src=\"https://cdn.jsdelivr.net/npm/jsxgraph/distrib/jsxgraphcore.js\"></script>\n    <script type=\"text/javascript\" src=\"https://cdn.jsdelivr.net/npm/mathjax@3/es5/tex-chtml.js\"></script>\n    </head>\n<body>\n<div id=\"box\" class=\"jxgbox\"></div>\n</body>\n</html>",
              "js": "JXG.Options.text.useMathJax = true;\nvar board = JXG.JSXGraph.initBoard('box', {boundingbox: [-15, 15, 15, -15], axis:true,grid:true, keepaspectratio:false,  showCopyright:false});\n// Create an arc out of three free points\nvar p1 = board.create('point', [1.5, 5.0]),\n    p2 = board.create('point', [1.0, 0.5]),\n    p3 = board.create('point', [5.0, 3.0]),\n\n    a = board.create('circumcirclesector', [p1, p2, p3]);",
              "layout": "IPY_MODEL_02f0884737344a799291051950912e58"
            }
          },
          "5be686099c774055a69ada73f55f1464": {
            "model_name": "LayoutModel",
            "model_module": "@jupyter-widgets/base",
            "model_module_version": "1.2.0",
            "state": {}
          },
          "fb20df72c0424adea4ee28c2cbe24103": {
            "model_name": "JSWidgetModel",
            "model_module": "jupyter-divewidgets",
            "model_module_version": "^0.1.5",
            "state": {
              "_model_module_version": "^0.1.5",
              "_view_module_version": "^0.1.5",
              "html": "<!DOCTYPE html>\n<html>\n    <head>\n    <style>\n    html, body {\n        height: 100%;\n    }\n    body {\n        width: 100%;\n        display: flex;\n        padding: 0;\n        margin: 0;\n    }\n    .jxgbox {\n        width:100%; \n        flex-grow: 1;\n    }\n    </style>\n    <link rel=\"stylesheet\" type=\"text/css\" href=\"https://jsxgraph.org/distrib/jsxgraph.css\" />\n    <script type=\"text/javascript\" src=\"https://cdn.jsdelivr.net/npm/jsxgraph/distrib/jsxgraphcore.js\"></script>\n    <script type=\"text/javascript\" src=\"https://cdn.jsdelivr.net/npm/mathjax@3/es5/tex-chtml.js\"></script>\n    </head>\n<body>\n<div id=\"box\" class=\"jxgbox\"></div>\n</body>\n</html>",
              "js": "JXG.Options.text.useMathJax = true;\nvar board = JXG.JSXGraph.initBoard('box', {boundingbox: [-10, 10, 10, -10], axis:true,grid:true, keepaspectratio:false,  showCopyright:false});\n\n\nvar p = board.create('point',[1,1],{name:\"P\", snapToGrid:true});\nvar q = board.create('point',[2,4],{name:\"Q\", snapToGrid:true});\nvar r = board.create('point',[5,3],{name:\"R\", snapToGrid:true});\n\n\nvar c = board.create('circle', [p, q, r], {strokeColor: 'blue', center: {visible:true}});\nvar l1 = board.create('segment', [p, q], {strokeColor: 'red'});\nvar l2 = board.create('segment', [r, q], {strokeColor: 'red'});\n\n\nvar center = board.create('text', [-9, 9, function(){return \"\\\\[center (\"+JXG.toFixed(c.center.X(), 3)+\",\"+JXG.toFixed(c.center.Y(), 3)+\")\\\\]\";}]);\nvar radius = board.create('text', [-9, 8, function() {return \"\\\\[radius = \"+JXG.toFixed(c.Radius(), 3)+\"\\\\]\";}]);",
              "layout": "IPY_MODEL_5be686099c774055a69ada73f55f1464"
            }
          },
          "22c7fca33a6f4790b37c9c285fca841f": {
            "model_name": "LayoutModel",
            "model_module": "@jupyter-widgets/base",
            "model_module_version": "1.2.0",
            "state": {}
          },
          "d46c46dfca9f423e9ddbd3e1fe31e1d5": {
            "model_name": "JSWidgetModel",
            "model_module": "jupyter-divewidgets",
            "model_module_version": "^0.1.5",
            "state": {
              "_model_module_version": "^0.1.5",
              "_view_module_version": "^0.1.5",
              "html": "<!DOCTYPE html>\n<html>\n    <head>\n    <style>\n    html, body {\n        height: 100%;\n    }\n    body {\n        width: 100%;\n        display: flex;\n        padding: 0;\n        margin: 0;\n    }\n    .jxgbox {\n        width:100%; \n        flex-grow: 1;\n    }\n    </style>\n    <link rel=\"stylesheet\" type=\"text/css\" href=\"https://jsxgraph.org/distrib/jsxgraph.css\" />\n    <script type=\"text/javascript\" src=\"https://cdn.jsdelivr.net/npm/jsxgraph/distrib/jsxgraphcore.js\"></script>\n    <script type=\"text/javascript\" src=\"https://cdn.jsdelivr.net/npm/mathjax@3/es5/tex-chtml.js\"></script>\n    </head>\n<body>\n<div id=\"box\" class=\"jxgbox\"></div>\n</body>\n</html>",
              "js": "JXG.Options.text.useMathJax = true;\nvar board = JXG.JSXGraph.initBoard('box', {boundingbox: [-10, 10, 10, -10], axis:true,grid:true, keepaspectratio:false,  showCopyright:false});\n\n\nvar p = board.create('point',[1,1],{name:\"P\", snapToGrid:true});\nvar q = board.create('point',[2,4],{name:\"Q\", snapToGrid:true});\nvar r = board.create('point',[5,3],{name:\"R\", snapToGrid:true});\n\n\nvar c = board.create('circle', [p, q, r], {strokeColor: 'blue', center: {visible:true}});\n\nvar polygon = board.create('polygon', [p, q, r], {fillColor: 'yellow'});\n\n\nvar center = board.create('text', [-9, 9, function(){return \"\\\\[center (\"+JXG.toFixed(c.center.X(), 3)+\",\"+JXG.toFixed(c.center.Y(), 3)+\")\\\\]\";}]);\nvar radius = board.create('text', [-9, 8, function() {return \"\\\\[radius = \"+JXG.toFixed(c.Radius(), 3)+\"\\\\]\";}]);",
              "layout": "IPY_MODEL_22c7fca33a6f4790b37c9c285fca841f"
            }
          },
          "5907657f720f4ffdac925bf3572fadba": {
            "model_name": "LayoutModel",
            "model_module": "@jupyter-widgets/base",
            "model_module_version": "1.2.0",
            "state": {}
          },
          "702d7b8a90874031bd4255bd71ed886e": {
            "model_name": "JSWidgetModel",
            "model_module": "jupyter-divewidgets",
            "model_module_version": "^0.1.5",
            "state": {
              "_model_module_version": "^0.1.5",
              "_view_module_version": "^0.1.5",
              "html": "<!DOCTYPE html>\n<html>\n    <head>\n    <style>\n    html, body {\n        height: 100%;\n    }\n    body {\n        width: 100%;\n        display: flex;\n        padding: 0;\n        margin: 0;\n    }\n    .jxgbox {\n        width:100%; \n        flex-grow: 1;\n    }\n    </style>\n    <link rel=\"stylesheet\" type=\"text/css\" href=\"https://jsxgraph.org/distrib/jsxgraph.css\" />\n    <script type=\"text/javascript\" src=\"https://cdn.jsdelivr.net/npm/jsxgraph/distrib/jsxgraphcore.js\"></script>\n    <script type=\"text/javascript\" src=\"https://cdn.jsdelivr.net/npm/mathjax@3/es5/tex-chtml.js\"></script>\n    </head>\n<body>\n<div id=\"box\" class=\"jxgbox\"></div>\n</body>\n</html>",
              "js": "JXG.Options.text.useMathJax = true;\nvar board = JXG.JSXGraph.initBoard('box', {boundingbox: [-15, 15, 15, -15], axis:true,grid:true, keepaspectratio:false,  showCopyright:false});\n// Create an arc out of three free points\nvar p1 = board.create('point', [1.5, 5.0]),\n    p2 = board.create('point', [1.0, 0.5]),\n    p3 = board.create('point', [5.0, 3.0]),\n\n    a = board.create('circle', [p1, p2, p3]);\nvar ct = board.create('circumcenter', [p1, p2, p3]);\nvar polygon = board.create('polygon', [p1, p2, ct], {fillColor: 'yellow'});\nvar polygon = board.create('polygon', [p1, p3, ct], {fillColor: 'red'});\nvar polygon = board.create('polygon', [p3, p2, ct], {fillColor: 'blue'});\nvar a1 = board.create('angle', [p1, ct,p2]);\nvar a2 = board.create('angle', [p1, ct,p3]);\nvar a3 = board.create('angle', [p3, ct,p2]);\nt = board.create('text', [-2, 2, function() { return JXG.toFixed(a1.Value(), 2); }]);\nt1 = board.create('text', [5, 5, function() { return JXG.toFixed(a3.Value(), 2); }]);\nt2 = board.create('text', [5, -3, function() { return JXG.toFixed(a2.Value(), 2); }]);",
              "layout": "IPY_MODEL_5907657f720f4ffdac925bf3572fadba"
            }
          },
          "84aac5116bd14104ac9469e992f5818a": {
            "model_name": "LayoutModel",
            "model_module": "@jupyter-widgets/base",
            "model_module_version": "1.2.0",
            "state": {}
          },
          "dc41324f6dc142a2900ceec7c8e6bf6d": {
            "model_name": "JSWidgetModel",
            "model_module": "jupyter-divewidgets",
            "model_module_version": "^0.1.5",
            "state": {
              "_model_module_version": "^0.1.5",
              "_view_module_version": "^0.1.5",
              "html": "<!DOCTYPE html>\n<html>\n    <head>\n    <style>\n    html, body {\n        height: 100%;\n    }\n    body {\n        width: 100%;\n        display: flex;\n        padding: 0;\n        margin: 0;\n    }\n    .jxgbox {\n        width:100%; \n        flex-grow: 1;\n    }\n    </style>\n    <link rel=\"stylesheet\" type=\"text/css\" href=\"https://jsxgraph.org/distrib/jsxgraph.css\" />\n    <script type=\"text/javascript\" src=\"https://cdn.jsdelivr.net/npm/jsxgraph/distrib/jsxgraphcore.js\"></script>\n    <script type=\"text/javascript\" src=\"https://cdn.jsdelivr.net/npm/mathjax@3/es5/tex-chtml.js\"></script>\n    </head>\n<body>\n<div id=\"box\" class=\"jxgbox\"></div>\n</body>\n</html>",
              "js": "JXG.Options.text.useMathJax = true;\nvar board = JXG.JSXGraph.initBoard('box', {boundingbox: [-15, 15, 15, -15], axis:true,grid:true, keepaspectratio:false,  showCopyright:false});\n\nvar p1 = board.create('point', [0, 2.0],{name:'O',face:'',label:{offset:[-10,5]}});\nvar c1 = board.create('circle', [p1, 6],);\nvar g1 = board.create('glider', [-1.0, 4, c1],{face:'',label:{offset:[-10,10]}});\n\nvar g2 = board.create('glider', [1.0, 4, c1],{face:''});\n\nvar g3 = board.create('glider', [-1.2, 1, c1],{face:'',label:{offset:[-15,-5]}});\nvar g4 = board.create('glider', [1.0, 1, c1],{face:'',label:{offset:[5,-5]}});\n\nvar l1 = board.create('segment', [g1, g2],);\n\nvar l2 = board.create('segment', [g2, g4],);\nvar l3 = board.create('segment', [g3, g4]);\nvar l4 = board.create('segment', [g1, g3]);\n\nvar a1 = board.create('angle', [g3, g1, g2],{radius:1,color:'blue'});\nvar a2 = board.create('angle', [g2, g4, g3],{radius:1,color:'blue'});\n\nvar a3 = board.create('angle', [g4, g3, g1],{radius:1});\nvar a4 = board.create('angle', [g1, g2, g4],{radius:1});\n\nvar l5 = board.create('segment', [p1, g3],{strokeColor: 'red'});\nvar l6 = board.create('segment', [p1, g2],{strokeColor: 'red'});",
              "layout": "IPY_MODEL_84aac5116bd14104ac9469e992f5818a"
            }
          },
          "8a46a5f2ddb74d19a3af9f267dfa8dad": {
            "model_name": "LayoutModel",
            "model_module": "@jupyter-widgets/base",
            "model_module_version": "1.2.0",
            "state": {}
          },
          "434775137c534f7090e2709c6974bc47": {
            "model_name": "JSWidgetModel",
            "model_module": "jupyter-divewidgets",
            "model_module_version": "^0.1.5",
            "state": {
              "_model_module_version": "^0.1.5",
              "_view_module_version": "^0.1.5",
              "html": "<!DOCTYPE html>\n<html>\n    <head>\n    <style>\n    html, body {\n        height: 100%;\n    }\n    body {\n        width: 100%;\n        display: flex;\n        padding: 0;\n        margin: 0;\n    }\n    .jxgbox {\n        width:100%; \n        flex-grow: 1;\n    }\n    </style>\n    <link rel=\"stylesheet\" type=\"text/css\" href=\"https://jsxgraph.org/distrib/jsxgraph.css\" />\n    <script type=\"text/javascript\" src=\"https://cdn.jsdelivr.net/npm/jsxgraph/distrib/jsxgraphcore.js\"></script>\n    <script type=\"text/javascript\" src=\"https://cdn.jsdelivr.net/npm/mathjax@3/es5/tex-chtml.js\"></script>\n    </head>\n<body>\n<div id=\"box\" class=\"jxgbox\"></div>\n</body>\n</html>",
              "js": "JXG.Options.text.useMathJax = true;\nbrd = JXG.JSXGraph.initBoard('box', {boundingbox: [-15, 15, 15, -15], axis:true,grid:true, keepaspectratio:false,  showCopyright:false});\nbrd.options.point.strokeColor = 'red';\nbrd.options.point.fillColor = 'red';\nbrd.options.point.strokeOpacity = 0.8;\nbrd.options.point.fillOpacity = 0.8;\n\nm = brd.create('point',[0.5,0.3]);\nb = brd.create('point',[3,0]);\nc = brd.create('circle',[m,b]);\np = brd.create('point',[-4,2]);\n\n// If p is not on c, the tangent is the polar.\nt = brd.create('tangent', [c,p], {name:'polar', withLabel:true}); \n\ni1 = brd.create('intersection', [c,t,0],{visible:false});\ni2 = brd.create('intersection', [c,t,1],{visible:false});\nt1 = brd.create('tangent', [c,i1]);\nt2 = brd.create('tangent', [c,i2]);",
              "layout": "IPY_MODEL_8a46a5f2ddb74d19a3af9f267dfa8dad"
            }
          }
        }
      }
    }
  },
  "nbformat_minor": 5,
  "nbformat": 4,
  "cells": [
    {
      "cell_type": "markdown",
      "source": "# Properties of a Circle",
      "metadata": {},
      "id": "c5485de7-c203-4498-ac15-bfd9d8a3043f"
    },
    {
      "cell_type": "markdown",
      "source": "**DIVE into Math**\n\n---",
      "metadata": {},
      "id": "d06c638f-b164-41b6-8ca4-79a8b76d8d4c"
    },
    {
      "cell_type": "markdown",
      "source": "Contributor(s): \n\n- Jinhe HU  \n- Chao Zhao\n- Chung Chan\n\n---",
      "metadata": {},
      "id": "08438d45-aae8-4032-b03b-778f5faf8f4c"
    },
    {
      "cell_type": "code",
      "source": "%reload_ext divewidgets",
      "metadata": {
        "trusted": true
      },
      "execution_count": 2,
      "outputs": [],
      "id": "81dabe1d-b1a9-4563-a401-9d0abd7280e0"
    },
    {
      "cell_type": "markdown",
      "source": "## Part I: Arc\n\nThe arc of a circle is a segment of the circumference of the circle.  It is defined by a center, one point that defines the radius, and a third point that defines the angle of the arc.  \nIn the following graph:  \n- Point $A$: the center of the circle.  \n- Point $B$: defines the radius.  \n- Point $C$: defines the angle of the arc.  \n\n",
      "metadata": {},
      "id": "28b80aec-ebef-4228-8b20-17223a8ebd21"
    },
    {
      "cell_type": "code",
      "source": "%%jsxgraph\nJXG.Options.text.useMathJax = true;\nvar board = JXG.JSXGraph.initBoard('box', {boundingbox: [-15, 15, 15, -15], axis:true,grid:true, keepaspectratio:false,  showCopyright:false});\nvar p1 = board.create('point', [5.0, 5.0]);\nvar p2 = board.create('point', [2.0, 2.0]);\nvar p3 = board.create('point', [3.5, 1.0]);\n\nvar a = board.create('arc', [p1, p2, p3]);\nboard.create('text',[1,6,function(){return 'arc length: '+Math.round(a.Value()*100)/100}])",
      "metadata": {
        "trusted": true
      },
      "execution_count": 3,
      "outputs": [
        {
          "output_type": "display_data",
          "data": {
            "application/vnd.jupyter.widget-view+json": {
              "model_id": "ed293e3557004d02be05e7a0f8e0af21",
              "version_major": 2,
              "version_minor": 0
            },
            "text/plain": "JSWidget(value=None, height=600, html='<!DOCTYPE html>\\n<html>\\n    <head>\\n    <style>\\n    html, body {\\n   …"
          },
          "metadata": {}
        }
      ],
      "id": "861557fb-5e6e-4c5f-a0ac-8a7b223bc090"
    },
    {
      "cell_type": "markdown",
      "source": "### Arc length\n\nThe length of an arc in a circle can be calculated using different formulas, based on the unit of the central angle of the arc. The measurements of the central angle can be given in degrees or radians, and accordingly, we calculate the arc length of a circle.\n\nDenote the arc length as $s$, the angle which the arc subtends at the center of the circle as $\\theta$, and the radius of the circle as $r$, then\n- if $\\theta$ is in radian: $s = \\theta r$.  \n- if $\\theta$ is in degree: $s = \\frac{\\theta}{180^{\\circ}}  \\pi r$.\n\n",
      "metadata": {},
      "id": "7a6815c1-7b07-4009-8e18-7efbba38d2d6"
    },
    {
      "cell_type": "code",
      "source": "%%jsxgraph\nJXG.Options.text.useMathJax = true;\nvar board = JXG.JSXGraph.initBoard('box', {boundingbox: [-15, 15, 15, -15], axis:true,grid:true, keepaspectratio:false,  showCopyright:false});\n// Create an arc out of three free points\nvar p1 = board.create('point', [1.5, 5.0]),\n    p2 = board.create('point', [1.0, 0.5]),\n    p3 = board.create('point', [5.0, 3.0]),\n\n    a = board.create('circumcirclesector', [p1, p2, p3]);\n\n",
      "metadata": {
        "trusted": true
      },
      "execution_count": 4,
      "outputs": [
        {
          "output_type": "display_data",
          "data": {
            "application/vnd.jupyter.widget-view+json": {
              "model_id": "0bb415e632994599a3d76d8d5e16a949",
              "version_major": 2,
              "version_minor": 0
            },
            "text/plain": "JSWidget(value=None, height=600, html='<!DOCTYPE html>\\n<html>\\n    <head>\\n    <style>\\n    html, body {\\n   …"
          },
          "metadata": {}
        }
      ],
      "id": "e429f447-0bd1-46c7-af6c-0ab26ca5dfa5"
    },
    {
      "cell_type": "markdown",
      "source": "## Part II: Chord of Circle\nA chord of a circle is a straight line segment whose endpoints both lie on a circular arc. The infinite line extension of a chord is a secant line, or just secant.  \nMore generally, a chord is a line segment joining two points on any curve, for instance, an ellipse.   \nA chord that passes through a circle's center point is the circle's diameter. The word chord is from the Latin chorda meaning bowstring.",
      "metadata": {},
      "id": "1852060b-00fe-4401-885c-f3e2db9434c6"
    },
    {
      "cell_type": "markdown",
      "source": "### Among properties of chords of a circle are the following:\n\n(1) Chords are equidistant from the center if and only if their lengths are equal.\n\n(2) Equal chords are subtended by equal angles from the center of the circle.\n\n(3) A chord that passes through the center of a circle is called a diameter and is the longest chord of that specific circle.\n\n(4) If the line extensions (secant lines) of chords $AB$ and $CD$ intersect at a point P, then their lengths satisfy $$AP\\cdot PB = CP\\cdot PD$$ (power of a point theorem).",
      "metadata": {},
      "id": "6099cf84-c960-406a-afca-0d3aad31037d"
    },
    {
      "cell_type": "markdown",
      "source": "### Other properties:\n(1) If two chords of a circle are equal, then their corresponding arcs are congruent and conversely, if two arcs are congruent, then their corresponding chords are equal.\n\n(2) In equal circles (or in the same circle), if two chords are equal, they cut off equal arcs.  \n\n(3) The perpendicular from the center of a circle to a chord bisects the chord.\n\n(4) The straight line joining the center and the mid-point of a chord which is not a diameter is perpendicular to the chord.\n\n(5) The perpendicular bisector of any chord of any given circle must pass through the center of that circle.\n\n(6) Equal chords of a circle (or of congruent circles) are equidistant from the center (or centers).\n\n(7) Chords equidistant from the center are equal.",
      "metadata": {},
      "id": "fb9d6fff-f5d9-44ef-9fa3-74a34d933063"
    },
    {
      "cell_type": "code",
      "source": "%%jsxgraph\nJXG.Options.text.useMathJax = true;\nvar board = JXG.JSXGraph.initBoard('box', {boundingbox: [-10, 10, 10, -10], axis:true,grid:true, keepaspectratio:false,  showCopyright:false});\n\n\nvar p = board.create('point',[1,1],{name:\"P\", snapToGrid:true});\nvar q = board.create('point',[2,4],{name:\"Q\", snapToGrid:true});\nvar r = board.create('point',[5,3],{name:\"R\", snapToGrid:true});\n\n\nvar c = board.create('circle', [p, q, r], {strokeColor: 'blue', center: {visible:true}});\nvar l1 = board.create('segment', [p, q], {strokeColor: 'red'});\nvar l2 = board.create('segment', [r, q], {strokeColor: 'red'});\n\n\nvar center = board.create('text', [-9, 9, function(){return \"\\\\[center (\"+JXG.toFixed(c.center.X(), 3)+\",\"+JXG.toFixed(c.center.Y(), 3)+\")\\\\]\";}]);\nvar radius = board.create('text', [-9, 8, function() {return \"\\\\[radius = \"+JXG.toFixed(c.Radius(), 3)+\"\\\\]\";}]);\n",
      "metadata": {
        "trusted": true
      },
      "execution_count": 5,
      "outputs": [
        {
          "output_type": "display_data",
          "data": {
            "application/vnd.jupyter.widget-view+json": {
              "model_id": "fb20df72c0424adea4ee28c2cbe24103",
              "version_major": 2,
              "version_minor": 0
            },
            "text/plain": "JSWidget(value=None, height=600, html='<!DOCTYPE html>\\n<html>\\n    <head>\\n    <style>\\n    html, body {\\n   …"
          },
          "metadata": {}
        }
      ],
      "id": "3cc5f2c7-b2a5-42ff-b268-20dd65a3e1a9"
    },
    {
      "cell_type": "markdown",
      "source": " ## Part III: Circle",
      "metadata": {},
      "id": "f360e066-a008-4eb7-87b1-793f0121a9e8"
    },
    {
      "cell_type": "markdown",
      "source": "\n ### Three points make a circle\n There is one and only one circle passing through given three non-collinear points.\n\n Steps: \n \n 1. Connect three points, form a triangle.\n\n 2. Make a perpendicular bisector of any two sides and meet at a point, which is the center of the circle. And it's the same distance from three points.\n\n\n",
      "metadata": {
        "tags": []
      },
      "id": "e833e392-cc58-4bdd-bfbd-28f51fa5f104"
    },
    {
      "cell_type": "code",
      "source": "%%jsxgraph\nJXG.Options.text.useMathJax = true;\nvar board = JXG.JSXGraph.initBoard('box', {boundingbox: [-10, 10, 10, -10], axis:true,grid:true, keepaspectratio:false,  showCopyright:false});\n\n\nvar p = board.create('point',[1,1],{name:\"P\", snapToGrid:true});\nvar q = board.create('point',[2,4],{name:\"Q\", snapToGrid:true});\nvar r = board.create('point',[5,3],{name:\"R\", snapToGrid:true});\n\n\nvar c = board.create('circle', [p, q, r], {strokeColor: 'blue', center: {visible:true}});\n\nvar polygon = board.create('polygon', [p, q, r], {fillColor: 'yellow'});\n\n\nvar center = board.create('text', [-9, 9, function(){return \"\\\\[center (\"+JXG.toFixed(c.center.X(), 3)+\",\"+JXG.toFixed(c.center.Y(), 3)+\")\\\\]\";}]);\nvar radius = board.create('text', [-9, 8, function() {return \"\\\\[radius = \"+JXG.toFixed(c.Radius(), 3)+\"\\\\]\";}]);\n",
      "metadata": {
        "trusted": true
      },
      "execution_count": 6,
      "outputs": [
        {
          "output_type": "display_data",
          "data": {
            "application/vnd.jupyter.widget-view+json": {
              "model_id": "d46c46dfca9f423e9ddbd3e1fe31e1d5",
              "version_major": 2,
              "version_minor": 0
            },
            "text/plain": "JSWidget(value=None, height=600, html='<!DOCTYPE html>\\n<html>\\n    <head>\\n    <style>\\n    html, body {\\n   …"
          },
          "metadata": {}
        }
      ],
      "id": "cb6ccd42-65d3-4270-b575-d823311a44db"
    },
    {
      "cell_type": "markdown",
      "source": "### The angle properties of a circle\nProperties:\n\n1. The angle subtended by an arc of a circle at the center is double the angle subtended by the arc at any point on the remaining part of the circumference.\n\n2. Angles in the same segment are equal. \n\n3. The arcs are proportional to their corresponding angles at the circumference.\n\n4. The angle in a semi-circle is a right angle.\n\n5. If the angle at the circumference is a right angle, then the chord that subtends the angle is a diameter.\n\n",
      "metadata": {},
      "id": "4ff7398a-6a5a-4574-a6c6-19fa4d74cc1b"
    },
    {
      "cell_type": "markdown",
      "source": "### Radius & center together define a circle\nJust like the equation of a line, which is determined by Slope and Intercept. A circle is determined by the **radius** and the **center**. The **center** determines the position and the **radius** determines the size.  \nFor a circle with center $(h,k)$ and radius $r$, the function is:  \n$$r^2 = (y-k)^2 + (x-h)^2$$\n\n",
      "metadata": {},
      "id": "f220e015-ed0c-4f27-b8c9-04df5cc62d00"
    },
    {
      "cell_type": "code",
      "source": "%%jsxgraph\nJXG.Options.text.useMathJax = true;\nvar board = JXG.JSXGraph.initBoard('box', {boundingbox: [-15, 15, 15, -15], axis:true,grid:true, keepaspectratio:false,  showCopyright:false});\n// Create an arc out of three free points\nvar p1 = board.create('point', [1.5, 5.0]),\n    p2 = board.create('point', [1.0, 0.5]),\n    p3 = board.create('point', [5.0, 3.0]),\n\n    a = board.create('circle', [p1, p2, p3]);\nvar ct = board.create('circumcenter', [p1, p2, p3]);\nvar polygon = board.create('polygon', [p1, p2, ct], {fillColor: 'yellow'});\nvar polygon = board.create('polygon', [p1, p3, ct], {fillColor: 'red'});\nvar polygon = board.create('polygon', [p3, p2, ct], {fillColor: 'blue'});\nvar a1 = board.create('angle', [p1, ct,p2]);\nvar a2 = board.create('angle', [p1, ct,p3]);\nvar a3 = board.create('angle', [p3, ct,p2]);\nt = board.create('text', [-2, 2, function() { return JXG.toFixed(a1.Value(), 2); }]);\nt1 = board.create('text', [5, 5, function() { return JXG.toFixed(a3.Value(), 2); }]);\nt2 = board.create('text', [5, -3, function() { return JXG.toFixed(a2.Value(), 2); }]);",
      "metadata": {
        "trusted": true
      },
      "execution_count": 7,
      "outputs": [
        {
          "output_type": "display_data",
          "data": {
            "application/vnd.jupyter.widget-view+json": {
              "model_id": "702d7b8a90874031bd4255bd71ed886e",
              "version_major": 2,
              "version_minor": 0
            },
            "text/plain": "JSWidget(value=None, height=600, html='<!DOCTYPE html>\\n<html>\\n    <head>\\n    <style>\\n    html, body {\\n   …"
          },
          "metadata": {}
        }
      ],
      "id": "14c859ec-de07-4ea6-a0d3-a9113a66ef45"
    },
    {
      "cell_type": "markdown",
      "source": "## Part IV: Cyclic quadrilateral",
      "metadata": {},
      "id": "d4c0f360-61e9-4dff-a725-c56682605313"
    },
    {
      "cell_type": "markdown",
      "source": "### The properties of a cyclic quadrilateral\n\nIn a cyclic quadrilateral, all the four vertices of the quadrilateral lie on the circumference of the circle. The four sides of the inscribed quadrilateral are the four chords of the circle. The measure of an exterior angle at a vertex is equal to the opposite interior angle.",
      "metadata": {},
      "id": "e6fb1428-8da2-4a38-8daa-b7200c698c6d"
    },
    {
      "cell_type": "code",
      "source": "%%jsxgraph\nJXG.Options.text.useMathJax = true;\nvar board = JXG.JSXGraph.initBoard('box', {boundingbox: [-15, 15, 15, -15], axis:true,grid:true, keepaspectratio:false,  showCopyright:false});\n\nvar p1 = board.create('point', [0, 2.0],{name:'O',face:'',label:{offset:[-10,5]}});\nvar c1 = board.create('circle', [p1, 6],);\nvar g1 = board.create('glider', [-1.0, 4, c1],{face:'',label:{offset:[-10,10]}});\n\nvar g2 = board.create('glider', [1.0, 4, c1],{face:''});\n\nvar g3 = board.create('glider', [-1.2, 1, c1],{face:'',label:{offset:[-15,-5]}});\nvar g4 = board.create('glider', [1.0, 1, c1],{face:'',label:{offset:[5,-5]}});\n\nvar l1 = board.create('segment', [g1, g2],);\n\nvar l2 = board.create('segment', [g2, g4],);\nvar l3 = board.create('segment', [g3, g4]);\nvar l4 = board.create('segment', [g1, g3]);\n\nvar a1 = board.create('angle', [g3, g1, g2],{radius:1,color:'blue'});\nvar a2 = board.create('angle', [g2, g4, g3],{radius:1,color:'blue'});\n\nvar a3 = board.create('angle', [g4, g3, g1],{radius:1});\nvar a4 = board.create('angle', [g1, g2, g4],{radius:1});\n\nvar l5 = board.create('segment', [p1, g3],{strokeColor: 'red'});\nvar l6 = board.create('segment', [p1, g2],{strokeColor: 'red'});",
      "metadata": {
        "trusted": true
      },
      "execution_count": 8,
      "outputs": [
        {
          "output_type": "display_data",
          "data": {
            "application/vnd.jupyter.widget-view+json": {
              "model_id": "dc41324f6dc142a2900ceec7c8e6bf6d",
              "version_major": 2,
              "version_minor": 0
            },
            "text/plain": "JSWidget(value=None, height=600, html='<!DOCTYPE html>\\n<html>\\n    <head>\\n    <style>\\n    html, body {\\n   …"
          },
          "metadata": {}
        }
      ],
      "id": "a17d23fb-7cc9-4744-8623-e6bb4b944099"
    },
    {
      "cell_type": "markdown",
      "source": "1. The opposite angles of a cyclic quadrilateral are supplementary.\n2. An exterior angle of a cyclic quadrilateral equals its interior opposite angle.",
      "metadata": {},
      "id": "59b2f0e2-cd92-4e86-be61-044122b12bdc"
    },
    {
      "cell_type": "markdown",
      "source": "## Tangents to a circle",
      "metadata": {},
      "id": "59e19517-dac9-4de2-86c5-2c77c772011a"
    },
    {
      "cell_type": "code",
      "source": "%%jsxgraph\nJXG.Options.text.useMathJax = true;\nbrd = JXG.JSXGraph.initBoard('box', {boundingbox: [-15, 15, 15, -15], axis:true,grid:true, keepaspectratio:false,  showCopyright:false});\nbrd.options.point.strokeColor = 'red';\nbrd.options.point.fillColor = 'red';\nbrd.options.point.strokeOpacity = 0.8;\nbrd.options.point.fillOpacity = 0.8;\n\nm = brd.create('point',[0.5,0.3]);\nb = brd.create('point',[3,0]);\nc = brd.create('circle',[m,b]);\np = brd.create('point',[-4,2]);\n\n// If p is not on c, the tangent is the polar.\nt = brd.create('tangent', [c,p], {name:'polar', withLabel:true}); \n\ni1 = brd.create('intersection', [c,t,0],{visible:false});\ni2 = brd.create('intersection', [c,t,1],{visible:false});\nt1 = brd.create('tangent', [c,i1]);\nt2 = brd.create('tangent', [c,i2]);",
      "metadata": {
        "trusted": true
      },
      "execution_count": 9,
      "outputs": [
        {
          "output_type": "display_data",
          "data": {
            "application/vnd.jupyter.widget-view+json": {
              "model_id": "434775137c534f7090e2709c6974bc47",
              "version_major": 2,
              "version_minor": 0
            },
            "text/plain": "JSWidget(value=None, height=600, html='<!DOCTYPE html>\\n<html>\\n    <head>\\n    <style>\\n    html, body {\\n   …"
          },
          "metadata": {}
        }
      ],
      "id": "91b13216-5567-4d20-9edf-3dc97239095c"
    },
    {
      "cell_type": "markdown",
      "source": "Properties:\n\n1. A tangent to a circle is perpendicular to the radius through the point of contact.\n\n2. The straight line perpendicular to a radius of a circle at its external extremity is a tangent to the circle.\n\n3. The perpendicular to a tangent at its point of contact passes through the center of the circle.\n\n4. If two tangents are drawn to a circle from an external point, then:  \n- the distances from the external point to the points of contact are equal  \n- the tangents subtend equal angles at the center\n- the straight line joining the center to the external point bisects the angle between the tangents.\n\n5. If a straight line is tangent to a circle, then the tangent-chord angle is equal to the angle in the alternate segment.\n\n6. If a straight line passes through an end point of a chord of a circle so that the angle it makes with the chord is equal to the angle in the alternate segment, then the straight line touches the circle.",
      "metadata": {},
      "id": "1c057563-8c88-4160-a12e-4dfa9ffac98a"
    },
    {
      "cell_type": "markdown",
      "source": "### Find the two tangent equations of a circle in standard form",
      "metadata": {},
      "id": "3c854ce8-a8ee-4e3e-9be8-98287100ab8b"
    },
    {
      "cell_type": "markdown",
      "source": "Let's assume the starting coordinates $$(x_0, y_0),$$ the center coordinates $$(x', y')$$ the equation of the line：$$ Ax+Bx+C=0$$\n\nLet's substitute the starting point into the equation:\n$$ Ax_0+By_0+C=0$$\n\ntransposition\n$$ C=-(Ax_0+By_0)$$\n\nSo the equation of the line becomes:\n$$Ax+By-(Ax_0+By_0)=0,$$\n\n\n",
      "metadata": {},
      "id": "1d39bc5f-647e-438c-8992-45d20d266684"
    },
    {
      "cell_type": "markdown",
      "source": "Using the distance between the line and the center of the circle as the radius $r$, the equation is established:\n$$|Ax'+By'-Ax_0-By_0|/\\sqrt{A^2+B^2} = r^2$$\nlet \n$$m_1 = (x' -x_0)-r^2$$ \n$$m_2 = (y' -y_0)-r^2$$ \n$$m_3 = (x' -x_0)(y'-y0)$$ \nso the origial equation is \n$$m_1A^2+m_2B^2+2m_3AB = 0$$\nwhen $$m_1 \\neq0$$\n$$ A = \\frac{-m_3\\pm\\sqrt{m_3^2 -m_1m_2}}{m_1}B$$\nlet $B = 1$:\n$$ A = \\frac{-m_3\\pm\\sqrt{m_3^2-m_1m_2}}{m_1}$$\nwhen $$m_1 = 0, m_2\\neq0$$\nlet $A = 1$:\n$$B = \\frac {-m_3\\pm|m_3|}{m_2}$$\nwhen $m_1 = m_2 =0$,\nThe equations of the two lines are respectively:\n$$ x = x_0, y = y_0 $$",
      "metadata": {},
      "id": "b01b5350-3843-48ce-aae4-4354516a8de9"
    }
  ]
}