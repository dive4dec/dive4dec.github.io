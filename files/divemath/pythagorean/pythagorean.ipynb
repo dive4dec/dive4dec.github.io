{
  "metadata": {
    "kernelspec": {
      "name": "xeus-python",
      "display_name": "Python (XPython)",
      "language": "python"
    },
    "language_info": {
      "file_extension": ".py",
      "mimetype": "text/x-python",
      "name": "python",
      "version": "3.10.2"
    },
    "widgets": {
      "application/vnd.jupyter.widget-state+json": {
        "version_major": 2,
        "version_minor": 0,
        "state": {
          "b9aab11266dd42c6bf7d769afa3015f9": {
            "model_name": "LayoutModel",
            "model_module": "@jupyter-widgets/base",
            "model_module_version": "1.2.0",
            "state": {}
          },
          "b6fa032fb60e4553bbf62034de946a71": {
            "model_name": "JSWidgetModel",
            "model_module": "jupyter-divewidgets",
            "model_module_version": "^0.1.5",
            "state": {
              "_model_module_version": "^0.1.5",
              "_view_module_version": "^0.1.5",
              "html": "<!DOCTYPE html>\n<html>\n    <head>\n    <style>\n    html, body {\n        height: 100%;\n    }\n    body {\n        width: 100%;\n        display: flex;\n        padding: 0;\n        margin: 0;\n    }\n    .jxgbox {\n        width:100%; \n        flex-grow: 1;\n    }\n    </style>\n    <link rel=\"stylesheet\" type=\"text/css\" href=\"https://jsxgraph.org/distrib/jsxgraph.css\" />\n    <script type=\"text/javascript\" src=\"https://cdn.jsdelivr.net/npm/jsxgraph/distrib/jsxgraphcore.js\"></script>\n    <script type=\"text/javascript\" src=\"https://cdn.jsdelivr.net/npm/mathjax@3/es5/tex-chtml.js\"></script>\n    </head>\n<body>\n<div id=\"box\" class=\"jxgbox\"></div>\n</body>\n</html>",
              "js": "JXG.Options.text.useMathJax = true;\nvar board = JXG.JSXGraph.initBoard('box', {boundingbox: [-1, 17, 17, -3], axis:true, grid:true, showCopyright:false});\nvar a = board.create('slider', [[1, -1], [5,-1], [2, 4, 7]], {name:'a', snapWidth: 0.1});\nvar b = board.create('slider', [[8, -1], [12,-1], [2, 3, 7]], {name:'b', snapWidth: 0.1});\n\nvar s = board.create('point', [6,6],{face:\"\", withLabel:false});\nvar right_ab = board.create('transform', [()=>a.Value()+b.Value(),0], {type:'translate'});\nvar right_a = board.create('transform', [()=>a.Value(),0], {type:'translate'});\nvar right_b = board.create('transform', [()=>b.Value(),0], {type:'translate'});\nvar left_a = board.create('transform', [()=> -a.Value(),0], {type:'translate'});\nvar left_b = board.create('transform', [()=> -b.Value(),0], {type:'translate'});\nvar up_ab = board.create('transform', [0,()=>a.Value()+b.Value()], {type:'translate'});\nvar up_a = board.create('transform', [0,()=>a.Value()], {type:'translate'});\nvar up_b = board.create('transform', [0,()=>b.Value()], {type:'translate'});\nvar down_a = board.create('transform', [0,()=> -a.Value()], {type:'translate'});\nvar down_b = board.create('transform', [0,()=> -b.Value()], {type:'translate'});\nvar no_move = board.create('transform', [0,0], {type:'translate'});\n\n\nvar tri1 = [];\ntri1[0] = board.create('point', [s, up_b], {visible: true, size:2, name:'A', label:{offset:[-10,10]}});\ntri1[1] = board.create('point', [tri1[0], down_b], {visible: true, size:2, name:'C', label:{offset:[-10,-10]}});\ntri1[2] = board.create('point', [tri1[0], [down_b,right_a]], {visible: true, size:2, name:'B', label:{offset:[10,0]}});\nvar po1 = board.create('polygon',[tri1[0], tri1[1],tri1[2]], \n                        {withLines: true, fillColor:'none', highlightFillColor:'none',\n                         vertices:{face:'', withLabel: false},\n                         borders: {strokeWidth:1, strokeColor:'black'}});\n\nboard.create('segment',[tri1[0],tri1[1]],{strokeWidth:0, withLabel: true, name:'b', label:{offset:[-10, b.Value()/2]}});\nboard.create('segment',[tri1[1],tri1[2]],{strokeWidth:0, withLabel: true, name:'a', label:{offset:[a.Value()/2, -10]}});\nboard.create('segment',[tri1[2],tri1[0]],{strokeWidth:0, withLabel: true, name:'c', label:{offset:[a.Value()/2-10, b.Value()/2-10]}});\n\n\nvar po_a = board.create('regularpolygon',[tri1[1],tri1[0],4], \n                        {withLines: true, fillColor:'red', highlightFillColor:'none',\n                         vertices:{face:'', withLabel: false},\n                         borders: {strokeWidth:1, strokeColor:'black'}});\n\nvar po_b = board.create('regularpolygon',[tri1[2],tri1[1],4], \n                        {withLines: true, fillColor:'green', highlightFillColor:'none',\n                         vertices:{face:'', withLabel: false},\n                         borders: {strokeWidth:1, strokeColor:'black'}});\n\nvar po_c = board.create('regularpolygon',[tri1[0],tri1[2],4], \n                        {withLines: true, fillColor:'yellow', highlightFillColor:'none',\n                         vertices:{face:'', withLabel: false},\n                         borders: {strokeWidth:1, strokeColor:'black'}});\n\n\nboard.create('text',[()=>s.X()+a.Value()/2,()=>s.Y()-a.Value()/2,function(){\n        return (po_b.Area()).toFixed(2);\n    }],{anchorX: 'middle', anchorY: 'auto'});\n\nboard.create('text',[()=>s.X()-b.Value()/2,()=>s.Y()+b.Value()/2,function(){\n        return (po_a.Area()).toFixed(2);\n    }],{anchorX: 'middle', anchorY: 'auto'});\n    \nboard.create('text',[()=>s.X()+a.Value(),()=>s.Y()+b.Value(),function(){\n        return (po_c.Area()).toFixed(2);\n    }],{anchorX: 'middle', anchorY: 'auto'});",
              "layout": "IPY_MODEL_b9aab11266dd42c6bf7d769afa3015f9"
            }
          },
          "18a710ee15b44273b64b77b4b9919abc": {
            "model_name": "LayoutModel",
            "model_module": "@jupyter-widgets/base",
            "model_module_version": "1.2.0",
            "state": {}
          },
          "b9c11fb18f764d86a910a68b057910c9": {
            "model_name": "JSWidgetModel",
            "model_module": "jupyter-divewidgets",
            "model_module_version": "^0.1.5",
            "state": {
              "_model_module_version": "^0.1.5",
              "_view_module_version": "^0.1.5",
              "html": "<!DOCTYPE html>\n<html>\n    <head>\n    <style>\n    html, body {\n        height: 100%;\n    }\n    body {\n        width: 100%;\n        display: flex;\n        padding: 0;\n        margin: 0;\n    }\n    .jxgbox {\n        width:100%; \n        flex-grow: 1;\n    }\n    </style>\n    <link rel=\"stylesheet\" type=\"text/css\" href=\"https://jsxgraph.org/distrib/jsxgraph.css\" />\n    <script type=\"text/javascript\" src=\"https://cdn.jsdelivr.net/npm/jsxgraph/distrib/jsxgraphcore.js\"></script>\n    <script type=\"text/javascript\" src=\"https://cdn.jsdelivr.net/npm/mathjax@3/es5/tex-chtml.js\"></script>\n    </head>\n<body>\n<div id=\"box\" class=\"jxgbox\"></div>\n</body>\n</html>",
              "js": "JXG.Options.text.useMathJax = true;\nvar board = JXG.JSXGraph.initBoard('box', {boundingbox: [-1, 13, 15, -3], axis:true, showCopyright:false});\nvar a = board.create('slider', [[1, -1], [5,-1], [2, 6, 7]], {name:'a', snapWidth: 0.1});\nvar b = board.create('slider', [[8, -1], [12,-1], [2, 3, 7]], {name:'b', snapWidth: 0.1});\nvar m = board.create('slider', [[1, -2], [12,-2], [0, 0, 2]], {name:'move', snapWidth: 0.1, withLabel:false});\nboard.create('text',[1+m.point2.X(),m.point2.Y(),\"move\"],{fixed: true, anchorX: 'middle'});\nvar s = board.create('point', [1,1],{face:\"\", withLabel:false});\nvar right_ab = board.create('transform', [()=>a.Value()+b.Value(),0], {type:'translate'});\nvar right_a = board.create('transform', [()=>a.Value(),0], {type:'translate'});\nvar right_b = board.create('transform', [()=>b.Value(),0], {type:'translate'});\nvar left_a = board.create('transform', [()=> -a.Value(),0], {type:'translate'});\nvar left_b = board.create('transform', [()=> -b.Value(),0], {type:'translate'});\nvar up_ab = board.create('transform', [0,()=>a.Value()+b.Value()], {type:'translate'});\nvar up_a = board.create('transform', [0,()=>a.Value()], {type:'translate'});\nvar up_b = board.create('transform', [0,()=>b.Value()], {type:'translate'});\nvar down_a = board.create('transform', [0,()=> -a.Value()], {type:'translate'});\nvar down_b = board.create('transform', [0,()=> -b.Value()], {type:'translate'});\nvar no_move = board.create('transform', [0,0], {type:'translate'});\n\n\nvar r2 = board.create('point', [s,right_ab], {visible: false});\nvar po0 =  board.create('regularpolygon',[s,r2,4], \n                        {withLines: true, fillColor:'none', highlightFillColor:'none',\n                         vertices:{face:'', withLabel: false},\n                         borders: {strokeWidth:1, strokeColor:'black'}});\n\nvar tri1 = [];\ntri1[0] = board.create('point', [s, up_b], {visible: false});\ntri1[1] = board.create('point', [tri1[0], down_b], {visible: false});\ntri1[2] = board.create('point', [tri1[0], [down_b,right_a]], {visible: false});\nvar po1 = board.create('polygon',[tri1[0],tri1[1],tri1[2]], \n                        {withLines: true, fillColor:'red', highlightFillColor:'none',\n                         vertices:{face:'', withLabel: false},\n                         borders: {strokeWidth:1, strokeColor:'black'}});\n\nboard.create('segment',[tri1[0],tri1[1]],{strokeWidth:0, withLabel: true, name:'b', label:{offset:[-10, b.Value()/2]}});\nboard.create('segment',[tri1[1],tri1[2]],{strokeWidth:0, withLabel: true, name:'a', label:{offset:[a.Value()/2, -10]}});\nboard.create('segment',[tri1[2],tri1[0]],{strokeWidth:0, withLabel: true, name:'c', label:{offset:[a.Value()/2-10, b.Value()/2-10]}});\n\nvar move_tri2 = board.create('transform', [()=>a.Value(), ()=>b.Value()*(1-Math.min(m.Value(),1))], {type:'translate'});\nvar tri2 = [];\ntri2[0] = board.create('point', [s, move_tri2], {visible: false});\ntri2[1] = board.create('point', [tri2[0], right_b], {visible: false});\ntri2[2] = board.create('point', [tri2[0], [right_b,up_a]], {visible: false});\nvar po2 = board.create('polygon',[tri2[0],tri2[1],tri2[2]], \n                        {withLines: true, fillColor:'green', highlightFillColor:'none',\n                         vertices:{face:'', withLabel: false},\n                         borders: {strokeWidth:1, strokeColor:'black'}});\n\nvar move_tri3 = board.create('transform', [()=>a.Value()+b.Value()*(Math.max(m.Value(),1)-1), ()=>a.Value()*(Math.max(m.Value(),1)-1)], {type:'translate'});\nvar tri3 = [];\ntri3[0] = board.create('point', [s, move_tri3], {visible: false});\ntri3[1] = board.create('point', [tri3[0], up_b], {visible: false});\ntri3[2] = board.create('point', [tri3[0], [up_b,left_a]], {visible: false});\nvar po3 = board.create('polygon',[tri3[0],tri3[1],tri3[2]], \n                        {withLines: true, fillColor:'blue', highlightFillColor:'none',\n                         vertices:{face:'', withLabel: false},\n                         borders: {strokeWidth:1, strokeColor:'black'}});\n\n\nvar move_tri4 = board.create('transform', [()=>b.Value()+a.Value()*(1-Math.min(m.Value(),1)), ()=>a.Value()+b.Value()], {type:'translate'});\nvar tri4 = [];\ntri4[0] = board.create('point', [s, move_tri4], {visible: false});\ntri4[1] = board.create('point', [tri4[0], left_b], {visible: false});\ntri4[2] = board.create('point', [tri4[0], [left_b,down_a]], {visible: false});\nvar po4 = board.create('polygon',[tri4[0],tri4[1],tri4[2]], \n                        {withLines: true, fillColor:'yellow', highlightFillColor:'none',\n                         vertices:{face:'', withLabel: false},\n                         borders: {strokeWidth:1, strokeColor:'black'}});\n\nboard.create('text',[()=>s.X()+1/2*a.Value(),()=>s.Y()+b.Value()+1/2*a.Value(),function(){\n        return '\\\\[ a^2 \\\\]';\n    }],{visible: ()=> {return (m.Value()<0.3);}, anchorX: 'middle', anchorY: 'auto'});\n\nboard.create('text',[()=>s.X()+a.Value()+1/2*b.Value(),()=>s.Y()+1/2*b.Value(),function(){\n    return '\\\\[b^2\\\\]';\n    }],{visible: ()=> {return (m.Value()<0.3);}, anchorX: 'middle', anchorY: 'auto'});\n\nboard.create('text',[()=>s.X()+1/2*(a.Value()+b.Value()),()=>s.Y()+1/2*(a.Value()+b.Value()),function(){\n    return '\\\\[c^2\\\\]';\n    }],{visible: ()=> {return (m.Value()>1.9);}, anchorX: 'middle', anchorY: 'auto'});",
              "layout": "IPY_MODEL_18a710ee15b44273b64b77b4b9919abc"
            }
          },
          "07d6193690514bfc964a9383bc49b157": {
            "model_name": "LayoutModel",
            "model_module": "@jupyter-widgets/base",
            "model_module_version": "1.2.0",
            "state": {}
          },
          "62477886779242d5835cc9bfd9759a8d": {
            "model_name": "JSWidgetModel",
            "model_module": "jupyter-divewidgets",
            "model_module_version": "^0.1.5",
            "state": {
              "_model_module_version": "^0.1.5",
              "_view_module_version": "^0.1.5",
              "html": "<!DOCTYPE html>\n<html>\n    <head>\n    <style>\n    html, body {\n        height: 100%;\n    }\n    body {\n        width: 100%;\n        display: flex;\n        padding: 0;\n        margin: 0;\n    }\n    .jxgbox {\n        width:100%; \n        flex-grow: 1;\n    }\n    </style>\n    <link rel=\"stylesheet\" type=\"text/css\" href=\"https://jsxgraph.org/distrib/jsxgraph.css\" />\n    <script type=\"text/javascript\" src=\"https://cdn.jsdelivr.net/npm/jsxgraph/distrib/jsxgraphcore.js\"></script>\n    <script type=\"text/javascript\" src=\"https://cdn.jsdelivr.net/npm/mathjax@3/es5/tex-chtml.js\"></script>\n    </head>\n<body>\n<div id=\"box\" class=\"jxgbox\"></div>\n</body>\n</html>",
              "js": "JXG.Options.text.useMathJax = true;\nvar board = JXG.JSXGraph.initBoard('box', {boundingbox: [-1, 13, 15, -3], axis:true, showCopyright:false});\nvar a = board.create('slider', [[1, -1], [5,-1], [2, 6, 7]], {name:'a', snapWidth: 0.1});\nvar b = board.create('slider', [[8, -1], [12,-1], [2, 3, 7]], {name:'b', snapWidth: 0.1});\nvar m = board.create('slider', [[1, -2], [12,-2], [0, 0, 2]], {name:'move', snapWidth: 0.1, withLabel:false});\nboard.create('text',[1+m.point2.X(),m.point2.Y(),\"move\"],{fixed: true, anchorX: 'middle'});\nvar s = board.create('point', [1,1],{face:\"\", withLabel:false});\nvar right_ab = board.create('transform', [()=>a.Value()+b.Value(),0], {type:'translate'});\nvar right_a = board.create('transform', [()=>a.Value(),0], {type:'translate'});\nvar right_b = board.create('transform', [()=>b.Value(),0], {type:'translate'});\nvar left_a = board.create('transform', [()=> -a.Value(),0], {type:'translate'});\nvar left_b = board.create('transform', [()=> -b.Value(),0], {type:'translate'});\nvar up_ab = board.create('transform', [0,()=>a.Value()+b.Value()], {type:'translate'});\nvar up_a = board.create('transform', [0,()=>a.Value()], {type:'translate'});\nvar up_b = board.create('transform', [0,()=>b.Value()], {type:'translate'});\nvar down_a = board.create('transform', [0,()=> -a.Value()], {type:'translate'});\nvar down_b = board.create('transform', [0,()=> -b.Value()], {type:'translate'});\nvar no_move = board.create('transform', [0,0], {type:'translate'});\n\n\nvar r2 = board.create('point', [s,right_ab], {visible: false});\nvar po0 =  board.create('regularpolygon',[s,r2,4], \n                        {withLines: true, fillColor:'none', highlightFillColor:'none',\n                         vertices:{face:'', withLabel: false},\n                         borders: {strokeWidth:1, strokeColor:'black'}});\n\nvar tri1 = [];\ntri1[0] = board.create('point', [s, up_b], {visible: false});\ntri1[1] = board.create('point', [tri1[0], down_b], {visible: false});\ntri1[2] = board.create('point', [tri1[0], [down_b,right_a]], {visible: false});\nvar po1 = board.create('polygon',[tri1[0],tri1[1],tri1[2]], \n                        {withLines: true, fillColor:'red', highlightFillColor:'none',\n                         vertices:{face:'', withLabel: false},\n                         borders: {strokeWidth:1, strokeColor:'black'}});\n\nboard.create('segment',[tri1[0],tri1[1]],{strokeWidth:0, withLabel: true, name:'b', label:{offset:[-10, b.Value()/2]}});\nboard.create('segment',[tri1[1],tri1[2]],{strokeWidth:0, withLabel: true, name:'a', label:{offset:[a.Value()/2, -10]}});\nboard.create('segment',[tri1[2],tri1[0]],{strokeWidth:0, withLabel: true, name:'c', label:{offset:[a.Value()/2-10, b.Value()/2-10]}});\n\nvar move_tri2 = board.create('transform', [()=>a.Value(), 0], {type:'translate'});\nvar tri2 = [];\ntri2[0] = board.create('point', [s, move_tri2], {visible: false});\ntri2[1] = board.create('point', [tri2[0], right_b], {visible: false});\ntri2[2] = board.create('point', [tri2[0], [right_b,up_a]], {visible: false});\nvar po2 = board.create('polygon',[tri2[0],tri2[1],tri2[2]], \n                        {withLines: true, fillColor:'green', highlightFillColor:'none',\n                         vertices:{face:'', withLabel: false},\n                         borders: {strokeWidth:1, strokeColor:'black'}});\n\n//anchor of tri3 should be changed\n/*\nvar move_tri3 = board.create('transform', [()=>a.Value()+b.Value(), ()=>a.Value()], {type:'translate'});\nvar tri3 = [];\ntri3[0] = board.create('point', [s, move_tri3], {visible: false});\ntri3[1] = board.create('point', [tri3[0], up_b], {visible: false});\ntri3[2] = board.create('point', [tri3[0], [up_b,left_a]], {visible: false});\nvar po3 = board.create('polygon',[tri3[0],tri3[1],tri3[2]], \n                        {withLines: true, fillColor:'blue', highlightFillColor:'none',\n                         vertices:{face:'', withLabel: false},\n                         borders: {strokeWidth:1, strokeColor:'black'}});\n*/\n\nvar move_tri3_2 = board.create('transform', [()=>b.Value(), ()=>a.Value()+b.Value()], {type:'translate'});\nvar tri3_2 = [];\ntri3_2[0] = board.create('point', [s, move_tri3_2], {visible: false});\ntri3_2[1] = board.create('point', [tri3_2[0], right_a], {visible: false});\ntri3_2[2] = board.create('point', [tri3_2[0], [right_a, down_b]], {visible: false});\nvar po3 = board.create('polygon',[tri3_2[0],tri3_2[1],tri3_2[2]], \n                        {withLines: true, fillColor:'blue', highlightFillColor:'none',\n                         vertices:{face:'', withLabel: false},\n                         borders: {strokeWidth:1, strokeColor:'black'}});\n\nvar move_tri4 = board.create('transform', [()=>b.Value(), ()=>a.Value()+b.Value()], {type:'translate'});\nvar tri4 = [];\ntri4[0] = board.create('point', [s, move_tri4], {visible: false});\ntri4[1] = board.create('point', [tri4[0], left_b], {visible: false});\ntri4[2] = board.create('point', [tri4[0], [left_b,down_a]], {visible: false});\nvar po4 = board.create('polygon',[tri4[0],tri4[1],tri4[2]], \n                        {withLines: true, fillColor:'yellow', highlightFillColor:'none',\n                         vertices:{face:'', withLabel: false},\n                         borders: {strokeWidth:1, strokeColor:'black'}});\n\nvar rot_tri2 = board.create('transform', [function(){return m.Value()*Math.PI/4;}, tri2[0]], {type:'rotate'});\nrot_tri2.bindTo([tri2[1],tri2[2]]);\n\nvar rot_tri3 = board.create('transform', [function(){return - m.Value()*Math.PI/4;}, tri3_2[0]], {type:'rotate'});\nrot_tri3.bindTo([tri3_2[1],tri3_2[2]]);\n\nboard.create('segment',[tri2[1], board.create('point', [tri2[1], right_b], {visible: false})],{visible:()=>(m.Value()>=1.99),strokeWidth:1, dash:2});\n\n\nboard.create('text',[()=>s.X()+a.Value()*1/2+b.Value(),()=>s.Y()+b.Value()+1/2*a.Value(),function(){\n        return '\\\\[ a^2 \\\\]';\n    }],{visible: ()=> {return (m.Value()>=1.99);}, anchorX: 'middle', anchorY: 'auto'});\n\nboard.create('text',[()=>s.X()+a.Value()+1/2*b.Value(),()=>s.Y()+1/2*b.Value(),function(){\n    return '\\\\[b^2\\\\]';\n    }],{visible: ()=> {return (m.Value()>=1.99);}, anchorX: 'middle', anchorY: 'auto'});\n\nboard.create('text',[()=>s.X()+1/2*(a.Value()+b.Value()),()=>s.Y()+1/2*(a.Value()+b.Value()),function(){\n    return '\\\\[c^2\\\\]';\n    }],{visible: ()=> {return (m.Value()<0.4);}, anchorX: 'middle', anchorY: 'auto'});",
              "layout": "IPY_MODEL_07d6193690514bfc964a9383bc49b157"
            }
          },
          "cff9b75c74ca40468d83182834d22e4b": {
            "model_name": "LayoutModel",
            "model_module": "@jupyter-widgets/base",
            "model_module_version": "1.2.0",
            "state": {}
          },
          "fd6bb46419ed4814a092f8badc1b3e8d": {
            "model_name": "JSWidgetModel",
            "model_module": "jupyter-divewidgets",
            "model_module_version": "^0.1.5",
            "state": {
              "_model_module_version": "^0.1.5",
              "_view_module_version": "^0.1.5",
              "html": "<!DOCTYPE html>\n<html>\n    <head>\n    <style>\n    html, body {\n        height: 100%;\n    }\n    body {\n        width: 100%;\n        display: flex;\n        padding: 0;\n        margin: 0;\n    }\n    .jxgbox {\n        width:100%; \n        flex-grow: 1;\n    }\n    </style>\n    <link rel=\"stylesheet\" type=\"text/css\" href=\"https://jsxgraph.org/distrib/jsxgraph.css\" />\n    <script type=\"text/javascript\" src=\"https://cdn.jsdelivr.net/npm/jsxgraph/distrib/jsxgraphcore.js\"></script>\n    <script type=\"text/javascript\" src=\"https://cdn.jsdelivr.net/npm/mathjax@3/es5/tex-chtml.js\"></script>\n    </head>\n<body>\n<div id=\"box\" class=\"jxgbox\"></div>\n</body>\n</html>",
              "js": "JXG.Options.text.useMathJax = true;\nvar board = JXG.JSXGraph.initBoard('box', {boundingbox: [-1, 13, 13, -3], axis:true,grid:true, showCopyright:false});\n\nconst sx =1, sy = 1;\nconst a=6, b=4;\n\nvar p1, col1, pol1, g1;\ncol1 = 'red';\np1 = [];\np1.push(board.create('point',[sx, sy+b], {size: 5, strokeColor:'none', fillColor: 'none', withLabel: false}));\np1.push(board.create('point',[sx, sy], {size: 5, strokeColor:'none', fillColor:'none', withLabel: false}));\np1.push(board.create('point',[sx+a, sy], {size: 5, strokeColor:'none', fillColor:'none', withLabel: false}));\npol1 = board.create('polygon', p1, {hasInnerPoints: true, fillColor:col1});\ng1 = board.create('group', p1)\ng1.setRotationCenter('centroid')\ng1.setRotationPoints([p1[0], p1[1], p1[2]]);\n\nboard.create('segment',[p1[0],p1[1]],{strokeWidth:0, withLabel: true, name:'b', label:{offset:[10, b/2]}});\nboard.create('segment',[p1[1],p1[2]],{strokeWidth:0, withLabel: true, name:'a', label:{offset:[a/2, 10]}});\nboard.create('segment',[p1[2],p1[0]],{strokeWidth:0, withLabel: true, name:'c', label:{offset:[a/2-10, b/2-10]}});\n\nvar p2, col2, pol2, g2;\ncol2 = 'green';\np2 = [];\np2.push(board.create('point',[sx+a+1, sy], {size: 5, strokeColor:'none', fillColor: 'none', withLabel: false}));\np2.push(board.create('point',[sx+a+1+b, sy], {size: 5, strokeColor:'none', fillColor:'none', withLabel: false}));\np2.push(board.create('point',[sx+a+1+b, sy+a], {size: 5, strokeColor:'none', fillColor:'none', withLabel: false}));\npol2 = board.create('polygon', p2, {hasInnerPoints: true, fillColor:col2});\ng2 = board.create('group', p2)\ng2.setRotationCenter('centroid')\ng2.setRotationPoints([p2[0], p2[1], p2[2]]);\n\nvar p3, col3, pol3, g3;\ncol3 = 'blue';\np3 = [];\np3.push(board.create('point',[sx+a+1+b, sy+a+1], {size: 5, strokeColor:'none', fillColor: 'none', withLabel: false}));\np3.push(board.create('point',[sx+a+1+b, sy+a+1+b], {size: 5, strokeColor:'none', fillColor:'none', withLabel: false}));\np3.push(board.create('point',[sx+1+b, sy+a+1+b], {size: 5, strokeColor:'none', fillColor:'none', withLabel: false}));\npol3 = board.create('polygon', p3, {hasInnerPoints: true, fillColor:col3});\ng3 = board.create('group', p3)\ng3.setRotationCenter('centroid')\ng3.setRotationPoints([p3[0], p3[1], p3[3]]);\n\nvar p4, col4, pol4, g4;\ncol4 = 'yellow';\np4 = [];\np4.push(board.create('point',[sx+b, sy+b+1+a], {size: 5, strokeColor:'none', fillColor: 'none', withLabel: false}));\np4.push(board.create('point',[sx, sy+b+1+a], {size: 5, strokeColor:'none', fillColor:'none', withLabel: false}));\np4.push(board.create('point',[sx, sy+b+1], {size: 5, strokeColor:'none', fillColor:'none', withLabel: false}));\npol4 = board.create('polygon', p4, {hasInnerPoints: true, fillColor:col4});\ng4 = board.create('group', p4)\ng4.setRotationCenter('centroid')\ng4.setRotationPoints([p4[0], p4[1], p4[4]]);",
              "layout": "IPY_MODEL_cff9b75c74ca40468d83182834d22e4b"
            }
          },
          "342e4c7bbf644558b0d0e31f725ef103": {
            "model_name": "LayoutModel",
            "model_module": "@jupyter-widgets/base",
            "model_module_version": "1.2.0",
            "state": {}
          },
          "00fed11f16f24817956b1cd30b59daf9": {
            "model_name": "JSWidgetModel",
            "model_module": "jupyter-divewidgets",
            "model_module_version": "^0.1.5",
            "state": {
              "_model_module_version": "^0.1.5",
              "_view_module_version": "^0.1.5",
              "html": "<!DOCTYPE html>\n<html>\n    <head>\n    <style>\n    html, body {\n        height: 100%;\n    }\n    body {\n        width: 100%;\n        display: flex;\n        padding: 0;\n        margin: 0;\n    }\n    .jxgbox {\n        width:100%; \n        flex-grow: 1;\n    }\n    </style>\n    <link rel=\"stylesheet\" type=\"text/css\" href=\"https://jsxgraph.org/distrib/jsxgraph.css\" />\n    <script type=\"text/javascript\" src=\"https://cdn.jsdelivr.net/npm/jsxgraph/distrib/jsxgraphcore.js\"></script>\n    <script type=\"text/javascript\" src=\"https://cdn.jsdelivr.net/npm/mathjax@3/es5/tex-chtml.js\"></script>\n    </head>\n<body>\n<div id=\"box\" class=\"jxgbox\"></div>\n</body>\n</html>",
              "js": "JXG.Options.text.useMathJax = true;\nvar board = JXG.JSXGraph.initBoard('box', {boundingbox: [-1, 17, 17, -3], axis:true, grid:true, showCopyright:false});\nvar a = board.create('slider', [[1, -1], [5,-1], [2, 4, 7]], {name:'a', snapWidth: 0.1});\nvar b = board.create('slider', [[8, -1], [12,-1], [2, 3, 7]], {name:'b', snapWidth: 0.1});\n\nvar s = board.create('point', [6,6],{face:\"\", withLabel:false});\nvar right_ab = board.create('transform', [()=>a.Value()+b.Value(),0], {type:'translate'});\nvar right_a = board.create('transform', [()=>a.Value(),0], {type:'translate'});\nvar right_b = board.create('transform', [()=>b.Value(),0], {type:'translate'});\nvar left_a = board.create('transform', [()=> -a.Value(),0], {type:'translate'});\nvar left_b = board.create('transform', [()=> -b.Value(),0], {type:'translate'});\nvar up_ab = board.create('transform', [0,()=>a.Value()+b.Value()], {type:'translate'});\nvar up_a = board.create('transform', [0,()=>a.Value()], {type:'translate'});\nvar up_b = board.create('transform', [0,()=>b.Value()], {type:'translate'});\nvar down_a = board.create('transform', [0,()=> -a.Value()], {type:'translate'});\nvar down_b = board.create('transform', [0,()=> -b.Value()], {type:'translate'});\nvar no_move = board.create('transform', [0,0], {type:'translate'});\n\n\nvar tri1 = [];\ntri1[0] = board.create('point', [s, up_b], {visible: true, size:2, name:'A', label:{offset:[-10,10]}});\ntri1[1] = board.create('point', [tri1[0], down_b], {visible: true, size:2, name:'C', label:{offset:[-10,-10]}});\ntri1[2] = board.create('point', [tri1[0], [down_b,right_a]], {visible: true, size:2, name:'B', label:{offset:[10,0]}});\nvar po1 = board.create('polygon',[tri1[0], tri1[1],tri1[2]], \n                        {withLines: true, fillColor:'none', highlightFillColor:'none',\n                         vertices:{face:'', withLabel: false},\n                         borders: {strokeWidth:1, strokeColor:'black'}});\n\nboard.create('segment',[tri1[0],tri1[1]],{strokeWidth:0, withLabel: true, name:'b', label:{offset:[-10, b.Value()/2]}});\nboard.create('segment',[tri1[1],tri1[2]],{strokeWidth:0, withLabel: true, name:'a', label:{offset:[a.Value()/2, -10]}});\nboard.create('segment',[tri1[2],tri1[0]],{strokeWidth:0, withLabel: true, name:'c', label:{offset:[a.Value()/2-10, b.Value()/2-10]}});\n\n\nvar po_a = board.create('regularpolygon',[tri1[1],tri1[0],4], \n                        {withLines: true, fillColor:'red', highlightFillColor:'none',\n                         vertices:{face:'', withLabel: false},\n                         borders: {strokeWidth:1, strokeColor:'black'}});\n\nvar po_b = board.create('regularpolygon',[tri1[2],tri1[1],4], \n                        {withLines: true, fillColor:'green', highlightFillColor:'none',\n                         vertices:{face:'', withLabel: false},\n                         borders: {strokeWidth:1, strokeColor:'black'}});\n\nvar po_c = board.create('regularpolygon',[tri1[0],tri1[2],4], \n                        {withLines: true, fillColor:'yellow', highlightFillColor:'none',\n                         vertices:{face:'', withLabel: false},\n                         borders: {strokeWidth:1, strokeColor:'black'}});\n\n\nboard.create('text',[()=>s.X()+a.Value()/2,()=>s.Y()-a.Value()/2,function(){\n        return (po_b.Area()).toFixed(2);\n    }],{anchorX: 'middle', anchorY: 'auto'});\n\nboard.create('text',[()=>s.X()-b.Value()/2,()=>s.Y()+b.Value()/2,function(){\n        return (po_a.Area()).toFixed(2);\n    }],{anchorX: 'middle', anchorY: 'auto'});\n    \nboard.create('text',[()=>s.X()+a.Value(),()=>s.Y()+b.Value(),function(){\n        return (po_c.Area()).toFixed(2);\n    }],{anchorX: 'middle', anchorY: 'auto'});",
              "layout": "IPY_MODEL_342e4c7bbf644558b0d0e31f725ef103"
            }
          },
          "8884ce80426c43369d19910206689b42": {
            "model_name": "LayoutModel",
            "model_module": "@jupyter-widgets/base",
            "model_module_version": "1.2.0",
            "state": {}
          },
          "64639635565543b48afb1b1c1a7d1b14": {
            "model_name": "JSWidgetModel",
            "model_module": "jupyter-divewidgets",
            "model_module_version": "^0.1.5",
            "state": {
              "_model_module_version": "^0.1.5",
              "_view_module_version": "^0.1.5",
              "html": "<!DOCTYPE html>\n<html>\n    <head>\n    <style>\n    html, body {\n        height: 100%;\n    }\n    body {\n        width: 100%;\n        display: flex;\n        padding: 0;\n        margin: 0;\n    }\n    .jxgbox {\n        width:100%; \n        flex-grow: 1;\n    }\n    </style>\n    <link rel=\"stylesheet\" type=\"text/css\" href=\"https://jsxgraph.org/distrib/jsxgraph.css\" />\n    <script type=\"text/javascript\" src=\"https://cdn.jsdelivr.net/npm/jsxgraph/distrib/jsxgraphcore.js\"></script>\n    <script type=\"text/javascript\" src=\"https://cdn.jsdelivr.net/npm/mathjax@3/es5/tex-chtml.js\"></script>\n    </head>\n<body>\n<div id=\"box\" class=\"jxgbox\"></div>\n</body>\n</html>",
              "js": "JXG.Options.text.useMathJax = true;\nvar board = JXG.JSXGraph.initBoard('box', {boundingbox: [-1, 13, 15, -3], axis:true, showCopyright:false});\nvar a = board.create('slider', [[1, -1], [5,-1], [2, 6, 7]], {name:'a', snapWidth: 0.1});\nvar b = board.create('slider', [[8, -1], [12,-1], [2, 3, 7]], {name:'b', snapWidth: 0.1});\nvar m = board.create('slider', [[1, -2], [12,-2], [0, 0, 2]], {name:'move', snapWidth: 0.1, withLabel:false});\nboard.create('text',[1+m.point2.X(),m.point2.Y(),\"move\"],{fixed: true, anchorX: 'middle'});\nvar s = board.create('point', [1,1],{face:\"\", withLabel:false});\nvar right_ab = board.create('transform', [()=>a.Value()+b.Value(),0], {type:'translate'});\nvar right_a = board.create('transform', [()=>a.Value(),0], {type:'translate'});\nvar right_b = board.create('transform', [()=>b.Value(),0], {type:'translate'});\nvar left_a = board.create('transform', [()=> -a.Value(),0], {type:'translate'});\nvar left_b = board.create('transform', [()=> -b.Value(),0], {type:'translate'});\nvar up_ab = board.create('transform', [0,()=>a.Value()+b.Value()], {type:'translate'});\nvar up_a = board.create('transform', [0,()=>a.Value()], {type:'translate'});\nvar up_b = board.create('transform', [0,()=>b.Value()], {type:'translate'});\nvar down_a = board.create('transform', [0,()=> -a.Value()], {type:'translate'});\nvar down_b = board.create('transform', [0,()=> -b.Value()], {type:'translate'});\nvar no_move = board.create('transform', [0,0], {type:'translate'});\n\n\nvar r2 = board.create('point', [s,right_ab], {visible: false});\nvar po0 =  board.create('regularpolygon',[s,r2,4], \n                        {withLines: true, fillColor:'none', highlightFillColor:'none',\n                         vertices:{face:'', withLabel: false},\n                         borders: {strokeWidth:1, strokeColor:'black'}});\n\nvar tri1 = [];\ntri1[0] = board.create('point', [s, up_b], {visible: false});\ntri1[1] = board.create('point', [tri1[0], down_b], {visible: false});\ntri1[2] = board.create('point', [tri1[0], [down_b,right_a]], {visible: false});\nvar po1 = board.create('polygon',[tri1[0],tri1[1],tri1[2]], \n                        {withLines: true, fillColor:'red', highlightFillColor:'none',\n                         vertices:{face:'', withLabel: false},\n                         borders: {strokeWidth:1, strokeColor:'black'}});\n\nboard.create('segment',[tri1[0],tri1[1]],{strokeWidth:0, withLabel: true, name:'b', label:{offset:[-10, b.Value()/2]}});\nboard.create('segment',[tri1[1],tri1[2]],{strokeWidth:0, withLabel: true, name:'a', label:{offset:[a.Value()/2, -10]}});\nboard.create('segment',[tri1[2],tri1[0]],{strokeWidth:0, withLabel: true, name:'c', label:{offset:[a.Value()/2-10, b.Value()/2-10]}});\n\nvar move_tri2 = board.create('transform', [()=>a.Value(), ()=>b.Value()*(1-Math.min(m.Value(),1))], {type:'translate'});\nvar tri2 = [];\ntri2[0] = board.create('point', [s, move_tri2], {visible: false});\ntri2[1] = board.create('point', [tri2[0], right_b], {visible: false});\ntri2[2] = board.create('point', [tri2[0], [right_b,up_a]], {visible: false});\nvar po2 = board.create('polygon',[tri2[0],tri2[1],tri2[2]], \n                        {withLines: true, fillColor:'green', highlightFillColor:'none',\n                         vertices:{face:'', withLabel: false},\n                         borders: {strokeWidth:1, strokeColor:'black'}});\n\nvar move_tri3 = board.create('transform', [()=>a.Value()+b.Value()*(Math.max(m.Value(),1)-1), ()=>a.Value()*(Math.max(m.Value(),1)-1)], {type:'translate'});\nvar tri3 = [];\ntri3[0] = board.create('point', [s, move_tri3], {visible: false});\ntri3[1] = board.create('point', [tri3[0], up_b], {visible: false});\ntri3[2] = board.create('point', [tri3[0], [up_b,left_a]], {visible: false});\nvar po3 = board.create('polygon',[tri3[0],tri3[1],tri3[2]], \n                        {withLines: true, fillColor:'blue', highlightFillColor:'none',\n                         vertices:{face:'', withLabel: false},\n                         borders: {strokeWidth:1, strokeColor:'black'}});\n\n\nvar move_tri4 = board.create('transform', [()=>b.Value()+a.Value()*(1-Math.min(m.Value(),1)), ()=>a.Value()+b.Value()], {type:'translate'});\nvar tri4 = [];\ntri4[0] = board.create('point', [s, move_tri4], {visible: false});\ntri4[1] = board.create('point', [tri4[0], left_b], {visible: false});\ntri4[2] = board.create('point', [tri4[0], [left_b,down_a]], {visible: false});\nvar po4 = board.create('polygon',[tri4[0],tri4[1],tri4[2]], \n                        {withLines: true, fillColor:'yellow', highlightFillColor:'none',\n                         vertices:{face:'', withLabel: false},\n                         borders: {strokeWidth:1, strokeColor:'black'}});\n\nboard.create('text',[()=>s.X()+1/2*a.Value(),()=>s.Y()+b.Value()+1/2*a.Value(),function(){\n        return '\\\\[ a^2 \\\\]';\n    }],{visible: ()=> {return (m.Value()<0.3);}, anchorX: 'middle', anchorY: 'auto'});\n\nboard.create('text',[()=>s.X()+a.Value()+1/2*b.Value(),()=>s.Y()+1/2*b.Value(),function(){\n    return '\\\\[b^2\\\\]';\n    }],{visible: ()=> {return (m.Value()<0.3);}, anchorX: 'middle', anchorY: 'auto'});\n\nboard.create('text',[()=>s.X()+1/2*(a.Value()+b.Value()),()=>s.Y()+1/2*(a.Value()+b.Value()),function(){\n    return '\\\\[c^2\\\\]';\n    }],{visible: ()=> {return (m.Value()>1.9);}, anchorX: 'middle', anchorY: 'auto'});",
              "layout": "IPY_MODEL_8884ce80426c43369d19910206689b42"
            }
          },
          "afc9078a76034957ae55a0c77fc273d5": {
            "model_name": "LayoutModel",
            "model_module": "@jupyter-widgets/base",
            "model_module_version": "1.2.0",
            "state": {}
          },
          "41a7e38b3de340be8840da3209f77769": {
            "model_name": "JSWidgetModel",
            "model_module": "jupyter-divewidgets",
            "model_module_version": "^0.1.5",
            "state": {
              "_model_module_version": "^0.1.5",
              "_view_module_version": "^0.1.5",
              "html": "<!DOCTYPE html>\n<html>\n    <head>\n    <style>\n    html, body {\n        height: 100%;\n    }\n    body {\n        width: 100%;\n        display: flex;\n        padding: 0;\n        margin: 0;\n    }\n    .jxgbox {\n        width:100%; \n        flex-grow: 1;\n    }\n    </style>\n    <link rel=\"stylesheet\" type=\"text/css\" href=\"https://jsxgraph.org/distrib/jsxgraph.css\" />\n    <script type=\"text/javascript\" src=\"https://cdn.jsdelivr.net/npm/jsxgraph/distrib/jsxgraphcore.js\"></script>\n    <script type=\"text/javascript\" src=\"https://cdn.jsdelivr.net/npm/mathjax@3/es5/tex-chtml.js\"></script>\n    </head>\n<body>\n<div id=\"box\" class=\"jxgbox\"></div>\n</body>\n</html>",
              "js": "JXG.Options.text.useMathJax = true;\nvar board = JXG.JSXGraph.initBoard('box', {boundingbox: [-1, 13, 15, -3], axis:true, showCopyright:false});\nvar a = board.create('slider', [[1, -1], [5,-1], [2, 6, 7]], {name:'a', snapWidth: 0.1});\nvar b = board.create('slider', [[8, -1], [12,-1], [2, 3, 7]], {name:'b', snapWidth: 0.1});\nvar m = board.create('slider', [[1, -2], [12,-2], [0, 0, 2]], {name:'move', snapWidth: 0.1, withLabel:false});\nboard.create('text',[1+m.point2.X(),m.point2.Y(),\"move\"],{fixed: true, anchorX: 'middle'});\nvar s = board.create('point', [1,1],{face:\"\", withLabel:false});\nvar right_ab = board.create('transform', [()=>a.Value()+b.Value(),0], {type:'translate'});\nvar right_a = board.create('transform', [()=>a.Value(),0], {type:'translate'});\nvar right_b = board.create('transform', [()=>b.Value(),0], {type:'translate'});\nvar left_a = board.create('transform', [()=> -a.Value(),0], {type:'translate'});\nvar left_b = board.create('transform', [()=> -b.Value(),0], {type:'translate'});\nvar up_ab = board.create('transform', [0,()=>a.Value()+b.Value()], {type:'translate'});\nvar up_a = board.create('transform', [0,()=>a.Value()], {type:'translate'});\nvar up_b = board.create('transform', [0,()=>b.Value()], {type:'translate'});\nvar down_a = board.create('transform', [0,()=> -a.Value()], {type:'translate'});\nvar down_b = board.create('transform', [0,()=> -b.Value()], {type:'translate'});\nvar no_move = board.create('transform', [0,0], {type:'translate'});\n\n\nvar r2 = board.create('point', [s,right_ab], {visible: false});\nvar po0 =  board.create('regularpolygon',[s,r2,4], \n                        {withLines: true, fillColor:'none', highlightFillColor:'none',\n                         vertices:{face:'', withLabel: false},\n                         borders: {strokeWidth:1, strokeColor:'black'}});\n\nvar tri1 = [];\ntri1[0] = board.create('point', [s, up_b], {visible: false});\ntri1[1] = board.create('point', [tri1[0], down_b], {visible: false});\ntri1[2] = board.create('point', [tri1[0], [down_b,right_a]], {visible: false});\nvar po1 = board.create('polygon',[tri1[0],tri1[1],tri1[2]], \n                        {withLines: true, fillColor:'red', highlightFillColor:'none',\n                         vertices:{face:'', withLabel: false},\n                         borders: {strokeWidth:1, strokeColor:'black'}});\n\nboard.create('segment',[tri1[0],tri1[1]],{strokeWidth:0, withLabel: true, name:'b', label:{offset:[-10, b.Value()/2]}});\nboard.create('segment',[tri1[1],tri1[2]],{strokeWidth:0, withLabel: true, name:'a', label:{offset:[a.Value()/2, -10]}});\nboard.create('segment',[tri1[2],tri1[0]],{strokeWidth:0, withLabel: true, name:'c', label:{offset:[a.Value()/2-10, b.Value()/2-10]}});\n\nvar move_tri2 = board.create('transform', [()=>a.Value(), 0], {type:'translate'});\nvar tri2 = [];\ntri2[0] = board.create('point', [s, move_tri2], {visible: false});\ntri2[1] = board.create('point', [tri2[0], right_b], {visible: false});\ntri2[2] = board.create('point', [tri2[0], [right_b,up_a]], {visible: false});\nvar po2 = board.create('polygon',[tri2[0],tri2[1],tri2[2]], \n                        {withLines: true, fillColor:'green', highlightFillColor:'none',\n                         vertices:{face:'', withLabel: false},\n                         borders: {strokeWidth:1, strokeColor:'black'}});\n\n//anchor of tri3 should be changed\n/*\nvar move_tri3 = board.create('transform', [()=>a.Value()+b.Value(), ()=>a.Value()], {type:'translate'});\nvar tri3 = [];\ntri3[0] = board.create('point', [s, move_tri3], {visible: false});\ntri3[1] = board.create('point', [tri3[0], up_b], {visible: false});\ntri3[2] = board.create('point', [tri3[0], [up_b,left_a]], {visible: false});\nvar po3 = board.create('polygon',[tri3[0],tri3[1],tri3[2]], \n                        {withLines: true, fillColor:'blue', highlightFillColor:'none',\n                         vertices:{face:'', withLabel: false},\n                         borders: {strokeWidth:1, strokeColor:'black'}});\n*/\n\nvar move_tri3_2 = board.create('transform', [()=>b.Value(), ()=>a.Value()+b.Value()], {type:'translate'});\nvar tri3_2 = [];\ntri3_2[0] = board.create('point', [s, move_tri3_2], {visible: false});\ntri3_2[1] = board.create('point', [tri3_2[0], right_a], {visible: false});\ntri3_2[2] = board.create('point', [tri3_2[0], [right_a, down_b]], {visible: false});\nvar po3 = board.create('polygon',[tri3_2[0],tri3_2[1],tri3_2[2]], \n                        {withLines: true, fillColor:'blue', highlightFillColor:'none',\n                         vertices:{face:'', withLabel: false},\n                         borders: {strokeWidth:1, strokeColor:'black'}});\n\nvar move_tri4 = board.create('transform', [()=>b.Value(), ()=>a.Value()+b.Value()], {type:'translate'});\nvar tri4 = [];\ntri4[0] = board.create('point', [s, move_tri4], {visible: false});\ntri4[1] = board.create('point', [tri4[0], left_b], {visible: false});\ntri4[2] = board.create('point', [tri4[0], [left_b,down_a]], {visible: false});\nvar po4 = board.create('polygon',[tri4[0],tri4[1],tri4[2]], \n                        {withLines: true, fillColor:'yellow', highlightFillColor:'none',\n                         vertices:{face:'', withLabel: false},\n                         borders: {strokeWidth:1, strokeColor:'black'}});\n\nvar rot_tri2 = board.create('transform', [function(){return m.Value()*Math.PI/4;}, tri2[0]], {type:'rotate'});\nrot_tri2.bindTo([tri2[1],tri2[2]]);\n\nvar rot_tri3 = board.create('transform', [function(){return - m.Value()*Math.PI/4;}, tri3_2[0]], {type:'rotate'});\nrot_tri3.bindTo([tri3_2[1],tri3_2[2]]);\n\nboard.create('segment',[tri2[1], board.create('point', [tri2[1], right_b], {visible: false})],{visible:()=>(m.Value()>=1.99),strokeWidth:1, dash:2});\n\n\nboard.create('text',[()=>s.X()+a.Value()*1/2+b.Value(),()=>s.Y()+b.Value()+1/2*a.Value(),function(){\n        return '\\\\[ a^2 \\\\]';\n    }],{visible: ()=> {return (m.Value()>=1.99);}, anchorX: 'middle', anchorY: 'auto'});\n\nboard.create('text',[()=>s.X()+a.Value()+1/2*b.Value(),()=>s.Y()+1/2*b.Value(),function(){\n    return '\\\\[b^2\\\\]';\n    }],{visible: ()=> {return (m.Value()>=1.99);}, anchorX: 'middle', anchorY: 'auto'});\n\nboard.create('text',[()=>s.X()+1/2*(a.Value()+b.Value()),()=>s.Y()+1/2*(a.Value()+b.Value()),function(){\n    return '\\\\[c^2\\\\]';\n    }],{visible: ()=> {return (m.Value()<0.4);}, anchorX: 'middle', anchorY: 'auto'});",
              "layout": "IPY_MODEL_afc9078a76034957ae55a0c77fc273d5"
            }
          },
          "8b0e249cfaeb4e8ab04a7ac2478e2bba": {
            "model_name": "LayoutModel",
            "model_module": "@jupyter-widgets/base",
            "model_module_version": "1.2.0",
            "state": {}
          },
          "30dcab5b31a14cb18983de29db6d939e": {
            "model_name": "JSWidgetModel",
            "model_module": "jupyter-divewidgets",
            "model_module_version": "^0.1.5",
            "state": {
              "_model_module_version": "^0.1.5",
              "_view_module_version": "^0.1.5",
              "html": "<!DOCTYPE html>\n<html>\n    <head>\n    <style>\n    html, body {\n        height: 100%;\n    }\n    body {\n        width: 100%;\n        display: flex;\n        padding: 0;\n        margin: 0;\n    }\n    .jxgbox {\n        width:100%; \n        flex-grow: 1;\n    }\n    </style>\n    <link rel=\"stylesheet\" type=\"text/css\" href=\"https://jsxgraph.org/distrib/jsxgraph.css\" />\n    <script type=\"text/javascript\" src=\"https://cdn.jsdelivr.net/npm/jsxgraph/distrib/jsxgraphcore.js\"></script>\n    <script type=\"text/javascript\" src=\"https://cdn.jsdelivr.net/npm/mathjax@3/es5/tex-chtml.js\"></script>\n    </head>\n<body>\n<div id=\"box\" class=\"jxgbox\"></div>\n</body>\n</html>",
              "js": "JXG.Options.text.useMathJax = true;\nvar board = JXG.JSXGraph.initBoard('box', {boundingbox: [-1, 13, 13, -3], axis:true,grid:true, showCopyright:false});\n\nconst sx =1, sy = 1;\nconst a=6, b=4;\n\nvar p1, col1, pol1, g1;\ncol1 = 'red';\np1 = [];\np1.push(board.create('point',[sx, sy+b], {size: 5, strokeColor:'none', fillColor: 'none', withLabel: false}));\np1.push(board.create('point',[sx, sy], {size: 5, strokeColor:'none', fillColor:'none', withLabel: false}));\np1.push(board.create('point',[sx+a, sy], {size: 5, strokeColor:'none', fillColor:'none', withLabel: false}));\npol1 = board.create('polygon', p1, {hasInnerPoints: true, fillColor:col1});\ng1 = board.create('group', p1)\ng1.setRotationCenter('centroid')\ng1.setRotationPoints([p1[0], p1[1], p1[2]]);\n\nboard.create('segment',[p1[0],p1[1]],{strokeWidth:0, withLabel: true, name:'b', label:{offset:[10, b/2]}});\nboard.create('segment',[p1[1],p1[2]],{strokeWidth:0, withLabel: true, name:'a', label:{offset:[a/2, 10]}});\nboard.create('segment',[p1[2],p1[0]],{strokeWidth:0, withLabel: true, name:'c', label:{offset:[a/2-10, b/2-10]}});\n\nvar p2, col2, pol2, g2;\ncol2 = 'green';\np2 = [];\np2.push(board.create('point',[sx+a+1, sy], {size: 5, strokeColor:'none', fillColor: 'none', withLabel: false}));\np2.push(board.create('point',[sx+a+1+b, sy], {size: 5, strokeColor:'none', fillColor:'none', withLabel: false}));\np2.push(board.create('point',[sx+a+1+b, sy+a], {size: 5, strokeColor:'none', fillColor:'none', withLabel: false}));\npol2 = board.create('polygon', p2, {hasInnerPoints: true, fillColor:col2});\ng2 = board.create('group', p2)\ng2.setRotationCenter('centroid')\ng2.setRotationPoints([p2[0], p2[1], p2[2]]);\n\nvar p3, col3, pol3, g3;\ncol3 = 'blue';\np3 = [];\np3.push(board.create('point',[sx+a+1+b, sy+a+1], {size: 5, strokeColor:'none', fillColor: 'none', withLabel: false}));\np3.push(board.create('point',[sx+a+1+b, sy+a+1+b], {size: 5, strokeColor:'none', fillColor:'none', withLabel: false}));\np3.push(board.create('point',[sx+1+b, sy+a+1+b], {size: 5, strokeColor:'none', fillColor:'none', withLabel: false}));\npol3 = board.create('polygon', p3, {hasInnerPoints: true, fillColor:col3});\ng3 = board.create('group', p3)\ng3.setRotationCenter('centroid')\ng3.setRotationPoints([p3[0], p3[1], p3[3]]);\n\nvar p4, col4, pol4, g4;\ncol4 = 'yellow';\np4 = [];\np4.push(board.create('point',[sx+b, sy+b+1+a], {size: 5, strokeColor:'none', fillColor: 'none', withLabel: false}));\np4.push(board.create('point',[sx, sy+b+1+a], {size: 5, strokeColor:'none', fillColor:'none', withLabel: false}));\np4.push(board.create('point',[sx, sy+b+1], {size: 5, strokeColor:'none', fillColor:'none', withLabel: false}));\npol4 = board.create('polygon', p4, {hasInnerPoints: true, fillColor:col4});\ng4 = board.create('group', p4)\ng4.setRotationCenter('centroid')\ng4.setRotationPoints([p4[0], p4[1], p4[4]]);",
              "layout": "IPY_MODEL_8b0e249cfaeb4e8ab04a7ac2478e2bba"
            }
          }
        }
      }
    }
  },
  "nbformat_minor": 5,
  "nbformat": 4,
  "cells": [
    {
      "cell_type": "markdown",
      "source": "# Pythagorean Theorem",
      "metadata": {},
      "id": "6d7c1cf3-b5bf-45a6-bbdc-f167d9024242"
    },
    {
      "cell_type": "markdown",
      "source": "**DIVE into Math**\n\n---",
      "metadata": {},
      "id": "a1935024-1b43-4d6b-91ff-aa0698fffe53"
    },
    {
      "cell_type": "markdown",
      "source": "The notebook is created based on [Exemplar 11: Pythagoras' Theorem](https://cd1.edb.hkedcity.net/cd/maths/en/ref_res/MATERIAL/it_e/11_ex_e.pdf) of  \n> Hong Kong Education Bureau, \"Use of Information Technology,\" *Learning and Teaching Packages on S1-5 Mathematics*, vol. 1. Available Online: <https://cd1.edb.hkedcity.net/cd/maths/en/ref_res/MATERIAL/it_e/IT_e%20content.htm>, accessed: 20 July 2022. \n\nContributor(s): \n\n- Chao Zhao\n- Chung Chan\n\n---",
      "metadata": {},
      "id": "95a83e0b-79b5-4b13-9f8e-ff21a9c995e8"
    },
    {
      "cell_type": "code",
      "source": "%reload_ext divewidgets",
      "metadata": {
        "trusted": true
      },
      "execution_count": 6,
      "outputs": [],
      "id": "89d24159-79dd-427e-a2c0-715ce77fd416"
    },
    {
      "cell_type": "markdown",
      "source": "## Discovering Pythagorean Theorem",
      "metadata": {},
      "id": "691e058d-af8d-4a09-a385-b5c443b68105"
    },
    {
      "cell_type": "markdown",
      "source": "Run the following cell and move the sliders to change the values of $a$ and $b$. ",
      "metadata": {},
      "id": "eeff5891-d9dc-4d20-9f13-90145ce303c1"
    },
    {
      "cell_type": "code",
      "source": "%%jsxgraph\nJXG.Options.text.useMathJax = true;\nvar board = JXG.JSXGraph.initBoard('box', {boundingbox: [-1, 17, 17, -3], axis:true, grid:true, showCopyright:false});\nvar a = board.create('slider', [[1, -1], [5,-1], [2, 4, 7]], {name:'a', snapWidth: 0.1});\nvar b = board.create('slider', [[8, -1], [12,-1], [2, 3, 7]], {name:'b', snapWidth: 0.1});\n\nvar s = board.create('point', [6,6],{face:\"\", withLabel:false});\nvar right_ab = board.create('transform', [()=>a.Value()+b.Value(),0], {type:'translate'});\nvar right_a = board.create('transform', [()=>a.Value(),0], {type:'translate'});\nvar right_b = board.create('transform', [()=>b.Value(),0], {type:'translate'});\nvar left_a = board.create('transform', [()=> -a.Value(),0], {type:'translate'});\nvar left_b = board.create('transform', [()=> -b.Value(),0], {type:'translate'});\nvar up_ab = board.create('transform', [0,()=>a.Value()+b.Value()], {type:'translate'});\nvar up_a = board.create('transform', [0,()=>a.Value()], {type:'translate'});\nvar up_b = board.create('transform', [0,()=>b.Value()], {type:'translate'});\nvar down_a = board.create('transform', [0,()=> -a.Value()], {type:'translate'});\nvar down_b = board.create('transform', [0,()=> -b.Value()], {type:'translate'});\nvar no_move = board.create('transform', [0,0], {type:'translate'});\n\n\nvar tri1 = [];\ntri1[0] = board.create('point', [s, up_b], {visible: true, size:2, name:'A', label:{offset:[-10,10]}});\ntri1[1] = board.create('point', [tri1[0], down_b], {visible: true, size:2, name:'C', label:{offset:[-10,-10]}});\ntri1[2] = board.create('point', [tri1[0], [down_b,right_a]], {visible: true, size:2, name:'B', label:{offset:[10,0]}});\nvar po1 = board.create('polygon',[tri1[0], tri1[1],tri1[2]], \n                        {withLines: true, fillColor:'none', highlightFillColor:'none',\n                         vertices:{face:'', withLabel: false},\n                         borders: {strokeWidth:1, strokeColor:'black'}});\n\nboard.create('segment',[tri1[0],tri1[1]],{strokeWidth:0, withLabel: true, name:'b', label:{offset:[-10, b.Value()/2]}});\nboard.create('segment',[tri1[1],tri1[2]],{strokeWidth:0, withLabel: true, name:'a', label:{offset:[a.Value()/2, -10]}});\nboard.create('segment',[tri1[2],tri1[0]],{strokeWidth:0, withLabel: true, name:'c', label:{offset:[a.Value()/2-10, b.Value()/2-10]}});\n\n\nvar po_a = board.create('regularpolygon',[tri1[1],tri1[0],4], \n                        {withLines: true, fillColor:'red', highlightFillColor:'none',\n                         vertices:{face:'', withLabel: false},\n                         borders: {strokeWidth:1, strokeColor:'black'}});\n\nvar po_b = board.create('regularpolygon',[tri1[2],tri1[1],4], \n                        {withLines: true, fillColor:'green', highlightFillColor:'none',\n                         vertices:{face:'', withLabel: false},\n                         borders: {strokeWidth:1, strokeColor:'black'}});\n\nvar po_c = board.create('regularpolygon',[tri1[0],tri1[2],4], \n                        {withLines: true, fillColor:'yellow', highlightFillColor:'none',\n                         vertices:{face:'', withLabel: false},\n                         borders: {strokeWidth:1, strokeColor:'black'}});\n\n\nboard.create('text',[()=>s.X()+a.Value()/2,()=>s.Y()-a.Value()/2,function(){\n        return (po_b.Area()).toFixed(2);\n    }],{anchorX: 'middle', anchorY: 'auto'});\n\nboard.create('text',[()=>s.X()-b.Value()/2,()=>s.Y()+b.Value()/2,function(){\n        return (po_a.Area()).toFixed(2);\n    }],{anchorX: 'middle', anchorY: 'auto'});\n    \nboard.create('text',[()=>s.X()+a.Value(),()=>s.Y()+b.Value(),function(){\n        return (po_c.Area()).toFixed(2);\n    }],{anchorX: 'middle', anchorY: 'auto'});",
      "metadata": {
        "trusted": true
      },
      "execution_count": 7,
      "outputs": [
        {
          "output_type": "display_data",
          "data": {
            "application/vnd.jupyter.widget-view+json": {
              "model_id": "00fed11f16f24817956b1cd30b59daf9",
              "version_major": 2,
              "version_minor": 0
            },
            "text/plain": "JSWidget(value=None, height=600, html='<!DOCTYPE html>\\n<html>\\n    <head>\\n    <style>\\n    html, body {\\n   …"
          },
          "metadata": {}
        }
      ],
      "id": "6240dc56-d731-447a-9842-ce5d239504d2"
    },
    {
      "cell_type": "markdown",
      "source": "**Exercise**\n\nComplete the following tables with *integer* areas of the three squares.  \n\n| Set \t| $a^2$ \t| $b^2$ \t| $c^2$ \t|\n|----- |-------|-------|-------|\n| 1   \t|       \t|       \t|       \t|\n| 2   \t|       \t|       \t|       \t|\n| 3   \t|       \t|       \t|       \t|\n| 4   \t|       \t|       \t|       \t|\n| 5   \t|       \t|       \t|       \t|",
      "metadata": {},
      "id": "13684dc6-c56b-4a81-9962-07ce21c3da26"
    },
    {
      "cell_type": "markdown",
      "source": "YOUR ANSWER HERE",
      "metadata": {
        "deletable": false,
        "nbgrader": {
          "cell_type": "markdown",
          "checksum": "11b903531c3dc15001aba9cee6eb2924",
          "grade": true,
          "grade_id": "p1",
          "locked": false,
          "points": 1,
          "schema_version": 3,
          "solution": true,
          "task": false
        },
        "tags": []
      },
      "id": "21a7b88b-b438-440f-870c-ed51573e3286"
    },
    {
      "cell_type": "markdown",
      "source": "**Exercise**\n\nComplete the following Pythagorean theorem with your conjecture.",
      "metadata": {},
      "id": "0176a072-ac70-47cc-8324-9740ba1447ad"
    },
    {
      "cell_type": "markdown",
      "source": "---\n\n**Theorem** (Pythagorean Theorem) \n\nGiven a right-angled triangle, the length $c$ of the hypotenuse satisfies\n\n$$\n\\begin{align}\nc^2 &= \\color{red}{\\text{your conjecture here}}\n\\end{align}\n\\tag{pythagorean}$$\n\nwhere $a$ and $b$ are the lengths of the other sides of the triangle.\n\n---",
      "metadata": {},
      "id": "cad4634a-b554-4327-9b5d-38e279628442"
    },
    {
      "cell_type": "markdown",
      "source": "YOUR ANSWER HERE",
      "metadata": {
        "deletable": false,
        "nbgrader": {
          "cell_type": "markdown",
          "checksum": "60fdd1f7ebf4bcb905d160e67f88525a",
          "grade": true,
          "grade_id": "p2",
          "locked": false,
          "points": 1,
          "schema_version": 3,
          "solution": true,
          "task": false
        },
        "tags": []
      },
      "id": "4cf8ec2b-4cdf-442a-99ea-a32584b80904"
    },
    {
      "cell_type": "markdown",
      "source": "## Proof of Pythagorean Theorem",
      "metadata": {},
      "id": "3359dcdd-198b-4a1c-a844-a445e452f774"
    },
    {
      "cell_type": "markdown",
      "source": "The followings are two graphical proof of the Pythagorean theorem. Run the cell and drag the `move` slider to understand the proof.",
      "metadata": {},
      "id": "0304b2b1-5493-4c78-a3c5-3d6965429100"
    },
    {
      "cell_type": "code",
      "source": "%%jsxgraph\nJXG.Options.text.useMathJax = true;\nvar board = JXG.JSXGraph.initBoard('box', {boundingbox: [-1, 13, 15, -3], axis:true, showCopyright:false});\nvar a = board.create('slider', [[1, -1], [5,-1], [2, 6, 7]], {name:'a', snapWidth: 0.1});\nvar b = board.create('slider', [[8, -1], [12,-1], [2, 3, 7]], {name:'b', snapWidth: 0.1});\nvar m = board.create('slider', [[1, -2], [12,-2], [0, 0, 2]], {name:'move', snapWidth: 0.1, withLabel:false});\nboard.create('text',[1+m.point2.X(),m.point2.Y(),\"move\"],{fixed: true, anchorX: 'middle'});\nvar s = board.create('point', [1,1],{face:\"\", withLabel:false});\nvar right_ab = board.create('transform', [()=>a.Value()+b.Value(),0], {type:'translate'});\nvar right_a = board.create('transform', [()=>a.Value(),0], {type:'translate'});\nvar right_b = board.create('transform', [()=>b.Value(),0], {type:'translate'});\nvar left_a = board.create('transform', [()=> -a.Value(),0], {type:'translate'});\nvar left_b = board.create('transform', [()=> -b.Value(),0], {type:'translate'});\nvar up_ab = board.create('transform', [0,()=>a.Value()+b.Value()], {type:'translate'});\nvar up_a = board.create('transform', [0,()=>a.Value()], {type:'translate'});\nvar up_b = board.create('transform', [0,()=>b.Value()], {type:'translate'});\nvar down_a = board.create('transform', [0,()=> -a.Value()], {type:'translate'});\nvar down_b = board.create('transform', [0,()=> -b.Value()], {type:'translate'});\nvar no_move = board.create('transform', [0,0], {type:'translate'});\n\n\nvar r2 = board.create('point', [s,right_ab], {visible: false});\nvar po0 =  board.create('regularpolygon',[s,r2,4], \n                        {withLines: true, fillColor:'none', highlightFillColor:'none',\n                         vertices:{face:'', withLabel: false},\n                         borders: {strokeWidth:1, strokeColor:'black'}});\n\nvar tri1 = [];\ntri1[0] = board.create('point', [s, up_b], {visible: false});\ntri1[1] = board.create('point', [tri1[0], down_b], {visible: false});\ntri1[2] = board.create('point', [tri1[0], [down_b,right_a]], {visible: false});\nvar po1 = board.create('polygon',[tri1[0],tri1[1],tri1[2]], \n                        {withLines: true, fillColor:'red', highlightFillColor:'none',\n                         vertices:{face:'', withLabel: false},\n                         borders: {strokeWidth:1, strokeColor:'black'}});\n\nboard.create('segment',[tri1[0],tri1[1]],{strokeWidth:0, withLabel: true, name:'b', label:{offset:[-10, b.Value()/2]}});\nboard.create('segment',[tri1[1],tri1[2]],{strokeWidth:0, withLabel: true, name:'a', label:{offset:[a.Value()/2, -10]}});\nboard.create('segment',[tri1[2],tri1[0]],{strokeWidth:0, withLabel: true, name:'c', label:{offset:[a.Value()/2-10, b.Value()/2-10]}});\n\nvar move_tri2 = board.create('transform', [()=>a.Value(), ()=>b.Value()*(1-Math.min(m.Value(),1))], {type:'translate'});\nvar tri2 = [];\ntri2[0] = board.create('point', [s, move_tri2], {visible: false});\ntri2[1] = board.create('point', [tri2[0], right_b], {visible: false});\ntri2[2] = board.create('point', [tri2[0], [right_b,up_a]], {visible: false});\nvar po2 = board.create('polygon',[tri2[0],tri2[1],tri2[2]], \n                        {withLines: true, fillColor:'green', highlightFillColor:'none',\n                         vertices:{face:'', withLabel: false},\n                         borders: {strokeWidth:1, strokeColor:'black'}});\n\nvar move_tri3 = board.create('transform', [()=>a.Value()+b.Value()*(Math.max(m.Value(),1)-1), ()=>a.Value()*(Math.max(m.Value(),1)-1)], {type:'translate'});\nvar tri3 = [];\ntri3[0] = board.create('point', [s, move_tri3], {visible: false});\ntri3[1] = board.create('point', [tri3[0], up_b], {visible: false});\ntri3[2] = board.create('point', [tri3[0], [up_b,left_a]], {visible: false});\nvar po3 = board.create('polygon',[tri3[0],tri3[1],tri3[2]], \n                        {withLines: true, fillColor:'blue', highlightFillColor:'none',\n                         vertices:{face:'', withLabel: false},\n                         borders: {strokeWidth:1, strokeColor:'black'}});\n\n\nvar move_tri4 = board.create('transform', [()=>b.Value()+a.Value()*(1-Math.min(m.Value(),1)), ()=>a.Value()+b.Value()], {type:'translate'});\nvar tri4 = [];\ntri4[0] = board.create('point', [s, move_tri4], {visible: false});\ntri4[1] = board.create('point', [tri4[0], left_b], {visible: false});\ntri4[2] = board.create('point', [tri4[0], [left_b,down_a]], {visible: false});\nvar po4 = board.create('polygon',[tri4[0],tri4[1],tri4[2]], \n                        {withLines: true, fillColor:'yellow', highlightFillColor:'none',\n                         vertices:{face:'', withLabel: false},\n                         borders: {strokeWidth:1, strokeColor:'black'}});\n\nboard.create('text',[()=>s.X()+1/2*a.Value(),()=>s.Y()+b.Value()+1/2*a.Value(),function(){\n        return '\\\\[ a^2 \\\\]';\n    }],{visible: ()=> {return (m.Value()<0.3);}, anchorX: 'middle', anchorY: 'auto'});\n\nboard.create('text',[()=>s.X()+a.Value()+1/2*b.Value(),()=>s.Y()+1/2*b.Value(),function(){\n    return '\\\\[b^2\\\\]';\n    }],{visible: ()=> {return (m.Value()<0.3);}, anchorX: 'middle', anchorY: 'auto'});\n\nboard.create('text',[()=>s.X()+1/2*(a.Value()+b.Value()),()=>s.Y()+1/2*(a.Value()+b.Value()),function(){\n    return '\\\\[c^2\\\\]';\n    }],{visible: ()=> {return (m.Value()>1.9);}, anchorX: 'middle', anchorY: 'auto'});",
      "metadata": {
        "trusted": true
      },
      "execution_count": 8,
      "outputs": [
        {
          "output_type": "display_data",
          "data": {
            "application/vnd.jupyter.widget-view+json": {
              "model_id": "64639635565543b48afb1b1c1a7d1b14",
              "version_major": 2,
              "version_minor": 0
            },
            "text/plain": "JSWidget(value=None, height=600, html='<!DOCTYPE html>\\n<html>\\n    <head>\\n    <style>\\n    html, body {\\n   …"
          },
          "metadata": {}
        }
      ],
      "id": "bd9c7806-136c-4d50-9c40-fb533faf96d0"
    },
    {
      "cell_type": "code",
      "source": "%%jsxgraph\nJXG.Options.text.useMathJax = true;\nvar board = JXG.JSXGraph.initBoard('box', {boundingbox: [-1, 13, 15, -3], axis:true, showCopyright:false});\nvar a = board.create('slider', [[1, -1], [5,-1], [2, 6, 7]], {name:'a', snapWidth: 0.1});\nvar b = board.create('slider', [[8, -1], [12,-1], [2, 3, 7]], {name:'b', snapWidth: 0.1});\nvar m = board.create('slider', [[1, -2], [12,-2], [0, 0, 2]], {name:'move', snapWidth: 0.1, withLabel:false});\nboard.create('text',[1+m.point2.X(),m.point2.Y(),\"move\"],{fixed: true, anchorX: 'middle'});\nvar s = board.create('point', [1,1],{face:\"\", withLabel:false});\nvar right_ab = board.create('transform', [()=>a.Value()+b.Value(),0], {type:'translate'});\nvar right_a = board.create('transform', [()=>a.Value(),0], {type:'translate'});\nvar right_b = board.create('transform', [()=>b.Value(),0], {type:'translate'});\nvar left_a = board.create('transform', [()=> -a.Value(),0], {type:'translate'});\nvar left_b = board.create('transform', [()=> -b.Value(),0], {type:'translate'});\nvar up_ab = board.create('transform', [0,()=>a.Value()+b.Value()], {type:'translate'});\nvar up_a = board.create('transform', [0,()=>a.Value()], {type:'translate'});\nvar up_b = board.create('transform', [0,()=>b.Value()], {type:'translate'});\nvar down_a = board.create('transform', [0,()=> -a.Value()], {type:'translate'});\nvar down_b = board.create('transform', [0,()=> -b.Value()], {type:'translate'});\nvar no_move = board.create('transform', [0,0], {type:'translate'});\n\n\nvar r2 = board.create('point', [s,right_ab], {visible: false});\nvar po0 =  board.create('regularpolygon',[s,r2,4], \n                        {withLines: true, fillColor:'none', highlightFillColor:'none',\n                         vertices:{face:'', withLabel: false},\n                         borders: {strokeWidth:1, strokeColor:'black'}});\n\nvar tri1 = [];\ntri1[0] = board.create('point', [s, up_b], {visible: false});\ntri1[1] = board.create('point', [tri1[0], down_b], {visible: false});\ntri1[2] = board.create('point', [tri1[0], [down_b,right_a]], {visible: false});\nvar po1 = board.create('polygon',[tri1[0],tri1[1],tri1[2]], \n                        {withLines: true, fillColor:'red', highlightFillColor:'none',\n                         vertices:{face:'', withLabel: false},\n                         borders: {strokeWidth:1, strokeColor:'black'}});\n\nboard.create('segment',[tri1[0],tri1[1]],{strokeWidth:0, withLabel: true, name:'b', label:{offset:[-10, b.Value()/2]}});\nboard.create('segment',[tri1[1],tri1[2]],{strokeWidth:0, withLabel: true, name:'a', label:{offset:[a.Value()/2, -10]}});\nboard.create('segment',[tri1[2],tri1[0]],{strokeWidth:0, withLabel: true, name:'c', label:{offset:[a.Value()/2-10, b.Value()/2-10]}});\n\nvar move_tri2 = board.create('transform', [()=>a.Value(), 0], {type:'translate'});\nvar tri2 = [];\ntri2[0] = board.create('point', [s, move_tri2], {visible: false});\ntri2[1] = board.create('point', [tri2[0], right_b], {visible: false});\ntri2[2] = board.create('point', [tri2[0], [right_b,up_a]], {visible: false});\nvar po2 = board.create('polygon',[tri2[0],tri2[1],tri2[2]], \n                        {withLines: true, fillColor:'green', highlightFillColor:'none',\n                         vertices:{face:'', withLabel: false},\n                         borders: {strokeWidth:1, strokeColor:'black'}});\n\n//anchor of tri3 should be changed\n/*\nvar move_tri3 = board.create('transform', [()=>a.Value()+b.Value(), ()=>a.Value()], {type:'translate'});\nvar tri3 = [];\ntri3[0] = board.create('point', [s, move_tri3], {visible: false});\ntri3[1] = board.create('point', [tri3[0], up_b], {visible: false});\ntri3[2] = board.create('point', [tri3[0], [up_b,left_a]], {visible: false});\nvar po3 = board.create('polygon',[tri3[0],tri3[1],tri3[2]], \n                        {withLines: true, fillColor:'blue', highlightFillColor:'none',\n                         vertices:{face:'', withLabel: false},\n                         borders: {strokeWidth:1, strokeColor:'black'}});\n*/\n\nvar move_tri3_2 = board.create('transform', [()=>b.Value(), ()=>a.Value()+b.Value()], {type:'translate'});\nvar tri3_2 = [];\ntri3_2[0] = board.create('point', [s, move_tri3_2], {visible: false});\ntri3_2[1] = board.create('point', [tri3_2[0], right_a], {visible: false});\ntri3_2[2] = board.create('point', [tri3_2[0], [right_a, down_b]], {visible: false});\nvar po3 = board.create('polygon',[tri3_2[0],tri3_2[1],tri3_2[2]], \n                        {withLines: true, fillColor:'blue', highlightFillColor:'none',\n                         vertices:{face:'', withLabel: false},\n                         borders: {strokeWidth:1, strokeColor:'black'}});\n\nvar move_tri4 = board.create('transform', [()=>b.Value(), ()=>a.Value()+b.Value()], {type:'translate'});\nvar tri4 = [];\ntri4[0] = board.create('point', [s, move_tri4], {visible: false});\ntri4[1] = board.create('point', [tri4[0], left_b], {visible: false});\ntri4[2] = board.create('point', [tri4[0], [left_b,down_a]], {visible: false});\nvar po4 = board.create('polygon',[tri4[0],tri4[1],tri4[2]], \n                        {withLines: true, fillColor:'yellow', highlightFillColor:'none',\n                         vertices:{face:'', withLabel: false},\n                         borders: {strokeWidth:1, strokeColor:'black'}});\n\nvar rot_tri2 = board.create('transform', [function(){return m.Value()*Math.PI/4;}, tri2[0]], {type:'rotate'});\nrot_tri2.bindTo([tri2[1],tri2[2]]);\n\nvar rot_tri3 = board.create('transform', [function(){return - m.Value()*Math.PI/4;}, tri3_2[0]], {type:'rotate'});\nrot_tri3.bindTo([tri3_2[1],tri3_2[2]]);\n\nboard.create('segment',[tri2[1], board.create('point', [tri2[1], right_b], {visible: false})],{visible:()=>(m.Value()>=1.99),strokeWidth:1, dash:2});\n\n\nboard.create('text',[()=>s.X()+a.Value()*1/2+b.Value(),()=>s.Y()+b.Value()+1/2*a.Value(),function(){\n        return '\\\\[ a^2 \\\\]';\n    }],{visible: ()=> {return (m.Value()>=1.99);}, anchorX: 'middle', anchorY: 'auto'});\n\nboard.create('text',[()=>s.X()+a.Value()+1/2*b.Value(),()=>s.Y()+1/2*b.Value(),function(){\n    return '\\\\[b^2\\\\]';\n    }],{visible: ()=> {return (m.Value()>=1.99);}, anchorX: 'middle', anchorY: 'auto'});\n\nboard.create('text',[()=>s.X()+1/2*(a.Value()+b.Value()),()=>s.Y()+1/2*(a.Value()+b.Value()),function(){\n    return '\\\\[c^2\\\\]';\n    }],{visible: ()=> {return (m.Value()<0.4);}, anchorX: 'middle', anchorY: 'auto'});",
      "metadata": {
        "trusted": true
      },
      "execution_count": 9,
      "outputs": [
        {
          "output_type": "display_data",
          "data": {
            "application/vnd.jupyter.widget-view+json": {
              "model_id": "41a7e38b3de340be8840da3209f77769",
              "version_major": 2,
              "version_minor": 0
            },
            "text/plain": "JSWidget(value=None, height=600, html='<!DOCTYPE html>\\n<html>\\n    <head>\\n    <style>\\n    html, body {\\n   …"
          },
          "metadata": {}
        }
      ],
      "id": "0fa206b1-6414-4b7b-ad89-945a92f0b68b"
    },
    {
      "cell_type": "markdown",
      "source": "**Exercise**\n\nBased on the graphs above, give an algebraic proof by equating the area of the outer square to the total areas of the inner triangles and squares, i.e.,\n\n$$\n\\begin{align*}\n(a + b)^2 &= \\frac{1}{2}ab \\cdot 4 + c^2.\n\\end{align*}\n$$ ",
      "metadata": {},
      "id": "b6373ef8-694d-4cb7-bab0-09cfddbf10a4"
    },
    {
      "cell_type": "markdown",
      "source": "YOUR ANSWER HERE",
      "metadata": {
        "deletable": false,
        "nbgrader": {
          "cell_type": "markdown",
          "checksum": "c8b504260721e8337533afb4b4ad5fa8",
          "grade": true,
          "grade_id": "p3",
          "locked": false,
          "points": 1,
          "schema_version": 3,
          "solution": true,
          "task": false
        },
        "tags": []
      },
      "id": "87352a58-f8f4-4080-a933-04c951eda5dd"
    },
    {
      "cell_type": "markdown",
      "source": "**Exercise**\n\nGive another graphical proof that corresponds to the following algebraic proof:\n\n$$\n\\begin{align*}\nc^2 &= \\frac{1}{2}ab \\cdot 4 + (a-b)^2 \\\\\n&= \\frac{1}{2}ab \\cdot 4 + a^2 -2ab + b^2 \\\\\n&= a^2 + b^2\n\\end{align*}\n$$\n\nWrite the proof in your own words with screen captures of the following scratchpad. Note that you can move and rotate the triangles in the scratchpad.",
      "metadata": {},
      "id": "2b1cf34b-d3b4-4e1b-993a-f15647331bdb"
    },
    {
      "cell_type": "code",
      "source": "%%jsxgraph\nJXG.Options.text.useMathJax = true;\nvar board = JXG.JSXGraph.initBoard('box', {boundingbox: [-1, 13, 13, -3], axis:true,grid:true, showCopyright:false});\n\nconst sx =1, sy = 1;\nconst a=6, b=4;\n\nvar p1, col1, pol1, g1;\ncol1 = 'red';\np1 = [];\np1.push(board.create('point',[sx, sy+b], {size: 5, strokeColor:'none', fillColor: 'none', withLabel: false}));\np1.push(board.create('point',[sx, sy], {size: 5, strokeColor:'none', fillColor:'none', withLabel: false}));\np1.push(board.create('point',[sx+a, sy], {size: 5, strokeColor:'none', fillColor:'none', withLabel: false}));\npol1 = board.create('polygon', p1, {hasInnerPoints: true, fillColor:col1});\ng1 = board.create('group', p1)\ng1.setRotationCenter('centroid')\ng1.setRotationPoints([p1[0], p1[1], p1[2]]);\n\nboard.create('segment',[p1[0],p1[1]],{strokeWidth:0, withLabel: true, name:'b', label:{offset:[10, b/2]}});\nboard.create('segment',[p1[1],p1[2]],{strokeWidth:0, withLabel: true, name:'a', label:{offset:[a/2, 10]}});\nboard.create('segment',[p1[2],p1[0]],{strokeWidth:0, withLabel: true, name:'c', label:{offset:[a/2-10, b/2-10]}});\n\nvar p2, col2, pol2, g2;\ncol2 = 'green';\np2 = [];\np2.push(board.create('point',[sx+a+1, sy], {size: 5, strokeColor:'none', fillColor: 'none', withLabel: false}));\np2.push(board.create('point',[sx+a+1+b, sy], {size: 5, strokeColor:'none', fillColor:'none', withLabel: false}));\np2.push(board.create('point',[sx+a+1+b, sy+a], {size: 5, strokeColor:'none', fillColor:'none', withLabel: false}));\npol2 = board.create('polygon', p2, {hasInnerPoints: true, fillColor:col2});\ng2 = board.create('group', p2)\ng2.setRotationCenter('centroid')\ng2.setRotationPoints([p2[0], p2[1], p2[2]]);\n\nvar p3, col3, pol3, g3;\ncol3 = 'blue';\np3 = [];\np3.push(board.create('point',[sx+a+1+b, sy+a+1], {size: 5, strokeColor:'none', fillColor: 'none', withLabel: false}));\np3.push(board.create('point',[sx+a+1+b, sy+a+1+b], {size: 5, strokeColor:'none', fillColor:'none', withLabel: false}));\np3.push(board.create('point',[sx+1+b, sy+a+1+b], {size: 5, strokeColor:'none', fillColor:'none', withLabel: false}));\npol3 = board.create('polygon', p3, {hasInnerPoints: true, fillColor:col3});\ng3 = board.create('group', p3)\ng3.setRotationCenter('centroid')\ng3.setRotationPoints([p3[0], p3[1], p3[3]]);\n\nvar p4, col4, pol4, g4;\ncol4 = 'yellow';\np4 = [];\np4.push(board.create('point',[sx+b, sy+b+1+a], {size: 5, strokeColor:'none', fillColor: 'none', withLabel: false}));\np4.push(board.create('point',[sx, sy+b+1+a], {size: 5, strokeColor:'none', fillColor:'none', withLabel: false}));\np4.push(board.create('point',[sx, sy+b+1], {size: 5, strokeColor:'none', fillColor:'none', withLabel: false}));\npol4 = board.create('polygon', p4, {hasInnerPoints: true, fillColor:col4});\ng4 = board.create('group', p4)\ng4.setRotationCenter('centroid')\ng4.setRotationPoints([p4[0], p4[1], p4[4]]);",
      "metadata": {
        "trusted": true
      },
      "execution_count": 10,
      "outputs": [
        {
          "output_type": "display_data",
          "data": {
            "application/vnd.jupyter.widget-view+json": {
              "model_id": "30dcab5b31a14cb18983de29db6d939e",
              "version_major": 2,
              "version_minor": 0
            },
            "text/plain": "JSWidget(value=None, height=600, html='<!DOCTYPE html>\\n<html>\\n    <head>\\n    <style>\\n    html, body {\\n   …"
          },
          "metadata": {}
        }
      ],
      "id": "251fb153-82af-437e-b0f1-71cf685c0b0f"
    },
    {
      "cell_type": "markdown",
      "source": "YOUR ANSWER HERE",
      "metadata": {
        "deletable": false,
        "nbgrader": {
          "cell_type": "markdown",
          "checksum": "916f1693024d3b9864680cccb92f8d5f",
          "grade": true,
          "grade_id": "p5",
          "locked": false,
          "points": 1,
          "schema_version": 3,
          "solution": true,
          "task": false
        },
        "tags": [
          "hide-cell"
        ]
      },
      "id": "b81e9818-468e-49af-8680-37d174e374db"
    }
  ]
}