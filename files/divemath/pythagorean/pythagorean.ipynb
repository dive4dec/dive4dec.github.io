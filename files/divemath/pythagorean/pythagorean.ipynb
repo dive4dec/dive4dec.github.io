{
 "cells": [
  {
   "cell_type": "markdown",
   "id": "6d7c1cf3-b5bf-45a6-bbdc-f167d9024242",
   "metadata": {},
   "source": [
    "# Pythagorean Theorem"
   ]
  },
  {
   "cell_type": "markdown",
   "id": "a1935024-1b43-4d6b-91ff-aa0698fffe53",
   "metadata": {},
   "source": [
    "**DIVE into Math**\n",
    "\n",
    "---"
   ]
  },
  {
   "cell_type": "markdown",
   "id": "95a83e0b-79b5-4b13-9f8e-ff21a9c995e8",
   "metadata": {},
   "source": [
    "The notebook is created based on [Exemplar 11: Pythagoras' Theorem](https://cd1.edb.hkedcity.net/cd/maths/en/ref_res/MATERIAL/it_e/11_ex_e.pdf) of  \n",
    "> Hong Kong Education Bureau, \"Use of Information Technology,\" *Learning and Teaching Packages on S1-5 Mathematics*, vol. 1. Available Online: <https://cd1.edb.hkedcity.net/cd/maths/en/ref_res/MATERIAL/it_e/IT_e%20content.htm>, accessed: 20 July 2022. \n",
    "\n",
    "Contributor: \n",
    "\n",
    "- Chao Zhao\n",
    "\n",
    "---"
   ]
  },
  {
   "cell_type": "code",
   "execution_count": null,
   "id": "89d24159-79dd-427e-a2c0-715ce77fd416",
   "metadata": {},
   "outputs": [],
   "source": [
    "%reload_ext divewidgets"
   ]
  },
  {
   "cell_type": "markdown",
   "id": "691e058d-af8d-4a09-a385-b5c443b68105",
   "metadata": {},
   "source": [
    "## Discovering Pythagorean Theorem"
   ]
  },
  {
   "cell_type": "markdown",
   "id": "eeff5891-d9dc-4d20-9f13-90145ce303c1",
   "metadata": {},
   "source": [
    "Run the following cell and move the sliders to change the values of $a$ and $b$. "
   ]
  },
  {
   "cell_type": "code",
   "execution_count": null,
   "id": "6240dc56-d731-447a-9842-ce5d239504d2",
   "metadata": {
    "jupyter": {
     "source_hidden": true
    },
    "tags": []
   },
   "outputs": [],
   "source": [
    "%%jsxgraph\n",
    "JXG.Options.text.useMathJax = true;\n",
    "var board = JXG.JSXGraph.initBoard('box', {boundingbox: [-1, 17, 18, -3], axis:true, grid:true, showCopyright:false});\n",
    "var a = board.create('slider', [[1, -1], [5,-1], [2, 4, 7]], {name:'a', snapWidth: 0.1});\n",
    "var b = board.create('slider', [[8, -1], [12,-1], [2, 3, 7]], {name:'b', snapWidth: 0.1});\n",
    "\n",
    "var s = board.create('point', [6,6],{face:\"\", withLabel:false});\n",
    "var right_ab = board.create('transform', [()=>a.Value()+b.Value(),0], {type:'translate'});\n",
    "var right_a = board.create('transform', [()=>a.Value(),0], {type:'translate'});\n",
    "var right_b = board.create('transform', [()=>b.Value(),0], {type:'translate'});\n",
    "var left_a = board.create('transform', [()=> -a.Value(),0], {type:'translate'});\n",
    "var left_b = board.create('transform', [()=> -b.Value(),0], {type:'translate'});\n",
    "var up_ab = board.create('transform', [0,()=>a.Value()+b.Value()], {type:'translate'});\n",
    "var up_a = board.create('transform', [0,()=>a.Value()], {type:'translate'});\n",
    "var up_b = board.create('transform', [0,()=>b.Value()], {type:'translate'});\n",
    "var down_a = board.create('transform', [0,()=> -a.Value()], {type:'translate'});\n",
    "var down_b = board.create('transform', [0,()=> -b.Value()], {type:'translate'});\n",
    "var no_move = board.create('transform', [0,0], {type:'translate'});\n",
    "\n",
    "\n",
    "var tri1 = [];\n",
    "tri1[0] = board.create('point', [s, up_b], {visible: true, size:2, name:'A', label:{offset:[-10,10]}});\n",
    "tri1[1] = board.create('point', [tri1[0], down_b], {visible: true, size:2, name:'C', label:{offset:[-10,-10]}});\n",
    "tri1[2] = board.create('point', [tri1[0], [down_b,right_a]], {visible: true, size:2, name:'B', label:{offset:[10,0]}});\n",
    "var po1 = board.create('polygon',[tri1[0], tri1[1],tri1[2]], \n",
    "                        {withLines: true, fillColor:'none', highlightFillColor:'none',\n",
    "                         vertices:{face:'', withLabel: false},\n",
    "                         borders: {strokeWidth:1, strokeColor:'black'}});\n",
    "\n",
    "board.create('segment',[tri1[0],tri1[1]],{strokeWidth:0, withLabel: true, name:'b', label:{offset:[-10, b.Value()/2]}});\n",
    "board.create('segment',[tri1[1],tri1[2]],{strokeWidth:0, withLabel: true, name:'a', label:{offset:[a.Value()/2, -10]}});\n",
    "board.create('segment',[tri1[2],tri1[0]],{strokeWidth:0, withLabel: true, name:'c', label:{offset:[a.Value()/2-10, b.Value()/2-10]}});\n",
    "\n",
    "\n",
    "var po_a = board.create('regularpolygon',[tri1[1],tri1[0],4], \n",
    "                        {withLines: true, fillColor:'red', highlightFillColor:'none',\n",
    "                         vertices:{face:'', withLabel: false},\n",
    "                         borders: {strokeWidth:1, strokeColor:'black'}});\n",
    "\n",
    "var po_b = board.create('regularpolygon',[tri1[2],tri1[1],4], \n",
    "                        {withLines: true, fillColor:'green', highlightFillColor:'none',\n",
    "                         vertices:{face:'', withLabel: false},\n",
    "                         borders: {strokeWidth:1, strokeColor:'black'}});\n",
    "\n",
    "var po_c = board.create('regularpolygon',[tri1[0],tri1[2],4], \n",
    "                        {withLines: true, fillColor:'yellow', highlightFillColor:'none',\n",
    "                         vertices:{face:'', withLabel: false},\n",
    "                         borders: {strokeWidth:1, strokeColor:'black'}});\n",
    "\n",
    "\n",
    "board.create('text',[()=>s.X()+a.Value()/2,()=>s.Y()-a.Value()/2,function(){\n",
    "        return (po_b.Area()).toFixed(2);\n",
    "    }],{anchorX: 'middle', anchorY: 'auto'});\n",
    "\n",
    "board.create('text',[()=>s.X()-b.Value()/2,()=>s.Y()+b.Value()/2,function(){\n",
    "        return (po_a.Area()).toFixed(2);\n",
    "    }],{anchorX: 'middle', anchorY: 'auto'});\n",
    "    \n",
    "board.create('text',[()=>s.X()+a.Value(),()=>s.Y()+b.Value(),function(){\n",
    "        return (po_c.Area()).toFixed(2);\n",
    "    }],{anchorX: 'middle', anchorY: 'auto'});"
   ]
  },
  {
   "cell_type": "markdown",
   "id": "13684dc6-c56b-4a81-9962-07ce21c3da26",
   "metadata": {},
   "source": [
    "**Exercise**\n",
    "\n",
    "Complete the following tables with *integer* areas of the three squares.  \n",
    "\n",
    "| Set \t| $a^2$ \t| $b^2$ \t| $c^2$ \t|\n",
    "|----- |-------|-------|-------|\n",
    "| 1   \t|       \t|       \t|       \t|\n",
    "| 2   \t|       \t|       \t|       \t|\n",
    "| 3   \t|       \t|       \t|       \t|\n",
    "| 4   \t|       \t|       \t|       \t|\n",
    "| 5   \t|       \t|       \t|       \t|"
   ]
  },
  {
   "cell_type": "markdown",
   "id": "21a7b88b-b438-440f-870c-ed51573e3286",
   "metadata": {
    "deletable": false,
    "nbgrader": {
     "cell_type": "markdown",
     "checksum": "11b903531c3dc15001aba9cee6eb2924",
     "grade": true,
     "grade_id": "p1",
     "locked": false,
     "points": 1,
     "schema_version": 3,
     "solution": true,
     "task": false
    },
    "tags": []
   },
   "source": [
    "YOUR ANSWER HERE"
   ]
  },
  {
   "cell_type": "markdown",
   "id": "0176a072-ac70-47cc-8324-9740ba1447ad",
   "metadata": {},
   "source": [
    "**Exercise**\n",
    "\n",
    "Complete the following Pythagorean theorem with your conjecture."
   ]
  },
  {
   "cell_type": "markdown",
   "id": "cad4634a-b554-4327-9b5d-38e279628442",
   "metadata": {},
   "source": [
    "---\n",
    "\n",
    "**Theorem** (Pythagorean Theorem) \n",
    "\n",
    "Given a right-angled triangle, the length $c$ of the hypotenuse satisfies\n",
    "\n",
    "$$\n",
    "\\begin{align}\n",
    "c^2 &= \\color{red}{\\text{your conjecture here}}\n",
    "\\end{align}\n",
    "\\tag{pythagorean}$$\n",
    "\n",
    "where $a$ and $b$ are the lengths of the other sides of the triangle.\n",
    "\n",
    "---"
   ]
  },
  {
   "cell_type": "markdown",
   "id": "4cf8ec2b-4cdf-442a-99ea-a32584b80904",
   "metadata": {
    "deletable": false,
    "nbgrader": {
     "cell_type": "markdown",
     "checksum": "60fdd1f7ebf4bcb905d160e67f88525a",
     "grade": true,
     "grade_id": "p2",
     "locked": false,
     "points": 1,
     "schema_version": 3,
     "solution": true,
     "task": false
    },
    "tags": []
   },
   "source": [
    "YOUR ANSWER HERE"
   ]
  },
  {
   "cell_type": "markdown",
   "id": "3359dcdd-198b-4a1c-a844-a445e452f774",
   "metadata": {},
   "source": [
    "## Proof of Pythagorean Theorem"
   ]
  },
  {
   "cell_type": "markdown",
   "id": "0304b2b1-5493-4c78-a3c5-3d6965429100",
   "metadata": {},
   "source": [
    "The followings are two graphical proofs of the Pythagorean theorem. Run the cell and drag the `move` slider to understand the proof."
   ]
  },
  {
   "cell_type": "code",
   "execution_count": null,
   "id": "bd9c7806-136c-4d50-9c40-fb533faf96d0",
   "metadata": {
    "jupyter": {
     "source_hidden": true
    },
    "tags": []
   },
   "outputs": [],
   "source": [
    "%%jsxgraph\n",
    "JXG.Options.text.useMathJax = true;\n",
    "var board = JXG.JSXGraph.initBoard('box', {boundingbox: [-1, 13, 15, -3], axis:true, showCopyright:false});\n",
    "var a = board.create('slider', [[1, -1], [5,-1], [2, 6, 7]], {name:'a', snapWidth: 0.1});\n",
    "var b = board.create('slider', [[8, -1], [12,-1], [2, 3, 7]], {name:'b', snapWidth: 0.1});\n",
    "var m = board.create('slider', [[1, -2], [12,-2], [0, 0, 2]], {name:'move', snapWidth: 0.1, withLabel:false});\n",
    "board.create('text',[1+m.point2.X(),m.point2.Y(),\"move\"],{fixed: true, anchorX: 'middle'});\n",
    "var s = board.create('point', [1,1],{face:\"\", withLabel:false});\n",
    "var right_ab = board.create('transform', [()=>a.Value()+b.Value(),0], {type:'translate'});\n",
    "var right_a = board.create('transform', [()=>a.Value(),0], {type:'translate'});\n",
    "var right_b = board.create('transform', [()=>b.Value(),0], {type:'translate'});\n",
    "var left_a = board.create('transform', [()=> -a.Value(),0], {type:'translate'});\n",
    "var left_b = board.create('transform', [()=> -b.Value(),0], {type:'translate'});\n",
    "var up_ab = board.create('transform', [0,()=>a.Value()+b.Value()], {type:'translate'});\n",
    "var up_a = board.create('transform', [0,()=>a.Value()], {type:'translate'});\n",
    "var up_b = board.create('transform', [0,()=>b.Value()], {type:'translate'});\n",
    "var down_a = board.create('transform', [0,()=> -a.Value()], {type:'translate'});\n",
    "var down_b = board.create('transform', [0,()=> -b.Value()], {type:'translate'});\n",
    "var no_move = board.create('transform', [0,0], {type:'translate'});\n",
    "\n",
    "\n",
    "var r2 = board.create('point', [s,right_ab], {visible: false});\n",
    "var po0 =  board.create('regularpolygon',[s,r2,4], \n",
    "                        {withLines: true, fillColor:'none', highlightFillColor:'none',\n",
    "                         vertices:{face:'', withLabel: false},\n",
    "                         borders: {strokeWidth:1, strokeColor:'black'}});\n",
    "\n",
    "var tri1 = [];\n",
    "tri1[0] = board.create('point', [s, up_b], {visible: false});\n",
    "tri1[1] = board.create('point', [tri1[0], down_b], {visible: false});\n",
    "tri1[2] = board.create('point', [tri1[0], [down_b,right_a]], {visible: false});\n",
    "var po1 = board.create('polygon',[tri1[0],tri1[1],tri1[2]], \n",
    "                        {withLines: true, fillColor:'red', highlightFillColor:'none',\n",
    "                         vertices:{face:'', withLabel: false},\n",
    "                         borders: {strokeWidth:1, strokeColor:'black'}});\n",
    "\n",
    "board.create('segment',[tri1[0],tri1[1]],{strokeWidth:0, withLabel: true, name:'b', label:{offset:[-10, b.Value()/2]}});\n",
    "board.create('segment',[tri1[1],tri1[2]],{strokeWidth:0, withLabel: true, name:'a', label:{offset:[a.Value()/2, -10]}});\n",
    "board.create('segment',[tri1[2],tri1[0]],{strokeWidth:0, withLabel: true, name:'c', label:{offset:[a.Value()/2-10, b.Value()/2-10]}});\n",
    "\n",
    "var move_tri2 = board.create('transform', [()=>a.Value(), ()=>b.Value()*(1-Math.min(m.Value(),1))], {type:'translate'});\n",
    "var tri2 = [];\n",
    "tri2[0] = board.create('point', [s, move_tri2], {visible: false});\n",
    "tri2[1] = board.create('point', [tri2[0], right_b], {visible: false});\n",
    "tri2[2] = board.create('point', [tri2[0], [right_b,up_a]], {visible: false});\n",
    "var po2 = board.create('polygon',[tri2[0],tri2[1],tri2[2]], \n",
    "                        {withLines: true, fillColor:'green', highlightFillColor:'none',\n",
    "                         vertices:{face:'', withLabel: false},\n",
    "                         borders: {strokeWidth:1, strokeColor:'black'}});\n",
    "\n",
    "var move_tri3 = board.create('transform', [()=>a.Value()+b.Value()*(Math.max(m.Value(),1)-1), ()=>a.Value()*(Math.max(m.Value(),1)-1)], {type:'translate'});\n",
    "var tri3 = [];\n",
    "tri3[0] = board.create('point', [s, move_tri3], {visible: false});\n",
    "tri3[1] = board.create('point', [tri3[0], up_b], {visible: false});\n",
    "tri3[2] = board.create('point', [tri3[0], [up_b,left_a]], {visible: false});\n",
    "var po3 = board.create('polygon',[tri3[0],tri3[1],tri3[2]], \n",
    "                        {withLines: true, fillColor:'blue', highlightFillColor:'none',\n",
    "                         vertices:{face:'', withLabel: false},\n",
    "                         borders: {strokeWidth:1, strokeColor:'black'}});\n",
    "\n",
    "\n",
    "var move_tri4 = board.create('transform', [()=>b.Value()+a.Value()*(1-Math.min(m.Value(),1)), ()=>a.Value()+b.Value()], {type:'translate'});\n",
    "var tri4 = [];\n",
    "tri4[0] = board.create('point', [s, move_tri4], {visible: false});\n",
    "tri4[1] = board.create('point', [tri4[0], left_b], {visible: false});\n",
    "tri4[2] = board.create('point', [tri4[0], [left_b,down_a]], {visible: false});\n",
    "var po4 = board.create('polygon',[tri4[0],tri4[1],tri4[2]], \n",
    "                        {withLines: true, fillColor:'yellow', highlightFillColor:'none',\n",
    "                         vertices:{face:'', withLabel: false},\n",
    "                         borders: {strokeWidth:1, strokeColor:'black'}});\n",
    "\n",
    "board.create('text',[()=>s.X()+1/2*a.Value(),()=>s.Y()+b.Value()+1/2*a.Value(),function(){\n",
    "        return '\\\\[ a^2 \\\\]';\n",
    "    }],{visible: ()=> {return (m.Value()<0.3);}, anchorX: 'middle', anchorY: 'auto'});\n",
    "\n",
    "board.create('text',[()=>s.X()+a.Value()+1/2*b.Value(),()=>s.Y()+1/2*b.Value(),function(){\n",
    "    return '\\\\[b^2\\\\]';\n",
    "    }],{visible: ()=> {return (m.Value()<0.3);}, anchorX: 'middle', anchorY: 'auto'});\n",
    "\n",
    "board.create('text',[()=>s.X()+1/2*(a.Value()+b.Value()),()=>s.Y()+1/2*(a.Value()+b.Value()),function(){\n",
    "    return '\\\\[c^2\\\\]';\n",
    "    }],{visible: ()=> {return (m.Value()>1.9);}, anchorX: 'middle', anchorY: 'auto'});"
   ]
  },
  {
   "cell_type": "code",
   "execution_count": null,
   "id": "0fa206b1-6414-4b7b-ad89-945a92f0b68b",
   "metadata": {
    "jupyter": {
     "source_hidden": true
    },
    "tags": []
   },
   "outputs": [],
   "source": [
    "%%jsxgraph\n",
    "JXG.Options.text.useMathJax = true;\n",
    "var board = JXG.JSXGraph.initBoard('box', {boundingbox: [-1, 13, 15, -3], axis:true, showCopyright:false});\n",
    "var a = board.create('slider', [[1, -1], [5,-1], [2, 6, 7]], {name:'a', snapWidth: 0.1});\n",
    "var b = board.create('slider', [[8, -1], [12,-1], [2, 3, 7]], {name:'b', snapWidth: 0.1});\n",
    "var m = board.create('slider', [[1, -2], [12,-2], [0, 0, 2]], {name:'move', snapWidth: 0.1, withLabel:false});\n",
    "board.create('text',[1+m.point2.X(),m.point2.Y(),\"move\"],{fixed: true, anchorX: 'middle'});\n",
    "var s = board.create('point', [1,1],{face:\"\", withLabel:false});\n",
    "var right_ab = board.create('transform', [()=>a.Value()+b.Value(),0], {type:'translate'});\n",
    "var right_a = board.create('transform', [()=>a.Value(),0], {type:'translate'});\n",
    "var right_b = board.create('transform', [()=>b.Value(),0], {type:'translate'});\n",
    "var left_a = board.create('transform', [()=> -a.Value(),0], {type:'translate'});\n",
    "var left_b = board.create('transform', [()=> -b.Value(),0], {type:'translate'});\n",
    "var up_ab = board.create('transform', [0,()=>a.Value()+b.Value()], {type:'translate'});\n",
    "var up_a = board.create('transform', [0,()=>a.Value()], {type:'translate'});\n",
    "var up_b = board.create('transform', [0,()=>b.Value()], {type:'translate'});\n",
    "var down_a = board.create('transform', [0,()=> -a.Value()], {type:'translate'});\n",
    "var down_b = board.create('transform', [0,()=> -b.Value()], {type:'translate'});\n",
    "var no_move = board.create('transform', [0,0], {type:'translate'});\n",
    "\n",
    "\n",
    "var r2 = board.create('point', [s,right_ab], {visible: false});\n",
    "var po0 =  board.create('regularpolygon',[s,r2,4], \n",
    "                        {withLines: true, fillColor:'none', highlightFillColor:'none',\n",
    "                         vertices:{face:'', withLabel: false},\n",
    "                         borders: {strokeWidth:1, strokeColor:'black'}});\n",
    "\n",
    "var tri1 = [];\n",
    "tri1[0] = board.create('point', [s, up_b], {visible: false});\n",
    "tri1[1] = board.create('point', [tri1[0], down_b], {visible: false});\n",
    "tri1[2] = board.create('point', [tri1[0], [down_b,right_a]], {visible: false});\n",
    "var po1 = board.create('polygon',[tri1[0],tri1[1],tri1[2]], \n",
    "                        {withLines: true, fillColor:'red', highlightFillColor:'none',\n",
    "                         vertices:{face:'', withLabel: false},\n",
    "                         borders: {strokeWidth:1, strokeColor:'black'}});\n",
    "\n",
    "board.create('segment',[tri1[0],tri1[1]],{strokeWidth:0, withLabel: true, name:'b', label:{offset:[-10, b.Value()/2]}});\n",
    "board.create('segment',[tri1[1],tri1[2]],{strokeWidth:0, withLabel: true, name:'a', label:{offset:[a.Value()/2, -10]}});\n",
    "board.create('segment',[tri1[2],tri1[0]],{strokeWidth:0, withLabel: true, name:'c', label:{offset:[a.Value()/2-10, b.Value()/2-10]}});\n",
    "\n",
    "var move_tri2 = board.create('transform', [()=>a.Value(), 0], {type:'translate'});\n",
    "var tri2 = [];\n",
    "tri2[0] = board.create('point', [s, move_tri2], {visible: false});\n",
    "tri2[1] = board.create('point', [tri2[0], right_b], {visible: false});\n",
    "tri2[2] = board.create('point', [tri2[0], [right_b,up_a]], {visible: false});\n",
    "var po2 = board.create('polygon',[tri2[0],tri2[1],tri2[2]], \n",
    "                        {withLines: true, fillColor:'green', highlightFillColor:'none',\n",
    "                         vertices:{face:'', withLabel: false},\n",
    "                         borders: {strokeWidth:1, strokeColor:'black'}});\n",
    "\n",
    "//anchor of tri3 should be changed\n",
    "/*\n",
    "var move_tri3 = board.create('transform', [()=>a.Value()+b.Value(), ()=>a.Value()], {type:'translate'});\n",
    "var tri3 = [];\n",
    "tri3[0] = board.create('point', [s, move_tri3], {visible: false});\n",
    "tri3[1] = board.create('point', [tri3[0], up_b], {visible: false});\n",
    "tri3[2] = board.create('point', [tri3[0], [up_b,left_a]], {visible: false});\n",
    "var po3 = board.create('polygon',[tri3[0],tri3[1],tri3[2]], \n",
    "                        {withLines: true, fillColor:'blue', highlightFillColor:'none',\n",
    "                         vertices:{face:'', withLabel: false},\n",
    "                         borders: {strokeWidth:1, strokeColor:'black'}});\n",
    "*/\n",
    "\n",
    "var move_tri3_2 = board.create('transform', [()=>b.Value(), ()=>a.Value()+b.Value()], {type:'translate'});\n",
    "var tri3_2 = [];\n",
    "tri3_2[0] = board.create('point', [s, move_tri3_2], {visible: false});\n",
    "tri3_2[1] = board.create('point', [tri3_2[0], right_a], {visible: false});\n",
    "tri3_2[2] = board.create('point', [tri3_2[0], [right_a, down_b]], {visible: false});\n",
    "var po3 = board.create('polygon',[tri3_2[0],tri3_2[1],tri3_2[2]], \n",
    "                        {withLines: true, fillColor:'blue', highlightFillColor:'none',\n",
    "                         vertices:{face:'', withLabel: false},\n",
    "                         borders: {strokeWidth:1, strokeColor:'black'}});\n",
    "\n",
    "var move_tri4 = board.create('transform', [()=>b.Value(), ()=>a.Value()+b.Value()], {type:'translate'});\n",
    "var tri4 = [];\n",
    "tri4[0] = board.create('point', [s, move_tri4], {visible: false});\n",
    "tri4[1] = board.create('point', [tri4[0], left_b], {visible: false});\n",
    "tri4[2] = board.create('point', [tri4[0], [left_b,down_a]], {visible: false});\n",
    "var po4 = board.create('polygon',[tri4[0],tri4[1],tri4[2]], \n",
    "                        {withLines: true, fillColor:'yellow', highlightFillColor:'none',\n",
    "                         vertices:{face:'', withLabel: false},\n",
    "                         borders: {strokeWidth:1, strokeColor:'black'}});\n",
    "\n",
    "var rot_tri2 = board.create('transform', [function(){return m.Value()*Math.PI/4;}, tri2[0]], {type:'rotate'});\n",
    "rot_tri2.bindTo([tri2[1],tri2[2]]);\n",
    "\n",
    "var rot_tri3 = board.create('transform', [function(){return - m.Value()*Math.PI/4;}, tri3_2[0]], {type:'rotate'});\n",
    "rot_tri3.bindTo([tri3_2[1],tri3_2[2]]);\n",
    "\n",
    "board.create('segment',[tri2[1], board.create('point', [tri2[1], right_b], {visible: false})],{visible:()=>(m.Value()>=1.99),strokeWidth:1, dash:2});\n",
    "\n",
    "\n",
    "board.create('text',[()=>s.X()+a.Value()*1/2+b.Value(),()=>s.Y()+b.Value()+1/2*a.Value(),function(){\n",
    "        return '\\\\[ a^2 \\\\]';\n",
    "    }],{visible: ()=> {return (m.Value()>=1.99);}, anchorX: 'middle', anchorY: 'auto'});\n",
    "\n",
    "board.create('text',[()=>s.X()+a.Value()+1/2*b.Value(),()=>s.Y()+1/2*b.Value(),function(){\n",
    "    return '\\\\[b^2\\\\]';\n",
    "    }],{visible: ()=> {return (m.Value()>=1.99);}, anchorX: 'middle', anchorY: 'auto'});\n",
    "\n",
    "board.create('text',[()=>s.X()+1/2*(a.Value()+b.Value()),()=>s.Y()+1/2*(a.Value()+b.Value()),function(){\n",
    "    return '\\\\[c^2\\\\]';\n",
    "    }],{visible: ()=> {return (m.Value()<0.4);}, anchorX: 'middle', anchorY: 'auto'});"
   ]
  },
  {
   "cell_type": "markdown",
   "id": "b6373ef8-694d-4cb7-bab0-09cfddbf10a4",
   "metadata": {},
   "source": [
    "**Exercise**\n",
    "\n",
    "Based on the graphs above, give an algebraic proof by equating the area of the outer square to the total areas of the inner triangles and squares, i.e.,\n",
    "\n",
    "$$\n",
    "\\begin{align*}\n",
    "(a + b)^2 &= \\frac{1}{2}ab \\cdot 4 + c^2.\n",
    "\\end{align*}\n",
    "$$ "
   ]
  },
  {
   "cell_type": "markdown",
   "id": "87352a58-f8f4-4080-a933-04c951eda5dd",
   "metadata": {
    "deletable": false,
    "nbgrader": {
     "cell_type": "markdown",
     "checksum": "c8b504260721e8337533afb4b4ad5fa8",
     "grade": true,
     "grade_id": "p3",
     "locked": false,
     "points": 1,
     "schema_version": 3,
     "solution": true,
     "task": false
    },
    "tags": []
   },
   "source": [
    "YOUR ANSWER HERE"
   ]
  },
  {
   "cell_type": "markdown",
   "id": "2b1cf34b-d3b4-4e1b-993a-f15647331bdb",
   "metadata": {},
   "source": [
    "**Exercise**\n",
    "\n",
    "Give another graphical proof that corresponds to the following algebraic proof:\n",
    "\n",
    "$$\n",
    "\\begin{align*}\n",
    "c^2 &= \\frac{1}{2}ab \\cdot 4 + (a-b)^2 \\\\\n",
    "&= \\frac{1}{2}ab \\cdot 4 + a^2 -2ab + b^2 \\\\\n",
    "&= a^2 + b^2\n",
    "\\end{align*}\n",
    "$$\n",
    "\n",
    "Write the proof in your own words with screen captures of the following scratchpad. Note that you can move and rotate the triangles in the scratchpad."
   ]
  },
  {
   "cell_type": "code",
   "execution_count": null,
   "id": "251fb153-82af-437e-b0f1-71cf685c0b0f",
   "metadata": {
    "jupyter": {
     "source_hidden": true
    },
    "tags": []
   },
   "outputs": [],
   "source": [
    "%%jsxgraph\n",
    "JXG.Options.text.useMathJax = true;\n",
    "var board = JXG.JSXGraph.initBoard('box', {boundingbox: [-1, 13, 15, -3], axis:true,grid:true, showCopyright:false});\n",
    "\n",
    "const sx =1, sy = 1;\n",
    "const a=6, b=4;\n",
    "\n",
    "var p1, col1, pol1, g1;\n",
    "col1 = 'red';\n",
    "p1 = [];\n",
    "p1.push(board.create('point',[sx, sy+b], {size: 5, strokeColor:'none', fillColor: 'none', withLabel: false}));\n",
    "p1.push(board.create('point',[sx, sy], {size: 5, strokeColor:'none', fillColor:'none', withLabel: false}));\n",
    "p1.push(board.create('point',[sx+a, sy], {size: 5, strokeColor:'none', fillColor:'none', withLabel: false}));\n",
    "pol1 = board.create('polygon', p1, {hasInnerPoints: true, fillColor:col1});\n",
    "g1 = board.create('group', p1)\n",
    "g1.setRotationCenter('centroid')\n",
    "g1.setRotationPoints([p1[0], p1[1], p1[2]]);\n",
    "\n",
    "board.create('segment',[p1[0],p1[1]],{strokeWidth:0, withLabel: true, name:'b', label:{offset:[10, b/2]}});\n",
    "board.create('segment',[p1[1],p1[2]],{strokeWidth:0, withLabel: true, name:'a', label:{offset:[a/2, 10]}});\n",
    "board.create('segment',[p1[2],p1[0]],{strokeWidth:0, withLabel: true, name:'c', label:{offset:[a/2-10, b/2-10]}});\n",
    "\n",
    "var p2, col2, pol2, g2;\n",
    "col2 = 'green';\n",
    "p2 = [];\n",
    "p2.push(board.create('point',[sx+a+1, sy], {size: 5, strokeColor:'none', fillColor: 'none', withLabel: false}));\n",
    "p2.push(board.create('point',[sx+a+1+b, sy], {size: 5, strokeColor:'none', fillColor:'none', withLabel: false}));\n",
    "p2.push(board.create('point',[sx+a+1+b, sy+a], {size: 5, strokeColor:'none', fillColor:'none', withLabel: false}));\n",
    "pol2 = board.create('polygon', p2, {hasInnerPoints: true, fillColor:col2});\n",
    "g2 = board.create('group', p2)\n",
    "g2.setRotationCenter('centroid')\n",
    "g2.setRotationPoints([p2[0], p2[1], p2[2]]);\n",
    "\n",
    "var p3, col3, pol3, g3;\n",
    "col3 = 'blue';\n",
    "p3 = [];\n",
    "p3.push(board.create('point',[sx+a+1+b, sy+a+1], {size: 5, strokeColor:'none', fillColor: 'none', withLabel: false}));\n",
    "p3.push(board.create('point',[sx+a+1+b, sy+a+1+b], {size: 5, strokeColor:'none', fillColor:'none', withLabel: false}));\n",
    "p3.push(board.create('point',[sx+1+b, sy+a+1+b], {size: 5, strokeColor:'none', fillColor:'none', withLabel: false}));\n",
    "pol3 = board.create('polygon', p3, {hasInnerPoints: true, fillColor:col3});\n",
    "g3 = board.create('group', p3)\n",
    "g3.setRotationCenter('centroid')\n",
    "g3.setRotationPoints([p3[0], p3[1], p3[3]]);\n",
    "\n",
    "var p4, col4, pol4, g4;\n",
    "col4 = 'yellow';\n",
    "p4 = [];\n",
    "p4.push(board.create('point',[sx+b, sy+b+1+a], {size: 5, strokeColor:'none', fillColor: 'none', withLabel: false}));\n",
    "p4.push(board.create('point',[sx, sy+b+1+a], {size: 5, strokeColor:'none', fillColor:'none', withLabel: false}));\n",
    "p4.push(board.create('point',[sx, sy+b+1], {size: 5, strokeColor:'none', fillColor:'none', withLabel: false}));\n",
    "pol4 = board.create('polygon', p4, {hasInnerPoints: true, fillColor:col4});\n",
    "g4 = board.create('group', p4)\n",
    "g4.setRotationCenter('centroid')\n",
    "g4.setRotationPoints([p4[0], p4[1], p4[4]]);"
   ]
  },
  {
   "cell_type": "markdown",
   "id": "b81e9818-468e-49af-8680-37d174e374db",
   "metadata": {
    "deletable": false,
    "nbgrader": {
     "cell_type": "markdown",
     "checksum": "916f1693024d3b9864680cccb92f8d5f",
     "grade": true,
     "grade_id": "p5",
     "locked": false,
     "points": 1,
     "schema_version": 3,
     "solution": true,
     "task": false
    },
    "tags": [
     "hide-cell"
    ]
   },
   "source": [
    "YOUR ANSWER HERE"
   ]
  }
 ],
 "metadata": {
  "kernelspec": {
   "display_name": "Python (XPython)",
   "language": "python",
   "name": "xeus-python"
  },
  "language_info": {
   "codemirror_mode": {
    "name": "ipython",
    "version": 3
   },
   "file_extension": ".py",
   "mimetype": "text/x-python",
   "name": "python",
   "nbconvert_exporter": "python",
   "pygments_lexer": "ipython3",
   "version": "3.10.6"
  },
  "widgets": {
   "application/vnd.jupyter.widget-state+json": {
    "state": {
     "2f0b5c07ac804f1ba20bcb98aa841c47": {
      "model_module": "jupyter-divewidgets",
      "model_module_version": "^0.1.5",
      "model_name": "JSWidgetModel",
      "state": {
       "_model_module_version": "^0.1.5",
       "_view_module_version": "^0.1.5",
       "html": "<!DOCTYPE html>\n<html>\n    <head>\n    <style>\n    html, body {\n        height: 100%;\n    }\n    body {\n        width: 100%;\n        display: flex;\n        padding: 0;\n        margin: 0;\n    }\n    .jxgbox {\n        width:100%; \n        flex-grow: 1;\n    }\n    </style>\n    <link rel=\"stylesheet\" type=\"text/css\" href=\"https://jsxgraph.org/distrib/jsxgraph.css\" />\n    <script type=\"text/javascript\" src=\"https://cdn.jsdelivr.net/npm/jsxgraph/distrib/jsxgraphcore.js\"></script>\n    <script type=\"text/javascript\" src=\"https://cdn.jsdelivr.net/npm/mathjax@3/es5/tex-chtml.js\"></script>\n    </head>\n<body>\n<div id=\"box\" class=\"jxgbox\"></div>\n</body>\n</html>",
       "js": "JXG.Options.text.useMathJax = true;\nvar board = JXG.JSXGraph.initBoard('box', {boundingbox: [-1, 13, 15, -3], axis:true, showCopyright:false});\nvar a = board.create('slider', [[1, -1], [5,-1], [2, 6, 7]], {name:'a', snapWidth: 0.1});\nvar b = board.create('slider', [[8, -1], [12,-1], [2, 3, 7]], {name:'b', snapWidth: 0.1});\nvar m = board.create('slider', [[1, -2], [12,-2], [0, 0, 2]], {name:'move', snapWidth: 0.1, withLabel:false});\nboard.create('text',[1+m.point2.X(),m.point2.Y(),\"move\"],{fixed: true, anchorX: 'middle'});\nvar s = board.create('point', [1,1],{face:\"\", withLabel:false});\nvar right_ab = board.create('transform', [()=>a.Value()+b.Value(),0], {type:'translate'});\nvar right_a = board.create('transform', [()=>a.Value(),0], {type:'translate'});\nvar right_b = board.create('transform', [()=>b.Value(),0], {type:'translate'});\nvar left_a = board.create('transform', [()=> -a.Value(),0], {type:'translate'});\nvar left_b = board.create('transform', [()=> -b.Value(),0], {type:'translate'});\nvar up_ab = board.create('transform', [0,()=>a.Value()+b.Value()], {type:'translate'});\nvar up_a = board.create('transform', [0,()=>a.Value()], {type:'translate'});\nvar up_b = board.create('transform', [0,()=>b.Value()], {type:'translate'});\nvar down_a = board.create('transform', [0,()=> -a.Value()], {type:'translate'});\nvar down_b = board.create('transform', [0,()=> -b.Value()], {type:'translate'});\nvar no_move = board.create('transform', [0,0], {type:'translate'});\n\n\nvar r2 = board.create('point', [s,right_ab], {visible: false});\nvar po0 =  board.create('regularpolygon',[s,r2,4], \n                        {withLines: true, fillColor:'none', highlightFillColor:'none',\n                         vertices:{face:'', withLabel: false},\n                         borders: {strokeWidth:1, strokeColor:'black'}});\n\nvar tri1 = [];\ntri1[0] = board.create('point', [s, up_b], {visible: false});\ntri1[1] = board.create('point', [tri1[0], down_b], {visible: false});\ntri1[2] = board.create('point', [tri1[0], [down_b,right_a]], {visible: false});\nvar po1 = board.create('polygon',[tri1[0],tri1[1],tri1[2]], \n                        {withLines: true, fillColor:'red', highlightFillColor:'none',\n                         vertices:{face:'', withLabel: false},\n                         borders: {strokeWidth:1, strokeColor:'black'}});\n\nboard.create('segment',[tri1[0],tri1[1]],{strokeWidth:0, withLabel: true, name:'b', label:{offset:[-10, b.Value()/2]}});\nboard.create('segment',[tri1[1],tri1[2]],{strokeWidth:0, withLabel: true, name:'a', label:{offset:[a.Value()/2, -10]}});\nboard.create('segment',[tri1[2],tri1[0]],{strokeWidth:0, withLabel: true, name:'c', label:{offset:[a.Value()/2-10, b.Value()/2-10]}});\n\nvar move_tri2 = board.create('transform', [()=>a.Value(), ()=>b.Value()*(1-Math.min(m.Value(),1))], {type:'translate'});\nvar tri2 = [];\ntri2[0] = board.create('point', [s, move_tri2], {visible: false});\ntri2[1] = board.create('point', [tri2[0], right_b], {visible: false});\ntri2[2] = board.create('point', [tri2[0], [right_b,up_a]], {visible: false});\nvar po2 = board.create('polygon',[tri2[0],tri2[1],tri2[2]], \n                        {withLines: true, fillColor:'green', highlightFillColor:'none',\n                         vertices:{face:'', withLabel: false},\n                         borders: {strokeWidth:1, strokeColor:'black'}});\n\nvar move_tri3 = board.create('transform', [()=>a.Value()+b.Value()*(Math.max(m.Value(),1)-1), ()=>a.Value()*(Math.max(m.Value(),1)-1)], {type:'translate'});\nvar tri3 = [];\ntri3[0] = board.create('point', [s, move_tri3], {visible: false});\ntri3[1] = board.create('point', [tri3[0], up_b], {visible: false});\ntri3[2] = board.create('point', [tri3[0], [up_b,left_a]], {visible: false});\nvar po3 = board.create('polygon',[tri3[0],tri3[1],tri3[2]], \n                        {withLines: true, fillColor:'blue', highlightFillColor:'none',\n                         vertices:{face:'', withLabel: false},\n                         borders: {strokeWidth:1, strokeColor:'black'}});\n\n\nvar move_tri4 = board.create('transform', [()=>b.Value()+a.Value()*(1-Math.min(m.Value(),1)), ()=>a.Value()+b.Value()], {type:'translate'});\nvar tri4 = [];\ntri4[0] = board.create('point', [s, move_tri4], {visible: false});\ntri4[1] = board.create('point', [tri4[0], left_b], {visible: false});\ntri4[2] = board.create('point', [tri4[0], [left_b,down_a]], {visible: false});\nvar po4 = board.create('polygon',[tri4[0],tri4[1],tri4[2]], \n                        {withLines: true, fillColor:'yellow', highlightFillColor:'none',\n                         vertices:{face:'', withLabel: false},\n                         borders: {strokeWidth:1, strokeColor:'black'}});\n\nboard.create('text',[()=>s.X()+1/2*a.Value(),()=>s.Y()+b.Value()+1/2*a.Value(),function(){\n        return '\\\\[ a^2 \\\\]';\n    }],{visible: ()=> {return (m.Value()<0.3);}, anchorX: 'middle', anchorY: 'auto'});\n\nboard.create('text',[()=>s.X()+a.Value()+1/2*b.Value(),()=>s.Y()+1/2*b.Value(),function(){\n    return '\\\\[b^2\\\\]';\n    }],{visible: ()=> {return (m.Value()<0.3);}, anchorX: 'middle', anchorY: 'auto'});\n\nboard.create('text',[()=>s.X()+1/2*(a.Value()+b.Value()),()=>s.Y()+1/2*(a.Value()+b.Value()),function(){\n    return '\\\\[c^2\\\\]';\n    }],{visible: ()=> {return (m.Value()>1.9);}, anchorX: 'middle', anchorY: 'auto'});",
       "layout": "IPY_MODEL_c882d59cb81e4aa78b35c75dc06698c4"
      }
     },
     "45a19a02309b4f96940fb16fac2a7763": {
      "model_module": "jupyter-divewidgets",
      "model_module_version": "^0.1.5",
      "model_name": "JSWidgetModel",
      "state": {
       "_model_module_version": "^0.1.5",
       "_view_module_version": "^0.1.5",
       "html": "<!DOCTYPE html>\n<html>\n    <head>\n    <style>\n    html, body {\n        height: 100%;\n    }\n    body {\n        width: 100%;\n        display: flex;\n        padding: 0;\n        margin: 0;\n    }\n    .jxgbox {\n        width:100%; \n        flex-grow: 1;\n    }\n    </style>\n    <link rel=\"stylesheet\" type=\"text/css\" href=\"https://jsxgraph.org/distrib/jsxgraph.css\" />\n    <script type=\"text/javascript\" src=\"https://cdn.jsdelivr.net/npm/jsxgraph/distrib/jsxgraphcore.js\"></script>\n    <script type=\"text/javascript\" src=\"https://cdn.jsdelivr.net/npm/mathjax@3/es5/tex-chtml.js\"></script>\n    </head>\n<body>\n<div id=\"box\" class=\"jxgbox\"></div>\n</body>\n</html>",
       "js": "JXG.Options.text.useMathJax = true;\nvar board = JXG.JSXGraph.initBoard('box', {boundingbox: [-1, 13, 15, -3], axis:true,grid:true, showCopyright:false});\n\nconst sx =1, sy = 1;\nconst a=6, b=4;\n\nvar p1, col1, pol1, g1;\ncol1 = 'red';\np1 = [];\np1.push(board.create('point',[sx, sy+b], {size: 5, strokeColor:'none', fillColor: 'none', withLabel: false}));\np1.push(board.create('point',[sx, sy], {size: 5, strokeColor:'none', fillColor:'none', withLabel: false}));\np1.push(board.create('point',[sx+a, sy], {size: 5, strokeColor:'none', fillColor:'none', withLabel: false}));\npol1 = board.create('polygon', p1, {hasInnerPoints: true, fillColor:col1});\ng1 = board.create('group', p1)\ng1.setRotationCenter('centroid')\ng1.setRotationPoints([p1[0], p1[1], p1[2]]);\n\nboard.create('segment',[p1[0],p1[1]],{strokeWidth:0, withLabel: true, name:'b', label:{offset:[10, b/2]}});\nboard.create('segment',[p1[1],p1[2]],{strokeWidth:0, withLabel: true, name:'a', label:{offset:[a/2, 10]}});\nboard.create('segment',[p1[2],p1[0]],{strokeWidth:0, withLabel: true, name:'c', label:{offset:[a/2-10, b/2-10]}});\n\nvar p2, col2, pol2, g2;\ncol2 = 'green';\np2 = [];\np2.push(board.create('point',[sx+a+1, sy], {size: 5, strokeColor:'none', fillColor: 'none', withLabel: false}));\np2.push(board.create('point',[sx+a+1+b, sy], {size: 5, strokeColor:'none', fillColor:'none', withLabel: false}));\np2.push(board.create('point',[sx+a+1+b, sy+a], {size: 5, strokeColor:'none', fillColor:'none', withLabel: false}));\npol2 = board.create('polygon', p2, {hasInnerPoints: true, fillColor:col2});\ng2 = board.create('group', p2)\ng2.setRotationCenter('centroid')\ng2.setRotationPoints([p2[0], p2[1], p2[2]]);\n\nvar p3, col3, pol3, g3;\ncol3 = 'blue';\np3 = [];\np3.push(board.create('point',[sx+a+1+b, sy+a+1], {size: 5, strokeColor:'none', fillColor: 'none', withLabel: false}));\np3.push(board.create('point',[sx+a+1+b, sy+a+1+b], {size: 5, strokeColor:'none', fillColor:'none', withLabel: false}));\np3.push(board.create('point',[sx+1+b, sy+a+1+b], {size: 5, strokeColor:'none', fillColor:'none', withLabel: false}));\npol3 = board.create('polygon', p3, {hasInnerPoints: true, fillColor:col3});\ng3 = board.create('group', p3)\ng3.setRotationCenter('centroid')\ng3.setRotationPoints([p3[0], p3[1], p3[3]]);\n\nvar p4, col4, pol4, g4;\ncol4 = 'yellow';\np4 = [];\np4.push(board.create('point',[sx+b, sy+b+1+a], {size: 5, strokeColor:'none', fillColor: 'none', withLabel: false}));\np4.push(board.create('point',[sx, sy+b+1+a], {size: 5, strokeColor:'none', fillColor:'none', withLabel: false}));\np4.push(board.create('point',[sx, sy+b+1], {size: 5, strokeColor:'none', fillColor:'none', withLabel: false}));\npol4 = board.create('polygon', p4, {hasInnerPoints: true, fillColor:col4});\ng4 = board.create('group', p4)\ng4.setRotationCenter('centroid')\ng4.setRotationPoints([p4[0], p4[1], p4[4]]);",
       "layout": "IPY_MODEL_63fb364002594466b95ad500d78ce4e0"
      }
     },
     "465fc8d4d9f14c16aea8b5fbd345b726": {
      "model_module": "@jupyter-widgets/base",
      "model_module_version": "2.0.0",
      "model_name": "LayoutModel",
      "state": {}
     },
     "4ce7f625dc67440eade0281d20c885f6": {
      "model_module": "@jupyter-widgets/base",
      "model_module_version": "2.0.0",
      "model_name": "LayoutModel",
      "state": {}
     },
     "5cfbbbe930e744099522b63630455f06": {
      "model_module": "jupyter-divewidgets",
      "model_module_version": "^0.1.5",
      "model_name": "JSWidgetModel",
      "state": {
       "_model_module_version": "^0.1.5",
       "_view_module_version": "^0.1.5",
       "html": "<!DOCTYPE html>\n<html>\n    <head>\n    <style>\n    html, body {\n        height: 100%;\n    }\n    body {\n        width: 100%;\n        display: flex;\n        padding: 0;\n        margin: 0;\n    }\n    .jxgbox {\n        width:100%; \n        flex-grow: 1;\n    }\n    </style>\n    <link rel=\"stylesheet\" type=\"text/css\" href=\"https://jsxgraph.org/distrib/jsxgraph.css\" />\n    <script type=\"text/javascript\" src=\"https://cdn.jsdelivr.net/npm/jsxgraph/distrib/jsxgraphcore.js\"></script>\n    <script type=\"text/javascript\" src=\"https://cdn.jsdelivr.net/npm/mathjax@3/es5/tex-chtml.js\"></script>\n    </head>\n<body>\n<div id=\"box\" class=\"jxgbox\"></div>\n</body>\n</html>",
       "js": "JXG.Options.text.useMathJax = true;\nvar board = JXG.JSXGraph.initBoard('box', {boundingbox: [-1, 13, 13, -3], axis:true,grid:true, showCopyright:false});\n\nconst sx =1, sy = 1;\nconst a=6, b=4;\n\nvar p1, col1, pol1, g1;\ncol1 = 'red';\np1 = [];\np1.push(board.create('point',[sx, sy+b], {size: 5, strokeColor:'none', fillColor: 'none', withLabel: false}));\np1.push(board.create('point',[sx, sy], {size: 5, strokeColor:'none', fillColor:'none', withLabel: false}));\np1.push(board.create('point',[sx+a, sy], {size: 5, strokeColor:'none', fillColor:'none', withLabel: false}));\npol1 = board.create('polygon', p1, {hasInnerPoints: true, fillColor:col1});\ng1 = board.create('group', p1)\ng1.setRotationCenter('centroid')\ng1.setRotationPoints([p1[0], p1[1], p1[2]]);\n\nboard.create('segment',[p1[0],p1[1]],{strokeWidth:0, withLabel: true, name:'b', label:{offset:[10, b/2]}});\nboard.create('segment',[p1[1],p1[2]],{strokeWidth:0, withLabel: true, name:'a', label:{offset:[a/2, 10]}});\nboard.create('segment',[p1[2],p1[0]],{strokeWidth:0, withLabel: true, name:'c', label:{offset:[a/2-10, b/2-10]}});\n\nvar p2, col2, pol2, g2;\ncol2 = 'green';\np2 = [];\np2.push(board.create('point',[sx+a+1, sy], {size: 5, strokeColor:'none', fillColor: 'none', withLabel: false}));\np2.push(board.create('point',[sx+a+1+b, sy], {size: 5, strokeColor:'none', fillColor:'none', withLabel: false}));\np2.push(board.create('point',[sx+a+1+b, sy+a], {size: 5, strokeColor:'none', fillColor:'none', withLabel: false}));\npol2 = board.create('polygon', p2, {hasInnerPoints: true, fillColor:col2});\ng2 = board.create('group', p2)\ng2.setRotationCenter('centroid')\ng2.setRotationPoints([p2[0], p2[1], p2[2]]);\n\nvar p3, col3, pol3, g3;\ncol3 = 'blue';\np3 = [];\np3.push(board.create('point',[sx+a+1+b, sy+a+1], {size: 5, strokeColor:'none', fillColor: 'none', withLabel: false}));\np3.push(board.create('point',[sx+a+1+b, sy+a+1+b], {size: 5, strokeColor:'none', fillColor:'none', withLabel: false}));\np3.push(board.create('point',[sx+1+b, sy+a+1+b], {size: 5, strokeColor:'none', fillColor:'none', withLabel: false}));\npol3 = board.create('polygon', p3, {hasInnerPoints: true, fillColor:col3});\ng3 = board.create('group', p3)\ng3.setRotationCenter('centroid')\ng3.setRotationPoints([p3[0], p3[1], p3[3]]);\n\nvar p4, col4, pol4, g4;\ncol4 = 'yellow';\np4 = [];\np4.push(board.create('point',[sx+b, sy+b+1+a], {size: 5, strokeColor:'none', fillColor: 'none', withLabel: false}));\np4.push(board.create('point',[sx, sy+b+1+a], {size: 5, strokeColor:'none', fillColor:'none', withLabel: false}));\np4.push(board.create('point',[sx, sy+b+1], {size: 5, strokeColor:'none', fillColor:'none', withLabel: false}));\npol4 = board.create('polygon', p4, {hasInnerPoints: true, fillColor:col4});\ng4 = board.create('group', p4)\ng4.setRotationCenter('centroid')\ng4.setRotationPoints([p4[0], p4[1], p4[4]]);",
       "layout": "IPY_MODEL_c32705b290ba439c96df794eb254a1d7"
      }
     },
     "63fb364002594466b95ad500d78ce4e0": {
      "model_module": "@jupyter-widgets/base",
      "model_module_version": "2.0.0",
      "model_name": "LayoutModel",
      "state": {}
     },
     "6e91fffb69b4419a85b82913cf14a508": {
      "model_module": "jupyter-divewidgets",
      "model_module_version": "^0.1.5",
      "model_name": "JSWidgetModel",
      "state": {
       "_model_module_version": "^0.1.5",
       "_view_module_version": "^0.1.5",
       "html": "<!DOCTYPE html>\n<html>\n    <head>\n    <style>\n    html, body {\n        height: 100%;\n    }\n    body {\n        width: 100%;\n        display: flex;\n        padding: 0;\n        margin: 0;\n    }\n    .jxgbox {\n        width:100%; \n        flex-grow: 1;\n    }\n    </style>\n    <link rel=\"stylesheet\" type=\"text/css\" href=\"https://jsxgraph.org/distrib/jsxgraph.css\" />\n    <script type=\"text/javascript\" src=\"https://cdn.jsdelivr.net/npm/jsxgraph/distrib/jsxgraphcore.js\"></script>\n    <script type=\"text/javascript\" src=\"https://cdn.jsdelivr.net/npm/mathjax@3/es5/tex-chtml.js\"></script>\n    </head>\n<body>\n<div id=\"box\" class=\"jxgbox\"></div>\n</body>\n</html>",
       "js": "JXG.Options.text.useMathJax = true;\nvar board = JXG.JSXGraph.initBoard('box', {boundingbox: [-1, 13, 15, -3], axis:true, showCopyright:false});\nvar a = board.create('slider', [[1, -1], [5,-1], [2, 6, 7]], {name:'a', snapWidth: 0.1});\nvar b = board.create('slider', [[8, -1], [12,-1], [2, 3, 7]], {name:'b', snapWidth: 0.1});\nvar m = board.create('slider', [[1, -2], [12,-2], [0, 0, 2]], {name:'move', snapWidth: 0.1, withLabel:false});\nboard.create('text',[1+m.point2.X(),m.point2.Y(),\"move\"],{fixed: true, anchorX: 'middle'});\nvar s = board.create('point', [1,1],{face:\"\", withLabel:false});\nvar right_ab = board.create('transform', [()=>a.Value()+b.Value(),0], {type:'translate'});\nvar right_a = board.create('transform', [()=>a.Value(),0], {type:'translate'});\nvar right_b = board.create('transform', [()=>b.Value(),0], {type:'translate'});\nvar left_a = board.create('transform', [()=> -a.Value(),0], {type:'translate'});\nvar left_b = board.create('transform', [()=> -b.Value(),0], {type:'translate'});\nvar up_ab = board.create('transform', [0,()=>a.Value()+b.Value()], {type:'translate'});\nvar up_a = board.create('transform', [0,()=>a.Value()], {type:'translate'});\nvar up_b = board.create('transform', [0,()=>b.Value()], {type:'translate'});\nvar down_a = board.create('transform', [0,()=> -a.Value()], {type:'translate'});\nvar down_b = board.create('transform', [0,()=> -b.Value()], {type:'translate'});\nvar no_move = board.create('transform', [0,0], {type:'translate'});\n\n\nvar r2 = board.create('point', [s,right_ab], {visible: false});\nvar po0 =  board.create('regularpolygon',[s,r2,4], \n                        {withLines: true, fillColor:'none', highlightFillColor:'none',\n                         vertices:{face:'', withLabel: false},\n                         borders: {strokeWidth:1, strokeColor:'black'}});\n\nvar tri1 = [];\ntri1[0] = board.create('point', [s, up_b], {visible: false});\ntri1[1] = board.create('point', [tri1[0], down_b], {visible: false});\ntri1[2] = board.create('point', [tri1[0], [down_b,right_a]], {visible: false});\nvar po1 = board.create('polygon',[tri1[0],tri1[1],tri1[2]], \n                        {withLines: true, fillColor:'red', highlightFillColor:'none',\n                         vertices:{face:'', withLabel: false},\n                         borders: {strokeWidth:1, strokeColor:'black'}});\n\nboard.create('segment',[tri1[0],tri1[1]],{strokeWidth:0, withLabel: true, name:'b', label:{offset:[-10, b.Value()/2]}});\nboard.create('segment',[tri1[1],tri1[2]],{strokeWidth:0, withLabel: true, name:'a', label:{offset:[a.Value()/2, -10]}});\nboard.create('segment',[tri1[2],tri1[0]],{strokeWidth:0, withLabel: true, name:'c', label:{offset:[a.Value()/2-10, b.Value()/2-10]}});\n\nvar move_tri2 = board.create('transform', [()=>a.Value(), 0], {type:'translate'});\nvar tri2 = [];\ntri2[0] = board.create('point', [s, move_tri2], {visible: false});\ntri2[1] = board.create('point', [tri2[0], right_b], {visible: false});\ntri2[2] = board.create('point', [tri2[0], [right_b,up_a]], {visible: false});\nvar po2 = board.create('polygon',[tri2[0],tri2[1],tri2[2]], \n                        {withLines: true, fillColor:'green', highlightFillColor:'none',\n                         vertices:{face:'', withLabel: false},\n                         borders: {strokeWidth:1, strokeColor:'black'}});\n\n//anchor of tri3 should be changed\n/*\nvar move_tri3 = board.create('transform', [()=>a.Value()+b.Value(), ()=>a.Value()], {type:'translate'});\nvar tri3 = [];\ntri3[0] = board.create('point', [s, move_tri3], {visible: false});\ntri3[1] = board.create('point', [tri3[0], up_b], {visible: false});\ntri3[2] = board.create('point', [tri3[0], [up_b,left_a]], {visible: false});\nvar po3 = board.create('polygon',[tri3[0],tri3[1],tri3[2]], \n                        {withLines: true, fillColor:'blue', highlightFillColor:'none',\n                         vertices:{face:'', withLabel: false},\n                         borders: {strokeWidth:1, strokeColor:'black'}});\n*/\n\nvar move_tri3_2 = board.create('transform', [()=>b.Value(), ()=>a.Value()+b.Value()], {type:'translate'});\nvar tri3_2 = [];\ntri3_2[0] = board.create('point', [s, move_tri3_2], {visible: false});\ntri3_2[1] = board.create('point', [tri3_2[0], right_a], {visible: false});\ntri3_2[2] = board.create('point', [tri3_2[0], [right_a, down_b]], {visible: false});\nvar po3 = board.create('polygon',[tri3_2[0],tri3_2[1],tri3_2[2]], \n                        {withLines: true, fillColor:'blue', highlightFillColor:'none',\n                         vertices:{face:'', withLabel: false},\n                         borders: {strokeWidth:1, strokeColor:'black'}});\n\nvar move_tri4 = board.create('transform', [()=>b.Value(), ()=>a.Value()+b.Value()], {type:'translate'});\nvar tri4 = [];\ntri4[0] = board.create('point', [s, move_tri4], {visible: false});\ntri4[1] = board.create('point', [tri4[0], left_b], {visible: false});\ntri4[2] = board.create('point', [tri4[0], [left_b,down_a]], {visible: false});\nvar po4 = board.create('polygon',[tri4[0],tri4[1],tri4[2]], \n                        {withLines: true, fillColor:'yellow', highlightFillColor:'none',\n                         vertices:{face:'', withLabel: false},\n                         borders: {strokeWidth:1, strokeColor:'black'}});\n\nvar rot_tri2 = board.create('transform', [function(){return m.Value()*Math.PI/4;}, tri2[0]], {type:'rotate'});\nrot_tri2.bindTo([tri2[1],tri2[2]]);\n\nvar rot_tri3 = board.create('transform', [function(){return - m.Value()*Math.PI/4;}, tri3_2[0]], {type:'rotate'});\nrot_tri3.bindTo([tri3_2[1],tri3_2[2]]);\n\nboard.create('segment',[tri2[1], board.create('point', [tri2[1], right_b], {visible: false})],{visible:()=>(m.Value()>=1.99),strokeWidth:1, dash:2});\n\n\nboard.create('text',[()=>s.X()+a.Value()*1/2+b.Value(),()=>s.Y()+b.Value()+1/2*a.Value(),function(){\n        return '\\\\[ a^2 \\\\]';\n    }],{visible: ()=> {return (m.Value()>=1.99);}, anchorX: 'middle', anchorY: 'auto'});\n\nboard.create('text',[()=>s.X()+a.Value()+1/2*b.Value(),()=>s.Y()+1/2*b.Value(),function(){\n    return '\\\\[b^2\\\\]';\n    }],{visible: ()=> {return (m.Value()>=1.99);}, anchorX: 'middle', anchorY: 'auto'});\n\nboard.create('text',[()=>s.X()+1/2*(a.Value()+b.Value()),()=>s.Y()+1/2*(a.Value()+b.Value()),function(){\n    return '\\\\[c^2\\\\]';\n    }],{visible: ()=> {return (m.Value()<0.4);}, anchorX: 'middle', anchorY: 'auto'});",
       "layout": "IPY_MODEL_82b336ae175a4205b6269216d85cb92c"
      }
     },
     "82b336ae175a4205b6269216d85cb92c": {
      "model_module": "@jupyter-widgets/base",
      "model_module_version": "2.0.0",
      "model_name": "LayoutModel",
      "state": {}
     },
     "a99cbe8767624a56b0cf86671b660a6c": {
      "model_module": "jupyter-divewidgets",
      "model_module_version": "^0.1.5",
      "model_name": "JSWidgetModel",
      "state": {
       "_model_module_version": "^0.1.5",
       "_view_module_version": "^0.1.5",
       "html": "<!DOCTYPE html>\n<html>\n    <head>\n    <style>\n    html, body {\n        height: 100%;\n    }\n    body {\n        width: 100%;\n        display: flex;\n        padding: 0;\n        margin: 0;\n    }\n    .jxgbox {\n        width:100%; \n        flex-grow: 1;\n    }\n    </style>\n    <link rel=\"stylesheet\" type=\"text/css\" href=\"https://jsxgraph.org/distrib/jsxgraph.css\" />\n    <script type=\"text/javascript\" src=\"https://cdn.jsdelivr.net/npm/jsxgraph/distrib/jsxgraphcore.js\"></script>\n    <script type=\"text/javascript\" src=\"https://cdn.jsdelivr.net/npm/mathjax@3/es5/tex-chtml.js\"></script>\n    </head>\n<body>\n<div id=\"box\" class=\"jxgbox\"></div>\n</body>\n</html>",
       "js": "JXG.Options.text.useMathJax = true;\nvar board = JXG.JSXGraph.initBoard('box', {boundingbox: [-1, 17, 17, -3], axis:true, grid:true, showCopyright:false});\nvar a = board.create('slider', [[1, -1], [5,-1], [2, 4, 7]], {name:'a', snapWidth: 0.1});\nvar b = board.create('slider', [[8, -1], [12,-1], [2, 3, 7]], {name:'b', snapWidth: 0.1});\n\nvar s = board.create('point', [6,6],{face:\"\", withLabel:false});\nvar right_ab = board.create('transform', [()=>a.Value()+b.Value(),0], {type:'translate'});\nvar right_a = board.create('transform', [()=>a.Value(),0], {type:'translate'});\nvar right_b = board.create('transform', [()=>b.Value(),0], {type:'translate'});\nvar left_a = board.create('transform', [()=> -a.Value(),0], {type:'translate'});\nvar left_b = board.create('transform', [()=> -b.Value(),0], {type:'translate'});\nvar up_ab = board.create('transform', [0,()=>a.Value()+b.Value()], {type:'translate'});\nvar up_a = board.create('transform', [0,()=>a.Value()], {type:'translate'});\nvar up_b = board.create('transform', [0,()=>b.Value()], {type:'translate'});\nvar down_a = board.create('transform', [0,()=> -a.Value()], {type:'translate'});\nvar down_b = board.create('transform', [0,()=> -b.Value()], {type:'translate'});\nvar no_move = board.create('transform', [0,0], {type:'translate'});\n\n\nvar tri1 = [];\ntri1[0] = board.create('point', [s, up_b], {visible: true, size:2, name:'A', label:{offset:[-10,10]}});\ntri1[1] = board.create('point', [tri1[0], down_b], {visible: true, size:2, name:'C', label:{offset:[-10,-10]}});\ntri1[2] = board.create('point', [tri1[0], [down_b,right_a]], {visible: true, size:2, name:'B', label:{offset:[10,0]}});\nvar po1 = board.create('polygon',[tri1[0], tri1[1],tri1[2]], \n                        {withLines: true, fillColor:'none', highlightFillColor:'none',\n                         vertices:{face:'', withLabel: false},\n                         borders: {strokeWidth:1, strokeColor:'black'}});\n\nboard.create('segment',[tri1[0],tri1[1]],{strokeWidth:0, withLabel: true, name:'b', label:{offset:[-10, b.Value()/2]}});\nboard.create('segment',[tri1[1],tri1[2]],{strokeWidth:0, withLabel: true, name:'a', label:{offset:[a.Value()/2, -10]}});\nboard.create('segment',[tri1[2],tri1[0]],{strokeWidth:0, withLabel: true, name:'c', label:{offset:[a.Value()/2-10, b.Value()/2-10]}});\n\n\nvar po_a = board.create('regularpolygon',[tri1[1],tri1[0],4], \n                        {withLines: true, fillColor:'red', highlightFillColor:'none',\n                         vertices:{face:'', withLabel: false},\n                         borders: {strokeWidth:1, strokeColor:'black'}});\n\nvar po_b = board.create('regularpolygon',[tri1[2],tri1[1],4], \n                        {withLines: true, fillColor:'green', highlightFillColor:'none',\n                         vertices:{face:'', withLabel: false},\n                         borders: {strokeWidth:1, strokeColor:'black'}});\n\nvar po_c = board.create('regularpolygon',[tri1[0],tri1[2],4], \n                        {withLines: true, fillColor:'yellow', highlightFillColor:'none',\n                         vertices:{face:'', withLabel: false},\n                         borders: {strokeWidth:1, strokeColor:'black'}});\n\n\nboard.create('text',[()=>s.X()+a.Value()/2,()=>s.Y()-a.Value()/2,function(){\n        return (po_b.Area()).toFixed(2);\n    }],{anchorX: 'middle', anchorY: 'auto'});\n\nboard.create('text',[()=>s.X()-b.Value()/2,()=>s.Y()+b.Value()/2,function(){\n        return (po_a.Area()).toFixed(2);\n    }],{anchorX: 'middle', anchorY: 'auto'});\n    \nboard.create('text',[()=>s.X()+a.Value(),()=>s.Y()+b.Value(),function(){\n        return (po_c.Area()).toFixed(2);\n    }],{anchorX: 'middle', anchorY: 'auto'});",
       "layout": "IPY_MODEL_4ce7f625dc67440eade0281d20c885f6"
      }
     },
     "a9becfd9ba104f02b958d22db224c1cd": {
      "model_module": "jupyter-divewidgets",
      "model_module_version": "^0.1.5",
      "model_name": "JSWidgetModel",
      "state": {
       "_model_module_version": "^0.1.5",
       "_view_module_version": "^0.1.5",
       "html": "<!DOCTYPE html>\n<html>\n    <head>\n    <style>\n    html, body {\n        height: 100%;\n    }\n    body {\n        width: 100%;\n        display: flex;\n        padding: 0;\n        margin: 0;\n    }\n    .jxgbox {\n        width:100%; \n        flex-grow: 1;\n    }\n    </style>\n    <link rel=\"stylesheet\" type=\"text/css\" href=\"https://jsxgraph.org/distrib/jsxgraph.css\" />\n    <script type=\"text/javascript\" src=\"https://cdn.jsdelivr.net/npm/jsxgraph/distrib/jsxgraphcore.js\"></script>\n    <script type=\"text/javascript\" src=\"https://cdn.jsdelivr.net/npm/mathjax@3/es5/tex-chtml.js\"></script>\n    </head>\n<body>\n<div id=\"box\" class=\"jxgbox\"></div>\n</body>\n</html>",
       "js": "JXG.Options.text.useMathJax = true;\nvar board = JXG.JSXGraph.initBoard('box', {boundingbox: [-1, 18, 17, -3], axis:true, grid:true, showCopyright:false});\nvar a = board.create('slider', [[1, -1], [5,-1], [2, 4, 7]], {name:'a', snapWidth: 0.1});\nvar b = board.create('slider', [[8, -1], [12,-1], [2, 3, 7]], {name:'b', snapWidth: 0.1});\n\nvar s = board.create('point', [6,6],{face:\"\", withLabel:false});\nvar right_ab = board.create('transform', [()=>a.Value()+b.Value(),0], {type:'translate'});\nvar right_a = board.create('transform', [()=>a.Value(),0], {type:'translate'});\nvar right_b = board.create('transform', [()=>b.Value(),0], {type:'translate'});\nvar left_a = board.create('transform', [()=> -a.Value(),0], {type:'translate'});\nvar left_b = board.create('transform', [()=> -b.Value(),0], {type:'translate'});\nvar up_ab = board.create('transform', [0,()=>a.Value()+b.Value()], {type:'translate'});\nvar up_a = board.create('transform', [0,()=>a.Value()], {type:'translate'});\nvar up_b = board.create('transform', [0,()=>b.Value()], {type:'translate'});\nvar down_a = board.create('transform', [0,()=> -a.Value()], {type:'translate'});\nvar down_b = board.create('transform', [0,()=> -b.Value()], {type:'translate'});\nvar no_move = board.create('transform', [0,0], {type:'translate'});\n\n\nvar tri1 = [];\ntri1[0] = board.create('point', [s, up_b], {visible: true, size:2, name:'A', label:{offset:[-10,10]}});\ntri1[1] = board.create('point', [tri1[0], down_b], {visible: true, size:2, name:'C', label:{offset:[-10,-10]}});\ntri1[2] = board.create('point', [tri1[0], [down_b,right_a]], {visible: true, size:2, name:'B', label:{offset:[10,0]}});\nvar po1 = board.create('polygon',[tri1[0], tri1[1],tri1[2]], \n                        {withLines: true, fillColor:'none', highlightFillColor:'none',\n                         vertices:{face:'', withLabel: false},\n                         borders: {strokeWidth:1, strokeColor:'black'}});\n\nboard.create('segment',[tri1[0],tri1[1]],{strokeWidth:0, withLabel: true, name:'b', label:{offset:[-10, b.Value()/2]}});\nboard.create('segment',[tri1[1],tri1[2]],{strokeWidth:0, withLabel: true, name:'a', label:{offset:[a.Value()/2, -10]}});\nboard.create('segment',[tri1[2],tri1[0]],{strokeWidth:0, withLabel: true, name:'c', label:{offset:[a.Value()/2-10, b.Value()/2-10]}});\n\n\nvar po_a = board.create('regularpolygon',[tri1[1],tri1[0],4], \n                        {withLines: true, fillColor:'red', highlightFillColor:'none',\n                         vertices:{face:'', withLabel: false},\n                         borders: {strokeWidth:1, strokeColor:'black'}});\n\nvar po_b = board.create('regularpolygon',[tri1[2],tri1[1],4], \n                        {withLines: true, fillColor:'green', highlightFillColor:'none',\n                         vertices:{face:'', withLabel: false},\n                         borders: {strokeWidth:1, strokeColor:'black'}});\n\nvar po_c = board.create('regularpolygon',[tri1[0],tri1[2],4], \n                        {withLines: true, fillColor:'yellow', highlightFillColor:'none',\n                         vertices:{face:'', withLabel: false},\n                         borders: {strokeWidth:1, strokeColor:'black'}});\n\n\nboard.create('text',[()=>s.X()+a.Value()/2,()=>s.Y()-a.Value()/2,function(){\n        return (po_b.Area()).toFixed(2);\n    }],{anchorX: 'middle', anchorY: 'auto'});\n\nboard.create('text',[()=>s.X()-b.Value()/2,()=>s.Y()+b.Value()/2,function(){\n        return (po_a.Area()).toFixed(2);\n    }],{anchorX: 'middle', anchorY: 'auto'});\n    \nboard.create('text',[()=>s.X()+a.Value(),()=>s.Y()+b.Value(),function(){\n        return (po_c.Area()).toFixed(2);\n    }],{anchorX: 'middle', anchorY: 'auto'});",
       "layout": "IPY_MODEL_fa96d2624caa4d40a268c805afae65a1"
      }
     },
     "b217e17f1ee84f16a3c65bfb0e9390ad": {
      "model_module": "jupyter-divewidgets",
      "model_module_version": "^0.1.5",
      "model_name": "JSWidgetModel",
      "state": {
       "_model_module_version": "^0.1.5",
       "_view_module_version": "^0.1.5",
       "html": "<!DOCTYPE html>\n<html>\n    <head>\n    <style>\n    html, body {\n        height: 100%;\n    }\n    body {\n        width: 100%;\n        display: flex;\n        padding: 0;\n        margin: 0;\n    }\n    .jxgbox {\n        width:100%; \n        flex-grow: 1;\n    }\n    </style>\n    <link rel=\"stylesheet\" type=\"text/css\" href=\"https://jsxgraph.org/distrib/jsxgraph.css\" />\n    <script type=\"text/javascript\" src=\"https://cdn.jsdelivr.net/npm/jsxgraph/distrib/jsxgraphcore.js\"></script>\n    <script type=\"text/javascript\" src=\"https://cdn.jsdelivr.net/npm/mathjax@3/es5/tex-chtml.js\"></script>\n    </head>\n<body>\n<div id=\"box\" class=\"jxgbox\"></div>\n</body>\n</html>",
       "js": "JXG.Options.text.useMathJax = true;\nvar board = JXG.JSXGraph.initBoard('box', {boundingbox: [-1, 17, 18, -3], axis:true, grid:true, showCopyright:false});\nvar a = board.create('slider', [[1, -1], [5,-1], [2, 4, 7]], {name:'a', snapWidth: 0.1});\nvar b = board.create('slider', [[8, -1], [12,-1], [2, 3, 7]], {name:'b', snapWidth: 0.1});\n\nvar s = board.create('point', [6,6],{face:\"\", withLabel:false});\nvar right_ab = board.create('transform', [()=>a.Value()+b.Value(),0], {type:'translate'});\nvar right_a = board.create('transform', [()=>a.Value(),0], {type:'translate'});\nvar right_b = board.create('transform', [()=>b.Value(),0], {type:'translate'});\nvar left_a = board.create('transform', [()=> -a.Value(),0], {type:'translate'});\nvar left_b = board.create('transform', [()=> -b.Value(),0], {type:'translate'});\nvar up_ab = board.create('transform', [0,()=>a.Value()+b.Value()], {type:'translate'});\nvar up_a = board.create('transform', [0,()=>a.Value()], {type:'translate'});\nvar up_b = board.create('transform', [0,()=>b.Value()], {type:'translate'});\nvar down_a = board.create('transform', [0,()=> -a.Value()], {type:'translate'});\nvar down_b = board.create('transform', [0,()=> -b.Value()], {type:'translate'});\nvar no_move = board.create('transform', [0,0], {type:'translate'});\n\n\nvar tri1 = [];\ntri1[0] = board.create('point', [s, up_b], {visible: true, size:2, name:'A', label:{offset:[-10,10]}});\ntri1[1] = board.create('point', [tri1[0], down_b], {visible: true, size:2, name:'C', label:{offset:[-10,-10]}});\ntri1[2] = board.create('point', [tri1[0], [down_b,right_a]], {visible: true, size:2, name:'B', label:{offset:[10,0]}});\nvar po1 = board.create('polygon',[tri1[0], tri1[1],tri1[2]], \n                        {withLines: true, fillColor:'none', highlightFillColor:'none',\n                         vertices:{face:'', withLabel: false},\n                         borders: {strokeWidth:1, strokeColor:'black'}});\n\nboard.create('segment',[tri1[0],tri1[1]],{strokeWidth:0, withLabel: true, name:'b', label:{offset:[-10, b.Value()/2]}});\nboard.create('segment',[tri1[1],tri1[2]],{strokeWidth:0, withLabel: true, name:'a', label:{offset:[a.Value()/2, -10]}});\nboard.create('segment',[tri1[2],tri1[0]],{strokeWidth:0, withLabel: true, name:'c', label:{offset:[a.Value()/2-10, b.Value()/2-10]}});\n\n\nvar po_a = board.create('regularpolygon',[tri1[1],tri1[0],4], \n                        {withLines: true, fillColor:'red', highlightFillColor:'none',\n                         vertices:{face:'', withLabel: false},\n                         borders: {strokeWidth:1, strokeColor:'black'}});\n\nvar po_b = board.create('regularpolygon',[tri1[2],tri1[1],4], \n                        {withLines: true, fillColor:'green', highlightFillColor:'none',\n                         vertices:{face:'', withLabel: false},\n                         borders: {strokeWidth:1, strokeColor:'black'}});\n\nvar po_c = board.create('regularpolygon',[tri1[0],tri1[2],4], \n                        {withLines: true, fillColor:'yellow', highlightFillColor:'none',\n                         vertices:{face:'', withLabel: false},\n                         borders: {strokeWidth:1, strokeColor:'black'}});\n\n\nboard.create('text',[()=>s.X()+a.Value()/2,()=>s.Y()-a.Value()/2,function(){\n        return (po_b.Area()).toFixed(2);\n    }],{anchorX: 'middle', anchorY: 'auto'});\n\nboard.create('text',[()=>s.X()-b.Value()/2,()=>s.Y()+b.Value()/2,function(){\n        return (po_a.Area()).toFixed(2);\n    }],{anchorX: 'middle', anchorY: 'auto'});\n    \nboard.create('text',[()=>s.X()+a.Value(),()=>s.Y()+b.Value(),function(){\n        return (po_c.Area()).toFixed(2);\n    }],{anchorX: 'middle', anchorY: 'auto'});",
       "layout": "IPY_MODEL_465fc8d4d9f14c16aea8b5fbd345b726"
      }
     },
     "bbd3b761f8c54cdc847805d5ac82813b": {
      "model_module": "jupyter-divewidgets",
      "model_module_version": "^0.1.5",
      "model_name": "JSWidgetModel",
      "state": {
       "_model_module_version": "^0.1.5",
       "_view_module_version": "^0.1.5",
       "html": "<!DOCTYPE html>\n<html>\n    <head>\n    <style>\n    html, body {\n        height: 100%;\n    }\n    body {\n        width: 100%;\n        display: flex;\n        padding: 0;\n        margin: 0;\n    }\n    .jxgbox {\n        width:100%; \n        flex-grow: 1;\n    }\n    </style>\n    <link rel=\"stylesheet\" type=\"text/css\" href=\"https://jsxgraph.org/distrib/jsxgraph.css\" />\n    <script type=\"text/javascript\" src=\"https://cdn.jsdelivr.net/npm/jsxgraph/distrib/jsxgraphcore.js\"></script>\n    <script type=\"text/javascript\" src=\"https://cdn.jsdelivr.net/npm/mathjax@3/es5/tex-chtml.js\"></script>\n    </head>\n<body>\n<div id=\"box\" class=\"jxgbox\"></div>\n</body>\n</html>",
       "js": "JXG.Options.text.useMathJax = true;\nvar board = JXG.JSXGraph.initBoard('box', {boundingbox: [-1, 18, 18, -3], axis:true, grid:true, showCopyright:false});\nvar a = board.create('slider', [[1, -1], [5,-1], [2, 4, 7]], {name:'a', snapWidth: 0.1});\nvar b = board.create('slider', [[8, -1], [12,-1], [2, 3, 7]], {name:'b', snapWidth: 0.1});\n\nvar s = board.create('point', [6,6],{face:\"\", withLabel:false});\nvar right_ab = board.create('transform', [()=>a.Value()+b.Value(),0], {type:'translate'});\nvar right_a = board.create('transform', [()=>a.Value(),0], {type:'translate'});\nvar right_b = board.create('transform', [()=>b.Value(),0], {type:'translate'});\nvar left_a = board.create('transform', [()=> -a.Value(),0], {type:'translate'});\nvar left_b = board.create('transform', [()=> -b.Value(),0], {type:'translate'});\nvar up_ab = board.create('transform', [0,()=>a.Value()+b.Value()], {type:'translate'});\nvar up_a = board.create('transform', [0,()=>a.Value()], {type:'translate'});\nvar up_b = board.create('transform', [0,()=>b.Value()], {type:'translate'});\nvar down_a = board.create('transform', [0,()=> -a.Value()], {type:'translate'});\nvar down_b = board.create('transform', [0,()=> -b.Value()], {type:'translate'});\nvar no_move = board.create('transform', [0,0], {type:'translate'});\n\n\nvar tri1 = [];\ntri1[0] = board.create('point', [s, up_b], {visible: true, size:2, name:'A', label:{offset:[-10,10]}});\ntri1[1] = board.create('point', [tri1[0], down_b], {visible: true, size:2, name:'C', label:{offset:[-10,-10]}});\ntri1[2] = board.create('point', [tri1[0], [down_b,right_a]], {visible: true, size:2, name:'B', label:{offset:[10,0]}});\nvar po1 = board.create('polygon',[tri1[0], tri1[1],tri1[2]], \n                        {withLines: true, fillColor:'none', highlightFillColor:'none',\n                         vertices:{face:'', withLabel: false},\n                         borders: {strokeWidth:1, strokeColor:'black'}});\n\nboard.create('segment',[tri1[0],tri1[1]],{strokeWidth:0, withLabel: true, name:'b', label:{offset:[-10, b.Value()/2]}});\nboard.create('segment',[tri1[1],tri1[2]],{strokeWidth:0, withLabel: true, name:'a', label:{offset:[a.Value()/2, -10]}});\nboard.create('segment',[tri1[2],tri1[0]],{strokeWidth:0, withLabel: true, name:'c', label:{offset:[a.Value()/2-10, b.Value()/2-10]}});\n\n\nvar po_a = board.create('regularpolygon',[tri1[1],tri1[0],4], \n                        {withLines: true, fillColor:'red', highlightFillColor:'none',\n                         vertices:{face:'', withLabel: false},\n                         borders: {strokeWidth:1, strokeColor:'black'}});\n\nvar po_b = board.create('regularpolygon',[tri1[2],tri1[1],4], \n                        {withLines: true, fillColor:'green', highlightFillColor:'none',\n                         vertices:{face:'', withLabel: false},\n                         borders: {strokeWidth:1, strokeColor:'black'}});\n\nvar po_c = board.create('regularpolygon',[tri1[0],tri1[2],4], \n                        {withLines: true, fillColor:'yellow', highlightFillColor:'none',\n                         vertices:{face:'', withLabel: false},\n                         borders: {strokeWidth:1, strokeColor:'black'}});\n\n\nboard.create('text',[()=>s.X()+a.Value()/2,()=>s.Y()-a.Value()/2,function(){\n        return (po_b.Area()).toFixed(2);\n    }],{anchorX: 'middle', anchorY: 'auto'});\n\nboard.create('text',[()=>s.X()-b.Value()/2,()=>s.Y()+b.Value()/2,function(){\n        return (po_a.Area()).toFixed(2);\n    }],{anchorX: 'middle', anchorY: 'auto'});\n    \nboard.create('text',[()=>s.X()+a.Value(),()=>s.Y()+b.Value(),function(){\n        return (po_c.Area()).toFixed(2);\n    }],{anchorX: 'middle', anchorY: 'auto'});",
       "layout": "IPY_MODEL_d625956792c140e2bdfa07212182fbb9"
      }
     },
     "c32705b290ba439c96df794eb254a1d7": {
      "model_module": "@jupyter-widgets/base",
      "model_module_version": "2.0.0",
      "model_name": "LayoutModel",
      "state": {}
     },
     "c882d59cb81e4aa78b35c75dc06698c4": {
      "model_module": "@jupyter-widgets/base",
      "model_module_version": "2.0.0",
      "model_name": "LayoutModel",
      "state": {}
     },
     "d625956792c140e2bdfa07212182fbb9": {
      "model_module": "@jupyter-widgets/base",
      "model_module_version": "2.0.0",
      "model_name": "LayoutModel",
      "state": {}
     },
     "fa96d2624caa4d40a268c805afae65a1": {
      "model_module": "@jupyter-widgets/base",
      "model_module_version": "2.0.0",
      "model_name": "LayoutModel",
      "state": {}
     }
    },
    "version_major": 2,
    "version_minor": 0
   }
  }
 },
 "nbformat": 4,
 "nbformat_minor": 5
}
