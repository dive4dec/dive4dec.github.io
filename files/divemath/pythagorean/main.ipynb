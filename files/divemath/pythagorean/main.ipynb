{
  "cells": [
    {
      "cell_type": "markdown",
      "metadata": {},
      "source": [
        "# Pythagorean Theorem"
      ]
    },
    {
      "cell_type": "markdown",
      "metadata": {},
      "source": [
        "**DIVE into Math**\n",
        "\n",
        "---"
      ]
    },
    {
      "cell_type": "code",
      "execution_count": 1,
      "metadata": {
        "trusted": true
      },
      "outputs": [],
      "source": [
        "%reload_ext divewidgets\n",
        "import sys\n",
        "if sys.path[0]!='.':\n",
        "    sys.path.insert(0,'.')\n",
        "from __init__ import *"
      ]
    },
    {
      "cell_type": "markdown",
      "metadata": {
        "tags": []
      },
      "source": [
        "## Background Information"
      ]
    },
    {
      "cell_type": "markdown",
      "metadata": {
        "tags": []
      },
      "source": [
        "### Subject"
      ]
    },
    {
      "cell_type": "markdown",
      "metadata": {
        "jp-MarkdownHeadingCollapsed": true,
        "tags": []
      },
      "source": [
        "- Domain: Measures, Shape, and Space in Mathematics\n",
        "- Key Stage 3   \n",
        "- Prerequisite: Manipulation of simple polynomials  "
      ]
    },
    {
      "cell_type": "markdown",
      "metadata": {},
      "source": [
        "### To-do list"
      ]
    },
    {
      "cell_type": "markdown",
      "metadata": {
        "tags": []
      },
      "source": [
        "1. Find 1 partner to work on the notebook together.  \n",
        "1. Complete [Part I: Discovering Pythagorean Theorem](#Part-I:-Discovering-Pythagorean-Theorem).  \n",
        "1. Be prepared to present your conjectures in class.  \n",
        "1. In [Part II: Proof of Pythagorean Theorem](#Part-II:-Proof-of-Pythagorean-Theorem), observe the interactive proofs for the Pythagorean Theorem.\n",
        "1. Follow the reference web sites provided in Part II to find out two other proofs of the Pythagorean Theorem. Write down the proof in your own words.\n",
        "1. Be prepared to present your proofs in class."
      ]
    },
    {
      "cell_type": "markdown",
      "metadata": {
        "tags": []
      },
      "source": [
        "### Acknowledgement"
      ]
    },
    {
      "cell_type": "markdown",
      "metadata": {},
      "source": [
        "The notebook is created based on [Exemplar 11: Pythagoras' Theorem](https://cd1.edb.hkedcity.net/cd/maths/en/ref_res/MATERIAL/it_e/11_ex_e.pdf) of  \n",
        "> Hong Kong Education Bureau, \"Use of Information Technology,\" *Learning and Teaching Packages on S1-5 Mathematics*, vol. 1 ,<https://cd1.edb.hkedcity.net/cd/maths/en/ref_res/MATERIAL/it_e/IT_e%20content.htm>, accessed: 20 July 2022. "
      ]
    },
    {
      "cell_type": "markdown",
      "metadata": {},
      "source": [
        "Contributor(s): \n",
        "\n",
        "- Chao Zhao\n",
        "- Chung Chan"
      ]
    },
    {
      "cell_type": "markdown",
      "metadata": {},
      "source": [
        "## Part I: Discovering Pythagorean Theorem"
      ]
    },
    {
      "cell_type": "markdown",
      "metadata": {},
      "source": [
        "Run the following cell and move the sliders to change the values of $a$ and $b$. "
      ]
    },
    {
      "cell_type": "code",
      "execution_count": 2,
      "metadata": {
        "trusted": true
      },
      "outputs": [
        {
          "data": {
            "application/vnd.jupyter.widget-view+json": {
              "model_id": "af239002323b499f989d6ef5bd9bf325",
              "version_major": 2,
              "version_minor": 0
            },
            "text/plain": [
              "JSXGraph(value=None, code='JXG.Options.text.useMathJax = true;\\nvar board = JXG.JSXGraph.initBoard(\\'jxgbox\\',…"
            ]
          },
          "metadata": {},
          "output_type": "display_data"
        }
      ],
      "source": [
        "discover_jxg"
      ]
    },
    {
      "cell_type": "markdown",
      "metadata": {
        "tags": []
      },
      "source": [
        "#### Exercise: Explore"
      ]
    },
    {
      "cell_type": "markdown",
      "metadata": {},
      "source": [
        "Collect five sets of data for the areas of the three squares.  \n",
        "\n",
        "| Set \t| $a^2$ \t| $b^2$ \t| $c^2$ \t|\n",
        "|-----\t|-------\t|-------\t|-------\t|\n",
        "| 1   \t|       \t|       \t|       \t|\n",
        "| 2   \t|       \t|       \t|       \t|\n",
        "| 3   \t|       \t|       \t|       \t|\n",
        "| 4   \t|       \t|       \t|       \t|\n",
        "| 5   \t|       \t|       \t|       \t|"
      ]
    },
    {
      "cell_type": "markdown",
      "metadata": {},
      "source": [
        "**Solution** \n",
        "\n",
        "Answer depends on the $a$ and $b$ values the students choose.  \n",
        "\n",
        "| Set \t| $a^2$ \t| $b^2$ \t| $c^2$ \t|\n",
        "|-----\t|-------\t|-------\t|-------\t|\n",
        "| 1   \t| 16     \t| 9     \t| 25     \t|\n",
        "| 2   \t| 9      \t| 7.84   \t| 16.84 \t|\n",
        "| 3   \t| 8.41  \t| 9      \t| 17.41  \t|\n",
        "| 4   \t| 34.81  \t| 26.01  \t| 60.82  \t|\n",
        "| 5   \t| 25     \t| 16    \t| 41     \t|"
      ]
    },
    {
      "cell_type": "markdown",
      "metadata": {
        "tags": []
      },
      "source": [
        "#### Exercise: Conjecture"
      ]
    },
    {
      "cell_type": "markdown",
      "metadata": {},
      "source": [
        "Make a guess about the relation between the areas of the three squares. Write down your conjecture below. You may discuss with your partner."
      ]
    },
    {
      "cell_type": "markdown",
      "metadata": {},
      "source": [
        "---\n",
        "\n",
        "**Theorem** (Pythagorean Theorem)  \n",
        ":label: thm:pythagorean\n",
        "\n",
        "Given a right-angled triangle, the length $c$ of the hypotenuse satisfies\n",
        "\n",
        "$$\n",
        "\\begin{align}\n",
        "c^2 &= \\color{red}{\\text{your conjecture here}}\n",
        "\\end{align}\n",
        "$$ (eq:pythagorean)\n",
        "\n",
        "where $a$ and $b$ are the lengths of the other sides of the triangle.\n",
        "\n",
        "---"
      ]
    },
    {
      "cell_type": "markdown",
      "metadata": {},
      "source": [
        "**Solution**\n",
        "\n",
        "$$c^2 = a^2 + b^2$$"
      ]
    },
    {
      "cell_type": "markdown",
      "metadata": {},
      "source": [
        "## Part II: Proof of Pythagorean Theorem"
      ]
    },
    {
      "cell_type": "markdown",
      "metadata": {},
      "source": [
        "The followings are two graphical proof of the Pythagorean theorem. Run the cell and drag the `move` slider to understand the proof."
      ]
    },
    {
      "cell_type": "code",
      "execution_count": 3,
      "metadata": {
        "trusted": true
      },
      "outputs": [
        {
          "data": {
            "application/vnd.jupyter.widget-view+json": {
              "model_id": "f1e86a6402764c2096c108b5352ea8da",
              "version_major": 2,
              "version_minor": 0
            },
            "text/plain": [
              "JSXGraph(value=None, code='JXG.Options.text.useMathJax = true;\\nvar board = JXG.JSXGraph.initBoard(\\'jxgbox\\',…"
            ]
          },
          "metadata": {},
          "output_type": "display_data"
        }
      ],
      "source": [
        "proof1_jxg"
      ]
    },
    {
      "cell_type": "code",
      "execution_count": 4,
      "metadata": {
        "tags": [],
        "trusted": true
      },
      "outputs": [
        {
          "data": {
            "application/vnd.jupyter.widget-view+json": {
              "model_id": "17255045908048488cf183f321962548",
              "version_major": 2,
              "version_minor": 0
            },
            "text/plain": [
              "JSXGraph(value=None, code='JXG.Options.text.useMathJax = true;\\nvar board = JXG.JSXGraph.initBoard(\\'jxgbox\\',…"
            ]
          },
          "metadata": {},
          "output_type": "display_data"
        }
      ],
      "source": [
        "proof2_jxg"
      ]
    },
    {
      "cell_type": "markdown",
      "metadata": {},
      "source": [
        "#### Exercise: Your proof"
      ]
    },
    {
      "cell_type": "markdown",
      "metadata": {},
      "source": [
        "Give two other graphical proofs different from the ones above: \n",
        "- https://en.etudes.ru/etudes/pythagorean-theorem/  \n",
        "- https://en.etudes.ru/etudes/pythagorean-theorem-windmill-proof/  \n",
        "- https://flexbooks.ck12.org/cbook/ck-12-interactive-geometry-for-ccss/section/1.7/primary/lesson/the-pythagorean-theorem-geo-ccss/ \n",
        "- https://www.faculty.umb.edu/gary_zabel/Courses/Phil%20281b/Philosophy%20of%20Magic/Arcana/Neoplatonism/Pythagoras/index.shtml.html  \n",
        "- https://en.wikipedia.org/wiki/Pythagorean_theorem  "
      ]
    },
    {
      "cell_type": "markdown",
      "metadata": {},
      "source": [
        "Write the proofs in your own words with screen captures of the following scratchpad. Note that you can move and rotate the triangles."
      ]
    },
    {
      "cell_type": "code",
      "execution_count": 6,
      "metadata": {
        "trusted": true
      },
      "outputs": [
        {
          "data": {
            "application/vnd.jupyter.widget-view+json": {
              "model_id": "d99d7321950546a9ac9a8e51c1e77970",
              "version_major": 2,
              "version_minor": 0
            },
            "text/plain": [
              "JSXGraph(value=None, code=\"JXG.Options.text.useMathJax = true;\\nvar board = JXG.JSXGraph.initBoard('jxgbox', {…"
            ]
          },
          "metadata": {},
          "output_type": "display_data"
        }
      ],
      "source": [
        "proof_scratchpad_jxg"
      ]
    },
    {
      "cell_type": "markdown",
      "metadata": {},
      "source": [
        "**Solution**\n",
        "\n",
        "***Proof 1***  \n",
        "\n",
        "![image.png](data:image/png;base64,iVBORw0KGgoAAAANSUhEUgAAAVAAAAFNCAYAAABWoDecAAAAAXNSR0IArs4c6QAAAARnQU1BAACxjwv8YQUAAAAJcEhZcwAADsMAAA7DAcdvqGQAACKpSURBVHhe7d0NdJx1nS/w77R5myRNMnlt2iZp0kKSBggUqS0vYb2LgF4FBMErZXHxrFyVXRAsIqLXPQtrbZE9Ho/u3oXdPeIK9+pCeVGOcIFqR6ShWDPVJmlKk2matGkmL5OXyevk5c7z9P9gGzLJzDMz/3levp9z4mR+Dzq2nec7v+88k+KYD0GE3G43GhoaxD25GhsbUV9fD6fTKSbyeDweVFRUwOVyiYk8ra2tyMvLQ2lpqZjI4/V61dvKykr1Vqaenh4MDQ2htrZWTOTx+/3o7OzExRdfLCbyTExM4NChQ9i6dauYyMVzPLpzfIW4JSKiKDFAiYh0YoASEenEACUi0okBSkSkEwOUiEgnBigRkU4MUCIinRigREQ6MUCJiHRyDA4ORvyjnAcOHMCWLVvEPbmUH7WqqalBRkaGmMjT3NyMdevWITc3V0zkaW9vR05ODoqKisREnq6uLrzROY67rqwWE3n6+vowMjKCDRs2iIk8w8PD6O7uRl1dnZjIMzk5iSNHjiTlx0gVPMejO8cdTU1NEQdoW1sbqqvln0wKJUjKy8uRmpoqJvIoPxddWFiIrKwsMZFH+ZnwzMzMpIT31/eewL4eYOOqlbj/wwXYXCLvia2E2Pj4eFL+DoCxsTH09/erPxstWzAYxIkTJ5LywqHgOR7dOc6/TCQCdvzLRH78bhe+9JwHOSuAXVXAAx0rcM/VG/Ho9XJOLv5lIvzLRGTiXyZCcdMzMoX7X/oTijLn1Pt/vTpUcT40h2PNHdjy+F78tmNAnRPZHQOUPuC+Fw/huk1zcJ7VpErTgP9z/gy+nDeGG59qxLdebRNHiOyLAUrnUKp7c+8gtn9o8Xd2uI0S/RkDlN6nVfe/2jItJovjNkp0BgOU3qdV97pSh5gsjdso2R0DlFTLVfdwuI2SnTFAKeLqvhRuo2RHDFCKurqHw22U7IYBanN6q/tSuI2SXTBAbSwe1T0cbqNkBwxQG4tXdV8Kt1GyMgaoTSWiuofDbZSsigFqQ4ms7kvhNkpWwwC1IRnVPRxuo2QlDFCbkVndl8JtlKyAAWojyaru4XAbJbNjgNpIMqv7UriNklkxQG3CKNU9nIXb6O63ToojRMbFALUBo1X3pWjbaOd73fjM88e5jZKhMUBtwKjVPRxlG/33dSP461Qf3xslQ2OAWpzRq/tSbl01xvdGydAYoBZmpuoeDq/Uk5ExQC3MbNV9KbxST0bEALUoM1f3cLiNktEwQC3ICtV9KdxGySgYoBZkpeoeDrdRMgIGqMVYsbovhdsoJRMD1EKsXt3D4TZKyeIYHx+PeFXZv38/tm3bJu7JdfDgQWzatAlOp1NM5Dl8+DDKysqQm5srJvIcPXpUfdySkhIxCe+O/+vBihQf/sclM2ISm6+/uBLDgRXoviwoJvIMDQ1hbGwMa9euFZPInA69djzYlY52OPHdT9biivUucSRyw8PD6OrqwgUXXCAm8kxMTKClpQWXXnqpmMjFczy6c9wR+g2LOEA7OjpQVVUl7snV2dmJNWvWIDU1VUzkOXXqFFwuV1L+YH0+HzIyMpCTkyMmi3vl+CSeafPjy5vbxSR2P/x9OUbHU/F2Sfz+NyMVemFHMBjU/aL1wkQudo6W4Jbzs3D3BVliGhklxPx+v/p8k035NSvPt4qKCjGRi+d4dOe4Yz5EfL8st9uNhoYGcU+uxsZG1NfXJyXEPB6P+oRWfoNla21tRV5eHkpLS8Xkg5Tqvmn3m3joozNxvXC047k5DI2uQO/lYiCREmCBQEDdCvTqCW2jDxxPQftcOp64pR5XVRWII0tTHls5mS+++GIxkUcJ70OHDmHr1q1iIhfP8ejOcb4HagF2uOquB98bpURjgJqc3a6668Er9ZQoDFATs+tVdz24jVIiMEBNjNU9etxGKZ4YoCbF6q4ft1GKFwaoCbG6xwe3UYoVA9SEWN3jh9soxYIBajKs7olx9jZ6zb/+Hn/onRRHiMJjgJoIq3tiadvo3dnDuP9NH7dRWhYD1ERY3eXYXhDEa6tP8L1RWhYD1CRY3eUqXjnL90ZpWQxQE+gNBFndk4RX6mkpDFAT+NavvazuScQr9RQOA9TgXjg6gqP9o6zuBsBtlBZigBqYctX9u40+fPqiYTGhZOM2SmdjgBqYctX9yvJRVBfNigkZBbdRUjBADUq76v6J84fEhIyG2ygxQA2IH5g3F26j9sUANSB+YN58uI3aEwPUYPiBeXPjNmovDFADYXW3Bm6j9sEANRBWd2vhNmp9DFCDsEJ1d/zsCE67d4p7pOA2am0MUANgdbc+bqPWxAA1ACtV972hL8cNPw993YD9P7vhzJBU3EathwGaZFa76v789/Zj/j9K8PbLL+PyZ+4A2n4ujpCG26h1MECTyIrVfcf20H8UXo1toZubd3wU+z0/Ved0Lm6j1sAATSIrXnWvLFWikyK1cBt9u5M/umsmDNAkseoH5r09+8V3wJ6eXvEdLeXsbfTWp/+AJw+PiSNkdI59+/ZFfAZ3dnaioqJC3JOru7sbq1evRkpKipjI09PTg7y8PDidTjGJzcDkPO7cO4ztNcexPndcTBc3MjKC1NTUuD12NP6lqQqBiVS4CyKrlxfsPYF7X/8X3L3zSziEcmx/+Nc4/KXQgfKPnPkHojAxMYFgMIicnBwxkWdqagpjY2PIz88XE3l6gw48NlKM01mFuOfibFyYv1IckYPneHTnmWM+RHy/LLfbjYaGBnFPrsbGRtTX1yclSDwej/qkcrlcYhKb235yACtSfBFtn11dXcjOzo7bY0djx3NzGBpdgd7LxWAZyudAnyl9Adu/tyF076fo2bENqxsePnMwSn6/H4FAAGVlZWIij/K4Pp8PVVVVYiLP9PQ0vF4v9udW44GOFbjn6o149PpqcTTxeI5Hd56xwktm5Z91n/9MDW4PBeb8y7eFvl7WHZ70wfdG3/IOiiNkJAxQifiBeYrG2e+N3vDkfl6pNyAGqET8WXfS48w2Os9t1IAYoJLwr6mjxTzbr/zk1k71J7ee3aX85NbiH2MqTZvnNmpADFAJWN1pMcoHvp7//M8x/x+Xq+8Zb1+/G71vPXXmYBjcRo2FASoBqzstZm9oibzlip8ChRep95WLcCVXPqh+vxRuo8bBAE0wVncK5w+9fvGdPtxGk48BmkCs7rSUzSWxf7aX22hyMUATiNWdllJZADz/u21A/x/V+8oPIjQ+92n1+2hxG00OBmiCsLrTcm4vDG2hjz8Mx+efUK/CP3P8a9j66X8TR6PHbVQ+BmgCsLpTpB6phnoFXvm6/aGXQ5O8MwdiwG1UHgZoArC6U7JxG5WDARpnrO5kJNxGE4sBGkes7mRE3EYThwEaR6zuZGTcRuOPARonrO5kBtxG44sBGges7mQ23EbjgwEaB6zuZEbcRmPHAI0RqzuZ3dnb6Bf3DnMbjQIDNAas7mQV2ja6HSe5jUaBARoDVneympsyhvjeaBQYoDqxupNV8b3RyDFAdWB1Jzt4/73RFm6j4TBAdWB1J7tQt9HzuI2GwwCNEqs72RG30cUxQKPA6k529sFt9Ig4Yl8M0CiwuhOdvY16bb+NMkAj9OyhXlZ3IoHb6BkM0Aj0T8zhkdfbWd2JFrD7NurYv39/xCtVR0cHqqqqxD25Ojs7sWbNGqSmpoqJPF/9dQ/SM/z4+Eb5T47h4WH115yZmSkm8vzw9+UYHU/F2yXtYiLP+Pg4gsEgcnNzxUSe6elpBAIB5Ofni4k8MzMzGBwcRHFxsZjIdfr0aaxeHUpFHV6YyMXO0RLccn4m7r4gW0wjl8xz/NSpU3C5XHA6nWISGUfoiRpxgIbCFtu2bRP35Dp48CA2bdoU9S8wVv/5h1P47pt/xN9fN4qsrCwxlefkyZPq4+blxf7vyonW119cieHACnRfFhQTeYaGhjA2Noa1a9eKiTzK4/b396OiokJM5JmamkJXVxc2btwoJnIdOXIENTU14l70Tk878GB3Gtrnndh1wyZcXhH58zZZ57ji8OHDKCsri/oF2zEfIr5fltvtRkNDg7gnV2NjI+rr66X+5ipX3TftfhN31nVha3UOsrOjf1WNlXIyKY+rvDrKtuO5OQyNrkDv5WIgkd/vV7dA5Uktm/K4Pp8vKW1L2X69Xi+qq6vFRK7m5mbU1dWJe/r9+DTwQMcK3HP1Bjx6fWSBnIxzXOPxeNQXzGjPM74HugTtqnuVa1JMiCgSdnlvlAEaBj8wTxQbO1ypZ4Augh+YJ4ofK2+jDNBF8APzRPFl1W2UAboAqztR4lhtG2WAnoXVnSjxrLSNMkDPwupOJM/CbfRQv/zPG8eKASqwuhPJd/Y2+jW3H//wxjFxxBwYoCGs7kTJpWyjrxR0oONIp6neG2WAhrC6EyVf0coZ/GfVlKneG7V9gLK6ExmLma7U2zpAWd2JjMksV+ptHaCs7kTGZvRt1LYByupOZA5G3kZtGaCs7kTmY8Rt1JYByupOZE5G20ZtF6Cs7mRGt7j9cNxwg/p1S+gL/fvEEXsyyjZqqwBldScz+sc2YPP3Pof5l3eHvl7Gnu27sf/NJ8RR+zLCNmqrAGV1JzN6pDr0FQpO4My/GuPm0hL1ls5I5jZqmwBldSezOh36cuza936F3xPaRulcydpGbRGgrO5kZve4/XgGT4Tq+9Nqhb95x9PiCC0kexu1RYCyupNV7A997fne62fu0KJkbqOWD1BWdzK7HQ0ubP/dHaH6/jnsDVX4xx6/CN7jyhG/epwWJ2MbtXSAsrqTFWwLfc2/fJta35WLSY9U1+D2h5SLStH9O8ztKNHbqKUDlNWdiBSJ2kYtG6Cs7kR0tkRso5YMUFZ3IgonntuoJQOU1Z2IlrJwG/1nz5A4Eh1HU1NTxB23ra0N1dXV4p5c7e3tKC8vR2pqqpgs7uX2MTzd0od7L+sUk9j19fUhJycH6enpYiKP3+9XHzczM1NM5PlB4xrMTqWgczpFTIisSFm05lGX58BTH1sLZ0rki5djcHAw4gA9cOAAtmzZIu7J5fF4UFNTg4yMDDH5oN5AEFv/97u476oAaornxDR2J06cQGFhYVJC7PTp03A6ncjNzRUTef7h1XQ8+KF1+NRl54mJPMqL1sjICDZs2CAm8gwPD6O7uxufeHUYX71iEplp4oAEs7OzGBoaQkFBgZjI5fP5UFxcLO7JNTAwgLy8PKxcuVJM5Bkc9OOpP67GzuurcfOmQjFdnmM+RHy/LLfbjYaGBnFPrsbGRtTX16thEs5tPzmAFSm+uF846ujoUJ9U2dnZYiJPV1eX+rgul/yPrDy8Zw6PXFGFz151oZjI09PTowZJbW2tmMijbP2dnZ24Zk8P2h6aQUGWOCDB9PQ0vF5v0ppec3Mz6urqxD25lIZbWVmJtDSJr1jCXU+PYj6lEj/ernxoLHKWeQ+UV92JSI9fHQFea8/BYx89X0wiZ4kA5VV3ItJjbt6BB15KwVc/VICs1Ojj0BIByqvuRKTHAy85cFVVCf6yPPxbg0sxfYCyuhORHkp1f+FPKfinG+vFJHqmDlBWdyLSQ6vu/3TjRchO03/V39QByupORHpo1f2Wi0rFRB/TBiirOxHpEY/qrjFlgLK6E5Ee8aruGlMGKKs7EekRr+quMV2AsroTkR7xrO4aUwXo6dFpVnciilq8q7vGVAG645UWVnciilq8q7vGNAH6yvFJtPj8rO5EFJVEVHeNKQJUuer+fc9IKDwnxYSIaHmJqu4aUwSoctV961o/aku4fRJR5BJV3TWGD1Dtqvt16/vEhIhoeYms7hpDByg/ME9EeiS6umsMHaD8wDwR6ZHo6q4xbIDyA/NEpIeM6q4xZICyuhORHrKqu8aQAcrqTkR6yKruGsMFKKs7Eekhs7prDBWgrO5EpIfs6q4xVICyuhORHrKru8YwAcrqTkR6JKO6awwRoKzuRKRHsqq7xhAByupORHokq7prkh6grO5EpEcyq7vG0dLSEnFytba2ora2VtyLXd/4LD7xnBd/s7kXG/OXru89PT0oKipCSkqKmMjj8/mQm5uL9PR0MZFnYGAAGRkZyMrKEhN5vv+7ItxTl49rN60RE3mGhoYQCASwbt06MZFnbGwMfX19uP2tWez7XDdczjlxJPFmZmbUxy4tTc5G1d3dnZTfc0U057hS3f/yJ2vxd5tLcW1ltpjqd/z4cfWxoz3PHKdOnYo4QJuamnDJJZeIe7G7+xdHsWKlD7dcMCEm4XV2dmLNmjVITU0VE3lOnjwJl8uFzMxMMZGnt7cXTqcTOTk5YiLPzjeycf8lq/HJSyrFRJ7+/n41QNevXy8m8oyOjqon86deD+DdLw0iP1NeOwoGgwidk6ioqBATudrb27FhwwZxT65ozvGHX8tCYKoEj18bn/+vR48eVV+0Vq1aJSaRccyHiO+X5Xa70dDQIO7FRqnuj/+mGd+9MSgmS2tra0NlZSXS0tLERJ6Ojg4UFxcjOzv2V7podXV1qY+rBLhsD++ZwyNXVOGzV10oJvIoAaZsofFsPJHy+/3qyXzNnh60PTSDAonL//T0NLxeL6qrq8VErubmZtTV1Yl7ckV6jivV/Yv/lYbmh66J24Ujj8ejvmhFe54l5T1QXnUnIj2SfdV9oaQEKK+6E5Eeyb7qvpD0AOVVdyLSwwhX3ReSGqCs7kSkh9Gqu0ZqgLK6E5EeRqvuGmkByupORHoYsbprpAQoqzsR6WHU6q6REqCs7kSkh1GruybhAcrqTkR6GLm6axIaoKzuRKSH0au7JqEByupORHoYvbprEhagrO5EpIcZqrsmIQHK6k5EepilumsSEqCs7kSkx4O/TDFFddfEPUBZ3YlID3dXFl5qTjNFddfENUBZ3YlID6W673y7FLs+XmuK6q6Ja4CyuhORHspV9/rCDNxUVywm5hC3AGV1JyI9tKvu99bniYl5xCVAWd2JSI+zr7o7zdPc3xeXAGV1JyI9zPKB+XBiDlBWdyLSw0wfmA8npgBldSciPcz2gflwYgpQVnci0sPs1V2jO0BZ3YlIDytUd42uAGV1JyI9rFLdNboClNWdiPSwSnXXRB2grO5EpIeVqrsmqgAdmJzHV15kdSeb4I4QN1ar7hpHR0dHxE+TO37mQX7+NG6sHRUTebq6ulBaWoqUlBQxkaenpwd5eXlwOp1iIk9fXx8yMjKwatUqMZHn8X15uPfCInz8onIxkWdwcBCBQADl5fIfe3R0FL29vfjMb6bw9hd64XLKS9KZmRn1+VZWViYmcnV2dqKiokLci59vvZmD0ckSfOcj4f88W1tbsWHDBqSlpYmJPMeOHUNJSUnU51nEATo4MYv/9pNmjASV9z353qcd5KXP447qbJQXyf8Z5bGxMUxNTYVesPPFRJ7JyUmkTY9i15+CDNA42OtNx4Ov5uO17bXITAmfHaYM0PkQ8f2yvvOzvfjWu2PYmJOLylU5YirH0NBw6BeXjZUr5a//ykaibIGpqaliIk8gMBZ63BSkp6eLiTwTExPqbTI2byU8g8EZZGdniYk8wWAQR4f9GMUM2r8xiwKJ/xemp6fh9XpRXV0tJnI1Nzejrq5O3IudUt3rdq/EYx+7eNkLR42Njaivr0/K883j8agvHC6XS0wiE1WAut1urK7djPv2tMDnn8Gd5XWoWpUrjiZWW1sbKisrk/LqFNrSUVxcHDqZs8VEHuWtC+Vxo/2DjQelxiqUV2bZ/H6/WuGTsYkpj/vt1nfgm51igMboKy+uwHiwFE/eullMwjNjgEZ9Ff78omz86n9uwV1XrsGOpt/i+RPHxBEioj+z4lX3hXR9DlTxt1euR/PX/gK9KYP4++a30TE6LI4Qkd1Z9ar7QroDVMFtlIgWY7UPzIcTU4BquI0SkcYO1V0TlwBVcBslIrtUd03cAlTDbZTIvuxS3TVxD1AFt1Ei+7FTddckJEA13EaJ7MFu1V2T0ABVcBslsj67VXdNwgNUw22UyJrsWN010gJUwW2UyFrsWt01UgNUw22UyBrsWt01SQlQBbdRInOzc3XXJC1ANdxGiczH7tVdk/QAVXAbJTIXu1d3jSECVMNtlMj4WN3/zFABquA2SmRcrO7nMlyAahZuo6eCk+IIESULq/u5DBugirO30R8MnMCLJ73iCBHJxur+QYYOUI2yjT57nSu0jfr53ihRErC6L84UAaooX5WCl+6q53ujREnA6r440wSohlfqieRidQ/PdAGq4JV6IjlY3ZdmygDVcBslSixW96WZOkAV3EaJEoPVfXmmD1ANt1Gi+GF1j4xlAlTBbZQoPljdI+M4derUvPh+WU1NTbjkkkvEPbkOHz6M8847D+np6WKytA7/JL75ejcGRuZwW3EVyp3Z4kj0Tp48CZfLhczMTDGRp7e3F06nEzk5OWIiz8DAgHpbUFCg3so0MjKCiYkJlJSUiIk84+PjeLyrGX1zQTT97SDyMyM+RWIWDAYROidRUVEhJnK1t7fDixrc/8tc/Obz9chKlbdjRXuOx9PRo0dRWlqKVatWiUlkHC0tLRE/O1pbW1FbWyvuyfXee++pT6q0tDQxicwzzcPY9U4f/nveGlzrKhbT6Ph8PuTm5iblD1YJsYyMDGRlZYmJPMPDZ94GUX7tso2NjWFycjIp4T01NYUf+I5hADN4665uuJxz4kjizczMoK+vTz2Zk+FE10l8bu+H8XebS3Ftpf6lQw+953g8HD9+HEVFRVGfZ475EPH9stxuNxoaGsQ9uRobG1FfX69uY9E62hfAfXta4PPP4M7yOlStii4QOjo6UFxcjOxsuU8oRVdXl/q4ygYsm7L9KpKxBfr9fgQCAZSVlYmJPMrjfrv1Hfhmp9D+jVkUSHztmp6ehtfrRXV1tZjI9Vf/7ocz5wI8eetmMZEnlnM8Vh6PRw3vaM8zS70HGg7fGyVannLV/Y3jebzqHgVbBKiGV+qJFqdddf9yXRavukfBVgGq4DZK9EHaVfer16SKCUXCdgGq4TZKdAY/MK+fbQNUwW2U7I4fmI+NrQNUw22U7IofmI8NA1TgNkp2w+oeOwboAtxGyQ5Y3eODAbqIhdvomyP94giRNbC6xwcDdAnaNjqQMYpdHU3cRskSWN3jhwG6DGUb/dFHC3D7ZQV8b5RMj9U9vhigEfrCZaV8b5RMj9U9vhigUeCVejIzVvf4Y4DqwCv1ZDas7onBANWJ2yiZCat7YjBAY8RtlIyO1T1xGKBxwG2UjIrVPbEYoHHEbZSMhtU9sRigccZtlIyC1T3xGKAJwm2UkonVXQ4GaAJxG6VkYXWXgwEqAbdRkonVXR4GqCTcRkkGVne5GKCScRulRGJ1l4sBmgTcRikRWN3lY4AmEbdRihdW9+RggCYZt1GKB1b35GCAGgS3UdKL1T15HIODg/Pi+2UdOHAAW7ZsEffk8ng8qKmpQUZGhpjI09zcjHXr1iE3N1dMEuupd3vwyOsduHVNFS5DGpxOp7THPlt//5l/F1RhYaF6K9Pw8DAmJiawevVqMZFnfHwcO70e9M0F8aevjCI/M+JTJGbBYBDd3d2orKwUk6Up1f2yH67CI39RjU/WFIipfjzHozvPHE1NTRE/O9ra2lBdXS3uydXe3o7y8nKkpqaKiTydnZ1qiGRlZYlJ4nWOBLH7nRH4/EF8zFmEDTkucUSekZER9TYnJ0e9lUkJsampKbhc8n/dyuP+8+BxDGAG++48jryMOXEk8WZnZ9HX1xfxC8ejvy3C6GQxvvnh+LzI8RyP7hx3zIeI75fldrvR0NAg7snV2NiI+vp6dRuTTXllrKioSMrJ/M3nGrHrnX5sX1+DW8o3iqkcvb296m1JSYl6K5Pf70cgEEBZWZmYyKM87rdb34Fvdgrt35hFgbzXTUxPT8Pr9UYUYkp1/+J/paH5oWviduGI53h05zjfAzW47XW5+M1ddXxvlM7Bq+7GwAA1gSpXBq/U0zl41d0YGKAmwiv1pOBVd+NggJoMPzdqb6zuxsIANSluo/bE6m4sDFAT4zZqL6zuxsMAtQBuo9bH6m5MDFCL4DZqbazuxsQAtRhuo9bD6m5cDFAL4jZqHazuxsYAtTBuo+bH6m5sDFCL4zZqXqzuxscAtQluo+bC6m4ODFAb4TZqHqzu5sAAtSFuo8bm7spidTcJBqhNcRs1JqW673y7lNXdJBigNsdt1Fge/GUK6gszWN1NggFK3EYNQrnq/lJzGu6tzxMTMjoGKL1v4TbaNTkmjlCiaVfdd328Fk42d9NggNI5zt5Gv9PZjFcHesQRSiTtqvtNdcViQmbAAKVFKdvoa7efh760Yb43mmD8wLx5MUAprMq8dPz4pnK+N5pA/MC8uTFAaVm8Up84/MC8uTFAKSK8Uh9/rO7mxwClqHAbjQ9Wd2tggFLUuI3GjtXdGhigpBu3UX1Y3a2DAUox4TYaHVZ3a3GMj4/Pi++XtX//fmzbtk3ck+vgwYPYtGkTnE6nmMhz+PBhlJWVITc3V0zkOXr0qPq4JSUlYiJPZ2eneltRUaHeLue9/jHs+MUx9A3N4I51NViflSOORG9oaAhjY2NYu3atmMijPO6j7x2Eb3YKRx6cREGWOBAHX/1FKsamV+NHN10oJueamJhAS0sLLr30UjGRi+d4dOe4I/QbFnGAdnR0oKqqStyTSzmZ16xZg9TUVDGR59SpU3C5XEn5g/X5fMjIyEBOjv4w0mtwcFC9zc/PV28j9dyxSXzfM4rrsgvxkezo/rua0As7gsFgUl60pqen8eRIFwYwizc+ewx5GbPiSGyUv6buf+1bh2evLwr745rKr1l5vkX6ohVvPMejO8cd8yHi+2W53W40NDSIe3I1Njaivr4+KSHm8XjUJ7TyGyxba2sr8vLyUFoq/2KD1+tVbysrK9XbaBztC+C+PS3w+WdwZ3kdqlZFF4R+vx+BQEDdCmRTHvfbre+oG2j7N2bjsoEq1b1u90o89rGLl7xwpGyghw4dwtatW8VELp7j0Z3jfA+UEoLvjZ6LV92tiQFKCcUr9bzqbmUMUEo4O2+jvOpubQxQksaO2yiru7UxQEkqO22jrO7WxwClpLD6Nsrqbg8MUEoaK2+jrO72wAClpLPaNsrqbh8MUDKEhdvoK75uccRcWN3thQFKhqJto77UIfzI957ptlFWd3thgJLhKNvos7dtxKcuyDTVe6Os7vbDACXD2l6Xa5r3Rlnd7YkBSoZmliv1rO72xAAlUzDylXpWd/tigJJpGHEbZXW3NwYomY6RtlFWd3tjgJIpGWEbZXUnBiiZWrK2UVZ3UjBAyfSSsY2yupOCAUqWIWsbZXUnDQOULCXR2yirO52NAUqWlKhtlNWdzsYAJcuK9zbK6k4LMUDJ8j64jY6II5FjdafFMEDJFs7dRt1Rb6Os7rQYBijZip5tlNWdwmGAku1Es42yutNSGKBkW5Fso9/6FVjdKSwGKNnaUtvozNw8XmlldafwHPv27ZsX3y+rs7MTFRUV4p5c3d3dWL16NVJSUsREnp6eHuTl5cHpdIqJPP39/cjIyEB2draYyDM0NKTeKr922QKBACYnJ1FYWCgmidcVmMUPDk1jcHQegZlZzKfP4G9qsnFtWar4JxJvZmYGp0+fxrp168RELp7j0Z3jjvkQ8f2y3G43GhoaxD25GhsbUV9fn5QQ83g86pPK5XKJiTytra3qH2xpqfwK6fV61dvKykr1ViblCa0EeG1trZjIs/v/teCJfSfwu/uvwsbCLDGVY2JiAocOHcLWrVvFRC6e49Gd46zwRAt84bJSvHRzifTwJPNhgBItImOlQ3xHFB4DlIhIJwYoEZFODFAiIp0YoEREOjFAiYh0YoASEekC/H9KZO3bGZgU8gAAAABJRU5ErkJggg==)\n",
        "\n",
        "The four triangles form a square with side $c$ and area $c^2$. There is a square hole inside which we will also consider it. Move the left bottom and right bottom triangles to get the following graph.  \n",
        "![image.png](data:image/png;base64,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)\n",
        "\n",
        "Considering the four triangles and the small square hole, the area can be calculated by $a^2+b^2$, since the whole area is indicated with two squres indicated by bold lines, where the left sqaure has side $a$ and right square has side $b$.  \n",
        "\n",
        "The whole area do not change before and after move the two triangles since there is no overlapping between each part. Hence, we get \n",
        "$$\n",
        "c^2 = a^2 + b^2.\n",
        "$$ \n",
        "\n",
        "\n",
        "\n",
        "\n",
        "***Proof 2***  \n",
        "\n",
        "![image.png](data:image/png;base64,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)\n",
        "\n",
        "The four triangles form a large square with side $(a+b)$ and another square by the hole with side $c$, hence we have\n",
        "$$\n",
        "\\begin{align*}\n",
        "(a + b)^2 &= \\frac{1}{2}ab \\cdot 4 + c^2 \\\\\n",
        "\\Leftrightarrow a^2 + b^2 + 2ab &= 2ab + c^2 \\\\\n",
        "\\Leftrightarrow a^2 + b^2 &= c^2\n",
        "\\end{align*}\n",
        "$$ \n",
        "\n",
        "\n"
      ]
    }
  ],
  "metadata": {
    "kernelspec": {
      "display_name": "Python (XPython)",
      "language": "python",
      "name": "xeus-python"
    },
    "language_info": {
      "file_extension": ".py",
      "mimetype": "text/x-python",
      "name": "python",
      "version": "3.10.2"
    },
    "widgets": {
      "application/vnd.jupyter.widget-state+json": {
        "state": {
          "17255045908048488cf183f321962548": {
            "model_module": "jupyter-divewidgets",
            "model_module_version": "^0.1.0",
            "model_name": "JSXGraphModel",
            "state": {
              "_model_module_version": "^0.1.0",
              "_view_module_version": "^0.1.0",
              "code": "JXG.Options.text.useMathJax = true;\nvar board = JXG.JSXGraph.initBoard('jxgbox', {boundingbox: [-1, 13, 15, -3], axis:true, keepaspectratio:true,  showCopyright:false});\nvar a = board.create('slider', [[1, -1], [5,-1], [2, 6, 7]], {name:'a', snapWidth: 0.1});\nvar b = board.create('slider', [[8, -1], [12,-1], [2, 3, 7]], {name:'b', snapWidth: 0.1});\nvar m = board.create('slider', [[1, -2], [12,-2], [0, 0, 2]], {name:'move', snapWidth: 0.1, withLabel:false});\nboard.create('text',[1+m.point2.X(),m.point2.Y(),\"move\"],{fixed: true, anchorX: 'middle'});\nvar s = board.create('point', [1,1],{face:\"\", withLabel:false});\nvar right_ab = board.create('transform', [()=>a.Value()+b.Value(),0], {type:'translate'});\nvar right_a = board.create('transform', [()=>a.Value(),0], {type:'translate'});\nvar right_b = board.create('transform', [()=>b.Value(),0], {type:'translate'});\nvar left_a = board.create('transform', [()=> -a.Value(),0], {type:'translate'});\nvar left_b = board.create('transform', [()=> -b.Value(),0], {type:'translate'});\nvar up_ab = board.create('transform', [0,()=>a.Value()+b.Value()], {type:'translate'});\nvar up_a = board.create('transform', [0,()=>a.Value()], {type:'translate'});\nvar up_b = board.create('transform', [0,()=>b.Value()], {type:'translate'});\nvar down_a = board.create('transform', [0,()=> -a.Value()], {type:'translate'});\nvar down_b = board.create('transform', [0,()=> -b.Value()], {type:'translate'});\nvar no_move = board.create('transform', [0,0], {type:'translate'});\n\n\nvar r2 = board.create('point', [s,right_ab], {visible: false});\nvar po0 =  board.create('regularpolygon',[s,r2,4], \n                        {withLines: true, fillColor:'none', highlightFillColor:'none',\n                         vertices:{face:'', withLabel: false},\n                         borders: {strokeWidth:1, strokeColor:'black'}});\n\nvar tri1 = [];\ntri1[0] = board.create('point', [s, up_b], {visible: false});\ntri1[1] = board.create('point', [tri1[0], down_b], {visible: false});\ntri1[2] = board.create('point', [tri1[0], [down_b,right_a]], {visible: false});\nvar po1 = board.create('polygon',[tri1[0],tri1[1],tri1[2]], \n                        {withLines: true, fillColor:'red', highlightFillColor:'none',\n                         vertices:{face:'', withLabel: false},\n                         borders: {strokeWidth:1, strokeColor:'black'}});\n\nboard.create('segment',[tri1[0],tri1[1]],{strokeWidth:0, withLabel: true, name:'b', label:{offset:[-10, b.Value()/2]}});\nboard.create('segment',[tri1[1],tri1[2]],{strokeWidth:0, withLabel: true, name:'a', label:{offset:[a.Value()/2, -10]}});\nboard.create('segment',[tri1[2],tri1[0]],{strokeWidth:0, withLabel: true, name:'c', label:{offset:[a.Value()/2-10, b.Value()/2-10]}});\n\nvar move_tri2 = board.create('transform', [()=>a.Value(), 0], {type:'translate'});\nvar tri2 = [];\ntri2[0] = board.create('point', [s, move_tri2], {visible: false});\ntri2[1] = board.create('point', [tri2[0], right_b], {visible: false});\ntri2[2] = board.create('point', [tri2[0], [right_b,up_a]], {visible: false});\nvar po2 = board.create('polygon',[tri2[0],tri2[1],tri2[2]], \n                        {withLines: true, fillColor:'green', highlightFillColor:'none',\n                         vertices:{face:'', withLabel: false},\n                         borders: {strokeWidth:1, strokeColor:'black'}});\n\n//anchor of tri3 should be changed\n/*\nvar move_tri3 = board.create('transform', [()=>a.Value()+b.Value(), ()=>a.Value()], {type:'translate'});\nvar tri3 = [];\ntri3[0] = board.create('point', [s, move_tri3], {visible: false});\ntri3[1] = board.create('point', [tri3[0], up_b], {visible: false});\ntri3[2] = board.create('point', [tri3[0], [up_b,left_a]], {visible: false});\nvar po3 = board.create('polygon',[tri3[0],tri3[1],tri3[2]], \n                        {withLines: true, fillColor:'blue', highlightFillColor:'none',\n                         vertices:{face:'', withLabel: false},\n                         borders: {strokeWidth:1, strokeColor:'black'}});\n*/\n\nvar move_tri3_2 = board.create('transform', [()=>b.Value(), ()=>a.Value()+b.Value()], {type:'translate'});\nvar tri3_2 = [];\ntri3_2[0] = board.create('point', [s, move_tri3_2], {visible: false});\ntri3_2[1] = board.create('point', [tri3_2[0], right_a], {visible: false});\ntri3_2[2] = board.create('point', [tri3_2[0], [right_a, down_b]], {visible: false});\nvar po3 = board.create('polygon',[tri3_2[0],tri3_2[1],tri3_2[2]], \n                        {withLines: true, fillColor:'blue', highlightFillColor:'none',\n                         vertices:{face:'', withLabel: false},\n                         borders: {strokeWidth:1, strokeColor:'black'}});\n\nvar move_tri4 = board.create('transform', [()=>b.Value(), ()=>a.Value()+b.Value()], {type:'translate'});\nvar tri4 = [];\ntri4[0] = board.create('point', [s, move_tri4], {visible: false});\ntri4[1] = board.create('point', [tri4[0], left_b], {visible: false});\ntri4[2] = board.create('point', [tri4[0], [left_b,down_a]], {visible: false});\nvar po4 = board.create('polygon',[tri4[0],tri4[1],tri4[2]], \n                        {withLines: true, fillColor:'yellow', highlightFillColor:'none',\n                         vertices:{face:'', withLabel: false},\n                         borders: {strokeWidth:1, strokeColor:'black'}});\n\nvar rot_tri2 = board.create('transform', [function(){return m.Value()*Math.PI/4;}, tri2[0]], {type:'rotate'});\nrot_tri2.bindTo([tri2[1],tri2[2]]);\n\nvar rot_tri3 = board.create('transform', [function(){return - m.Value()*Math.PI/4;}, tri3_2[0]], {type:'rotate'});\nrot_tri3.bindTo([tri3_2[1],tri3_2[2]]);\n\nboard.create('segment',[tri2[1], board.create('point', [tri2[1], right_b], {visible: false})],{visible:()=>(m.Value()>=1.99),strokeWidth:1, dash:2});\n\n\nboard.create('text',[()=>s.X()+a.Value()*1/2+b.Value(),()=>s.Y()+b.Value()+1/2*a.Value(),function(){\n        return '\\\\[ a^2 \\\\]';\n    }],{visible: ()=> {return (m.Value()>=1.99);}, anchorX: 'middle', anchorY: 'auto'});\n\nboard.create('text',[()=>s.X()+a.Value()+1/2*b.Value(),()=>s.Y()+1/2*b.Value(),function(){\n    return '\\\\[b^2\\\\]';\n    }],{visible: ()=> {return (m.Value()>=1.99);}, anchorX: 'middle', anchorY: 'auto'});\n\nboard.create('text',[()=>s.X()+1/2*(a.Value()+b.Value()),()=>s.Y()+1/2*(a.Value()+b.Value()),function(){\n    return '\\\\[c^2\\\\]';\n    }],{visible: ()=> {return (m.Value()<0.4);}, anchorX: 'middle', anchorY: 'auto'});\n",
              "height": 600,
              "id": "jxgbox",
              "layout": "IPY_MODEL_e86eaa1beae24cc8b8785552e2d91f4e",
              "mathjax_url": "https://cdn.jsdelivr.net/npm/mathjax@3/es5/tex-chtml.js",
              "width": 600
            }
          },
          "2b8ad51aa8d54aeeaeaa793dcb7339be": {
            "model_module": "@jupyter-widgets/base",
            "model_module_version": "1.2.0",
            "model_name": "LayoutModel",
            "state": {}
          },
          "6ec30e43677c4706bd4afbbc3b6b104e": {
            "model_module": "@jupyter-widgets/base",
            "model_module_version": "1.2.0",
            "model_name": "LayoutModel",
            "state": {}
          },
          "8d5e66811a0b490daf2cc56ff654dde9": {
            "model_module": "@jupyter-widgets/base",
            "model_module_version": "1.2.0",
            "model_name": "LayoutModel",
            "state": {}
          },
          "af239002323b499f989d6ef5bd9bf325": {
            "model_module": "jupyter-divewidgets",
            "model_module_version": "^0.1.0",
            "model_name": "JSXGraphModel",
            "state": {
              "_model_module_version": "^0.1.0",
              "_view_module_version": "^0.1.0",
              "code": "JXG.Options.text.useMathJax = true;\nvar board = JXG.JSXGraph.initBoard('jxgbox', {boundingbox: [-1, 17, 17, -3], axis:true,grid:true, keepaspectratio:true,  showCopyright:false});\nvar a = board.create('slider', [[1, -1], [5,-1], [2, 4, 7]], {name:'a', snapWidth: 0.1});\nvar b = board.create('slider', [[8, -1], [12,-1], [2, 3, 7]], {name:'b', snapWidth: 0.1});\n\nvar s = board.create('point', [6,6],{face:\"\", withLabel:false});\nvar right_ab = board.create('transform', [()=>a.Value()+b.Value(),0], {type:'translate'});\nvar right_a = board.create('transform', [()=>a.Value(),0], {type:'translate'});\nvar right_b = board.create('transform', [()=>b.Value(),0], {type:'translate'});\nvar left_a = board.create('transform', [()=> -a.Value(),0], {type:'translate'});\nvar left_b = board.create('transform', [()=> -b.Value(),0], {type:'translate'});\nvar up_ab = board.create('transform', [0,()=>a.Value()+b.Value()], {type:'translate'});\nvar up_a = board.create('transform', [0,()=>a.Value()], {type:'translate'});\nvar up_b = board.create('transform', [0,()=>b.Value()], {type:'translate'});\nvar down_a = board.create('transform', [0,()=> -a.Value()], {type:'translate'});\nvar down_b = board.create('transform', [0,()=> -b.Value()], {type:'translate'});\nvar no_move = board.create('transform', [0,0], {type:'translate'});\n\n\nvar tri1 = [];\ntri1[0] = board.create('point', [s, up_b], {visible: true, size:2, name:'A', label:{offset:[-10,10]}});\ntri1[1] = board.create('point', [tri1[0], down_b], {visible: true, size:2, name:'C', label:{offset:[-10,-10]}});\ntri1[2] = board.create('point', [tri1[0], [down_b,right_a]], {visible: true, size:2, name:'B', label:{offset:[10,0]}});\nvar po1 = board.create('polygon',[tri1[0], tri1[1],tri1[2]], \n                        {withLines: true, fillColor:'none', highlightFillColor:'none',\n                         vertices:{face:'', withLabel: false},\n                         borders: {strokeWidth:1, strokeColor:'black'}});\n\nboard.create('segment',[tri1[0],tri1[1]],{strokeWidth:0, withLabel: true, name:'b', label:{offset:[-10, b.Value()/2]}});\nboard.create('segment',[tri1[1],tri1[2]],{strokeWidth:0, withLabel: true, name:'a', label:{offset:[a.Value()/2, -10]}});\nboard.create('segment',[tri1[2],tri1[0]],{strokeWidth:0, withLabel: true, name:'c', label:{offset:[a.Value()/2-10, b.Value()/2-10]}});\n\n\nvar po_a = board.create('regularpolygon',[tri1[1],tri1[0],4], \n                        {withLines: true, fillColor:'red', highlightFillColor:'none',\n                         vertices:{face:'', withLabel: false},\n                         borders: {strokeWidth:1, strokeColor:'black'}});\n\nvar po_b = board.create('regularpolygon',[tri1[2],tri1[1],4], \n                        {withLines: true, fillColor:'green', highlightFillColor:'none',\n                         vertices:{face:'', withLabel: false},\n                         borders: {strokeWidth:1, strokeColor:'black'}});\n\nvar po_c = board.create('regularpolygon',[tri1[0],tri1[2],4], \n                        {withLines: true, fillColor:'yellow', highlightFillColor:'none',\n                         vertices:{face:'', withLabel: false},\n                         borders: {strokeWidth:1, strokeColor:'black'}});\n\n\nboard.create('text',[()=>s.X()+a.Value()/2,()=>s.Y()-a.Value()/2,function(){\n        return (po_b.Area()).toFixed(2);\n    }],{anchorX: 'middle', anchorY: 'auto'});\n\nboard.create('text',[()=>s.X()-b.Value()/2,()=>s.Y()+b.Value()/2,function(){\n        return (po_a.Area()).toFixed(2);\n    }],{anchorX: 'middle', anchorY: 'auto'});\n    \nboard.create('text',[()=>s.X()+a.Value(),()=>s.Y()+b.Value(),function(){\n        return (po_c.Area()).toFixed(2);\n    }],{anchorX: 'middle', anchorY: 'auto'});\n",
              "height": 600,
              "id": "jxgbox",
              "layout": "IPY_MODEL_6ec30e43677c4706bd4afbbc3b6b104e",
              "mathjax_url": "https://cdn.jsdelivr.net/npm/mathjax@3/es5/tex-chtml.js",
              "width": 600
            }
          },
          "d99d7321950546a9ac9a8e51c1e77970": {
            "model_module": "jupyter-divewidgets",
            "model_module_version": "^0.1.0",
            "model_name": "JSXGraphModel",
            "state": {
              "_model_module_version": "^0.1.0",
              "_view_module_version": "^0.1.0",
              "code": "JXG.Options.text.useMathJax = true;\nvar board = JXG.JSXGraph.initBoard('jxgbox', {boundingbox: [-1, 13, 13, -3], axis:true,grid:true, keepaspectratio:true,  showCopyright:false});\n\nconst sx =1, sy = 1;\nconst a=6, b=4;\n\nvar p1, col1, pol1, g1;\ncol1 = 'red';\np1 = [];\np1.push(board.create('point',[sx, sy+b], {size: 5, strokeColor:'none', fillColor: 'none', withLabel: false}));\np1.push(board.create('point',[sx, sy], {size: 5, strokeColor:'none', fillColor:'none', withLabel: false}));\np1.push(board.create('point',[sx+a, sy], {size: 5, strokeColor:'none', fillColor:'none', withLabel: false}));\npol1 = board.create('polygon', p1, {hasInnerPoints: true, fillColor:col1});\ng1 = board.create('group', p1)\ng1.setRotationCenter('centroid')\ng1.setRotationPoints([p1[0], p1[1], p1[2]]);\n\nboard.create('segment',[p1[0],p1[1]],{strokeWidth:0, withLabel: true, name:'b', label:{offset:[10, b/2]}});\nboard.create('segment',[p1[1],p1[2]],{strokeWidth:0, withLabel: true, name:'a', label:{offset:[a/2, 10]}});\nboard.create('segment',[p1[2],p1[0]],{strokeWidth:0, withLabel: true, name:'c', label:{offset:[a/2-10, b/2-10]}});\n\nvar p2, col2, pol2, g2;\ncol2 = 'green';\np2 = [];\np2.push(board.create('point',[sx+a+1, sy], {size: 5, strokeColor:'none', fillColor: 'none', withLabel: false}));\np2.push(board.create('point',[sx+a+1+b, sy], {size: 5, strokeColor:'none', fillColor:'none', withLabel: false}));\np2.push(board.create('point',[sx+a+1+b, sy+a], {size: 5, strokeColor:'none', fillColor:'none', withLabel: false}));\npol2 = board.create('polygon', p2, {hasInnerPoints: true, fillColor:col2});\ng2 = board.create('group', p2)\ng2.setRotationCenter('centroid')\ng2.setRotationPoints([p2[0], p2[1], p2[2]]);\n\nvar p3, col3, pol3, g3;\ncol3 = 'blue';\np3 = [];\np3.push(board.create('point',[sx+a+1+b, sy+a+1], {size: 5, strokeColor:'none', fillColor: 'none', withLabel: false}));\np3.push(board.create('point',[sx+a+1+b, sy+a+1+b], {size: 5, strokeColor:'none', fillColor:'none', withLabel: false}));\np3.push(board.create('point',[sx+1+b, sy+a+1+b], {size: 5, strokeColor:'none', fillColor:'none', withLabel: false}));\npol3 = board.create('polygon', p3, {hasInnerPoints: true, fillColor:col3});\ng3 = board.create('group', p3)\ng3.setRotationCenter('centroid')\ng3.setRotationPoints([p3[0], p3[1], p3[3]]);\n\nvar p4, col4, pol4, g4;\ncol4 = 'yellow';\np4 = [];\np4.push(board.create('point',[sx+b, sy+b+1+a], {size: 5, strokeColor:'none', fillColor: 'none', withLabel: false}));\np4.push(board.create('point',[sx, sy+b+1+a], {size: 5, strokeColor:'none', fillColor:'none', withLabel: false}));\np4.push(board.create('point',[sx, sy+b+1], {size: 5, strokeColor:'none', fillColor:'none', withLabel: false}));\npol4 = board.create('polygon', p4, {hasInnerPoints: true, fillColor:col4});\ng4 = board.create('group', p4)\ng4.setRotationCenter('centroid')\ng4.setRotationPoints([p4[0], p4[1], p4[4]]);\n",
              "height": 600,
              "id": "jxgbox",
              "layout": "IPY_MODEL_2b8ad51aa8d54aeeaeaa793dcb7339be",
              "mathjax_url": "https://cdn.jsdelivr.net/npm/mathjax@3/es5/tex-chtml.js",
              "width": 600
            }
          },
          "e86eaa1beae24cc8b8785552e2d91f4e": {
            "model_module": "@jupyter-widgets/base",
            "model_module_version": "1.2.0",
            "model_name": "LayoutModel",
            "state": {}
          },
          "f1e86a6402764c2096c108b5352ea8da": {
            "model_module": "jupyter-divewidgets",
            "model_module_version": "^0.1.0",
            "model_name": "JSXGraphModel",
            "state": {
              "_model_module_version": "^0.1.0",
              "_view_module_version": "^0.1.0",
              "code": "JXG.Options.text.useMathJax = true;\nvar board = JXG.JSXGraph.initBoard('jxgbox', {boundingbox: [-1, 13, 15, -3], axis:true, keepaspectratio:true,  showCopyright:false});\nvar a = board.create('slider', [[1, -1], [5,-1], [2, 6, 7]], {name:'a', snapWidth: 0.1});\nvar b = board.create('slider', [[8, -1], [12,-1], [2, 3, 7]], {name:'b', snapWidth: 0.1});\nvar m = board.create('slider', [[1, -2], [12,-2], [0, 0, 2]], {name:'move', snapWidth: 0.1, withLabel:false});\nboard.create('text',[1+m.point2.X(),m.point2.Y(),\"move\"],{fixed: true, anchorX: 'middle'});\nvar s = board.create('point', [1,1],{face:\"\", withLabel:false});\nvar right_ab = board.create('transform', [()=>a.Value()+b.Value(),0], {type:'translate'});\nvar right_a = board.create('transform', [()=>a.Value(),0], {type:'translate'});\nvar right_b = board.create('transform', [()=>b.Value(),0], {type:'translate'});\nvar left_a = board.create('transform', [()=> -a.Value(),0], {type:'translate'});\nvar left_b = board.create('transform', [()=> -b.Value(),0], {type:'translate'});\nvar up_ab = board.create('transform', [0,()=>a.Value()+b.Value()], {type:'translate'});\nvar up_a = board.create('transform', [0,()=>a.Value()], {type:'translate'});\nvar up_b = board.create('transform', [0,()=>b.Value()], {type:'translate'});\nvar down_a = board.create('transform', [0,()=> -a.Value()], {type:'translate'});\nvar down_b = board.create('transform', [0,()=> -b.Value()], {type:'translate'});\nvar no_move = board.create('transform', [0,0], {type:'translate'});\n\n\nvar r2 = board.create('point', [s,right_ab], {visible: false});\nvar po0 =  board.create('regularpolygon',[s,r2,4], \n                        {withLines: true, fillColor:'none', highlightFillColor:'none',\n                         vertices:{face:'', withLabel: false},\n                         borders: {strokeWidth:1, strokeColor:'black'}});\n\nvar tri1 = [];\ntri1[0] = board.create('point', [s, up_b], {visible: false});\ntri1[1] = board.create('point', [tri1[0], down_b], {visible: false});\ntri1[2] = board.create('point', [tri1[0], [down_b,right_a]], {visible: false});\nvar po1 = board.create('polygon',[tri1[0],tri1[1],tri1[2]], \n                        {withLines: true, fillColor:'red', highlightFillColor:'none',\n                         vertices:{face:'', withLabel: false},\n                         borders: {strokeWidth:1, strokeColor:'black'}});\n\nboard.create('segment',[tri1[0],tri1[1]],{strokeWidth:0, withLabel: true, name:'b', label:{offset:[-10, b.Value()/2]}});\nboard.create('segment',[tri1[1],tri1[2]],{strokeWidth:0, withLabel: true, name:'a', label:{offset:[a.Value()/2, -10]}});\nboard.create('segment',[tri1[2],tri1[0]],{strokeWidth:0, withLabel: true, name:'c', label:{offset:[a.Value()/2-10, b.Value()/2-10]}});\n\nvar move_tri2 = board.create('transform', [()=>a.Value(), ()=>b.Value()*(1-Math.min(m.Value(),1))], {type:'translate'});\nvar tri2 = [];\ntri2[0] = board.create('point', [s, move_tri2], {visible: false});\ntri2[1] = board.create('point', [tri2[0], right_b], {visible: false});\ntri2[2] = board.create('point', [tri2[0], [right_b,up_a]], {visible: false});\nvar po2 = board.create('polygon',[tri2[0],tri2[1],tri2[2]], \n                        {withLines: true, fillColor:'green', highlightFillColor:'none',\n                         vertices:{face:'', withLabel: false},\n                         borders: {strokeWidth:1, strokeColor:'black'}});\n\nvar move_tri3 = board.create('transform', [()=>a.Value()+b.Value()*(Math.max(m.Value(),1)-1), ()=>a.Value()*(Math.max(m.Value(),1)-1)], {type:'translate'});\nvar tri3 = [];\ntri3[0] = board.create('point', [s, move_tri3], {visible: false});\ntri3[1] = board.create('point', [tri3[0], up_b], {visible: false});\ntri3[2] = board.create('point', [tri3[0], [up_b,left_a]], {visible: false});\nvar po3 = board.create('polygon',[tri3[0],tri3[1],tri3[2]], \n                        {withLines: true, fillColor:'blue', highlightFillColor:'none',\n                         vertices:{face:'', withLabel: false},\n                         borders: {strokeWidth:1, strokeColor:'black'}});\n\n\nvar move_tri4 = board.create('transform', [()=>b.Value()+a.Value()*(1-Math.min(m.Value(),1)), ()=>a.Value()+b.Value()], {type:'translate'});\nvar tri4 = [];\ntri4[0] = board.create('point', [s, move_tri4], {visible: false});\ntri4[1] = board.create('point', [tri4[0], left_b], {visible: false});\ntri4[2] = board.create('point', [tri4[0], [left_b,down_a]], {visible: false});\nvar po4 = board.create('polygon',[tri4[0],tri4[1],tri4[2]], \n                        {withLines: true, fillColor:'yellow', highlightFillColor:'none',\n                         vertices:{face:'', withLabel: false},\n                         borders: {strokeWidth:1, strokeColor:'black'}});\n\nboard.create('text',[()=>s.X()+1/2*a.Value(),()=>s.Y()+b.Value()+1/2*a.Value(),function(){\n        return '\\\\[ a^2 \\\\]';\n    }],{visible: ()=> {return (m.Value()<0.3);}, anchorX: 'middle', anchorY: 'auto'});\n\nboard.create('text',[()=>s.X()+a.Value()+1/2*b.Value(),()=>s.Y()+1/2*b.Value(),function(){\n    return '\\\\[b^2\\\\]';\n    }],{visible: ()=> {return (m.Value()<0.3);}, anchorX: 'middle', anchorY: 'auto'});\n\nboard.create('text',[()=>s.X()+1/2*(a.Value()+b.Value()),()=>s.Y()+1/2*(a.Value()+b.Value()),function(){\n    return '\\\\[c^2\\\\]';\n    }],{visible: ()=> {return (m.Value()>1.9);}, anchorX: 'middle', anchorY: 'auto'});\n",
              "height": 600,
              "id": "jxgbox",
              "layout": "IPY_MODEL_8d5e66811a0b490daf2cc56ff654dde9",
              "mathjax_url": "https://cdn.jsdelivr.net/npm/mathjax@3/es5/tex-chtml.js",
              "width": 600
            }
          }
        },
        "version_major": 2,
        "version_minor": 0
      }
    }
  },
  "nbformat": 4,
  "nbformat_minor": 4
}
