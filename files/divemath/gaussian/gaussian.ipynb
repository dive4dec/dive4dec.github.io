{
  "metadata": {
    "kernelspec": {
      "name": "xeus-python",
      "display_name": "Python (XPython)",
      "language": "python"
    },
    "language_info": {
      "file_extension": ".py",
      "mimetype": "text/x-python",
      "name": "python",
      "version": "3.10.2"
    },
    "widgets": {
      "application/vnd.jupyter.widget-state+json": {
        "version_major": 2,
        "version_minor": 0,
        "state": {}
      }
    }
  },
  "nbformat_minor": 5,
  "nbformat": 4,
  "cells": [
    {
      "cell_type": "markdown",
      "source": "# Normal Distribution",
      "metadata": {},
      "id": "0f46f574-3cc4-4906-9d8c-01948f92edaa"
    },
    {
      "cell_type": "markdown",
      "source": "**DIVE into Math**\n\n---",
      "metadata": {},
      "id": "bca412f9-5f7d-4dd0-b0a3-773b31c159f7"
    },
    {
      "cell_type": "markdown",
      "source": "Contributor(s): \n\n- Zhenda SHEN  \n- Chung Chan\n\n---",
      "metadata": {},
      "id": "5d95910e-1abf-4169-ad79-d9d725270963"
    },
    {
      "cell_type": "code",
      "source": "%reload_ext divewidgets",
      "metadata": {
        "jp-MarkdownHeadingCollapsed": true,
        "tags": []
      },
      "execution_count": null,
      "outputs": [],
      "id": "eebfea0e-8431-4981-8a42-1adde920713f"
    },
    {
      "cell_type": "markdown",
      "source": "## Probability density function",
      "metadata": {},
      "id": "c1b81fa4-201e-436e-98ac-1f9c31a41415"
    },
    {
      "cell_type": "markdown",
      "source": "A continuous random variable is a random variable that takes infinite number of values, either bounded or unbounded.\n\nExamples:\n* Height of students in cm\n* Survival time of pigs in days\n* Customer service time in a bank in mins\n",
      "metadata": {},
      "id": "663fc216-4f7c-48a6-b724-66fed2f8e421"
    },
    {
      "cell_type": "markdown",
      "source": "Probability Density Function(pdf) measures the probability distribution of a continuous random variable.\n\nFor a random variable X, the pdf is f(x) if $$P (X∈ B)= \\int_{B}^{} f(x)dx.$$\n\nThe proporties of Probability Density function are as follows:\n\n$$\\int\\limits_{-\\infty}^{+\\infty} f(x)dx=1 $$\n\n$$ f(x) \\geq 0, {∀} x\\in (-\\infty,+\\infty)$$\n\n$$P(a\\leq X \\leq b)= \\int\\limits_{a}^{b} f(x)dx$$\n\n$$P(X=a)= \\int\\limits_{a}^{a} f(x)dx=0$$\n\n$$P(X<a)= \\int\\limits_{-∞}^{a} f(x)dx$$\n",
      "metadata": {},
      "id": "99fe3988-f8bc-4538-b8f2-401d24f7fd34"
    },
    {
      "cell_type": "markdown",
      "source": "## The concept and properties of the normal distribution\n",
      "metadata": {},
      "id": "bff78569-b04f-45bd-9d61-82f4dcd74a80"
    },
    {
      "cell_type": "markdown",
      "source": "We say that X is a normal(Gaussian) random variable with parameters \\mu and $\\sigma^2$ if the Probability Density Function is given by \n\n$$ f(x)= \\frac{1}{\\sqrt{2\\pi}\\sigma } e^{\\frac{-(x-\\mu)^2}{2{\\sigma}^2 }  }$$  ",
      "metadata": {},
      "id": "49f051e8-0136-46ad-860d-585aef137274"
    },
    {
      "cell_type": "code",
      "source": "%%jsxgraph -w 700 -h 300\nJXG.Options.text.useMathJax = true;\nvar brd = JXG.JSXGraph.initBoard('box', {\n    boundingbox: [-8, 2, 8, -0.5],\n    axis: true,\n    showCopyright: false\n});\nvar a = brd.create('slider', [\n    [3, 1],\n    [6, 1],\n    [-2, 0, 2]\n], {\n    name: 'μ',\n    snapWidth: 0.1\n});\nvar b = brd.create('slider', [\n    [3, 0.5],\n    [6, 0.5],\n    [0.3, 1, 3]\n], {\n    name: 'σ',\n    snapWidth: 0.1\n});\n\nline1= brd.create('line', [[function(){return a.Value()},-10],[function(){return a.Value()},10]], {dash: 2,strokeColor:'green'} );\ngraph1=brd.create('functiongraph', [function(x) {\n    return Math.E**((-(x-a.Value())*(x-a.Value()))/(2*b.Value()*b.Value()))/((Math.sqrt(2*Math.PI))*b.Value());\n}, -10, 10]);\nvar inte_m = brd.create('intersection',[brd.defaultAxes.x, line1, 0],{\n    name: 'μ',\n    });\n",
      "metadata": {},
      "execution_count": null,
      "outputs": [],
      "id": "e13154a5-2c8e-46c8-9666-ef17c9634fb3"
    },
    {
      "cell_type": "markdown",
      "source": "The properties of normal random variables:\n* Assume $\\R{X}$ is a normal random variable, $\\R{X}\\sim \\mathcal{N}(\\mu,\\sigma^2)$ \n$$ E[\\R{X}]=\\mu,$$\n$$ Var[\\R{X}]=\\sigma^2.$$\n* Linear transformation of normal random variable:  \nIf $\\R{X}$ is a normal random variable, $\\R{X}\\sim \\mathcal{N}(\\mu,\\sigma^2)$ , then $\\R{Y}=a\\R{X}+b$ is also a normal random variable, $\\R{Y}\\sim \\mathcal{N}(a\\mu+b,a^2\\sigma^2).$ ",
      "metadata": {},
      "id": "b1b23fdc-f293-4c85-98ed-452f8b35e2c2"
    },
    {
      "cell_type": "markdown",
      "source": "## Standardisation of a normal variable and application of the normal distribution\n",
      "metadata": {},
      "id": "0cffb7ef-18b8-49ef-a0c3-284d36f07e68"
    },
    {
      "cell_type": "markdown",
      "source": "If $\\R{X}$ is normally distributed with parameters $\\mu$ and $\\sigma^2$, Then $\\R{Z}=(\\R{X}-\\mu)/\\sigma$ is normally distributed with parameters $\\mu=0$ and $\\sigma^2=1$. Such a random variable is said to be a **standard normal random variable**.",
      "metadata": {},
      "id": "0920c0dc-12de-4784-b69b-8bcc470c9afc"
    },
    {
      "cell_type": "markdown",
      "source": "We say that X is a normal(Gaussian) random variable with parameters $\\mu$ and $\\sigma^2$ if the Probability Density Function is given by \n\n$$ f(x)= \\frac{1}{\\sqrt{2\\pi}\\sigma } e^{\\frac{-(x-\\mu)^2}{2{\\sigma}^2 }  }$$  \n\nThe Cumulative Distribution Function is given by\n\n$$\\Phi(x)=\\frac{1}{\\sqrt{2\\pi}}  \\int_{-\\infty }^{x} e^{-\\frac{y^2}{2}}dy$$\n\nNeed to be mentioned here, \n\n$$P(x \\leq X)=\\Phi(x)$$\n\nThe geometric meaning of $ \\Phi(x)$ is the area bounded by $x$-axis, the normal distribution graph and the verticle line at $x$.",
      "metadata": {},
      "id": "bb3d544f-b19a-4f9f-8b4f-3ac2dbee83ae"
    },
    {
      "cell_type": "markdown",
      "source": "**Symmetric property of $\\Phi(x)$ (Assumed $X \\geq 0$)**\n\n$$P(x \\leq -X)=P(x \\geq X), $$ \n\nEquivalently,\n\n$$\\Phi(x)=1 - \\Phi(-x)$$\n\n$$P(a \\leq x \\leq b)=\\Phi(b) -\\Phi(a)$$",
      "metadata": {},
      "id": "47dd287e-5b89-4b2c-9a71-b22bd745e017"
    },
    {
      "cell_type": "code",
      "source": "%%jsxgraph -w 700 -h 300\n\nvar brd = JXG.JSXGraph.initBoard('box', {\n    boundingbox: [-4.5, 1.5, 4.5, -0.5],\n    axis: true,\n    showCopyright: false\n});\nvar a = brd.create('slider', [\n    [1, 1],\n    [3 ,1],\n    [-3, -2, 0]\n], {\n    name: 'x_1',\n    snapWidth: 0.1\n});\nvar b = brd.create('slider', [\n    [1, 0.5],\n    [3, 0.5],\n    [0, 2, 3]\n], {\n    name: 'x_2',\n    snapWidth: 0.1\n});\nvar line2 = brd.create('line',[[function(){return b.Value()},-10],[function(){return b.Value()},10]], {dash: 2,strokeColor:'green'} );\nvar line1= brd.create('line', [[function(){return a.Value()},-10],[function(){return a.Value()},10]], {dash: 2,strokeColor:'green'} );\nvar graph1=brd.create('functiongraph', [function(x) { return Math.E**((-x*x)/2)/((Math.sqrt(2*Math.PI))) }, -5, 7]);\nvar inte_1 = brd.create('intersection',[graph1, line1, 0],{\n    name: \"x_1\",\n    });\nvar inte_2=brd.create('intersection',[graph1, line2, 0],{\n    name: \"x_2\",\n});",
      "metadata": {},
      "execution_count": null,
      "outputs": [],
      "id": "82c125d3-0ff8-4ed3-955f-bfac09543c1a"
    },
    {
      "cell_type": "markdown",
      "source": "Suppose $X$ is a normal random variable with parameters $\\mu$ and $\\sigma^2$ and $Z=(X- \\mu)/ \\sigma$ is a standard normal random variable \n\n$$\n\\begin{align}\nP(X \\le x) &=P(\\frac{X- \\mu}{\\sigma} \\\\\n&\\le \\frac{x- \\mu}{\\sigma})\\\\ \n&=P(Z \\le \\frac{x- \\mu}{\\sigma})\\\\\n&=\\Phi(\\frac{x- \\mu}{\\sigma}) \n\\end{align}\n$$\n\nThat is, the CDF of a normal random variable with parameters $\\mu$ and $\\sigma^2$ is $\\Phi(\\frac{x-\\mu}{\\sigma}).$",
      "metadata": {},
      "id": "7e0943b9-0801-4abf-8414-56e9f21496a3"
    },
    {
      "cell_type": "markdown",
      "source": "**Exercise**\n\nSuppose an expert witness in a paternity suit testifies that the length (in days) of pregnancy is approximately normally distributed with mean 270 and variance 100. The defendant in the suit is able to prove that he was out of the country during a period that began 290 days before the birth of the child and ended 240 days before the birth. If the defendant was, in fact, the father of the child, what is the probability that the mother would have been the very long or very short pregnancy \nindicated by the testimony?\n",
      "metadata": {},
      "id": "e92c9a0f-570f-4552-b15d-bff503f91789"
    },
    {
      "cell_type": "markdown",
      "source": "YOUR ANSWER HERE",
      "metadata": {
        "deletable": false,
        "nbgrader": {
          "cell_type": "markdown",
          "checksum": "11b903531c3dc15001aba9cee6eb2924",
          "grade": true,
          "grade_id": "p1",
          "locked": false,
          "points": 1,
          "schema_version": 3,
          "solution": true,
          "task": false
        },
        "tags": []
      },
      "id": "7a4c31b8-bd16-4d59-862f-cc7f9972d77d"
    },
    {
      "cell_type": "markdown",
      "source": "Useful information about standard normal random variable:\n\n$$ P(\\mu - \\sigma \\leq X \\leq \\mu + \\sigma) \\approx 0.68$$\n\n$$ P(\\mu - 2\\sigma \\leq X \\leq \\mu + 2\\sigma) \\approx 0.95$$\n\n$$P(\\mu - 3\\sigma \\leq X \\leq \\mu + 3\\sigma) \\approx 0.997$$ ",
      "metadata": {},
      "id": "e2859222-3865-4552-a0b6-201bba06a029"
    },
    {
      "cell_type": "markdown",
      "source": "**Exercise**\n\nSuppose the army is developing a new missile. By observing points of impact, launchers can control the mean of its impact distribution. If the standard deviation of the impact distribution is too large, though, the missile will be ineffective. Suppose the Pentagon requires that at least 95% of the missiles must fall within 1/8 mile of the target when the missiles are aimed properly. Assume the impact distribution is normal. What is the maximum allowable standard deviation?\n",
      "metadata": {},
      "id": "45c872f3-ccaa-4118-80cc-daa0b7b14836"
    },
    {
      "cell_type": "markdown",
      "source": "YOUR ANSWER HERE",
      "metadata": {
        "deletable": false,
        "nbgrader": {
          "cell_type": "markdown",
          "checksum": "60fdd1f7ebf4bcb905d160e67f88525a",
          "grade": true,
          "grade_id": "p2",
          "locked": false,
          "points": 1,
          "schema_version": 3,
          "solution": true,
          "task": false
        },
        "tags": []
      },
      "id": "c20e1e57-7a5a-4568-986f-be14f8d411e6"
    }
  ]
}