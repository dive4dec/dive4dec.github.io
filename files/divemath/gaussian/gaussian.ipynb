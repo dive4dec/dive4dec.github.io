{
 "cells": [
  {
   "cell_type": "markdown",
   "id": "0f46f574-3cc4-4906-9d8c-01948f92edaa",
   "metadata": {},
   "source": [
    "# Normal Distribution"
   ]
  },
  {
   "cell_type": "markdown",
   "id": "bca412f9-5f7d-4dd0-b0a3-773b31c159f7",
   "metadata": {},
   "source": [
    "**DIVE into Math**\n",
    "\n",
    "---"
   ]
  },
  {
   "cell_type": "markdown",
   "id": "5d95910e-1abf-4169-ad79-d9d725270963",
   "metadata": {},
   "source": [
    "Contributor(s): \n",
    "\n",
    "- Zhenda SHEN  \n",
    "\n",
    "---"
   ]
  },
  {
   "cell_type": "code",
   "execution_count": null,
   "id": "eebfea0e-8431-4981-8a42-1adde920713f",
   "metadata": {
    "jp-MarkdownHeadingCollapsed": true,
    "tags": []
   },
   "outputs": [],
   "source": [
    "%reload_ext divewidgets"
   ]
  },
  {
   "cell_type": "markdown",
   "id": "c1b81fa4-201e-436e-98ac-1f9c31a41415",
   "metadata": {},
   "source": [
    "## Probability density function"
   ]
  },
  {
   "cell_type": "markdown",
   "id": "663fc216-4f7c-48a6-b724-66fed2f8e421",
   "metadata": {},
   "source": [
    "A continuous random variable is a random variable that takes infinite number of values, either bounded or unbounded.\n",
    "\n",
    "Examples:\n",
    "* Height of students in cm\n",
    "* Survival time of pigs in days\n",
    "* Customer service time in a bank in mins\n"
   ]
  },
  {
   "cell_type": "markdown",
   "id": "99fe3988-f8bc-4538-b8f2-401d24f7fd34",
   "metadata": {},
   "source": [
    "Probability Density Function(pdf) measures the probability distribution of a continuous random variable.\n",
    "\n",
    "For a random variable X, the pdf is f(x) if $$P (X∈ B)= \\int_{B}^{} f(x)dx.$$\n",
    "\n",
    "The proporties of Probability Density function are as follows:\n",
    "\n",
    "$$\\int\\limits_{-\\infty}^{+\\infty} f(x)dx=1 $$\n",
    "\n",
    "$$ f(x) \\geq 0, {∀} x\\in (-\\infty,+\\infty)$$\n",
    "\n",
    "$$P(a\\leq X \\leq b)= \\int\\limits_{a}^{b} f(x)dx$$\n",
    "\n",
    "$$P(X=a)= \\int\\limits_{a}^{a} f(x)dx=0$$\n",
    "\n",
    "$$P(X<a)= \\int\\limits_{-∞}^{a} f(x)dx$$\n"
   ]
  },
  {
   "cell_type": "markdown",
   "id": "bff78569-b04f-45bd-9d61-82f4dcd74a80",
   "metadata": {},
   "source": [
    "## The concept and properties of the normal distribution\n"
   ]
  },
  {
   "cell_type": "markdown",
   "id": "49f051e8-0136-46ad-860d-585aef137274",
   "metadata": {},
   "source": [
    "We say that X is a normal(Gaussian) random variable with parameters \\mu and $\\sigma^2$ if the Probability Density Function is given by \n",
    "\n",
    "$$ f(x)= \\frac{1}{\\sqrt{2\\pi}\\sigma } e^{\\frac{-(x-\\mu)^2}{2{\\sigma}^2 }  }$$  "
   ]
  },
  {
   "cell_type": "code",
   "execution_count": null,
   "id": "e13154a5-2c8e-46c8-9666-ef17c9634fb3",
   "metadata": {
    "jupyter": {
     "source_hidden": true
    },
    "tags": []
   },
   "outputs": [],
   "source": [
    "%%jsxgraph -w 700 -h 300\n",
    "JXG.Options.text.useMathJax = true;\n",
    "var brd = JXG.JSXGraph.initBoard('box', {\n",
    "    boundingbox: [-8, 2, 8, -0.5],\n",
    "    axis: true,\n",
    "    showCopyright: false\n",
    "});\n",
    "var a = brd.create('slider', [\n",
    "    [3, 1],\n",
    "    [6, 1],\n",
    "    [-2, 0, 2]\n",
    "], {\n",
    "    name: 'μ',\n",
    "    snapWidth: 0.1\n",
    "});\n",
    "var b = brd.create('slider', [\n",
    "    [3, 0.5],\n",
    "    [6, 0.5],\n",
    "    [0.3, 1, 3]\n",
    "], {\n",
    "    name: 'σ',\n",
    "    snapWidth: 0.1\n",
    "});\n",
    "\n",
    "line1= brd.create('line', [[function(){return a.Value()},-10],[function(){return a.Value()},10]], {dash: 2,strokeColor:'green'} );\n",
    "graph1=brd.create('functiongraph', [function(x) {\n",
    "    return Math.E**((-(x-a.Value())*(x-a.Value()))/(2*b.Value()*b.Value()))/((Math.sqrt(2*Math.PI))*b.Value());\n",
    "}, -10, 10]);\n",
    "var inte_m = brd.create('intersection',[brd.defaultAxes.x, line1, 0],{\n",
    "    name: 'μ',\n",
    "    });\n"
   ]
  },
  {
   "cell_type": "markdown",
   "id": "b1b23fdc-f293-4c85-98ed-452f8b35e2c2",
   "metadata": {},
   "source": [
    "The properties of normal random variables:\n",
    "* Assume $\\R{X}$ is a normal random variable, $\\R{X}\\sim \\mathcal{N}(\\mu,\\sigma^2)$ \n",
    "$$ E[\\R{X}]=\\mu,$$\n",
    "$$ Var[\\R{X}]=\\sigma^2.$$\n",
    "* Linear transformation of normal random variable:  \n",
    "If $\\R{X}$ is a normal random variable, $\\R{X}\\sim \\mathcal{N}(\\mu,\\sigma^2)$ , then $\\R{Y}=a\\R{X}+b$ is also a normal random variable, $\\R{Y}\\sim \\mathcal{N}(a\\mu+b,a^2\\sigma^2).$ "
   ]
  },
  {
   "cell_type": "markdown",
   "id": "0cffb7ef-18b8-49ef-a0c3-284d36f07e68",
   "metadata": {},
   "source": [
    "## Standardisation of a normal variable and application of the normal distribution\n"
   ]
  },
  {
   "cell_type": "markdown",
   "id": "0920c0dc-12de-4784-b69b-8bcc470c9afc",
   "metadata": {},
   "source": [
    "If $\\R{X}$ is normally distributed with parameters $\\mu$ and $\\sigma^2$, Then $\\R{Z}=(\\R{X}-\\mu)/\\sigma$ is normally distributed with parameters $\\mu=0$ and $\\sigma^2=1$. Such a random variable is said to be a **standard normal random variable**."
   ]
  },
  {
   "cell_type": "markdown",
   "id": "bb3d544f-b19a-4f9f-8b4f-3ac2dbee83ae",
   "metadata": {},
   "source": [
    "We say that X is a normal(Gaussian) random variable with parameters $\\mu$ and $\\sigma^2$ if the Probability Density Function is given by \n",
    "\n",
    "$$ f(x)= \\frac{1}{\\sqrt{2\\pi}\\sigma } e^{\\frac{-(x-\\mu)^2}{2{\\sigma}^2 }  }$$  \n",
    "\n",
    "The Cumulative Distribution Function is given by\n",
    "\n",
    "$$\\Phi(x)=\\frac{1}{\\sqrt{2\\pi}}  \\int_{-\\infty }^{x} e^{-\\frac{y^2}{2}}dy$$\n",
    "\n",
    "Need to be mentioned here, \n",
    "\n",
    "$$P(x \\leq X)=\\Phi(x)$$\n",
    "\n",
    "The geometric meaning of $ \\Phi(x)$ is the area bounded by $x$-axis, the normal distribution graph and the verticle line at $x$."
   ]
  },
  {
   "cell_type": "markdown",
   "id": "47dd287e-5b89-4b2c-9a71-b22bd745e017",
   "metadata": {},
   "source": [
    "**Symmetric property of $\\Phi(x)$ (Assumed $X \\geq 0$)**\n",
    "\n",
    "$$P(x \\leq -X)=P(x \\geq X), $$ \n",
    "\n",
    "Equivalently,\n",
    "\n",
    "$$\\Phi(x)=1 - \\Phi(-x)$$\n",
    "\n",
    "$$P(a \\leq x \\leq b)=\\Phi(b) -\\Phi(a)$$"
   ]
  },
  {
   "cell_type": "code",
   "execution_count": null,
   "id": "82c125d3-0ff8-4ed3-955f-bfac09543c1a",
   "metadata": {
    "jupyter": {
     "source_hidden": true
    },
    "tags": []
   },
   "outputs": [],
   "source": [
    "%%jsxgraph -w 700 -h 300\n",
    "\n",
    "var brd = JXG.JSXGraph.initBoard('box', {\n",
    "    boundingbox: [-4.5, 1.5, 4.5, -0.5],\n",
    "    axis: true,\n",
    "    showCopyright: false\n",
    "});\n",
    "var a = brd.create('slider', [\n",
    "    [1, 1],\n",
    "    [3 ,1],\n",
    "    [-3, -2, 0]\n",
    "], {\n",
    "    name: 'x_1',\n",
    "    snapWidth: 0.1\n",
    "});\n",
    "var b = brd.create('slider', [\n",
    "    [1, 0.5],\n",
    "    [3, 0.5],\n",
    "    [0, 2, 3]\n",
    "], {\n",
    "    name: 'x_2',\n",
    "    snapWidth: 0.1\n",
    "});\n",
    "var line2 = brd.create('line',[[function(){return b.Value()},-10],[function(){return b.Value()},10]], {dash: 2,strokeColor:'green'} );\n",
    "var line1= brd.create('line', [[function(){return a.Value()},-10],[function(){return a.Value()},10]], {dash: 2,strokeColor:'green'} );\n",
    "var graph1=brd.create('functiongraph', [function(x) { return Math.E**((-x*x)/2)/((Math.sqrt(2*Math.PI))) }, -5, 7]);\n",
    "var inte_1 = brd.create('intersection',[graph1, line1, 0],{\n",
    "    name: \"x_1\",\n",
    "    });\n",
    "var inte_2=brd.create('intersection',[graph1, line2, 0],{\n",
    "    name: \"x_2\",\n",
    "});"
   ]
  },
  {
   "cell_type": "markdown",
   "id": "7e0943b9-0801-4abf-8414-56e9f21496a3",
   "metadata": {},
   "source": [
    "Suppose $X$ is a normal random variable with parameters $\\mu$ and $\\sigma^2$ and $Z=(X- \\mu)/ \\sigma$ is a standard normal random variable \n",
    "\n",
    "$$\n",
    "\\begin{align}\n",
    "P(X \\le x) &=P(\\frac{X- \\mu}{\\sigma} \\\\\n",
    "&\\le \\frac{x- \\mu}{\\sigma})\\\\ \n",
    "&=P(Z \\le \\frac{x- \\mu}{\\sigma})\\\\\n",
    "&=\\Phi(\\frac{x- \\mu}{\\sigma}) \n",
    "\\end{align}\n",
    "$$\n",
    "\n",
    "That is, the CDF of a normal random variable with parameters $\\mu$ and $\\sigma^2$ is $\\Phi(\\frac{x-\\mu}{\\sigma}).$"
   ]
  },
  {
   "cell_type": "markdown",
   "id": "e92c9a0f-570f-4552-b15d-bff503f91789",
   "metadata": {},
   "source": [
    "**Exercise**\n",
    "\n",
    "Suppose an expert witness in a paternity suit testifies that the length (in days) of pregnancy is approximately normally distributed with mean 270 and variance 100. The defendant in the suit is able to prove that he was out of the country during a period that began 290 days before the birth of the child and ended 240 days before the birth. If the defendant was, in fact, the father of the child, what is the probability that the mother would have been the very long or very short pregnancy \n",
    "indicated by the testimony?\n"
   ]
  },
  {
   "cell_type": "markdown",
   "id": "7a4c31b8-bd16-4d59-862f-cc7f9972d77d",
   "metadata": {
    "deletable": false,
    "nbgrader": {
     "cell_type": "markdown",
     "checksum": "11b903531c3dc15001aba9cee6eb2924",
     "grade": true,
     "grade_id": "p1",
     "locked": false,
     "points": 1,
     "schema_version": 3,
     "solution": true,
     "task": false
    },
    "tags": []
   },
   "source": [
    "YOUR ANSWER HERE"
   ]
  },
  {
   "cell_type": "markdown",
   "id": "e2859222-3865-4552-a0b6-201bba06a029",
   "metadata": {},
   "source": [
    "Useful information about standard normal random variable:\n",
    "\n",
    "$$ P(\\mu - \\sigma \\leq X \\leq \\mu + \\sigma) \\approx 0.68$$\n",
    "\n",
    "$$ P(\\mu - 2\\sigma \\leq X \\leq \\mu + 2\\sigma) \\approx 0.95$$\n",
    "\n",
    "$$P(\\mu - 3\\sigma \\leq X \\leq \\mu + 3\\sigma) \\approx 0.997$$ "
   ]
  },
  {
   "cell_type": "markdown",
   "id": "45c872f3-ccaa-4118-80cc-daa0b7b14836",
   "metadata": {},
   "source": [
    "**Exercise**\n",
    "\n",
    "Suppose the army is developing a new missile. By observing points of impact, launchers can control the mean of its impact distribution. If the standard deviation of the impact distribution is too large, though, the missile will be ineffective. Suppose the Pentagon requires that at least 95% of the missiles must fall within 1/8 mile of the target when the missiles are aimed properly. Assume the impact distribution is normal. What is the maximum allowable standard deviation?\n"
   ]
  },
  {
   "cell_type": "markdown",
   "id": "c20e1e57-7a5a-4568-986f-be14f8d411e6",
   "metadata": {
    "deletable": false,
    "nbgrader": {
     "cell_type": "markdown",
     "checksum": "60fdd1f7ebf4bcb905d160e67f88525a",
     "grade": true,
     "grade_id": "p2",
     "locked": false,
     "points": 1,
     "schema_version": 3,
     "solution": true,
     "task": false
    },
    "tags": []
   },
   "source": [
    "YOUR ANSWER HERE"
   ]
  }
 ],
 "metadata": {
  "kernelspec": {
   "display_name": "Python (XPython)",
   "language": "python",
   "name": "xeus-python"
  },
  "language_info": {
   "codemirror_mode": {
    "name": "ipython",
    "version": 3
   },
   "file_extension": ".py",
   "mimetype": "text/x-python",
   "name": "python",
   "nbconvert_exporter": "python",
   "pygments_lexer": "ipython3",
   "version": "3.10.6"
  },
  "widgets": {
   "application/vnd.jupyter.widget-state+json": {
    "state": {
     "201b1bdbf1614746a9da701c53f93053": {
      "model_module": "@jupyter-widgets/base",
      "model_module_version": "2.0.0",
      "model_name": "LayoutModel",
      "state": {}
     },
     "9be6524650984ed6b4453449861a55dc": {
      "model_module": "jupyter-divewidgets",
      "model_module_version": "^0.1.5",
      "model_name": "JSWidgetModel",
      "state": {
       "_model_module_version": "^0.1.5",
       "_view_module_version": "^0.1.5",
       "height": 300,
       "html": "<!DOCTYPE html>\n<html>\n    <head>\n    <style>\n    html, body {\n        height: 100%;\n    }\n    body {\n        width: 100%;\n        display: flex;\n        padding: 0;\n        margin: 0;\n    }\n    .jxgbox {\n        width:100%; \n        flex-grow: 1;\n    }\n    </style>\n    <link rel=\"stylesheet\" type=\"text/css\" href=\"https://jsxgraph.org/distrib/jsxgraph.css\" />\n    <script type=\"text/javascript\" src=\"https://cdn.jsdelivr.net/npm/jsxgraph/distrib/jsxgraphcore.js\"></script>\n    <script type=\"text/javascript\" src=\"https://cdn.jsdelivr.net/npm/mathjax@3/es5/tex-chtml.js\"></script>\n    </head>\n<body>\n<div id=\"box\" class=\"jxgbox\"></div>\n</body>\n</html>",
       "js": "JXG.Options.text.useMathJax = true;\nvar brd = JXG.JSXGraph.initBoard('box', {\n    boundingbox: [-8, 2, 8, -0.5],\n    axis: true,\n    showCopyright: false\n});\nvar a = brd.create('slider', [\n    [3, 1],\n    [6, 1],\n    [-2, 0, 2]\n], {\n    name: 'μ',\n    snapWidth: 0.1\n});\nvar b = brd.create('slider', [\n    [3, 0.5],\n    [6, 0.5],\n    [0.3, 1, 3]\n], {\n    name: 'σ',\n    snapWidth: 0.1\n});\n\nline1= brd.create('line', [[function(){return a.Value()},-10],[function(){return a.Value()},10]], {dash: 2,strokeColor:'green'} );\ngraph1=brd.create('functiongraph', [function(x) {\n    return Math.E**((-(x-a.Value())*(x-a.Value()))/(2*b.Value()*b.Value()))/((Math.sqrt(2*Math.PI))*b.Value());\n}, -10, 10]);\nvar inte_m = brd.create('intersection',[brd.defaultAxes.x, line1, 0],{\n    name: 'μ',\n    });",
       "layout": "IPY_MODEL_ca8f7df81b6c4a7da2521bf2717000c3",
       "width": 700
      }
     },
     "ca8f7df81b6c4a7da2521bf2717000c3": {
      "model_module": "@jupyter-widgets/base",
      "model_module_version": "2.0.0",
      "model_name": "LayoutModel",
      "state": {}
     },
     "ddd2746f7da94a108e1fff50ed420304": {
      "model_module": "jupyter-divewidgets",
      "model_module_version": "^0.1.5",
      "model_name": "JSWidgetModel",
      "state": {
       "_model_module_version": "^0.1.5",
       "_view_module_version": "^0.1.5",
       "height": 300,
       "html": "<!DOCTYPE html>\n<html>\n    <head>\n    <style>\n    html, body {\n        height: 100%;\n    }\n    body {\n        width: 100%;\n        display: flex;\n        padding: 0;\n        margin: 0;\n    }\n    .jxgbox {\n        width:100%; \n        flex-grow: 1;\n    }\n    </style>\n    <link rel=\"stylesheet\" type=\"text/css\" href=\"https://jsxgraph.org/distrib/jsxgraph.css\" />\n    <script type=\"text/javascript\" src=\"https://cdn.jsdelivr.net/npm/jsxgraph/distrib/jsxgraphcore.js\"></script>\n    <script type=\"text/javascript\" src=\"https://cdn.jsdelivr.net/npm/mathjax@3/es5/tex-chtml.js\"></script>\n    </head>\n<body>\n<div id=\"box\" class=\"jxgbox\"></div>\n</body>\n</html>",
       "js": "var brd = JXG.JSXGraph.initBoard('box', {\n    boundingbox: [-4.5, 1.5, 4.5, -0.5],\n    axis: true,\n    showCopyright: false\n});\nvar a = brd.create('slider', [\n    [1, 1],\n    [3 ,1],\n    [-3, -2, 0]\n], {\n    name: 'x_1',\n    snapWidth: 0.1\n});\nvar b = brd.create('slider', [\n    [1, 0.5],\n    [3, 0.5],\n    [0, 2, 3]\n], {\n    name: 'x_2',\n    snapWidth: 0.1\n});\nvar line2 = brd.create('line',[[function(){return b.Value()},-10],[function(){return b.Value()},10]], {dash: 2,strokeColor:'green'} );\nvar line1= brd.create('line', [[function(){return a.Value()},-10],[function(){return a.Value()},10]], {dash: 2,strokeColor:'green'} );\nvar graph1=brd.create('functiongraph', [function(x) { return Math.E**((-x*x)/2)/((Math.sqrt(2*Math.PI))) }, -5, 7]);\nvar inte_1 = brd.create('intersection',[graph1, line1, 0],{\n    name: \"x_1\",\n    });\nvar inte_2=brd.create('intersection',[graph1, line2, 0],{\n    name: \"x_2\",\n});",
       "layout": "IPY_MODEL_201b1bdbf1614746a9da701c53f93053",
       "width": 700
      }
     }
    },
    "version_major": 2,
    "version_minor": 0
   }
  }
 },
 "nbformat": 4,
 "nbformat_minor": 5
}
