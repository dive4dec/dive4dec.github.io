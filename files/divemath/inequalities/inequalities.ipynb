{
  "metadata": {
    "kernelspec": {
      "name": "xeus-python",
      "display_name": "Python (XPython)",
      "language": "python"
    },
    "language_info": {
      "file_extension": ".py",
      "mimetype": "text/x-python",
      "name": "python",
      "version": "3.10.2"
    },
    "widgets": {
      "application/vnd.jupyter.widget-state+json": {
        "version_major": 2,
        "version_minor": 0,
        "state": {
          "c7c056ddcb254207a03b9f0acd11a2b4": {
            "model_name": "LayoutModel",
            "model_module": "@jupyter-widgets/base",
            "model_module_version": "1.2.0",
            "state": {}
          },
          "b6fb463fdc974bf79fc22c3763de1a0f": {
            "model_name": "JSWidgetModel",
            "model_module": "jupyter-divewidgets",
            "model_module_version": "^0.1.5",
            "state": {
              "_model_module_version": "^0.1.5",
              "_view_module_version": "^0.1.5",
              "height": 200,
              "html": "<!DOCTYPE html>\n<html>\n    <head>\n    <style>\n    html, body {\n        height: 100%;\n    }\n    body {\n        width: 100%;\n        display: flex;\n        padding: 0;\n        margin: 0;\n    }\n    .jxgbox {\n        width:100%; \n        flex-grow: 1;\n    }\n    </style>\n    <link rel=\"stylesheet\" type=\"text/css\" href=\"https://jsxgraph.org/distrib/jsxgraph.css\" />\n    <script type=\"text/javascript\" src=\"https://cdn.jsdelivr.net/npm/jsxgraph/distrib/jsxgraphcore.js\"></script>\n    <script type=\"text/javascript\" src=\"https://www.cs.cityu.edu.hk/~ccha23/js/load-mathjax.js\"></script>\n    </head>\n<body>\n<div id=\"box\" class=\"jxgbox\"></div>\n</body>\n</html>",
              "js": "JXG.Options.text.useMathJax = true;\n\nvar board = JXG.JSXGraph.initBoard('box', {boundingbox: [-8, 8, 8, -8], axis: true, grid:true, defaultAxes: {y: {visible: false}}, showCopyright: false});\nvar slider1 = board.create(\"slider\", [[2, -3], [5, -3], [-10, 6, 10]], {name: 'Function 1', snapWidth: 0.10, withLabel: true})\nvar slider2 = board.create(\"slider\", [[2, -5], [5, -5], [-10, 4, 10]], {name: 'Function 2', snapWidth: 0.10, withLabel: true})\n\n\nvar p1 = board.create(\"point\", [function(){return 18 / slider1.Value()}, function(){return 0}], {name: 'x1', face:'o', size: 3})\nvar p2 = board.create(\"point\", [function(){return 20/ slider2.Value()}, function () {return 0}], {name: \"x2\", size: 2, fillColor: \"white\"})\n\n\nvar vert1 = board.create(\"line\", [function (){return [p1.X(), 0]}, function() {return [p1.X(), 2]}], {straightFirst:false, straightLast:false})\nvar vert2 = board.create(\"line\", [function (){return [p2.X(), 0]}, function() {return [p2.X(), 3]}], {straightFirst:false, straightLast:false})\n\nvar hort1 = board.create(\"line\", [function (){return [p1.X(), 2]}, [function() {return p1.X() > 0 ? p1.X() - 8 : p1.X() + 8}, 2]], {straightFirst:false, straightLast: false, lastArrow: {type: 1, size: 4}})\nvar hort2 = board.create(\"line\", [function (){return [p2.X(), 3]}, [function() {return p2.X() < 0 ? p2.X() - 8 : p2.X() + 8}, 3]], {straightFirst:false, straightLast: false, lastArrow: {type: 1, size: 4}})\n\n\n\nvar x = board.create(\"line\", [function (){return [p1.X(), 0]}, function() {return [p2.X(), 0]}])\n\n\nvar shade1 = board.create('polygon', [p1, [function(){return p1.X() > 0 ? p1.X() - 8 : p1.X() + 8}, 0], [function(){return p1.X() > 0 ? p1.X() - 8 : p1.X() + 8}, 2], [function(){return p1.X()}, 2]], {borders: {visible: false}, vertices: {visible: false}});\nvar shade1 = board.create('polygon', [p2, [function(){return p2.X() < 0 ? p2.X() - 8 : p2.X() + 8}, 0], [function(){return p2.X() < 0 ? p2.X() - 8 : p2.X() + 8}, 3], [function(){return p2.X()}, 3]], {borders: {visible: false}, vertices: {visible: false}, fillColor: \"blue\"});\n\n\n\nvar functions = board.create(\"text\", [-2, -4.5, function(){\n    return String.raw`\n              \\begin{empheq} \n                 [left={\\text{Function} \\empheqlbrace}]{align}\n                 ${slider1.Value().toFixed(1)}x\\ \\le 18\\nonumber\\\\\n                 and \\nonumber\\\\\n                 ${slider2.Value().toFixed(1)}x\\ \\ge 20\\nonumber\\\\\n              \\end{empheq}`;\n}])",
              "layout": "IPY_MODEL_c7c056ddcb254207a03b9f0acd11a2b4",
              "width": 1000
            }
          },
          "ae91760e720b4017aa0c11c2c08722dd": {
            "model_name": "LayoutModel",
            "model_module": "@jupyter-widgets/base",
            "model_module_version": "1.2.0",
            "state": {}
          },
          "f98ee3d0955a41428062d60ac4e1c5ff": {
            "model_name": "JSWidgetModel",
            "model_module": "jupyter-divewidgets",
            "model_module_version": "^0.1.5",
            "state": {
              "_model_module_version": "^0.1.5",
              "_view_module_version": "^0.1.5",
              "height": 400,
              "html": "<!DOCTYPE html>\n<html>\n    <head>\n    <style>\n    html, body {\n        height: 100%;\n    }\n    body {\n        width: 100%;\n        display: flex;\n        padding: 0;\n        margin: 0;\n    }\n    .jxgbox {\n        width:100%; \n        flex-grow: 1;\n    }\n    </style>\n    <link rel=\"stylesheet\" type=\"text/css\" href=\"https://jsxgraph.org/distrib/jsxgraph.css\" />\n    <script type=\"text/javascript\" src=\"https://cdn.jsdelivr.net/npm/jsxgraph/distrib/jsxgraphcore.js\"></script>\n    <script type=\"text/javascript\" src=\"https://www.cs.cityu.edu.hk/~ccha23/js/load-mathjax.js\"></script>\n    </head>\n<body>\n<div id=\"box\" class=\"jxgbox\"></div>\n</body>\n</html>",
              "js": "JXG.Options.text.useMathJax = true;\nvar board = JXG.JSXGraph.initBoard('box', {boundingbox: [-4, 4, 4, -4], axis:false ,grid:false,  showCopyright:false});\n\nvar slider1 = board.create('slider', [[-3, 3], [1, 3], [-10, 5, 10]], {name:'x value', snapWidth: 0.1});\n//var checkbox = board.create('Checkbox', [2, 2, 'Change Y'], {});\n\n\nvar equation = board.create(\"text\", [-3, -0.5, function(){\n    return String.raw`\n            \\begin{align*}\n            x^2 - 3x - 4 < 0\\\\ \n            (x + 1)(x - 4) = 0\\\\\n            x  =  -1\\text{ or }x\\ =\\ 4\\\\\n            \\text{Test:}\\\\\n            x\\ =-1:\\\\\n            \\text{Result:}\\quad x^2 - 3x - 4 = 0\\\n            x = 4:\\\\\n            \\text{Result:}\\quad x^2 - 3x - 4 = 0\\\n            x = ${slider1.Value().toFixed(1)}:\\\\\n            \\text{Result:}\\quad x^2 - 3x - 4 = ${(slider1.Value() * slider1.Value() - 3 * slider1.Value() - 4).toFixed(2)}\\\\\n            \\end{align*}`;\n}])",
              "layout": "IPY_MODEL_ae91760e720b4017aa0c11c2c08722dd",
              "width": 400
            }
          },
          "bbc0e7954132421baa4180a8bc887c90": {
            "model_name": "LayoutModel",
            "model_module": "@jupyter-widgets/base",
            "model_module_version": "1.2.0",
            "state": {}
          },
          "6eb212ea5cec4151863138ba7d814afb": {
            "model_name": "JSWidgetModel",
            "model_module": "jupyter-divewidgets",
            "model_module_version": "^0.1.5",
            "state": {
              "_model_module_version": "^0.1.5",
              "_view_module_version": "^0.1.5",
              "html": "<!DOCTYPE html>\n<html>\n    <head>\n    <style>\n    html, body {\n        height: 100%;\n    }\n    body {\n        width: 100%;\n        display: flex;\n        padding: 0;\n        margin: 0;\n    }\n    .jxgbox {\n        width:100%; \n        flex-grow: 1;\n    }\n    </style>\n    <link rel=\"stylesheet\" type=\"text/css\" href=\"https://jsxgraph.org/distrib/jsxgraph.css\" />\n    <script type=\"text/javascript\" src=\"https://cdn.jsdelivr.net/npm/jsxgraph/distrib/jsxgraphcore.js\"></script>\n    <script type=\"text/javascript\" src=\"https://cdn.jsdelivr.net/npm/mathjax@3/es5/tex-chtml.js\"></script>\n    </head>\n<body>\n<div id=\"box\" class=\"jxgbox\"></div>\n</body>\n</html>",
              "js": "JXG.Options.text.useMathJax = true;\nvar board = JXG.JSXGraph.initBoard('box', {boundingbox: [-8, 8, 8, -8], axis:true,  showCopyright:false});\n\nvar a = board.create('slider', [[3, 3], [6,3], [-5, 1, 5]], {name:'a', snapWidth: 0.1});\nvar b = board.create('slider', [[3, 2], [6,2], [-5, -3, 5]], {name:'b', snapWidth: 0.1});\nvar c = board.create('slider', [[3, 1], [6,1], [-5, -4, 5]], {name:'c', snapWidth: 0.1});\n\nvar graph = board.create('functiongraph', [function(x){return a.Value()*x*x + b.Value()*x + c.Value();}, -100, 100]);\nvar line = board.create('line',[[-7,0],[7,0]], {visible: false});\n\n\nvar x1 = board.create('intersection',[graph, line, 0],{name:\"x1\", fillColor:'white'});\nvar x2 = board.create('intersection',[graph, line, 1],{name:\"x2\", fillColor:'white'});\n\n\nvar x1_conditional = board.create('point', [()=>{return b.Value()*b.Value() - 4*a.Value()*c.Value()==0? -b.Value()/(2*a.Value()):x1.X()}, 0],{visible:false});\nvar x2_conditional = board.create('point', [()=>{return b.Value()*b.Value() - 4*a.Value()*c.Value()==0? -b.Value()/(2*a.Value()):x2.X()}, 0],{visible:false});\n\n\nvar shade = board.create('inequality', [graph], {inverse: true, fillColor: 'yellow'});\n\nvar shade2 = board.create('inequality', [line], {inverse: true})\n\nvar text = board.create(\"text\", [-6, 4, function(){\n    return String.raw`\n            \\begin{align*}\n            y=\\ ax^2\\ +\\ bx\\ +\\ c\\\\ \n            ${a.Value().toFixed(1)}x^2\\ +\\ ${b.Value().toFixed(1)}x\\ +\\ ${c.Value().toFixed(1)}\\\\\n            \\text{Root:}\\\\\n            x_1 = ${x1_conditional.X().toFixed(2)}\\\\\n            \\text{or}\\\\\n            x_2 = ${x2_conditional.X().toFixed(2)}\\\\\n            \\end{align*}`;\n    }]);",
              "layout": "IPY_MODEL_bbc0e7954132421baa4180a8bc887c90"
            }
          },
          "10d18cac827e4b38b0be7b2df9abfe48": {
            "model_name": "LayoutModel",
            "model_module": "@jupyter-widgets/base",
            "model_module_version": "1.2.0",
            "state": {}
          },
          "13c868af1d2d4680978803ceecfe46fb": {
            "model_name": "JSWidgetModel",
            "model_module": "jupyter-divewidgets",
            "model_module_version": "^0.1.5",
            "state": {
              "_model_module_version": "^0.1.5",
              "_view_module_version": "^0.1.5",
              "height": 400,
              "html": "<!DOCTYPE html>\n<html>\n    <head>\n    <style>\n    html, body {\n        height: 100%;\n    }\n    body {\n        width: 100%;\n        display: flex;\n        padding: 0;\n        margin: 0;\n    }\n    .jxgbox {\n        width:100%; \n        flex-grow: 1;\n    }\n    </style>\n    <link rel=\"stylesheet\" type=\"text/css\" href=\"https://jsxgraph.org/distrib/jsxgraph.css\" />\n    <script type=\"text/javascript\" src=\"https://cdn.jsdelivr.net/npm/jsxgraph/distrib/jsxgraphcore.js\"></script>\n    <script type=\"text/javascript\" src=\"https://www.cs.cityu.edu.hk/~ccha23/js/load-mathjax.js\"></script>\n    </head>\n<body>\n<div id=\"box\" class=\"jxgbox\"></div>\n</body>\n</html>",
              "js": "JXG.Options.text.useMathJax = true;\nvar board = JXG.JSXGraph.initBoard('box', {boundingbox: [-12, 12, 12, -12], axis:true, grid: true, defaultAxes: {y: {visible: false}}, showCopyright:false});\n\nvar a = board.create('slider', [[3, -2], [6,-2], [-5, 1, 5]], {name:'a', snapWidth: 0.1});\nvar b = board.create('slider', [[3, -5], [6, -5], [-5, -3, 5]], {name:'b', snapWidth: 0.1});\nvar c = board.create('slider', [[3, -8], [6, -8], [-5, -4, 5]], {name:'c', snapWidth: 0.1});\n\nvar graph = board.create('functiongraph', [function(x){return a.Value()*x*x + b.Value()*x + c.Value();}, -100, 100], {visible:false});\nvar line = board.create('line',[[-7,0],[7,0]], {visible: false});\n\n\nvar x1 = board.create('intersection',[graph, line, 0],{name:\"x1\", fillColor:'white'});\nvar x2 = board.create('intersection',[graph, line, 1],{name:\"x2\", fillColor:'white'});\n\n\nvar x1_conditional = board.create('point', [()=>{return b.Value()*b.Value() - 4*a.Value()*c.Value()==0? -b.Value()/(2*a.Value()):x1.X()}, 0],{visible:false});\nvar x2_conditional = board.create('point', [()=>{return b.Value()*b.Value() - 4*a.Value()*c.Value()==0? -b.Value()/(2*a.Value()):x2.X()}, 0],{visible:false});\n\nvar vert1 = board.create(\"line\", [function(){return [x1_conditional.X(), 0]}, function() {return [x1_conditional.X(), 2]}], {straightFirst:false, straightLast:false})\nvar vert2 = board.create(\"line\", [function(){return [x2_conditional.X(), 0]}, function() {return [x2_conditional.X(), 3]}], {straightFirst:false, straightLast:false})\n\nvar hort1 = board.create(\"line\", [function(){return [x1_conditional.X(), 2]}, [function() {return a.Value() > 0 ? x1_conditional.X() + 5 : x1_conditional.X() - 5}, 2]], {straightFirst:false, straightLast: false, lastArrow: {type: 1, size: 4}})\nvar hort2 = board.create(\"line\", [function(){return [x2_conditional.X(), 3]}, [function() {return a.Value() > 0 ? x2_conditional.X() - 5 : x2_conditional.X() + 5}, 3]], {straightFirst:false, straightLast: false, lastArrow: {type: 1, size: 4}})\n\n\nvar shades = board.create(\"polygon\", [x1_conditional, [()=>{return a.Value() > 0 ? x1_conditional.X() + 5 : x1_conditional.X() - 5}, 0], [()=>{return a.Value() > 0 ? x1_conditional.X() + 5 : x1_conditional.X() - 5}, 2], [()=>{return x1_conditional.X()}, 2]], {borders: {visible: false}, vertices: {visible: false}})\nvar shades2 = board.create(\"polygon\", [x2_conditional, [()=>{return a.Value() > 0 ? x2_conditional.X() - 5 : x2_conditional.X() + 5}, 0], [()=>{return a.Value() > 0 ? x2_conditional.X() - 5 : x2_conditional.X() + 5}, 3], [()=>{return x2_conditional.X()}, 3]], {borders: {visible: false}, vertices: {visible: false}, fillColor:\"red\"})\n\n\n\nvar text = board.create(\"text\", [-5, -4.5, function(){\n    return String.raw`\n            \\begin{align*}\n            \\\\\n            ${a.Value().toFixed(1)}x^2\\ +\\ ${b.Value().toFixed(1)}x\\ +\\ ${c.Value().toFixed(1)}\\\\\n            \\\\\n            \\end{align*}`;\n    }]);\n\nvar solution = board.create(\"text\", [-5, -6, function(){\n    return (x1_conditional.X().toFixed(2).isNaN && x2_conditional.X().toFixed(2).isNaN ) ? String.raw`\\begin{align*}\\\\No solution\\\\\\end{align*}` : String.raw`\n            \\begin{align*}\n            \\\\\n            Root:\\ x_1 = ${x1_conditional.X().toFixed(2)}\\ or\\ x_2 = ${x2_conditional.X().toFixed(2)}\\\\\n            \\\\\n            \\end{align*}`;\n    }]);\n\nvar text2 = board.create(\"text\", [-5, -7.5, function(){\n    return a.Value() <0 ? String.raw`\\begin{align*} x\\ < ${x1_conditional.X().toFixed(2)}\\ \\ or\\ x >\\ ${x2_conditional.X().toFixed(2)}\\\\\\end{align*}`: String.raw`\n            \\begin{align*}\n            ${x1_conditional.X().toFixed(2)}\\ <\\ x\\ <\\ ${x2_conditional.X().toFixed(2)}\\\\\n            \\end{align*}`;\n    }]);",
              "layout": "IPY_MODEL_10d18cac827e4b38b0be7b2df9abfe48",
              "width": 1000
            }
          },
          "637a5f74232f4aae88843f76918b9118": {
            "model_name": "LayoutModel",
            "model_module": "@jupyter-widgets/base",
            "model_module_version": "1.2.0",
            "state": {}
          },
          "dc2d8c7067ae438da76075ec4c5fb188": {
            "model_name": "JSWidgetModel",
            "model_module": "jupyter-divewidgets",
            "model_module_version": "^0.1.5",
            "state": {
              "_model_module_version": "^0.1.5",
              "_view_module_version": "^0.1.5",
              "height": 400,
              "html": "<!DOCTYPE html>\n<html>\n    <head>\n    <style>\n    html, body {\n        height: 100%;\n    }\n    body {\n        width: 100%;\n        display: flex;\n        padding: 0;\n        margin: 0;\n    }\n    .jxgbox {\n        width:100%; \n        flex-grow: 1;\n    }\n    </style>\n    <link rel=\"stylesheet\" type=\"text/css\" href=\"https://jsxgraph.org/distrib/jsxgraph.css\" />\n    <script type=\"text/javascript\" src=\"https://cdn.jsdelivr.net/npm/jsxgraph/distrib/jsxgraphcore.js\"></script>\n    <script type=\"text/javascript\" src=\"https://www.cs.cityu.edu.hk/~ccha23/js/load-mathjax.js\"></script>\n    </head>\n<body>\n<div id=\"box\" class=\"jxgbox\"></div>\n</body>\n</html>",
              "js": "JXG.Options.text.useMathJax = true;\nvar board = JXG.JSXGraph.initBoard('box', {boundingbox: [-5, 5, 5, -5], axis:true, grid:true, showCopyright:false});\n\nvar p1 = board.create(\"point\", [0, 2], {name: \"p1\", Color: \"black\", size: 2})\nvar p2 = board.create(\"point\", [1, 2], {name: \"p2\", Color: \"black\", size: 2})\nvar p3 = board.create(\"point\", [2, 3], {name: \"p3\", Color: \"black\", size: 2})\nvar p4 = board.create(\"point\", [3, 1], {name: \"p4\", Color: \"black\", size: 2})\nvar p5 = board.create(\"point\", [4, 0], {name: \"p5\", Color: \"black\", size: 2})",
              "layout": "IPY_MODEL_637a5f74232f4aae88843f76918b9118",
              "width": 400
            }
          },
          "586c5c1552254f59acd1f3a903c2f7e2": {
            "model_name": "LayoutModel",
            "model_module": "@jupyter-widgets/base",
            "model_module_version": "1.2.0",
            "state": {}
          },
          "4482bcc70d7b4e4498dc465bd6718030": {
            "model_name": "JSWidgetModel",
            "model_module": "jupyter-divewidgets",
            "model_module_version": "^0.1.5",
            "state": {
              "_model_module_version": "^0.1.5",
              "_view_module_version": "^0.1.5",
              "height": 400,
              "html": "<!DOCTYPE html>\n<html>\n    <head>\n    <style>\n    html, body {\n        height: 100%;\n    }\n    body {\n        width: 100%;\n        display: flex;\n        padding: 0;\n        margin: 0;\n    }\n    .jxgbox {\n        width:100%; \n        flex-grow: 1;\n    }\n    </style>\n    <link rel=\"stylesheet\" type=\"text/css\" href=\"https://jsxgraph.org/distrib/jsxgraph.css\" />\n    <script type=\"text/javascript\" src=\"https://cdn.jsdelivr.net/npm/jsxgraph/distrib/jsxgraphcore.js\"></script>\n    <script type=\"text/javascript\" src=\"https://www.cs.cityu.edu.hk/~ccha23/js/load-mathjax.js\"></script>\n    </head>\n<body>\n<div id=\"box\" class=\"jxgbox\"></div>\n</body>\n</html>",
              "js": "JXG.Options.text.useMathJax = true;\nvar board = JXG.JSXGraph.initBoard('box', {boundingbox: [-8, 8, 8, -8], axis:true, grid:true, showCopyright:false});\n\nvar p1 = board.create(\"point\", [0, -4], {name: \"p1\", Color: \"black\", size: 2})\nvar p2 = board.create(\"point\", [1, -6], {name: \"p2\", Color: \"black\", size: 2})\nvar p3 = board.create(\"point\", [2, -6], {name: \"p3\", Color: \"black\", size: 2})\nvar p4 = board.create(\"point\", [2.5, -5.25], {name: \"p4\", Color: \"black\", size: 2})\nvar p4 = board.create(\"point\", [3, -4], {name: \"p5\", Color: \"black\", size: 2})",
              "layout": "IPY_MODEL_586c5c1552254f59acd1f3a903c2f7e2",
              "width": 400
            }
          },
          "66cae2185ef2461c82794f2d73a7a983": {
            "model_name": "LayoutModel",
            "model_module": "@jupyter-widgets/base",
            "model_module_version": "1.2.0",
            "state": {}
          },
          "de89671c2b024c50bb25bebdd5fd2fed": {
            "model_name": "JSWidgetModel",
            "model_module": "jupyter-divewidgets",
            "model_module_version": "^0.1.5",
            "state": {
              "_model_module_version": "^0.1.5",
              "_view_module_version": "^0.1.5",
              "html": "<!DOCTYPE html>\n<html>\n    <head>\n    <style>\n    html, body {\n        height: 100%;\n    }\n    body {\n        width: 100%;\n        display: flex;\n        padding: 0;\n        margin: 0;\n    }\n    .jxgbox {\n        width:100%; \n        flex-grow: 1;\n    }\n    </style>\n    <link rel=\"stylesheet\" type=\"text/css\" href=\"https://jsxgraph.org/distrib/jsxgraph.css\" />\n    <script type=\"text/javascript\" src=\"https://cdn.jsdelivr.net/npm/jsxgraph/distrib/jsxgraphcore.js\"></script>\n    <script type=\"text/javascript\" src=\"https://cdn.jsdelivr.net/npm/mathjax@3/es5/tex-chtml.js\"></script>\n    </head>\n<body>\n<div id=\"box\" class=\"jxgbox\"></div>\n</body>\n</html>",
              "js": "JXG.Options.text.useMathJax = true;\nvar board = JXG.JSXGraph.initBoard('box', {boundingbox: [-5, 5, 5, -5], axis:true, grid:true, showCopyright:false});\n\nvar a = board.create('slider', [[-4, 4], [-2, 4], [-8, 2, 8]], {name:'a', snapWidth: 0.1});\nvar b = board.create('slider', [[-4, 3.5], [-2, 3.5], [-8, 3, 8]], {name:'b', snapWidth: 0.1});\nvar c = board.create('slider', [[-4, 3], [-2, 3], [-8, 5, 8]], {name:'c', snapWidth: 0.1});\n\n\nvar expression = board.create(\"text\", [-4, -2, () =>{\n    return String.raw`\n    \\begin{align*}\n    \\\\\n    ax\\ +\\ by\\ =\\ c:\\\\\n    \\\\\n    (${a.Value().toFixed(1)})x\\ +\\ (${b.Value().toFixed(1)})y\\ > ${c.Value().toFixed(1)}\n    \\\\\n    \\end{align*}`;\n}])\n\n\nvar graph = board.create('functiongraph', [function(x){return (-a.Value().toFixed(1)/b.Value().toFixed(1))*x + (c.Value().toFixed(1)/b.Value().toFixed(1));}, -100, 100]);\n\nvar inequality = board.create('inequality', [graph], {inverse:true})\n\n\nvar line = board.create('line',[[-7,0],[7,0]], {visible: false});\nvar line2 = board.create('line',[[0,-7],[0,7]], {visible: false});\n\nvar p1 = board.create('intersection',[graph, line, 0],{name:\"p1\", fillColor:'white'});\nvar p2 = board.create('intersection',[graph, line2, 0],{name:\"p2\", fillColor:'white'});",
              "layout": "IPY_MODEL_66cae2185ef2461c82794f2d73a7a983"
            }
          },
          "cb37f2f8507f448f8cc6671a6031a6b5": {
            "model_name": "LayoutModel",
            "model_module": "@jupyter-widgets/base",
            "model_module_version": "1.2.0",
            "state": {}
          },
          "1f77c6d8e3df4b2d82ea8f6bf017c54b": {
            "model_name": "JSWidgetModel",
            "model_module": "jupyter-divewidgets",
            "model_module_version": "^0.1.5",
            "state": {
              "_model_module_version": "^0.1.5",
              "_view_module_version": "^0.1.5",
              "html": "<!DOCTYPE html>\n<html>\n    <head>\n    <style>\n    html, body {\n        height: 100%;\n    }\n    body {\n        width: 100%;\n        display: flex;\n        padding: 0;\n        margin: 0;\n    }\n    .jxgbox {\n        width:100%; \n        flex-grow: 1;\n    }\n    </style>\n    <link rel=\"stylesheet\" type=\"text/css\" href=\"https://jsxgraph.org/distrib/jsxgraph.css\" />\n    <script type=\"text/javascript\" src=\"https://cdn.jsdelivr.net/npm/jsxgraph/distrib/jsxgraphcore.js\"></script>\n    <script type=\"text/javascript\" src=\"https://www.cs.cityu.edu.hk/~ccha23/js/load-mathjax.js\"></script>\n    </head>\n<body>\n<div id=\"box\" class=\"jxgbox\"></div>\n</body>\n</html>",
              "js": "JXG.Options.text.useMathJax = true;\nvar board = JXG.JSXGraph.initBoard('box', {boundingbox: [-8, 8, 8, -8], axis:true, grid:true, showCopyright:false});\n\nvar function1 = board.create(\"text\", [-7, -3, ()=>{\n    return String.raw`\n    \\begin{align*}\n      Function\\ 1\n    \\end{align*}`\n}])\n\nvar slider1 = board.create('slider', [[-7, -4], [-3, -4], [-8, 0, 8]], {name:'x1 value', snapWidth: 0.1});\nvar slider2 = board.create('slider', [[-7, -5], [-3, -5], [-8, 2, 8]], {name:'y1 value', snapWidth: 0.1});\nvar slider3 = board.create('slider', [[-7, -6], [-3, -6], [-8, 4, 8]], {name:'x2 value', snapWidth: 0.1});\nvar slider4 = board.create('slider', [[-7, -7], [-3, -7], [-8, 6, 8]], {name:'y2 value', snapWidth: 0.1});\n\n\n\nvar function2 = board.create(\"text\", [1, -3, ()=>{\n    return String.raw`\n    \\begin{align*}\n      Function\\ 2\n    \\end{align*}`\n}])\n\nvar slider5 = board.create('slider', [[1, -4], [5, -4], [-8, 0, 8]], {name:'x1 value', snapWidth: 0.1});\nvar slider6 = board.create('slider', [[1, -5], [5, -5], [-8, -2, 8]], {name:'y1 value', snapWidth: 0.1});\nvar slider7 = board.create('slider', [[1, -6], [5, -6], [-8, 2, 8]], {name:'x2 value', snapWidth: 0.1});\nvar slider8 = board.create('slider', [[1, -7], [5, -7], [-8, -6, 8]], {name:'y2 value', snapWidth: 0.1});\n\n\n\nvar p1 = board.create(\"point\", [()=>{return slider1.Value()}, ()=>{return slider2.Value()}], {name: \"J1\", size: 2, fillColor: \"white\"})\nvar p2 = board.create(\"point\", [()=>{return slider3.Value()}, ()=>{return slider4.Value()}], {name: \"J5\", size: 2, fillColor: \"white\"})\n\nvar line = board.create('line', [p1, p2], {strokeWidth: 2})\nvar inequality = board.create('inequality', [line], {fillColor: \"yellow\"})\n\nvar p3 = board.create(\"point\", [()=>{return slider5.Value()}, ()=>{return slider6.Value()}], {name: \"K1\", size: 2, fillColor: \"white\"})\nvar p4 = board.create(\"point\", [()=>{return slider7.Value()}, ()=>{return slider8.Value()}], {name: \"K5\", size: 2, fillColor: \"white\"})\n\nvar line2 = board.create('line', [p3, p4], {strokeWidth: 2, label: \"Hello\"})\nvar inequality2 = board.create('inequality', [line2])\n\n\nvar functions = board.create(\"text\", [-7, 5, function(){\n    return String.raw`\n              \\begin{empheq} \n                 [left={\\text{Function: } \\empheqlbrace}]{align}\n                 y &> ${((p2.Y() - p1.Y()) / (p2.X() - p1.X())).toFixed(2)}x + ${(p1.Y() - (((p2.Y() - p1.Y()) / (p2.X() - p1.X())).toFixed(2))*p1.X()).toFixed(2)}\\nonumber\\\\\n                 y &\\ge ${((p4.Y() - p3.Y()) / (p4.X() - p3.X())).toFixed(2)}x + ${(p3.Y() - (((p4.Y() - p3.Y()) / (p4.X() - p3.X())).toFixed(2))*p3.X()).toFixed(2)}\\nonumber\\\\\n              \\end{empheq}`;\n}], {fontSize: 15})",
              "layout": "IPY_MODEL_cb37f2f8507f448f8cc6671a6031a6b5"
            }
          },
          "3dda3ee0910f485a897b25845179250a": {
            "model_name": "LayoutModel",
            "model_module": "@jupyter-widgets/base",
            "model_module_version": "1.2.0",
            "state": {}
          },
          "f26ec54e942640d1baf5d9e34093af71": {
            "model_name": "JSWidgetModel",
            "model_module": "jupyter-divewidgets",
            "model_module_version": "^0.1.5",
            "state": {
              "_model_module_version": "^0.1.5",
              "_view_module_version": "^0.1.5",
              "html": "<!DOCTYPE html>\n<html>\n    <head>\n    <style>\n    html, body {\n        height: 100%;\n    }\n    body {\n        width: 100%;\n        display: flex;\n        padding: 0;\n        margin: 0;\n    }\n    .jxgbox {\n        width:100%; \n        flex-grow: 1;\n    }\n    </style>\n    <link rel=\"stylesheet\" type=\"text/css\" href=\"https://jsxgraph.org/distrib/jsxgraph.css\" />\n    <script type=\"text/javascript\" src=\"https://cdn.jsdelivr.net/npm/jsxgraph/distrib/jsxgraphcore.js\"></script>\n    <script type=\"text/javascript\" src=\"https://www.cs.cityu.edu.hk/~ccha23/js/load-mathjax.js\"></script>\n    </head>\n<body>\n<div id=\"box\" class=\"jxgbox\"></div>\n</body>\n</html>",
              "js": "JXG.Options.text.useMathJax = true;\nvar board = JXG.JSXGraph.initBoard('box', {boundingbox: [-2500, 2500, 2500, -2500], axis:true, showCopyright:false});\n\nvar A = board.create(\"point\", [()=>{return 0}, ()=>{return 0}], {name: \"A\", size: 2})\nvar B = board.create(\"point\", [()=>{return 0}, ()=>{return 1429}], {name: \"B\", size: 2})\nvar C = board.create(\"point\", [()=>{return 1333}, ()=>{return 667}], {name: \"C\", size: 2})\nvar D = board.create(\"point\", [()=>{return 2000}, ()=>{return 0}], {name: \"D\", size: 2})\n\nvar line1 = board.create('line', [A, B], {strokeWidth: 2, straightFirst:false, straightLast: false})\nvar line2 = board.create('line', [B, C], {strokeWidth: 2, straightFirst:false, straightLast: false})\nvar line3 = board.create('line', [C, D], {strokeWidth: 2, straightFirst:false, straightLast: false})\nvar line4 = board.create('line', [D, A], {strokeWidth: 2, straightFirst:false, straightLast: false})\n\nvar shade = board.create('polygon', [A, B, C, D], {borders: {visible: false}, vertices: {visible: false}});",
              "layout": "IPY_MODEL_3dda3ee0910f485a897b25845179250a"
            }
          }
        }
      }
    }
  },
  "nbformat_minor": 5,
  "nbformat": 4,
  "cells": [
    {
      "cell_type": "markdown",
      "source": "# Solving Inequalities",
      "metadata": {},
      "id": "0ce5126e-2d7b-4b90-88ca-baf503958d39"
    },
    {
      "cell_type": "markdown",
      "source": "**DIVE into Math**\n\n---",
      "metadata": {},
      "id": "f313157f-68e2-4d83-9ee0-bf722ef9f056"
    },
    {
      "cell_type": "markdown",
      "source": "Contributor(s): \n\n- Ananda Indra TAN  \n- Chung Chan\n\n---",
      "metadata": {},
      "id": "601c37ce-8406-49fb-a287-5fe40a801cf8"
    },
    {
      "cell_type": "code",
      "source": "%reload_ext divewidgets",
      "metadata": {
        "trusted": true
      },
      "execution_count": 1,
      "outputs": [],
      "id": "f5ff52e0-11bc-48b5-bad0-5647b9b9408d"
    },
    {
      "cell_type": "markdown",
      "source": "## Part I: Fundamental of Inequalities",
      "metadata": {},
      "id": "36b3555c-07da-46f1-b5a9-eea89cc8d990"
    },
    {
      "cell_type": "markdown",
      "source": "In mathematics, inequality is a part of relational comparison between two distinct numbers or mathematical expressions. The upmost basic inequality operators that we recognize are the following:\n\n$$\n\\begin{align*}\nA &> B && \\text{Value A is Greater than Value B}\\\\\nA &\\ge B &&  \\text{Value A is Greater than or  Equal  to  Value B}\\\\\nA &< B && \\text{Value A is Less than Value B}\\\\\nA &\\le B &&  \\text{Value A is Less than or  Equal  to  Value B}\n\\end{align*}\n$$ \nWe define $A$ and $B$ are two distinct variables representing values. Inequality can also be applied into real mathematical expressions. For example:\n\n$$\n\\begin{align*}\n3x + 5 &> 14 \\\\\n5x + 3y &\\le 10x + 2y \\\\\n\\text{or }\\\\\n\\log_{3}10 &< \\log_{x}8\n\\end{align*}\n$$\nUnderstanding the basic concept of Inequalities is a first step into understanding on how to solve problems in inequalities and Linear Programming.",
      "metadata": {},
      "id": "60542a56-ae24-47fc-bdbd-dfc42a61c985"
    },
    {
      "cell_type": "markdown",
      "source": "## Part II: Solve Compound Linear Inequalities in One Unknown",
      "metadata": {
        "tags": []
      },
      "id": "f22b90c6-831d-4f5f-9959-e4f58db8e110"
    },
    {
      "cell_type": "markdown",
      "source": "Solving equation in algebra is considered as a generic knowledge that one must understand in order to proceeds to a more advance application of it. We may find this type of question in a common algebraic solving inequality problem.\n\n\n$$\n\\begin{align*}\n6x + 9 &\\ge 21\\\\\n6x + 9 - 9 &\\ge 21 - 9\\\\\n6x &\\ge 12\\\\\nx &\\ge 2\n\\end{align*}\n$$\n\n\nIn inequality, there also exist logical operatives that will set boundaries of solutions from 2 functions in a form of range.\n\nLogical operatives that commonly seen in inequalities are as such:\n\n$$\n\\begin{align*}\nAND && OR && NOT\n\\end{align*}\n$$\n\nAt the moment, we are going to compare only $AND$ and $OR$ opetarors. Problems like combining inequality function with logical operators is not a rare sight in the world of mathematic.\n\nSuppose we have a compound consist of inequality functions in their most basic form:\n\n- Solve the equations of the following:\n$$\n\\begin{align*}\n6x &\\le 18\n\\quad \\text{ and }\\quad \n4x &> 20\n\\end{align*}\n$$\nFind the range of $x$.\n\nFrom this simple function we can easily obtain the answer as following:\n\n$$\n\\begin{align*}\nx \\le 3\\quad \\text{ and }\\quad x \\ge 5\n\\end{align*}\n$$\n\nThe solution graph will be as such:",
      "metadata": {},
      "id": "513f301d-4d29-45e7-999e-25ae31a2ccdb"
    },
    {
      "cell_type": "code",
      "source": "%%jsxgraph -i box -h 200 --width=1000 -m https://www.cs.cityu.edu.hk/~ccha23/js/load-mathjax.js\nJXG.Options.text.useMathJax = true;\n\nvar board = JXG.JSXGraph.initBoard('box', {boundingbox: [-8, 8, 8, -8], axis: true, grid:true, defaultAxes: {y: {visible: false}}, showCopyright: false});\nvar slider1 = board.create(\"slider\", [[2, -3], [5, -3], [-10, 6, 10]], {name: 'Function 1', snapWidth: 0.10, withLabel: true})\nvar slider2 = board.create(\"slider\", [[2, -5], [5, -5], [-10, 4, 10]], {name: 'Function 2', snapWidth: 0.10, withLabel: true})\n\n\nvar p1 = board.create(\"point\", [function(){return 18 / slider1.Value()}, function(){return 0}], {name: 'x1', face:'o', size: 3})\nvar p2 = board.create(\"point\", [function(){return 20/ slider2.Value()}, function () {return 0}], {name: \"x2\", size: 2, fillColor: \"white\"})\n\n\nvar vert1 = board.create(\"line\", [function (){return [p1.X(), 0]}, function() {return [p1.X(), 2]}], {straightFirst:false, straightLast:false})\nvar vert2 = board.create(\"line\", [function (){return [p2.X(), 0]}, function() {return [p2.X(), 3]}], {straightFirst:false, straightLast:false})\n\nvar hort1 = board.create(\"line\", [function (){return [p1.X(), 2]}, [function() {return p1.X() > 0 ? p1.X() - 8 : p1.X() + 8}, 2]], {straightFirst:false, straightLast: false, lastArrow: {type: 1, size: 4}})\nvar hort2 = board.create(\"line\", [function (){return [p2.X(), 3]}, [function() {return p2.X() < 0 ? p2.X() - 8 : p2.X() + 8}, 3]], {straightFirst:false, straightLast: false, lastArrow: {type: 1, size: 4}})\n\n\n\nvar x = board.create(\"line\", [function (){return [p1.X(), 0]}, function() {return [p2.X(), 0]}])\n\n\nvar shade1 = board.create('polygon', [p1, [function(){return p1.X() > 0 ? p1.X() - 8 : p1.X() + 8}, 0], [function(){return p1.X() > 0 ? p1.X() - 8 : p1.X() + 8}, 2], [function(){return p1.X()}, 2]], {borders: {visible: false}, vertices: {visible: false}});\nvar shade1 = board.create('polygon', [p2, [function(){return p2.X() < 0 ? p2.X() - 8 : p2.X() + 8}, 0], [function(){return p2.X() < 0 ? p2.X() - 8 : p2.X() + 8}, 3], [function(){return p2.X()}, 3]], {borders: {visible: false}, vertices: {visible: false}, fillColor: \"blue\"});\n\n\n\nvar functions = board.create(\"text\", [-2, -4.5, function(){\n    return String.raw`\n              \\begin{empheq} \n                 [left={\\text{Function} \\empheqlbrace}]{align}\n                 ${slider1.Value().toFixed(1)}x\\ \\le 18\\nonumber\\\\\n                 and \\nonumber\\\\\n                 ${slider2.Value().toFixed(1)}x\\ \\ge 20\\nonumber\\\\\n              \\end{empheq}`;\n}])\n\n\n",
      "metadata": {
        "trusted": true
      },
      "execution_count": 2,
      "outputs": [
        {
          "output_type": "display_data",
          "data": {
            "application/vnd.jupyter.widget-view+json": {
              "model_id": "b6fb463fdc974bf79fc22c3763de1a0f",
              "version_major": 2,
              "version_minor": 0
            },
            "text/plain": "JSWidget(value=None, height=200, html='<!DOCTYPE html>\\n<html>\\n    <head>\\n    <style>\\n    html, body {\\n   …"
          },
          "metadata": {}
        }
      ],
      "id": "47fdd1f5-6fe7-4177-aeaf-21f0f75fad66"
    },
    {
      "cell_type": "markdown",
      "source": "From this graph, we can see that there are multiple possible solutions. If you try different coeficient of $x$. We can obtain these possible answers:\n\n- No Solution: \n  - When $x_{1,2}$ > 0, and $x_1$ is less than $x_2$, there will be no solution.\n  - This also happens happens when both $x_{1,2}$ < 0 and $x_2$ < $x_1$.\n\n- $x_1$ $\\le$ $x$ $<$ $x_2$:\n  - Happens when $x_1,_2$ < 0 and  $x_1$ < $x_2$\n\n- $x_2$ $<$ $x$ $\\le$ $x_1$:\n  - Happens when $x_1,_2$ > 0 and $x_2$ < $x_1$\n\n- $x$ $<$ $x_2$:\n  - Happens when $x_1$ > 0, $x_2$ < 0 and $x_2$ < $x_1$\n\n- $x$ $>$ $x_2$:\n  - Happens when $x_1$ < 0, $x_2$ > 0 and $x_1$ < $x_2$\n",
      "metadata": {},
      "id": "36056a0a-5bc5-4146-8322-758fefabf2c1"
    },
    {
      "cell_type": "markdown",
      "source": "###  Solve Quadratic Inequalities in One Unknown by the Algebraic Method",
      "metadata": {
        "tags": []
      },
      "id": "3fdb8c6e-a370-4054-978e-1967ba1acf06"
    },
    {
      "cell_type": "markdown",
      "source": "Quadratic inequalities in one unknown problem can be solved using two  methods:\n- Graphical Method\n- Algebraic Method\n\nIn this part, we are going to solve the problem using the algebraic approach.  \nSuppose we have a quadratic inequality:\n\n$$\n\\begin{align*}\nx^2 - 3x - 4 < 0\n\\end{align*}\n$$\n\n\nWe can solve the regular quadratic equality at first:\n\n$$\n\\begin{align*}\nx^2 - 3x - 4 = 0\\\\\n(x + 1)(x - 4) = 0\\\\\n\\text{Result: }x_1  =  -1 \\quad\\text{or}\\quad x_2=4\n\\end{align*}\n$$\n\nWithout using a graph, we can hardly know whether should $x$ value is greater than or less than the calculated boundaries, $x_1$ or $x_2$. Therefore, the only way to know to test each condition:\n\n- $x > 4$\n- $x = 4$\n- $x = 1$\n- $x < -1$, and\n- $-1 < x < 4$",
      "metadata": {},
      "id": "d2a713e8-a5bf-49e1-8671-452adc36fd4c"
    },
    {
      "cell_type": "code",
      "source": "%%jsxgraph -i box -h 400 --width=400 -m https://www.cs.cityu.edu.hk/~ccha23/js/load-mathjax.js\nJXG.Options.text.useMathJax = true;\nvar board = JXG.JSXGraph.initBoard('box', {boundingbox: [-4, 4, 4, -4], axis:false ,grid:false,  showCopyright:false});\n\nvar slider1 = board.create('slider', [[-3, 3], [1, 3], [-10, 5, 10]], {name:'x value', snapWidth: 0.1});\n//var checkbox = board.create('Checkbox', [2, 2, 'Change Y'], {});\n\n\nvar equation = board.create(\"text\", [-3, -0.5, function(){\n    return String.raw`\n            \\begin{align*}\n            x^2 - 3x - 4 < 0\\\\ \n            (x + 1)(x - 4) = 0\\\\\n            x  =  -1\\text{ or }x\\ =\\ 4\\\\\n            \\text{Test:}\\\\\n            x\\ =-1:\\\\\n            \\text{Result:}\\quad x^2 - 3x - 4 = 0\\\n            x = 4:\\\\\n            \\text{Result:}\\quad x^2 - 3x - 4 = 0\\\n            x = ${slider1.Value().toFixed(1)}:\\\\\n            \\text{Result:}\\quad x^2 - 3x - 4 = ${(slider1.Value() * slider1.Value() - 3 * slider1.Value() - 4).toFixed(2)}\\\\\n            \\end{align*}`;\n}])",
      "metadata": {
        "trusted": true
      },
      "execution_count": 3,
      "outputs": [
        {
          "output_type": "display_data",
          "data": {
            "application/vnd.jupyter.widget-view+json": {
              "model_id": "f98ee3d0955a41428062d60ac4e1c5ff",
              "version_major": 2,
              "version_minor": 0
            },
            "text/plain": "JSWidget(value=None, height=400, html='<!DOCTYPE html>\\n<html>\\n    <head>\\n    <style>\\n    html, body {\\n   …"
          },
          "metadata": {}
        }
      ],
      "id": "ad6fba97-7c6f-4919-914b-a8b1befb8605"
    },
    {
      "cell_type": "markdown",
      "source": "From the function, the acceptable value is x that produce result $ < 0$ on strict mode and $ \\le 0$ on non-strict mode. Therefore, from this condition We obtain the final solution is $x_1 < x < x_2$ on strict mode and correspondingly $x_1 \\le x \\le x_2$. However, you can still try to constrain more and trying other values in order to fully familiar with the concept.",
      "metadata": {},
      "id": "20611456-d76d-4947-b398-b0fce16d720a"
    },
    {
      "cell_type": "markdown",
      "source": "### Solve Quadratic Inequalities in One Unknown by the Graphical Method",
      "metadata": {
        "tags": []
      },
      "id": "725d7677-30b1-41c2-a8a0-dc097ada705c"
    },
    {
      "cell_type": "markdown",
      "source": "As mentioned in the previous part, we can hardly know whether should $x$ value is greater than or less than the calculated boundaries without using a graph.\nTherefore, instead of substituting the each result into the main function, we are going to prove the solution using a graph. \n\nFor easier understanding, we will reuse the same function:\n\n$$\n\\begin{align*}\n\\\\\nx^2 - 3x - 4 < 0\\\\\n\\\\\n\\end{align*}\n$$\n\nAs calculated before, we obtained the result:\n$$\n\\begin{align*}\n\\\\\nx_1\\  =\\  -1\\ \\text{ or } \\ x_2\\ =\\ 4\\\\\n\\\\\n\\end{align*}\n$$\n\nNow we will plot the graph:",
      "metadata": {},
      "id": "f0c52953-f098-414d-9d3b-015304a87ff4"
    },
    {
      "cell_type": "code",
      "source": "%%jsxgraph\nJXG.Options.text.useMathJax = true;\nvar board = JXG.JSXGraph.initBoard('box', {boundingbox: [-8, 8, 8, -8], axis:true,  showCopyright:false});\n\nvar a = board.create('slider', [[3, 3], [6,3], [-5, 1, 5]], {name:'a', snapWidth: 0.1});\nvar b = board.create('slider', [[3, 2], [6,2], [-5, -3, 5]], {name:'b', snapWidth: 0.1});\nvar c = board.create('slider', [[3, 1], [6,1], [-5, -4, 5]], {name:'c', snapWidth: 0.1});\n\nvar graph = board.create('functiongraph', [function(x){return a.Value()*x*x + b.Value()*x + c.Value();}, -100, 100]);\nvar line = board.create('line',[[-7,0],[7,0]], {visible: false});\n\n\nvar x1 = board.create('intersection',[graph, line, 0],{name:\"x1\", fillColor:'white'});\nvar x2 = board.create('intersection',[graph, line, 1],{name:\"x2\", fillColor:'white'});\n\n\nvar x1_conditional = board.create('point', [()=>{return b.Value()*b.Value() - 4*a.Value()*c.Value()==0? -b.Value()/(2*a.Value()):x1.X()}, 0],{visible:false});\nvar x2_conditional = board.create('point', [()=>{return b.Value()*b.Value() - 4*a.Value()*c.Value()==0? -b.Value()/(2*a.Value()):x2.X()}, 0],{visible:false});\n\n\nvar shade = board.create('inequality', [graph], {inverse: true, fillColor: 'yellow'});\n\nvar shade2 = board.create('inequality', [line], {inverse: true})\n\nvar text = board.create(\"text\", [-6, 4, function(){\n    return String.raw`\n            \\begin{align*}\n            y=\\ ax^2\\ +\\ bx\\ +\\ c\\\\ \n            ${a.Value().toFixed(1)}x^2\\ +\\ ${b.Value().toFixed(1)}x\\ +\\ ${c.Value().toFixed(1)}\\\\\n            \\text{Root:}\\\\\n            x_1 = ${x1_conditional.X().toFixed(2)}\\\\\n            \\text{or}\\\\\n            x_2 = ${x2_conditional.X().toFixed(2)}\\\\\n            \\end{align*}`;\n    }]);",
      "metadata": {
        "trusted": true
      },
      "execution_count": 4,
      "outputs": [
        {
          "output_type": "display_data",
          "data": {
            "application/vnd.jupyter.widget-view+json": {
              "model_id": "6eb212ea5cec4151863138ba7d814afb",
              "version_major": 2,
              "version_minor": 0
            },
            "text/plain": "JSWidget(value=None, height=600, html='<!DOCTYPE html>\\n<html>\\n    <head>\\n    <style>\\n    html, body {\\n   …"
          },
          "metadata": {}
        }
      ],
      "id": "f151675d-3818-4949-b5db-959987022107"
    },
    {
      "cell_type": "markdown",
      "source": "Look closely to the graph, we can see that there are two shaded regions in which bound our solution into a certain range. Namely:\n- A yellow region on curve that consists of points $(x,y)$ such that $y\\geq ax^2+bx+c$,\n- A red region that bounds points $(x,y)$ such that $y\\leq 0$.\n\n",
      "metadata": {},
      "id": "0825f8ef-6865-4bc8-86d6-6c3bd0f2a8db"
    },
    {
      "cell_type": "markdown",
      "source": "#### Exercise:\n\nBetween the two shaded, there is one mixed-color/overlap region. Is there a way to describe what it means?",
      "metadata": {},
      "id": "70a77fd2-338b-4bff-99b2-f3957866fbb3"
    },
    {
      "cell_type": "markdown",
      "source": "YOUR ANSWER HERE",
      "metadata": {
        "deletable": false,
        "nbgrader": {
          "cell_type": "markdown",
          "checksum": "11b903531c3dc15001aba9cee6eb2924",
          "grade": true,
          "grade_id": "p1",
          "locked": false,
          "points": 1,
          "schema_version": 3,
          "solution": true,
          "task": false
        },
        "tags": []
      },
      "id": "fe00dbe1-2b7c-4b5f-8e25-233ee0978195"
    },
    {
      "cell_type": "markdown",
      "source": "If we visualize the range of the $x$, we can re-use the graph that we apply in first part.",
      "metadata": {},
      "id": "86b2cd10-49bd-4e43-bb9a-0bcbc5043c91"
    },
    {
      "cell_type": "code",
      "source": "%%jsxgraph -i box -h 400 --width=1000 -m https://www.cs.cityu.edu.hk/~ccha23/js/load-mathjax.js\nJXG.Options.text.useMathJax = true;\nvar board = JXG.JSXGraph.initBoard('box', {boundingbox: [-12, 12, 12, -12], axis:true, grid: true, defaultAxes: {y: {visible: false}}, showCopyright:false});\n\nvar a = board.create('slider', [[3, -2], [6,-2], [-5, 1, 5]], {name:'a', snapWidth: 0.1});\nvar b = board.create('slider', [[3, -5], [6, -5], [-5, -3, 5]], {name:'b', snapWidth: 0.1});\nvar c = board.create('slider', [[3, -8], [6, -8], [-5, -4, 5]], {name:'c', snapWidth: 0.1});\n\nvar graph = board.create('functiongraph', [function(x){return a.Value()*x*x + b.Value()*x + c.Value();}, -100, 100], {visible:false});\nvar line = board.create('line',[[-7,0],[7,0]], {visible: false});\n\n\nvar x1 = board.create('intersection',[graph, line, 0],{name:\"x1\", fillColor:'white'});\nvar x2 = board.create('intersection',[graph, line, 1],{name:\"x2\", fillColor:'white'});\n\n\nvar x1_conditional = board.create('point', [()=>{return b.Value()*b.Value() - 4*a.Value()*c.Value()==0? -b.Value()/(2*a.Value()):x1.X()}, 0],{visible:false});\nvar x2_conditional = board.create('point', [()=>{return b.Value()*b.Value() - 4*a.Value()*c.Value()==0? -b.Value()/(2*a.Value()):x2.X()}, 0],{visible:false});\n\nvar vert1 = board.create(\"line\", [function(){return [x1_conditional.X(), 0]}, function() {return [x1_conditional.X(), 2]}], {straightFirst:false, straightLast:false})\nvar vert2 = board.create(\"line\", [function(){return [x2_conditional.X(), 0]}, function() {return [x2_conditional.X(), 3]}], {straightFirst:false, straightLast:false})\n\nvar hort1 = board.create(\"line\", [function(){return [x1_conditional.X(), 2]}, [function() {return a.Value() > 0 ? x1_conditional.X() + 5 : x1_conditional.X() - 5}, 2]], {straightFirst:false, straightLast: false, lastArrow: {type: 1, size: 4}})\nvar hort2 = board.create(\"line\", [function(){return [x2_conditional.X(), 3]}, [function() {return a.Value() > 0 ? x2_conditional.X() - 5 : x2_conditional.X() + 5}, 3]], {straightFirst:false, straightLast: false, lastArrow: {type: 1, size: 4}})\n\n\nvar shades = board.create(\"polygon\", [x1_conditional, [()=>{return a.Value() > 0 ? x1_conditional.X() + 5 : x1_conditional.X() - 5}, 0], [()=>{return a.Value() > 0 ? x1_conditional.X() + 5 : x1_conditional.X() - 5}, 2], [()=>{return x1_conditional.X()}, 2]], {borders: {visible: false}, vertices: {visible: false}})\nvar shades2 = board.create(\"polygon\", [x2_conditional, [()=>{return a.Value() > 0 ? x2_conditional.X() - 5 : x2_conditional.X() + 5}, 0], [()=>{return a.Value() > 0 ? x2_conditional.X() - 5 : x2_conditional.X() + 5}, 3], [()=>{return x2_conditional.X()}, 3]], {borders: {visible: false}, vertices: {visible: false}, fillColor:\"red\"})\n\n\n\nvar text = board.create(\"text\", [-5, -4.5, function(){\n    return String.raw`\n            \\begin{align*}\n            \\\\\n            ${a.Value().toFixed(1)}x^2\\ +\\ ${b.Value().toFixed(1)}x\\ +\\ ${c.Value().toFixed(1)}\\\\\n            \\\\\n            \\end{align*}`;\n    }]);\n\nvar solution = board.create(\"text\", [-5, -6, function(){\n    return (x1_conditional.X().toFixed(2).isNaN && x2_conditional.X().toFixed(2).isNaN ) ? String.raw`\\begin{align*}\\\\No solution\\\\\\end{align*}` : String.raw`\n            \\begin{align*}\n            \\\\\n            Root:\\ x_1 = ${x1_conditional.X().toFixed(2)}\\ or\\ x_2 = ${x2_conditional.X().toFixed(2)}\\\\\n            \\\\\n            \\end{align*}`;\n    }]);\n\nvar text2 = board.create(\"text\", [-5, -7.5, function(){\n    return a.Value() <0 ? String.raw`\\begin{align*} x\\ < ${x1_conditional.X().toFixed(2)}\\ \\ or\\ x >\\ ${x2_conditional.X().toFixed(2)}\\\\\\end{align*}`: String.raw`\n            \\begin{align*}\n            ${x1_conditional.X().toFixed(2)}\\ <\\ x\\ <\\ ${x2_conditional.X().toFixed(2)}\\\\\n            \\end{align*}`;\n    }]);\n",
      "metadata": {
        "trusted": true
      },
      "execution_count": 5,
      "outputs": [
        {
          "output_type": "display_data",
          "data": {
            "application/vnd.jupyter.widget-view+json": {
              "model_id": "13c868af1d2d4680978803ceecfe46fb",
              "version_major": 2,
              "version_minor": 0
            },
            "text/plain": "JSWidget(value=None, height=400, html='<!DOCTYPE html>\\n<html>\\n    <head>\\n    <style>\\n    html, body {\\n   …"
          },
          "metadata": {}
        }
      ],
      "id": "98ac4fc8-46b4-4d80-b76f-d0bb128920b6"
    },
    {
      "cell_type": "markdown",
      "source": "You can try to match the values of first quadratic graph and ranged 1 axis above to get an understanding in the solution.",
      "metadata": {},
      "id": "93150fb8-a311-4dcd-9134-e94b52f977f5"
    },
    {
      "cell_type": "markdown",
      "source": "## Part III: Linear Inequalities in Two Unknowns",
      "metadata": {},
      "id": "cc7101dd-fe26-4d6f-925f-4dfc3be09a6d"
    },
    {
      "cell_type": "markdown",
      "source": "### Represent the Graph of Linear Inequalities in Two Unknowns in the Rectangular Coordinate Plane",
      "metadata": {
        "tags": []
      },
      "id": "d997d2f3-c9e6-4872-b851-56cc624dad8d"
    },
    {
      "cell_type": "markdown",
      "source": "Solving inequalities in two unknowns has similar solving logic as in one unknowns. The only thing that differs is only the additional of $y$-axis.\n\n$$\n\\begin{align*}\n2x + 3y > 5\n\\end{align*}\n$$\n\nIf we try to calculate it, this expression will have multiple solutions as presented in the table below.",
      "metadata": {},
      "id": "ec3c9653-149c-4181-8b36-628d4fb022c7"
    },
    {
      "cell_type": "markdown",
      "source": "| Test Case \t|  \t x    |    y   \t| Result| \n|-------------|---------|---------|-------|\n|    \t1       |    0   \t|    2   \t|   6   |\n|    \t2       |    1   \t|    2   \t|   8   | \n|     3       |    2   \t|    3   \t|   13  | \n|     4\t      |    3   \t|    1   \t|   9   | \n|     5\t      |    4   \t|    0   \t|   8   |\n|     ...\t    |    ...  |    ...  |   ... |\n\nLook closely in the graph, the points are making a random pattern, which seems like impossible to be graphed.",
      "metadata": {},
      "id": "791b6e0b-cb76-4a0e-bea8-574998a92c1b"
    },
    {
      "cell_type": "code",
      "source": "%%jsxgraph -i box -h 400 --width=400 -m https://www.cs.cityu.edu.hk/~ccha23/js/load-mathjax.js\nJXG.Options.text.useMathJax = true;\nvar board = JXG.JSXGraph.initBoard('box', {boundingbox: [-5, 5, 5, -5], axis:true, grid:true, showCopyright:false});\n\nvar p1 = board.create(\"point\", [0, 2], {name: \"p1\", Color: \"black\", size: 2})\nvar p2 = board.create(\"point\", [1, 2], {name: \"p2\", Color: \"black\", size: 2})\nvar p3 = board.create(\"point\", [2, 3], {name: \"p3\", Color: \"black\", size: 2})\nvar p4 = board.create(\"point\", [3, 1], {name: \"p4\", Color: \"black\", size: 2})\nvar p5 = board.create(\"point\", [4, 0], {name: \"p5\", Color: \"black\", size: 2})",
      "metadata": {
        "trusted": true
      },
      "execution_count": 6,
      "outputs": [
        {
          "output_type": "display_data",
          "data": {
            "application/vnd.jupyter.widget-view+json": {
              "model_id": "dc2d8c7067ae438da76075ec4c5fb188",
              "version_major": 2,
              "version_minor": 0
            },
            "text/plain": "JSWidget(value=None, height=400, html='<!DOCTYPE html>\\n<html>\\n    <head>\\n    <style>\\n    html, body {\\n   …"
          },
          "metadata": {}
        }
      ],
      "id": "1cf33024-a9c6-4948-b3ed-61680a8a74df"
    },
    {
      "cell_type": "markdown",
      "source": "Analogically, in the previous part of quadratic inequalities, we had this function:\n\n$$\n\\begin{align*}\nx^2 - 3x - 4 < 0\n\\end{align*}\n$$\n\nWe may put down a list of values to achieve the primary goal, which is $f(x) < 0$. However, same as the linear example before, plotting the arbitrary dots in graph will never make a pattern that define the range of the function.",
      "metadata": {},
      "id": "ca94c692-e3df-4370-a6c5-2447ccceb180"
    },
    {
      "cell_type": "markdown",
      "source": "| Test Case \t|  \t x    | Result| \n|-------------|---------|-------|\n|    \t1       |    0   \t|   -4  |\n|    \t2       |    1   \t|   -6  | \n|     3       |    2   \t|   -6  | \n|     4\t      |    2.5 \t| -5.25 | \n|     5\t      |    3   \t|   -4  |\n|     ...\t    |    ...  |   ... |\n",
      "metadata": {},
      "id": "a56363a1-56f9-4c76-be11-54d0a89bbb54"
    },
    {
      "cell_type": "code",
      "source": "%%jsxgraph -i box -h 400 --width=400 -m https://www.cs.cityu.edu.hk/~ccha23/js/load-mathjax.js\nJXG.Options.text.useMathJax = true;\nvar board = JXG.JSXGraph.initBoard('box', {boundingbox: [-8, 8, 8, -8], axis:true, grid:true, showCopyright:false});\n\nvar p1 = board.create(\"point\", [0, -4], {name: \"p1\", Color: \"black\", size: 2})\nvar p2 = board.create(\"point\", [1, -6], {name: \"p2\", Color: \"black\", size: 2})\nvar p3 = board.create(\"point\", [2, -6], {name: \"p3\", Color: \"black\", size: 2})\nvar p4 = board.create(\"point\", [2.5, -5.25], {name: \"p4\", Color: \"black\", size: 2})\nvar p4 = board.create(\"point\", [3, -4], {name: \"p5\", Color: \"black\", size: 2})\n",
      "metadata": {
        "trusted": true
      },
      "execution_count": 7,
      "outputs": [
        {
          "output_type": "display_data",
          "data": {
            "application/vnd.jupyter.widget-view+json": {
              "model_id": "4482bcc70d7b4e4498dc465bd6718030",
              "version_major": 2,
              "version_minor": 0
            },
            "text/plain": "JSWidget(value=None, height=400, html='<!DOCTYPE html>\\n<html>\\n    <head>\\n    <style>\\n    html, body {\\n   …"
          },
          "metadata": {}
        }
      ],
      "id": "a5462723-ed16-4c22-9a8c-95e494dbe563"
    },
    {
      "cell_type": "markdown",
      "source": "The only way we can graph it is to consider the expression as normal linear equation. Consider the expression from above:\n\n$$\n\\begin{align*}\n2x + 3y > 5\n\\end{align*}\n$$\n\nWith the given inequalities, we need to find the border values in which is the top limit of $x$ and $y$ of the function.\n\n$$\n\\begin{align*}\n2x + 3y &= 5\\\\\ny &= -\\frac{2}{3}x + \\frac{5}{3}\n\\end{align*}\n$$\n\nNow the form is proper for us to find the exact $x$ and $y$ of the function slope.\n\n| Test Case \t|  \t x    |    y   \t|\n|-------------|---------|---------|\n|    \t1       |    0   \t|    5/3  |\n|    \t2       |    1   \t|    1   \t| \n|     3       |    2   \t|    1/3  | \n|     4\t      |    3   \t|   -1/3  | \n|     5\t      |    4   \t|    -1   |\n|     ...\t    |    ...  |    ...  |",
      "metadata": {},
      "id": "01f2ce7e-5654-4c11-8bb5-4a4d1f5264f7"
    },
    {
      "cell_type": "code",
      "source": "%%jsxgraph\nJXG.Options.text.useMathJax = true;\nvar board = JXG.JSXGraph.initBoard('box', {boundingbox: [-5, 5, 5, -5], axis:true, grid:true, showCopyright:false});\n\nvar a = board.create('slider', [[-4, 4], [-2, 4], [-8, 2, 8]], {name:'a', snapWidth: 0.1});\nvar b = board.create('slider', [[-4, 3.5], [-2, 3.5], [-8, 3, 8]], {name:'b', snapWidth: 0.1});\nvar c = board.create('slider', [[-4, 3], [-2, 3], [-8, 5, 8]], {name:'c', snapWidth: 0.1});\n\n\nvar expression = board.create(\"text\", [-4, -2, () =>{\n    return String.raw`\n    \\begin{align*}\n    \\\\\n    ax\\ +\\ by\\ =\\ c:\\\\\n    \\\\\n    (${a.Value().toFixed(1)})x\\ +\\ (${b.Value().toFixed(1)})y\\ > ${c.Value().toFixed(1)}\n    \\\\\n    \\end{align*}`;\n}])\n\n\nvar graph = board.create('functiongraph', [function(x){return (-a.Value().toFixed(1)/b.Value().toFixed(1))*x + (c.Value().toFixed(1)/b.Value().toFixed(1));}, -100, 100]);\n\nvar inequality = board.create('inequality', [graph], {inverse:true})\n\n\nvar line = board.create('line',[[-7,0],[7,0]], {visible: false});\nvar line2 = board.create('line',[[0,-7],[0,7]], {visible: false});\n\nvar p1 = board.create('intersection',[graph, line, 0],{name:\"p1\", fillColor:'white'});\nvar p2 = board.create('intersection',[graph, line2, 0],{name:\"p2\", fillColor:'white'});",
      "metadata": {
        "trusted": true
      },
      "execution_count": 8,
      "outputs": [
        {
          "output_type": "display_data",
          "data": {
            "application/vnd.jupyter.widget-view+json": {
              "model_id": "de89671c2b024c50bb25bebdd5fd2fed",
              "version_major": 2,
              "version_minor": 0
            },
            "text/plain": "JSWidget(value=None, height=600, html='<!DOCTYPE html>\\n<html>\\n    <head>\\n    <style>\\n    html, body {\\n   …"
          },
          "metadata": {}
        }
      ],
      "id": "46c854de-db8f-419a-a7e7-a2d5cc907ed5"
    },
    {
      "cell_type": "markdown",
      "source": "Now you can try with different equations and see how it would affect the position of the lines.",
      "metadata": {},
      "id": "57a99fb1-f002-4cff-8a9a-7a969a6c5f55"
    },
    {
      "cell_type": "markdown",
      "source": "### Solve Systems of Linear Inequalities in Two Unknowns",
      "metadata": {
        "tags": []
      },
      "id": "3ae697c2-c7c9-4865-947e-77864b66ea71"
    },
    {
      "cell_type": "markdown",
      "source": "Understanding how to graph a linear inequalities in two unknowns, we are going to solve problems involving two or more expressions. Suppose we have this problem.\n\n$$\n\\begin{equation}\nfunction = \\left\\{\n\\begin{aligned}\n&\\ y\\ >\\ x + 2 \\\\\n&-\\ y \\le\\ 2x + 2 \\\\\n\\end{aligned}\n\\right.\n\\\\\n\\end{equation}\n$$\n\n$$\n\\begin{align*}\n\\\\\n\\end{align*}\n$$\nFind $x$ and $y$ that satisfy both function.\n\nSame as before, we just need to consider the function to be:\n\n$$\n\\begin{equation}\nfunction = \\left\\{\n\\begin{aligned}\n&\\ y\\ =\\ x + 2 \\\\\n&-\\ y =\\ 2x + 2 \\\\\n\\end{aligned}\n\\right.\n\\\\\n\\end{equation}\n$$\n\n$$\n\\begin{align*}\n\\\\\nFunction\\ 1\\ (J)\\\\\n\\end{align*}\n$$\n\n| Test Case \t|  \t x    |    y   \t|\n|-------------|---------|---------|\n|    \t1       |    0   \t|    2    |\n|    \t2       |    1   \t|    3   \t| \n|     3       |    2   \t|    4    | \n|     4\t      |    3   \t|    5    | \n|     5\t      |    4   \t|    6    |\n|     ...\t    |    ...  |    ...  |\n\n$$\n\\begin{align*}\n\\\\\nFunction\\ 2\\ (K)\\\\\n\\end{align*}\n$$\n\n| Test Case \t|  \t x    |    y   \t|\n|-------------|---------|---------|\n|    \t1       |    0   \t|    -2   |\n|    \t2       |    1   \t|    -4   | \n|     3       |    2   \t|    -6   | \n|     4\t      |    3   \t|    -8   | \n|     5\t      |    4   \t|   -10   |\n|     ...\t    |    ...  |    ...  |",
      "metadata": {},
      "id": "dbe4f9dd-2c9f-4bf8-9aee-5ae0cdb04012"
    },
    {
      "cell_type": "code",
      "source": "%%jsxgraph -m https://www.cs.cityu.edu.hk/~ccha23/js/load-mathjax.js\nJXG.Options.text.useMathJax = true;\nvar board = JXG.JSXGraph.initBoard('box', {boundingbox: [-8, 8, 8, -8], axis:true, grid:true, showCopyright:false});\n\nvar function1 = board.create(\"text\", [-7, -3, ()=>{\n    return String.raw`\n    \\begin{align*}\n      Function\\ 1\n    \\end{align*}`\n}])\n\nvar slider1 = board.create('slider', [[-7, -4], [-3, -4], [-8, 0, 8]], {name:'x1 value', snapWidth: 0.1});\nvar slider2 = board.create('slider', [[-7, -5], [-3, -5], [-8, 2, 8]], {name:'y1 value', snapWidth: 0.1});\nvar slider3 = board.create('slider', [[-7, -6], [-3, -6], [-8, 4, 8]], {name:'x2 value', snapWidth: 0.1});\nvar slider4 = board.create('slider', [[-7, -7], [-3, -7], [-8, 6, 8]], {name:'y2 value', snapWidth: 0.1});\n\n\n\nvar function2 = board.create(\"text\", [1, -3, ()=>{\n    return String.raw`\n    \\begin{align*}\n      Function\\ 2\n    \\end{align*}`\n}])\n\nvar slider5 = board.create('slider', [[1, -4], [5, -4], [-8, 0, 8]], {name:'x1 value', snapWidth: 0.1});\nvar slider6 = board.create('slider', [[1, -5], [5, -5], [-8, -2, 8]], {name:'y1 value', snapWidth: 0.1});\nvar slider7 = board.create('slider', [[1, -6], [5, -6], [-8, 2, 8]], {name:'x2 value', snapWidth: 0.1});\nvar slider8 = board.create('slider', [[1, -7], [5, -7], [-8, -6, 8]], {name:'y2 value', snapWidth: 0.1});\n\n\n\nvar p1 = board.create(\"point\", [()=>{return slider1.Value()}, ()=>{return slider2.Value()}], {name: \"J1\", size: 2, fillColor: \"white\"})\nvar p2 = board.create(\"point\", [()=>{return slider3.Value()}, ()=>{return slider4.Value()}], {name: \"J5\", size: 2, fillColor: \"white\"})\n\nvar line = board.create('line', [p1, p2], {strokeWidth: 2})\nvar inequality = board.create('inequality', [line], {fillColor: \"yellow\"})\n\nvar p3 = board.create(\"point\", [()=>{return slider5.Value()}, ()=>{return slider6.Value()}], {name: \"K1\", size: 2, fillColor: \"white\"})\nvar p4 = board.create(\"point\", [()=>{return slider7.Value()}, ()=>{return slider8.Value()}], {name: \"K5\", size: 2, fillColor: \"white\"})\n\nvar line2 = board.create('line', [p3, p4], {strokeWidth: 2, label: \"Hello\"})\nvar inequality2 = board.create('inequality', [line2])\n\n\nvar functions = board.create(\"text\", [-7, 5, function(){\n    return String.raw`\n              \\begin{empheq} \n                 [left={\\text{Function: } \\empheqlbrace}]{align}\n                 y &> ${((p2.Y() - p1.Y()) / (p2.X() - p1.X())).toFixed(2)}x + ${(p1.Y() - (((p2.Y() - p1.Y()) / (p2.X() - p1.X())).toFixed(2))*p1.X()).toFixed(2)}\\nonumber\\\\\n                 y &\\ge ${((p4.Y() - p3.Y()) / (p4.X() - p3.X())).toFixed(2)}x + ${(p3.Y() - (((p4.Y() - p3.Y()) / (p4.X() - p3.X())).toFixed(2))*p3.X()).toFixed(2)}\\nonumber\\\\\n              \\end{empheq}`;\n}], {fontSize: 15})",
      "metadata": {
        "trusted": true
      },
      "execution_count": 9,
      "outputs": [
        {
          "output_type": "display_data",
          "data": {
            "application/vnd.jupyter.widget-view+json": {
              "model_id": "1f77c6d8e3df4b2d82ea8f6bf017c54b",
              "version_major": 2,
              "version_minor": 0
            },
            "text/plain": "JSWidget(value=None, height=600, html='<!DOCTYPE html>\\n<html>\\n    <head>\\n    <style>\\n    html, body {\\n   …"
          },
          "metadata": {}
        }
      ],
      "id": "3b65c68f-7754-487b-95ca-dfe64d23fe63"
    },
    {
      "cell_type": "markdown",
      "source": "## Part IV: Solve Linear Programming Problems",
      "metadata": {
        "tags": []
      },
      "id": "b5bfe60e-5173-4a76-9f81-a6bbb5829696"
    },
    {
      "cell_type": "markdown",
      "source": "Linear Programming, so called as Linear Optimization, is a mathematical method that returns greatest/optimized product for given resource. Problems of linear programming is very commonly seen in business, engineering, and manufacturing field. One of the example is this kind of problem:",
      "metadata": {},
      "id": "5efabe3c-930f-4e12-9fab-db48261e74ef"
    },
    {
      "cell_type": "markdown",
      "source": "A store sells two types of toys, A and B. The store owner pays 8 and 14 for each one unit of toy A and B respectively. One unit of toys A yields a profit of 2 while a unit of toys B yields a profit of 3. The store owner estimates that no more than 2000 toys will be sold every month and he does not plan to invest more than $20,000 in inventory of these toys. How many units of each type of toys should be stocked in order to maximize his monthly total profit profit?",
      "metadata": {},
      "id": "c230b3e3-3bf9-4ad6-b621-3b9cb371f002"
    },
    {
      "cell_type": "markdown",
      "source": "$$\n\\begin{align*}\nx \\ge 0\\\\\ny \\ge 0\\\\\nx + y \\le 2000\\\\\n8x + 14y \\le 20000\\\\\nP = 2x + 3y\n\\end{align*}\n$$\n\nLooking at the functions, it might be confusing to decide which one to do primarily. Therefore, we need to find the vertices of each primary function. Namely,\n\n$$\n\\begin{align*}\nx + y \\le 2000\\\\\n8x + 14y \\le 20000\n\\end{align*}\n$$\n\nThe easiest way is to find $  y $ value when $  x = 0 $ and vice versa. You can also try to do elimination or substitution in order to obtain sample points to graph. Calculating carefully, these are the vertices of the solution set.\n\n$$\n\\begin{align*}\nA &\\text{ at } (0, 0)\\\\\nB &\\text{ at } (0, 1429)\\\\\nC &\\text{ at } (1333, 667)\\\\\nD &\\text{ at } (2000, 0)\n\\end{align*}\n$$\n\nGraphically it will look like this:",
      "metadata": {},
      "id": "5393b08f-1c36-40c6-b671-976cf0056694"
    },
    {
      "cell_type": "code",
      "source": "%%jsxgraph -m https://www.cs.cityu.edu.hk/~ccha23/js/load-mathjax.js\nJXG.Options.text.useMathJax = true;\nvar board = JXG.JSXGraph.initBoard('box', {boundingbox: [-2500, 2500, 2500, -2500], axis:true, showCopyright:false});\n\nvar A = board.create(\"point\", [()=>{return 0}, ()=>{return 0}], {name: \"A\", size: 2})\nvar B = board.create(\"point\", [()=>{return 0}, ()=>{return 1429}], {name: \"B\", size: 2})\nvar C = board.create(\"point\", [()=>{return 1333}, ()=>{return 667}], {name: \"C\", size: 2})\nvar D = board.create(\"point\", [()=>{return 2000}, ()=>{return 0}], {name: \"D\", size: 2})\n\nvar line1 = board.create('line', [A, B], {strokeWidth: 2, straightFirst:false, straightLast: false})\nvar line2 = board.create('line', [B, C], {strokeWidth: 2, straightFirst:false, straightLast: false})\nvar line3 = board.create('line', [C, D], {strokeWidth: 2, straightFirst:false, straightLast: false})\nvar line4 = board.create('line', [D, A], {strokeWidth: 2, straightFirst:false, straightLast: false})\n\nvar shade = board.create('polygon', [A, B, C, D], {borders: {visible: false}, vertices: {visible: false}});",
      "metadata": {
        "trusted": true
      },
      "execution_count": 10,
      "outputs": [
        {
          "output_type": "display_data",
          "data": {
            "application/vnd.jupyter.widget-view+json": {
              "model_id": "f26ec54e942640d1baf5d9e34093af71",
              "version_major": 2,
              "version_minor": 0
            },
            "text/plain": "JSWidget(value=None, height=600, html='<!DOCTYPE html>\\n<html>\\n    <head>\\n    <style>\\n    html, body {\\n   …"
          },
          "metadata": {}
        }
      ],
      "id": "3267cc63-eade-4a38-9c45-a36a8c067bcc"
    },
    {
      "cell_type": "markdown",
      "source": "Now we have 4 coordinate to test to the $P$ function to check which $x$ and $y$ value will produce the optimal solution.\n\n$$\n\\begin{align*}\nP(A) &= 2 \\times 0 + 3 \\times 0 = 0 \\\\\nP(B) &= 2 \\times 0  + 3 \\times 1429  = 4287 \\\\\nP(C) &= 2 \\times 1333 + 3(667 = 4667 \\\\\nP(D) &= 2 \\times 2000 + 3 \\times 0 = 4000\n\\end{align*}\n$$\n\nWe can see the coordinate that produces the greatest profit (optimal result) is the coordinate $C$. Therefore, we can conclude that the toy owner should has 1333 toys of type A and 667 toys of type B in order to maximize his profit.",
      "metadata": {},
      "id": "b178c9b4-991b-4c92-bcdc-e6a220f2061d"
    }
  ]
}