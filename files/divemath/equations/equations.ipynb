{
 "cells": [
  {
   "cell_type": "markdown",
   "id": "e5a51483-3eda-4471-993e-c92da0500497",
   "metadata": {},
   "source": [
    "# Solving Equations"
   ]
  },
  {
   "cell_type": "markdown",
   "id": "200e1f45-6d45-4960-9a45-8bf9c399f1e7",
   "metadata": {},
   "source": [
    "**DIVE into Math**\n",
    "\n",
    "---"
   ]
  },
  {
   "cell_type": "markdown",
   "id": "1c2231b6-772f-4186-a434-146f889a57cd",
   "metadata": {},
   "source": [
    "Contributor(s): \n",
    "\n",
    "- Yuan Xu  \n",
    "- Chao Zhao\n",
    "\n",
    "---"
   ]
  },
  {
   "cell_type": "code",
   "execution_count": null,
   "id": "e72e1dd3-09e4-49b0-98f5-ec3ed7211357",
   "metadata": {
    "tags": []
   },
   "outputs": [],
   "source": [
    "%reload_ext divewidgets"
   ]
  },
  {
   "cell_type": "markdown",
   "id": "b55bd11e-79e6-4da7-a932-6645cebf6a4e",
   "metadata": {},
   "source": [
    "Simultaneous equations are two or more algebraic equations that share variables e.g. $x$ and $y$.\n",
    "\n",
    "They are called simultaneous equations because the equations are solved at the same time.\n",
    "\n",
    "We will introduce two method to solve simultaneous equations."
   ]
  },
  {
   "cell_type": "markdown",
   "id": "0757d7fe-4833-4fd4-85fd-c03a991413e0",
   "metadata": {},
   "source": [
    "## Part I: Solve Simultaneous Equations in Two Unknowns with One Linear and One Quadratic"
   ]
  },
  {
   "cell_type": "markdown",
   "id": "31edcae7-92aa-4670-a280-6eeaaf9f1ada",
   "metadata": {},
   "source": [
    "## Graphical Method"
   ]
  },
  {
   "cell_type": "markdown",
   "id": "9bfa35d0-b8da-4390-9bc3-eeb579773296",
   "metadata": {},
   "source": [
    "Use the graphical method to solve simultaneous\n",
    "equations in two unknowns\n",
    "\n",
    "*   one linear $$y=dx+e $$\n",
    "*   one quadratic $$y = ax^2 + bx + c$$\n",
    "\n",
    "\n"
   ]
  },
  {
   "cell_type": "code",
   "execution_count": null,
   "id": "cf17c504-cae0-4cfa-9331-1e2c910b639d",
   "metadata": {
    "jupyter": {
     "source_hidden": true
    },
    "tags": []
   },
   "outputs": [],
   "source": [
    "%%jsxgraph -i jxgbox -h 300 -m https://www.cs.cityu.edu.hk/~ccha23/js/load-mathjax.js\n",
    "JXG.Options.text.useMathJax = true;\n",
    "var brd = JXG.JSXGraph.initBoard('jxgbox', {boundingbox: [-8, 8, 8, -4], axis:true,  showCopyright:false});\n",
    "var a = brd.create('slider', [[3, 6], [6,6], [-3, 1, 3]], {name:'a', snapWidth: 0.1});\n",
    "var b = brd.create('slider', [[3, 5], [6,5], [-3, 0, 3]], {name:'b', snapWidth: 0.1});\n",
    "var c = brd.create('slider', [[3, 4], [6,4], [-3, 0, 3]], {name:'c', snapWidth: 0.1});\n",
    "var d = brd.create('slider', [[3, 3], [6,3], [-3, 1, 3]], {name:'d', snapWidth: 0.1});\n",
    "var e = brd.create('slider', [[3, 2], [6,2], [-3, 0, 3]], {name:'e', snapWidth: 0.1});\n",
    "var graph1 = brd.create('functiongraph', [function(x){return a.Value()*x*x + b.Value()*x + c.Value();}, -10, 10]);\n",
    "var graph2 = brd.create( 'functiongraph', [function(x){return d.Value()*x + e.Value();}, -10, 10]);\n",
    "var i = brd.create('intersection', [graph1, graph2, 0]);\n",
    "var j = brd.create('intersection', [graph1, graph2, 1]);\n",
    "var text1 = brd.create('text',[-5,2,function(){return '\\\\[\\\\M{y}=ax^2+bx+c\\\\]';}]);\n",
    "var text2 = brd.create('text',[-5,-2,function(){return '\\\\[\\\\M{y}=dx+e\\\\]';}]);"
   ]
  },
  {
   "cell_type": "markdown",
   "id": "1af2f42f-1c1e-4c83-a558-3f3c79085f63",
   "metadata": {},
   "source": [
    "The intersection of the parabola and the line can be found by plotting the image of the two functions on the coordinate system. If there is no intersection then it means that this simultaneous equation has no solution.\n",
    "In the above graph, point A and B are the intersections as well as the solutions of the simultaneous equations."
   ]
  },
  {
   "cell_type": "markdown",
   "id": "99f5510e-a9d5-471b-9ed8-29a6cbcd3adc",
   "metadata": {},
   "source": [
    "Try it yourself:\n"
   ]
  },
  {
   "cell_type": "markdown",
   "id": "8a94326d-1ab1-4f9d-8677-b8814fa47d4b",
   "metadata": {},
   "source": [
    "$$y=x^2-3x+1$$\n",
    "\n",
    "$$y=x-1$$"
   ]
  },
  {
   "cell_type": "markdown",
   "id": "f7c3cd6c-e84f-4b3e-9450-98670414324b",
   "metadata": {},
   "source": [
    "## Algebraic Method"
   ]
  },
  {
   "cell_type": "markdown",
   "id": "441bf67f-4f29-4cd1-adb8-7c65d6a37364",
   "metadata": {},
   "source": [
    "Use the algebraic method to solve simultaneous\n",
    "equations in two unknowns, one linear and one\n",
    "quadratic"
   ]
  },
  {
   "cell_type": "markdown",
   "id": "8aaaea71-6325-4c43-9fa7-99495d73d3e7",
   "metadata": {},
   "source": [
    "$$y=ax^2+bx+c$$\n",
    "$$y=dx+e$$\n",
    "\n",
    "The aim of algebraic method is to keep one unknow element."
   ]
  },
  {
   "cell_type": "markdown",
   "id": "182429a4-f07a-4df2-a7a2-79d09babcdd0",
   "metadata": {},
   "source": [
    "$$dx+e=ax^2+bx+c$$"
   ]
  },
  {
   "cell_type": "markdown",
   "id": "40a583b6-a2af-45ca-8b9c-885c31ee880f",
   "metadata": {},
   "source": [
    "As you can see, there only exists x. "
   ]
  },
  {
   "cell_type": "markdown",
   "id": "a07ea1d1-3567-452f-8eba-ead8f6dca28c",
   "metadata": {},
   "source": [
    "move the x to the same side and we will get: \n",
    "\n",
    "$$0=ax^2+(b-d)x+c-e$$"
   ]
  },
  {
   "cell_type": "markdown",
   "id": "33ed295e-cd43-4ab0-a5b5-90913912f3ca",
   "metadata": {},
   "source": [
    "In this way, we can easily find the two root of this equation.\n",
    "\n",
    "We can see $b-d$ as $B$ and $c-e$ as $C$ \n",
    "\n",
    "Therefore, the derteminant is\n",
    "\n",
    "$$\\Delta = \\sqrt{B^2-4aC}.$$\n",
    "\n",
    "and the roots are\n",
    "\n",
    "$$\n",
    "\\begin{equation}\n",
    "x_1, x_2 = \\left\\{\n",
    "\\begin{aligned}\n",
    "&\\frac{-B \\pm \\sqrt{B^2-4aC}}{2a}, & \\text{ when } \\Delta > 0 \\\\\n",
    "&-\\frac{B}{2a}, & \\text{ when } \\Delta = 0 \\\\\n",
    "& \\text{real roots don't exist}, & \\text{ when } \\Delta < 0.\n",
    "\\end{aligned}\n",
    "\\right.\n",
    "\\end{equation}\n",
    "$$\n"
   ]
  },
  {
   "cell_type": "markdown",
   "id": "31ac923b-e060-453f-b9ed-004912ba81c2",
   "metadata": {},
   "source": [
    "## Part II:  Solve Equations Which can be Transformed into quadratic equations"
   ]
  },
  {
   "cell_type": "markdown",
   "id": "289ab22d-e11b-4236-8b61-f86fa8e824a1",
   "metadata": {},
   "source": [
    "Lets try fractional equations:\n",
    "\n",
    "$$x+\\frac{2}{x}=3$$"
   ]
  },
  {
   "cell_type": "code",
   "execution_count": null,
   "id": "69210e38-d6d4-4770-9abf-dee4b3592caf",
   "metadata": {
    "jupyter": {
     "source_hidden": true
    },
    "tags": []
   },
   "outputs": [],
   "source": [
    "%%jsxgraph -i jxgbox -h 300 -m https://www.cs.cityu.edu.hk/~ccha23/js/load-mathjax.js\n",
    "JXG.Options.text.useMathJax = true;\n",
    "var brd = JXG.JSXGraph.initBoard('jxgbox', {boundingbox: [-8, 8, 8, -4], axis:true,  showCopyright:false});\n",
    "var graph1 = brd.create('functiongraph', [function(x){return x + 2/x}, -10, 10]);\n",
    "var graph2 = brd.create( 'functiongraph', [function(x){return x=3;}, -10, 10]);\n",
    "var i = brd.create('intersection', [graph1, graph2, 0]);\n",
    "var j = brd.create('intersection', [graph1, graph2, 1]);"
   ]
  },
  {
   "cell_type": "markdown",
   "id": "12960246-80f0-4c59-92e0-14c2b9c2a459",
   "metadata": {},
   "source": [
    "Or, we can multiply both side by $x$: \n",
    "$$x^2+2=3x$$ "
   ]
  },
  {
   "cell_type": "code",
   "execution_count": null,
   "id": "1fba1a6e-47c0-404f-8cbe-3369596a5325",
   "metadata": {
    "jupyter": {
     "source_hidden": true
    },
    "tags": []
   },
   "outputs": [],
   "source": [
    "%%jsxgraph -i jxgbox -h 300 -m https://www.cs.cityu.edu.hk/~ccha23/js/load-mathjax.js\n",
    "JXG.Options.text.useMathJax = true;\n",
    "var brd = JXG.JSXGraph.initBoard('jxgbox', {boundingbox: [-8, 8, 8, -4], axis:true,  showCopyright:false});\n",
    "var graph1 = brd.create('functiongraph', [function(x){return x*x + 2}, -10, 10]);\n",
    "var graph2 = brd.create( 'functiongraph', [function(x){return 3*x;}, -10, 10]);\n",
    "var i = brd.create('intersection', [graph1, graph2, 0]);\n",
    "var j = brd.create('intersection', [graph1, graph2, 1]);"
   ]
  },
  {
   "cell_type": "markdown",
   "id": "f8a85e1a-7c5c-45d9-802b-19adf3b9b9bf",
   "metadata": {},
   "source": [
    "You will find that the $x$ value of $A$ and $B$ are the same.\n",
    "This proivdes us a way to solve fractional equations"
   ]
  },
  {
   "cell_type": "markdown",
   "id": "2ea83b2b-a0cb-4292-81b5-8e670fb14260",
   "metadata": {},
   "source": [
    "**Exercise:**"
   ]
  },
  {
   "cell_type": "markdown",
   "id": "ba53f113-a200-48d2-9e64-88a858e3a84d",
   "metadata": {},
   "source": [
    "Use the method above to solve:\n",
    "\n",
    "  \n",
    "1. $x^3-\\frac{8}{x^3}=7$\n",
    "2. $16x^2-\\frac{16}{x^2}=255$\n"
   ]
  },
  {
   "cell_type": "markdown",
   "id": "93488272-2e71-429e-8a43-1a18d53d5136",
   "metadata": {
    "deletable": false,
    "nbgrader": {
     "cell_type": "markdown",
     "checksum": "11b903531c3dc15001aba9cee6eb2924",
     "grade": true,
     "grade_id": "p1",
     "locked": false,
     "points": 1,
     "schema_version": 3,
     "solution": true,
     "task": false
    },
    "tags": []
   },
   "source": [
    "YOUR ANSWER HERE"
   ]
  }
 ],
 "metadata": {
  "kernelspec": {
   "display_name": "Python (XPython)",
   "language": "python",
   "name": "xeus-python"
  },
  "language_info": {
   "codemirror_mode": {
    "name": "ipython",
    "version": 3
   },
   "file_extension": ".py",
   "mimetype": "text/x-python",
   "name": "python",
   "nbconvert_exporter": "python",
   "pygments_lexer": "ipython3",
   "version": "3.10.6"
  },
  "widgets": {
   "application/vnd.jupyter.widget-state+json": {
    "state": {
     "0c693475df39404f85be5f77445970e9": {
      "model_module": "jupyter-divewidgets",
      "model_module_version": "^0.1.5",
      "model_name": "JSWidgetModel",
      "state": {
       "_model_module_version": "^0.1.5",
       "_view_module_version": "^0.1.5",
       "height": 300,
       "html": "<!DOCTYPE html>\n<html>\n    <head>\n    <style>\n    html, body {\n        height: 100%;\n    }\n    body {\n        width: 100%;\n        display: flex;\n        padding: 0;\n        margin: 0;\n    }\n    .jxgbox {\n        width:100%; \n        flex-grow: 1;\n    }\n    </style>\n    <link rel=\"stylesheet\" type=\"text/css\" href=\"https://jsxgraph.org/distrib/jsxgraph.css\" />\n    <script type=\"text/javascript\" src=\"https://cdn.jsdelivr.net/npm/jsxgraph/distrib/jsxgraphcore.js\"></script>\n    <script type=\"text/javascript\" src=\"https://www.cs.cityu.edu.hk/~ccha23/js/load-mathjax.js\"></script>\n    </head>\n<body>\n<div id=\"jxgbox\" class=\"jxgbox\"></div>\n</body>\n</html>",
       "js": "JXG.Options.text.useMathJax = true;\nvar brd = JXG.JSXGraph.initBoard('jxgbox', {boundingbox: [-8, 8, 8, -4], axis:true,  showCopyright:false});\nvar graph1 = brd.create('functiongraph', [function(x){return x + 2/x}, -10, 10]);\nvar graph2 = brd.create( 'functiongraph', [function(x){return x=3;}, -10, 10]);\nvar i = brd.create('intersection', [graph1, graph2, 0]);\nvar j = brd.create('intersection', [graph1, graph2, 1]);",
       "layout": "IPY_MODEL_8b09acc08e5a45eda4959fe20f5bcf61"
      }
     },
     "306463ed487046a1820c400299eb653e": {
      "model_module": "@jupyter-widgets/base",
      "model_module_version": "2.0.0",
      "model_name": "LayoutModel",
      "state": {}
     },
     "8b09acc08e5a45eda4959fe20f5bcf61": {
      "model_module": "@jupyter-widgets/base",
      "model_module_version": "2.0.0",
      "model_name": "LayoutModel",
      "state": {}
     },
     "d0de6c0495e94952871613679dde137d": {
      "model_module": "jupyter-divewidgets",
      "model_module_version": "^0.1.5",
      "model_name": "JSWidgetModel",
      "state": {
       "_model_module_version": "^0.1.5",
       "_view_module_version": "^0.1.5",
       "height": 300,
       "html": "<!DOCTYPE html>\n<html>\n    <head>\n    <style>\n    html, body {\n        height: 100%;\n    }\n    body {\n        width: 100%;\n        display: flex;\n        padding: 0;\n        margin: 0;\n    }\n    .jxgbox {\n        width:100%; \n        flex-grow: 1;\n    }\n    </style>\n    <link rel=\"stylesheet\" type=\"text/css\" href=\"https://jsxgraph.org/distrib/jsxgraph.css\" />\n    <script type=\"text/javascript\" src=\"https://cdn.jsdelivr.net/npm/jsxgraph/distrib/jsxgraphcore.js\"></script>\n    <script type=\"text/javascript\" src=\"https://www.cs.cityu.edu.hk/~ccha23/js/load-mathjax.js\"></script>\n    </head>\n<body>\n<div id=\"jxgbox\" class=\"jxgbox\"></div>\n</body>\n</html>",
       "js": "JXG.Options.text.useMathJax = true;\nvar brd = JXG.JSXGraph.initBoard('jxgbox', {boundingbox: [-8, 8, 8, -4], axis:true,  showCopyright:false});\nvar a = brd.create('slider', [[3, 6], [6,6], [-3, 1, 3]], {name:'a', snapWidth: 0.1});\nvar b = brd.create('slider', [[3, 5], [6,5], [-3, 0, 3]], {name:'b', snapWidth: 0.1});\nvar c = brd.create('slider', [[3, 4], [6,4], [-3, 0, 3]], {name:'c', snapWidth: 0.1});\nvar d = brd.create('slider', [[3, 3], [6,3], [-3, 1, 3]], {name:'d', snapWidth: 0.1});\nvar e = brd.create('slider', [[3, 2], [6,2], [-3, 0, 3]], {name:'e', snapWidth: 0.1});\nvar graph1 = brd.create('functiongraph', [function(x){return a.Value()*x*x + b.Value()*x + c.Value();}, -10, 10]);\nvar graph2 = brd.create( 'functiongraph', [function(x){return d.Value()*x + e.Value();}, -10, 10]);\nvar i = brd.create('intersection', [graph1, graph2, 0]);\nvar j = brd.create('intersection', [graph1, graph2, 1]);\nvar text1 = brd.create('text',[-5,2,function(){return '\\\\[\\\\M{y}=ax^2+bx+c\\\\]';}]);\nvar text2 = brd.create('text',[-5,-2,function(){return '\\\\[\\\\M{y}=dx+e\\\\]';}]);",
       "layout": "IPY_MODEL_fe1a931bbeb54bd2b4bb9ec8b81b03f1"
      }
     },
     "f854e133a1d14ef7a656059ee4aac8b0": {
      "model_module": "jupyter-divewidgets",
      "model_module_version": "^0.1.5",
      "model_name": "JSWidgetModel",
      "state": {
       "_model_module_version": "^0.1.5",
       "_view_module_version": "^0.1.5",
       "height": 300,
       "html": "<!DOCTYPE html>\n<html>\n    <head>\n    <style>\n    html, body {\n        height: 100%;\n    }\n    body {\n        width: 100%;\n        display: flex;\n        padding: 0;\n        margin: 0;\n    }\n    .jxgbox {\n        width:100%; \n        flex-grow: 1;\n    }\n    </style>\n    <link rel=\"stylesheet\" type=\"text/css\" href=\"https://jsxgraph.org/distrib/jsxgraph.css\" />\n    <script type=\"text/javascript\" src=\"https://cdn.jsdelivr.net/npm/jsxgraph/distrib/jsxgraphcore.js\"></script>\n    <script type=\"text/javascript\" src=\"https://www.cs.cityu.edu.hk/~ccha23/js/load-mathjax.js\"></script>\n    </head>\n<body>\n<div id=\"jxgbox\" class=\"jxgbox\"></div>\n</body>\n</html>",
       "js": "JXG.Options.text.useMathJax = true;\nvar brd = JXG.JSXGraph.initBoard('jxgbox', {boundingbox: [-8, 8, 8, -4], axis:true,  showCopyright:false});\nvar graph1 = brd.create('functiongraph', [function(x){return x*x + 2}, -10, 10]);\nvar graph2 = brd.create( 'functiongraph', [function(x){return 3*x;}, -10, 10]);\nvar i = brd.create('intersection', [graph1, graph2, 0]);\nvar j = brd.create('intersection', [graph1, graph2, 1]);",
       "layout": "IPY_MODEL_306463ed487046a1820c400299eb653e"
      }
     },
     "fe1a931bbeb54bd2b4bb9ec8b81b03f1": {
      "model_module": "@jupyter-widgets/base",
      "model_module_version": "2.0.0",
      "model_name": "LayoutModel",
      "state": {}
     }
    },
    "version_major": 2,
    "version_minor": 0
   }
  }
 },
 "nbformat": 4,
 "nbformat_minor": 5
}
