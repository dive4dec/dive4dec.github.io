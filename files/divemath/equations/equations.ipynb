{
  "metadata": {
    "kernelspec": {
      "name": "xeus-python",
      "display_name": "Python (XPython)",
      "language": "python"
    },
    "language_info": {
      "file_extension": ".py",
      "mimetype": "text/x-python",
      "name": "python",
      "version": "3.10.2"
    },
    "widgets": {
      "application/vnd.jupyter.widget-state+json": {
        "version_major": 2,
        "version_minor": 0,
        "state": {
          "257027e3eeb5458fa06c8c0de765560d": {
            "model_name": "LayoutModel",
            "model_module": "@jupyter-widgets/base",
            "model_module_version": "1.2.0",
            "state": {}
          },
          "ef64bc4b5b6c409780c6ebb5c4190fa1": {
            "model_name": "JSWidgetModel",
            "model_module": "jupyter-divewidgets",
            "model_module_version": "^0.1.5",
            "state": {
              "_model_module_version": "^0.1.5",
              "_view_module_version": "^0.1.5",
              "height": 300,
              "html": "<!DOCTYPE html>\n<html>\n    <head>\n    <style>\n    html, body {\n        height: 100%;\n    }\n    body {\n        width: 100%;\n        display: flex;\n        padding: 0;\n        margin: 0;\n    }\n    .jxgbox {\n        width:100%; \n        flex-grow: 1;\n    }\n    </style>\n    <link rel=\"stylesheet\" type=\"text/css\" href=\"https://jsxgraph.org/distrib/jsxgraph.css\" />\n    <script type=\"text/javascript\" src=\"https://cdn.jsdelivr.net/npm/jsxgraph/distrib/jsxgraphcore.js\"></script>\n    <script type=\"text/javascript\" src=\"https://www.cs.cityu.edu.hk/~ccha23/js/load-mathjax.js\"></script>\n    </head>\n<body>\n<div id=\"jxgbox\" class=\"jxgbox\"></div>\n</body>\n</html>",
              "js": "JXG.Options.text.useMathJax = true;\nvar brd = JXG.JSXGraph.initBoard('jxgbox', {boundingbox: [-8, 8, 8, -4], axis:true,  showCopyright:false});\nvar a = brd.create('slider', [[3, 6], [6,6], [-3, 1, 3]], {name:'a', snapWidth: 0.1});\nvar b = brd.create('slider', [[3, 5], [6,5], [-3, 0, 3]], {name:'b', snapWidth: 0.1});\nvar c = brd.create('slider', [[3, 4], [6,4], [-3, 0, 3]], {name:'c', snapWidth: 0.1});\nvar d = brd.create('slider', [[3, 3], [6,3], [-3, 1, 3]], {name:'d', snapWidth: 0.1});\nvar e = brd.create('slider', [[3, 2], [6,2], [-3, 0, 3]], {name:'e', snapWidth: 0.1});\nvar graph1 = brd.create('functiongraph', [function(x){return a.Value()*x*x + b.Value()*x + c.Value();}, -10, 10]);\nvar graph2 = brd.create( 'functiongraph', [function(x){return d.Value()*x + e.Value();}, -10, 10]);\nvar i = brd.create('intersection', [graph1, graph2, 0]);\nvar j = brd.create('intersection', [graph1, graph2, 1]);\nvar text1 = brd.create('text',[-5,2,function(){return '\\\\[\\\\M{y}=ax^2+bx+c\\\\]';}]);\nvar text2 = brd.create('text',[-5,-2,function(){return '\\\\[\\\\M{y}=dx+e\\\\]';}]);",
              "layout": "IPY_MODEL_257027e3eeb5458fa06c8c0de765560d"
            }
          },
          "299684214b7a4e5db1b4d5fc6b8c6f20": {
            "model_name": "LayoutModel",
            "model_module": "@jupyter-widgets/base",
            "model_module_version": "1.2.0",
            "state": {}
          },
          "6fc053b0cc974917b1027b1f5d2eef79": {
            "model_name": "JSWidgetModel",
            "model_module": "jupyter-divewidgets",
            "model_module_version": "^0.1.5",
            "state": {
              "_model_module_version": "^0.1.5",
              "_view_module_version": "^0.1.5",
              "height": 300,
              "html": "<!DOCTYPE html>\n<html>\n    <head>\n    <style>\n    html, body {\n        height: 100%;\n    }\n    body {\n        width: 100%;\n        display: flex;\n        padding: 0;\n        margin: 0;\n    }\n    .jxgbox {\n        width:100%; \n        flex-grow: 1;\n    }\n    </style>\n    <link rel=\"stylesheet\" type=\"text/css\" href=\"https://jsxgraph.org/distrib/jsxgraph.css\" />\n    <script type=\"text/javascript\" src=\"https://cdn.jsdelivr.net/npm/jsxgraph/distrib/jsxgraphcore.js\"></script>\n    <script type=\"text/javascript\" src=\"https://www.cs.cityu.edu.hk/~ccha23/js/load-mathjax.js\"></script>\n    </head>\n<body>\n<div id=\"jxgbox\" class=\"jxgbox\"></div>\n</body>\n</html>",
              "js": "JXG.Options.text.useMathJax = true;\nvar brd = JXG.JSXGraph.initBoard('jxgbox', {boundingbox: [-8, 8, 8, -4], axis:true,  showCopyright:false});\nvar graph1 = brd.create('functiongraph', [function(x){return x + 2/x}, -10, 10]);\nvar graph2 = brd.create( 'functiongraph', [function(x){return x=3;}, -10, 10]);\nvar i = brd.create('intersection', [graph1, graph2, 0]);\nvar j = brd.create('intersection', [graph1, graph2, 1]);",
              "layout": "IPY_MODEL_299684214b7a4e5db1b4d5fc6b8c6f20"
            }
          },
          "17f38c9d3d144b06b4130d544b898e50": {
            "model_name": "LayoutModel",
            "model_module": "@jupyter-widgets/base",
            "model_module_version": "1.2.0",
            "state": {}
          },
          "8cf3db36e43e4a13b7057bf3c7525f12": {
            "model_name": "JSWidgetModel",
            "model_module": "jupyter-divewidgets",
            "model_module_version": "^0.1.5",
            "state": {
              "_model_module_version": "^0.1.5",
              "_view_module_version": "^0.1.5",
              "height": 300,
              "html": "<!DOCTYPE html>\n<html>\n    <head>\n    <style>\n    html, body {\n        height: 100%;\n    }\n    body {\n        width: 100%;\n        display: flex;\n        padding: 0;\n        margin: 0;\n    }\n    .jxgbox {\n        width:100%; \n        flex-grow: 1;\n    }\n    </style>\n    <link rel=\"stylesheet\" type=\"text/css\" href=\"https://jsxgraph.org/distrib/jsxgraph.css\" />\n    <script type=\"text/javascript\" src=\"https://cdn.jsdelivr.net/npm/jsxgraph/distrib/jsxgraphcore.js\"></script>\n    <script type=\"text/javascript\" src=\"https://www.cs.cityu.edu.hk/~ccha23/js/load-mathjax.js\"></script>\n    </head>\n<body>\n<div id=\"jxgbox\" class=\"jxgbox\"></div>\n</body>\n</html>",
              "js": "JXG.Options.text.useMathJax = true;\nvar brd = JXG.JSXGraph.initBoard('jxgbox', {boundingbox: [-8, 8, 8, -4], axis:true,  showCopyright:false});\nvar graph1 = brd.create('functiongraph', [function(x){return x*x + 2}, -10, 10]);\nvar graph2 = brd.create( 'functiongraph', [function(x){return 3*x;}, -10, 10]);\nvar i = brd.create('intersection', [graph1, graph2, 0]);\nvar j = brd.create('intersection', [graph1, graph2, 1]);",
              "layout": "IPY_MODEL_17f38c9d3d144b06b4130d544b898e50"
            }
          }
        }
      }
    }
  },
  "nbformat_minor": 5,
  "nbformat": 4,
  "cells": [
    {
      "cell_type": "markdown",
      "source": "# Solving Equations",
      "metadata": {},
      "id": "e5a51483-3eda-4471-993e-c92da0500497"
    },
    {
      "cell_type": "markdown",
      "source": "**DIVE into Math**\n\n---",
      "metadata": {},
      "id": "200e1f45-6d45-4960-9a45-8bf9c399f1e7"
    },
    {
      "cell_type": "markdown",
      "source": "Contributor(s): \n\n- Yuan Xu  \n- Chao Zhao\n- Chung Chan\n\n---",
      "metadata": {},
      "id": "1c2231b6-772f-4186-a434-146f889a57cd"
    },
    {
      "cell_type": "code",
      "source": "%reload_ext divewidgets",
      "metadata": {
        "tags": [],
        "trusted": true
      },
      "execution_count": 1,
      "outputs": [],
      "id": "e72e1dd3-09e4-49b0-98f5-ec3ed7211357"
    },
    {
      "cell_type": "markdown",
      "source": "Simultaneous equations are two or more algebraic equations that share variables e.g. $x$ and $y$.\n\nThey are called simultaneous equations because the equations are solved at the same time.\n\nWe will introduce two method to solve simultaneous equations.",
      "metadata": {},
      "id": "b55bd11e-79e6-4da7-a932-6645cebf6a4e"
    },
    {
      "cell_type": "markdown",
      "source": "## Part I: Solve Simultaneous Equations in Two Unknowns with One Linear and One Quadratic",
      "metadata": {},
      "id": "0757d7fe-4833-4fd4-85fd-c03a991413e0"
    },
    {
      "cell_type": "markdown",
      "source": "## Graphical Method",
      "metadata": {},
      "id": "31edcae7-92aa-4670-a280-6eeaaf9f1ada"
    },
    {
      "cell_type": "markdown",
      "source": "Use the graphical method to solve simultaneous\nequations in two unknowns\n\n*   one linear $$y=dx+e $$\n*   one quadratic $$y = ax^2 + bx + c$$\n\n\n",
      "metadata": {},
      "id": "9bfa35d0-b8da-4390-9bc3-eeb579773296"
    },
    {
      "cell_type": "code",
      "source": "%%jsxgraph -i jxgbox -h 300 -m https://www.cs.cityu.edu.hk/~ccha23/js/load-mathjax.js\nJXG.Options.text.useMathJax = true;\nvar brd = JXG.JSXGraph.initBoard('jxgbox', {boundingbox: [-8, 8, 8, -4], axis:true,  showCopyright:false});\nvar a = brd.create('slider', [[3, 6], [6,6], [-3, 1, 3]], {name:'a', snapWidth: 0.1});\nvar b = brd.create('slider', [[3, 5], [6,5], [-3, 0, 3]], {name:'b', snapWidth: 0.1});\nvar c = brd.create('slider', [[3, 4], [6,4], [-3, 0, 3]], {name:'c', snapWidth: 0.1});\nvar d = brd.create('slider', [[3, 3], [6,3], [-3, 1, 3]], {name:'d', snapWidth: 0.1});\nvar e = brd.create('slider', [[3, 2], [6,2], [-3, 0, 3]], {name:'e', snapWidth: 0.1});\nvar graph1 = brd.create('functiongraph', [function(x){return a.Value()*x*x + b.Value()*x + c.Value();}, -10, 10]);\nvar graph2 = brd.create( 'functiongraph', [function(x){return d.Value()*x + e.Value();}, -10, 10]);\nvar i = brd.create('intersection', [graph1, graph2, 0]);\nvar j = brd.create('intersection', [graph1, graph2, 1]);\nvar text1 = brd.create('text',[-5,2,function(){return '\\\\[\\\\M{y}=ax^2+bx+c\\\\]';}]);\nvar text2 = brd.create('text',[-5,-2,function(){return '\\\\[\\\\M{y}=dx+e\\\\]';}]);",
      "metadata": {
        "trusted": true
      },
      "execution_count": 2,
      "outputs": [
        {
          "output_type": "display_data",
          "data": {
            "application/vnd.jupyter.widget-view+json": {
              "model_id": "ef64bc4b5b6c409780c6ebb5c4190fa1",
              "version_major": 2,
              "version_minor": 0
            },
            "text/plain": "JSWidget(value=None, height=300, html='<!DOCTYPE html>\\n<html>\\n    <head>\\n    <style>\\n    html, body {\\n   …"
          },
          "metadata": {}
        }
      ],
      "id": "cf17c504-cae0-4cfa-9331-1e2c910b639d"
    },
    {
      "cell_type": "markdown",
      "source": "The intersection of the parabola and the line can be found by plotting the image of the two functions on the coordinate system. If there is no intersection then it means that this simultaneous equation has no solution.\nIn the above graph, point A and B are the intersections as well as the solutions of the simultaneous equations.",
      "metadata": {},
      "id": "1af2f42f-1c1e-4c83-a558-3f3c79085f63"
    },
    {
      "cell_type": "markdown",
      "source": "Try it yourself:\n",
      "metadata": {},
      "id": "99f5510e-a9d5-471b-9ed8-29a6cbcd3adc"
    },
    {
      "cell_type": "markdown",
      "source": "$$y=x^2-3x+1$$\n\n$$y=x-1$$",
      "metadata": {},
      "id": "8a94326d-1ab1-4f9d-8677-b8814fa47d4b"
    },
    {
      "cell_type": "markdown",
      "source": "## Algebraic Method",
      "metadata": {},
      "id": "f7c3cd6c-e84f-4b3e-9450-98670414324b"
    },
    {
      "cell_type": "markdown",
      "source": "Use the algebraic method to solve simultaneous\nequations in two unknowns, one linear and one\nquadratic",
      "metadata": {},
      "id": "441bf67f-4f29-4cd1-adb8-7c65d6a37364"
    },
    {
      "cell_type": "markdown",
      "source": "$$y=ax^2+bx+c$$\n$$y=dx+e$$\n\nThe aim of algebraic method is to keep one unknow element.",
      "metadata": {},
      "id": "8aaaea71-6325-4c43-9fa7-99495d73d3e7"
    },
    {
      "cell_type": "markdown",
      "source": "$$dx+e=ax^2+bx+c$$",
      "metadata": {},
      "id": "182429a4-f07a-4df2-a7a2-79d09babcdd0"
    },
    {
      "cell_type": "markdown",
      "source": "As you can see, there only exists x. ",
      "metadata": {},
      "id": "40a583b6-a2af-45ca-8b9c-885c31ee880f"
    },
    {
      "cell_type": "markdown",
      "source": "move the x to the same side and we will get: \n\n$$0=ax^2+(b-d)x+c-e$$",
      "metadata": {},
      "id": "a07ea1d1-3567-452f-8eba-ead8f6dca28c"
    },
    {
      "cell_type": "markdown",
      "source": "In this way, we can easily find the two root of this equation.\n\nWe can see $b-d$ as $B$ and $c-e$ as $C$ \n\nTherefore, the derteminant is\n\n$$\\Delta = \\sqrt{B^2-4aC}.$$\n\nand the roots are\n\n$$\n\\begin{equation}\nx_1, x_2 = \\left\\{\n\\begin{aligned}\n&\\frac{-B \\pm \\sqrt{B^2-4aC}}{2a}, & \\text{ when } \\Delta > 0 \\\\\n&-\\frac{B}{2a}, & \\text{ when } \\Delta = 0 \\\\\n& \\text{real roots don't exist}, & \\text{ when } \\Delta < 0.\n\\end{aligned}\n\\right.\n\\end{equation}\n$$\n",
      "metadata": {},
      "id": "33ed295e-cd43-4ab0-a5b5-90913912f3ca"
    },
    {
      "cell_type": "markdown",
      "source": "## Part II:  Solve Equations Which can be Transformed into quadratic equations",
      "metadata": {},
      "id": "31ac923b-e060-453f-b9ed-004912ba81c2"
    },
    {
      "cell_type": "markdown",
      "source": "Lets try fractional equations:\n\n$$x+\\frac{2}{x}=3$$",
      "metadata": {},
      "id": "289ab22d-e11b-4236-8b61-f86fa8e824a1"
    },
    {
      "cell_type": "code",
      "source": "%%jsxgraph -i jxgbox -h 300 -m https://www.cs.cityu.edu.hk/~ccha23/js/load-mathjax.js\nJXG.Options.text.useMathJax = true;\nvar brd = JXG.JSXGraph.initBoard('jxgbox', {boundingbox: [-8, 8, 8, -4], axis:true,  showCopyright:false});\nvar graph1 = brd.create('functiongraph', [function(x){return x + 2/x}, -10, 10]);\nvar graph2 = brd.create( 'functiongraph', [function(x){return x=3;}, -10, 10]);\nvar i = brd.create('intersection', [graph1, graph2, 0]);\nvar j = brd.create('intersection', [graph1, graph2, 1]);",
      "metadata": {
        "trusted": true
      },
      "execution_count": 3,
      "outputs": [
        {
          "output_type": "display_data",
          "data": {
            "application/vnd.jupyter.widget-view+json": {
              "model_id": "6fc053b0cc974917b1027b1f5d2eef79",
              "version_major": 2,
              "version_minor": 0
            },
            "text/plain": "JSWidget(value=None, height=300, html='<!DOCTYPE html>\\n<html>\\n    <head>\\n    <style>\\n    html, body {\\n   …"
          },
          "metadata": {}
        }
      ],
      "id": "69210e38-d6d4-4770-9abf-dee4b3592caf"
    },
    {
      "cell_type": "markdown",
      "source": "Or, we can multiply both side by $x$: \n$$x^2+2=3x$$ ",
      "metadata": {},
      "id": "12960246-80f0-4c59-92e0-14c2b9c2a459"
    },
    {
      "cell_type": "code",
      "source": "%%jsxgraph -i jxgbox -h 300 -m https://www.cs.cityu.edu.hk/~ccha23/js/load-mathjax.js\nJXG.Options.text.useMathJax = true;\nvar brd = JXG.JSXGraph.initBoard('jxgbox', {boundingbox: [-8, 8, 8, -4], axis:true,  showCopyright:false});\nvar graph1 = brd.create('functiongraph', [function(x){return x*x + 2}, -10, 10]);\nvar graph2 = brd.create( 'functiongraph', [function(x){return 3*x;}, -10, 10]);\nvar i = brd.create('intersection', [graph1, graph2, 0]);\nvar j = brd.create('intersection', [graph1, graph2, 1]);",
      "metadata": {
        "trusted": true
      },
      "execution_count": 4,
      "outputs": [
        {
          "output_type": "display_data",
          "data": {
            "application/vnd.jupyter.widget-view+json": {
              "model_id": "8cf3db36e43e4a13b7057bf3c7525f12",
              "version_major": 2,
              "version_minor": 0
            },
            "text/plain": "JSWidget(value=None, height=300, html='<!DOCTYPE html>\\n<html>\\n    <head>\\n    <style>\\n    html, body {\\n   …"
          },
          "metadata": {}
        }
      ],
      "id": "1fba1a6e-47c0-404f-8cbe-3369596a5325"
    },
    {
      "cell_type": "markdown",
      "source": "You will find that the $x$ value of $A$ and $B$ are the same.\nThis proivdes us a way to solve fractional equations",
      "metadata": {},
      "id": "f8a85e1a-7c5c-45d9-802b-19adf3b9b9bf"
    },
    {
      "cell_type": "markdown",
      "source": "**Exercise:**",
      "metadata": {},
      "id": "2ea83b2b-a0cb-4292-81b5-8e670fb14260"
    },
    {
      "cell_type": "markdown",
      "source": "Use the method above to solve:\n\n  \n1. $x^3-\\frac{8}{x^3}=7$\n2. $16x^2-\\frac{16}{x^2}=255$\n",
      "metadata": {},
      "id": "ba53f113-a200-48d2-9e64-88a858e3a84d"
    },
    {
      "cell_type": "markdown",
      "source": "YOUR ANSWER HERE",
      "metadata": {
        "deletable": false,
        "nbgrader": {
          "cell_type": "markdown",
          "checksum": "11b903531c3dc15001aba9cee6eb2924",
          "grade": true,
          "grade_id": "p1",
          "locked": false,
          "points": 1,
          "schema_version": 3,
          "solution": true,
          "task": false
        },
        "tags": []
      },
      "id": "93488272-2e71-429e-8a43-1a18d53d5136"
    }
  ]
}