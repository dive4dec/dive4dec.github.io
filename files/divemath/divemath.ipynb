{
  "metadata": {
    "kernelspec": {
      "name": "xeus-python",
      "display_name": "Python (XPython)",
      "language": "python"
    },
    "language_info": {
      "file_extension": ".py",
      "mimetype": "text/x-python",
      "name": "python",
      "version": "3.10.2"
    },
    "widgets": {
      "application/vnd.jupyter.widget-state+json": {
        "state": {},
        "version_major": 2,
        "version_minor": 0
      }
    }
  },
  "nbformat_minor": 5,
  "nbformat": 4,
  "cells": [
    {
      "cell_type": "markdown",
      "source": "# DIVE into Math",
      "metadata": {},
      "id": "95624109-fe94-4347-9ba9-68d1e6ceec01"
    },
    {
      "cell_type": "markdown",
      "source": "The following links to a set of interactive notebooks for learning Mathematics at secondary level:",
      "metadata": {},
      "id": "ca40d05d-15dd-4990-af96-ee95801e0b6e"
    },
    {
      "cell_type": "markdown",
      "source": "```{admonition} Table of Content\n- [Pythagorean Theorem](pythagorean/pythagorean.ipynb)\n- [Trigonometry](trigonometry/trigonometry.ipynb)\n- [Equation of a Line](line/line.ipynb)\n- [Quadratic Equation](quadratic/quadratic.ipynb)\n- [Equation of a Circle](circle/circle.ipynb)\n- [Plotting Functions](plots/plots.ipynb)\n- [Solving Equations](equations/equations.ipynb)\n- [Solving Inequalities](inequalities/inequalities.ipynb) \n- [Normal Distribution](gaussian/gaussian.ipynb)\n```",
      "metadata": {},
      "id": "bcd70ee2-1135-49a8-acab-105ebf603bb4"
    },
    {
      "cell_type": "markdown",
      "source": "The content cover parts of the HKDSE syllabus as outlined in [p17-77 of the curriculum/assessment guide in 2017](https://334.edb.hkedcity.net/new/doc/eng/curriculum2017/Math%20C%26A%20Guide_2017_e.pdf).",
      "metadata": {},
      "id": "2115244f-0dd5-4011-8281-e81f2088538c"
    },
    {
      "cell_type": "markdown",
      "source": "The materials are contributed by Students at City University of Hong Kong following the idea of the ***D**iscovery-**E**nriched **C**urriculum (DEC)*. They follow the ***I**nduction/**d**eduction* (ID) principle:\n\n```{important}\n- Interactive *illustrations* to *induce* conjectures.\n- Detailed *derivations* to *deduce* theorems.\n```\n\nIn particular, interactive illustrations are powered by [JSXGraph](https://jsxgraph.uni-bayreuth.de/) while the detailed derivations are presented using [Jupyter notebooks](https://jupyter.org/) with [Mathjax3](https://docs.mathjax.org/en/latest/web/configuration.html) and [MyST](https://myst-parser.readthedocs.io/en/latest/syntax/optional.html) parsers.",
      "metadata": {},
      "id": "b0b8cd6d-7e7e-44b2-9461-aa369cb519f0"
    },
    {
      "cell_type": "markdown",
      "source": "The following packages integrate JSXGraph, MathJax3, MyST to JupyterLab as well as the new JupyterLite setup: \n- [`divewidgets`](https://github.com/dive4dec/divewidgets)\n- [`divemarkdownit`](https://github.com/dive4dec/divemardownit)\n- [`divemathjax3`](https://github.com/dive4dec/divemathjax3)",
      "metadata": {},
      "id": "407215b5-698d-4aa6-a1ca-097f1f892009"
    },
    {
      "cell_type": "markdown",
      "source": "The packages are developed under Project *DIVE*, in an effort to make virtual learning\n\n```{important}\n- **D**iversified: allowing students of different backgrounds to explore easily and freely in different ways;\n- **I**nteractive: providing helpful guidance and feedback while students explore;\n- **V**ersatile: applicable to a variety of courses so students may reuse the same tools to learn different subjects; and\n- **E**ngaging: sparking students' interest and helping them excel in the subject beyond what is taught in class.\n```",
      "metadata": {},
      "id": "03dfffb7-f79d-4692-b140-20167f76473d"
    }
  ]
}