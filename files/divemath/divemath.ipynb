{
 "cells": [
  {
   "cell_type": "markdown",
   "id": "95624109-fe94-4347-9ba9-68d1e6ceec01",
   "metadata": {},
   "source": [
    "# DIVE into Math"
   ]
  },
  {
   "cell_type": "markdown",
   "id": "bcd70ee2-1135-49a8-acab-105ebf603bb4",
   "metadata": {},
   "source": [
    "```{admonition} Table of Content\n",
    "- [Pythagorean Theorem](pythagorean/pythagorean.ipynb)\n",
    "- [Trigonometry](trigonometry/trigonometry.ipynb)\n",
    "- [Equation of a Line](line/line.ipynb)\n",
    "- [Quadratic Equation](quadratic/quadratic.ipynb)\n",
    "- [Equation of a Circle](circle/circle.ipynb)\n",
    "- [Properties of a Circle](circle/properties.ipynb)\n",
    "- [Plotting Functions](plots/plots.ipynb)\n",
    "- [Solving Equations](equations/equations.ipynb)\n",
    "- [Solving Inequalities](inequalities/inequalities.ipynb) \n",
    "- [Normal Distribution](gaussian/gaussian.ipynb)\n",
    "- [Dispersion](dispersion/dispersion.ipynb)\n",
    "```"
   ]
  },
  {
   "cell_type": "markdown",
   "id": "ca40d05d-15dd-4990-af96-ee95801e0b6e",
   "metadata": {},
   "source": [
    "The above table links to a set of interactive notebooks for learning Mathematics at the secondary school level.\n",
    "\n",
    "```{seealso}\n",
    "HKDSE syllabus as outlined in [p17-77 of the curriculum/assessment guide in 2017](https://334.edb.hkedcity.net/new/doc/eng/curriculum2017/Math%20C%26A%20Guide_2017_e.pdf).\n",
    "```"
   ]
  },
  {
   "cell_type": "markdown",
   "id": "2115244f-0dd5-4011-8281-e81f2088538c",
   "metadata": {},
   "source": [
    "```{admonition} Objective\n",
    "\n",
    "The notebooks can support a ***D**iscovery-**E**nriched **C**urriculum*. The notebook contains\n",
    "\n",
    "- interactive *illustrations* to *induce* conjectures, and\n",
    "- Detailed *derivations* to *deduce* theorems.\n",
    "\n",
    "The *Induction-Deduction* approach encourages students to *discover* mathematical concepts so as to *see the motivations* behind them.\n",
    "\n",
    "```"
   ]
  },
  {
   "cell_type": "markdown",
   "id": "5a14dfc8-6e76-4fdf-82bc-38c6fda285c2",
   "metadata": {},
   "source": [
    "## Learning environments"
   ]
  },
  {
   "cell_type": "markdown",
   "id": "8e82ce46-9a9e-427b-ae50-838c8488d8f5",
   "metadata": {},
   "source": [
    "```{important}\n",
    "\n",
    "The learning environment should support *literate programming for Math*, where \n",
    "- *explanations* of abstract mathematical concepts can be mixed with\n",
    "- *illustrations* that are easily\n",
    "  - *programmable*: materials can be modified by anyone to *dive deep* into the topics, \n",
    "  - *executable*: materials can be run by anyone almost *anywhere* with very *little setup*.\n",
    "```"
   ]
  },
  {
   "cell_type": "markdown",
   "id": "474a2979-5a13-4b21-ae36-da272a4bf661",
   "metadata": {},
   "source": [
    "The easiest way to access and run the notebooks is to launch them from:\n",
    "\n",
    "```{admonition} JupyterLite Site for Project DIVE\n",
    "\n",
    "https://dive4dec.github.io/lab/?path=divemath%2Fdivemath.ipynb\n",
    "```\n",
    "\n",
    "- Install [any web browser that supports web workers](https://developer.mozilla.org/en-US/docs/Web/API/Worker#browser_compatibility). \n",
    "- Visit the link to access and run the notebook *offline without setup/login*."
   ]
  },
  {
   "cell_type": "markdown",
   "id": "e64004c2-bc26-4e95-8680-771d3e98f6a1",
   "metadata": {},
   "source": [
    "The site is powered by [JupyterLite](https://github.com/jupyterlite/jupyterlite) which runs the [jupyterlite-xeus-python kernel](https://github.com/jupyterlite/xeus-python-kernel) with the following pckages pre-installed:"
   ]
  },
  {
   "cell_type": "markdown",
   "id": "1507fe4b-7083-48b7-9376-79c9ec3581d9",
   "metadata": {},
   "source": [
    "````{admonition} Python packages\n",
    "\n",
    "Packages developed to integrate different open-source learning tools to support literate programming:\n",
    "\n",
    "- [`divewidgets`](https://github.com/dive4dec/divewidgets), which integrates javascript libraries such as [JSXGraph](https://jsxgraph.uni-bayreuth.de/) for interative illustrations in Jupyter notebooks;\n",
    "- [`divemarkdownit`](https://github.com/dive4dec/divemardownit), which integrates [MyST](https://myst-parser.readthedocs.io/en/latest/syntax/optional.html) parser to JupyterLab; and\n",
    "- [`divemathjax3`](https://github.com/dive4dec/divemathjax3), which integrates [Mathjax3](https://docs.mathjax.org/en/latest/web/configuration.html) parser to JupyterLab.\n",
    "\n",
    "```"
   ]
  },
  {
   "cell_type": "markdown",
   "id": "5355496c-f4a0-40d5-8213-e590f180ec39",
   "metadata": {},
   "source": [
    "```{caution}\n",
    "\n",
    "- The notebooks are stored locally using local storage. Clearing the site data will clear your changes to the notebook.\n",
    "- Deleting a notebook will not remove it, but instead, reset it to the original state.\n",
    "- If the collaborative feature is turned on, user should duplicate the notebook to undesired changes by others.\n",
    "\n",
    "```"
   ]
  },
  {
   "cell_type": "markdown",
   "id": "82b0def8-2caa-4dcb-8682-68285bba694d",
   "metadata": {},
   "source": [
    "## Alternative Jupyter Environments"
   ]
  },
  {
   "cell_type": "markdown",
   "id": "7b91ac13-a3ec-441c-859b-71f2420dc42e",
   "metadata": {},
   "source": [
    "The notebook can run in a custom jupyter environment by installing the required package(s)."
   ]
  },
  {
   "cell_type": "markdown",
   "id": "8bb84739-1036-40e9-b8cd-c719f23fac13",
   "metadata": {},
   "source": [
    "### JupyterLite Pyodide"
   ]
  },
  {
   "cell_type": "markdown",
   "id": "ba39b379-64c3-44ea-97a2-e5c1e81e8363",
   "metadata": {},
   "source": [
    "The main JupyterLite site provides the [`pyodide` kernel](https://github.com/pyodide/pyodide), which allows additional packages to be installed on the fly using `piplite`."
   ]
  },
  {
   "cell_type": "markdown",
   "id": "38863415-9b1a-4d24-8bb2-cf3797828265",
   "metadata": {},
   "source": [
    "To use `pyodide` instead of `xeus-python` kernel:\n",
    "\n",
    "- Choose `Python (Pyodide)` as the kernel.\n",
    "- Run the following in a code cell to install `divewidgets` using `piplite`:\n",
    "    ```python\n",
    "    import piplite\n",
    "    await piplite.install('ipywidgets==7.7')\n",
    "    await piplite.install('divewidgets')\n",
    "    ```\n",
    "- Optionally, test create an empty JSXGraph by running the following in a code cell.\n",
    "    ```python\n",
    "    import divewidgets\n",
    "    divewidgets.create_JSXGraph()\n",
    "    ```"
   ]
  },
  {
   "cell_type": "markdown",
   "id": "69cd241e-79cf-49f2-af23-359c509dae34",
   "metadata": {},
   "source": [
    "```{caution}\n",
    "divewidgets currently does not run with `ipywidgets>=8` on JupyterLite.\n",
    "```"
   ]
  },
  {
   "cell_type": "markdown",
   "id": "b10f6b0b-65dd-465e-812c-e8301dd9f3c8",
   "metadata": {},
   "source": [
    "### CoLab"
   ]
  },
  {
   "cell_type": "markdown",
   "id": "a7151c61-2542-4f7c-a10b-812e60608c43",
   "metadata": {},
   "source": [
    "The notebooks can also run on [Google CoLab](https://colab.research.google.com/), which allows you to store the notebooks in the cloud."
   ]
  },
  {
   "cell_type": "markdown",
   "id": "a78cd107-a888-4e12-83ef-b901f3249458",
   "metadata": {},
   "source": [
    "```{admonition} CoLab demo link\n",
    "https://colab.research.google.com/github/dive4dec/dive4dec.github.io/blob/main/files/divemath/pythagorean/pythagorean.ipynb\n",
    "```"
   ]
  },
  {
   "cell_type": "markdown",
   "id": "c0df80fa-e656-40c2-bb40-e730000facd5",
   "metadata": {},
   "source": [
    "- Modify the above link to launch the desired notebook to CoLab.\n",
    "- Run the following in a code cell to install `divewidgets`.  \n",
    "    ```python\n",
    "    import google.colab.output as gco\n",
    "    gco.enable_custom_widget_manager()\n",
    "    !pip install divewidgets &> /dev/null\n",
    "    ```\n",
    "- Optionally, test create an empty JSXGraph by running the following in a code cell.\n",
    "    ```python\n",
    "    import divewidgets\n",
    "    divewidgets.create_JSXGraph()\n",
    "    ```"
   ]
  },
  {
   "cell_type": "markdown",
   "id": "1b8bc263-fe00-48ee-85cd-733acc532fa5",
   "metadata": {},
   "source": [
    "### Conda"
   ]
  },
  {
   "cell_type": "markdown",
   "id": "cdd3ec39-441a-4779-81dd-144fa4935eae",
   "metadata": {},
   "source": [
    "You can pre-install packages easily with [anaconda](https://anaconda.org/) and run the following in a bash shell to run the notebooks: \n",
    "\n",
    "- Create a conda environment `divemath` with the necessary packages installed:\n",
    "    ```bash\n",
    "    conda create -n divemath -c dive -c conda-forge jupyterlab ipywidgets==7.7 divewidgets divemarkdownit divemathjax3 pip git\n",
    "    ```\n",
    "- Activate the conda environment:\n",
    "    ```bash\n",
    "    conda activate divemath\n",
    "    ```\n",
    "- If you have the notebooks in your working directory, fetch them by:\n",
    "    ```bash\n",
    "    git clone https://github.com/dive4dec/divemath\n",
    "    ```\n",
    "- Launch JupyterLab locally to run the notebooks: \n",
    "    ```bash\n",
    "    jupyter lab\n",
    "    ```"
   ]
  },
  {
   "cell_type": "markdown",
   "id": "799675f7-9abc-4c3d-901f-1735345ffda9",
   "metadata": {},
   "source": [
    "````{note}\n",
    "\n",
    "The packages can also be installed from PyPI, e.g., \n",
    "\n",
    "```bash\n",
    "pip install divewidgets divemarkdownit divemathjax3\n",
    "```\n",
    "\n",
    "installs some of the required packages from PyPI, which works for python environment not based on conda.\n",
    "````"
   ]
  },
  {
   "cell_type": "markdown",
   "id": "d3ba62f8-f2bc-4d3a-bc45-d4747c67d331",
   "metadata": {},
   "source": [
    "## Acknowledgements"
   ]
  },
  {
   "cell_type": "markdown",
   "id": "8a64b438-a5d1-49ed-81e9-e0d21cc415ff",
   "metadata": {},
   "source": [
    "The work is part of an effort in Project DIVE at [CityU](https://www.cityu.edu.hk/) during the pandemic that aims to provide a virtual learning environment that is \n",
    "\n",
    "Using the tool, Students at CityU have created the series of interactive Jupyter notebooks to illustrate secondary mathematics in Hong Kong DSE curriculum, as an effort to expand the environment beyond CityU."
   ]
  }
 ],
 "metadata": {
  "kernelspec": {
   "display_name": "Python 3 (ipykernel)",
   "language": "python",
   "name": "xeus-python"
  },
  "language_info": {
   "codemirror_mode": {
    "name": "ipython",
    "version": 3
   },
   "file_extension": ".py",
   "mimetype": "text/x-python",
   "name": "python",
   "nbconvert_exporter": "python",
   "pygments_lexer": "ipython3",
   "version": "3.10.4"
  },
  "widgets": {
   "application/vnd.jupyter.widget-state+json": {
    "state": {},
    "version_major": 2,
    "version_minor": 0
   }
  }
 },
 "nbformat": 4,
 "nbformat_minor": 5
}
