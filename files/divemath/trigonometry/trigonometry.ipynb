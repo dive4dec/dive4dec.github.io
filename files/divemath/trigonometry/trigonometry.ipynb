{
  "metadata": {
    "kernelspec": {
      "name": "xeus-python",
      "display_name": "Python (XPython)",
      "language": "python"
    },
    "language_info": {
      "file_extension": ".py",
      "mimetype": "text/x-python",
      "name": "python",
      "version": "3.10.2"
    },
    "widgets": {
      "application/vnd.jupyter.widget-state+json": {
        "version_major": 2,
        "version_minor": 0,
        "state": {
          "bd7cb4e9705f41cb98828058b6ce8e90": {
            "model_name": "LayoutModel",
            "model_module": "@jupyter-widgets/base",
            "model_module_version": "1.2.0",
            "state": {}
          },
          "6d6ade4a8c844eab8dee28f71dba29b6": {
            "model_name": "JSWidgetModel",
            "model_module": "jupyter-divewidgets",
            "model_module_version": "^0.1.5",
            "state": {
              "_model_module_version": "^0.1.5",
              "_view_module_version": "^0.1.5",
              "html": "<!DOCTYPE html>\n<html>\n    <head>\n    <style>\n    html, body {\n        height: 100%;\n    }\n    body {\n        width: 100%;\n        display: flex;\n        padding: 0;\n        margin: 0;\n    }\n    .jxgbox {\n        width:100%; \n        flex-grow: 1;\n    }\n    </style>\n    <link rel=\"stylesheet\" type=\"text/css\" href=\"https://jsxgraph.org/distrib/jsxgraph.css\" />\n    <script type=\"text/javascript\" src=\"https://cdn.jsdelivr.net/npm/jsxgraph/distrib/jsxgraphcore.js\"></script>\n    <script type=\"text/javascript\" src=\"https://cdn.jsdelivr.net/npm/mathjax@3/es5/tex-chtml.js\"></script>\n    </head>\n<body>\n<div id=\"box\" class=\"jxgbox\"></div>\n</body>\n</html>",
              "js": "var board = JXG.JSXGraph.initBoard('box', {boundingbox: [-6, 6, 6, -6], axis: true, grid: true, showCopyright: false});\nvar a_sx = board.create('slider', [[-4,-5], [-2,-5], [-4, 2 ,4]], {name:'x', snapWidth: 0.01});\nvar a_sy = board.create('slider', [[1,-5], [3,-5], [-4, 3 ,4]], {name:'y', snapWidth: 0.01});\nvar a = board.create('point', [()=>a_sx.Value(),()=>a_sy.Value()], {name:function(){return 'D('+a_sx.Value().toFixed(2)+','+a_sy.Value().toFixed(2)+')';}});\nvar o = board.create('point', [0,0], {name:''});\no.setAttribute({fixed: true, visible: false});\nvar b = board.create('point', [()=>a.X(), 0], {name:'D\\''});\nvar tri = board.create('polygon', [a,o,b]);\nvar ang = board.create('nonreflexangle', [a,b,o], {name:' ', radius: 0.2});\nvar ang2 = board.create('nonreflexangle', [a,o,b], {name:'θ', radius: 0.4})\nboard.create('text', [-0.2,-0.15,'O'], {fixed: true})\nboard.create('text',[()=>(a.X()+o.X()+b.X())/3,()=>(a.Y()+o.X()+b.Y())/3,'△ODD\\''],{anchorX:'middle', anchorY:'auto'});",
              "layout": "IPY_MODEL_bd7cb4e9705f41cb98828058b6ce8e90"
            }
          },
          "668ceb5343c34c9f9ef97ebfdbec6d17": {
            "model_name": "LayoutModel",
            "model_module": "@jupyter-widgets/base",
            "model_module_version": "1.2.0",
            "state": {}
          },
          "0e20d14565cd4a3ca4057caf310c2414": {
            "model_name": "JSWidgetModel",
            "model_module": "jupyter-divewidgets",
            "model_module_version": "^0.1.5",
            "state": {
              "_model_module_version": "^0.1.5",
              "_view_module_version": "^0.1.5",
              "html": "<!DOCTYPE html>\n<html>\n    <head>\n    <style>\n    html, body {\n        height: 100%;\n    }\n    body {\n        width: 100%;\n        display: flex;\n        padding: 0;\n        margin: 0;\n    }\n    .jxgbox {\n        width:100%; \n        flex-grow: 1;\n    }\n    </style>\n    <link rel=\"stylesheet\" type=\"text/css\" href=\"https://jsxgraph.org/distrib/jsxgraph.css\" />\n    <script type=\"text/javascript\" src=\"https://cdn.jsdelivr.net/npm/jsxgraph/distrib/jsxgraphcore.js\"></script>\n    <script type=\"text/javascript\" src=\"https://cdn.jsdelivr.net/npm/mathjax@3/es5/tex-chtml.js\"></script>\n    </head>\n<body>\n<div id=\"box\" class=\"jxgbox\"></div>\n</body>\n</html>",
              "js": "JXG.Options.text.useMathJax = true;\nvar board = JXG.JSXGraph.initBoard('box', {boundingbox: [-6, 6, 6, -6], axis: true, grid: true, showCopyright: false});\nvar a_sx = board.create('slider', [[-4,-5], [-2,-5], [-4, 2 ,4]], {name:'x', snapWidth: 0.01});\nvar a_sy = board.create('slider', [[1,-5], [3,-5], [-4, 3 ,4]], {name:'y', snapWidth: 0.01});\nvar a = board.create('point', [()=>a_sx.Value(),()=>a_sy.Value()], {name:function(){return 'D('+a_sx.Value().toFixed(2)+','+a_sy.Value().toFixed(2)+')';}});\nvar o = board.create('point', [0,0], {name:''});\no.setAttribute({fixed: true, visible: false});\nvar b = board.create('point', [()=>a.X(), 0], {name:'', visible: false});\nvar b2 = board.create('point', [1,0], {name:'', visible: false});\nb2.setAttribute({fixed: true});\nboard.create('text', [-0.2,-0.15,'O'], {fixed: true})\nvar angle = board.create('sector', [o, b2, a], {\n    name: '\\\\(\\\\theta\\\\)',\n    withLabel: {\n        fontSize: 16\n    },\n    fillColor: 'yellow',\n    highlightFillColor: 'yellow',\n    strokeWidth: 0,\n    arc: {\n        visible: true,\n        strokeColor: 'black',\n        strokeWidth: 2,\n        lastArrow: {\n            size: 6\n        }\n    }\n});\nvar angleInv = board.create('angle', [b, o, a], {visible: false})\nvar l1 = board.create('line', [o, a], {straightFirst: false, straightLast: false});\nvar l2 = board.create('line', [o, a], {dash: 3});\nvar l3 = board.create('line', [o, b], {dash: 3});\nvar l4 = board.create('line', [a, b], {dash: 3});\n\nfunction radToDeg(radians) {\n  var pi = Math.PI;\n  return radians * (180/pi);\n}\n\nfunction degHelper(angle, pt) {\n    deg = angle.Value() * (180/Math.PI);\n    if (pt.X()>=0 && pt.Y()>=0){return deg}\n    if (pt.X()<=0 && pt.Y()>=0){return deg-180}\n    if (pt.X()<=0 && pt.Y()<=0){return deg+180}\n    if (pt.X()>=0 && pt.Y()<=0){return deg}\n}\n\nboard.create('text', [-2.3, 2.3, function () {\n    return '\\\\(\\\\theta = ' + degHelper(angleInv, a).toFixed(1) + '^{\\\\circ}\\\\)';\n}],{highlight:false,fixed:true});",
              "layout": "IPY_MODEL_668ceb5343c34c9f9ef97ebfdbec6d17"
            }
          },
          "226893386b6342e98811f5d29231acee": {
            "model_name": "LayoutModel",
            "model_module": "@jupyter-widgets/base",
            "model_module_version": "1.2.0",
            "state": {}
          },
          "17c453f15937427e9ea7bf1d27d8cb3f": {
            "model_name": "JSWidgetModel",
            "model_module": "jupyter-divewidgets",
            "model_module_version": "^0.1.5",
            "state": {
              "_model_module_version": "^0.1.5",
              "_view_module_version": "^0.1.5",
              "html": "<!DOCTYPE html>\n<html>\n    <head>\n    <style>\n    html, body {\n        height: 100%;\n    }\n    body {\n        width: 100%;\n        display: flex;\n        padding: 0;\n        margin: 0;\n    }\n    .jxgbox {\n        width:100%; \n        flex-grow: 1;\n    }\n    </style>\n    <link rel=\"stylesheet\" type=\"text/css\" href=\"https://jsxgraph.org/distrib/jsxgraph.css\" />\n    <script type=\"text/javascript\" src=\"https://cdn.jsdelivr.net/npm/jsxgraph/distrib/jsxgraphcore.js\"></script>\n    <script type=\"text/javascript\" src=\"https://cdn.jsdelivr.net/npm/mathjax@3/es5/tex-chtml.js\"></script>\n    </head>\n<body>\n<div id=\"box\" class=\"jxgbox\"></div>\n</body>\n</html>",
              "js": "JXG.Options.text.useMathJax = true;\nvar board = JXG.JSXGraph.initBoard('box', {boundingbox: [-6, 6, 6, -6], axis: true, grid: true, showCopyright: false});\nvar a_sx = board.create('slider', [[-4,-5], [-2,-5], [-4, 2 ,4]], {name:'x', snapWidth: 0.01});\nvar a_sy = board.create('slider', [[1,-5], [3,-5], [-4, -3 ,4]], {name:'y', snapWidth: 0.01});\nvar a = board.create('point', [()=>a_sx.Value(),()=>a_sy.Value()], {name:function(){return 'D('+a_sx.Value().toFixed(2)+','+a_sy.Value().toFixed(2)+')';}});\nvar o = board.create('point', [0,0], {name:''});\no.setAttribute({fixed: true, visible: false});\nvar b = board.create('point', [()=>a.X(), 0], {name:'', visible: false});\nvar b2 = board.create('point', [1,0], {name:'', visible: false});\nb2.setAttribute({fixed: true});\nboard.create('text', [-0.2,-0.15,'O'], {fixed: true})\nvar a_n = board.create('point', [()=>(a.X())/Math.sqrt((a.X()**2)+(a.Y()**2)),()=>(a.Y())/Math.sqrt((a.X()**2)+(a.Y()**2))], {visible: false});\nvar angle = board.create('sector', [o, a_n, b2], {\n    name: '\\\\(\\\\theta\\\\)',\n    withLabel: {\n        fontSize: 16\n    },\n    fillColor: 'yellow',\n    highlightFillColor: 'yellow',\n    strokeWidth: 0,\n    arc: {\n        visible: true,\n        strokeColor: 'black',\n        strokeWidth: 2,\n        firstArrow: {\n            size: 6\n        }\n    }\n});\nvar angleInv = board.create('angle', [a_n, o, b2], {visible: false})\nvar l1 = board.create('line', [o, a], {straightFirst: false, straightLast: false});\nvar l2 = board.create('line', [o, a], {dash: 3});\nvar l3 = board.create('line', [o, b], {dash: 3});\nvar l4 = board.create('line', [a, b], {dash: 3});\n\nfunction radToDeg(radians) {\n  var pi = Math.PI;\n  return radians * (180/pi);\n}\n\nfunction degHelper(angle, pt) {\n    deg = angle.Value() * (180/Math.PI);\n    return -(deg)\n}\n\nboard.create('text', [-2.3, 2.3, function () {\n    return '\\\\(\\\\theta = ' + degHelper(angleInv, a).toFixed(1) + '^{\\\\circ}\\\\)';\n}],{highlight:false,fixed:true});",
              "layout": "IPY_MODEL_226893386b6342e98811f5d29231acee"
            }
          },
          "d48eacae54994a67809b3a3669172c4f": {
            "model_name": "LayoutModel",
            "model_module": "@jupyter-widgets/base",
            "model_module_version": "1.2.0",
            "state": {}
          },
          "f21d1b3c7f4e47d1a6d405781d48bf51": {
            "model_name": "JSWidgetModel",
            "model_module": "jupyter-divewidgets",
            "model_module_version": "^0.1.5",
            "state": {
              "_model_module_version": "^0.1.5",
              "_view_module_version": "^0.1.5",
              "html": "<!DOCTYPE html>\n<html>\n    <head>\n    <style>\n    html, body {\n        height: 100%;\n    }\n    body {\n        width: 100%;\n        display: flex;\n        padding: 0;\n        margin: 0;\n    }\n    .jxgbox {\n        width:100%; \n        flex-grow: 1;\n    }\n    </style>\n    <link rel=\"stylesheet\" type=\"text/css\" href=\"https://jsxgraph.org/distrib/jsxgraph.css\" />\n    <script type=\"text/javascript\" src=\"https://cdn.jsdelivr.net/npm/jsxgraph/distrib/jsxgraphcore.js\"></script>\n    <script type=\"text/javascript\" src=\"https://cdn.jsdelivr.net/npm/mathjax@3/es5/tex-chtml.js\"></script>\n    </head>\n<body>\n<div id=\"box\" class=\"jxgbox\"></div>\n</body>\n</html>",
              "js": "JXG.Options.text.useMathJax = true;\nvar board = JXG.JSXGraph.initBoard('box', {boundingbox: [-6, 6, 6, -6], axis: true, grid: true, showCopyright: false});\nvar a_sx = board.create('slider', [[-4,-5], [-2,-5], [-4, 2 ,4]], {name:'x', snapWidth: 0.01});\nvar a_sy = board.create('slider', [[1,-5], [3,-5], [-4, 3 ,4]], {name:'y', snapWidth: 0.01});\nvar a = board.create('point', [()=>a_sx.Value(),()=>a_sy.Value()], {name:function(){return 'D('+a_sx.Value().toFixed(2)+','+a_sy.Value().toFixed(2)+')';}});\nvar o = board.create('point', [0,0], {name:''});\no.setAttribute({fixed: true, visible:false});\nvar b = board.create('point', [()=>a.X(), 0], {name:'', visible: false});\nvar b2 = board.create('point', [1,0], {name:'', visible: false});\nb2.setAttribute({fixed: true});\nvar angle = board.create('sector', [o, b2, a], {\n    name: '\\\\(\\\\theta\\\\)',\n    withLabel: {\n        fontSize: 16\n    },\n    fillColor: 'yellow',\n    highlightFillColor: 'yellow',\n    strokeWidth: 0,\n    arc: {\n        visible: true,\n        strokeColor: 'black',\n        strokeWidth: 2,\n        lastArrow: {\n            size: 6\n        }\n    }\n});\nboard.create('text', [-0.2,-0.15,'O'], {fixed: true})\nvar angleInv = board.create('angle', [b, o, a], {visible: false})\nvar l1 = board.create('line', [o, a], {straightFirst: false, straightLast: false});\nvar l2 = board.create('line', [o, a], {dash: 3});\nvar l3 = board.create('line', [o, b], {dash: 3});\nvar l4 = board.create('line', [a, b], {dash: 3});\n\nfunction radToDeg(radians) {\n  var pi = Math.PI;\n  return radians * (180/pi);\n}\n\nfunction degToRad(degrees) {\n  var pi = Math.PI;\n  return degrees * (pi/180);\n}\n\nfunction degHelper(angle, pt) {\n    deg = angle.Value() * (180/Math.PI);\n    if (pt.X()>=0 && pt.Y()>=0){return deg}\n    if (pt.X()<=0 && pt.Y()>=0){return deg-180}\n    if (pt.X()<=0 && pt.Y()<=0){return deg+180}\n    if (pt.X()>=0 && pt.Y()<=0){return deg}\n}\n\nboard.create('text', [-2.3, 2.3, function () {\n    return '<p>θ = ' + degHelper(angleInv, a).toFixed(1) + '&deg;</p>'\n    + '<p>sinθ = ' + Math.sin(degToRad(degHelper(angleInv, a))).toFixed(2)\n    + '<p>cosθ = ' + Math.cos(degToRad(degHelper(angleInv, a))).toFixed(2)\n    + '<p>tanθ = ' + Math.tan(degToRad(degHelper(angleInv, a))).toFixed(2);\n}],{highlight:false,fixed:true}); \n\nboard.create('text', [4.3, 4.5, \"<span style='background-color:yellow;font-size:30px'>I</span>\"], {highlight:true, fixed: true});\nboard.create('text', [-4.7, 4.5, \"<span style='background-color:yellow;font-size:30px'>II</span>\"], {highlight:true, fixed: true});\nboard.create('text', [-4.7, -4.5, \"<span style='background-color:yellow;font-size:30px'>III</span>\"], {highlight:true, fixed: true});\nboard.create('text', [4.3, -4.5, \"<span style='background-color:yellow;font-size:30px'>IV</span>\"], {highlight:true, fixed: true});",
              "layout": "IPY_MODEL_d48eacae54994a67809b3a3669172c4f"
            }
          },
          "f97717ce326847269d464e8b25d44dfc": {
            "model_name": "LayoutModel",
            "model_module": "@jupyter-widgets/base",
            "model_module_version": "1.2.0",
            "state": {}
          },
          "d45f12a796a0460bbd38424aa4ac8d06": {
            "model_name": "JSWidgetModel",
            "model_module": "jupyter-divewidgets",
            "model_module_version": "^0.1.5",
            "state": {
              "_model_module_version": "^0.1.5",
              "_view_module_version": "^0.1.5",
              "html": "<!DOCTYPE html>\n<html>\n    <head>\n    <style>\n    html, body {\n        height: 100%;\n    }\n    body {\n        width: 100%;\n        display: flex;\n        padding: 0;\n        margin: 0;\n    }\n    .jxgbox {\n        width:100%; \n        flex-grow: 1;\n    }\n    </style>\n    <link rel=\"stylesheet\" type=\"text/css\" href=\"https://jsxgraph.org/distrib/jsxgraph.css\" />\n    <script type=\"text/javascript\" src=\"https://cdn.jsdelivr.net/npm/jsxgraph/distrib/jsxgraphcore.js\"></script>\n    <script type=\"text/javascript\" src=\"https://cdn.jsdelivr.net/npm/mathjax@3/es5/tex-chtml.js\"></script>\n    </head>\n<body>\n<div id=\"box\" class=\"jxgbox\"></div>\n</body>\n</html>",
              "js": "function degToRad(degrees) {\n  var pi = Math.PI;\n  return degrees * (pi/180);\n}\nvar board = JXG.JSXGraph.initBoard('box', {boundingbox: [-100, 4, 900, -4], axis: true, grid: true, showCopyright: false});\nvar s = board.create('slider', [[100,3], [500,3], [0,0,900]], {name: 'x', snapWidth: 10});\nvar graph = board.create('functiongraph', [function(x){return Math.sin(degToRad(x))}, 0, ()=>s.Value()]);\nvar pt = board.create('point', [()=>s.Value(), ()=>Math.sin(degToRad(s.Value()))], {name: ()=>'('+s.Value()+','+Math.sin(degToRad(s.Value())).toFixed(2)+')'});\nvar l = board.create('line', [[()=>s.Value(),1], [()=>s.Value(),0]], {dash: 3});\nboard.create('text', [100,2,function(){return 'sin ' + s.Value() + '&#176; = ' + Math.sin(degToRad(s.Value())).toFixed(4) + ' (4d.p.)'}]);\nboard.create('text', [-20,-0.15,'O'], {fixed: true})\nvar ptmax = [];\nvar ptmin = [];\nvar ptzero = [];\nvar nmax = 0;\nvar nmin = 0;\nvar nzero = 0;\nfor (var i=0; i<=900; i++){\n    if (Math.sin(degToRad(i)) == 1){\n        ptmax[nmax] = board.create('point', [i, 1], {name: '('+i+'&#176;,1)', fixed: true, visible: false, label:{offset:[5, 20]}});\n        nmax++;\n    }\n    if (Math.sin(degToRad(i)) == -1){\n        ptmin[nmin] = board.create('point', [i, -1],  {name: '('+i+'&#176;,-1)', fixed: true, visible: false, label:{offset:[5, -8]}});\n        nmin++;\n    }\n    if (Math.abs(Math.sin(degToRad(i))) < 1e-10){\n        ptzero[nzero] = board.create('point', [i, 0],  {name: '('+i+'&#176;,0)', fixed: true, visible: false, label:{offset:[10, 15]}});\n        nzero++;\n    }\n}\nvar lmx = board.create('line', [ptmax[0], [ptmax[0].X()+0.1,ptmax[0].Y()]], {dash: 2, visible: false});\nvar lmn = board.create('line', [ptmin[0], [ptmin[0].X()+0.1,ptmin[0].Y()]], {dash: 2, visible: false});\n\nvar minMaxShown = false;\nshowMinMax = function(){\n    minMaxShown = !minMaxShown;\n    ptmax.forEach(o => o.setAttribute({visible: minMaxShown}));\n    ptmin.forEach(o => o.setAttribute({visible: minMaxShown}));\n    lmx.setAttribute({visible: minMaxShown});\n    lmn.setAttribute({visible: minMaxShown});\n};\nvar zeroShown = false;\nshowZero = function(){\n    zeroShown = !zeroShown;\n    ptzero.forEach(o => o.setAttribute({visible: zeroShown}));\n}\nboard.create('text', [100,-2, '<input type=\"checkbox\" id=\"showMinMax\" onChange=\"showMinMax()\" />  Show min/max'], {fixed: true});\nboard.create('text', [100,-3, '<input type=\"checkbox\" id=\"showZero\" onChange=\"showZero()\" />  Show points where y=0'], {fixed: true});",
              "layout": "IPY_MODEL_f97717ce326847269d464e8b25d44dfc"
            }
          },
          "29d7b42537f049b59f78d7530762a6fe": {
            "model_name": "LayoutModel",
            "model_module": "@jupyter-widgets/base",
            "model_module_version": "1.2.0",
            "state": {}
          },
          "c30d33aca3044b0bb3f5a767e862ef30": {
            "model_name": "JSWidgetModel",
            "model_module": "jupyter-divewidgets",
            "model_module_version": "^0.1.5",
            "state": {
              "_model_module_version": "^0.1.5",
              "_view_module_version": "^0.1.5",
              "html": "<!DOCTYPE html>\n<html>\n    <head>\n    <style>\n    html, body {\n        height: 100%;\n    }\n    body {\n        width: 100%;\n        display: flex;\n        padding: 0;\n        margin: 0;\n    }\n    .jxgbox {\n        width:100%; \n        flex-grow: 1;\n    }\n    </style>\n    <link rel=\"stylesheet\" type=\"text/css\" href=\"https://jsxgraph.org/distrib/jsxgraph.css\" />\n    <script type=\"text/javascript\" src=\"https://cdn.jsdelivr.net/npm/jsxgraph/distrib/jsxgraphcore.js\"></script>\n    <script type=\"text/javascript\" src=\"https://cdn.jsdelivr.net/npm/mathjax@3/es5/tex-chtml.js\"></script>\n    </head>\n<body>\n<div id=\"box\" class=\"jxgbox\"></div>\n</body>\n</html>",
              "js": "JXG.Options.text.useMathJax = true;\nfunction degToRad(degrees) {\n  var pi = Math.PI;\n  return degrees * (pi/180);\n}\nvar board = JXG.JSXGraph.initBoard('box', {boundingbox: [-100, 4, 900, -4], axis: true, grid: true, showCopyright: false});\nvar s = board.create('slider', [[100,3], [500,3], [0,0,900]], {name: 'x', snapWidth: 10});\nvar graph = board.create('functiongraph', [function(x){return Math.cos(degToRad(x))}, 0, ()=>s.Value()]);\nvar pt = board.create('point', [()=>s.Value(), ()=>Math.cos(degToRad(s.Value()))], {name: ()=>'('+s.Value()+','+Math.cos(degToRad(s.Value())).toFixed(2)+')'});\nvar l = board.create('line', [[()=>s.Value(),1], [()=>s.Value(),0]], {dash: 3});\nboard.create('text', [100,2,function(){return 'cos ' + s.Value() + '&#176; = ' + Math.cos(degToRad(s.Value())).toFixed(4) + ' (4d.p.)'}]);\nboard.create('text', [-20,-0.15,'O'], {fixed: true})\nvar ptmax = [];\nvar ptmin = [];\nvar ptzero = [];\nvar nmax = 0;\nvar nmin = 0;\nvar nzero = 0;\nfor (var i=0; i<=900; i++){\n    if (Math.cos(degToRad(i)) == 1){\n        ptmax[nmax] = board.create('point', [i, 1], {name: '('+i+'&#176;,1)', fixed: true, visible: false, label:{offset:[5, 20]}});\n        nmax++;\n    }\n    if (Math.cos(degToRad(i)) == -1){\n        ptmin[nmin] = board.create('point', [i, -1],  {name: '('+i+'&#176;,-1)', fixed: true, visible: false, label:{offset:[5, -8]}});\n        nmin++;\n    }\n    if (Math.abs(Math.cos(degToRad(i))) < 1e-10){\n        ptzero[nzero] = board.create('point', [i, 0],  {name: '('+i+'&#176;,0)', fixed: true, visible: false, label:{offset:[5, 20]}});\n        nzero++;\n    }\n}\nvar lmx = board.create('line', [ptmax[0], [ptmax[0].X()+0.1,ptmax[0].Y()]], {dash: 2, visible: false});\nvar lmn = board.create('line', [ptmin[0], [ptmin[0].X()+0.1,ptmin[0].Y()]], {dash: 2, visible: false});\n\nvar minMaxShown = false;\nshowMinMax = function(){\n    minMaxShown = !minMaxShown;\n    ptmax.forEach(o => o.setAttribute({visible: minMaxShown}));\n    ptmin.forEach(o => o.setAttribute({visible: minMaxShown}));\n    lmx.setAttribute({visible: minMaxShown});\n    lmn.setAttribute({visible: minMaxShown});\n};\nvar zeroShown = false;\nshowZero = function(){\n    zeroShown = !zeroShown;\n    ptzero.forEach(o => o.setAttribute({visible: zeroShown}));\n}\nboard.create('text', [100,-2, '<input type=\"checkbox\" id=\"showMinMax\" onChange=\"showMinMax()\" />  Show min/max'], {fixed: true});\nboard.create('text', [100,-3, '<input type=\"checkbox\" id=\"showZero\" onChange=\"showZero()\" />  Show points where y=0'], {fixed: true});",
              "layout": "IPY_MODEL_29d7b42537f049b59f78d7530762a6fe"
            }
          },
          "94a5250680a84d53a112a44d6bd1d7fb": {
            "model_name": "LayoutModel",
            "model_module": "@jupyter-widgets/base",
            "model_module_version": "1.2.0",
            "state": {}
          },
          "d3ecfe0912574aab8ff6e852d639c4bb": {
            "model_name": "JSWidgetModel",
            "model_module": "jupyter-divewidgets",
            "model_module_version": "^0.1.5",
            "state": {
              "_model_module_version": "^0.1.5",
              "_view_module_version": "^0.1.5",
              "html": "<!DOCTYPE html>\n<html>\n    <head>\n    <style>\n    html, body {\n        height: 100%;\n    }\n    body {\n        width: 100%;\n        display: flex;\n        padding: 0;\n        margin: 0;\n    }\n    .jxgbox {\n        width:100%; \n        flex-grow: 1;\n    }\n    </style>\n    <link rel=\"stylesheet\" type=\"text/css\" href=\"https://jsxgraph.org/distrib/jsxgraph.css\" />\n    <script type=\"text/javascript\" src=\"https://cdn.jsdelivr.net/npm/jsxgraph/distrib/jsxgraphcore.js\"></script>\n    <script type=\"text/javascript\" src=\"https://cdn.jsdelivr.net/npm/mathjax@3/es5/tex-chtml.js\"></script>\n    </head>\n<body>\n<div id=\"box\" class=\"jxgbox\"></div>\n</body>\n</html>",
              "js": "JXG.Options.text.useMathJax = true;\nfunction degToRad(degrees) {\n  var pi = Math.PI;\n  if (degrees%180 ==0){\n      return (degrees/180)*pi\n  }\n  return degrees * (pi/180);\n}\nvar board = JXG.JSXGraph.initBoard('box', {boundingbox: [-100, 4, 900, -4], axis: true, grid: true, showCopyright: false});\nvar s = board.create('slider', [[100,3], [500,3], [0,0,900]], {name: 'x', snapWidth: 10});\nvar graph = board.create('functiongraph', [function(x){return Math.tan(degToRad(x))}, 0, ()=>s.Value()]);\nvar pt = board.create('point', [()=>s.Value(), ()=>Math.tan(degToRad(s.Value()))], {name: ()=>'('+s.Value()+','+Math.tan(degToRad(s.Value())).toFixed(2)+')'});\nvar l = board.create('line', [[()=>s.Value(),1], [()=>s.Value(),0]], {dash: 3});\nboard.create('text', [100,2,function(){return 'tan ' + s.Value() + '&#176; = ' + Math.tan(degToRad(s.Value())).toFixed(4) + ' (4d.p.)'}]);\nboard.create('text', [-20,-0.15,'O'], {fixed: true})\nvar ptzero = [];\nvar nzero = 0;\nfor (var i=0; i<=900; i++){\n    if (Math.abs(Math.tan(degToRad(i))) < 1e-10){\n        ptzero[nzero] = board.create('point', [i, 0],  {name: '('+i+'&#176;,0)', fixed: true, visible: false, label:{offset:[5, 20]}});\n        nzero++;\n    }\n}\n\nvar zeroShown = false;\nshowZero = function(){\n    zeroShown = !zeroShown;\n    ptzero.forEach(o => o.setAttribute({visible: zeroShown}));\n}\nboard.create('text', [100,-2, '<input type=\"checkbox\" id=\"showMinMax\" onChange=\"showMinMax()\" disabled/>  Show min/max (min/mix value for y=tan(x) is undefined)'], {fixed: true});\nboard.create('text', [100,-3, '<input type=\"checkbox\" id=\"showZero\" onChange=\"showZero()\" />  Show points where y=0'], {fixed: true});",
              "layout": "IPY_MODEL_94a5250680a84d53a112a44d6bd1d7fb"
            }
          },
          "981a4d495f4540a9b81b43171d2619b3": {
            "model_name": "LayoutModel",
            "model_module": "@jupyter-widgets/base",
            "model_module_version": "1.2.0",
            "state": {}
          },
          "4749a6348dc245699085f574a7af8b4d": {
            "model_name": "JSWidgetModel",
            "model_module": "jupyter-divewidgets",
            "model_module_version": "^0.1.5",
            "state": {
              "_model_module_version": "^0.1.5",
              "_view_module_version": "^0.1.5",
              "html": "<!DOCTYPE html>\n<html>\n    <head>\n    <style>\n    html, body {\n        height: 100%;\n    }\n    body {\n        width: 100%;\n        display: flex;\n        padding: 0;\n        margin: 0;\n    }\n    .jxgbox {\n        width:100%; \n        flex-grow: 1;\n    }\n    </style>\n    <link rel=\"stylesheet\" type=\"text/css\" href=\"https://jsxgraph.org/distrib/jsxgraph.css\" />\n    <script type=\"text/javascript\" src=\"https://cdn.jsdelivr.net/npm/jsxgraph/distrib/jsxgraphcore.js\"></script>\n    <script type=\"text/javascript\" src=\"https://cdn.jsdelivr.net/npm/mathjax@3/es5/tex-chtml.js\"></script>\n    </head>\n<body>\n<div id=\"box\" class=\"jxgbox\"></div>\n</body>\n</html>",
              "js": "JXG.Options.text.useMathJax = true;\nfunction degToRad(degrees) {\n  var pi = Math.PI;\n  return degrees * (pi/180);\n}\nvar board = JXG.JSXGraph.initBoard('box', {boundingbox: [-100, 4, 900, -4], axis: true, grid: true, showCopyright: false});\nvar s = board.create('slider', [[100,3], [500,3], [0,0,900]], {name: 'x', snapWidth: 10});\nvar graph = board.create('functiongraph', [function(x){return Math.sin(degToRad(x))-1}, 0, ()=>s.Value()]);\nvar pt = board.create('point', [()=>s.Value(), ()=>(Math.sin(degToRad(s.Value()))-1)], {name: ()=>'('+s.Value()+','+(Math.sin(degToRad(s.Value()))-1).toFixed(2)+')'});\nvar l = board.create('line', [[()=>s.Value(),1], [()=>s.Value(),0]], {dash: 3});\nboard.create('text', [100,2,function(){return 'sin ' + s.Value() + '&#176;-1 = ' + (Math.sin(degToRad(s.Value()))-1).toFixed(4) + ' (4d.p.)'}]);\nboard.create('text', [-20,-0.15,'O'], {fixed: true})\nvar ptmax = [];\nvar ptmin = [];\nvar nmax = 0;\nvar nmin = 0;\nfor (var i=0; i<=360; i++){\n    if (Math.sin(degToRad(i)) == 1){\n        ptmax[nmax] = board.create('point', [i, 0], {name: '('+i+'&#176;,0)', fixed: true, visible: false, label:{offset:[5, 20]}});\n        nmax++;\n    }\n    if (Math.sin(degToRad(i)) == -1){\n        ptmin[nmin] = board.create('point', [i, -2],  {name: '('+i+'&#176;,-2)', fixed: true, visible: false, label:{offset:[5, -8]}});\n        nmin++;\n    }\n};\nvar lmx = board.create('line', [ptmax[0], [ptmax[0].X()+0.1,ptmax[0].Y()]], {dash: 2, visible: false});\nvar lmn = board.create('line', [ptmin[0], [ptmin[0].X()+0.1,ptmin[0].Y()]], {dash: 2, visible: false});\nvar lbnd = board.create('line', [[360, 0], [360, 1]], {dash: 1, strokeColor: '#aaaaaa', fixed: true});\n\nvar minMaxShown = false;\nshowMinMax = function(){\n    minMaxShown = !minMaxShown;\n    ptmax.forEach(o => o.setAttribute({visible: minMaxShown}));\n    ptmin.forEach(o => o.setAttribute({visible: minMaxShown}));\n    lmx.setAttribute({visible: minMaxShown});\n    lmn.setAttribute({visible: minMaxShown});\n};\n\nboard.create('text', [100,-3, '<input type=\"checkbox\" id=\"showMinMax\" onChange=\"showMinMax()\" />  Show min/max'], {fixed: true});",
              "layout": "IPY_MODEL_981a4d495f4540a9b81b43171d2619b3"
            }
          },
          "1d45bb6f70af40bb84b74b0d519d67d8": {
            "model_name": "LayoutModel",
            "model_module": "@jupyter-widgets/base",
            "model_module_version": "1.2.0",
            "state": {}
          },
          "3c0e61a3dd7b4d53bf9abb1e71392d44": {
            "model_name": "JSWidgetModel",
            "model_module": "jupyter-divewidgets",
            "model_module_version": "^0.1.5",
            "state": {
              "_model_module_version": "^0.1.5",
              "_view_module_version": "^0.1.5",
              "html": "<!DOCTYPE html>\n<html>\n    <head>\n    <style>\n    html, body {\n        height: 100%;\n    }\n    body {\n        width: 100%;\n        display: flex;\n        padding: 0;\n        margin: 0;\n    }\n    .jxgbox {\n        width:100%; \n        flex-grow: 1;\n    }\n    </style>\n    <link rel=\"stylesheet\" type=\"text/css\" href=\"https://jsxgraph.org/distrib/jsxgraph.css\" />\n    <script type=\"text/javascript\" src=\"https://cdn.jsdelivr.net/npm/jsxgraph/distrib/jsxgraphcore.js\"></script>\n    <script type=\"text/javascript\" src=\"https://cdn.jsdelivr.net/npm/mathjax@3/es5/tex-chtml.js\"></script>\n    </head>\n<body>\n<div id=\"box\" class=\"jxgbox\"></div>\n</body>\n</html>",
              "js": "JXG.Options.text.useMathJax = true;\nfunction degToRad(degrees) {\n  var pi = Math.PI;\n  return degrees * (pi/180);\n}\n\nvar board = JXG.JSXGraph.initBoard('box', {boundingbox: [-100, 4, 900, -4], axis: true, grid: true, showCopyright: false});\nvar s = board.create('slider', [[100,3], [500,3], [0,0,900]], {name: 'x', snapWidth: 10});\nvar graph = board.create('functiongraph', [function(x){return (1/(Math.cos(degToRad(x))+2))}, 0, ()=>s.Value()]);\nvar pt = board.create('point', [()=>s.Value(), ()=>(1/(Math.cos(degToRad(s.Value()))+2))], {name: ()=>'('+s.Value()+','+(1/(Math.cos(degToRad(s.Value()))+2)).toFixed(2)+')'});\nvar l = board.create('line', [[()=>s.Value(),1], [()=>s.Value(),0]], {dash: 3});\nboard.create('text', [100,2,function(){return '1/(cos ' + s.Value() + '&#176;+2) = ' + (1/(Math.cos(degToRad(s.Value()))+2)).toFixed(4) + ' (4d.p.)'}]);\nboard.create('text', [-20,-0.15,'O'], {fixed: true})\nvar ptmax = [];\nvar ptmin = [];\nvar nmax = 0;\nvar nmin = 0;\nfor (var i=0; i<=360; i++){\n    if (Math.cos(degToRad(i)) == 1){\n        ptmax[nmax] = board.create('point', [i, 1/3], {name: '('+i+'&#176;,1/3)', fixed: true, visible: false, label:{offset:[5, -5]}});\n        nmax++;\n    }\n    if (Math.cos(degToRad(i)) == -1){\n        ptmin[nmin] = board.create('point', [i, 1],  {name: '('+i+'&#176;,1)', fixed: true, visible: false, label:{offset:[5, 20]}});\n        nmin++;\n    }\n};\nvar lmx = board.create('line', [ptmax[0], [ptmax[0].X()+0.1,ptmax[0].Y()]], {dash: 2, visible: false});\nvar lmn = board.create('line', [ptmin[0], [ptmin[0].X()+0.1,ptmin[0].Y()]], {dash: 2, visible: false});\nvar lbnd = board.create('line', [[360, 0], [360, 1]], {dash: 1, strokeColor: '#aaaaaa', fixed: true});\n\nvar minMaxShown = false;\nshowMinMax = function(){\n    minMaxShown = !minMaxShown;\n    ptmax.forEach(o => o.setAttribute({visible: minMaxShown}));\n    ptmin.forEach(o => o.setAttribute({visible: minMaxShown}));\n    lmx.setAttribute({visible: minMaxShown});\n    lmn.setAttribute({visible: minMaxShown});\n};\n\nboard.create('text', [100,-3, '<input type=\"checkbox\" id=\"showMinMax\" onChange=\"showMinMax()\" />  Show min/max'], {fixed: true});",
              "layout": "IPY_MODEL_1d45bb6f70af40bb84b74b0d519d67d8"
            }
          },
          "25df004b15b041068eee15dea6620bc6": {
            "model_name": "LayoutModel",
            "model_module": "@jupyter-widgets/base",
            "model_module_version": "1.2.0",
            "state": {}
          },
          "d38b00097d5247b2a74b96057e336ff0": {
            "model_name": "JSWidgetModel",
            "model_module": "jupyter-divewidgets",
            "model_module_version": "^0.1.5",
            "state": {
              "_model_module_version": "^0.1.5",
              "_view_module_version": "^0.1.5",
              "html": "<!DOCTYPE html>\n<html>\n    <head>\n    <style>\n    html, body {\n        height: 100%;\n    }\n    body {\n        width: 100%;\n        display: flex;\n        padding: 0;\n        margin: 0;\n    }\n    .jxgbox {\n        width:100%; \n        flex-grow: 1;\n    }\n    </style>\n    <link rel=\"stylesheet\" type=\"text/css\" href=\"https://jsxgraph.org/distrib/jsxgraph.css\" />\n    <script type=\"text/javascript\" src=\"https://cdn.jsdelivr.net/npm/jsxgraph/distrib/jsxgraphcore.js\"></script>\n    <script type=\"text/javascript\" src=\"https://cdn.jsdelivr.net/npm/mathjax@3/es5/tex-chtml.js\"></script>\n    </head>\n<body>\n<div id=\"box\" class=\"jxgbox\"></div>\n</body>\n</html>",
              "js": "JXG.Options.text.useMathJax = true;\nfunction degToRad(degrees) {\n  var pi = Math.PI;\n  return degrees * (pi/180);\n}\nvar board = JXG.JSXGraph.initBoard('box', {boundingbox: [-100, 12, 900, -4], axis: true, grid: true, showCopyright: false});\nvar s = board.create('slider', [[100,11], [500,11], [0,0,900]], {name: 'x', snapWidth: 10});\nvar graph = board.create('functiongraph', [function(x){return ((2*Math.sin(degToRad(x))-1)**2)}, 0, ()=>s.Value()]);\nvar pt = board.create('point', [()=>s.Value(), ()=>((2*Math.sin(degToRad(s.Value()))-1)**2)], {name: ()=>'('+s.Value()+','+((2*Math.sin(degToRad(s.Value()))-1)**2).toFixed(2)+')'});\nvar l = board.create('line', [[()=>s.Value(),1], [()=>s.Value(),0]], {dash: 3});\nboard.create('text', [100,10,function(){return '(2sin ' + s.Value() + '&#176;-1)^2 = ' + ((2*Math.sin(degToRad(s.Value()))-1)**2).toFixed(4) + ' (4d.p.)'}]);\nboard.create('text', [-20,-0.15,'O'], {fixed: true})\nvar ptmax = [];\nvar ptmin = [];\nvar nmax = 0;\nvar nmin = 0;\nfor (var i=0; i<=360; i++){\n    if (Math.sin(degToRad(i)) == -1){\n        ptmax[nmax] = board.create('point', [i, 9], {name: '('+i+'&#176;,9)', fixed: true, visible: false, label:{offset:[5, 20]}});\n        nmax++;\n    }\n    if (Math.abs(Math.sin(degToRad(i))-0.5) < Number.EPSILON){\n        ptmin[nmin] = board.create('point', [i, 0],  {name: '('+i+'&#176;,0)', fixed: true, visible: false, label:{offset:[5, -13]}});\n        nmin++;\n    }\n};\nvar lmx = board.create('line', [ptmax[0], [ptmax[0].X()+0.1,ptmax[0].Y()]], {dash: 2, visible: false});\nvar lmn = board.create('line', [ptmin[0], [ptmin[0].X()+0.1,ptmin[0].Y()]], {dash: 2, visible: false});\nvar lbnd = board.create('line', [[360, 0], [360, 1]], {dash: 1, strokeColor: '#aaaaaa', fixed: true});\n\nvar minMaxShown = false;\nshowMinMax = function(){\n    minMaxShown = !minMaxShown;\n    ptmax.forEach(o => o.setAttribute({visible: minMaxShown}));\n    ptmin.forEach(o => o.setAttribute({visible: minMaxShown}));\n    lmx.setAttribute({visible: minMaxShown});\n    lmn.setAttribute({visible: minMaxShown});\n};\n\nboard.create('text', [100,-2, '<input type=\"checkbox\" id=\"showMinMax\" onChange=\"showMinMax()\" />  Show min/max'], {fixed: true});",
              "layout": "IPY_MODEL_25df004b15b041068eee15dea6620bc6"
            }
          }
        }
      }
    }
  },
  "nbformat_minor": 5,
  "nbformat": 4,
  "cells": [
    {
      "cell_type": "markdown",
      "source": "# Trigonometry",
      "metadata": {},
      "id": "e3e814b2-c911-4a42-a28d-6b3dbbd686de"
    },
    {
      "cell_type": "markdown",
      "source": "**DIVE into Math**\n\n---",
      "metadata": {},
      "id": "e15cc391-05f6-4a18-8e5d-fb684690d463"
    },
    {
      "cell_type": "markdown",
      "source": "Contributor(s): \n\n- Chun Kit Kenton LI\n- Chao Zhao\n- Chung Chan\n\n---",
      "metadata": {},
      "id": "65912e51-7d26-4c14-876d-12e9d74c391c"
    },
    {
      "cell_type": "code",
      "source": "%reload_ext divewidgets",
      "metadata": {
        "trusted": true
      },
      "execution_count": 1,
      "outputs": [],
      "id": "9c9313ec-7c72-4366-aff7-c3115c71c3aa"
    },
    {
      "cell_type": "markdown",
      "source": "## Background",
      "metadata": {},
      "id": "d4e09e0f-4491-4bea-9695-db2e9d0c7021"
    },
    {
      "cell_type": "markdown",
      "source": "Recall that in Junior Secondary, we learnt a lot about triangles. Particularly, for right-angled triangles, we learnt about trigonometric ratios:\n\n$$\n\\begin{align}\n\\sin\\theta=\\frac{\\text{Opposite side}}{\\text{Hypotenuse}}\\\\\n\\cos\\theta=\\frac{\\text{Adjacent side}}{\\text{Hypotenuse}}\\\\\n\\tan\\theta=\\frac{\\text{Opposite side}}{\\text{Adjacent side}}\n\\end{align}\n$$",
      "metadata": {},
      "id": "518aa0e9-6e03-4154-944c-4132333e4651"
    },
    {
      "cell_type": "code",
      "source": "%%jsxgraph\nvar board = JXG.JSXGraph.initBoard('box', {boundingbox: [-6, 6, 6, -6], axis: true, grid: true, showCopyright: false});\nvar a_sx = board.create('slider', [[-4,-5], [-2,-5], [-4, 2 ,4]], {name:'x', snapWidth: 0.01});\nvar a_sy = board.create('slider', [[1,-5], [3,-5], [-4, 3 ,4]], {name:'y', snapWidth: 0.01});\nvar a = board.create('point', [()=>a_sx.Value(),()=>a_sy.Value()], {name:function(){return 'D('+a_sx.Value().toFixed(2)+','+a_sy.Value().toFixed(2)+')';}});\nvar o = board.create('point', [0,0], {name:''});\no.setAttribute({fixed: true, visible: false});\nvar b = board.create('point', [()=>a.X(), 0], {name:'D\\''});\nvar tri = board.create('polygon', [a,o,b]);\nvar ang = board.create('nonreflexangle', [a,b,o], {name:' ', radius: 0.2});\nvar ang2 = board.create('nonreflexangle', [a,o,b], {name:'θ', radius: 0.4})\nboard.create('text', [-0.2,-0.15,'O'], {fixed: true})\nboard.create('text',[()=>(a.X()+o.X()+b.X())/3,()=>(a.Y()+o.X()+b.Y())/3,'△ODD\\''],{anchorX:'middle', anchorY:'auto'});",
      "metadata": {
        "trusted": true
      },
      "execution_count": 2,
      "outputs": [
        {
          "output_type": "display_data",
          "data": {
            "application/vnd.jupyter.widget-view+json": {
              "model_id": "6d6ade4a8c844eab8dee28f71dba29b6",
              "version_major": 2,
              "version_minor": 0
            },
            "text/plain": "JSWidget(value=None, height=600, html='<!DOCTYPE html>\\n<html>\\n    <head>\\n    <style>\\n    html, body {\\n   …"
          },
          "metadata": {}
        }
      ],
      "id": "965631aa-fa4e-4e03-88fe-0be277b36c22"
    },
    {
      "cell_type": "markdown",
      "source": "Run the below cell and see how the right-angled triangle is formed.",
      "metadata": {},
      "id": "b2c54744-70e1-4d8b-b525-5460fd3cf951"
    },
    {
      "cell_type": "markdown",
      "source": "**Exercise**\n\nThe length of $OD$ can be easily computed using the Pythagorean theorem as $L_{\\text{OD}}=\\sqrt{x^2+y^2}$. For simplicity, let's denote the length of $OD$ as $r$.\n\nNow, complete the following table in terms of $x$, $y$, and $r$ for the right-angled triangle we have just created above ($\\triangle ODD'$).\n\n|               | $\\triangle ODD'$ |\n| ------------- | -------- |\n| Opposite side |     |\n| Adjacent side |     |\n| Hypotenuse    |     |\n| $\\sin \\theta$       |     |\n| $\\cos \\theta$       |     |\n| $\\tan \\theta$       |     |\n\n```{hint}\nHint: Try to use values/properties found on the graph\n```",
      "metadata": {},
      "id": "40ff94fd-c87f-4de6-9bc1-d5898c7a1c4f"
    },
    {
      "cell_type": "markdown",
      "source": "YOUR ANSWER HERE",
      "metadata": {
        "deletable": false,
        "nbgrader": {
          "cell_type": "markdown",
          "checksum": "11b903531c3dc15001aba9cee6eb2924",
          "grade": true,
          "grade_id": "p1",
          "locked": false,
          "points": 1,
          "schema_version": 3,
          "solution": true,
          "task": false
        },
        "tags": []
      },
      "id": "51da7289-bb80-42ac-8cc8-fa7ad9dc64cb"
    },
    {
      "cell_type": "markdown",
      "source": "## Trigonometry with Rectangular Coordinate System",
      "metadata": {},
      "id": "55cfd858-5d77-4e8a-b689-cfc3aa98e688"
    },
    {
      "cell_type": "markdown",
      "source": "The angle $\\theta$ for the triangle above must be between $0^{\\circ}$ and $90^{\\circ}$. However, we can extends it beyond the range as follows:",
      "metadata": {},
      "id": "5a71fab6-d319-4149-b535-d002a5306fb2"
    },
    {
      "cell_type": "code",
      "source": "%%jsxgraph\nJXG.Options.text.useMathJax = true;\nvar board = JXG.JSXGraph.initBoard('box', {boundingbox: [-6, 6, 6, -6], axis: true, grid: true, showCopyright: false});\nvar a_sx = board.create('slider', [[-4,-5], [-2,-5], [-4, 2 ,4]], {name:'x', snapWidth: 0.01});\nvar a_sy = board.create('slider', [[1,-5], [3,-5], [-4, 3 ,4]], {name:'y', snapWidth: 0.01});\nvar a = board.create('point', [()=>a_sx.Value(),()=>a_sy.Value()], {name:function(){return 'D('+a_sx.Value().toFixed(2)+','+a_sy.Value().toFixed(2)+')';}});\nvar o = board.create('point', [0,0], {name:''});\no.setAttribute({fixed: true, visible: false});\nvar b = board.create('point', [()=>a.X(), 0], {name:'', visible: false});\nvar b2 = board.create('point', [1,0], {name:'', visible: false});\nb2.setAttribute({fixed: true});\nboard.create('text', [-0.2,-0.15,'O'], {fixed: true})\nvar angle = board.create('sector', [o, b2, a], {\n    name: '\\\\(\\\\theta\\\\)',\n    withLabel: {\n        fontSize: 16\n    },\n    fillColor: 'yellow',\n    highlightFillColor: 'yellow',\n    strokeWidth: 0,\n    arc: {\n        visible: true,\n        strokeColor: 'black',\n        strokeWidth: 2,\n        lastArrow: {\n            size: 6\n        }\n    }\n});\nvar angleInv = board.create('angle', [b, o, a], {visible: false})\nvar l1 = board.create('line', [o, a], {straightFirst: false, straightLast: false});\nvar l2 = board.create('line', [o, a], {dash: 3});\nvar l3 = board.create('line', [o, b], {dash: 3});\nvar l4 = board.create('line', [a, b], {dash: 3});\n\nfunction radToDeg(radians) {\n  var pi = Math.PI;\n  return radians * (180/pi);\n}\n\nfunction degHelper(angle, pt) {\n    deg = angle.Value() * (180/Math.PI);\n    if (pt.X()>=0 && pt.Y()>=0){return deg}\n    if (pt.X()<=0 && pt.Y()>=0){return deg-180}\n    if (pt.X()<=0 && pt.Y()<=0){return deg+180}\n    if (pt.X()>=0 && pt.Y()<=0){return deg}\n}\n\nboard.create('text', [-2.3, 2.3, function () {\n    return '\\\\(\\\\theta = ' + degHelper(angleInv, a).toFixed(1) + '^{\\\\circ}\\\\)';\n}],{highlight:false,fixed:true}); ",
      "metadata": {
        "trusted": true
      },
      "execution_count": 3,
      "outputs": [
        {
          "output_type": "display_data",
          "data": {
            "application/vnd.jupyter.widget-view+json": {
              "model_id": "0e20d14565cd4a3ca4057caf310c2414",
              "version_major": 2,
              "version_minor": 0
            },
            "text/plain": "JSWidget(value=None, height=600, html='<!DOCTYPE html>\\n<html>\\n    <head>\\n    <style>\\n    html, body {\\n   …"
          },
          "metadata": {}
        }
      ],
      "id": "ad758c20-a7c6-4eb5-8fa5-31582270b164"
    },
    {
      "cell_type": "markdown",
      "source": "It is also valid to consider negative angles as shown below.",
      "metadata": {},
      "id": "28942d0b-b874-4f64-8421-48f09021e737"
    },
    {
      "cell_type": "code",
      "source": "%%jsxgraph\nJXG.Options.text.useMathJax = true;\nvar board = JXG.JSXGraph.initBoard('box', {boundingbox: [-6, 6, 6, -6], axis: true, grid: true, showCopyright: false});\nvar a_sx = board.create('slider', [[-4,-5], [-2,-5], [-4, 2 ,4]], {name:'x', snapWidth: 0.01});\nvar a_sy = board.create('slider', [[1,-5], [3,-5], [-4, -3 ,4]], {name:'y', snapWidth: 0.01});\nvar a = board.create('point', [()=>a_sx.Value(),()=>a_sy.Value()], {name:function(){return 'D('+a_sx.Value().toFixed(2)+','+a_sy.Value().toFixed(2)+')';}});\nvar o = board.create('point', [0,0], {name:''});\no.setAttribute({fixed: true, visible: false});\nvar b = board.create('point', [()=>a.X(), 0], {name:'', visible: false});\nvar b2 = board.create('point', [1,0], {name:'', visible: false});\nb2.setAttribute({fixed: true});\nboard.create('text', [-0.2,-0.15,'O'], {fixed: true})\nvar a_n = board.create('point', [()=>(a.X())/Math.sqrt((a.X()**2)+(a.Y()**2)),()=>(a.Y())/Math.sqrt((a.X()**2)+(a.Y()**2))], {visible: false});\nvar angle = board.create('sector', [o, a_n, b2], {\n    name: '\\\\(\\\\theta\\\\)',\n    withLabel: {\n        fontSize: 16\n    },\n    fillColor: 'yellow',\n    highlightFillColor: 'yellow',\n    strokeWidth: 0,\n    arc: {\n        visible: true,\n        strokeColor: 'black',\n        strokeWidth: 2,\n        firstArrow: {\n            size: 6\n        }\n    }\n});\nvar angleInv = board.create('angle', [a_n, o, b2], {visible: false})\nvar l1 = board.create('line', [o, a], {straightFirst: false, straightLast: false});\nvar l2 = board.create('line', [o, a], {dash: 3});\nvar l3 = board.create('line', [o, b], {dash: 3});\nvar l4 = board.create('line', [a, b], {dash: 3});\n\nfunction radToDeg(radians) {\n  var pi = Math.PI;\n  return radians * (180/pi);\n}\n\nfunction degHelper(angle, pt) {\n    deg = angle.Value() * (180/Math.PI);\n    return -(deg)\n}\n\nboard.create('text', [-2.3, 2.3, function () {\n    return '\\\\(\\\\theta = ' + degHelper(angleInv, a).toFixed(1) + '^{\\\\circ}\\\\)';\n}],{highlight:false,fixed:true});",
      "metadata": {
        "trusted": true
      },
      "execution_count": 4,
      "outputs": [
        {
          "output_type": "display_data",
          "data": {
            "application/vnd.jupyter.widget-view+json": {
              "model_id": "17c453f15937427e9ea7bf1d27d8cb3f",
              "version_major": 2,
              "version_minor": 0
            },
            "text/plain": "JSWidget(value=None, height=600, html='<!DOCTYPE html>\\n<html>\\n    <head>\\n    <style>\\n    html, body {\\n   …"
          },
          "metadata": {}
        }
      ],
      "id": "a486ee3b-fdbf-4da6-8fba-ea3c4419fff7"
    },
    {
      "cell_type": "markdown",
      "source": "**Exercise**\n\nExplain how is the angle $\\theta$ to Point $D$ is defined above.",
      "metadata": {},
      "id": "9749a2e2-1fca-4550-bf3d-b322593e9e09"
    },
    {
      "cell_type": "markdown",
      "source": "YOUR ANSWER HERE",
      "metadata": {
        "deletable": false,
        "nbgrader": {
          "cell_type": "markdown",
          "checksum": "60fdd1f7ebf4bcb905d160e67f88525a",
          "grade": true,
          "grade_id": "p2",
          "locked": false,
          "points": 1,
          "schema_version": 3,
          "solution": true,
          "task": false
        },
        "tags": []
      },
      "id": "68387c7c-e2d2-4c88-a55a-9cb5d0f348bd"
    },
    {
      "cell_type": "markdown",
      "source": "Play with the following interactive graph and observe the values of the 3 ratios:",
      "metadata": {},
      "id": "81b325d7-5364-4008-860d-8d6011c15e23"
    },
    {
      "cell_type": "code",
      "source": "%%jsxgraph\nJXG.Options.text.useMathJax = true;\nvar board = JXG.JSXGraph.initBoard('box', {boundingbox: [-6, 6, 6, -6], axis: true, grid: true, showCopyright: false});\nvar a_sx = board.create('slider', [[-4,-5], [-2,-5], [-4, 2 ,4]], {name:'x', snapWidth: 0.01});\nvar a_sy = board.create('slider', [[1,-5], [3,-5], [-4, 3 ,4]], {name:'y', snapWidth: 0.01});\nvar a = board.create('point', [()=>a_sx.Value(),()=>a_sy.Value()], {name:function(){return 'D('+a_sx.Value().toFixed(2)+','+a_sy.Value().toFixed(2)+')';}});\nvar o = board.create('point', [0,0], {name:''});\no.setAttribute({fixed: true, visible:false});\nvar b = board.create('point', [()=>a.X(), 0], {name:'', visible: false});\nvar b2 = board.create('point', [1,0], {name:'', visible: false});\nb2.setAttribute({fixed: true});\nvar angle = board.create('sector', [o, b2, a], {\n    name: '\\\\(\\\\theta\\\\)',\n    withLabel: {\n        fontSize: 16\n    },\n    fillColor: 'yellow',\n    highlightFillColor: 'yellow',\n    strokeWidth: 0,\n    arc: {\n        visible: true,\n        strokeColor: 'black',\n        strokeWidth: 2,\n        lastArrow: {\n            size: 6\n        }\n    }\n});\nboard.create('text', [-0.2,-0.15,'O'], {fixed: true})\nvar angleInv = board.create('angle', [b, o, a], {visible: false})\nvar l1 = board.create('line', [o, a], {straightFirst: false, straightLast: false});\nvar l2 = board.create('line', [o, a], {dash: 3});\nvar l3 = board.create('line', [o, b], {dash: 3});\nvar l4 = board.create('line', [a, b], {dash: 3});\n\nfunction radToDeg(radians) {\n  var pi = Math.PI;\n  return radians * (180/pi);\n}\n\nfunction degToRad(degrees) {\n  var pi = Math.PI;\n  return degrees * (pi/180);\n}\n\nfunction degHelper(angle, pt) {\n    deg = angle.Value() * (180/Math.PI);\n    if (pt.X()>=0 && pt.Y()>=0){return deg}\n    if (pt.X()<=0 && pt.Y()>=0){return deg-180}\n    if (pt.X()<=0 && pt.Y()<=0){return deg+180}\n    if (pt.X()>=0 && pt.Y()<=0){return deg}\n}\n\nboard.create('text', [-2.3, 2.3, function () {\n    return '<p>θ = ' + degHelper(angleInv, a).toFixed(1) + '&deg;</p>'\n    + '<p>sinθ = ' + Math.sin(degToRad(degHelper(angleInv, a))).toFixed(2)\n    + '<p>cosθ = ' + Math.cos(degToRad(degHelper(angleInv, a))).toFixed(2)\n    + '<p>tanθ = ' + Math.tan(degToRad(degHelper(angleInv, a))).toFixed(2);\n}],{highlight:false,fixed:true}); \n\nboard.create('text', [4.3, 4.5, \"<span style='background-color:yellow;font-size:30px'>I</span>\"], {highlight:true, fixed: true});\nboard.create('text', [-4.7, 4.5, \"<span style='background-color:yellow;font-size:30px'>II</span>\"], {highlight:true, fixed: true});\nboard.create('text', [-4.7, -4.5, \"<span style='background-color:yellow;font-size:30px'>III</span>\"], {highlight:true, fixed: true});\nboard.create('text', [4.3, -4.5, \"<span style='background-color:yellow;font-size:30px'>IV</span>\"], {highlight:true, fixed: true});",
      "metadata": {
        "trusted": true
      },
      "execution_count": 5,
      "outputs": [
        {
          "output_type": "display_data",
          "data": {
            "application/vnd.jupyter.widget-view+json": {
              "model_id": "f21d1b3c7f4e47d1a6d405781d48bf51",
              "version_major": 2,
              "version_minor": 0
            },
            "text/plain": "JSWidget(value=None, height=600, html='<!DOCTYPE html>\\n<html>\\n    <head>\\n    <style>\\n    html, body {\\n   …"
          },
          "metadata": {}
        }
      ],
      "id": "98ae3f9c-c28b-4f59-ad87-ab32c054aeca"
    },
    {
      "cell_type": "markdown",
      "source": "**Exercise**\n\nTry for different angles in different quardrants from the graph and fill in the following table regarding the sign of the values of the 3 trigonometric ratios:\n\n| Quadrant | I | II | III | IV |\n| -------- | - | -- | --- | -- |\n| $\\sin \\theta$  | + |    |     |    |\n| $\\cos \\theta$  | + |    |     |    |\n| $\\tan \\theta$  | + |    |     |    |",
      "metadata": {},
      "id": "7cb08593-a57a-4954-8380-bb575c0930be"
    },
    {
      "cell_type": "markdown",
      "source": "YOUR ANSWER HERE",
      "metadata": {
        "deletable": false,
        "nbgrader": {
          "cell_type": "markdown",
          "checksum": "cb8fd0c9c230e67f4e65201372e32c94",
          "grade": true,
          "grade_id": "p3",
          "locked": false,
          "points": 2,
          "schema_version": 3,
          "solution": true,
          "task": false
        },
        "tags": []
      },
      "id": "4fb1d6d3-0621-43e1-a039-798a5569f3c0"
    },
    {
      "cell_type": "markdown",
      "source": "```{seealso}\nTo help us remember when the values for the trigonometric ratios are positive/negative, we can use the [CAST diagram](https://en.wikipedia.org/wiki/Mnemonics_in_trigonometry).\n```",
      "metadata": {},
      "id": "23007713-1f4b-4c37-9a4b-e49658c29eca"
    },
    {
      "cell_type": "markdown",
      "source": "## Plots of Trigonometric Functions",
      "metadata": {},
      "id": "0789d710-18b6-4ef5-97c0-32621daab62f"
    },
    {
      "cell_type": "markdown",
      "source": "If we plot the graph of the trigonometric functions:\n\n$$\n\\begin{align}\ny=\\sin x\\\\\ny=\\cos x\\\\\ny=\\tan x,\n\\end{align}\n$$\nwhere $x$ is in degrees, we would get the following graphs:",
      "metadata": {},
      "id": "7f83d36c-e50f-4d4d-84af-26fc55c6f8ea"
    },
    {
      "cell_type": "code",
      "source": "%%jsxgraph\nfunction degToRad(degrees) {\n  var pi = Math.PI;\n  return degrees * (pi/180);\n}\nvar board = JXG.JSXGraph.initBoard('box', {boundingbox: [-100, 4, 900, -4], axis: true, grid: true, showCopyright: false});\nvar s = board.create('slider', [[100,3], [500,3], [0,0,900]], {name: 'x', snapWidth: 10});\nvar graph = board.create('functiongraph', [function(x){return Math.sin(degToRad(x))}, 0, ()=>s.Value()]);\nvar pt = board.create('point', [()=>s.Value(), ()=>Math.sin(degToRad(s.Value()))], {name: ()=>'('+s.Value()+','+Math.sin(degToRad(s.Value())).toFixed(2)+')'});\nvar l = board.create('line', [[()=>s.Value(),1], [()=>s.Value(),0]], {dash: 3});\nboard.create('text', [100,2,function(){return 'sin ' + s.Value() + '&#176; = ' + Math.sin(degToRad(s.Value())).toFixed(4) + ' (4d.p.)'}]);\nboard.create('text', [-20,-0.15,'O'], {fixed: true})\nvar ptmax = [];\nvar ptmin = [];\nvar ptzero = [];\nvar nmax = 0;\nvar nmin = 0;\nvar nzero = 0;\nfor (var i=0; i<=900; i++){\n    if (Math.sin(degToRad(i)) == 1){\n        ptmax[nmax] = board.create('point', [i, 1], {name: '('+i+'&#176;,1)', fixed: true, visible: false, label:{offset:[5, 20]}});\n        nmax++;\n    }\n    if (Math.sin(degToRad(i)) == -1){\n        ptmin[nmin] = board.create('point', [i, -1],  {name: '('+i+'&#176;,-1)', fixed: true, visible: false, label:{offset:[5, -8]}});\n        nmin++;\n    }\n    if (Math.abs(Math.sin(degToRad(i))) < 1e-10){\n        ptzero[nzero] = board.create('point', [i, 0],  {name: '('+i+'&#176;,0)', fixed: true, visible: false, label:{offset:[10, 15]}});\n        nzero++;\n    }\n}\nvar lmx = board.create('line', [ptmax[0], [ptmax[0].X()+0.1,ptmax[0].Y()]], {dash: 2, visible: false});\nvar lmn = board.create('line', [ptmin[0], [ptmin[0].X()+0.1,ptmin[0].Y()]], {dash: 2, visible: false});\n\nvar minMaxShown = false;\nshowMinMax = function(){\n    minMaxShown = !minMaxShown;\n    ptmax.forEach(o => o.setAttribute({visible: minMaxShown}));\n    ptmin.forEach(o => o.setAttribute({visible: minMaxShown}));\n    lmx.setAttribute({visible: minMaxShown});\n    lmn.setAttribute({visible: minMaxShown});\n};\nvar zeroShown = false;\nshowZero = function(){\n    zeroShown = !zeroShown;\n    ptzero.forEach(o => o.setAttribute({visible: zeroShown}));\n}\nboard.create('text', [100,-2, '<input type=\"checkbox\" id=\"showMinMax\" onChange=\"showMinMax()\" />  Show min/max'], {fixed: true});\nboard.create('text', [100,-3, '<input type=\"checkbox\" id=\"showZero\" onChange=\"showZero()\" />  Show points where y=0'], {fixed: true});",
      "metadata": {
        "trusted": true
      },
      "execution_count": 6,
      "outputs": [
        {
          "output_type": "display_data",
          "data": {
            "application/vnd.jupyter.widget-view+json": {
              "model_id": "d45f12a796a0460bbd38424aa4ac8d06",
              "version_major": 2,
              "version_minor": 0
            },
            "text/plain": "JSWidget(value=None, height=600, html='<!DOCTYPE html>\\n<html>\\n    <head>\\n    <style>\\n    html, body {\\n   …"
          },
          "metadata": {}
        }
      ],
      "id": "917bd5ef-6681-4acf-b27b-d75e463750b3"
    },
    {
      "cell_type": "code",
      "source": "%%jsxgraph\nJXG.Options.text.useMathJax = true;\nfunction degToRad(degrees) {\n  var pi = Math.PI;\n  return degrees * (pi/180);\n}\nvar board = JXG.JSXGraph.initBoard('box', {boundingbox: [-100, 4, 900, -4], axis: true, grid: true, showCopyright: false});\nvar s = board.create('slider', [[100,3], [500,3], [0,0,900]], {name: 'x', snapWidth: 10});\nvar graph = board.create('functiongraph', [function(x){return Math.cos(degToRad(x))}, 0, ()=>s.Value()]);\nvar pt = board.create('point', [()=>s.Value(), ()=>Math.cos(degToRad(s.Value()))], {name: ()=>'('+s.Value()+','+Math.cos(degToRad(s.Value())).toFixed(2)+')'});\nvar l = board.create('line', [[()=>s.Value(),1], [()=>s.Value(),0]], {dash: 3});\nboard.create('text', [100,2,function(){return 'cos ' + s.Value() + '&#176; = ' + Math.cos(degToRad(s.Value())).toFixed(4) + ' (4d.p.)'}]);\nboard.create('text', [-20,-0.15,'O'], {fixed: true})\nvar ptmax = [];\nvar ptmin = [];\nvar ptzero = [];\nvar nmax = 0;\nvar nmin = 0;\nvar nzero = 0;\nfor (var i=0; i<=900; i++){\n    if (Math.cos(degToRad(i)) == 1){\n        ptmax[nmax] = board.create('point', [i, 1], {name: '('+i+'&#176;,1)', fixed: true, visible: false, label:{offset:[5, 20]}});\n        nmax++;\n    }\n    if (Math.cos(degToRad(i)) == -1){\n        ptmin[nmin] = board.create('point', [i, -1],  {name: '('+i+'&#176;,-1)', fixed: true, visible: false, label:{offset:[5, -8]}});\n        nmin++;\n    }\n    if (Math.abs(Math.cos(degToRad(i))) < 1e-10){\n        ptzero[nzero] = board.create('point', [i, 0],  {name: '('+i+'&#176;,0)', fixed: true, visible: false, label:{offset:[5, 20]}});\n        nzero++;\n    }\n}\nvar lmx = board.create('line', [ptmax[0], [ptmax[0].X()+0.1,ptmax[0].Y()]], {dash: 2, visible: false});\nvar lmn = board.create('line', [ptmin[0], [ptmin[0].X()+0.1,ptmin[0].Y()]], {dash: 2, visible: false});\n\nvar minMaxShown = false;\nshowMinMax = function(){\n    minMaxShown = !minMaxShown;\n    ptmax.forEach(o => o.setAttribute({visible: minMaxShown}));\n    ptmin.forEach(o => o.setAttribute({visible: minMaxShown}));\n    lmx.setAttribute({visible: minMaxShown});\n    lmn.setAttribute({visible: minMaxShown});\n};\nvar zeroShown = false;\nshowZero = function(){\n    zeroShown = !zeroShown;\n    ptzero.forEach(o => o.setAttribute({visible: zeroShown}));\n}\nboard.create('text', [100,-2, '<input type=\"checkbox\" id=\"showMinMax\" onChange=\"showMinMax()\" />  Show min/max'], {fixed: true});\nboard.create('text', [100,-3, '<input type=\"checkbox\" id=\"showZero\" onChange=\"showZero()\" />  Show points where y=0'], {fixed: true});",
      "metadata": {
        "trusted": true
      },
      "execution_count": 7,
      "outputs": [
        {
          "output_type": "display_data",
          "data": {
            "application/vnd.jupyter.widget-view+json": {
              "model_id": "c30d33aca3044b0bb3f5a767e862ef30",
              "version_major": 2,
              "version_minor": 0
            },
            "text/plain": "JSWidget(value=None, height=600, html='<!DOCTYPE html>\\n<html>\\n    <head>\\n    <style>\\n    html, body {\\n   …"
          },
          "metadata": {}
        }
      ],
      "id": "658ef4ca-0fef-4309-a557-7387520fac74"
    },
    {
      "cell_type": "code",
      "source": "%%jsxgraph\nJXG.Options.text.useMathJax = true;\nfunction degToRad(degrees) {\n  var pi = Math.PI;\n  if (degrees%180 ==0){\n      return (degrees/180)*pi\n  }\n  return degrees * (pi/180);\n}\nvar board = JXG.JSXGraph.initBoard('box', {boundingbox: [-100, 4, 900, -4], axis: true, grid: true, showCopyright: false});\nvar s = board.create('slider', [[100,3], [500,3], [0,0,900]], {name: 'x', snapWidth: 10});\nvar graph = board.create('functiongraph', [function(x){return Math.tan(degToRad(x))}, 0, ()=>s.Value()]);\nvar pt = board.create('point', [()=>s.Value(), ()=>Math.tan(degToRad(s.Value()))], {name: ()=>'('+s.Value()+','+Math.tan(degToRad(s.Value())).toFixed(2)+')'});\nvar l = board.create('line', [[()=>s.Value(),1], [()=>s.Value(),0]], {dash: 3});\nboard.create('text', [100,2,function(){return 'tan ' + s.Value() + '&#176; = ' + Math.tan(degToRad(s.Value())).toFixed(4) + ' (4d.p.)'}]);\nboard.create('text', [-20,-0.15,'O'], {fixed: true})\nvar ptzero = [];\nvar nzero = 0;\nfor (var i=0; i<=900; i++){\n    if (Math.abs(Math.tan(degToRad(i))) < 1e-10){\n        ptzero[nzero] = board.create('point', [i, 0],  {name: '('+i+'&#176;,0)', fixed: true, visible: false, label:{offset:[5, 20]}});\n        nzero++;\n    }\n}\n\nvar zeroShown = false;\nshowZero = function(){\n    zeroShown = !zeroShown;\n    ptzero.forEach(o => o.setAttribute({visible: zeroShown}));\n}\nboard.create('text', [100,-2, '<input type=\"checkbox\" id=\"showMinMax\" onChange=\"showMinMax()\" disabled/>  Show min/max (min/mix value for y=tan(x) is undefined)'], {fixed: true});\nboard.create('text', [100,-3, '<input type=\"checkbox\" id=\"showZero\" onChange=\"showZero()\" />  Show points where y=0'], {fixed: true});",
      "metadata": {
        "trusted": true
      },
      "execution_count": 8,
      "outputs": [
        {
          "output_type": "display_data",
          "data": {
            "application/vnd.jupyter.widget-view+json": {
              "model_id": "d3ecfe0912574aab8ff6e852d639c4bb",
              "version_major": 2,
              "version_minor": 0
            },
            "text/plain": "JSWidget(value=None, height=600, html='<!DOCTYPE html>\\n<html>\\n    <head>\\n    <style>\\n    html, body {\\n   …"
          },
          "metadata": {}
        }
      ],
      "id": "8646eeee-6d58-4815-b87c-e7aae0b595c6"
    },
    {
      "cell_type": "markdown",
      "source": "**Exercise**\n\nFrom the above graphs, what are the maximum/minimum values and when the value is attained (consider $x$ from $0^{\\circ}$ to $360^{\\circ}$) for the $\\sin$, $\\cos$ and $\\tan$ functions? Complete the following table:\n\n| $y=$ &nbsp; &nbsp; &nbsp; &nbsp; &nbsp; &nbsp; &nbsp; &nbsp; | $\\sin x$ &nbsp; &nbsp; &nbsp; &nbsp; &nbsp; &nbsp; &nbsp; &nbsp; &nbsp; &nbsp; &nbsp; &nbsp; | $\\cos x$ &nbsp; &nbsp; &nbsp; &nbsp; &nbsp; &nbsp; &nbsp; &nbsp;| $\\tan x$ |\n| ---- | -------- | -------- | -------- |\n|  max |   ($x=$) |   ($x=$) | undefined|\n|  min |   ($x=$) |   ($x=$) | undefined|        \n\nWhat happens after $x$ reaches $360^{\\circ}$ for $\\sin$ and $\\cos$ functions/$180^{\\circ}$ for $\\tan$ function? Try and explain.",
      "metadata": {},
      "id": "8348558f-5976-4c18-ab3e-6b44810350b4"
    },
    {
      "cell_type": "markdown",
      "source": "YOUR ANSWER HERE",
      "metadata": {
        "deletable": false,
        "nbgrader": {
          "cell_type": "markdown",
          "checksum": "e95afce7c7a31f343c985f237b91b56a",
          "grade": true,
          "grade_id": "p4",
          "locked": false,
          "points": 1,
          "schema_version": 3,
          "solution": true,
          "task": false
        },
        "tags": []
      },
      "id": "c561836a-d3d0-4eb7-887c-1b25dd0d8387"
    },
    {
      "cell_type": "markdown",
      "source": "## Extrema of Trigonometric Functions",
      "metadata": {},
      "id": "3f87cbcf-59d3-4191-807e-e1ef77091b6c"
    },
    {
      "cell_type": "markdown",
      "source": "Now we fully understand the range of values of the trigonometric functions, let's see how we can find the minimum/maximum values of functions that includes these trigonometric functions.\n\n```{note}\nSince the min/max values of the $\\tan$ function are undefined, we will only consider $\\sin$ and $\\cos$ functions.\n```",
      "metadata": {},
      "id": "5df782f4-241b-4e8e-bd10-82f41da02f10"
    },
    {
      "cell_type": "markdown",
      "source": "**Example**\n\nConsider the following function:\n\n$$f(x)=\\sin x-1,$$\n\nFind the maximum and minumum values of $f(x)$ and find $x$ given $0^{\\circ}\\leq x\\leq360^{\\circ}$.",
      "metadata": {},
      "id": "b2600ced-b917-4169-9bb8-2f18fe5933bf"
    },
    {
      "cell_type": "markdown",
      "source": "```{admonition} Solution\n\nFirstly, we think about what $f(x)$ can be. From what we learnt above, we know that $-1\\leq\\sin x\\leq1$, i.e. the value of $\\sin x$ can be anything between $-1$ and $1$, the min/max value of $f(x)$ can be the min/max value of $\\sin x$, then $-1$.\n\nTherefore, \n$$\\max \\text{ of } f(x)= (1)-1$$\n$$=0$$\nwhen $x=90^{\\circ}$\nand\n$$\\min \\text{ of } f(x)= (-1)-1$$\n$$=-2$$\nwhen $x=270^{\\circ}$.\n```\n\nLet's validate the result graphically:",
      "metadata": {},
      "id": "59c4e98d-b4e5-4a4a-b9ba-1b1058d0ac95"
    },
    {
      "cell_type": "code",
      "source": "%%jsxgraph\nJXG.Options.text.useMathJax = true;\nfunction degToRad(degrees) {\n  var pi = Math.PI;\n  return degrees * (pi/180);\n}\nvar board = JXG.JSXGraph.initBoard('box', {boundingbox: [-100, 4, 900, -4], axis: true, grid: true, showCopyright: false});\nvar s = board.create('slider', [[100,3], [500,3], [0,0,900]], {name: 'x', snapWidth: 10});\nvar graph = board.create('functiongraph', [function(x){return Math.sin(degToRad(x))-1}, 0, ()=>s.Value()]);\nvar pt = board.create('point', [()=>s.Value(), ()=>(Math.sin(degToRad(s.Value()))-1)], {name: ()=>'('+s.Value()+','+(Math.sin(degToRad(s.Value()))-1).toFixed(2)+')'});\nvar l = board.create('line', [[()=>s.Value(),1], [()=>s.Value(),0]], {dash: 3});\nboard.create('text', [100,2,function(){return 'sin ' + s.Value() + '&#176;-1 = ' + (Math.sin(degToRad(s.Value()))-1).toFixed(4) + ' (4d.p.)'}]);\nboard.create('text', [-20,-0.15,'O'], {fixed: true})\nvar ptmax = [];\nvar ptmin = [];\nvar nmax = 0;\nvar nmin = 0;\nfor (var i=0; i<=360; i++){\n    if (Math.sin(degToRad(i)) == 1){\n        ptmax[nmax] = board.create('point', [i, 0], {name: '('+i+'&#176;,0)', fixed: true, visible: false, label:{offset:[5, 20]}});\n        nmax++;\n    }\n    if (Math.sin(degToRad(i)) == -1){\n        ptmin[nmin] = board.create('point', [i, -2],  {name: '('+i+'&#176;,-2)', fixed: true, visible: false, label:{offset:[5, -8]}});\n        nmin++;\n    }\n};\nvar lmx = board.create('line', [ptmax[0], [ptmax[0].X()+0.1,ptmax[0].Y()]], {dash: 2, visible: false});\nvar lmn = board.create('line', [ptmin[0], [ptmin[0].X()+0.1,ptmin[0].Y()]], {dash: 2, visible: false});\nvar lbnd = board.create('line', [[360, 0], [360, 1]], {dash: 1, strokeColor: '#aaaaaa', fixed: true});\n\nvar minMaxShown = false;\nshowMinMax = function(){\n    minMaxShown = !minMaxShown;\n    ptmax.forEach(o => o.setAttribute({visible: minMaxShown}));\n    ptmin.forEach(o => o.setAttribute({visible: minMaxShown}));\n    lmx.setAttribute({visible: minMaxShown});\n    lmn.setAttribute({visible: minMaxShown});\n};\n\nboard.create('text', [100,-3, '<input type=\"checkbox\" id=\"showMinMax\" onChange=\"showMinMax()\" />  Show min/max'], {fixed: true});",
      "metadata": {
        "trusted": true
      },
      "execution_count": 9,
      "outputs": [
        {
          "output_type": "display_data",
          "data": {
            "application/vnd.jupyter.widget-view+json": {
              "model_id": "4749a6348dc245699085f574a7af8b4d",
              "version_major": 2,
              "version_minor": 0
            },
            "text/plain": "JSWidget(value=None, height=600, html='<!DOCTYPE html>\\n<html>\\n    <head>\\n    <style>\\n    html, body {\\n   …"
          },
          "metadata": {}
        }
      ],
      "id": "9e9970d4-96e5-42da-807d-5a1a77eae0e5"
    },
    {
      "cell_type": "markdown",
      "source": "**Example**\n\nConsider the following function:\n\n$$f(x)=\\frac{1}{\\cos x+2},$$\n\nFind the maximum and minumum values of $f(x)$ and find $x$ given $0^{\\circ}\\leq x\\leq360^{\\circ}$.",
      "metadata": {},
      "id": "c5cbb3da-21e3-4069-b344-b6ae22091304"
    },
    {
      "cell_type": "markdown",
      "source": "```{admonition} Solution\n\nSimilarly, we first think about what $f(x)$ can be. From what we learnt above, we know that $-1\\leq\\cos x\\leq1$, i.e. the value of $\\cos x$ can be anything between $-1$ and $1$, the min/max value of $f(x)$ can be the min/max value of $\\cos x$. However, unlike Ex. 1, $f(x)$ is a rational function ($f(x)=\\frac{g(x)}{h(x)}$), and to maximise $f(x)$, we need to **minimise** the denominator ($\\cos x+2$). Similarly, to minimise $f(x)$, we need to **maximise** the denominator. \n\nTherefore, \n\n$$\n\\max \\text{ of } f(x)= \\frac{1}{(-1)+2}\n=1\n$$\n\nwhen $x=180^{\\circ}$ \nand\n\n$$\\min \\text{ of } f(x)= \\frac{1}{(1)+2}=\\frac{1}{3}$$\n\nwhen $x=0^{\\circ}$ or $360^{\\circ}$.\n```\n\n```{note}\nIt may be possible for there to be multiple values of $x$ that satisfies the solution! Always remember to check the range of $x$ given by the question and see whether there are multiple answers!\n```\n\n\nLet's validate the result graphically:",
      "metadata": {},
      "id": "a33810c1-7ece-4519-b01e-ec14a1cb38d3"
    },
    {
      "cell_type": "code",
      "source": "%%jsxgraph\nJXG.Options.text.useMathJax = true;\nfunction degToRad(degrees) {\n  var pi = Math.PI;\n  return degrees * (pi/180);\n}\n\nvar board = JXG.JSXGraph.initBoard('box', {boundingbox: [-100, 4, 900, -4], axis: true, grid: true, showCopyright: false});\nvar s = board.create('slider', [[100,3], [500,3], [0,0,900]], {name: 'x', snapWidth: 10});\nvar graph = board.create('functiongraph', [function(x){return (1/(Math.cos(degToRad(x))+2))}, 0, ()=>s.Value()]);\nvar pt = board.create('point', [()=>s.Value(), ()=>(1/(Math.cos(degToRad(s.Value()))+2))], {name: ()=>'('+s.Value()+','+(1/(Math.cos(degToRad(s.Value()))+2)).toFixed(2)+')'});\nvar l = board.create('line', [[()=>s.Value(),1], [()=>s.Value(),0]], {dash: 3});\nboard.create('text', [100,2,function(){return '1/(cos ' + s.Value() + '&#176;+2) = ' + (1/(Math.cos(degToRad(s.Value()))+2)).toFixed(4) + ' (4d.p.)'}]);\nboard.create('text', [-20,-0.15,'O'], {fixed: true})\nvar ptmax = [];\nvar ptmin = [];\nvar nmax = 0;\nvar nmin = 0;\nfor (var i=0; i<=360; i++){\n    if (Math.cos(degToRad(i)) == 1){\n        ptmax[nmax] = board.create('point', [i, 1/3], {name: '('+i+'&#176;,1/3)', fixed: true, visible: false, label:{offset:[5, -5]}});\n        nmax++;\n    }\n    if (Math.cos(degToRad(i)) == -1){\n        ptmin[nmin] = board.create('point', [i, 1],  {name: '('+i+'&#176;,1)', fixed: true, visible: false, label:{offset:[5, 20]}});\n        nmin++;\n    }\n};\nvar lmx = board.create('line', [ptmax[0], [ptmax[0].X()+0.1,ptmax[0].Y()]], {dash: 2, visible: false});\nvar lmn = board.create('line', [ptmin[0], [ptmin[0].X()+0.1,ptmin[0].Y()]], {dash: 2, visible: false});\nvar lbnd = board.create('line', [[360, 0], [360, 1]], {dash: 1, strokeColor: '#aaaaaa', fixed: true});\n\nvar minMaxShown = false;\nshowMinMax = function(){\n    minMaxShown = !minMaxShown;\n    ptmax.forEach(o => o.setAttribute({visible: minMaxShown}));\n    ptmin.forEach(o => o.setAttribute({visible: minMaxShown}));\n    lmx.setAttribute({visible: minMaxShown});\n    lmn.setAttribute({visible: minMaxShown});\n};\n\nboard.create('text', [100,-3, '<input type=\"checkbox\" id=\"showMinMax\" onChange=\"showMinMax()\" />  Show min/max'], {fixed: true});",
      "metadata": {
        "trusted": true
      },
      "execution_count": 10,
      "outputs": [
        {
          "output_type": "display_data",
          "data": {
            "application/vnd.jupyter.widget-view+json": {
              "model_id": "3c0e61a3dd7b4d53bf9abb1e71392d44",
              "version_major": 2,
              "version_minor": 0
            },
            "text/plain": "JSWidget(value=None, height=600, html='<!DOCTYPE html>\\n<html>\\n    <head>\\n    <style>\\n    html, body {\\n   …"
          },
          "metadata": {}
        }
      ],
      "id": "e0e2a22c-1b3d-4c9f-a7ad-82bf822d900f"
    },
    {
      "cell_type": "markdown",
      "source": "Now, it is your turn to complete the following exercise.",
      "metadata": {},
      "id": "5cf9b3b3-e249-43f8-955e-a365c9adf9e7"
    },
    {
      "cell_type": "markdown",
      "source": "**Exercise**\n\nConsider the following function:\n\n$$f(x)=(2\\sin x-1)^2,$$\n\nFind the maximum and minumum values of $f(x)$ and find $x$ given $0^{\\circ}\\leq x\\leq360^{\\circ}$.",
      "metadata": {},
      "id": "2e4c0365-dd5c-474f-99a2-b9d45da52b56"
    },
    {
      "cell_type": "markdown",
      "source": "YOUR ANSWER HERE",
      "metadata": {
        "deletable": false,
        "nbgrader": {
          "cell_type": "markdown",
          "checksum": "916f1693024d3b9864680cccb92f8d5f",
          "grade": true,
          "grade_id": "p5",
          "locked": false,
          "points": 1,
          "schema_version": 3,
          "solution": true,
          "task": false
        },
        "tags": []
      },
      "id": "facb7c96-4a6f-430c-a6a4-8c53b1d1d8e4"
    },
    {
      "cell_type": "markdown",
      "source": "Validate your solution graphically:",
      "metadata": {},
      "id": "c33e9386-607d-4347-9b9f-f9b789b30d52"
    },
    {
      "cell_type": "code",
      "source": "%%jsxgraph\nJXG.Options.text.useMathJax = true;\nfunction degToRad(degrees) {\n  var pi = Math.PI;\n  return degrees * (pi/180);\n}\nvar board = JXG.JSXGraph.initBoard('box', {boundingbox: [-100, 12, 900, -4], axis: true, grid: true, showCopyright: false});\nvar s = board.create('slider', [[100,11], [500,11], [0,0,900]], {name: 'x', snapWidth: 10});\nvar graph = board.create('functiongraph', [function(x){return ((2*Math.sin(degToRad(x))-1)**2)}, 0, ()=>s.Value()]);\nvar pt = board.create('point', [()=>s.Value(), ()=>((2*Math.sin(degToRad(s.Value()))-1)**2)], {name: ()=>'('+s.Value()+','+((2*Math.sin(degToRad(s.Value()))-1)**2).toFixed(2)+')'});\nvar l = board.create('line', [[()=>s.Value(),1], [()=>s.Value(),0]], {dash: 3});\nboard.create('text', [100,10,function(){return '(2sin ' + s.Value() + '&#176;-1)^2 = ' + ((2*Math.sin(degToRad(s.Value()))-1)**2).toFixed(4) + ' (4d.p.)'}]);\nboard.create('text', [-20,-0.15,'O'], {fixed: true})\nvar ptmax = [];\nvar ptmin = [];\nvar nmax = 0;\nvar nmin = 0;\nfor (var i=0; i<=360; i++){\n    if (Math.sin(degToRad(i)) == -1){\n        ptmax[nmax] = board.create('point', [i, 9], {name: '('+i+'&#176;,9)', fixed: true, visible: false, label:{offset:[5, 20]}});\n        nmax++;\n    }\n    if (Math.abs(Math.sin(degToRad(i))-0.5) < Number.EPSILON){\n        ptmin[nmin] = board.create('point', [i, 0],  {name: '('+i+'&#176;,0)', fixed: true, visible: false, label:{offset:[5, -13]}});\n        nmin++;\n    }\n};\nvar lmx = board.create('line', [ptmax[0], [ptmax[0].X()+0.1,ptmax[0].Y()]], {dash: 2, visible: false});\nvar lmn = board.create('line', [ptmin[0], [ptmin[0].X()+0.1,ptmin[0].Y()]], {dash: 2, visible: false});\nvar lbnd = board.create('line', [[360, 0], [360, 1]], {dash: 1, strokeColor: '#aaaaaa', fixed: true});\n\nvar minMaxShown = false;\nshowMinMax = function(){\n    minMaxShown = !minMaxShown;\n    ptmax.forEach(o => o.setAttribute({visible: minMaxShown}));\n    ptmin.forEach(o => o.setAttribute({visible: minMaxShown}));\n    lmx.setAttribute({visible: minMaxShown});\n    lmn.setAttribute({visible: minMaxShown});\n};\n\nboard.create('text', [100,-2, '<input type=\"checkbox\" id=\"showMinMax\" onChange=\"showMinMax()\" />  Show min/max'], {fixed: true});",
      "metadata": {
        "trusted": true
      },
      "execution_count": 11,
      "outputs": [
        {
          "output_type": "display_data",
          "data": {
            "application/vnd.jupyter.widget-view+json": {
              "model_id": "d38b00097d5247b2a74b96057e336ff0",
              "version_major": 2,
              "version_minor": 0
            },
            "text/plain": "JSWidget(value=None, height=600, html='<!DOCTYPE html>\\n<html>\\n    <head>\\n    <style>\\n    html, body {\\n   …"
          },
          "metadata": {}
        }
      ],
      "id": "b5a63d34-89ce-4062-9749-24f421a3f67b"
    },
    {
      "cell_type": "markdown",
      "source": "```{hint}\nIt may be possible that in order to find the min/max value of $f(x)$ we don't use the min/max value of $\\sin x$ or $\\cos x$ ($1$ or $-1$). Be smart and think about how different values would affect the values of the polynomial itself!\n```",
      "metadata": {},
      "id": "760c34ba-e4dc-4a58-910c-762f72c1dbc2"
    }
  ]
}