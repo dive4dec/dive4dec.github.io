{
  "metadata": {
    "kernelspec": {
      "name": "xeus-python",
      "display_name": "Python (XPython)",
      "language": "python"
    },
    "language_info": {
      "file_extension": ".py",
      "mimetype": "text/x-python",
      "name": "python",
      "version": "3.10.2"
    },
    "widgets": {
      "application/vnd.jupyter.widget-state+json": {
        "version_major": 2,
        "version_minor": 0,
        "state": {
          "8db6480fd8c741099daf5803e780b58d": {
            "model_name": "LayoutModel",
            "model_module": "@jupyter-widgets/base",
            "model_module_version": "1.2.0",
            "state": {}
          },
          "2f64e58ffb5d4ecb8a2e0046cc56e0a6": {
            "model_name": "JSWidgetModel",
            "model_module": "jupyter-divewidgets",
            "model_module_version": "^0.1.5",
            "state": {
              "_model_module_version": "^0.1.5",
              "_view_module_version": "^0.1.5",
              "height": 300,
              "html": "<!DOCTYPE html>\n<html>\n    <head>\n    <style>\n    html, body {\n        height: 100%;\n    }\n    body {\n        width: 100%;\n        display: flex;\n        padding: 0;\n        margin: 0;\n    }\n    .jxgbox {\n        width:100%; \n        flex-grow: 1;\n    }\n    </style>\n    <link rel=\"stylesheet\" type=\"text/css\" href=\"https://jsxgraph.org/distrib/jsxgraph.css\" />\n    <script type=\"text/javascript\" src=\"https://cdn.jsdelivr.net/npm/jsxgraph/distrib/jsxgraphcore.js\"></script>\n    <script type=\"text/javascript\" src=\"https://cdn.jsdelivr.net/npm/mathjax@3/es5/tex-chtml.js\"></script>\n    </head>\n<body>\n<div id=\"jxgbox\" class=\"jxgbox\"></div>\n</body>\n</html>",
              "js": "//board\nvar brd = JXG.JSXGraph.initBoard('jxgbox', {boundingbox: [-4, 2, 4, -2], axis: false, showCopyright:false});\nvar x1 = brd.create('slider', [[0.5, -1], [3.5,-1], [1, 5, 10]], {name:'x1', snapWidth: 1});\nvar x2 = brd.create('slider', [[0.5, -1.5], [3.5,-1.5], [1, 5, 10]], {name:'x2', snapWidth: 1});\n\nvar butt = brd.create('button', [-3, -1, 'show', function() {\n  var txt;\n  butt.value = !butt.value;\n  if (butt.value) {\n  \ttxt = 'hide';\n  } else {\n  \ttxt = 'show';\n  }\n\tbutt.rendNodeButton.innerHTML = txt;\n}]);\n\n// Set initial value for the button\nif (!JXG.exists(butt.value)) {\n\tbutt.value = false;\n}\n\nvar text2 = brd.create('text',[-2,0,function(){return '\\ (x-'+x1.Value()+')(x-'+x2.Value()+') =\\ ';}],{fontsize:30});\nvar text1 = brd.create('text',[0.5,0,function(){return '\\ x^2-'+(x1.Value()+x2.Value())+'x+'+(x1.Value()*x2.Value())+'\\ '}],{fontsize: 30, visible: () => butt.value});",
              "layout": "IPY_MODEL_8db6480fd8c741099daf5803e780b58d"
            }
          },
          "c449e8e5b13e40d4acf76aa21fcbcc85": {
            "model_name": "LayoutModel",
            "model_module": "@jupyter-widgets/base",
            "model_module_version": "1.2.0",
            "state": {}
          },
          "81c8a9581a6b456fbbfe107c0f32bf9e": {
            "model_name": "JSWidgetModel",
            "model_module": "jupyter-divewidgets",
            "model_module_version": "^0.1.5",
            "state": {
              "_model_module_version": "^0.1.5",
              "_view_module_version": "^0.1.5",
              "height": 300,
              "html": "<!DOCTYPE html>\n<html>\n    <head>\n    <style>\n    html, body {\n        height: 100%;\n    }\n    body {\n        width: 100%;\n        display: flex;\n        padding: 0;\n        margin: 0;\n    }\n    .jxgbox {\n        width:100%; \n        flex-grow: 1;\n    }\n    </style>\n    <link rel=\"stylesheet\" type=\"text/css\" href=\"https://jsxgraph.org/distrib/jsxgraph.css\" />\n    <script type=\"text/javascript\" src=\"https://cdn.jsdelivr.net/npm/jsxgraph/distrib/jsxgraphcore.js\"></script>\n    <script type=\"text/javascript\" src=\"https://cdn.jsdelivr.net/npm/mathjax@3/es5/tex-chtml.js\"></script>\n    </head>\n<body>\n<div id=\"jxgbox\" class=\"jxgbox\"></div>\n</body>\n</html>",
              "js": "var brd = JXG.JSXGraph.initBoard('jxgbox', {boundingbox: [-4, 2, 4, -2], axis: false, showCopyright:false});\n\nfunction rdm(){\n    return (Math.floor(Math.random() * 10)+1) * Math.pow(-1, Math.floor(Math.random()*2));\n};\n\nvar r1 = rdm();\nvar r2 = rdm();\nvar b;\nfunction ctb(){\n  b = 0;\n  while (b==0){\n      r1 = rdm();\n      r2 = rdm();\n      b = r1+r2;\n  }\n}\n\nfunction sign(a){\n    if (a<0){\n        return '';\n    }\n    else{\n        return '+';\n    }\n};\n\nctb();\nvar c=r1*r2;\n\nvar refresh = brd.create('button',[-2,-1,'try again',function(){\n    ctb();\n    c = r1*r2;\n    txt = 'show';\n    butt.rendNodeButton.innerHTML = txt;\n    butt.value = false;\n}])\n\nvar butt = brd.create('button', [-3, -1, 'show', function() {\n  var txt;\n  butt.value = !butt.value;\n  if (butt.value) {\n  \ttxt = 'hide';\n  } else {\n  \ttxt = 'show';\n  }\n\tbutt.rendNodeButton.innerHTML = txt;\n}]);\n\n// Set initial value for the button\nif (!JXG.exists(butt.value)) {\n\tbutt.value = false;\n}\n\nvar text1 = brd.create('text',[-2,0,function(){return '\\ x^2'+sign(b)+b+'x'+sign(c)+c+' =\\ '}],{fontsize: 30});\nvar text2 = brd.create('text',[0.6,0,function(){return '\\ (x'+sign(r1)+r1+')(x'+sign(r2)+r2+')\\ ';}],{fontsize:30, visible:()=>butt.value});",
              "layout": "IPY_MODEL_c449e8e5b13e40d4acf76aa21fcbcc85"
            }
          },
          "60b778d88b94420e9bd1cbd94f00b2cd": {
            "model_name": "LayoutModel",
            "model_module": "@jupyter-widgets/base",
            "model_module_version": "1.2.0",
            "state": {}
          },
          "283982072acd41c5bf3a68d74cc29ad6": {
            "model_name": "JSWidgetModel",
            "model_module": "jupyter-divewidgets",
            "model_module_version": "^0.1.5",
            "state": {
              "_model_module_version": "^0.1.5",
              "_view_module_version": "^0.1.5",
              "height": 300,
              "html": "<!DOCTYPE html>\n<html>\n    <head>\n    <style>\n    html, body {\n        height: 100%;\n    }\n    body {\n        width: 100%;\n        display: flex;\n        padding: 0;\n        margin: 0;\n    }\n    .jxgbox {\n        width:100%; \n        flex-grow: 1;\n    }\n    </style>\n    <link rel=\"stylesheet\" type=\"text/css\" href=\"https://jsxgraph.org/distrib/jsxgraph.css\" />\n    <script type=\"text/javascript\" src=\"https://cdn.jsdelivr.net/npm/jsxgraph/distrib/jsxgraphcore.js\"></script>\n    <script type=\"text/javascript\" src=\"https://cdn.jsdelivr.net/npm/mathjax@3/es5/tex-chtml.js\"></script>\n    </head>\n<body>\n<div id=\"jxgbox\" class=\"jxgbox\"></div>\n</body>\n</html>",
              "js": "var brd = JXG.JSXGraph.initBoard('jxgbox', {boundingbox: [-4, 2, 4, -2], axis: false, showCopyright:false});\n\nfunction rdm(){\n    return (Math.floor(Math.random() * 10)+1) * Math.pow(-1, Math.floor(Math.random()*2));\n};\n\nvar r1 = rdm();\nvar r2 = rdm();\nvar a = rdm();\nvar b;\nfunction ctb(){\n  b = 0;\n  while (b==0){\n      r1 = rdm();\n      r2 = rdm();\n      b = a*(r1+r2);\n  }\n}\n\nfunction sign(a){\n    if (a<0){\n        return '';\n    }\n    else{\n        return '+';\n    }\n};\n\nctb();\nvar c=a*r1*r2;\n\nvar refresh = brd.create('button',[-2,-1.8,'try again',function(){\n    a = rdm();\n    ctb();\n    c = a*r1*r2\n    txt = 'show';\n    butt.rendNodeButton.innerHTML = txt;\n    butt.value = false;\n}])\n\nvar butt = brd.create('button', [-3, -1.8, 'show', function() {\n  var txt;\n  butt.value = !butt.value;\n  if (butt.value) {\n  \ttxt = 'hide';\n  } else {\n  \ttxt = 'show';\n  }\n\tbutt.rendNodeButton.innerHTML = txt;\n}]);\n\n// Set initial value for the button\nif (!JXG.exists(butt.value)) {\n\tbutt.value = false;\n}\n\nvar text1 = brd.create('text',[-1.3,0.5,function(){return '\\ '+a+'x^2'+sign(b)+b+'x'+sign(c)+c+'=0\\ '}],{fontsize: 30});\nvar text2 = brd.create('text',[-1.3,-0.2,function(){return '\\ Roots are '+(-r1)+', '+(-r2)+'\\ ';}],{fontsize:25, visible:()=>butt.value});",
              "layout": "IPY_MODEL_60b778d88b94420e9bd1cbd94f00b2cd"
            }
          },
          "88b783c940e94bedb838f2808960a6e2": {
            "model_name": "LayoutModel",
            "model_module": "@jupyter-widgets/base",
            "model_module_version": "1.2.0",
            "state": {}
          },
          "4144e1f5bc434b119481f4cf9a7f6a6a": {
            "model_name": "JSWidgetModel",
            "model_module": "jupyter-divewidgets",
            "model_module_version": "^0.1.5",
            "state": {
              "_model_module_version": "^0.1.5",
              "_view_module_version": "^0.1.5",
              "height": 500,
              "html": "<!DOCTYPE html>\n<html>\n    <head>\n    <style>\n    html, body {\n        height: 100%;\n    }\n    body {\n        width: 100%;\n        display: flex;\n        padding: 0;\n        margin: 0;\n    }\n    .jxgbox {\n        width:100%; \n        flex-grow: 1;\n    }\n    </style>\n    <link rel=\"stylesheet\" type=\"text/css\" href=\"https://jsxgraph.org/distrib/jsxgraph.css\" />\n    <script type=\"text/javascript\" src=\"https://cdn.jsdelivr.net/npm/jsxgraph/distrib/jsxgraphcore.js\"></script>\n    <script type=\"text/javascript\" src=\"https://cdn.jsdelivr.net/npm/mathjax@3/es5/tex-chtml.js\"></script>\n    </head>\n<body>\n<div id=\"jxgbox\" class=\"jxgbox\"></div>\n</body>\n</html>",
              "js": "var brd = JXG.JSXGraph.initBoard('jxgbox', {boundingbox: [-8, 8, 8, -8], axis:true,  showCopyright:false});\nvar p1 = brd.create('point',[-5,0]);\nvar p2 = brd.create('point', [-4,0]);\nvar p3 = brd.create('point', [-3,0]);\nvar p4 = brd.create('point', [-2,0]);\nvar p5 = brd.create('point', [-1,0]);\n\nvar graph = brd.create('functiongraph',[(x)=> {return x*x+2*x-3;}, -10, 10],{visible: false});\n\nvar butt = brd.create('button',[-5,-5,'finish',function(){\n    graph.showElement();\n}])",
              "layout": "IPY_MODEL_88b783c940e94bedb838f2808960a6e2"
            }
          },
          "b931c30ec0d94e16b7c6c0e464306eae": {
            "model_name": "LayoutModel",
            "model_module": "@jupyter-widgets/base",
            "model_module_version": "1.2.0",
            "state": {}
          },
          "8eca8801d4314ae7830be6eb749942d4": {
            "model_name": "JSWidgetModel",
            "model_module": "jupyter-divewidgets",
            "model_module_version": "^0.1.5",
            "state": {
              "_model_module_version": "^0.1.5",
              "_view_module_version": "^0.1.5",
              "height": 500,
              "html": "<!DOCTYPE html>\n<html>\n    <head>\n    <style>\n    html, body {\n        height: 100%;\n    }\n    body {\n        width: 100%;\n        display: flex;\n        padding: 0;\n        margin: 0;\n    }\n    .jxgbox {\n        width:100%; \n        flex-grow: 1;\n    }\n    </style>\n    <link rel=\"stylesheet\" type=\"text/css\" href=\"https://jsxgraph.org/distrib/jsxgraph.css\" />\n    <script type=\"text/javascript\" src=\"https://cdn.jsdelivr.net/npm/jsxgraph/distrib/jsxgraphcore.js\"></script>\n    <script type=\"text/javascript\" src=\"https://www.cs.cityu.edu.hk/~ccha23/js/load-mathjax.js\"></script>\n    </head>\n<body>\n<div id=\"jxgbox\" class=\"jxgbox\"></div>\n</body>\n</html>",
              "js": "JXG.Options.text.useMathJax = true;\nvar brd = JXG.JSXGraph.initBoard('jxgbox', {boundingbox: [-8, 8, 8, -8], axis:true,  showCopyright:false});\nvar a = brd.create('slider', [[3, -3], [6,-3], [-3, 1, 3]], {name:'a', snapWidth: 0.1});\nvar b = brd.create('slider', [[3, -4], [6,-4], [-3, 0, 3]], {name:'b', snapWidth: 0.1});\nvar c = brd.create('slider', [[3, -5], [6,-5], [-3, 0, 3]], {name:'c', snapWidth: 0.1});\nvar graph1 = brd.create('functiongraph', [function(x){return a.Value()*x*x + b.Value()*x + c.Value();}, -10, 10]);\nvar text1 = brd.create('text',[-6,2,function(){return '\\\\[y=ax^2+bx+c\\\\]';}],{fontsize:20});",
              "layout": "IPY_MODEL_b931c30ec0d94e16b7c6c0e464306eae"
            }
          },
          "1047f876893f4f3db2b82149eedd55ca": {
            "model_name": "LayoutModel",
            "model_module": "@jupyter-widgets/base",
            "model_module_version": "1.2.0",
            "state": {}
          },
          "8a6e28d2b14f48dd9a5e179e69755031": {
            "model_name": "JSWidgetModel",
            "model_module": "jupyter-divewidgets",
            "model_module_version": "^0.1.5",
            "state": {
              "_model_module_version": "^0.1.5",
              "_view_module_version": "^0.1.5",
              "height": 500,
              "html": "<!DOCTYPE html>\n<html>\n    <head>\n    <style>\n    html, body {\n        height: 100%;\n    }\n    body {\n        width: 100%;\n        display: flex;\n        padding: 0;\n        margin: 0;\n    }\n    .jxgbox {\n        width:100%; \n        flex-grow: 1;\n    }\n    </style>\n    <link rel=\"stylesheet\" type=\"text/css\" href=\"https://jsxgraph.org/distrib/jsxgraph.css\" />\n    <script type=\"text/javascript\" src=\"https://cdn.jsdelivr.net/npm/jsxgraph/distrib/jsxgraphcore.js\"></script>\n    <script type=\"text/javascript\" src=\"https://cdn.jsdelivr.net/npm/mathjax@3/es5/tex-chtml.js\"></script>\n    </head>\n<body>\n<div id=\"jxgbox\" class=\"jxgbox\"></div>\n</body>\n</html>",
              "js": "var brd = JXG.JSXGraph.initBoard('jxgbox', {boundingbox: [-10, 10, 10, -10], axis: true, showCopyright:false});\n\nfunction rdm(){\n    return (Math.floor(Math.random() * 3)+1) * Math.pow(-1, Math.floor(Math.random()*2));\n};\n\nvar r1 = rdm();\nvar r2 = rdm();\nvar a = rdm();\nvar b;\nfunction ctb(){\n  b = 0;\n  while (b==0){\n      r1 = rdm();\n      r2 = rdm();\n      b = a*(r1+r2);\n  }\n}\n\nfunction sign(a){\n    if (a<0){\n        return '';\n    }\n    else{\n        return '+';\n    }\n};\n\nctb();\nvar c=a*r1*r2;\n\nvar refresh = brd.create('button',[-8,-8,'try again',function(){\n    a = rdm();\n    ctb();\n    c = a*r1*r2\n    txt = 'show';\n    butt.rendNodeButton.innerHTML = txt;\n    butt.value = false;\n}])\n\nvar butt = brd.create('button', [-5, -8, 'show', function() {\n  var txt;\n  butt.value = !butt.value;\n  if (butt.value) {\n  \ttxt = 'hide';\n  } else {\n  \ttxt = 'show';\n  }\n\tbutt.rendNodeButton.innerHTML = txt;\n}]);\n\n// Set initial value for the button\nif (!JXG.exists(butt.value)) {\n\tbutt.value = false;\n}\n\nvar graph = brd.create('functiongraph',[function(x){return a*x*x+b*x+c},-10, 10])\nvar line1 = brd.create('line',[[-10,0],[10,0]], {visible: false});\nvar inter1 = brd.create('intersection',[graph, line1, 0],{name:\"\\ x_1\\ \", visible:()=>butt.value});\nvar inter2 = brd.create('intersection',[graph, line1, 1],{name:\"\\ x_2\\ \", visible:()=>butt.value});\n\nvar text = brd.create('text',[-7,6,function(){return '\\ y='+a+'x^2'+sign(b)+b+'x'+sign(c)+c+'\\ '}],{fontsize: 20})",
              "layout": "IPY_MODEL_1047f876893f4f3db2b82149eedd55ca"
            }
          },
          "4a6cba58cf2949d098615f002168b653": {
            "model_name": "LayoutModel",
            "model_module": "@jupyter-widgets/base",
            "model_module_version": "1.2.0",
            "state": {}
          },
          "947e2a1f03d740559cf7966e77917444": {
            "model_name": "JSWidgetModel",
            "model_module": "jupyter-divewidgets",
            "model_module_version": "^0.1.5",
            "state": {
              "_model_module_version": "^0.1.5",
              "_view_module_version": "^0.1.5",
              "height": 500,
              "html": "<!DOCTYPE html>\n<html>\n    <head>\n    <style>\n    html, body {\n        height: 100%;\n    }\n    body {\n        width: 100%;\n        display: flex;\n        padding: 0;\n        margin: 0;\n    }\n    .jxgbox {\n        width:100%; \n        flex-grow: 1;\n    }\n    </style>\n    <link rel=\"stylesheet\" type=\"text/css\" href=\"https://jsxgraph.org/distrib/jsxgraph.css\" />\n    <script type=\"text/javascript\" src=\"https://cdn.jsdelivr.net/npm/jsxgraph/distrib/jsxgraphcore.js\"></script>\n    <script type=\"text/javascript\" src=\"https://www.cs.cityu.edu.hk/~ccha23/js/load-mathjax.js\"></script>\n    </head>\n<body>\n<div id=\"jxgbox\" class=\"jxgbox\"></div>\n</body>\n</html>",
              "js": "JXG.Options.text.useMathJax = true;\nvar brd = JXG.JSXGraph.initBoard('jxgbox', {boundingbox: [-8, 8, 8, -8], axis:true,  showCopyright:false});\nvar graph1 = brd.create('functiongraph', [function(x){return x*x + 5*x + 3;}, -10, 10]);",
              "layout": "IPY_MODEL_4a6cba58cf2949d098615f002168b653"
            }
          },
          "88dd4bafe5e74c7196eb5d41db602296": {
            "model_name": "LayoutModel",
            "model_module": "@jupyter-widgets/base",
            "model_module_version": "1.2.0",
            "state": {}
          },
          "81413748d5014aab94f1621849d54db1": {
            "model_name": "JSWidgetModel",
            "model_module": "jupyter-divewidgets",
            "model_module_version": "^0.1.5",
            "state": {
              "_model_module_version": "^0.1.5",
              "_view_module_version": "^0.1.5",
              "height": 500,
              "html": "<!DOCTYPE html>\n<html>\n    <head>\n    <style>\n    html, body {\n        height: 100%;\n    }\n    body {\n        width: 100%;\n        display: flex;\n        padding: 0;\n        margin: 0;\n    }\n    .jxgbox {\n        width:100%; \n        flex-grow: 1;\n    }\n    </style>\n    <link rel=\"stylesheet\" type=\"text/css\" href=\"https://jsxgraph.org/distrib/jsxgraph.css\" />\n    <script type=\"text/javascript\" src=\"https://cdn.jsdelivr.net/npm/jsxgraph/distrib/jsxgraphcore.js\"></script>\n    <script type=\"text/javascript\" src=\"https://www.cs.cityu.edu.hk/~ccha23/js/load-mathjax.js\"></script>\n    </head>\n<body>\n<div id=\"jxgbox\" class=\"jxgbox\"></div>\n</body>\n</html>",
              "js": "JXG.Options.text.useMathJax = true;\nvar brd = JXG.JSXGraph.initBoard('jxgbox', {boundingbox: [-8, 8, 8, -8], axis:true,  showCopyright:false});\nvar a = brd.create('slider', [[3, -3], [6,-3], [-5, 1, 5]], {name:'a', snapWidth: 0.1});\nvar m = brd.create('slider', [[3, -4], [6,-4], [-5, 0, 5]], {name:'m', snapWidth: 0.1});\nvar d = brd.create('slider', [[3, -5], [6,-5], [-5, 0, 5]], {name:'d', snapWidth: 0.1});\nvar line1 = brd.create('line',[[function(){return m.Value()},-10],[function(){return m.Value()},10]], {dash: 2,strokeColor:'green'} );\n\n\nvar graph1 = brd.create('functiongraph', [function(x){return a.Value()*Math.pow(x-m.Value(), 2)+d.Value();}, -10, 10]);\nvar inte_m = brd.create('intersection',[graph1, line1, 0],{\n    name: function(){return (a.Value() > 0) ? 'min' : 'max'}\n    });\nvar line2 = brd.create('line',[[-5,0],[5,0]], {visible: false});\nvar inter1 = brd.create('intersection',[graph1, line2, 0],{name:'\\\\[x_1\\\\]'});\nvar inter2 = brd.create('intersection',[graph1, line2, 1],{name:\"\\\\[x_2\\\\]\"});\n\nvar text = brd.create('text',[-7,6,function(){return '\\\\[y=a(x-m)^2+d\\\\]'}], {fontsize:15})",
              "layout": "IPY_MODEL_88dd4bafe5e74c7196eb5d41db602296"
            }
          },
          "9c31347c3b2e4b5f81a08831697cd1bb": {
            "model_name": "LayoutModel",
            "model_module": "@jupyter-widgets/base",
            "model_module_version": "1.2.0",
            "state": {}
          },
          "06df29e9244e4b399ddb85879e49a4af": {
            "model_name": "JSWidgetModel",
            "model_module": "jupyter-divewidgets",
            "model_module_version": "^0.1.5",
            "state": {
              "_model_module_version": "^0.1.5",
              "_view_module_version": "^0.1.5",
              "height": 500,
              "html": "<!DOCTYPE html>\n<html>\n    <head>\n    <style>\n    html, body {\n        height: 100%;\n    }\n    body {\n        width: 100%;\n        display: flex;\n        padding: 0;\n        margin: 0;\n    }\n    .jxgbox {\n        width:100%; \n        flex-grow: 1;\n    }\n    </style>\n    <link rel=\"stylesheet\" type=\"text/css\" href=\"https://jsxgraph.org/distrib/jsxgraph.css\" />\n    <script type=\"text/javascript\" src=\"https://cdn.jsdelivr.net/npm/jsxgraph/distrib/jsxgraphcore.js\"></script>\n    <script type=\"text/javascript\" src=\"https://www.cs.cityu.edu.hk/~ccha23/js/load-mathjax.js\"></script>\n    </head>\n<body>\n<div id=\"jxgbox\" class=\"jxgbox\"></div>\n</body>\n</html>",
              "js": "JXG.Options.text.useMathJax = true;\nvar brd = JXG.JSXGraph.initBoard('jxgbox', {boundingbox: [-10, 10, 10, -10], axis:true,  showCopyright:false});\nvar a = brd.create('slider', [[3, -3], [6,-3], [-5, 1, 5]], {name:'a', snapWidth: 0.1});\nvar b = brd.create('slider', [[3, -4], [6,-4], [-5, 0, 5]], {name:'b', snapWidth: 0.1});\nvar c = brd.create('slider', [[3, -5], [6,-5], [-5, 0, 5]], {name:'c', snapWidth: 0.1});\nvar graph1 = brd.create('functiongraph', [function(x){return a.Value()*x*x + b.Value()*x + c.Value();}, -10, 10]);\nvar line1 = brd.create('line',[[-10,0],[10,0]], {visible: false});\nvar inter1 = brd.create('intersection',[graph1, line1, 0],{name:\"\\\\[x_1\\\\]\"});\nvar inter2 = brd.create('intersection',[graph1, line1, 1],{name:\"\\\\[x_2\\\\]\"});\n\n\nvar text1 = brd.create('text',[-8,-6,function(){return '\\\\[y=ax^2+bx+c\\\\]';}],{fontsize:15});\nvar text2 = brd.create('text',[3,-6,function(){return '\\\\[b^2-4ac='+(b.Value()*b.Value() - 4*a.Value()*c.Value()).toFixed(2)+'\\\\]'}],{fontsize:15})",
              "layout": "IPY_MODEL_9c31347c3b2e4b5f81a08831697cd1bb"
            }
          }
        }
      }
    }
  },
  "nbformat_minor": 5,
  "nbformat": 4,
  "cells": [
    {
      "cell_type": "markdown",
      "source": "# Quadratic Equation",
      "metadata": {},
      "id": "6dab6f6f-c0cc-42aa-8408-22156b992ae3"
    },
    {
      "cell_type": "markdown",
      "source": "**DIVE into Math**\n\n---",
      "metadata": {},
      "id": "9ff076db-c52f-4e8d-8b22-ff85612cc7c4"
    },
    {
      "cell_type": "markdown",
      "source": "Contributor(s): \n\n- Shanshan Wu  \n- Chao Zhao\n- Chung Chan\n\n---",
      "metadata": {},
      "id": "477bf231-0486-4a2f-9fad-ca146b4a54d3"
    },
    {
      "cell_type": "code",
      "source": "%reload_ext divewidgets",
      "metadata": {
        "trusted": true
      },
      "execution_count": 1,
      "outputs": [],
      "id": "d0a5da6a-cd9c-4a6b-9f11-a10a0f1092e2"
    },
    {
      "cell_type": "markdown",
      "source": "You've learnt how to slove linear equatiosn in one unknown before, and you may wonder the solution to the quadratic equations in one unknown. In this section, we will learn this knowledge step by step.",
      "metadata": {},
      "id": "48dba091-f028-4763-a00c-51d3b8e5cb68"
    },
    {
      "cell_type": "markdown",
      "source": "$$\n\\begin{alignat}{2}\n &&\\quad 2x-2 &= 0\\\\\n &\\implies \\quad & x &=1\\\\\n &\\implies \\quad & x^2+2x+1 &=0\\\\\n &\\implies \\quad & x &= ?\n\\end{alignat}\n$$",
      "metadata": {},
      "id": "b5720652-f07e-4a8b-95fc-121e5b4c883b"
    },
    {
      "cell_type": "markdown",
      "source": "## Solve equations by the factor method",
      "metadata": {},
      "id": "93bc84ca-dd4f-4338-ac64-8e6e4591236d"
    },
    {
      "cell_type": "markdown",
      "source": "First, we will learn factor method to solve this kind of questions.",
      "metadata": {},
      "id": "595bd2f6-b018-40ce-9360-6d601eeb6427"
    },
    {
      "cell_type": "markdown",
      "source": "**What is factor method?**",
      "metadata": {},
      "id": "ef7fbcda-bb05-44dc-8c84-e74b1a9d7ed2"
    },
    {
      "cell_type": "markdown",
      "source": "The factor method involves **extracting factors from an experiment** and then utilising them in the analytical process of factor analysis.\n\nYou may ask: What is *extracting factors from an experiment*? \nWell, compared to abstract definition, detailed procedure with examples can help you better understand this method.\n\n\nLet's take $x^2+2x-2=1$ as an example:\n\n1.   Transform the equation using standard form in which one side is zero.\n    $$x^2+2x-3=0$$\n    \n2.   Factor the non-zero side.\n    $$(x-1)(x+3)=0$$\n\n3.   Set each factor to zero (**Remember:** a product of factors is zero if and only if one or more of the factors is zero).\n    $$x-1=0 \\text{ or } x+3=0$$\n\n4.   Solve each resulting equation.\n    $$x=1 \\text{ or } x=-3$$\n\nThe solution set is $\\{1, -3\\}$",
      "metadata": {},
      "id": "86112a9f-2cc6-44c8-a7c8-e0e9f574e212"
    },
    {
      "cell_type": "markdown",
      "source": "**For general situation**, we first transform the equation using standard form in which one side is zero.\n\n$$ax^2+bx+c=0$$\n\nThen we have\n\n$$(x-d)(x-e)=0$$\n\nwhere\n\n$$d+e=-\\frac ba$$\n\n$$de=\\frac ca$$\n\nApparently, the solution set is $\\{d, e\\}$",
      "metadata": {},
      "id": "3d40d19d-d943-4c1d-b0d4-b8966a337daf"
    },
    {
      "cell_type": "markdown",
      "source": "Using this method, we can also easily form quadratic equations from given roots.\n\nTry to do it on your own. You can click <font color='blue'>show</font> to check the answer.",
      "metadata": {},
      "id": "ac9aee91-6acc-4ac6-bd04-b59cc96e0e15"
    },
    {
      "cell_type": "code",
      "source": "%%jsxgraph -i jxgbox -h 300 \n//board\nvar brd = JXG.JSXGraph.initBoard('jxgbox', {boundingbox: [-4, 2, 4, -2], axis: false, showCopyright:false});\nvar x1 = brd.create('slider', [[0.5, -1], [3.5,-1], [1, 5, 10]], {name:'x1', snapWidth: 1});\nvar x2 = brd.create('slider', [[0.5, -1.5], [3.5,-1.5], [1, 5, 10]], {name:'x2', snapWidth: 1});\n\nvar butt = brd.create('button', [-3, -1, 'show', function() {\n  var txt;\n  butt.value = !butt.value;\n  if (butt.value) {\n  \ttxt = 'hide';\n  } else {\n  \ttxt = 'show';\n  }\n\tbutt.rendNodeButton.innerHTML = txt;\n}]);\n\n// Set initial value for the button\nif (!JXG.exists(butt.value)) {\n\tbutt.value = false;\n}\n\nvar text2 = brd.create('text',[-2,0,function(){return '\\ (x-'+x1.Value()+')(x-'+x2.Value()+') =\\ ';}],{fontsize:30});\nvar text1 = brd.create('text',[0.5,0,function(){return '\\ x^2-'+(x1.Value()+x2.Value())+'x+'+(x1.Value()*x2.Value())+'\\ '}],{fontsize: 30, visible: () => butt.value});\n",
      "metadata": {
        "trusted": true
      },
      "execution_count": 2,
      "outputs": [
        {
          "output_type": "display_data",
          "data": {
            "application/vnd.jupyter.widget-view+json": {
              "model_id": "2f64e58ffb5d4ecb8a2e0046cc56e0a6",
              "version_major": 2,
              "version_minor": 0
            },
            "text/plain": "JSWidget(value=None, height=300, html='<!DOCTYPE html>\\n<html>\\n    <head>\\n    <style>\\n    html, body {\\n   …"
          },
          "metadata": {}
        }
      ],
      "id": "f2478acd-6699-45d3-a69d-7df5e76ed2d8"
    },
    {
      "cell_type": "markdown",
      "source": "If $x_1, x_2$ are given roots, we can form quadratic equation\n\n$$(x-x_1)(x-x_2)=0$$\n\n$$x^2-(x_1+x_2)x+x_1x_2=0$$",
      "metadata": {},
      "id": "0f8d0308-9184-4c60-8e2f-7951689b7dca"
    },
    {
      "cell_type": "markdown",
      "source": "Now, it's time to check if you have completely grasped the factor method. \n\nTry to find the roots of the following quadratic equations using factor method.\n\nYou can click <font color='blue'>show</font> to check the answer.",
      "metadata": {},
      "id": "dfc7663b-9a8e-4645-8f0f-74cbb4e0b702"
    },
    {
      "cell_type": "code",
      "source": "%%jsxgraph -i jxgbox -h 300 \nvar brd = JXG.JSXGraph.initBoard('jxgbox', {boundingbox: [-4, 2, 4, -2], axis: false, showCopyright:false});\n\nfunction rdm(){\n    return (Math.floor(Math.random() * 10)+1) * Math.pow(-1, Math.floor(Math.random()*2));\n};\n\nvar r1 = rdm();\nvar r2 = rdm();\nvar b;\nfunction ctb(){\n  b = 0;\n  while (b==0){\n      r1 = rdm();\n      r2 = rdm();\n      b = r1+r2;\n  }\n}\n\nfunction sign(a){\n    if (a<0){\n        return '';\n    }\n    else{\n        return '+';\n    }\n};\n\nctb();\nvar c=r1*r2;\n\nvar refresh = brd.create('button',[-2,-1,'try again',function(){\n    ctb();\n    c = r1*r2;\n    txt = 'show';\n    butt.rendNodeButton.innerHTML = txt;\n    butt.value = false;\n}])\n\nvar butt = brd.create('button', [-3, -1, 'show', function() {\n  var txt;\n  butt.value = !butt.value;\n  if (butt.value) {\n  \ttxt = 'hide';\n  } else {\n  \ttxt = 'show';\n  }\n\tbutt.rendNodeButton.innerHTML = txt;\n}]);\n\n// Set initial value for the button\nif (!JXG.exists(butt.value)) {\n\tbutt.value = false;\n}\n\nvar text1 = brd.create('text',[-2,0,function(){return '\\ x^2'+sign(b)+b+'x'+sign(c)+c+' =\\ '}],{fontsize: 30});\nvar text2 = brd.create('text',[0.6,0,function(){return '\\ (x'+sign(r1)+r1+')(x'+sign(r2)+r2+')\\ ';}],{fontsize:30, visible:()=>butt.value});",
      "metadata": {
        "tags": [],
        "trusted": true
      },
      "execution_count": 3,
      "outputs": [
        {
          "output_type": "display_data",
          "data": {
            "application/vnd.jupyter.widget-view+json": {
              "model_id": "81c8a9581a6b456fbbfe107c0f32bf9e",
              "version_major": 2,
              "version_minor": 0
            },
            "text/plain": "JSWidget(value=None, height=300, html='<!DOCTYPE html>\\n<html>\\n    <head>\\n    <style>\\n    html, body {\\n   …"
          },
          "metadata": {}
        }
      ],
      "id": "d9c1785c-1166-4a9d-8859-dfb264fe15c3"
    },
    {
      "cell_type": "markdown",
      "source": "Can you find the roots when $a\\neq1$? &nbsp;  Try the following exercise.\n\nYou can click <font color='blue'>show</font> to check the answer.",
      "metadata": {},
      "id": "a209831b-4b08-47f5-886c-d98583cb4f13"
    },
    {
      "cell_type": "code",
      "source": "%%jsxgraph -i jxgbox -h 300 \nvar brd = JXG.JSXGraph.initBoard('jxgbox', {boundingbox: [-4, 2, 4, -2], axis: false, showCopyright:false});\n\nfunction rdm(){\n    return (Math.floor(Math.random() * 10)+1) * Math.pow(-1, Math.floor(Math.random()*2));\n};\n\nvar r1 = rdm();\nvar r2 = rdm();\nvar a = rdm();\nvar b;\nfunction ctb(){\n  b = 0;\n  while (b==0){\n      r1 = rdm();\n      r2 = rdm();\n      b = a*(r1+r2);\n  }\n}\n\nfunction sign(a){\n    if (a<0){\n        return '';\n    }\n    else{\n        return '+';\n    }\n};\n\nctb();\nvar c=a*r1*r2;\n\nvar refresh = brd.create('button',[-2,-1.8,'try again',function(){\n    a = rdm();\n    ctb();\n    c = a*r1*r2\n    txt = 'show';\n    butt.rendNodeButton.innerHTML = txt;\n    butt.value = false;\n}])\n\nvar butt = brd.create('button', [-3, -1.8, 'show', function() {\n  var txt;\n  butt.value = !butt.value;\n  if (butt.value) {\n  \ttxt = 'hide';\n  } else {\n  \ttxt = 'show';\n  }\n\tbutt.rendNodeButton.innerHTML = txt;\n}]);\n\n// Set initial value for the button\nif (!JXG.exists(butt.value)) {\n\tbutt.value = false;\n}\n\nvar text1 = brd.create('text',[-1.3,0.5,function(){return '\\ '+a+'x^2'+sign(b)+b+'x'+sign(c)+c+'=0\\ '}],{fontsize: 30});\nvar text2 = brd.create('text',[-1.3,-0.2,function(){return '\\ Roots are '+(-r1)+', '+(-r2)+'\\ ';}],{fontsize:25, visible:()=>butt.value});",
      "metadata": {
        "trusted": true
      },
      "execution_count": 4,
      "outputs": [
        {
          "output_type": "display_data",
          "data": {
            "application/vnd.jupyter.widget-view+json": {
              "model_id": "283982072acd41c5bf3a68d74cc29ad6",
              "version_major": 2,
              "version_minor": 0
            },
            "text/plain": "JSWidget(value=None, height=300, html='<!DOCTYPE html>\\n<html>\\n    <head>\\n    <style>\\n    html, body {\\n   …"
          },
          "metadata": {}
        }
      ],
      "id": "890f12e6-c29a-4ce3-8102-4ecc91567394"
    },
    {
      "cell_type": "markdown",
      "source": "## Solve the equations by plotting the graph of parabola",
      "metadata": {},
      "id": "ee8226f1-4df3-44aa-b216-fd2753ce34c9"
    },
    {
      "cell_type": "markdown",
      "source": "Try to draw the graph of $y=x^2+2x-3$\n\n```{hint}\nMark points (0, -3), (1, 0), (-1, -4), (-2, -3), (-3, 0) first and then connect each point with a smooth curve.\n```\n\nYou can drag the points to the locatons stated above and click <font color='blue'>finish</font> to see the graph. Check if all of your points are on the curve.\n",
      "metadata": {},
      "id": "6ab6025d-5104-4d2a-a1e8-befc3bcf5c08"
    },
    {
      "cell_type": "code",
      "source": "%%jsxgraph -i jxgbox -h 500\nvar brd = JXG.JSXGraph.initBoard('jxgbox', {boundingbox: [-8, 8, 8, -8], axis:true,  showCopyright:false});\nvar p1 = brd.create('point',[-5,0]);\nvar p2 = brd.create('point', [-4,0]);\nvar p3 = brd.create('point', [-3,0]);\nvar p4 = brd.create('point', [-2,0]);\nvar p5 = brd.create('point', [-1,0]);\n\nvar graph = brd.create('functiongraph',[(x)=> {return x*x+2*x-3;}, -10, 10],{visible: false});\n\nvar butt = brd.create('button',[-5,-5,'finish',function(){\n    graph.showElement();\n}])",
      "metadata": {
        "trusted": true
      },
      "execution_count": 5,
      "outputs": [
        {
          "output_type": "display_data",
          "data": {
            "application/vnd.jupyter.widget-view+json": {
              "model_id": "4144e1f5bc434b119481f4cf9a7f6a6a",
              "version_major": 2,
              "version_minor": 0
            },
            "text/plain": "JSWidget(value=None, height=500, html='<!DOCTYPE html>\\n<html>\\n    <head>\\n    <style>\\n    html, body {\\n   …"
          },
          "metadata": {}
        }
      ],
      "id": "671296e4-a186-4d15-9c46-0b620d2cbb20"
    },
    {
      "cell_type": "markdown",
      "source": "The graph of $y=x^2+2x-3$ is a parabola\n\nIn mathematics, a parabola is a plane curve which is mirror-symmetrical and is approximately U-shaped [parabola](https://en.wikipedia.org/wiki/Parabola). It looks like the track of the object being thrown \n\nModify the a, b and c in the following graph and share what you find.\n",
      "metadata": {},
      "id": "e21e957c-6707-44f5-82ed-0bacf7ca428c"
    },
    {
      "cell_type": "code",
      "source": "%%jsxgraph -i jxgbox -h 500 -m https://www.cs.cityu.edu.hk/~ccha23/js/load-mathjax.js\nJXG.Options.text.useMathJax = true;\nvar brd = JXG.JSXGraph.initBoard('jxgbox', {boundingbox: [-8, 8, 8, -8], axis:true,  showCopyright:false});\nvar a = brd.create('slider', [[3, -3], [6,-3], [-3, 1, 3]], {name:'a', snapWidth: 0.1});\nvar b = brd.create('slider', [[3, -4], [6,-4], [-3, 0, 3]], {name:'b', snapWidth: 0.1});\nvar c = brd.create('slider', [[3, -5], [6,-5], [-3, 0, 3]], {name:'c', snapWidth: 0.1});\nvar graph1 = brd.create('functiongraph', [function(x){return a.Value()*x*x + b.Value()*x + c.Value();}, -10, 10]);\nvar text1 = brd.create('text',[-6,2,function(){return '\\\\[y=ax^2+bx+c\\\\]';}],{fontsize:20});",
      "metadata": {
        "trusted": true
      },
      "execution_count": 6,
      "outputs": [
        {
          "output_type": "display_data",
          "data": {
            "application/vnd.jupyter.widget-view+json": {
              "model_id": "8eca8801d4314ae7830be6eb749942d4",
              "version_major": 2,
              "version_minor": 0
            },
            "text/plain": "JSWidget(value=None, height=500, html='<!DOCTYPE html>\\n<html>\\n    <head>\\n    <style>\\n    html, body {\\n   …"
          },
          "metadata": {}
        }
      ],
      "id": "7d292bb0-bbbf-4327-8b3d-bf02d8370f75"
    },
    {
      "cell_type": "markdown",
      "source": "**The graph of \\$y=ax^2+bx+c\\$ is a parabola** \n\nCan you find the roots of the equation $ax^2+bx+c=0$ by observing the graph of $y=ax^2+bx+c$?\n\nLocate the x-intercepts of the following graphs and explain their relationship with quadratic equations.\n\nAfter you locate the x-intercepts, click <font color='blue'>show</font> and hover over the points to check if you are correct.",
      "metadata": {},
      "id": "f1389e8b-14f7-4aac-9d27-5adcc03e1417"
    },
    {
      "cell_type": "code",
      "source": "%%jsxgraph -i jxgbox -h 500\nvar brd = JXG.JSXGraph.initBoard('jxgbox', {boundingbox: [-10, 10, 10, -10], axis: true, showCopyright:false});\n\nfunction rdm(){\n    return (Math.floor(Math.random() * 3)+1) * Math.pow(-1, Math.floor(Math.random()*2));\n};\n\nvar r1 = rdm();\nvar r2 = rdm();\nvar a = rdm();\nvar b;\nfunction ctb(){\n  b = 0;\n  while (b==0){\n      r1 = rdm();\n      r2 = rdm();\n      b = a*(r1+r2);\n  }\n}\n\nfunction sign(a){\n    if (a<0){\n        return '';\n    }\n    else{\n        return '+';\n    }\n};\n\nctb();\nvar c=a*r1*r2;\n\nvar refresh = brd.create('button',[-8,-8,'try again',function(){\n    a = rdm();\n    ctb();\n    c = a*r1*r2\n    txt = 'show';\n    butt.rendNodeButton.innerHTML = txt;\n    butt.value = false;\n}])\n\nvar butt = brd.create('button', [-5, -8, 'show', function() {\n  var txt;\n  butt.value = !butt.value;\n  if (butt.value) {\n  \ttxt = 'hide';\n  } else {\n  \ttxt = 'show';\n  }\n\tbutt.rendNodeButton.innerHTML = txt;\n}]);\n\n// Set initial value for the button\nif (!JXG.exists(butt.value)) {\n\tbutt.value = false;\n}\n\nvar graph = brd.create('functiongraph',[function(x){return a*x*x+b*x+c},-10, 10])\nvar line1 = brd.create('line',[[-10,0],[10,0]], {visible: false});\nvar inter1 = brd.create('intersection',[graph, line1, 0],{name:\"\\ x_1\\ \", visible:()=>butt.value});\nvar inter2 = brd.create('intersection',[graph, line1, 1],{name:\"\\ x_2\\ \", visible:()=>butt.value});\n\nvar text = brd.create('text',[-7,6,function(){return '\\ y='+a+'x^2'+sign(b)+b+'x'+sign(c)+c+'\\ '}],{fontsize: 20})\n\n",
      "metadata": {
        "trusted": true
      },
      "execution_count": 7,
      "outputs": [
        {
          "output_type": "display_data",
          "data": {
            "application/vnd.jupyter.widget-view+json": {
              "model_id": "8a6e28d2b14f48dd9a5e179e69755031",
              "version_major": 2,
              "version_minor": 0
            },
            "text/plain": "JSWidget(value=None, height=500, html='<!DOCTYPE html>\\n<html>\\n    <head>\\n    <style>\\n    html, body {\\n   …"
          },
          "metadata": {}
        }
      ],
      "id": "0462d250-d3bc-4780-ab2e-e88a516eaeca"
    },
    {
      "cell_type": "markdown",
      "source": "In conclusion, we can solve the equation $ax^2+bx+c=0$ by plotting the graph of parabola $y=ax^2+bx+c$ and reading the x-intercepts which mean the $x$ values when the equation equals 0",
      "metadata": {},
      "id": "eba4e93b-a43d-48c5-b8b2-c0dc3fc511ef"
    },
    {
      "cell_type": "markdown",
      "source": "## Quadratic formula",
      "metadata": {},
      "id": "a4236880-5f7e-4249-bdd2-e05346741bd1"
    },
    {
      "cell_type": "markdown",
      "source": "What if the equation can not be easily factorized? &nbsp; e.g. $x^2+9x-7=0$\n\nWhat if the x-intercepts are not integers and can not be clearly read? \n\nTry to read the x-intercepts of the following graph.",
      "metadata": {},
      "id": "b17c0226-029c-4243-bbd2-c16ee0c686a4"
    },
    {
      "cell_type": "code",
      "source": "%%jsxgraph -i jxgbox -h 500 -m https://www.cs.cityu.edu.hk/~ccha23/js/load-mathjax.js\nJXG.Options.text.useMathJax = true;\nvar brd = JXG.JSXGraph.initBoard('jxgbox', {boundingbox: [-8, 8, 8, -8], axis:true,  showCopyright:false});\nvar graph1 = brd.create('functiongraph', [function(x){return x*x + 5*x + 3;}, -10, 10]);",
      "metadata": {
        "trusted": true
      },
      "execution_count": 8,
      "outputs": [
        {
          "output_type": "display_data",
          "data": {
            "application/vnd.jupyter.widget-view+json": {
              "model_id": "947e2a1f03d740559cf7966e77917444",
              "version_major": 2,
              "version_minor": 0
            },
            "text/plain": "JSWidget(value=None, height=500, html='<!DOCTYPE html>\\n<html>\\n    <head>\\n    <style>\\n    html, body {\\n   …"
          },
          "metadata": {}
        }
      ],
      "id": "c482ee20-add9-49eb-a95e-99d0d21d8483"
    },
    {
      "cell_type": "markdown",
      "source": "Feeling hard? Don't worry. We can use **quadratic formula** to work it out.",
      "metadata": {},
      "id": "8262d56c-e321-4b3b-8e97-e1902ac60c00"
    },
    {
      "cell_type": "markdown",
      "source": "Observe the expression:\n\n$$y=a(x-m)^2+d\\qquad(a\\neq0)$$\n\nCan you directly tell the maxima of this expression when $a<0$ and the minima when $a>0$?  Why?\n\n",
      "metadata": {},
      "id": "e95c5047-1ef6-454d-8740-b6db6f411f24"
    },
    {
      "cell_type": "code",
      "source": "%%jsxgraph -i jxgbox -h 500 -m https://www.cs.cityu.edu.hk/~ccha23/js/load-mathjax.js\nJXG.Options.text.useMathJax = true;\nvar brd = JXG.JSXGraph.initBoard('jxgbox', {boundingbox: [-8, 8, 8, -8], axis:true,  showCopyright:false});\nvar a = brd.create('slider', [[3, -3], [6,-3], [-5, 1, 5]], {name:'a', snapWidth: 0.1});\nvar m = brd.create('slider', [[3, -4], [6,-4], [-5, 0, 5]], {name:'m', snapWidth: 0.1});\nvar d = brd.create('slider', [[3, -5], [6,-5], [-5, 0, 5]], {name:'d', snapWidth: 0.1});\nvar line1 = brd.create('line',[[function(){return m.Value()},-10],[function(){return m.Value()},10]], {dash: 2,strokeColor:'green'} );\n\n\nvar graph1 = brd.create('functiongraph', [function(x){return a.Value()*Math.pow(x-m.Value(), 2)+d.Value();}, -10, 10]);\nvar inte_m = brd.create('intersection',[graph1, line1, 0],{\n    name: function(){return (a.Value() > 0) ? 'min' : 'max'}\n    });\nvar line2 = brd.create('line',[[-5,0],[5,0]], {visible: false});\nvar inter1 = brd.create('intersection',[graph1, line2, 0],{name:'\\\\[x_1\\\\]'});\nvar inter2 = brd.create('intersection',[graph1, line2, 1],{name:\"\\\\[x_2\\\\]\"});\n\nvar text = brd.create('text',[-7,6,function(){return '\\\\[y=a(x-m)^2+d\\\\]'}], {fontsize:15})",
      "metadata": {
        "trusted": true
      },
      "execution_count": 9,
      "outputs": [
        {
          "output_type": "display_data",
          "data": {
            "application/vnd.jupyter.widget-view+json": {
              "model_id": "81413748d5014aab94f1621849d54db1",
              "version_major": 2,
              "version_minor": 0
            },
            "text/plain": "JSWidget(value=None, height=500, html='<!DOCTYPE html>\\n<html>\\n    <head>\\n    <style>\\n    html, body {\\n   …"
          },
          "metadata": {}
        }
      ],
      "id": "f9a964f4-65f0-4f55-9b8e-250b71274d74"
    },
    {
      "cell_type": "markdown",
      "source": "We can notice that on certain conditions, the parabola has no x-intercepts. Please point out such conditions.\n\n```{hint}\nThink from the perspective of a, m, d value\n```\n\nCompare $y=a(x-m)^2+d$ and $y=ax^2+bx+c$, and think: what is the relation of m, d and a, b, c?",
      "metadata": {},
      "id": "773dfb9e-8a82-4325-aea4-2d21a740b1ec"
    },
    {
      "cell_type": "markdown",
      "source": "**Derivation of the formula**\n\nGiven a general quadratic equation of the form $(a\\neq0)$:\n\n$$ax^2+bx+c=0$$\n\nDivide the quadratic equation by $a$, which is allowed because $a$ is non-zero:\n\n$$ x^2+\\frac bax+\\frac ca=0$$\n\nSubtract $\\frac ca$ from both sides of the equation, yielding:\n\n$$x^2+\\frac bax=-\\frac ca$$\n\nThe quadratic equation is now in a form to which the method of completing the square is applicable. \nIn fact, by adding a constant to both sides of the equation such that the left hand side becomes a complete square, the quadratic equation becomes:\n\n$$x^2+\\frac bax+(\\frac b{2a})^2=-\\frac ca+(\\frac b{2a})^2$$\n\nwhich produces:\n\n$$(x+\\frac b{2a})^2=-\\frac ca+\\frac {b^2}{4a^2}$$\n\nAccordingly, after rearranging the terms on the right hand side to have a common denominator, we obtain:\n\n$$(x+\\frac b{2a})^2=\\frac {b^2-4ac}{4a^2}$$\n\n>Before we continue the following steps, let's move the terms on the right hand side to the left hand sides. We obtain:\n$$(x+\\frac b{2a})^2-\\frac {b^2-4ac}{4a^2}=0$$\n>\n>Multiply both sides by $a$, yielding:\n$$a(x+\\frac b{2a})^2-\\frac {b^2-4ac}{4a}=0$$\n>\n>Let $m=?$ $d=?$. We obtain:\n$$a(x-m)^2+d=0$$\n>\n>**Question:** What should be filled in the question mark?\n\n\nThe square has thus been completed. If the discriminant $b^2-4ac$ is positive, we can take the square root of both sides, yielding the following equation:\n\n$$x+\\frac b{2a}=±\\frac {\\sqrt{b^2-4ac}}{4a^2}$$\n\nIn which case, isolating the $x$ would give the **quadratic formula**:\n\n$$x=\\frac {-b±\\sqrt{b^2-4ac}}{4a^2}$$\n\n>**Answer:** $m=-\\frac b{2a}$ $d=\\frac {4ac-b^2}{4a}$\n>\n>Thus, the maxima/minima of $y=ax^2+bx+c$ is at $x=-\\frac b{2a}$.",
      "metadata": {},
      "id": "8245019f-b68d-468a-a851-34e9b62c654e"
    },
    {
      "cell_type": "markdown",
      "source": "From the above derivation, we can notice that before we take the square root of both sides, we first check whether $b^2-4ac$ is positive. \nIt seems that this formula has certain relations with the existence of the roots. Try to find the relations with the help of the graph.",
      "metadata": {},
      "id": "f328acf9-85c4-4697-bb52-d14d118ebfc1"
    },
    {
      "cell_type": "code",
      "source": "%%jsxgraph -i jxgbox -h 500 -m https://www.cs.cityu.edu.hk/~ccha23/js/load-mathjax.js\nJXG.Options.text.useMathJax = true;\nvar brd = JXG.JSXGraph.initBoard('jxgbox', {boundingbox: [-10, 10, 10, -10], axis:true,  showCopyright:false});\nvar a = brd.create('slider', [[3, -3], [6,-3], [-5, 1, 5]], {name:'a', snapWidth: 0.1});\nvar b = brd.create('slider', [[3, -4], [6,-4], [-5, 0, 5]], {name:'b', snapWidth: 0.1});\nvar c = brd.create('slider', [[3, -5], [6,-5], [-5, 0, 5]], {name:'c', snapWidth: 0.1});\nvar graph1 = brd.create('functiongraph', [function(x){return a.Value()*x*x + b.Value()*x + c.Value();}, -10, 10]);\nvar line1 = brd.create('line',[[-10,0],[10,0]], {visible: false});\nvar inter1 = brd.create('intersection',[graph1, line1, 0],{name:\"\\\\[x_1\\\\]\"});\nvar inter2 = brd.create('intersection',[graph1, line1, 1],{name:\"\\\\[x_2\\\\]\"});\n\n\nvar text1 = brd.create('text',[-8,-6,function(){return '\\\\[y=ax^2+bx+c\\\\]';}],{fontsize:15});\nvar text2 = brd.create('text',[3,-6,function(){return '\\\\[b^2-4ac='+(b.Value()*b.Value() - 4*a.Value()*c.Value()).toFixed(2)+'\\\\]'}],{fontsize:15})",
      "metadata": {
        "trusted": true
      },
      "execution_count": 10,
      "outputs": [
        {
          "output_type": "display_data",
          "data": {
            "application/vnd.jupyter.widget-view+json": {
              "model_id": "06df29e9244e4b399ddb85879e49a4af",
              "version_major": 2,
              "version_minor": 0
            },
            "text/plain": "JSWidget(value=None, height=500, html='<!DOCTYPE html>\\n<html>\\n    <head>\\n    <style>\\n    html, body {\\n   …"
          },
          "metadata": {}
        }
      ],
      "id": "871c2a42-e5a3-41e2-b3ae-d790dbc29fe3"
    },
    {
      "cell_type": "markdown",
      "source": "Let $\\Delta=b^2-4ac$, we can find that:\n$$\n\\begin{equation}\nx_1, x_2 = \\left\\{\n\\begin{aligned}\n&\\frac{-b \\pm \\sqrt{b^2-4ac}}{2a}, & \\text{ when } \\Delta > 0 \\\\\n&-\\frac{b}{2a}, & \\text{ when } \\Delta = 0 \\\\\n& \\text{Real roots don't exist}, & \\text{ when } \\Delta < 0.\n\\end{aligned}\n\\right.\n\\end{equation}\n$$\n\n\n**Notice:** $\\Delta < 0$ means the equation does not have **real roots**. It still has roots but they are **nonreal roots**. After we learn **complex number**, we will come back to find the **nonreal roots** of the equation.\n",
      "metadata": {},
      "id": "c2007c14-574c-4f9e-9997-3f8c666e570d"
    }
  ]
}