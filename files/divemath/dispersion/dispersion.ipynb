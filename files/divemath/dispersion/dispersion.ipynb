{
 "cells": [
  {
   "cell_type": "markdown",
   "id": "e695a11a-2d4c-4aa5-9c23-d5b681e724e5",
   "metadata": {},
   "source": [
    "# Measure of Dispersion"
   ]
  },
  {
   "cell_type": "markdown",
   "id": "02e06bce-2cc8-4fbe-aee0-794f9fe10ec6",
   "metadata": {},
   "source": [
    "**DIVE into Math**\n",
    "\n",
    "---"
   ]
  },
  {
   "cell_type": "markdown",
   "id": "8b289b48-028e-4602-97cf-84c5fdfba61f",
   "metadata": {},
   "source": [
    "Contributor(s): \n",
    "\n",
    "- Assan KOZHIN\n",
    "\n",
    "---"
   ]
  },
  {
   "cell_type": "code",
   "execution_count": null,
   "id": "be48cb8a-d1ac-43d3-8967-9d79c59867c5",
   "metadata": {},
   "outputs": [],
   "source": [
    "%reload_ext divewidgets"
   ]
  },
  {
   "cell_type": "markdown",
   "id": "7f6140b7-4063-4515-939b-227b7aa10290",
   "metadata": {},
   "source": [
    "## Part I: Understand Measures of Dispersion"
   ]
  },
  {
   "cell_type": "markdown",
   "id": "647e51d4-ceef-411e-9902-7b83a8a8b6ea",
   "metadata": {},
   "source": [
    "**Measures of dispersion**, also called measures of variation, are measures that help us to know about the spread or variation of a data set.\n",
    "\n",
    "At this point, you may not quite understand what we mean by spread or variation. We will illustrate with an example.\n",
    "\n",
    "Imagine we have 2 boys, Alex and Bill, playing game on who will throw ball further. Each of them try 10 times and results are as follows:\n",
    "\n",
    "**Alex**: 5, 15, 10, 7, 22, 14, 30, 19, 31, 24\n",
    "\n",
    "**Bill**: 17, 19, 18, 16, 14, 15, 20, 17, 19, 22\n"
   ]
  },
  {
   "cell_type": "markdown",
   "id": "2d5da760-51af-4b03-8b67-a2a989742278",
   "metadata": {},
   "source": [
    "Now let's vizualize data points so that we can easily see what do **variation** or **dispersion** mean."
   ]
  },
  {
   "cell_type": "code",
   "execution_count": null,
   "id": "2f2e91e0-8d63-446b-b636-3d178c9f1bcb",
   "metadata": {
    "jupyter": {
     "source_hidden": true
    },
    "tags": []
   },
   "outputs": [],
   "source": [
    "%%jsxgraph -w 600 -h 300\n",
    "JXG.Options.text.useMathJax = true;\n",
    "var board = JXG.JSXGraph.initBoard('box', {boundingbox: [0, 10, 35, -10], axis:true,grid:true, keepaspectratio:false,  showCopyright:false});\n",
    "\n",
    "var alex = [5, 15, 10, 7, 22, 14, 30, 19, 31, 24];\n",
    "var bill = [17, 19, 18, 16, 14, 15, 20, 17, 19, 22];\n",
    "\n",
    "board.create('text',[17,3,\"Alex\"], {fontSize: 17});\n",
    "alex.forEach(function(elem) {\n",
    "    board.create('point',[elem,2],{name:'', fixed:true, showInfoBox: false});\n",
    "});\n",
    "\n",
    "board.create('text',[17,-1,\"Bill\"], {fontSize: 17});\n",
    "bill.forEach(function(elem) {\n",
    "    board.create('point',[elem,-2],{name:'', fixed:true, showInfoBox: false, strokeColor:'green', fillColor:'green'});\n",
    "});\n"
   ]
  },
  {
   "cell_type": "markdown",
   "id": "7fd28872-01c0-4999-bfd4-331c70a6fa66",
   "metadata": {},
   "source": [
    "**What conclusions can you draw from graph above?**\n",
    "\n",
    "Bill tend to throw balls to the similar distances, while Alex can through far away, but also can throw very near.\n",
    "\n",
    "Bill has **low measure of dispersion**, while Alex has **high measure of dispersion**."
   ]
  },
  {
   "cell_type": "markdown",
   "id": "06083323-301a-46f2-8764-aa94a181794d",
   "metadata": {},
   "source": [
    "#### Range\n",
    "\n",
    "There are many ways of calculating dispersion, but the simplest one is range. It is simply difference between highest value and lowest value in set:\n",
    "$$ Range = MaxValue - MinValue $$\n",
    "\n",
    "\n",
    "In the data we provided above Alex has range=31-5=26, while Bill has range=22-14=8."
   ]
  },
  {
   "cell_type": "markdown",
   "id": "991725ca-7869-488f-94d8-400c8a6dfe12",
   "metadata": {},
   "source": [
    "#### Inter-quartile range\n",
    "\n",
    "Now imagine that for Bill there was wrong measurement, when taking notes boys recorded 42 instead of 22.\n",
    "\n",
    "Using formula above we get that Bill's range now is 42-14=28.\n",
    "\n",
    "Range=28 is significantly higher than actual dispersion of the data, and gives wrong impression about Bill's ball throwing. Now imagine that instead of Bill's throwing ball we have some scientific experiment with 10,000 data points. It doesn't matter that 9,999 points have small variance if there is some outlier(extremely large or small point). Therefore, we need a better way of calculating dispersion.\n",
    "\n",
    "We can use **inter-quartile range** to account for that type of data. To calculate it:\n",
    "\n",
    "1. We find median of all data - **sort** them in increasing order and middle number is median;\n",
    "\n",
    "2. We find **Q1** which is median of numbers lower than median from step 1;\n",
    "\n",
    "3. Similarly we find **Q3** which is median of number higher than median from step 1;\n",
    "\n",
    "4. **Inter-quartile range** or **IQR**=Q3-Q1\n",
    "\n",
    "\n",
    "This way we take into account 50% of most common data since numbers bellow Q1 are lower 25% of data and numbers above Q3 are highest 25% of data. This way we take into account only most common data in the middle."
   ]
  },
  {
   "cell_type": "markdown",
   "id": "f36038ae-ed8e-4b39-925f-8f6993407ce8",
   "metadata": {},
   "source": [
    "![изображение.png](data:image/png;base64,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)"
   ]
  },
  {
   "cell_type": "markdown",
   "id": "83f58a09-da37-4277-a361-acdb7f4297dc",
   "metadata": {},
   "source": [
    "#### Exercise\n",
    "\n",
    "Calculate Range and Inter Quartile Range with data below:\n",
    "\n",
    "22, 23, 45, 12, 13, 24, 22, 46, 26, 27, 25, 23, 42"
   ]
  },
  {
   "cell_type": "markdown",
   "id": "937e0675-a2d4-4b47-a701-3ad278f25106",
   "metadata": {
    "deletable": false,
    "nbgrader": {
     "cell_type": "markdown",
     "checksum": "bbfd4ef40b582d123a7083e65f5d93d9",
     "grade": true,
     "grade_id": "p1",
     "locked": false,
     "points": 2,
     "schema_version": 3,
     "solution": true,
     "task": false
    },
    "tags": []
   },
   "source": [
    "YOUR ANSWER HERE"
   ]
  },
  {
   "cell_type": "markdown",
   "id": "0d8cee41-580f-49a0-9f3e-f57aca157f18",
   "metadata": {},
   "source": [
    "### Boxplot"
   ]
  },
  {
   "cell_type": "markdown",
   "id": "15cc7faf-3f54-40ff-810a-60f3a2b30437",
   "metadata": {},
   "source": [
    "Human like creatures, most of the times, are bad at understanding pure numbers. Therefore, we need some way of vizualising dispersion measures above.\n",
    "\n",
    "**Boxplot** or **box-and-whisker plot** is a good way of accomplishing this task. It captures:\n",
    "* Minimum (Q0 or 0th percentile): the lowest data point in the data set excluding any outliers\n",
    "* Maximum (Q4 or 100th percentile): the highest data point in the data set excluding any outliers\n",
    "* Median (Q2 or 50th percentile): the middle value in the data set\n",
    "* First quartile (Q1 or 25th percentile): also known as the lower quartile qn(0.25), it is the median of the lower half of the dataset.\n",
    "* Third quartile (Q3 or 75th percentile): also known as the upper quartile qn(0.75), it is the median of the upper half of the dataset."
   ]
  },
  {
   "cell_type": "markdown",
   "id": "5fb04682-ab41-41fd-b996-95076fe5337d",
   "metadata": {
    "tags": []
   },
   "source": [
    "### Interactive Boxplot\n",
    "In the graph bellow you can drag points and see how Boxplot diagram changes as data points change. You can add more points or remove some in `line 6` bellow.\n",
    "> Note that only x coordinates are taken into account, and y coordinates are ignored."
   ]
  },
  {
   "cell_type": "code",
   "execution_count": null,
   "id": "e7e91081-082f-44c5-aa0c-112bfa017afa",
   "metadata": {
    "jupyter": {
     "source_hidden": true
    },
    "tags": []
   },
   "outputs": [],
   "source": [
    "%%jsxgraph -w 600 -h 300\n",
    "JXG.Options.text.useMathJax = true;\n",
    "var board = JXG.JSXGraph.initBoard('box', {boundingbox: [0, 6, 35, -4], axis:true,grid:true, keepaspectratio:false,  showCopyright:false});\n",
    "\n",
    "//===========YOU CAN EDIT INITAL DATA HERE============\n",
    "var data = [5, 15, 10, 7, 22, 14, 30, 19, 31, 24];\n",
    "//====================================================\n",
    "\n",
    "var points = []\n",
    "data.forEach(function(elem, idx, arr) {\n",
    "    points.push(board.create('point',[arr[idx], 2], {name:'', attractToGrid: true, attractorDistance: 1, snapSizeX: 1, highlightFillColor: 'red', highlightStrokeColor: 'red' }));\n",
    "});\n",
    "\n",
    "var b = board.create('boxplot', [[\n",
    "                                  function(){return JXG.Math.Statistics.min(points.map((elem)=>elem.X()))},\n",
    "                                  function(){return JXG.Math.Statistics.percentile(points.map((elem)=>elem.X()).sort(), 25);},\n",
    "                                  function(){return JXG.Math.Statistics.percentile(points.map((elem)=>elem.X()).sort(), 50);},\n",
    "                                  function(){return JXG.Math.Statistics.percentile(points.map((elem)=>elem.X()).sort(), 75);},\n",
    "                                  function() {return JXG.Math.Statistics.max(points.map((elem)=>elem.X()))}\n",
    "                                ], 2, 2], {strokeWidth: 4, dir: 'horizontal'});\n",
    "\n",
    "var q0Text = board.create('text', [function(){return JXG.Math.Statistics.min(points.map((elem)=>elem.X()))}, 3.5, \"Q0\"], {anchorX: 'middle'});\n",
    "var q1Text = board.create('text', [function(){return JXG.Math.Statistics.percentile(points.map((elem)=>elem.X()).sort(), 25);}, 3.5, \"Q1\"], {anchorX: 'middle'});\n",
    "var q2Text = board.create('text', [function(){return JXG.Math.Statistics.percentile(points.map((elem)=>elem.X()).sort(), 50);}, 3.5, \"Q2\"], {anchorX: 'middle'});\n",
    "var q3Text = board.create('text', [function(){return JXG.Math.Statistics.percentile(points.map((elem)=>elem.X()).sort(), 75);}, 3.5, \"Q3\"], {anchorX: 'middle'});\n",
    "var q4Text = board.create('text', [function() {return JXG.Math.Statistics.max(points.map((elem)=>elem.X()))}, 3.5, \"Q4\"], {anchorX: 'middle'});"
   ]
  },
  {
   "cell_type": "markdown",
   "id": "cb858896-b45e-4c71-a1c8-3fc688bb4cbb",
   "metadata": {},
   "source": [
    "### Variance"
   ]
  },
  {
   "cell_type": "markdown",
   "id": "18a38387-1a79-4ca0-8cf0-c75dca27b4df",
   "metadata": {},
   "source": [
    "**Variance** measures the average difference between values within a group. It is preferred measure of difference due to some desirable properties and is pretty good when we need to know dispersion of whole dataset.\n",
    "\n",
    "**What properties?** you may ask:\n",
    "What if we want to understand if there are some points which are very far away? For example we have 2 datasets:\n",
    "1. Points are spread out in range of 10-20.\n",
    "2. Points are spread out in range of 14-16, but there are ~40% of data which is really far away from this range e.g. -20 or 50.\n",
    "\n",
    "*IQR* will show that Set 2 has lower dispersion, but what if we want to know how close **all** points are? That is why we need Variance.\n",
    "\n",
    "This means you have to figure out the variation between each data point relative to the mean. Therefore, the calculation of variance uses squares because it weighs outliers more heavily than data that appears closer to the mean. This calculation also prevents differences above the mean from canceling out those below, which would result in a variance of zero.\n",
    "\n",
    "$$\n",
    "\\text{Variance: } \\sigma^2 = \\frac{\\displaystyle\\sum_{i=1}^{n}(x_i - \\mu)^2} {n}\n",
    "$$\n",
    "\n",
    "> see examples below for calculation examples\n",
    "\n",
    "$\\sigma$ is **Standard Deviation** and is equal to the square root of variance. It is also widely used measure in statistics and many other fields."
   ]
  },
  {
   "cell_type": "markdown",
   "id": "87aa6b2f-c1fb-4f88-9763-0df4cd04c065",
   "metadata": {},
   "source": [
    "## Part II: Effect of Adding or Multipying the Data by a Constant on the Measure of Dispersion"
   ]
  },
  {
   "cell_type": "markdown",
   "id": "8657150a-720f-4e86-a337-2f36937a5b7a",
   "metadata": {
    "tags": []
   },
   "source": [
    "\n",
    "Let's start by using numerical examples.  \n",
    "\n",
    "**Data: 2, 3, 4, 5.**  \n",
    "\n",
    "Now it is easy to give a numerical illustration of the formulas in the comments.\n",
    "\n",
    "The sample mean is $\\overline X=\\frac{2+3+4+5}{4}=3.5$;\n",
    "\n",
    "the sample variance is $\\sigma^2=\\frac{(2-3.5)^2+(3-3.5)^2+(4-3.5)^2+(5-3.5)^2}{4}=1.25$;\n",
    "\n",
    "and the standard deviation is $\\sigma_X=1.12$."
   ]
  },
  {
   "cell_type": "markdown",
   "id": "41375914-565d-487c-9687-8426d42168ed",
   "metadata": {},
   "source": [
    "**Now we add 10 to observations: $Y_i=X_i+10$.**   \n",
    "\n",
    "Then the sample mean is $\\overline Y=13.5$;\n",
    "\n",
    "the sample variance is $\\sigma^2=\\frac{(12-13.5)^2+(13-13.5)^2+(14-13.5)^2+(15-13.5)^2}{4}=1.25$;\n",
    "\n",
    "and the standard deviation is $\\sigma_Y=1.12$."
   ]
  },
  {
   "cell_type": "markdown",
   "id": "5daa398c-2ddd-4dcd-8b77-ac9fc18e2e29",
   "metadata": {},
   "source": [
    "**If we multiply each of the original observation by 10: $W_i=10X_i$.**  \n",
    "\n",
    "The results are now as follows: the sample mean is $\\overline W=\\frac{20+30+40+50}{40}=35$;\n",
    "\n",
    "sample variance is $\\sigma^2=\\frac{(20-35)^2+(30-35)^2+(40-35)^2+(50-35)^2}{4}=125$;\n",
    "\n",
    "and the standard deviation is $\\sigma_Y=11.2$."
   ]
  },
  {
   "cell_type": "markdown",
   "id": "8c1931f8-e323-4eed-80e5-858609b6c7e1",
   "metadata": {},
   "source": [
    "Bellow you can play with some data and see how variance changes as you add or multiply all points by some constants."
   ]
  },
  {
   "cell_type": "code",
   "execution_count": null,
   "id": "6069e008-3426-49d3-ab53-0c2d2431706e",
   "metadata": {
    "jupyter": {
     "source_hidden": true
    },
    "tags": []
   },
   "outputs": [],
   "source": [
    "%%jsxgraph -h 400 -w 600\n",
    "JXG.Options.text.useMathJax = true;\n",
    "var board = JXG.JSXGraph.initBoard('box', {boundingbox: [-35, 5, 35, -4], axis:true,grid:true, keepaspectratio:false,  showCopyright:false});\n",
    "\n",
    "var data = [1, 2, 3, 4, 5, 6, 7, 8];\n",
    "data.sort();\n",
    "\n",
    "var s = board.create('slider', [[0, -1], [20, -1], [-10, 0, 10]], {snapWidth: 0.5, name: \"Add\"});\n",
    "var m = board.create('slider', [[0, -2], [20, -2], [-5, 1, 5]], {snapWidth: 1, name: \"Multiply by\"});\n",
    "\n",
    "data.forEach(function(elem, idx, arr) {\n",
    "    board.create('point',[function() {return m.Value()*arr[idx]+s.Value()}, 0], {name:'', showInfoBox: false});\n",
    "});\n",
    "\n",
    "var displayData = board.create('text', [-15, 3, function() {\n",
    "    return \"Data: \" + data.map((elem)=>(elem*m.Value()+s.Value()))\n",
    "}], {fontSize: 20, cssStyle: 'background-color:rgb(255,255,255);padding:5pt'});\n",
    "\n",
    "var text = board.create('text' ,[-15, 2.3, function() {\n",
    "    var data2 = [];\n",
    "    data.forEach(function(elem, idx, arr) {\n",
    "        data2.push(m.Value()*arr[idx]+s.Value());\n",
    "    });\n",
    "    return \"Variance: \" + JXG.Math.Statistics.variance(data2);\n",
    "}], {fontSize: 20, cssStyle: 'background-color:rgb(255,255,255);padding:5pt'});"
   ]
  },
  {
   "cell_type": "markdown",
   "id": "5be88331-02d8-4cfe-a38f-7777219c7541",
   "metadata": {
    "tags": []
   },
   "source": [
    "#### Exercise:\n",
    "\n",
    "You can try random data point each time. Re-run cell below to create new data of 5 points from 0 to 10 (uniform distribution).\n",
    "\n",
    "What happens with variance when you add or multiply data by some constant?"
   ]
  },
  {
   "cell_type": "markdown",
   "id": "b5ed4717-bc84-452a-b7d7-fcced717265d",
   "metadata": {
    "deletable": false,
    "nbgrader": {
     "cell_type": "markdown",
     "checksum": "d5ad775932e1a9aaaaca4ba324779788",
     "grade": true,
     "grade_id": "p2",
     "locked": false,
     "points": 2,
     "schema_version": 3,
     "solution": true,
     "task": false
    },
    "tags": []
   },
   "source": [
    "YOUR ANSWER HERE"
   ]
  },
  {
   "cell_type": "code",
   "execution_count": null,
   "id": "3c6e50a4-dd1b-4b30-b74b-93b37bf63f8c",
   "metadata": {},
   "outputs": [],
   "source": [
    "%%jsxgraph -h 400 -w 600\n",
    "JXG.Options.text.useMathJax = true;\n",
    "var board = JXG.JSXGraph.initBoard('box', {boundingbox: [-35, 5, 35, -4], axis:true,grid:true, keepaspectratio:false,  showCopyright:false});\n",
    "\n",
    "\n",
    "\n",
    "var data = Array.from({length: 5}, () => Math.floor(Math.random() * 11));\n",
    "data = data.sort();\n",
    "\n",
    "var s = board.create('slider', [[0, -1], [20, -1], [-10, 0, 10]], {snapWidth: 0.5, name: \"Add\"});\n",
    "var m = board.create('slider', [[0, -2], [20, -2], [-5, 1, 5]], {snapWidth: 1, name: \"Multiply by\"});\n",
    "\n",
    "data.forEach(function(elem, idx, arr) {\n",
    "    board.create('point',[function() {return m.Value()*arr[idx]+s.Value()}, 0], {name:'', showInfoBox: false});\n",
    "});\n",
    "\n",
    "var displayData = board.create('text', [-15, 3, function() {\n",
    "    return \"Data: \" + data.map((elem)=>(elem*m.Value()+s.Value()))\n",
    "}], {fontSize: 20, cssStyle: 'background-color:rgb(255,255,255);padding:5pt'});\n",
    "var text = board.create('text' ,[-15, 2.2, function() {\n",
    "    var data2 = [];\n",
    "    data.forEach(function(elem, idx, arr) {\n",
    "        data2.push(m.Value()*arr[idx]+s.Value());\n",
    "    });\n",
    "    return \"Variance: \" + JXG.Math.Statistics.variance(data2);\n",
    "}], {fontSize: 20, cssStyle: 'background-color:rgb(255,255,255);padding:5pt'});"
   ]
  },
  {
   "cell_type": "markdown",
   "id": "ec1398f6-464b-4777-bd19-c91d468d00eb",
   "metadata": {},
   "source": [
    "### Effect of adding or multiplying the data by a constant  \n"
   ]
  },
  {
   "cell_type": "markdown",
   "id": "4b22fc80-c044-4c9a-9f1e-d609b78e091c",
   "metadata": {},
   "source": [
    "As we can see from examples and exercises above, adding a constant to the data does not affect on the data's relative distance.  \n",
    "When a constant $k$ is added to the data, \n",
    "- mean will be increased by $k$, \n",
    "- variance and standard deviation will be unchanged (the spread of the data is unchanged).\n",
    "\n",
    "When the data is multiplied by the constant $k$,\n",
    "- variance will be multiplied by factor of $k^2$;  \n",
    "- mean and other dispersion measures will multiplied by $k$."
   ]
  }
 ],
 "metadata": {
  "kernelspec": {
   "display_name": "Python (XPython)",
   "language": "python",
   "name": "xeus-python"
  },
  "language_info": {
   "codemirror_mode": {
    "name": "ipython",
    "version": 3
   },
   "file_extension": ".py",
   "mimetype": "text/x-python",
   "name": "python",
   "nbconvert_exporter": "python",
   "pygments_lexer": "ipython3",
   "version": "3.10.6"
  },
  "widgets": {
   "application/vnd.jupyter.widget-state+json": {
    "state": {
     "140f4bbc8de44062bfdd13ebf2c36358": {
      "model_module": "@jupyter-widgets/base",
      "model_module_version": "2.0.0",
      "model_name": "LayoutModel",
      "state": {}
     },
     "625052a2c4d64ee4a71894f43a4b80ec": {
      "model_module": "@jupyter-widgets/base",
      "model_module_version": "2.0.0",
      "model_name": "LayoutModel",
      "state": {}
     },
     "6b369c87a95c4e218bd2e50c834e5b23": {
      "model_module": "jupyter-divewidgets",
      "model_module_version": "^0.1.5",
      "model_name": "JSWidgetModel",
      "state": {
       "_model_module_version": "^0.1.5",
       "_view_module_version": "^0.1.5",
       "height": 400,
       "html": "<!DOCTYPE html>\n<html>\n    <head>\n    <style>\n    html, body {\n        height: 100%;\n    }\n    body {\n        width: 100%;\n        display: flex;\n        padding: 0;\n        margin: 0;\n    }\n    .jxgbox {\n        width:100%; \n        flex-grow: 1;\n    }\n    </style>\n    <link rel=\"stylesheet\" type=\"text/css\" href=\"https://jsxgraph.org/distrib/jsxgraph.css\" />\n    <script type=\"text/javascript\" src=\"https://cdn.jsdelivr.net/npm/jsxgraph/distrib/jsxgraphcore.js\"></script>\n    <script type=\"text/javascript\" src=\"https://cdn.jsdelivr.net/npm/mathjax@3/es5/tex-chtml.js\"></script>\n    </head>\n<body>\n<div id=\"box\" class=\"jxgbox\"></div>\n</body>\n</html>",
       "js": "JXG.Options.text.useMathJax = true;\nvar board = JXG.JSXGraph.initBoard('box', {boundingbox: [-35, 5, 35, -4], axis:true,grid:true, keepaspectratio:false,  showCopyright:false});\n\nvar data = [1, 2, 3, 4, 5, 6, 7, 8];\ndata.sort();\n\nvar s = board.create('slider', [[0, -1], [20, -1], [-10, 0, 10]], {snapWidth: 0.5, name: \"Add\"});\nvar m = board.create('slider', [[0, -2], [20, -2], [-5, 1, 5]], {snapWidth: 1, name: \"Multiply by\"});\n\ndata.forEach(function(elem, idx, arr) {\n    board.create('point',[function() {return m.Value()*arr[idx]+s.Value()}, 0], {name:'', showInfoBox: false});\n});\n\nvar displayData = board.create('text', [-15, 3, function() {\n    return \"Data: \" + data.map((elem)=>(elem*m.Value()+s.Value()))\n}], {fontSize: 20, cssStyle: 'background-color:rgb(255,255,255);padding:5pt'});\n\nvar text = board.create('text' ,[-15, 2.3, function() {\n    var data2 = [];\n    data.forEach(function(elem, idx, arr) {\n        data2.push(m.Value()*arr[idx]+s.Value());\n    });\n    return \"Variance: \" + JXG.Math.Statistics.variance(data2);\n}], {fontSize: 20, cssStyle: 'background-color:rgb(255,255,255);padding:5pt'});",
       "layout": "IPY_MODEL_625052a2c4d64ee4a71894f43a4b80ec"
      }
     },
     "7a67305b8ef0498fb43aeb27c0520ecb": {
      "model_module": "jupyter-divewidgets",
      "model_module_version": "^0.1.5",
      "model_name": "JSWidgetModel",
      "state": {
       "_model_module_version": "^0.1.5",
       "_view_module_version": "^0.1.5",
       "height": 400,
       "html": "<!DOCTYPE html>\n<html>\n    <head>\n    <style>\n    html, body {\n        height: 100%;\n    }\n    body {\n        width: 100%;\n        display: flex;\n        padding: 0;\n        margin: 0;\n    }\n    .jxgbox {\n        width:100%; \n        flex-grow: 1;\n    }\n    </style>\n    <link rel=\"stylesheet\" type=\"text/css\" href=\"https://jsxgraph.org/distrib/jsxgraph.css\" />\n    <script type=\"text/javascript\" src=\"https://cdn.jsdelivr.net/npm/jsxgraph/distrib/jsxgraphcore.js\"></script>\n    <script type=\"text/javascript\" src=\"https://cdn.jsdelivr.net/npm/mathjax@3/es5/tex-chtml.js\"></script>\n    </head>\n<body>\n<div id=\"box\" class=\"jxgbox\"></div>\n</body>\n</html>",
       "js": "JXG.Options.text.useMathJax = true;\nvar board = JXG.JSXGraph.initBoard('box', {boundingbox: [-35, 5, 35, -4], axis:true,grid:true, keepaspectratio:false,  showCopyright:false});\n\n\n\nvar data = Array.from({length: 5}, () => Math.floor(Math.random() * 11));\ndata = data.sort();\n\nvar s = board.create('slider', [[0, -1], [20, -1], [-10, 0, 10]], {snapWidth: 0.5, name: \"Add\"});\nvar m = board.create('slider', [[0, -2], [20, -2], [-5, 1, 5]], {snapWidth: 1, name: \"Multiply by\"});\n\ndata.forEach(function(elem, idx, arr) {\n    board.create('point',[function() {return m.Value()*arr[idx]+s.Value()}, 0], {name:'', showInfoBox: false});\n});\n\nvar displayData = board.create('text', [-15, 3, function() {\n    return \"Data: \" + data.map((elem)=>(elem*m.Value()+s.Value()))\n}], {fontSize: 20, cssStyle: 'background-color:rgb(255,255,255);padding:5pt'});\nvar text = board.create('text' ,[-15, 2.2, function() {\n    var data2 = [];\n    data.forEach(function(elem, idx, arr) {\n        data2.push(m.Value()*arr[idx]+s.Value());\n    });\n    return \"Variance: \" + JXG.Math.Statistics.variance(data2);\n}], {fontSize: 20, cssStyle: 'background-color:rgb(255,255,255);padding:5pt'});",
       "layout": "IPY_MODEL_9dff151bd77942eaae7f4307ee43be40"
      }
     },
     "9702b513d50b4e7a88c3b6191bd70b31": {
      "model_module": "@jupyter-widgets/base",
      "model_module_version": "2.0.0",
      "model_name": "LayoutModel",
      "state": {}
     },
     "9dff151bd77942eaae7f4307ee43be40": {
      "model_module": "@jupyter-widgets/base",
      "model_module_version": "2.0.0",
      "model_name": "LayoutModel",
      "state": {}
     },
     "a32645f6c4524190be69c69a265ae300": {
      "model_module": "jupyter-divewidgets",
      "model_module_version": "^0.1.5",
      "model_name": "JSWidgetModel",
      "state": {
       "_model_module_version": "^0.1.5",
       "_view_module_version": "^0.1.5",
       "height": 300,
       "html": "<!DOCTYPE html>\n<html>\n    <head>\n    <style>\n    html, body {\n        height: 100%;\n    }\n    body {\n        width: 100%;\n        display: flex;\n        padding: 0;\n        margin: 0;\n    }\n    .jxgbox {\n        width:100%; \n        flex-grow: 1;\n    }\n    </style>\n    <link rel=\"stylesheet\" type=\"text/css\" href=\"https://jsxgraph.org/distrib/jsxgraph.css\" />\n    <script type=\"text/javascript\" src=\"https://cdn.jsdelivr.net/npm/jsxgraph/distrib/jsxgraphcore.js\"></script>\n    <script type=\"text/javascript\" src=\"https://cdn.jsdelivr.net/npm/mathjax@3/es5/tex-chtml.js\"></script>\n    </head>\n<body>\n<div id=\"box\" class=\"jxgbox\"></div>\n</body>\n</html>",
       "js": "JXG.Options.text.useMathJax = true;\nvar board = JXG.JSXGraph.initBoard('box', {boundingbox: [0, 10, 35, -10], axis:true,grid:true, keepaspectratio:false,  showCopyright:false});\n\nvar alex = [5, 15, 10, 7, 22, 14, 30, 19, 31, 24];\nvar bill = [17, 19, 18, 16, 14, 15, 20, 17, 19, 22];\n\nboard.create('text',[17,3,\"Alex\"], {fontSize: 17});\nalex.forEach(function(elem) {\n    board.create('point',[elem,2],{name:'', fixed:true, showInfoBox: false});\n});\n\nboard.create('text',[17,-1,\"Bill\"], {fontSize: 17});\nbill.forEach(function(elem) {\n    board.create('point',[elem,-2],{name:'', fixed:true, showInfoBox: false, strokeColor:'green', fillColor:'green'});\n});",
       "layout": "IPY_MODEL_9702b513d50b4e7a88c3b6191bd70b31"
      }
     },
     "f5df71b7c4cf4e40b40cc645892a4236": {
      "model_module": "jupyter-divewidgets",
      "model_module_version": "^0.1.5",
      "model_name": "JSWidgetModel",
      "state": {
       "_model_module_version": "^0.1.5",
       "_view_module_version": "^0.1.5",
       "height": 300,
       "html": "<!DOCTYPE html>\n<html>\n    <head>\n    <style>\n    html, body {\n        height: 100%;\n    }\n    body {\n        width: 100%;\n        display: flex;\n        padding: 0;\n        margin: 0;\n    }\n    .jxgbox {\n        width:100%; \n        flex-grow: 1;\n    }\n    </style>\n    <link rel=\"stylesheet\" type=\"text/css\" href=\"https://jsxgraph.org/distrib/jsxgraph.css\" />\n    <script type=\"text/javascript\" src=\"https://cdn.jsdelivr.net/npm/jsxgraph/distrib/jsxgraphcore.js\"></script>\n    <script type=\"text/javascript\" src=\"https://cdn.jsdelivr.net/npm/mathjax@3/es5/tex-chtml.js\"></script>\n    </head>\n<body>\n<div id=\"box\" class=\"jxgbox\"></div>\n</body>\n</html>",
       "js": "JXG.Options.text.useMathJax = true;\nvar board = JXG.JSXGraph.initBoard('box', {boundingbox: [0, 6, 35, -4], axis:true,grid:true, keepaspectratio:false,  showCopyright:false});\n\n//===========YOU CAN EDIT INITAL DATA HERE============\nvar data = [5, 15, 10, 7, 22, 14, 30, 19, 31, 24];\n//====================================================\n\nvar points = []\ndata.forEach(function(elem, idx, arr) {\n    points.push(board.create('point',[arr[idx], 2], {name:'', attractToGrid: true, attractorDistance: 1, snapSizeX: 1, highlightFillColor: 'red', highlightStrokeColor: 'red' }));\n});\n\nvar b = board.create('boxplot', [[\n                                  function(){return JXG.Math.Statistics.min(points.map((elem)=>elem.X()))},\n                                  function(){return JXG.Math.Statistics.percentile(points.map((elem)=>elem.X()).sort(), 25);},\n                                  function(){return JXG.Math.Statistics.percentile(points.map((elem)=>elem.X()).sort(), 50);},\n                                  function(){return JXG.Math.Statistics.percentile(points.map((elem)=>elem.X()).sort(), 75);},\n                                  function() {return JXG.Math.Statistics.max(points.map((elem)=>elem.X()))}\n                                ], 2, 2], {strokeWidth: 4, dir: 'horizontal'});\n\nvar q0Text = board.create('text', [function(){return JXG.Math.Statistics.min(points.map((elem)=>elem.X()))}, 3.5, \"Q0\"], {anchorX: 'middle'});\nvar q1Text = board.create('text', [function(){return JXG.Math.Statistics.percentile(points.map((elem)=>elem.X()).sort(), 25);}, 3.5, \"Q1\"], {anchorX: 'middle'});\nvar q2Text = board.create('text', [function(){return JXG.Math.Statistics.percentile(points.map((elem)=>elem.X()).sort(), 50);}, 3.5, \"Q2\"], {anchorX: 'middle'});\nvar q3Text = board.create('text', [function(){return JXG.Math.Statistics.percentile(points.map((elem)=>elem.X()).sort(), 75);}, 3.5, \"Q3\"], {anchorX: 'middle'});\nvar q4Text = board.create('text', [function() {return JXG.Math.Statistics.max(points.map((elem)=>elem.X()))}, 3.5, \"Q4\"], {anchorX: 'middle'});",
       "layout": "IPY_MODEL_140f4bbc8de44062bfdd13ebf2c36358"
      }
     }
    },
    "version_major": 2,
    "version_minor": 0
   }
  }
 },
 "nbformat": 4,
 "nbformat_minor": 5
}
