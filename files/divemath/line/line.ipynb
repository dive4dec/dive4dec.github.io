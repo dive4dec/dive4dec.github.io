{
  "metadata": {
    "kernelspec": {
      "name": "xeus-python",
      "display_name": "Python (XPython)",
      "language": "python"
    },
    "language_info": {
      "file_extension": ".py",
      "mimetype": "text/x-python",
      "name": "python",
      "version": "3.10.2"
    },
    "widgets": {
      "application/vnd.jupyter.widget-state+json": {
        "version_major": 2,
        "version_minor": 0,
        "state": {
          "ef904be530a3422cb6f9fbb51c0d552e": {
            "model_name": "LayoutModel",
            "model_module": "@jupyter-widgets/base",
            "model_module_version": "1.2.0",
            "state": {}
          },
          "7152be526ead4159b0113676eb203a19": {
            "model_name": "JSWidgetModel",
            "model_module": "jupyter-divewidgets",
            "model_module_version": "^0.1.5",
            "state": {
              "_model_module_version": "^0.1.5",
              "_view_module_version": "^0.1.5",
              "html": "<!DOCTYPE html>\n<html>\n    <head>\n    <style>\n    html, body {\n        height: 100%;\n    }\n    body {\n        width: 100%;\n        display: flex;\n        padding: 0;\n        margin: 0;\n    }\n    .jxgbox {\n        width:100%; \n        flex-grow: 1;\n    }\n    </style>\n    <link rel=\"stylesheet\" type=\"text/css\" href=\"https://jsxgraph.org/distrib/jsxgraph.css\" />\n    <script type=\"text/javascript\" src=\"https://cdn.jsdelivr.net/npm/jsxgraph/distrib/jsxgraphcore.js\"></script>\n    <script type=\"text/javascript\" src=\"https://cdn.jsdelivr.net/npm/mathjax@3/es5/tex-chtml.js\"></script>\n    </head>\n<body>\n<div id=\"box\" class=\"jxgbox\"></div>\n</body>\n</html>",
              "js": "JXG.Options.text.useMathJax = true;\nvar board = JXG.JSXGraph.initBoard('box', {boundingbox: [-10, 10, 11, -10], axis:true, showCopyright: false});\n  \nvar gr = board.create('grid');\n\n\nvar a = board.create('slider', [[8,-5],[8,5],[-Math.PI / 2, Math.PI / 4 , Math.PI / 2]],{ snapWidth: 0.01 });\n\nvar c = board.create('slider', [[-8,-5],[-8,5],[-10,0,10]],{snapWidth: 0.1, precision: 1,\n                                                          ticks: { drawZero: true, drawLabels: true, ticksDistance: 1,\n                                                                  minTicksDistance: 5, // insertTicks: true,\n                                                                  tickEndings: [1,0],\n                                                                  label: {position: 'lft', offset: [-20,0]}},\n                                                          name: \"c\"});\n\nvar cval = function(){return c.Value();};\nvar T = board.create('point', [0,cval], {name: \"T\", label: \"T\", strokeColor: 'purple', face: 'cross'});\nvar mval = function(){return Math.tan(a.Value());}; //using tangent function\nvar linF0 = function(x){return mval()*x};\nvar linF = function(x){return mval()*x + cval()};\nvar G0 = board.create('functiongraph',[linF0,-5,5], {strokeWidth: 1, dash: 2});\nvar G = board.create('functiongraph',[linF,-5,5], {strokeWidth: 2});\n\nvar ftextval = function(){\n  var vz = \"\";\n  var cv = \"\";\n  if (cval() >= 0.0) {\n      if (cval() == 0.0){\n          cv = \"\"; vz = \"\";\n      } \n      else {\n          vz = \"+\"; \n          cv = JXG.toFixed(cval(),1);\n      }\n  }\n  else {\n      vz = \"\"; \n      cv = JXG.toFixed(cval(),1);\n  };\n\n  if ( mval() > 1252 || mval() < -1252) {\n      vz = \"+\";\n      cv = NaN;\n  }\n\n  return \"\\\\[f(x)=\"+ (mval() > 1252 || mval() < -1252  ? NaN : JXG.toFixed(mval(),2)) + \" \\\\cdot x\" + vz + cv + \"\\\\]\";\n};\n\nvar ftext = board.create('text', [-4.0,8.0,ftextval], {fontSize: 18, color:'blue', cssStyle: 'background-color: rgb(255,255,255)'});\nvar dt = board.create('segment',[[0,0],[0,cval]],{strokeColor: 'purple', strokeWidth: 3});\nvar A = board.create('glider', [1,2,G], {label: {offset: [0,-15]}});\nvar tangent = board.create('tangent', [A]);\nvar st = board.create('slopetriangle', [tangent], {toppoint: {face: 'plus', withLabel: false}});\n\nvar approachpstvinf = function(){\n    var txt = \"\";\n    if (mval() > 1252) {\n        txt = \"Line slope approaches infinity\"\n    }\n    return txt;\n}\n\nvar approachngtvinf = function() {\n    var txt = \"\";\n    if (mval() < -1252) {\n        txt = \"Line slope approaches -infinity\";\n    }\n\n    return txt;\n}\n\nvar c_infinity = function() {\n    var txt = \"\";\n    if (mval() < -1252 || mval() > 1252) {\n        txt = \"Infinite number of y-intercepts\" \n    }\n\n    return txt;\n}\n\nvar approachpstvinftext = board.create('text', [4, 7, approachpstvinf ], {fontSize: 14});\nvar approachngtvinftext = board.create('text', [4, -7, approachngtvinf], {fontSize: 14});\nvar c_infinitytext = board.create('text', [-7, 1, c_infinity], {fontSize: 14});\n\n//overwrites the text value of slider a with the m value\nvar m_text = board.create('text', [7.5,5.5, function(){\n    var txt = \"m = \"+ (mval() > 1252 || mval() < -1252  ? NaN : JXG.toFixed(mval(),2))\n    return txt;\n}], {fontSize: 14, cssStyle: 'background-color: rgb(255,255,255)'})",
              "layout": "IPY_MODEL_ef904be530a3422cb6f9fbb51c0d552e"
            }
          },
          "eeefec4b52f8426fa09db0e8db96cc42": {
            "model_name": "LayoutModel",
            "model_module": "@jupyter-widgets/base",
            "model_module_version": "1.2.0",
            "state": {}
          },
          "74ebe0c3cc8543bab792e40e7a46e634": {
            "model_name": "JSWidgetModel",
            "model_module": "jupyter-divewidgets",
            "model_module_version": "^0.1.5",
            "state": {
              "_model_module_version": "^0.1.5",
              "_view_module_version": "^0.1.5",
              "html": "<!DOCTYPE html>\n<html>\n    <head>\n    <style>\n    html, body {\n        height: 100%;\n    }\n    body {\n        width: 100%;\n        display: flex;\n        padding: 0;\n        margin: 0;\n    }\n    .jxgbox {\n        width:100%; \n        flex-grow: 1;\n    }\n    </style>\n    <link rel=\"stylesheet\" type=\"text/css\" href=\"https://jsxgraph.org/distrib/jsxgraph.css\" />\n    <script type=\"text/javascript\" src=\"https://cdn.jsdelivr.net/npm/jsxgraph/distrib/jsxgraphcore.js\"></script>\n    <script type=\"text/javascript\" src=\"https://cdn.jsdelivr.net/npm/mathjax@3/es5/tex-chtml.js\"></script>\n    </head>\n<body>\n<div id=\"box\" class=\"jxgbox\"></div>\n</body>\n</html>",
              "js": "var board = JXG.JSXGraph.initBoard('box', {boundingbox:[-5,5,4,-5], axis: true, grid: true, showCopyright: false});\n\nvar rise = board.create('slider', [[3, -1.5],[3, 1.5],[-3, 2, 3]], {name:'rise', snapWidth: 0.1})\nvar run = board.create('slider', [[-1.5, -4], [1.5, -4], [-3, 1.5, 3]], {name:'run', snapWidth: 0.1})\n\nvar A = board.create('point', [-1,-1]),\n    B = board.create('point', [function(){return run.Value() - 1}, -1]),\n    C = board.create('point', [function(){return run.Value() - 1}, function(){return rise.Value() - 1}]),\n    alpha = board.create('nonreflexangle', [B,A,C], {type:'sector', orthoType:'sectordot', orthoSensitivity:2, radius:0.5})\n    beta = board.create('nonreflexangle', [C,B,A], {type:'sector', orthoType:'square', orthoSensitivity:2, radius:0.2});\n\nvar triArr1 = [A, B, C];\nvar tri = board.createElement('polygon',triArr1,{strokeWidth:2, strokeColor:'#dd00dd',highlight:false});\n\nvar li = board.create('line', ['A', 'C'], {strokeColor:'#00ff00',strokeWidth:2})",
              "layout": "IPY_MODEL_eeefec4b52f8426fa09db0e8db96cc42"
            }
          },
          "7114d86b3f7145ac8e67b12c602478dd": {
            "model_name": "LayoutModel",
            "model_module": "@jupyter-widgets/base",
            "model_module_version": "1.2.0",
            "state": {}
          },
          "4a00d2958bd24123808ece36d771f85b": {
            "model_name": "JSWidgetModel",
            "model_module": "jupyter-divewidgets",
            "model_module_version": "^0.1.5",
            "state": {
              "_model_module_version": "^0.1.5",
              "_view_module_version": "^0.1.5",
              "html": "<!DOCTYPE html>\n<html>\n    <head>\n    <style>\n    html, body {\n        height: 100%;\n    }\n    body {\n        width: 100%;\n        display: flex;\n        padding: 0;\n        margin: 0;\n    }\n    .jxgbox {\n        width:100%; \n        flex-grow: 1;\n    }\n    </style>\n    <link rel=\"stylesheet\" type=\"text/css\" href=\"https://jsxgraph.org/distrib/jsxgraph.css\" />\n    <script type=\"text/javascript\" src=\"https://cdn.jsdelivr.net/npm/jsxgraph/distrib/jsxgraphcore.js\"></script>\n    <script type=\"text/javascript\" src=\"https://cdn.jsdelivr.net/npm/mathjax@3/es5/tex-chtml.js\"></script>\n    </head>\n<body>\n<div id=\"box\" class=\"jxgbox\"></div>\n</body>\n</html>",
              "js": "var board = JXG.JSXGraph.initBoard('box', {boundingbox: [-14, 14, 14, -14], axis:true, grid:true,  showCopyright:false});\nvar p1 = board.create('point',[-6,-5], {name:'A'});\nvar p2 = board.create('point',[7,4], {name:'B'});\n\nvar li1 = board.create('line',[p1,p2], {straightFirst:false, straightLast:false, strokeWidth:2, dash:2})",
              "layout": "IPY_MODEL_7114d86b3f7145ac8e67b12c602478dd"
            }
          },
          "3172d6fff5044fc3a1a11c6b7200fce1": {
            "model_name": "LayoutModel",
            "model_module": "@jupyter-widgets/base",
            "model_module_version": "1.2.0",
            "state": {}
          },
          "6682a06c9ca9464795037a6a10352993": {
            "model_name": "JSWidgetModel",
            "model_module": "jupyter-divewidgets",
            "model_module_version": "^0.1.5",
            "state": {
              "_model_module_version": "^0.1.5",
              "_view_module_version": "^0.1.5",
              "html": "<!DOCTYPE html>\n<html>\n    <head>\n    <style>\n    html, body {\n        height: 100%;\n    }\n    body {\n        width: 100%;\n        display: flex;\n        padding: 0;\n        margin: 0;\n    }\n    .jxgbox {\n        width:100%; \n        flex-grow: 1;\n    }\n    </style>\n    <link rel=\"stylesheet\" type=\"text/css\" href=\"https://jsxgraph.org/distrib/jsxgraph.css\" />\n    <script type=\"text/javascript\" src=\"https://cdn.jsdelivr.net/npm/jsxgraph/distrib/jsxgraphcore.js\"></script>\n    <script type=\"text/javascript\" src=\"https://cdn.jsdelivr.net/npm/mathjax@3/es5/tex-chtml.js\"></script>\n    </head>\n<body>\n<div id=\"box\" class=\"jxgbox\"></div>\n</body>\n</html>",
              "js": "JXG.Options.text.useMathJax = true;\nvar board = JXG.JSXGraph.initBoard('box', {boundingbox: [-14, 14, 14, -14], axis:true, grid:true,  showCopyright:false});\n\nvar p1 = board.create('text', [-13, -11.5, function(){return 'Point A'}]);\nvar x1 = board.create(\"slider\", [[-11, -11], [-4, -11], [-8, -6, 8]], {name:'x1', snapWidth: 0.1})\nvar y1 = board.create(\"slider\", [[-11, -12], [-4,-12], [-8, -5, 8]], {name:'y1', snapWidth: 0.1})\n\nvar p2 = board.create('text', [1, -11.5, function(){return 'Point B' }]);\nvar x2 = board.create(\"slider\", [[3, -11], [10, -11], [-8, 7, 8]], {name:'x2', snapWidth: 0.1})\nvar y2 = board.create(\"slider\", [[3, -12], [10, -12], [-8, 4, 8]], {name:'y2', snapWidth: 0.1})\n\nmval = function(){return ((x2.Value() - x1.Value()).toFixed(2) == 0 ? \"Undefined\" : \n                          ((y2.Value().toFixed(2) - y1.Value()).toFixed(2) / (x2.Value().toFixed(2) - x1.Value().toFixed(2))).toFixed(2))}\n\ncval = function(){return ((x2.Value() - x1.Value()).toFixed(2) == 0 ? \"Undefined\" : \n                          (y1.Value().toFixed(2) - x1.Value().toFixed(2)*((y2.Value().toFixed(2) - y1.Value()).toFixed(2) / (x2.Value().toFixed(2) - x1.Value().toFixed(2))).toFixed(2)).toFixed(2))}\n\n/*points*/\nvar pA = board.create('point',[\n                 function(){return x1.Value();},\n                 function(){return y1.Value();}],\n                 {name:'A',size:2})\n\nvar pB = board.create('point',[\n                 function(){return x2.Value();},\n                 function(){return y2.Value();}],\n                 {name:'B',size:2})\n\n/*line and slope*/\nvar li = board.create('line',[\"A\",\"B\"], {strokeColor:'#00ff00',strokeWidth:2});\n\nvar slope = board.create(\"text\", [3, 10.5, function(){\n    return String.raw`\n    The Slope is\n            \\begin{align*}\n              \\frac{y2-y1}{x2-x1} &= \\frac{${y2.Value().toFixed(2)} - ${y1.Value().toFixed(2)}}{${x2.Value().toFixed(2)} - ${x1.Value().toFixed(2)}}\\\\\n              &= ${mval()}\n            \\end{align*}`;\n}])\n\n/*equation*/\nvar ftextval = function(){\n    \n  var vz = \"\"; //sign\n  var cv = \"\";\n\n  if (cval() >= 0.0 || isNaN(cval())) {\n        if (cval() == 0.0 || isNaN(cval())){\n            cv = \"\"; vz = \"\";\n        } \n        else {\n            vz = \"+\"; cv = JXG.toFixed(cval(),2);\n        }\n  }\n  else {\n      vz = \"\"; cv = JXG.toFixed(cval(),2);\n  };\n\n  if (pA.X() === pB.X() && (pA.Y() !== pB.Y())) {\n        vz = \"+\";\n        cv = NaN;\n    }\n  return \"\\\\[f(x)=\"+ JXG.toFixed(mval(),2) + \" \\\\cdot x\" + vz + cv + \"\\\\]\";\n};\n\nvar ftext = board.create('text', [-12,11,ftextval], {fontSize: 18, color:'blue', cssStyle: 'background-color: rgb(255,255,255)'});\n\nvar c_infinity = function() {\n    var txt = \"\";\n    if (pA.X() === 0 && pB.X() && (pA.Y() !== pB.Y())) {\n        txt = \"Infinite number of y-intercepts\" \n    }\n\n    return txt;\n}",
              "layout": "IPY_MODEL_3172d6fff5044fc3a1a11c6b7200fce1"
            }
          },
          "b9470b9040be417eba7d98755ea714a2": {
            "model_name": "LayoutModel",
            "model_module": "@jupyter-widgets/base",
            "model_module_version": "1.2.0",
            "state": {}
          },
          "ea27a4867d4944e7a260313c9170aa73": {
            "model_name": "JSWidgetModel",
            "model_module": "jupyter-divewidgets",
            "model_module_version": "^0.1.5",
            "state": {
              "_model_module_version": "^0.1.5",
              "_view_module_version": "^0.1.5",
              "html": "<!DOCTYPE html>\n<html>\n    <head>\n    <style>\n    html, body {\n        height: 100%;\n    }\n    body {\n        width: 100%;\n        display: flex;\n        padding: 0;\n        margin: 0;\n    }\n    .jxgbox {\n        width:100%; \n        flex-grow: 1;\n    }\n    </style>\n    <link rel=\"stylesheet\" type=\"text/css\" href=\"https://jsxgraph.org/distrib/jsxgraph.css\" />\n    <script type=\"text/javascript\" src=\"https://cdn.jsdelivr.net/npm/jsxgraph/distrib/jsxgraphcore.js\"></script>\n    <script type=\"text/javascript\" src=\"https://cdn.jsdelivr.net/npm/mathjax@3/es5/tex-chtml.js\"></script>\n    </head>\n<body>\n<div id=\"box\" class=\"jxgbox\"></div>\n</body>\n</html>",
              "js": "JXG.Options.text.useMathJax = true;\nvar board = JXG.JSXGraph.initBoard('box', {boundingbox: [-7, 7, 7, -7], axis:true, grid:true,  showCopyright:false});\n\nvar p1 = board.create('point', [4.5, 2.0]);\nvar p2 = board.create('point', [20, 20]);\nvar li1 = board.create('line', [p1, p2]);\n\nvar m = board.create(\"text\",[3, -5, function() {return 'm = ' + ((p2.Y()- p1.Y())/(p2.X() - p1.X())).toFixed(2)}], { fontSize: 18})\n\nvar c= board.create(\"text\", [3, 5, function(){\n    return String.raw`\n    The \\(y\\)-intercept is\n            \\begin{align*}\n              y - mx = ${(p1.Y() - ((p2.Y() - p1.Y())/(p2.X()- p1.X())).toFixed(2)*p1.X()).toFixed(2)}\n            \\end{align*}`;\n}])\n\nvar cval = function() {return (p1.Y() - ((p2.Y() - p1.Y())/(p2.X()- p1.X())).toFixed(2)*p1.X()).toFixed(2)}\nvar mval = function() {return ((p2.Y()- p1.Y())/(p2.X() - p1.X())).toFixed(2)}\n\nvar ftextval = function(){\n    \n  var vz = \"\"; //sign\n  var cv = \"\";\n\n  if (cval() >= 0.0 || isNaN(cval())) {\n        if (cval() == 0.0 || isNaN(cval())){\n            cv = \"\"; vz = \"\";\n        } \n        else {\n            vz = \"+\"; cv = JXG.toFixed(cval(),2);\n        }\n  }\n  else {\n      vz = \"\"; cv = JXG.toFixed(cval(),2);\n  };\n  return \"\\\\[f(x)=\"+ JXG.toFixed(mval(),2) + \" \\\\cdot x\" + vz + cv + \"\\\\]\";\n};\n\nvar ftext = board.create('text', [-6,5,ftextval], {fontSize: 18, color:'blue', cssStyle: 'background-color: rgb(255,255,255)'});",
              "layout": "IPY_MODEL_b9470b9040be417eba7d98755ea714a2"
            }
          },
          "15341945fa36487aa88567d9feaeda0e": {
            "model_name": "LayoutModel",
            "model_module": "@jupyter-widgets/base",
            "model_module_version": "1.2.0",
            "state": {}
          },
          "b4d40f6db2004443bc13c0a400712afc": {
            "model_name": "JSWidgetModel",
            "model_module": "jupyter-divewidgets",
            "model_module_version": "^0.1.5",
            "state": {
              "_model_module_version": "^0.1.5",
              "_view_module_version": "^0.1.5",
              "html": "<!DOCTYPE html>\n<html>\n    <head>\n    <style>\n    html, body {\n        height: 100%;\n    }\n    body {\n        width: 100%;\n        display: flex;\n        padding: 0;\n        margin: 0;\n    }\n    .jxgbox {\n        width:100%; \n        flex-grow: 1;\n    }\n    </style>\n    <link rel=\"stylesheet\" type=\"text/css\" href=\"https://jsxgraph.org/distrib/jsxgraph.css\" />\n    <script type=\"text/javascript\" src=\"https://cdn.jsdelivr.net/npm/jsxgraph/distrib/jsxgraphcore.js\"></script>\n    <script type=\"text/javascript\" src=\"https://cdn.jsdelivr.net/npm/mathjax@3/es5/tex-chtml.js\"></script>\n    </head>\n<body>\n<div id=\"box\" class=\"jxgbox\"></div>\n</body>\n</html>",
              "js": "//JXG.Options.text.useMathJax = true;\nvar board = JXG.JSXGraph.initBoard('box', {\n    axis:true,\n    boundingbox:[-10, 10, 10, -10],\n    showCopyright: false,\n});\n\nvar gr = board.create('grid');\n\n//line1\nvar p1 = board.create('point', [6, 4], {size: 2})   //A\nvar p2 = board.create('point', [-4, -6], {size: 2}) //B\nvar li1 = board.create('line', [p1, p2])\n\nvar m1 = function(){\n    return ((p2.Y()- p1.Y())/(p2.X() - p1.X()))\n}\n\nvar c1 = function(){\n    return (p1.Y() - ((p2.Y() - p1.Y())/(p2.X()- p1.X()))*p1.X())\n}\n\n//line2\nvar p3 = board.create('point', [6, 8], {size: 2})   //C\nvar p4 = board.create('point', [-7, -5], {size: 2}) //D\nvar li2 = board.create('line', [p3, p4])\n\nvar m2 = function(){\n    return ((p4.Y()- p3.Y())/(p4.X() - p3.X()))\n}\n\nvar c2 = function(){\n    return (p3.Y() - ((p4.Y() - p3.Y())/(p4.X()- p3.X()))*p3.X())\n}\n\n//intersection\nvar i = board.create('intersection', [li1, li2], {face: 'x', size: 2})\n\n//text\nvar ftextval1 = function(){\n    \n  var vz = \"\"; //sign\n  var cv = \"\";\n\n  if (c1() >= 0.0 || isNaN(c1())) {\n        if (c1() == 0.0 || isNaN(c1())){\n            cv = \"\"; vz = \"\";\n        } \n        else {\n            vz = \"+\"; cv = JXG.toFixed(c1(),2);\n        }\n  }\n  else {\n      vz = \"\"; cv = JXG.toFixed(c1(),2);\n  };\n  return \"Line AB f(x) = \"+ JXG.toFixed(m1(),2) + \"x \" + vz + \" \" + cv;\n};\n\nvar ftextval2 = function(){\n    \n  var vz = \"\"; //sign\n  var cv = \"\";\n\n  if (c2() >= 0.0 || isNaN(c2())) {\n        if (c2() == 0.0 || isNaN(c2())){\n            cv = \"\"; vz = \"\";\n        } \n        else {\n            vz = \"+\"; cv = JXG.toFixed(c2(),2);\n        }\n  }\n  else {\n      vz = \"\"; cv = JXG.toFixed(c2(),2);\n  };\n  return \"Line CD f(x) = \"+ JXG.toFixed(m2(),2) + \"x \" + vz + \" \" + cv;\n};\n\nvar ftext1 = board.create('text', [3,-5.5,ftextval1], {fontSize: 15});\nvar ftext2 = board.create('text', [3,-7,ftextval2], {fontSize: 15});\n\n\n//x-coordinate intersection\nvar xi = function() {\n    return JXG.toFixed(((c2() - c1()) / (m1() - m2())),2)\n}\n\n//y-coordinate intersection\nvar yi = function() {\n    return JXG.toFixed((m2()*((c2() - c1()) / (m1() - m2())) + c2()), 2)\n}\n\n// A toggle button\nvar butt = board.create('button', [-8, 8, 'Show Intersection Point', function() {\n  var txt;\n  butt.value = !butt.value;\n  if (butt.value) {\n  \ttxt = 'Close';\n  } else {\n  \ttxt = 'Show Intersection Point';\n  }\n\tbutt.rendNodeButton.innerHTML = txt;\n}]);\n\n// Set initial value for the button\nif (!JXG.exists(butt.value)) {\n\tbutt.value = false;\n}\n\n/*var p = board.create('point', [2, -2], {\n\tvisible: () => butt.value\n\n});*/\n\nvar coordinate = board.create('text', [-9.5, 7, function() {\n    return \"The Coordinate of Intersection is E\" + '(' + xi() + ',' + yi() + ')'; \n}], {fontSize: 13, color:'blue', visible: () => butt.value})",
              "layout": "IPY_MODEL_15341945fa36487aa88567d9feaeda0e"
            }
          }
        }
      }
    }
  },
  "nbformat_minor": 5,
  "nbformat": 4,
  "cells": [
    {
      "cell_type": "markdown",
      "source": "# Equation of a Straight Line",
      "metadata": {},
      "id": "fa776864-0602-40bf-ab97-7e984276dcd5"
    },
    {
      "cell_type": "markdown",
      "source": "**DIVE into Math**\n\n---",
      "metadata": {},
      "id": "889bc3e0-5ac6-416e-862b-d425299868c7"
    },
    {
      "cell_type": "markdown",
      "source": "Contributor(s): \n\n- Alvin THOSATRIA\n- Chao Zhao\n- Chung Chan\n\n---",
      "metadata": {},
      "id": "9a252510-912e-4185-96fe-cd5ac18fa554"
    },
    {
      "cell_type": "code",
      "source": "%reload_ext divewidgets",
      "metadata": {
        "trusted": true
      },
      "execution_count": 1,
      "outputs": [],
      "id": "1bc7e729-4a98-43b9-a71c-ef7ebdccd9cd"
    },
    {
      "cell_type": "markdown",
      "source": "##  Fundamental concepts of straight line",
      "metadata": {},
      "id": "db73300e-c120-4ce6-ac3f-bcf83d5e327b"
    },
    {
      "cell_type": "markdown",
      "source": "On a 2D plane, a non-vertical line consists of the set of points $(x,y)\\in \\mathbb{R}^2$ satisfying the equation\n\n$$\n\\begin{align}\ny &= mx + c \\tag{line}\n\\end{align}\n$$\n\nfor some numbers \n- $m\\in \\mathbb{R}$, called the *slope*, and \n- $c\\in \\mathbb{R}$, called the *y-intercept*.",
      "metadata": {},
      "id": "c62c7bab-fa70-4e39-ae89-93339a509ca6"
    },
    {
      "cell_type": "markdown",
      "source": "In the following plot of the line $y$ against $x$, drag the sliders below to understand how the line changes with $m$ and $c$.",
      "metadata": {},
      "id": "90511bbf-3b27-4c35-9ade-d07079e633eb"
    },
    {
      "cell_type": "code",
      "source": "%%jsxgraph\nJXG.Options.text.useMathJax = true;\nvar board = JXG.JSXGraph.initBoard('box', {boundingbox: [-10, 10, 11, -10], axis:true, showCopyright: false});\n  \nvar gr = board.create('grid');\n\n\nvar a = board.create('slider', [[8,-5],[8,5],[-Math.PI / 2, Math.PI / 4 , Math.PI / 2]],{ snapWidth: 0.01 });\n\nvar c = board.create('slider', [[-8,-5],[-8,5],[-10,0,10]],{snapWidth: 0.1, precision: 1,\n                                                          ticks: { drawZero: true, drawLabels: true, ticksDistance: 1,\n                                                                  minTicksDistance: 5, // insertTicks: true,\n                                                                  tickEndings: [1,0],\n                                                                  label: {position: 'lft', offset: [-20,0]}},\n                                                          name: \"c\"});\n\nvar cval = function(){return c.Value();};\nvar T = board.create('point', [0,cval], {name: \"T\", label: \"T\", strokeColor: 'purple', face: 'cross'});\nvar mval = function(){return Math.tan(a.Value());}; //using tangent function\nvar linF0 = function(x){return mval()*x};\nvar linF = function(x){return mval()*x + cval()};\nvar G0 = board.create('functiongraph',[linF0,-5,5], {strokeWidth: 1, dash: 2});\nvar G = board.create('functiongraph',[linF,-5,5], {strokeWidth: 2});\n\nvar ftextval = function(){\n  var vz = \"\";\n  var cv = \"\";\n  if (cval() >= 0.0) {\n      if (cval() == 0.0){\n          cv = \"\"; vz = \"\";\n      } \n      else {\n          vz = \"+\"; \n          cv = JXG.toFixed(cval(),1);\n      }\n  }\n  else {\n      vz = \"\"; \n      cv = JXG.toFixed(cval(),1);\n  };\n\n  if ( mval() > 1252 || mval() < -1252) {\n      vz = \"+\";\n      cv = NaN;\n  }\n\n  return \"\\\\[f(x)=\"+ (mval() > 1252 || mval() < -1252  ? NaN : JXG.toFixed(mval(),2)) + \" \\\\cdot x\" + vz + cv + \"\\\\]\";\n};\n\nvar ftext = board.create('text', [-4.0,8.0,ftextval], {fontSize: 18, color:'blue', cssStyle: 'background-color: rgb(255,255,255)'});\nvar dt = board.create('segment',[[0,0],[0,cval]],{strokeColor: 'purple', strokeWidth: 3});\nvar A = board.create('glider', [1,2,G], {label: {offset: [0,-15]}});\nvar tangent = board.create('tangent', [A]);\nvar st = board.create('slopetriangle', [tangent], {toppoint: {face: 'plus', withLabel: false}});\n\nvar approachpstvinf = function(){\n    var txt = \"\";\n    if (mval() > 1252) {\n        txt = \"Line slope approaches infinity\"\n    }\n    return txt;\n}\n\nvar approachngtvinf = function() {\n    var txt = \"\";\n    if (mval() < -1252) {\n        txt = \"Line slope approaches -infinity\";\n    }\n\n    return txt;\n}\n\nvar c_infinity = function() {\n    var txt = \"\";\n    if (mval() < -1252 || mval() > 1252) {\n        txt = \"Infinite number of y-intercepts\" \n    }\n\n    return txt;\n}\n\nvar approachpstvinftext = board.create('text', [4, 7, approachpstvinf ], {fontSize: 14});\nvar approachngtvinftext = board.create('text', [4, -7, approachngtvinf], {fontSize: 14});\nvar c_infinitytext = board.create('text', [-7, 1, c_infinity], {fontSize: 14});\n\n//overwrites the text value of slider a with the m value\nvar m_text = board.create('text', [7.5,5.5, function(){\n    var txt = \"m = \"+ (mval() > 1252 || mval() < -1252  ? NaN : JXG.toFixed(mval(),2))\n    return txt;\n}], {fontSize: 14, cssStyle: 'background-color: rgb(255,255,255)'})",
      "metadata": {
        "trusted": true
      },
      "execution_count": 2,
      "outputs": [
        {
          "output_type": "display_data",
          "data": {
            "application/vnd.jupyter.widget-view+json": {
              "model_id": "7152be526ead4159b0113676eb203a19",
              "version_major": 2,
              "version_minor": 0
            },
            "text/plain": "JSWidget(value=None, height=600, html='<!DOCTYPE html>\\n<html>\\n    <head>\\n    <style>\\n    html, body {\\n   …"
          },
          "metadata": {}
        }
      ],
      "id": "247dba5e-cef8-4f6d-b408-b9ba2d545ce8"
    },
    {
      "cell_type": "markdown",
      "source": "The line is said to be\n- inclined if $0<m<\\infty$,\n- horizontal if $m=0$,\n- declined if $-\\infty <m<0$.",
      "metadata": {},
      "id": "ed6d8964-a43c-4fdc-89e5-9d2711fd1cb0"
    },
    {
      "cell_type": "markdown",
      "source": "Given the line contains two distinct points $(x_1, y_1), (x_2,y_2)\\in \\mathbb{R}^2:x_1\\neq x_2$, the slope can be calculated as\n\n$$\n\\begin{align*}\nm &= \\frac{\\Delta y}{\\Delta x} = \n\\frac{y_2-y_1}{x_2-x_1} \\tag{rise-over-run}\n\\end{align*}\n$$ \n\nnamely, the rise $\\Delta y$ in the $y$-coordinate divided by the run $\\Delta x$ in the $x$-coordinate.",
      "metadata": {},
      "id": "ed87b59d-442c-4c01-9fab-e5e90b9afee9"
    },
    {
      "cell_type": "markdown",
      "source": "In trigonometry, the *tangent* function is defined as  \n\n$$\n\\begin{align}\nm = \\tan \\alpha,\\tag{inclination}\n\\end{align}\n$$\n\nwhere $\\alpha$ is the angle of inclination for the line of slope $m$.",
      "metadata": {},
      "id": "f82e02d9-d266-4e01-8f3c-8a98b44cef0d"
    },
    {
      "cell_type": "code",
      "source": "%%jsxgraph\nvar board = JXG.JSXGraph.initBoard('box', {boundingbox:[-5,5,4,-5], axis: true, grid: true, showCopyright: false});\n\nvar rise = board.create('slider', [[3, -1.5],[3, 1.5],[-3, 2, 3]], {name:'rise', snapWidth: 0.1})\nvar run = board.create('slider', [[-1.5, -4], [1.5, -4], [-3, 1.5, 3]], {name:'run', snapWidth: 0.1})\n\nvar A = board.create('point', [-1,-1]),\n    B = board.create('point', [function(){return run.Value() - 1}, -1]),\n    C = board.create('point', [function(){return run.Value() - 1}, function(){return rise.Value() - 1}]),\n    alpha = board.create('nonreflexangle', [B,A,C], {type:'sector', orthoType:'sectordot', orthoSensitivity:2, radius:0.5})\n    beta = board.create('nonreflexangle', [C,B,A], {type:'sector', orthoType:'square', orthoSensitivity:2, radius:0.2});\n\nvar triArr1 = [A, B, C];\nvar tri = board.createElement('polygon',triArr1,{strokeWidth:2, strokeColor:'#dd00dd',highlight:false});\n\nvar li = board.create('line', ['A', 'C'], {strokeColor:'#00ff00',strokeWidth:2})",
      "metadata": {
        "trusted": true
      },
      "execution_count": 3,
      "outputs": [
        {
          "output_type": "display_data",
          "data": {
            "application/vnd.jupyter.widget-view+json": {
              "model_id": "74ebe0c3cc8543bab792e40e7a46e634",
              "version_major": 2,
              "version_minor": 0
            },
            "text/plain": "JSWidget(value=None, height=600, html='<!DOCTYPE html>\\n<html>\\n    <head>\\n    <style>\\n    html, body {\\n   …"
          },
          "metadata": {}
        }
      ],
      "id": "49ca1e50-1ed8-4150-95f1-3f694b3e4dda"
    },
    {
      "cell_type": "markdown",
      "source": "**Exercise** \n\nBy dragging the slide below, identify some properties of the tangent function\n\n$$\n\\begin{align}\n\\tan \\alpha = \\frac{\\Delta y}{\\Delta x}\n\\end{align}\n$$\n\nwhen the angle of inclination, rise and run are all positive. E.g. Is tangent a strictly increasing function?",
      "metadata": {},
      "id": "f12b5050-9815-4a74-9b81-7da170c057c3"
    },
    {
      "cell_type": "markdown",
      "source": "YOUR ANSWER HERE",
      "metadata": {
        "deletable": false,
        "nbgrader": {
          "cell_type": "markdown",
          "checksum": "11b903531c3dc15001aba9cee6eb2924",
          "grade": true,
          "grade_id": "p1",
          "locked": false,
          "points": 1,
          "schema_version": 3,
          "solution": true,
          "task": false
        },
        "tags": []
      },
      "id": "128a1448-e4a4-40a1-b9ef-b8cdfce2d870"
    },
    {
      "cell_type": "markdown",
      "source": "## Finding equation of straight line",
      "metadata": {},
      "id": "a957edfc-4578-4045-8708-c652ed43deff"
    },
    {
      "cell_type": "markdown",
      "source": "The equation can be found when parameters are given such as a slope, coordinate of point(s) on the line, or the y-intercept.\n\nFor this exercise, the parameters you have are two coordinates $A (-6, -5)$ and $B (7, 4)$ on the graph. The straight line that needs to be found is prototyped with a dashed line. How do you find the linear equation from this condition?\n\nHover onto the points $A$ and $B$ to display the coordinates.",
      "metadata": {},
      "id": "2c4d1482-438c-4f3d-8476-6880dba43389"
    },
    {
      "cell_type": "code",
      "source": "%%jsxgraph\nvar board = JXG.JSXGraph.initBoard('box', {boundingbox: [-14, 14, 14, -14], axis:true, grid:true,  showCopyright:false});\nvar p1 = board.create('point',[-6,-5], {name:'A'});\nvar p2 = board.create('point',[7,4], {name:'B'});\n\nvar li1 = board.create('line',[p1,p2], {straightFirst:false, straightLast:false, strokeWidth:2, dash:2})",
      "metadata": {
        "trusted": true
      },
      "execution_count": 4,
      "outputs": [
        {
          "output_type": "display_data",
          "data": {
            "application/vnd.jupyter.widget-view+json": {
              "model_id": "4a00d2958bd24123808ece36d771f85b",
              "version_major": 2,
              "version_minor": 0
            },
            "text/plain": "JSWidget(value=None, height=600, html='<!DOCTYPE html>\\n<html>\\n    <head>\\n    <style>\\n    html, body {\\n   …"
          },
          "metadata": {}
        }
      ],
      "id": "1dcc9ed1-5b1a-4812-921e-1de2cbb05b2a"
    },
    {
      "cell_type": "markdown",
      "source": "## Determining the linear equation",
      "metadata": {},
      "id": "aa1f6b3c-deff-43f6-9e89-50c6f91ba3ea"
    },
    {
      "cell_type": "markdown",
      "source": "\nTo find the equation of the line from the two points:\n\n*   The gradient $m$ is first determined;\n*   Any points that lies on the straight line can be subsituted into $x$ and $y$ to find $c$ (y-intercept);\n*   The linear equation is $y= mx + c$. \n\nIn the following plot of the line, drag the sliders to change the $x$ and $y$ coordinates of the two points $A(x_1, y_1)$ or $B(x_2, y_2)$. For this example, $x$ and $y$ values are between -8 and 8 inclusive. \n\n\n```{note}\nSlope is undefined when line is vertical which results in NaN value (Not a Number). This is due to the change of x (run) equals to zero. $\\frac{\\delta y}{0} = \\infty$.\n```\n\n\nWith JSXGraph, the slope calculation and the equation can be visualized.",
      "metadata": {},
      "id": "0ffc91ef-3014-43b3-ae71-71d53e752230"
    },
    {
      "cell_type": "code",
      "source": "%%jsxgraph\nJXG.Options.text.useMathJax = true;\nvar board = JXG.JSXGraph.initBoard('box', {boundingbox: [-14, 14, 14, -14], axis:true, grid:true,  showCopyright:false});\n\nvar p1 = board.create('text', [-13, -11.5, function(){return 'Point A'}]);\nvar x1 = board.create(\"slider\", [[-11, -11], [-4, -11], [-8, -6, 8]], {name:'x1', snapWidth: 0.1})\nvar y1 = board.create(\"slider\", [[-11, -12], [-4,-12], [-8, -5, 8]], {name:'y1', snapWidth: 0.1})\n\nvar p2 = board.create('text', [1, -11.5, function(){return 'Point B' }]);\nvar x2 = board.create(\"slider\", [[3, -11], [10, -11], [-8, 7, 8]], {name:'x2', snapWidth: 0.1})\nvar y2 = board.create(\"slider\", [[3, -12], [10, -12], [-8, 4, 8]], {name:'y2', snapWidth: 0.1})\n\nmval = function(){return ((x2.Value() - x1.Value()).toFixed(2) == 0 ? \"Undefined\" : \n                          ((y2.Value().toFixed(2) - y1.Value()).toFixed(2) / (x2.Value().toFixed(2) - x1.Value().toFixed(2))).toFixed(2))}\n\ncval = function(){return ((x2.Value() - x1.Value()).toFixed(2) == 0 ? \"Undefined\" : \n                          (y1.Value().toFixed(2) - x1.Value().toFixed(2)*((y2.Value().toFixed(2) - y1.Value()).toFixed(2) / (x2.Value().toFixed(2) - x1.Value().toFixed(2))).toFixed(2)).toFixed(2))}\n\n/*points*/\nvar pA = board.create('point',[\n                 function(){return x1.Value();},\n                 function(){return y1.Value();}],\n                 {name:'A',size:2})\n\nvar pB = board.create('point',[\n                 function(){return x2.Value();},\n                 function(){return y2.Value();}],\n                 {name:'B',size:2})\n\n/*line and slope*/\nvar li = board.create('line',[\"A\",\"B\"], {strokeColor:'#00ff00',strokeWidth:2});\n\nvar slope = board.create(\"text\", [3, 10.5, function(){\n    return String.raw`\n    The Slope is\n            \\begin{align*}\n              \\frac{y2-y1}{x2-x1} &= \\frac{${y2.Value().toFixed(2)} - ${y1.Value().toFixed(2)}}{${x2.Value().toFixed(2)} - ${x1.Value().toFixed(2)}}\\\\\n              &= ${mval()}\n            \\end{align*}`;\n}])\n\n/*equation*/\nvar ftextval = function(){\n    \n  var vz = \"\"; //sign\n  var cv = \"\";\n\n  if (cval() >= 0.0 || isNaN(cval())) {\n        if (cval() == 0.0 || isNaN(cval())){\n            cv = \"\"; vz = \"\";\n        } \n        else {\n            vz = \"+\"; cv = JXG.toFixed(cval(),2);\n        }\n  }\n  else {\n      vz = \"\"; cv = JXG.toFixed(cval(),2);\n  };\n\n  if (pA.X() === pB.X() && (pA.Y() !== pB.Y())) {\n        vz = \"+\";\n        cv = NaN;\n    }\n  return \"\\\\[f(x)=\"+ JXG.toFixed(mval(),2) + \" \\\\cdot x\" + vz + cv + \"\\\\]\";\n};\n\nvar ftext = board.create('text', [-12,11,ftextval], {fontSize: 18, color:'blue', cssStyle: 'background-color: rgb(255,255,255)'});\n\nvar c_infinity = function() {\n    var txt = \"\";\n    if (pA.X() === 0 && pB.X() && (pA.Y() !== pB.Y())) {\n        txt = \"Infinite number of y-intercepts\" \n    }\n\n    return txt;\n}",
      "metadata": {
        "trusted": true
      },
      "execution_count": 5,
      "outputs": [
        {
          "output_type": "display_data",
          "data": {
            "application/vnd.jupyter.widget-view+json": {
              "model_id": "6682a06c9ca9464795037a6a10352993",
              "version_major": 2,
              "version_minor": 0
            },
            "text/plain": "JSWidget(value=None, height=600, html='<!DOCTYPE html>\\n<html>\\n    <head>\\n    <style>\\n    html, body {\\n   …"
          },
          "metadata": {}
        }
      ],
      "id": "ed1baa86-b83b-48a9-b1e3-6d84a6e4198c"
    },
    {
      "cell_type": "markdown",
      "source": "The interactive graph can help you to understand how to find the equation of straight line when different conditions are given, such as:\n\n*   The slope of the straight line and the coordinates of a point on it\n\n>The y-intercept $c$ can be derived by substituting the slope $m$ and the coordinates $(x, y)$ into the equation $y = mx + c$.\n\n>**Example:**\n>Point $A(5,5)$ and the slope $m = 3$ is given. The equation of the straight will be found by first determining $c$:\n>$$c = 5 - (3\\times 5) = -10$$\n> **Hence, equation is found:** $ y = 3x - 10$\n\n*   The slope and the y-intercept of the straight line \n\n>For this condition, simply substituted into the $y = mx + c$ to fulfill the equation. \n\nThe below graph visualizes the conditions in above examples.\n\n\n*   Move point A on the board to see how the y-intercept and the slope changes.\n\n*   Dynamic calculation of the equation is given on the top left.\n\n*   If zoomed out by clicking the minus sign on the bottom right corner, another point $B$ can be found. The point $B$ is on the line and do not move when you move point A.",
      "metadata": {},
      "id": "53791016-323b-4920-be6c-7a0b2c7928bf"
    },
    {
      "cell_type": "code",
      "source": "%%jsxgraph\nJXG.Options.text.useMathJax = true;\nvar board = JXG.JSXGraph.initBoard('box', {boundingbox: [-7, 7, 7, -7], axis:true, grid:true,  showCopyright:false});\n\nvar p1 = board.create('point', [4.5, 2.0]);\nvar p2 = board.create('point', [20, 20]);\nvar li1 = board.create('line', [p1, p2]);\n\nvar m = board.create(\"text\",[3, -5, function() {return 'm = ' + ((p2.Y()- p1.Y())/(p2.X() - p1.X())).toFixed(2)}], { fontSize: 18})\n\nvar c= board.create(\"text\", [3, 5, function(){\n    return String.raw`\n    The \\(y\\)-intercept is\n            \\begin{align*}\n              y - mx = ${(p1.Y() - ((p2.Y() - p1.Y())/(p2.X()- p1.X())).toFixed(2)*p1.X()).toFixed(2)}\n            \\end{align*}`;\n}])\n\nvar cval = function() {return (p1.Y() - ((p2.Y() - p1.Y())/(p2.X()- p1.X())).toFixed(2)*p1.X()).toFixed(2)}\nvar mval = function() {return ((p2.Y()- p1.Y())/(p2.X() - p1.X())).toFixed(2)}\n\nvar ftextval = function(){\n    \n  var vz = \"\"; //sign\n  var cv = \"\";\n\n  if (cval() >= 0.0 || isNaN(cval())) {\n        if (cval() == 0.0 || isNaN(cval())){\n            cv = \"\"; vz = \"\";\n        } \n        else {\n            vz = \"+\"; cv = JXG.toFixed(cval(),2);\n        }\n  }\n  else {\n      vz = \"\"; cv = JXG.toFixed(cval(),2);\n  };\n  return \"\\\\[f(x)=\"+ JXG.toFixed(mval(),2) + \" \\\\cdot x\" + vz + cv + \"\\\\]\";\n};\n\nvar ftext = board.create('text', [-6,5,ftextval], {fontSize: 18, color:'blue', cssStyle: 'background-color: rgb(255,255,255)'});",
      "metadata": {
        "trusted": true
      },
      "execution_count": 6,
      "outputs": [
        {
          "output_type": "display_data",
          "data": {
            "application/vnd.jupyter.widget-view+json": {
              "model_id": "ea27a4867d4944e7a260313c9170aa73",
              "version_major": 2,
              "version_minor": 0
            },
            "text/plain": "JSWidget(value=None, height=600, html='<!DOCTYPE html>\\n<html>\\n    <head>\\n    <style>\\n    html, body {\\n   …"
          },
          "metadata": {}
        }
      ],
      "id": "bbf74b59-1bca-4c27-904b-75d7adbb7cbf"
    },
    {
      "cell_type": "markdown",
      "source": "## Understand the possible intersection of two straight lines",
      "metadata": {},
      "id": "db40ebd9-0b66-4978-8c32-0c21999129e7"
    },
    {
      "cell_type": "markdown",
      "source": "Whether two straight lines intersect can be determined by comparing the slopes of the lines.\n\n*   If slopes are equal they are parallel to each other and never intersect\n*   If slopes are not equal they will intersect with each other\n\n\n**Example 1:**\n\nTwo lines of the same slope\n\n$$\n\\begin{align*}\nLine 1 -> y &= x + 2\\\\\n\\\\\nLine 2 -> y &= x - 2\\\\ \n\\\\\nEquate -> x + 2 &= x - 2 \\\\\n\\\\\nx - x &= -2 -2 \\\\\n\\\\\n0 &\\neq -4\n\\end{align*}\n$$ \n\nHere the equation has no solutions, which means that there are no intersections.\n\n**Example 2:**\n\nTwo lines of different slope\n\n$$\n\\begin{align*}\nLine 1 -> y &= 3x + 2\\\\\n\\\\\nLine 2 -> y &= 2x - 2\\\\ \n\\\\\nEquate-> 3x + 2 &= 2x - 2 \\\\\n\\\\\n3x - 2x &= -2 -2 \\\\\n\\\\\nx &= -4\n\\end{align*}\n$$ \n\nHere, the solution is found which is the x-coordinate of the intersection. Subtituting the x-coordinate into one of the line equation will give the y-coordinate of the intersection.\n\n\n\n> Subtituting the x-coordinate into Line 1\n$$\n\\begin{align*}\ny &= 3\\times(-4) + 2\\\\\n\\\\\ny & = -10\n\\end{align*}\n$$ \n\n> Subtituting the x-coordinate into Line 2\n$$\n\\begin{align*}\ny &= 2\\times(-4) - 2\\\\\n\\\\\ny & = -10\n\\end{align*}\n$$ \n\nThe coordinates of the intersection point is $(-4, 10)$\n",
      "metadata": {},
      "id": "5139fb3a-fcab-41d6-855f-e4463a734132"
    },
    {
      "cell_type": "markdown",
      "source": "Two straight lines are visualized in the following graph. Note:\n\n\n*   Intersection coordinates are $(NaN, NaN)$ by initially because the two lines are parallel initially.\n*   You can drag the points to shift the line (even if its just a little) and make an intersection. Zoom out if the intersection point is outside the graph.\n*   When slopes of the two straight line are not equal, there will always be an intersection point $E$.\n*   Click on the button to show or hide the coordinates of the intersection point.\n\n\nTry equating both lines AB and CD and find the intersection point.\n",
      "metadata": {},
      "id": "9d0f29b5-324d-4ac2-a7de-4ef153efb55d"
    },
    {
      "cell_type": "code",
      "source": "%%jsxgraph\n//JXG.Options.text.useMathJax = true;\nvar board = JXG.JSXGraph.initBoard('box', {\n    axis:true,\n    boundingbox:[-10, 10, 10, -10],\n    showCopyright: false,\n});\n\nvar gr = board.create('grid');\n\n//line1\nvar p1 = board.create('point', [6, 4], {size: 2})   //A\nvar p2 = board.create('point', [-4, -6], {size: 2}) //B\nvar li1 = board.create('line', [p1, p2])\n\nvar m1 = function(){\n    return ((p2.Y()- p1.Y())/(p2.X() - p1.X()))\n}\n\nvar c1 = function(){\n    return (p1.Y() - ((p2.Y() - p1.Y())/(p2.X()- p1.X()))*p1.X())\n}\n\n//line2\nvar p3 = board.create('point', [6, 8], {size: 2})   //C\nvar p4 = board.create('point', [-7, -5], {size: 2}) //D\nvar li2 = board.create('line', [p3, p4])\n\nvar m2 = function(){\n    return ((p4.Y()- p3.Y())/(p4.X() - p3.X()))\n}\n\nvar c2 = function(){\n    return (p3.Y() - ((p4.Y() - p3.Y())/(p4.X()- p3.X()))*p3.X())\n}\n\n//intersection\nvar i = board.create('intersection', [li1, li2], {face: 'x', size: 2})\n\n//text\nvar ftextval1 = function(){\n    \n  var vz = \"\"; //sign\n  var cv = \"\";\n\n  if (c1() >= 0.0 || isNaN(c1())) {\n        if (c1() == 0.0 || isNaN(c1())){\n            cv = \"\"; vz = \"\";\n        } \n        else {\n            vz = \"+\"; cv = JXG.toFixed(c1(),2);\n        }\n  }\n  else {\n      vz = \"\"; cv = JXG.toFixed(c1(),2);\n  };\n  return \"Line AB f(x) = \"+ JXG.toFixed(m1(),2) + \"x \" + vz + \" \" + cv;\n};\n\nvar ftextval2 = function(){\n    \n  var vz = \"\"; //sign\n  var cv = \"\";\n\n  if (c2() >= 0.0 || isNaN(c2())) {\n        if (c2() == 0.0 || isNaN(c2())){\n            cv = \"\"; vz = \"\";\n        } \n        else {\n            vz = \"+\"; cv = JXG.toFixed(c2(),2);\n        }\n  }\n  else {\n      vz = \"\"; cv = JXG.toFixed(c2(),2);\n  };\n  return \"Line CD f(x) = \"+ JXG.toFixed(m2(),2) + \"x \" + vz + \" \" + cv;\n};\n\nvar ftext1 = board.create('text', [3,-5.5,ftextval1], {fontSize: 15});\nvar ftext2 = board.create('text', [3,-7,ftextval2], {fontSize: 15});\n\n\n//x-coordinate intersection\nvar xi = function() {\n    return JXG.toFixed(((c2() - c1()) / (m1() - m2())),2)\n}\n\n//y-coordinate intersection\nvar yi = function() {\n    return JXG.toFixed((m2()*((c2() - c1()) / (m1() - m2())) + c2()), 2)\n}\n\n// A toggle button\nvar butt = board.create('button', [-8, 8, 'Show Intersection Point', function() {\n  var txt;\n  butt.value = !butt.value;\n  if (butt.value) {\n  \ttxt = 'Close';\n  } else {\n  \ttxt = 'Show Intersection Point';\n  }\n\tbutt.rendNodeButton.innerHTML = txt;\n}]);\n\n// Set initial value for the button\nif (!JXG.exists(butt.value)) {\n\tbutt.value = false;\n}\n\n/*var p = board.create('point', [2, -2], {\n\tvisible: () => butt.value\n\n});*/\n\nvar coordinate = board.create('text', [-9.5, 7, function() {\n    return \"The Coordinate of Intersection is E\" + '(' + xi() + ',' + yi() + ')'; \n}], {fontSize: 13, color:'blue', visible: () => butt.value})",
      "metadata": {
        "trusted": true
      },
      "execution_count": 7,
      "outputs": [
        {
          "output_type": "display_data",
          "data": {
            "application/vnd.jupyter.widget-view+json": {
              "model_id": "b4d40f6db2004443bc13c0a400712afc",
              "version_major": 2,
              "version_minor": 0
            },
            "text/plain": "JSWidget(value=None, height=600, html='<!DOCTYPE html>\\n<html>\\n    <head>\\n    <style>\\n    html, body {\\n   …"
          },
          "metadata": {}
        }
      ],
      "id": "6f8acbfa-29af-46af-b574-e875f2c3c7a8"
    }
  ]
}