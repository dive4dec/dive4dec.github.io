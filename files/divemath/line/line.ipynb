{
 "cells": [
  {
   "cell_type": "markdown",
   "id": "fa776864-0602-40bf-ab97-7e984276dcd5",
   "metadata": {},
   "source": [
    "# Equation of a Straight Line"
   ]
  },
  {
   "cell_type": "markdown",
   "id": "889bc3e0-5ac6-416e-862b-d425299868c7",
   "metadata": {},
   "source": [
    "**DIVE into Math**\n",
    "\n",
    "---"
   ]
  },
  {
   "cell_type": "markdown",
   "id": "9a252510-912e-4185-96fe-cd5ac18fa554",
   "metadata": {},
   "source": [
    "Contributor(s): \n",
    "\n",
    "- Alvin THOSATRIA\n",
    "- Chao Zhao\n",
    "\n",
    "---"
   ]
  },
  {
   "cell_type": "code",
   "execution_count": null,
   "id": "1bc7e729-4a98-43b9-a71c-ef7ebdccd9cd",
   "metadata": {},
   "outputs": [],
   "source": [
    "%reload_ext divewidgets"
   ]
  },
  {
   "cell_type": "markdown",
   "id": "db73300e-c120-4ce6-ac3f-bcf83d5e327b",
   "metadata": {},
   "source": [
    "## Part I: Fundamental concepts of straight line"
   ]
  },
  {
   "cell_type": "markdown",
   "id": "c62c7bab-fa70-4e39-ae89-93339a509ca6",
   "metadata": {},
   "source": [
    "On a 2D plane, a non-vertical line consists of the set of points $(x,y)\\in \\mathbb{R}^2$ satisfying the equation\n",
    "\n",
    "$$\n",
    "\\begin{align}\n",
    "y &= mx + c \\tag{line}\n",
    "\\end{align}\n",
    "$$\n",
    "\n",
    "for some numbers \n",
    "- $m\\in \\mathbb{R}$, called the *slope*, and \n",
    "- $c\\in \\mathbb{R}$, called the *y-intercept*."
   ]
  },
  {
   "cell_type": "markdown",
   "id": "90511bbf-3b27-4c35-9ade-d07079e633eb",
   "metadata": {},
   "source": [
    "In the following plot of the line $y$ against $x$, drag the sliders below to understand how the line changes with $m$ and $c$."
   ]
  },
  {
   "cell_type": "code",
   "execution_count": null,
   "id": "247dba5e-cef8-4f6d-b408-b9ba2d545ce8",
   "metadata": {
    "jupyter": {
     "source_hidden": true
    },
    "tags": []
   },
   "outputs": [],
   "source": [
    "%%jsxgraph\n",
    "JXG.Options.text.useMathJax = true;\n",
    "var board = JXG.JSXGraph.initBoard('box', {boundingbox: [-10, 10, 11, -10], axis:true, showCopyright: false});\n",
    "  \n",
    "var gr = board.create('grid');\n",
    "\n",
    "var a = board.create('slider', [[8,-5],[8,5],[-Math.PI / 2, Math.PI / 4 , Math.PI / 2]],{ snapWidth: 0.01 });\n",
    "\n",
    "var c = board.create('slider', [[-8,-5],[-8,5],[-10,0,10]],{snapWidth: 0.1, precision: 1,\n",
    "                                                          ticks: { drawZero: true, drawLabels: true, ticksDistance: 1,\n",
    "                                                                  minTicksDistance: 5, // insertTicks: true,\n",
    "                                                                  tickEndings: [1,0],\n",
    "                                                                  label: {position: 'lft', offset: [-20,0]}},\n",
    "                                                          name: \"c\"});\n",
    "\n",
    "var cval = function(){return c.Value();};\n",
    "var T = board.create('point', [0,cval], {name: \"T\", label: \"T\", strokeColor: 'purple', face: 'cross'});\n",
    "var mval = function(){return Math.tan(a.Value());}; //using tangent function\n",
    "var linF0 = function(x){return mval()*x};\n",
    "var linF = function(x){return mval()*x + cval()};\n",
    "var G0 = board.create('functiongraph',[linF0,-5,5], {strokeWidth: 1, dash: 2});\n",
    "var G = board.create('functiongraph',[linF,-5,5], {strokeWidth: 2});\n",
    "\n",
    "var ftextval = function(){\n",
    "  var vz = \"\";\n",
    "  var cv = \"\";\n",
    "  if (cval() >= 0.0) {\n",
    "      if (cval() == 0.0){\n",
    "          cv = \"\"; vz = \"\";\n",
    "      } \n",
    "      else {\n",
    "          vz = \"+\"; \n",
    "          cv = JXG.toFixed(cval(),1);\n",
    "      }\n",
    "  }\n",
    "  else {\n",
    "      vz = \"\"; \n",
    "      cv = JXG.toFixed(cval(),1);\n",
    "  };\n",
    "\n",
    "  if ( mval() > 1252 || mval() < -1252) {\n",
    "      vz = \"+\";\n",
    "      cv = NaN;\n",
    "  }\n",
    "\n",
    "  return \"\\\\[f(x)=\"+ (mval() > 1252 || mval() < -1252  ? NaN : JXG.toFixed(mval(),2)) + \" \\\\cdot x\" + vz + cv + \"\\\\]\";\n",
    "};\n",
    "\n",
    "var ftext = board.create('text', [-4.0,8.0,ftextval], {fontSize: 18, color:'blue', cssStyle: 'background-color: rgb(255,255,255)'});\n",
    "var dt = board.create('segment',[[0,0],[0,cval]],{strokeColor: 'purple', strokeWidth: 3});\n",
    "var A = board.create('glider', [1,2,G], {label: {offset: [0,-15]}});\n",
    "var tangent = board.create('tangent', [A]);\n",
    "var st = board.create('slopetriangle', [tangent], {toppoint: {face: 'plus', withLabel: false}});\n",
    "\n",
    "var approachpstvinf = function(){\n",
    "    var txt = \"\";\n",
    "    if (mval() > 1252) {\n",
    "        txt = \"Line slope approaches infinity\"\n",
    "    }\n",
    "    return txt;\n",
    "}\n",
    "\n",
    "var approachngtvinf = function() {\n",
    "    var txt = \"\";\n",
    "    if (mval() < -1252) {\n",
    "        txt = \"Line slope approaches -infinity\";\n",
    "    }\n",
    "\n",
    "    return txt;\n",
    "}\n",
    "\n",
    "var c_infinity = function() {\n",
    "    var txt = \"\";\n",
    "    if (mval() < -1252 || mval() > 1252) {\n",
    "        txt = \"Infinite number of y-intercepts\" \n",
    "    }\n",
    "\n",
    "    return txt;\n",
    "}\n",
    "\n",
    "var approachpstvinftext = board.create('text', [4, 7, approachpstvinf ], {fontSize: 14});\n",
    "var approachngtvinftext = board.create('text', [4, -7, approachngtvinf], {fontSize: 14});\n",
    "var c_infinitytext = board.create('text', [-7, 1, c_infinity], {fontSize: 14});\n",
    "\n",
    "//overwrites the text value of slider a with the m value\n",
    "var m_text = board.create('text', [7.5,5.5, function(){\n",
    "    var txt = \"m = \"+ (mval() > 1252 || mval() < -1252  ? NaN : JXG.toFixed(mval(),2))\n",
    "    return txt;\n",
    "}], {fontSize: 14, cssStyle: 'background-color: rgb(255,255,255)'})"
   ]
  },
  {
   "cell_type": "markdown",
   "id": "ed6d8964-a43c-4fdc-89e5-9d2711fd1cb0",
   "metadata": {},
   "source": [
    "The line is said to be\n",
    "- inclined if $0<m<\\infty$,\n",
    "- horizontal if $m=0$,\n",
    "- declined if $-\\infty <m<0$."
   ]
  },
  {
   "cell_type": "markdown",
   "id": "ed87b59d-442c-4c01-9fab-e5e90b9afee9",
   "metadata": {},
   "source": [
    "Given the line contains two distinct points $(x_1, y_1), (x_2,y_2)\\in \\mathbb{R}^2:x_1\\neq x_2$, the slope can be calculated as\n",
    "\n",
    "$$\n",
    "\\begin{align*}\n",
    "m &= \\frac{\\Delta y}{\\Delta x} = \n",
    "\\frac{y_2-y_1}{x_2-x_1} \\tag{rise-over-run}\n",
    "\\end{align*}\n",
    "$$ \n",
    "\n",
    "namely, the rise $\\Delta y$ in the $y$-coordinate divided by the run $\\Delta x$ in the $x$-coordinate."
   ]
  },
  {
   "cell_type": "markdown",
   "id": "f82e02d9-d266-4e01-8f3c-8a98b44cef0d",
   "metadata": {},
   "source": [
    "In trigonometry, the *tangent* function is defined as  \n",
    "\n",
    "$$\n",
    "\\begin{align}\n",
    "m = \\tan \\alpha,\\tag{inclination}\n",
    "\\end{align}\n",
    "$$\n",
    "\n",
    "where $\\alpha$ is the angle of inclination for the line of slope $m$."
   ]
  },
  {
   "cell_type": "code",
   "execution_count": null,
   "id": "49ca1e50-1ed8-4150-95f1-3f694b3e4dda",
   "metadata": {
    "jupyter": {
     "source_hidden": true
    },
    "tags": []
   },
   "outputs": [],
   "source": [
    "%%jsxgraph\n",
    "var board = JXG.JSXGraph.initBoard('box', {boundingbox:[-5,5,4,-5], axis: true, grid: true, showCopyright: false});\n",
    "\n",
    "var rise = board.create('slider', [[3, -1.5],[3, 1.5],[-3, 2, 3]], {name:'rise', snapWidth: 0.1})\n",
    "var run = board.create('slider', [[-1.5, -4], [1.5, -4], [-3, 1.5, 3]], {name:'run', snapWidth: 0.1})\n",
    "\n",
    "var A = board.create('point', [-1,-1]),\n",
    "    B = board.create('point', [function(){return run.Value() - 1}, -1]),\n",
    "    C = board.create('point', [function(){return run.Value() - 1}, function(){return rise.Value() - 1}]),\n",
    "    alpha = board.create('nonreflexangle', [B,A,C], {type:'sector', orthoType:'sectordot', orthoSensitivity:2, radius:0.5})\n",
    "    beta = board.create('nonreflexangle', [C,B,A], {type:'sector', orthoType:'square', orthoSensitivity:2, radius:0.2});\n",
    "\n",
    "var triArr1 = [A, B, C];\n",
    "var tri = board.createElement('polygon',triArr1,{strokeWidth:2, strokeColor:'#dd00dd',highlight:false});\n",
    "\n",
    "var li = board.create('line', ['A', 'C'], {strokeColor:'#00ff00',strokeWidth:2})"
   ]
  },
  {
   "cell_type": "markdown",
   "id": "f12b5050-9815-4a74-9b81-7da170c057c3",
   "metadata": {},
   "source": [
    "**Exercise** \n",
    "\n",
    "By dragging the slider above, identify some properties of the tangent function\n",
    "\n",
    "$$\n",
    "\\begin{align}\n",
    "\\tan \\alpha = \\frac{\\Delta y}{\\Delta x}\n",
    "\\end{align}\n",
    "$$\n",
    "\n",
    "when the angle of inclination, rise and run are all positive. E.g. Is tangent a strictly increasing function?"
   ]
  },
  {
   "cell_type": "markdown",
   "id": "0150a059-3325-4d7a-ad49-fa92f12aca56",
   "metadata": {
    "deletable": false,
    "nbgrader": {
     "cell_type": "markdown",
     "checksum": "11b903531c3dc15001aba9cee6eb2924",
     "grade": true,
     "grade_id": "p1",
     "locked": false,
     "points": 1,
     "schema_version": 3,
     "solution": true,
     "task": false
    },
    "tags": []
   },
   "source": [
    "YOUR ANSWER HERE"
   ]
  },
  {
   "cell_type": "markdown",
   "id": "a957edfc-4578-4045-8708-c652ed43deff",
   "metadata": {},
   "source": [
    "## Part II: Finding equation of straight line"
   ]
  },
  {
   "cell_type": "markdown",
   "id": "2c4d1482-438c-4f3d-8476-6880dba43389",
   "metadata": {},
   "source": [
    "The equation can be found when parameters are given such as a slope, coordinate of point(s) on the line, or the y-intercept.\n",
    "\n",
    "For this exercise, the parameters you have are two coordinates $A (-6, -5)$ and $B (7, 4)$ on the graph. The straight line that needs to be found is prototyped with a dashed line. How do you find the linear equation from this condition?\n",
    "\n",
    "Hover onto the points $A$ and $B$ to display the coordinates."
   ]
  },
  {
   "cell_type": "code",
   "execution_count": null,
   "id": "f394caf5-7d82-45e8-8a1f-30f756ce605b",
   "metadata": {
    "jupyter": {
     "source_hidden": true
    },
    "tags": []
   },
   "outputs": [],
   "source": [
    "%%jsxgraph\n",
    "var board = JXG.JSXGraph.initBoard('box', {boundingbox: [-14, 14, 14, -14], axis:true, grid:true,  showCopyright:false});\n",
    "var p1 = board.create('point',[-6,-5], {name:'A'});\n",
    "var p2 = board.create('point',[7,4], {name:'B'});\n",
    "\n",
    "var li1 = board.create('line',[p1,p2], {straightFirst:false, straightLast:false, strokeWidth:2, dash:2})"
   ]
  },
  {
   "cell_type": "markdown",
   "id": "2a1ddc12-9621-4ea8-9a76-1bd77cd8fb9d",
   "metadata": {
    "deletable": false,
    "nbgrader": {
     "cell_type": "markdown",
     "checksum": "60fdd1f7ebf4bcb905d160e67f88525a",
     "grade": true,
     "grade_id": "p2",
     "locked": false,
     "points": 1,
     "schema_version": 3,
     "solution": true,
     "task": false
    },
    "tags": []
   },
   "source": [
    "YOUR ANSWER HERE"
   ]
  },
  {
   "cell_type": "markdown",
   "id": "aa1f6b3c-deff-43f6-9e89-50c6f91ba3ea",
   "metadata": {},
   "source": [
    "## Determining the linear equation"
   ]
  },
  {
   "cell_type": "markdown",
   "id": "0ffc91ef-3014-43b3-ae71-71d53e752230",
   "metadata": {},
   "source": [
    "\n",
    "To find the equation of the line from the two points:\n",
    "\n",
    "*   The gradient $m$ is first determined;\n",
    "*   Any points that lies on the straight line can be subsituted into $x$ and $y$ to find $c$ (y-intercept);\n",
    "*   The linear equation is $y= mx + c$. \n",
    "\n",
    "In the following plot of the line, drag the sliders to change the $x$ and $y$ coordinates of the two points $A(x_1, y_1)$ or $B(x_2, y_2)$. For this example, $x$ and $y$ values are between -8 and 8 inclusive. \n",
    "\n",
    "\n",
    "```{note}\n",
    "Slope is undefined when line is vertical which results in NaN value (Not a Number). This is due to the change of x (run) equals to zero. $\\frac{\\delta y}{0} = \\infty$.\n",
    "```\n",
    "\n",
    "\n",
    "With JSXGraph, the slope calculation and the equation can be visualized."
   ]
  },
  {
   "cell_type": "code",
   "execution_count": null,
   "id": "ed1baa86-b83b-48a9-b1e3-6d84a6e4198c",
   "metadata": {
    "jupyter": {
     "source_hidden": true
    },
    "tags": []
   },
   "outputs": [],
   "source": [
    "%%jsxgraph\n",
    "JXG.Options.text.useMathJax = true;\n",
    "var board = JXG.JSXGraph.initBoard('box', {boundingbox: [-14, 14, 14, -14], axis:true, grid:true,  showCopyright:false});\n",
    "\n",
    "var p1 = board.create('text', [-13, -11.5, function(){return 'Point A'}]);\n",
    "var x1 = board.create(\"slider\", [[-11, -11], [-4, -11], [-8, -6, 8]], {name:'x1', snapWidth: 0.1})\n",
    "var y1 = board.create(\"slider\", [[-11, -12], [-4,-12], [-8, -5, 8]], {name:'y1', snapWidth: 0.1})\n",
    "\n",
    "var p2 = board.create('text', [1, -11.5, function(){return 'Point B' }]);\n",
    "var x2 = board.create(\"slider\", [[3, -11], [10, -11], [-8, 7, 8]], {name:'x2', snapWidth: 0.1})\n",
    "var y2 = board.create(\"slider\", [[3, -12], [10, -12], [-8, 4, 8]], {name:'y2', snapWidth: 0.1})\n",
    "\n",
    "mval = function(){return ((x2.Value() - x1.Value()).toFixed(2) == 0 ? \"Undefined\" : \n",
    "                          ((y2.Value().toFixed(2) - y1.Value()).toFixed(2) / (x2.Value().toFixed(2) - x1.Value().toFixed(2))).toFixed(2))}\n",
    "\n",
    "cval = function(){return ((x2.Value() - x1.Value()).toFixed(2) == 0 ? \"Undefined\" : \n",
    "                          (y1.Value().toFixed(2) - x1.Value().toFixed(2)*((y2.Value().toFixed(2) - y1.Value()).toFixed(2) / (x2.Value().toFixed(2) - x1.Value().toFixed(2))).toFixed(2)).toFixed(2))}\n",
    "\n",
    "/*points*/\n",
    "var pA = board.create('point',[\n",
    "                 function(){return x1.Value();},\n",
    "                 function(){return y1.Value();}],\n",
    "                 {name:'A',size:2})\n",
    "\n",
    "var pB = board.create('point',[\n",
    "                 function(){return x2.Value();},\n",
    "                 function(){return y2.Value();}],\n",
    "                 {name:'B',size:2})\n",
    "\n",
    "/*line and slope*/\n",
    "var li = board.create('line',[\"A\",\"B\"], {strokeColor:'#00ff00',strokeWidth:2});\n",
    "\n",
    "var slope = board.create(\"text\", [3, 10.5, function(){\n",
    "    return String.raw`\n",
    "    The Slope is\n",
    "            \\begin{align*}\n",
    "              \\frac{y2-y1}{x2-x1} &= \\frac{${y2.Value().toFixed(2)} - ${y1.Value().toFixed(2)}}{${x2.Value().toFixed(2)} - ${x1.Value().toFixed(2)}}\\\\\n",
    "              &= ${mval()}\n",
    "            \\end{align*}`;\n",
    "}])\n",
    "\n",
    "/*equation*/\n",
    "var ftextval = function(){\n",
    "    \n",
    "  var vz = \"\"; //sign\n",
    "  var cv = \"\";\n",
    "\n",
    "  if (cval() >= 0.0 || isNaN(cval())) {\n",
    "        if (cval() == 0.0 || isNaN(cval())){\n",
    "            cv = \"\"; vz = \"\";\n",
    "        } \n",
    "        else {\n",
    "            vz = \"+\"; cv = JXG.toFixed(cval(),2);\n",
    "        }\n",
    "  }\n",
    "  else {\n",
    "      vz = \"\"; cv = JXG.toFixed(cval(),2);\n",
    "  };\n",
    "\n",
    "  if (pA.X() === pB.X() && (pA.Y() !== pB.Y())) {\n",
    "        vz = \"+\";\n",
    "        cv = NaN;\n",
    "    }\n",
    "  return \"\\\\[f(x)=\"+ JXG.toFixed(mval(),2) + \" \\\\cdot x\" + vz + cv + \"\\\\]\";\n",
    "};\n",
    "\n",
    "var ftext = board.create('text', [-12,11,ftextval], {fontSize: 18, color:'blue', cssStyle: 'background-color: rgb(255,255,255)'});\n",
    "\n",
    "var c_infinity = function() {\n",
    "    var txt = \"\";\n",
    "    if (pA.X() === 0 && pB.X() && (pA.Y() !== pB.Y())) {\n",
    "        txt = \"Infinite number of y-intercepts\" \n",
    "    }\n",
    "\n",
    "    return txt;\n",
    "}"
   ]
  },
  {
   "cell_type": "markdown",
   "id": "53791016-323b-4920-be6c-7a0b2c7928bf",
   "metadata": {},
   "source": [
    "The interactive graph can help you to understand how to find the equation of straight line when different conditions are given, such as:\n",
    "\n",
    "*   The slope of the straight line and the coordinates of a point on it\n",
    "\n",
    ">The y-intercept $c$ can be derived by substituting the slope $m$ and the coordinates $(x, y)$ into the equation $y = mx + c$.\n",
    "\n",
    ">**Example:**\n",
    ">Point $A(5,5)$ and the slope $m = 3$ is given. The equation of the straight will be found by first determining $c$:\n",
    ">$$c = 5 - (3\\times 5) = -10$$\n",
    "> **Hence, equation is found:** $ y = 3x - 10$\n",
    "\n",
    "*   The slope and the y-intercept of the straight line \n",
    "\n",
    ">For this condition, simply substituted into the $y = mx + c$ to fulfill the equation. \n",
    "\n",
    "The below graph visualizes the conditions in above examples.\n",
    "\n",
    "\n",
    "*   Move point A on the board to see how the y-intercept and the slope changes.\n",
    "\n",
    "*   Dynamic calculation of the equation is given on the top left.\n",
    "\n",
    "*   If zoomed out by clicking the minus sign on the bottom right corner, another point $B$ can be found. The point $B$ is on the line and do not move when you move point A."
   ]
  },
  {
   "cell_type": "code",
   "execution_count": null,
   "id": "bbf74b59-1bca-4c27-904b-75d7adbb7cbf",
   "metadata": {
    "jupyter": {
     "source_hidden": true
    },
    "tags": []
   },
   "outputs": [],
   "source": [
    "%%jsxgraph\n",
    "JXG.Options.text.useMathJax = true;\n",
    "var board = JXG.JSXGraph.initBoard('box', {boundingbox: [-7, 7, 7, -7], axis:true, grid:true,  showCopyright:false});\n",
    "\n",
    "var p1 = board.create('point', [4.5, 2.0]);\n",
    "var p2 = board.create('point', [20, 20]);\n",
    "var li1 = board.create('line', [p1, p2]);\n",
    "\n",
    "var m = board.create(\"text\",[3, -5, function() {return 'm = ' + ((p2.Y()- p1.Y())/(p2.X() - p1.X())).toFixed(2)}], { fontSize: 18})\n",
    "\n",
    "var c= board.create(\"text\", [3, 5, function(){\n",
    "    return String.raw`\n",
    "    The \\(y\\)-intercept is\n",
    "            \\begin{align*}\n",
    "              y - mx = ${(p1.Y() - ((p2.Y() - p1.Y())/(p2.X()- p1.X())).toFixed(2)*p1.X()).toFixed(2)}\n",
    "            \\end{align*}`;\n",
    "}])\n",
    "\n",
    "var cval = function() {return (p1.Y() - ((p2.Y() - p1.Y())/(p2.X()- p1.X())).toFixed(2)*p1.X()).toFixed(2)}\n",
    "var mval = function() {return ((p2.Y()- p1.Y())/(p2.X() - p1.X())).toFixed(2)}\n",
    "\n",
    "var ftextval = function(){\n",
    "    \n",
    "  var vz = \"\"; //sign\n",
    "  var cv = \"\";\n",
    "\n",
    "  if (cval() >= 0.0 || isNaN(cval())) {\n",
    "        if (cval() == 0.0 || isNaN(cval())){\n",
    "            cv = \"\"; vz = \"\";\n",
    "        } \n",
    "        else {\n",
    "            vz = \"+\"; cv = JXG.toFixed(cval(),2);\n",
    "        }\n",
    "  }\n",
    "  else {\n",
    "      vz = \"\"; cv = JXG.toFixed(cval(),2);\n",
    "  };\n",
    "  return \"\\\\[f(x)=\"+ JXG.toFixed(mval(),2) + \" \\\\cdot x\" + vz + cv + \"\\\\]\";\n",
    "};\n",
    "\n",
    "var ftext = board.create('text', [-6,5,ftextval], {fontSize: 18, color:'blue', cssStyle: 'background-color: rgb(255,255,255)'});"
   ]
  },
  {
   "cell_type": "markdown",
   "id": "db40ebd9-0b66-4978-8c32-0c21999129e7",
   "metadata": {},
   "source": [
    "## Part III: Understand the possible intersection of straight lines"
   ]
  },
  {
   "cell_type": "markdown",
   "id": "5139fb3a-fcab-41d6-855f-e4463a734132",
   "metadata": {},
   "source": [
    "Whether two straight lines intersect can be determined by comparing the slopes of the lines.\n",
    "\n",
    "*   If slopes are equal they are parallel to each other and never intersect\n",
    "*   If slopes are not equal they will intersect with each other\n",
    "\n",
    "\n",
    "**Example 1:**\n",
    "\n",
    "Two lines of the same slope\n",
    "\n",
    "$$\n",
    "\\begin{align*}\n",
    "Line 1 -> y &= -\\frac{x}{2} + 2\\\\\n",
    "\\\\\n",
    "Line 2 -> y &= -\\frac{x}{2} - 2\\\\ \n",
    "\\\\\n",
    "Equate -> -\\frac{x}{2} + 2 &= -\\frac{x}{2} - 2 \\\\\n",
    "\\\\\n",
    "x - x &= -2 -2 \\\\\n",
    "\\\\\n",
    "0 &\\neq -4\n",
    "\\end{align*}\n",
    "$$ \n",
    "\n",
    "Here the equation has no solutions, which means that there are no intersections. You can move the points below to observe how two parallel lines interact with each other. "
   ]
  },
  {
   "cell_type": "code",
   "execution_count": null,
   "id": "5c9bb5c4-871a-43aa-af01-b1e528d21dfb",
   "metadata": {
    "jupyter": {
     "source_hidden": true
    },
    "tags": []
   },
   "outputs": [],
   "source": [
    "%%jsxgraph\n",
    "JXG.Options.text.useMathJax = true;\n",
    "var board = JXG.JSXGraph.initBoard('box', {boundingbox: [-7, 7, 7, -7], axis:true, grid:true, showCopyright:false});\n",
    "var p1, p2, p3, l1, pl1;\n",
    "\n",
    "p1 = board.create('point', [-2.0, 3.0]);\n",
    "p2 = board.create('point', [2.0, 1.0]);\n",
    "l1 = board.create('line', [p1, p2]);\n",
    "\n",
    "p3 = board.create('point', [-1.5, 4.0]);\n",
    "pl1 = board.create('arrowparallel', [p1, p2, p3], {straightFirst: false, straightLast: false});\n",
    "\n",
    "board.create('text',[3,-3,function(){\n",
    "  return 'slope = '+ pl1.getSlope().toFixed(2)}]);\n",
    "\n",
    "var i = board.create('intersection', [l1, pl1], {face: 'x', size: 2})"
   ]
  },
  {
   "cell_type": "markdown",
   "id": "64d2ff60-9d7f-4b49-9bd2-00d609e4717e",
   "metadata": {},
   "source": [
    "**Example 2:**\n",
    "\n",
    "Two lines of different slope\n",
    "\n",
    "$$\n",
    "\\begin{align*}\n",
    "Line 1 -> y &= 3x + 2\\\\\n",
    "\\\\\n",
    "Line 2 -> y &= 2x - 2\\\\ \n",
    "\\\\\n",
    "Equate-> 3x + 2 &= 2x - 2 \\\\\n",
    "\\\\\n",
    "3x - 2x &= -2 -2 \\\\\n",
    "\\\\\n",
    "x &= -4\n",
    "\\end{align*}\n",
    "$$ \n",
    "\n",
    "Here, the solution is found which is the x-coordinate of the intersection. Subtituting the x-coordinate into one of the line equation will give the y-coordinate of the intersection.\n",
    "\n",
    "\n",
    "\n",
    "> Subtituting the x-coordinate into Line 1\n",
    "$$\n",
    "\\begin{align*}\n",
    "y &= 3\\times(-4) + 2\\\\\n",
    "\\\\\n",
    "y & = -10\n",
    "\\end{align*}\n",
    "$$ \n",
    "\n",
    "> Subtituting the x-coordinate into Line 2\n",
    "$$\n",
    "\\begin{align*}\n",
    "y &= 2\\times(-4) - 2\\\\\n",
    "\\\\\n",
    "y & = -10\n",
    "\\end{align*}\n",
    "$$ \n",
    "\n",
    "The coordinates of the intersection point is $(-4, 10)$\n"
   ]
  },
  {
   "cell_type": "markdown",
   "id": "9d0f29b5-324d-4ac2-a7de-4ef153efb55d",
   "metadata": {},
   "source": [
    "Two straight lines are visualized in the following graph. Note:\n",
    "\n",
    "\n",
    "*   Intersection coordinates are $(NaN, NaN)$ by initially because the two lines are parallel initially.\n",
    "*   You can drag the points to shift the line (even if its just a little) and make an intersection. Zoom out if the intersection point is outside the graph.\n",
    "*   When slopes of the two straight line are not equal, there will always be an intersection point $E$.\n",
    "*   Click on the button to show or hide the coordinates of the intersection point.\n",
    "\n",
    "\n",
    "Try equating both lines AB and CD and find the intersection point(s).\n"
   ]
  },
  {
   "cell_type": "code",
   "execution_count": null,
   "id": "6f8acbfa-29af-46af-b574-e875f2c3c7a8",
   "metadata": {
    "jupyter": {
     "source_hidden": true
    },
    "tags": []
   },
   "outputs": [],
   "source": [
    "%%jsxgraph\n",
    "//JXG.Options.text.useMathJax = true;\n",
    "var board = JXG.JSXGraph.initBoard('box', {\n",
    "    axis:true,\n",
    "    boundingbox:[-10, 10, 10, -10],\n",
    "    showCopyright: false,\n",
    "});\n",
    "\n",
    "var gr = board.create('grid');\n",
    "\n",
    "//line1\n",
    "var p1 = board.create('point', [6, 4], {size: 2})   //A\n",
    "var p2 = board.create('point', [-4, -6], {size: 2}) //B\n",
    "var li1 = board.create('line', [p1, p2])\n",
    "\n",
    "var m1 = function(){\n",
    "    return ((p2.Y()- p1.Y())/(p2.X() - p1.X()))\n",
    "}\n",
    "\n",
    "var c1 = function(){\n",
    "    return (p1.Y() - ((p2.Y() - p1.Y())/(p2.X()- p1.X()))*p1.X())\n",
    "}\n",
    "\n",
    "//line2\n",
    "var p3 = board.create('point', [6, 8], {size: 2})   //C\n",
    "var p4 = board.create('point', [-7, -5], {size: 2}) //D\n",
    "var li2 = board.create('line', [p3, p4])\n",
    "\n",
    "var m2 = function(){\n",
    "    return ((p4.Y()- p3.Y())/(p4.X() - p3.X()))\n",
    "}\n",
    "\n",
    "var c2 = function(){\n",
    "    return (p3.Y() - ((p4.Y() - p3.Y())/(p4.X()- p3.X()))*p3.X())\n",
    "}\n",
    "\n",
    "//intersection\n",
    "var i = board.create('intersection', [li1, li2], {face: 'x', size: 2})\n",
    "\n",
    "//text\n",
    "var ftextval1 = function(){\n",
    "    \n",
    "  var vz = \"\"; //sign\n",
    "  var cv = \"\";\n",
    "\n",
    "  if (c1() >= 0.0 || isNaN(c1())) {\n",
    "        if (c1() == 0.0 || isNaN(c1())){\n",
    "            cv = \"\"; vz = \"\";\n",
    "        } \n",
    "        else {\n",
    "            vz = \"+\"; cv = JXG.toFixed(c1(),2);\n",
    "        }\n",
    "  }\n",
    "  else {\n",
    "      vz = \"\"; cv = JXG.toFixed(c1(),2);\n",
    "  };\n",
    "  return \"Line AB f(x) = \"+ JXG.toFixed(m1(),2) + \"x \" + vz + \" \" + cv;\n",
    "};\n",
    "\n",
    "var ftextval2 = function(){\n",
    "    \n",
    "  var vz = \"\"; //sign\n",
    "  var cv = \"\";\n",
    "\n",
    "  if (c2() >= 0.0 || isNaN(c2())) {\n",
    "        if (c2() == 0.0 || isNaN(c2())){\n",
    "            cv = \"\"; vz = \"\";\n",
    "        } \n",
    "        else {\n",
    "            vz = \"+\"; cv = JXG.toFixed(c2(),2);\n",
    "        }\n",
    "  }\n",
    "  else {\n",
    "      vz = \"\"; cv = JXG.toFixed(c2(),2);\n",
    "  };\n",
    "  return \"Line CD f(x) = \"+ JXG.toFixed(m2(),2) + \"x \" + vz + \" \" + cv;\n",
    "};\n",
    "\n",
    "var ftext1 = board.create('text', [3,-5.5,ftextval1], {fontSize: 15});\n",
    "var ftext2 = board.create('text', [3,-7,ftextval2], {fontSize: 15});\n",
    "\n",
    "\n",
    "//x-coordinate intersection\n",
    "var xi = function() {\n",
    "    return JXG.toFixed(((c2() - c1()) / (m1() - m2())),2)\n",
    "}\n",
    "\n",
    "//y-coordinate intersection\n",
    "var yi = function() {\n",
    "    return JXG.toFixed((m2()*((c2() - c1()) / (m1() - m2())) + c2()), 2)\n",
    "}\n",
    "\n",
    "// A toggle button\n",
    "var butt = board.create('button', [-8, 8, 'Show Intersection Point', function() {\n",
    "  var txt;\n",
    "  butt.value = !butt.value;\n",
    "  if (butt.value) {\n",
    "  \ttxt = 'Close';\n",
    "  } else {\n",
    "  \ttxt = 'Show Intersection Point';\n",
    "  }\n",
    "\tbutt.rendNodeButton.innerHTML = txt;\n",
    "}]);\n",
    "\n",
    "// Set initial value for the button\n",
    "if (!JXG.exists(butt.value)) {\n",
    "\tbutt.value = false;\n",
    "}\n",
    "\n",
    "/*var p = board.create('point', [2, -2], {\n",
    "\tvisible: () => butt.value\n",
    "\n",
    "});*/\n",
    "\n",
    "var coordinate = board.create('text', [-9.5, 7, function() {\n",
    "    return \"The Coordinate of Intersection is E\" + '(' + xi() + ',' + yi() + ')'; \n",
    "}], {fontSize: 13, color:'blue', visible: () => butt.value})"
   ]
  },
  {
   "cell_type": "markdown",
   "id": "bf64fd33-3bf6-47f3-af2a-99283b759f31",
   "metadata": {},
   "source": [
    "If the lines AB and CD change its angle of inclination at the same direction and at the same rate, how many coordinate of intersection(s) are there? Please provide the reason."
   ]
  },
  {
   "cell_type": "markdown",
   "id": "42a2fcb4-9c1e-4cc5-8989-7debc6e57d00",
   "metadata": {
    "deletable": false,
    "nbgrader": {
     "cell_type": "markdown",
     "checksum": "c8b504260721e8337533afb4b4ad5fa8",
     "grade": true,
     "grade_id": "p3",
     "locked": false,
     "points": 1,
     "schema_version": 3,
     "solution": true,
     "task": false
    },
    "tags": []
   },
   "source": [
    "YOUR ANSWER HERE"
   ]
  },
  {
   "cell_type": "markdown",
   "id": "31fc83c2-9872-4022-bc2d-8168c7843573",
   "metadata": {},
   "source": [
    "In the following graph displays intersection of three lines: the line, the reflection line, and the reflected line.\n",
    "Drag the lines in any direction (other than the reflection line) to see how the coordinate of intersection interacts."
   ]
  },
  {
   "cell_type": "code",
   "execution_count": null,
   "id": "c6876e6d-e4f7-4e66-b419-8726470ecffb",
   "metadata": {
    "jupyter": {
     "source_hidden": true
    },
    "tags": []
   },
   "outputs": [],
   "source": [
    "%%jsxgraph\n",
    "JXG.Options.text.useMathJax = true;\n",
    "// Create a line (l2) as reflection of another line (l1)\n",
    "// reflection line\n",
    "var board = JXG.JSXGraph.initBoard('box', {\n",
    "    axis:true,\n",
    "    boundingbox:[-10, 10, 10, -10],\n",
    "    showCopyright: false,\n",
    "    grid: true\n",
    "});\n",
    "var li = board.create('line', [1,1,1], {strokeColor: '#aaaaaa'});\n",
    "var reflect = board.create('transform', [li], {type: 'reflect'});\n",
    "\n",
    "var l1 = board.create('line', [1,-5,1], {strokeColor: '#0000FF'});\n",
    "var l2 = board.create('line', [l1, reflect], {strokeColor: '#000000'});\n",
    "var intersection = board.create('intersection', [l1, l2])\n",
    "\n",
    "\n",
    "board.create('text',[3,-3,function(){\n",
    "  return 'First slope = '+ l1.getSlope().toFixed(2)}]);\n",
    "\n",
    "board.create('text',[3,-4,function(){\n",
    "  return 'Second slope = '+ l2.getSlope().toFixed(2)}]);\n",
    "\n",
    "board.create('text',[3,-5,function(){\n",
    "  return 'Third slope = '+ li.getSlope().toFixed(2)}]);"
   ]
  },
  {
   "cell_type": "markdown",
   "id": "a533fdbc-63dc-46fa-b718-47f685ebf749",
   "metadata": {},
   "source": [
    "(Test on analytics and reasoning)\n",
    "<br>\n",
    "Identify the color of the line that matches to the slope displayed on the graph (e.g. Yellow line has the fourth slope). Hence, explain the reason why the slopes do not change when the lines are dragged."
   ]
  },
  {
   "cell_type": "markdown",
   "id": "43a9370d-f8cc-4b5d-a3aa-a94265279c0e",
   "metadata": {
    "deletable": false,
    "nbgrader": {
     "cell_type": "markdown",
     "checksum": "e95afce7c7a31f343c985f237b91b56a",
     "grade": true,
     "grade_id": "p4",
     "locked": false,
     "points": 1,
     "schema_version": 3,
     "solution": true,
     "task": false
    },
    "tags": []
   },
   "source": [
    "YOUR ANSWER HERE"
   ]
  },
  {
   "cell_type": "markdown",
   "id": "fcc0314f-495f-446d-bcc0-1b306a18dba0",
   "metadata": {},
   "source": [
    "## Bonus Exercise: Hail Mary Pass"
   ]
  },
  {
   "cell_type": "markdown",
   "id": "51fdd678-451a-4c9e-9166-d1a2821ee09a",
   "metadata": {},
   "source": [
    "Charlie and Alan are Quarterback and the Wide receiver of their high school's football varsity team, respectively. They are practicing the Hail Mary pass, a long-shot attempt to turn the tide against the opponent's team next week. When the ball is thrown, the direction of the football and Charlie's running path follows a straight line. The moment Charlie catches the football is the point of intersection. The practice is recorded by a drone that is vertically above the football field. The field can be visualized on a 2D plane and the points can be described as follows:\n",
    "\n",
    "*  Point A: Alan\n",
    "*  Point B: the football\n",
    "*  Point C: Charlie\n",
    "*  Point D: Alan's starting point. \n",
    "\n",
    "You can hover on to the points to display the coordinates. Click on the button below to visualize the Hail Mary pass."
   ]
  },
  {
   "cell_type": "code",
   "execution_count": null,
   "id": "5a3ee55a-0341-4fdd-a782-450f3c915077",
   "metadata": {
    "jupyter": {
     "source_hidden": true
    },
    "tags": []
   },
   "outputs": [],
   "source": [
    "%%jsxgraph\n",
    "var board = JXG.JSXGraph.initBoard('box', {\n",
    "    axis:true,\n",
    "    boundingbox:[-10, 10, 10, -10],\n",
    "    showCopyright: false,\n",
    "    grid: true\n",
    "});\n",
    "\n",
    "var touchdown_line = board.create('line', [[-6, 0], [-6, 1.0]]);\n",
    "var shadeline = board.create('inequality', [touchdown_line])\n",
    "var touchdownText = board.create('text' , [-9.5, 1, 'TOUCHDOWN'])\n",
    "\n",
    "var p1 = board.create('point', [3, 3], {size:1}); //receiver\n",
    "var text1 = board.create('text', [-2, 0 , 'Receiver'], {anchor: p1})\n",
    "\n",
    "var p2 = board.create('point', [7, 1], {size:10}); //(2, -4) //football\n",
    "var text2 = board.create('text', [0, -1, \"Football\"], {anchor: p2})\n",
    "\n",
    "\n",
    "var p3 = board.create('point', [7, 1], {size: 1}) //quarterback\n",
    "var text3 = board.create('text', [0, 1, \"Quarterback\"], {anchor: p3})\n",
    "\n",
    "var li = board.create('segment', ['C', 'B'], \n",
    "                      {\n",
    "                         name:'seg',\n",
    "                         strokeColor:'#000000',\n",
    "                         strokeWidth:1,\n",
    "                         highlightStrokeWidth: 5,\n",
    "                         lastArrow: {type: 2, size: 8, highlightSize: 6},\n",
    "                         touchLastPoint: true,\n",
    "                         firstArrow: {type: 3, size: 8}\n",
    "                      })\n",
    "\n",
    "var button = board.create('button', [4, 8, 'Throw football', function() {\n",
    "    p1.moveTo([-7, -2], 2450); //receiver\n",
    "    p2.moveTo([-7, -2], 2500); //football\n",
    "    \n",
    "    var p4 = board.create('point', [3, 3], {size: 1})\n",
    "    \n",
    "    var li2 = board.create('segment', ['D', 'A'],\n",
    "                           {name:'seg',\n",
    "                             strokeColor:'#000000',\n",
    "                             strokeWidth:1,\n",
    "                             highlightStrokeWidth: 5,\n",
    "                             lastArrow: {type: 2, size: 8, highlightSize: 6},\n",
    "                             touchLastPoint: true,\n",
    "                             firstArrow: {type: 3, size: 8},\n",
    "                             dash: 3\n",
    "                            })\n",
    "    \n",
    "     var li3 = board.create('segment', ['A','B'],\n",
    "        {name:'seg',\n",
    "         strokeColor:'#000000',\n",
    "         strokeWidth:1,\n",
    "         highlightStrokeWidth: 5,\n",
    "         lastArrow: {type: 2, size: 8, highlightSize: 6},\n",
    "         touchLastPoint: true,\n",
    "         firstArrow: {type: 3, size: 8},\n",
    "         dash: 3\n",
    "        })\n",
    "\n",
    "}])"
   ]
  },
  {
   "cell_type": "markdown",
   "id": "836dc173-8fdb-42c1-87a6-c7b04ab459dc",
   "metadata": {},
   "source": [
    "(Test on mathematical reasoning)\n",
    "<br>\n",
    "From the graph above, prove mathematically that the two lines are intersecting and find the linear equation of both paths."
   ]
  },
  {
   "cell_type": "markdown",
   "id": "e975457d-1844-4885-b2a9-8753dae63028",
   "metadata": {
    "deletable": false,
    "nbgrader": {
     "cell_type": "markdown",
     "checksum": "916f1693024d3b9864680cccb92f8d5f",
     "grade": true,
     "grade_id": "p5",
     "locked": false,
     "points": 1,
     "schema_version": 3,
     "solution": true,
     "task": false
    },
    "tags": []
   },
   "source": [
    "YOUR ANSWER HERE"
   ]
  }
 ],
 "metadata": {
  "kernelspec": {
   "display_name": "Python 3 (ipykernel)",
   "language": "python",
   "name": "xeus-python"
  },
  "language_info": {
   "codemirror_mode": {
    "name": "ipython",
    "version": 3
   },
   "file_extension": ".py",
   "mimetype": "text/x-python",
   "name": "python",
   "nbconvert_exporter": "python",
   "pygments_lexer": "ipython3",
   "version": "3.10.4"
  },
  "widgets": {
   "application/vnd.jupyter.widget-state+json": {
    "state": {
     "1857fdd6b65448a18d2d98dca4af6d7e": {
      "model_module": "jupyter-divewidgets",
      "model_module_version": "^0.1.5",
      "model_name": "JSWidgetModel",
      "state": {
       "_model_module_version": "^0.1.5",
       "_view_module_version": "^0.1.5",
       "html": "<!DOCTYPE html>\n<html>\n    <head>\n    <style>\n    html, body {\n        height: 100%;\n    }\n    body {\n        width: 100%;\n        display: flex;\n        padding: 0;\n        margin: 0;\n    }\n    .jxgbox {\n        width:100%; \n        flex-grow: 1;\n    }\n    </style>\n    <link rel=\"stylesheet\" type=\"text/css\" href=\"https://jsxgraph.org/distrib/jsxgraph.css\" />\n    <script type=\"text/javascript\" src=\"https://cdn.jsdelivr.net/npm/jsxgraph/distrib/jsxgraphcore.js\"></script>\n    <script type=\"text/javascript\" src=\"https://cdn.jsdelivr.net/npm/mathjax@3/es5/tex-chtml.js\"></script>\n    </head>\n<body>\n<div id=\"box\" class=\"jxgbox\"></div>\n</body>\n</html>",
       "js": "JXG.Options.text.useMathJax = true;\nvar board = JXG.JSXGraph.initBoard('box', {boundingbox: [-10, 10, 11, -10], axis:true, showCopyright: false});\n  \nvar gr = board.create('grid');\n\nvar a = board.create('slider', [[8,-5],[8,5],[-Math.PI / 2, Math.PI / 4 , Math.PI / 2]],{ snapWidth: 0.01 });\n\nvar c = board.create('slider', [[-8,-5],[-8,5],[-10,0,10]],{snapWidth: 0.1, precision: 1,\n                                                          ticks: { drawZero: true, drawLabels: true, ticksDistance: 1,\n                                                                  minTicksDistance: 5, // insertTicks: true,\n                                                                  tickEndings: [1,0],\n                                                                  label: {position: 'lft', offset: [-20,0]}},\n                                                          name: \"c\"});\n\nvar cval = function(){return c.Value();};\nvar T = board.create('point', [0,cval], {name: \"T\", label: \"T\", strokeColor: 'purple', face: 'cross'});\nvar mval = function(){return Math.tan(a.Value());}; //using tangent function\nvar linF0 = function(x){return mval()*x};\nvar linF = function(x){return mval()*x + cval()};\nvar G0 = board.create('functiongraph',[linF0,-5,5], {strokeWidth: 1, dash: 2});\nvar G = board.create('functiongraph',[linF,-5,5], {strokeWidth: 2});\n\nvar ftextval = function(){\n  var vz = \"\";\n  var cv = \"\";\n  if (cval() >= 0.0) {\n      if (cval() == 0.0){\n          cv = \"\"; vz = \"\";\n      } \n      else {\n          vz = \"+\"; \n          cv = JXG.toFixed(cval(),1);\n      }\n  }\n  else {\n      vz = \"\"; \n      cv = JXG.toFixed(cval(),1);\n  };\n\n  if ( mval() > 1252 || mval() < -1252) {\n      vz = \"+\";\n      cv = NaN;\n  }\n\n  return \"\\\\[f(x)=\"+ (mval() > 1252 || mval() < -1252  ? NaN : JXG.toFixed(mval(),2)) + \" \\\\cdot x\" + vz + cv + \"\\\\]\";\n};\n\nvar ftext = board.create('text', [-4.0,8.0,ftextval], {fontSize: 18, color:'blue', cssStyle: 'background-color: rgb(255,255,255)'});\nvar dt = board.create('segment',[[0,0],[0,cval]],{strokeColor: 'purple', strokeWidth: 3});\nvar A = board.create('glider', [1,2,G], {label: {offset: [0,-15]}});\nvar tangent = board.create('tangent', [A]);\nvar st = board.create('slopetriangle', [tangent], {toppoint: {face: 'plus', withLabel: false}});\n\nvar approachpstvinf = function(){\n    var txt = \"\";\n    if (mval() > 1252) {\n        txt = \"Line slope approaches infinity\"\n    }\n    return txt;\n}\n\nvar approachngtvinf = function() {\n    var txt = \"\";\n    if (mval() < -1252) {\n        txt = \"Line slope approaches -infinity\";\n    }\n\n    return txt;\n}\n\nvar c_infinity = function() {\n    var txt = \"\";\n    if (mval() < -1252 || mval() > 1252) {\n        txt = \"Infinite number of y-intercepts\" \n    }\n\n    return txt;\n}\n\nvar approachpstvinftext = board.create('text', [4, 7, approachpstvinf ], {fontSize: 14});\nvar approachngtvinftext = board.create('text', [4, -7, approachngtvinf], {fontSize: 14});\nvar c_infinitytext = board.create('text', [-7, 1, c_infinity], {fontSize: 14});\n\n//overwrites the text value of slider a with the m value\nvar m_text = board.create('text', [7.5,5.5, function(){\n    var txt = \"m = \"+ (mval() > 1252 || mval() < -1252  ? NaN : JXG.toFixed(mval(),2))\n    return txt;\n}], {fontSize: 14, cssStyle: 'background-color: rgb(255,255,255)'})",
       "layout": "IPY_MODEL_ddee97e98861415abd0ca30c1e283a71"
      }
     },
     "39ca75e5c6b049e6bfb382c46fc78a3c": {
      "model_module": "jupyter-divewidgets",
      "model_module_version": "^0.1.5",
      "model_name": "JSWidgetModel",
      "state": {
       "_model_module_version": "^0.1.5",
       "_view_module_version": "^0.1.5",
       "html": "<!DOCTYPE html>\n<html>\n    <head>\n    <style>\n    html, body {\n        height: 100%;\n    }\n    body {\n        width: 100%;\n        display: flex;\n        padding: 0;\n        margin: 0;\n    }\n    .jxgbox {\n        width:100%; \n        flex-grow: 1;\n    }\n    </style>\n    <link rel=\"stylesheet\" type=\"text/css\" href=\"https://jsxgraph.org/distrib/jsxgraph.css\" />\n    <script type=\"text/javascript\" src=\"https://cdn.jsdelivr.net/npm/jsxgraph/distrib/jsxgraphcore.js\"></script>\n    <script type=\"text/javascript\" src=\"https://cdn.jsdelivr.net/npm/mathjax@3/es5/tex-chtml.js\"></script>\n    </head>\n<body>\n<div id=\"box\" class=\"jxgbox\"></div>\n</body>\n</html>",
       "js": "JXG.Options.text.useMathJax = true;\nvar board = JXG.JSXGraph.initBoard('box', {boundingbox: [-14, 14, 14, -14], axis:true, grid:true,  showCopyright:false});\n\nvar p1 = board.create('text', [-13, -11.5, function(){return 'Point A'}]);\nvar x1 = board.create(\"slider\", [[-11, -11], [-4, -11], [-8, -6, 8]], {name:'x1', snapWidth: 0.1})\nvar y1 = board.create(\"slider\", [[-11, -12], [-4,-12], [-8, -5, 8]], {name:'y1', snapWidth: 0.1})\n\nvar p2 = board.create('text', [1, -11.5, function(){return 'Point B' }]);\nvar x2 = board.create(\"slider\", [[3, -11], [10, -11], [-8, 7, 8]], {name:'x2', snapWidth: 0.1})\nvar y2 = board.create(\"slider\", [[3, -12], [10, -12], [-8, 4, 8]], {name:'y2', snapWidth: 0.1})\n\nmval = function(){return ((x2.Value() - x1.Value()).toFixed(2) == 0 ? \"Undefined\" : \n                          ((y2.Value().toFixed(2) - y1.Value()).toFixed(2) / (x2.Value().toFixed(2) - x1.Value().toFixed(2))).toFixed(2))}\n\ncval = function(){return ((x2.Value() - x1.Value()).toFixed(2) == 0 ? \"Undefined\" : \n                          (y1.Value().toFixed(2) - x1.Value().toFixed(2)*((y2.Value().toFixed(2) - y1.Value()).toFixed(2) / (x2.Value().toFixed(2) - x1.Value().toFixed(2))).toFixed(2)).toFixed(2))}\n\n/*points*/\nvar pA = board.create('point',[\n                 function(){return x1.Value();},\n                 function(){return y1.Value();}],\n                 {name:'A',size:2})\n\nvar pB = board.create('point',[\n                 function(){return x2.Value();},\n                 function(){return y2.Value();}],\n                 {name:'B',size:2})\n\n/*line and slope*/\nvar li = board.create('line',[\"A\",\"B\"], {strokeColor:'#00ff00',strokeWidth:2});\n\nvar slope = board.create(\"text\", [3, 10.5, function(){\n    return String.raw`\n    The Slope is\n            \\begin{align*}\n              \\frac{y2-y1}{x2-x1} &= \\frac{${y2.Value().toFixed(2)} - ${y1.Value().toFixed(2)}}{${x2.Value().toFixed(2)} - ${x1.Value().toFixed(2)}}\\\\\n              &= ${mval()}\n            \\end{align*}`;\n}])\n\n/*equation*/\nvar ftextval = function(){\n    \n  var vz = \"\"; //sign\n  var cv = \"\";\n\n  if (cval() >= 0.0 || isNaN(cval())) {\n        if (cval() == 0.0 || isNaN(cval())){\n            cv = \"\"; vz = \"\";\n        } \n        else {\n            vz = \"+\"; cv = JXG.toFixed(cval(),2);\n        }\n  }\n  else {\n      vz = \"\"; cv = JXG.toFixed(cval(),2);\n  };\n\n  if (pA.X() === pB.X() && (pA.Y() !== pB.Y())) {\n        vz = \"+\";\n        cv = NaN;\n    }\n  return \"\\\\[f(x)=\"+ JXG.toFixed(mval(),2) + \" \\\\cdot x\" + vz + cv + \"\\\\]\";\n};\n\nvar ftext = board.create('text', [-12,11,ftextval], {fontSize: 18, color:'blue', cssStyle: 'background-color: rgb(255,255,255)'});\n\nvar c_infinity = function() {\n    var txt = \"\";\n    if (pA.X() === 0 && pB.X() && (pA.Y() !== pB.Y())) {\n        txt = \"Infinite number of y-intercepts\" \n    }\n\n    return txt;\n}",
       "layout": "IPY_MODEL_b95207460ec44fdd8a91e500c1bab5f6"
      }
     },
     "3b683cb05c094ce59bcb035474e0c292": {
      "model_module": "@jupyter-widgets/base",
      "model_module_version": "1.2.0",
      "model_name": "LayoutModel",
      "state": {}
     },
     "4c8999fdc6fb4a1396f35c5a5e7a1c09": {
      "model_module": "@jupyter-widgets/base",
      "model_module_version": "1.2.0",
      "model_name": "LayoutModel",
      "state": {}
     },
     "553ad3fde7f9440dbca9f27a61677917": {
      "model_module": "@jupyter-widgets/base",
      "model_module_version": "1.2.0",
      "model_name": "LayoutModel",
      "state": {}
     },
     "5e81e98e7a7d4f9494dc66b7d6df32af": {
      "model_module": "jupyter-divewidgets",
      "model_module_version": "^0.1.5",
      "model_name": "JSWidgetModel",
      "state": {
       "_model_module_version": "^0.1.5",
       "_view_module_version": "^0.1.5",
       "html": "<!DOCTYPE html>\n<html>\n    <head>\n    <style>\n    html, body {\n        height: 100%;\n    }\n    body {\n        width: 100%;\n        display: flex;\n        padding: 0;\n        margin: 0;\n    }\n    .jxgbox {\n        width:100%; \n        flex-grow: 1;\n    }\n    </style>\n    <link rel=\"stylesheet\" type=\"text/css\" href=\"https://jsxgraph.org/distrib/jsxgraph.css\" />\n    <script type=\"text/javascript\" src=\"https://cdn.jsdelivr.net/npm/jsxgraph/distrib/jsxgraphcore.js\"></script>\n    <script type=\"text/javascript\" src=\"https://cdn.jsdelivr.net/npm/mathjax@3/es5/tex-chtml.js\"></script>\n    </head>\n<body>\n<div id=\"box\" class=\"jxgbox\"></div>\n</body>\n</html>",
       "js": "JXG.Options.text.useMathJax = true;\nvar board = JXG.JSXGraph.initBoard('box', {boundingbox: [-10, 10, 11, -10], axis:true, showCopyright: false});\n  \nvar gr = board.create('grid');\n\nvar a = board.create('slider', [[8,-5],[8,5],[-Math.PI / 2, Math.PI / 4 , Math.PI / 2]],{ snapWidth: 0.01 });\n\nvar c = board.create('slider', [[-8,-5],[-8,5],[-10,0,10]],{snapWidth: 0.1, precision: 1,\n                                                          ticks: { drawZero: true, drawLabels: true, ticksDistance: 1,\n                                                                  minTicksDistance: 5, // insertTicks: true,\n                                                                  tickEndings: [1,0],\n                                                                  label: {position: 'lft', offset: [-20,0]}},\n                                                          name: \"c\"});\n\nvar cval = function(){return c.Value();};\nvar T = board.create('point', [0,cval], {name: \"T\", label: \"T\", strokeColor: 'purple', face: 'cross'});\nvar mval = function(){return Math.tan(a.Value());}; //using tangent function\nvar linF0 = function(x){return mval()*x};\nvar linF = function(x){return mval()*x + cval()};\nvar G0 = board.create('functiongraph',[linF0,-5,5], {strokeWidth: 1, dash: 2});\nvar G = board.create('functiongraph',[linF,-5,5], {strokeWidth: 2});\n\nvar ftextval = function(){\n  var vz = \"\";\n  var cv = \"\";\n  if (cval() >= 0.0) {\n      if (cval() == 0.0){\n          cv = \"\"; vz = \"\";\n      } \n      else {\n          vz = \"+\"; \n          cv = JXG.toFixed(cval(),1);\n      }\n  }\n  else {\n      vz = \"\"; \n      cv = JXG.toFixed(cval(),1);\n  };\n\n  if ( mval() > 1252 || mval() < -1252) {\n      vz = \"+\";\n      cv = NaN;\n  }\n\n  return \"\\\\[f(x)=\"+ (mval() > 1252 || mval() < -1252  ? NaN : JXG.toFixed(mval(),2)) + \" \\\\cdot x\" + vz + cv + \"\\\\]\";\n};\n\nvar ftext = board.create('text', [-4.0,8.0,ftextval], {fontSize: 18, color:'blue', cssStyle: 'background-color: rgb(255,255,255)'});\nvar dt = board.create('segment',[[0,0],[0,cval]],{strokeColor: 'purple', strokeWidth: 3});\nvar A = board.create('glider', [1,2,G], {label: {offset: [0,-15]}});\nvar tangent = board.create('tangent', [A]);\nvar st = board.create('slopetriangle', [tangent], {toppoint: {face: 'plus', withLabel: false}});\n\nvar approachpstvinf = function(){\n    var txt = \"\";\n    if (mval() > 1252) {\n        txt = \"Line slope approaches infinity\"\n    }\n    return txt;\n}\n\nvar approachngtvinf = function() {\n    var txt = \"\";\n    if (mval() < -1252) {\n        txt = \"Line slope approaches -infinity\";\n    }\n\n    return txt;\n}\n\nvar c_infinity = function() {\n    var txt = \"\";\n    if (mval() < -1252 || mval() > 1252) {\n        txt = \"Infinite number of y-intercepts\" \n    }\n\n    return txt;\n}\n\nvar approachpstvinftext = board.create('text', [4, 7, approachpstvinf ], {fontSize: 14});\nvar approachngtvinftext = board.create('text', [4, -7, approachngtvinf], {fontSize: 14});\nvar c_infinitytext = board.create('text', [-7, 1, c_infinity], {fontSize: 14});\n\n//overwrites the text value of slider a with the m value\nvar m_text = board.create('text', [7.5,5.5, function(){\n    var txt = \"m = \"+ (mval() > 1252 || mval() < -1252  ? NaN : JXG.toFixed(mval(),2))\n    return txt;\n}], {fontSize: 14, cssStyle: 'background-color: rgb(255,255,255)'})",
       "layout": "IPY_MODEL_4c8999fdc6fb4a1396f35c5a5e7a1c09"
      }
     },
     "64bad9cb457d46948a9394acf1220cd5": {
      "model_module": "@jupyter-widgets/base",
      "model_module_version": "1.2.0",
      "model_name": "LayoutModel",
      "state": {}
     },
     "67e0bcc53ea440aaae476364d7d59748": {
      "model_module": "jupyter-divewidgets",
      "model_module_version": "^0.1.5",
      "model_name": "JSWidgetModel",
      "state": {
       "_model_module_version": "^0.1.5",
       "_view_module_version": "^0.1.5",
       "html": "<!DOCTYPE html>\n<html>\n    <head>\n    <style>\n    html, body {\n        height: 100%;\n    }\n    body {\n        width: 100%;\n        display: flex;\n        padding: 0;\n        margin: 0;\n    }\n    .jxgbox {\n        width:100%; \n        flex-grow: 1;\n    }\n    </style>\n    <link rel=\"stylesheet\" type=\"text/css\" href=\"https://jsxgraph.org/distrib/jsxgraph.css\" />\n    <script type=\"text/javascript\" src=\"https://cdn.jsdelivr.net/npm/jsxgraph/distrib/jsxgraphcore.js\"></script>\n    <script type=\"text/javascript\" src=\"https://cdn.jsdelivr.net/npm/mathjax@3/es5/tex-chtml.js\"></script>\n    </head>\n<body>\n<div id=\"box\" class=\"jxgbox\"></div>\n</body>\n</html>",
       "js": "JXG.Options.text.useMathJax = true;\nvar board = JXG.JSXGraph.initBoard('box', {boundingbox: [-7, 7, 7, -7], axis:true, grid:true, showCopyright:false});\nvar p1, p2, p3, l1, pl1;\n\np1 = board.create('point', [-2.0, 3.0]);\np2 = board.create('point', [2.0, 1.0]);\nl1 = board.create('line', [p1, p2]);\n\np3 = board.create('point', [-1.5, 4.0]);\npl1 = board.create('arrowparallel', [p1, p2, p3], {straightFirst: false, straightLast: false});\n\nboard.create('text',[3,-3,function(){\n  return 'slope = '+ pl1.getSlope().toFixed(2)}]);\n\nvar i = board.create('intersection', [l1, pl1], {face: 'x', size: 2})",
       "layout": "IPY_MODEL_553ad3fde7f9440dbca9f27a61677917"
      }
     },
     "69c06c6c84ef452d947b04c1d22d440a": {
      "model_module": "jupyter-divewidgets",
      "model_module_version": "^0.1.5",
      "model_name": "JSWidgetModel",
      "state": {
       "_model_module_version": "^0.1.5",
       "_view_module_version": "^0.1.5",
       "html": "<!DOCTYPE html>\n<html>\n    <head>\n    <style>\n    html, body {\n        height: 100%;\n    }\n    body {\n        width: 100%;\n        display: flex;\n        padding: 0;\n        margin: 0;\n    }\n    .jxgbox {\n        width:100%; \n        flex-grow: 1;\n    }\n    </style>\n    <link rel=\"stylesheet\" type=\"text/css\" href=\"https://jsxgraph.org/distrib/jsxgraph.css\" />\n    <script type=\"text/javascript\" src=\"https://cdn.jsdelivr.net/npm/jsxgraph/distrib/jsxgraphcore.js\"></script>\n    <script type=\"text/javascript\" src=\"https://cdn.jsdelivr.net/npm/mathjax@3/es5/tex-chtml.js\"></script>\n    </head>\n<body>\n<div id=\"box\" class=\"jxgbox\"></div>\n</body>\n</html>",
       "js": "var board = JXG.JSXGraph.initBoard('box', {boundingbox: [-14, 14, 14, -14], axis:true, grid:true,  showCopyright:false});\nvar p1 = board.create('point',[-6,-5], {name:'A'});\nvar p2 = board.create('point',[7,4], {name:'B'});\n\nvar li1 = board.create('line',[p1,p2], {straightFirst:false, straightLast:false, strokeWidth:2, dash:2})",
       "layout": "IPY_MODEL_7b8e7fbafbd94b0fa27205a48eb883c6"
      }
     },
     "7b8e7fbafbd94b0fa27205a48eb883c6": {
      "model_module": "@jupyter-widgets/base",
      "model_module_version": "1.2.0",
      "model_name": "LayoutModel",
      "state": {}
     },
     "80a0dd3a60e0483885623cbae7856abf": {
      "model_module": "@jupyter-widgets/base",
      "model_module_version": "1.2.0",
      "model_name": "LayoutModel",
      "state": {}
     },
     "8255ffe2b64943a0b319e260588789bd": {
      "model_module": "jupyter-divewidgets",
      "model_module_version": "^0.1.5",
      "model_name": "JSWidgetModel",
      "state": {
       "_model_module_version": "^0.1.5",
       "_view_module_version": "^0.1.5",
       "html": "<!DOCTYPE html>\n<html>\n    <head>\n    <style>\n    html, body {\n        height: 100%;\n    }\n    body {\n        width: 100%;\n        display: flex;\n        padding: 0;\n        margin: 0;\n    }\n    .jxgbox {\n        width:100%; \n        flex-grow: 1;\n    }\n    </style>\n    <link rel=\"stylesheet\" type=\"text/css\" href=\"https://jsxgraph.org/distrib/jsxgraph.css\" />\n    <script type=\"text/javascript\" src=\"https://cdn.jsdelivr.net/npm/jsxgraph/distrib/jsxgraphcore.js\"></script>\n    <script type=\"text/javascript\" src=\"https://cdn.jsdelivr.net/npm/mathjax@3/es5/tex-chtml.js\"></script>\n    </head>\n<body>\n<div id=\"box\" class=\"jxgbox\"></div>\n</body>\n</html>",
       "js": "var board = JXG.JSXGraph.initBoard('box', {boundingbox:[-5,5,4,-5], axis: true, grid: true, showCopyright: false});\n\nvar rise = board.create('slider', [[3, -1.5],[3, 1.5],[-3, 2, 3]], {name:'rise', snapWidth: 0.1})\nvar run = board.create('slider', [[-1.5, -4], [1.5, -4], [-3, 1.5, 3]], {name:'run', snapWidth: 0.1})\n\nvar A = board.create('point', [-1,-1]),\n    B = board.create('point', [function(){return run.Value() - 1}, -1]),\n    C = board.create('point', [function(){return run.Value() - 1}, function(){return rise.Value() - 1}]),\n    alpha = board.create('nonreflexangle', [B,A,C], {type:'sector', orthoType:'sectordot', orthoSensitivity:2, radius:0.5})\n    beta = board.create('nonreflexangle', [C,B,A], {type:'sector', orthoType:'square', orthoSensitivity:2, radius:0.2});\n\nvar triArr1 = [A, B, C];\nvar tri = board.createElement('polygon',triArr1,{strokeWidth:2, strokeColor:'#dd00dd',highlight:false});\n\nvar li = board.create('line', ['A', 'C'], {strokeColor:'#00ff00',strokeWidth:2})",
       "layout": "IPY_MODEL_64bad9cb457d46948a9394acf1220cd5"
      }
     },
     "8b2a9fe0c14a40ba82cc56e8e18ab01c": {
      "model_module": "jupyter-divewidgets",
      "model_module_version": "^0.1.5",
      "model_name": "JSWidgetModel",
      "state": {
       "_model_module_version": "^0.1.5",
       "_view_module_version": "^0.1.5",
       "html": "<!DOCTYPE html>\n<html>\n    <head>\n    <style>\n    html, body {\n        height: 100%;\n    }\n    body {\n        width: 100%;\n        display: flex;\n        padding: 0;\n        margin: 0;\n    }\n    .jxgbox {\n        width:100%; \n        flex-grow: 1;\n    }\n    </style>\n    <link rel=\"stylesheet\" type=\"text/css\" href=\"https://jsxgraph.org/distrib/jsxgraph.css\" />\n    <script type=\"text/javascript\" src=\"https://cdn.jsdelivr.net/npm/jsxgraph/distrib/jsxgraphcore.js\"></script>\n    <script type=\"text/javascript\" src=\"https://cdn.jsdelivr.net/npm/mathjax@3/es5/tex-chtml.js\"></script>\n    </head>\n<body>\n<div id=\"box\" class=\"jxgbox\"></div>\n</body>\n</html>",
       "js": "//JXG.Options.text.useMathJax = true;\nvar board = JXG.JSXGraph.initBoard('box', {\n    axis:true,\n    boundingbox:[-10, 10, 10, -10],\n    showCopyright: false,\n});\n\nvar gr = board.create('grid');\n\n//line1\nvar p1 = board.create('point', [6, 4], {size: 2})   //A\nvar p2 = board.create('point', [-4, -6], {size: 2}) //B\nvar li1 = board.create('line', [p1, p2])\n\nvar m1 = function(){\n    return ((p2.Y()- p1.Y())/(p2.X() - p1.X()))\n}\n\nvar c1 = function(){\n    return (p1.Y() - ((p2.Y() - p1.Y())/(p2.X()- p1.X()))*p1.X())\n}\n\n//line2\nvar p3 = board.create('point', [6, 8], {size: 2})   //C\nvar p4 = board.create('point', [-7, -5], {size: 2}) //D\nvar li2 = board.create('line', [p3, p4])\n\nvar m2 = function(){\n    return ((p4.Y()- p3.Y())/(p4.X() - p3.X()))\n}\n\nvar c2 = function(){\n    return (p3.Y() - ((p4.Y() - p3.Y())/(p4.X()- p3.X()))*p3.X())\n}\n\n//intersection\nvar i = board.create('intersection', [li1, li2], {face: 'x', size: 2})\n\n//text\nvar ftextval1 = function(){\n    \n  var vz = \"\"; //sign\n  var cv = \"\";\n\n  if (c1() >= 0.0 || isNaN(c1())) {\n        if (c1() == 0.0 || isNaN(c1())){\n            cv = \"\"; vz = \"\";\n        } \n        else {\n            vz = \"+\"; cv = JXG.toFixed(c1(),2);\n        }\n  }\n  else {\n      vz = \"\"; cv = JXG.toFixed(c1(),2);\n  };\n  return \"Line AB f(x) = \"+ JXG.toFixed(m1(),2) + \"x \" + vz + \" \" + cv;\n};\n\nvar ftextval2 = function(){\n    \n  var vz = \"\"; //sign\n  var cv = \"\";\n\n  if (c2() >= 0.0 || isNaN(c2())) {\n        if (c2() == 0.0 || isNaN(c2())){\n            cv = \"\"; vz = \"\";\n        } \n        else {\n            vz = \"+\"; cv = JXG.toFixed(c2(),2);\n        }\n  }\n  else {\n      vz = \"\"; cv = JXG.toFixed(c2(),2);\n  };\n  return \"Line CD f(x) = \"+ JXG.toFixed(m2(),2) + \"x \" + vz + \" \" + cv;\n};\n\nvar ftext1 = board.create('text', [3,-5.5,ftextval1], {fontSize: 15});\nvar ftext2 = board.create('text', [3,-7,ftextval2], {fontSize: 15});\n\n\n//x-coordinate intersection\nvar xi = function() {\n    return JXG.toFixed(((c2() - c1()) / (m1() - m2())),2)\n}\n\n//y-coordinate intersection\nvar yi = function() {\n    return JXG.toFixed((m2()*((c2() - c1()) / (m1() - m2())) + c2()), 2)\n}\n\n// A toggle button\nvar butt = board.create('button', [-8, 8, 'Show Intersection Point', function() {\n  var txt;\n  butt.value = !butt.value;\n  if (butt.value) {\n  \ttxt = 'Close';\n  } else {\n  \ttxt = 'Show Intersection Point';\n  }\n\tbutt.rendNodeButton.innerHTML = txt;\n}]);\n\n// Set initial value for the button\nif (!JXG.exists(butt.value)) {\n\tbutt.value = false;\n}\n\n/*var p = board.create('point', [2, -2], {\n\tvisible: () => butt.value\n\n});*/\n\nvar coordinate = board.create('text', [-9.5, 7, function() {\n    return \"The Coordinate of Intersection is E\" + '(' + xi() + ',' + yi() + ')'; \n}], {fontSize: 13, color:'blue', visible: () => butt.value})",
       "layout": "IPY_MODEL_3b683cb05c094ce59bcb035474e0c292"
      }
     },
     "8b7e5ac02e364ba3a5216b730de42747": {
      "model_module": "@jupyter-widgets/base",
      "model_module_version": "1.2.0",
      "model_name": "LayoutModel",
      "state": {}
     },
     "8d44a8eb22f543d9bedc9ca60a0c6c89": {
      "model_module": "@jupyter-widgets/base",
      "model_module_version": "1.2.0",
      "model_name": "LayoutModel",
      "state": {}
     },
     "9cf335c6cdc74b4898d6e31595e3530c": {
      "model_module": "jupyter-divewidgets",
      "model_module_version": "^0.1.5",
      "model_name": "JSWidgetModel",
      "state": {
       "_model_module_version": "^0.1.5",
       "_view_module_version": "^0.1.5",
       "html": "<!DOCTYPE html>\n<html>\n    <head>\n    <style>\n    html, body {\n        height: 100%;\n    }\n    body {\n        width: 100%;\n        display: flex;\n        padding: 0;\n        margin: 0;\n    }\n    .jxgbox {\n        width:100%; \n        flex-grow: 1;\n    }\n    </style>\n    <link rel=\"stylesheet\" type=\"text/css\" href=\"https://jsxgraph.org/distrib/jsxgraph.css\" />\n    <script type=\"text/javascript\" src=\"https://cdn.jsdelivr.net/npm/jsxgraph/distrib/jsxgraphcore.js\"></script>\n    <script type=\"text/javascript\" src=\"https://cdn.jsdelivr.net/npm/mathjax@3/es5/tex-chtml.js\"></script>\n    </head>\n<body>\n<div id=\"box\" class=\"jxgbox\"></div>\n</body>\n</html>",
       "js": "JXG.Options.text.useMathJax = true;\nvar board = JXG.JSXGraph.initBoard('box', {boundingbox: [-7, 7, 7, -7], axis:true, grid:true,  showCopyright:false});\n\nvar p1 = board.create('point', [4.5, 2.0]);\nvar p2 = board.create('point', [20, 20]);\nvar li1 = board.create('line', [p1, p2]);\n\nvar m = board.create(\"text\",[3, -5, function() {return 'm = ' + ((p2.Y()- p1.Y())/(p2.X() - p1.X())).toFixed(2)}], { fontSize: 18})\n\nvar c= board.create(\"text\", [3, 5, function(){\n    return String.raw`\n    The \\(y\\)-intercept is\n            \\begin{align*}\n              y - mx = ${(p1.Y() - ((p2.Y() - p1.Y())/(p2.X()- p1.X())).toFixed(2)*p1.X()).toFixed(2)}\n            \\end{align*}`;\n}])\n\nvar cval = function() {return (p1.Y() - ((p2.Y() - p1.Y())/(p2.X()- p1.X())).toFixed(2)*p1.X()).toFixed(2)}\nvar mval = function() {return ((p2.Y()- p1.Y())/(p2.X() - p1.X())).toFixed(2)}\n\nvar ftextval = function(){\n    \n  var vz = \"\"; //sign\n  var cv = \"\";\n\n  if (cval() >= 0.0 || isNaN(cval())) {\n        if (cval() == 0.0 || isNaN(cval())){\n            cv = \"\"; vz = \"\";\n        } \n        else {\n            vz = \"+\"; cv = JXG.toFixed(cval(),2);\n        }\n  }\n  else {\n      vz = \"\"; cv = JXG.toFixed(cval(),2);\n  };\n  return \"\\\\[f(x)=\"+ JXG.toFixed(mval(),2) + \" \\\\cdot x\" + vz + cv + \"\\\\]\";\n};\n\nvar ftext = board.create('text', [-6,5,ftextval], {fontSize: 18, color:'blue', cssStyle: 'background-color: rgb(255,255,255)'});",
       "layout": "IPY_MODEL_a8b018f477c84aa784d9a0865cedf2e7"
      }
     },
     "a8b018f477c84aa784d9a0865cedf2e7": {
      "model_module": "@jupyter-widgets/base",
      "model_module_version": "1.2.0",
      "model_name": "LayoutModel",
      "state": {}
     },
     "b95207460ec44fdd8a91e500c1bab5f6": {
      "model_module": "@jupyter-widgets/base",
      "model_module_version": "1.2.0",
      "model_name": "LayoutModel",
      "state": {}
     },
     "b9e7e976dcab442d8f53b6c17c21d2da": {
      "model_module": "jupyter-divewidgets",
      "model_module_version": "^0.1.5",
      "model_name": "JSWidgetModel",
      "state": {
       "_model_module_version": "^0.1.5",
       "_view_module_version": "^0.1.5",
       "html": "<!DOCTYPE html>\n<html>\n    <head>\n    <style>\n    html, body {\n        height: 100%;\n    }\n    body {\n        width: 100%;\n        display: flex;\n        padding: 0;\n        margin: 0;\n    }\n    .jxgbox {\n        width:100%; \n        flex-grow: 1;\n    }\n    </style>\n    <link rel=\"stylesheet\" type=\"text/css\" href=\"https://jsxgraph.org/distrib/jsxgraph.css\" />\n    <script type=\"text/javascript\" src=\"https://cdn.jsdelivr.net/npm/jsxgraph/distrib/jsxgraphcore.js\"></script>\n    <script type=\"text/javascript\" src=\"https://cdn.jsdelivr.net/npm/mathjax@3/es5/tex-chtml.js\"></script>\n    </head>\n<body>\n<div id=\"box\" class=\"jxgbox\"></div>\n</body>\n</html>",
       "js": "JXG.Options.text.useMathJax = true;\n// Create a line (l2) as reflection of another line (l1)\n// reflection line\nvar board = JXG.JSXGraph.initBoard('box', {\n    axis:true,\n    boundingbox:[-10, 10, 10, -10],\n    showCopyright: false,\n    grid: true\n});\nvar li = board.create('line', [1,1,1], {strokeColor: '#aaaaaa'});\nvar reflect = board.create('transform', [li], {type: 'reflect'});\n\nvar l1 = board.create('line', [1,-5,1], {strokeColor: '#0000FF'});\nvar l2 = board.create('line', [l1, reflect], {strokeColor: '#000000'});\nvar intersection = board.create('intersection', [l1, l2])\n\n\nboard.create('text',[3,-3,function(){\n  return 'First slope = '+ l1.getSlope().toFixed(2)}]);\n\nboard.create('text',[3,-4,function(){\n  return 'Second slope = '+ l2.getSlope().toFixed(2)}]);\n\nboard.create('text',[3,-5,function(){\n  return 'Third slope = '+ li.getSlope().toFixed(2)}]);",
       "layout": "IPY_MODEL_8d44a8eb22f543d9bedc9ca60a0c6c89"
      }
     },
     "bce178202a404b259140140b1c7ebf07": {
      "model_module": "jupyter-divewidgets",
      "model_module_version": "^0.1.5",
      "model_name": "JSWidgetModel",
      "state": {
       "_model_module_version": "^0.1.5",
       "_view_module_version": "^0.1.5",
       "html": "<!DOCTYPE html>\n<html>\n    <head>\n    <style>\n    html, body {\n        height: 100%;\n    }\n    body {\n        width: 100%;\n        display: flex;\n        padding: 0;\n        margin: 0;\n    }\n    .jxgbox {\n        width:100%; \n        flex-grow: 1;\n    }\n    </style>\n    <link rel=\"stylesheet\" type=\"text/css\" href=\"https://jsxgraph.org/distrib/jsxgraph.css\" />\n    <script type=\"text/javascript\" src=\"https://cdn.jsdelivr.net/npm/jsxgraph/distrib/jsxgraphcore.js\"></script>\n    <script type=\"text/javascript\" src=\"https://cdn.jsdelivr.net/npm/mathjax@3/es5/tex-chtml.js\"></script>\n    </head>\n<body>\n<div id=\"box\" class=\"jxgbox\"></div>\n</body>\n</html>",
       "js": "var board = JXG.JSXGraph.initBoard('box', {\n    axis:true,\n    boundingbox:[-10, 10, 10, -10],\n    showCopyright: false,\n    grid: true\n});\n\nvar touchdown_line = board.create('line', [[-6, 0], [-6, 1.0]]);\nvar shadeline = board.create('inequality', [touchdown_line])\nvar touchdownText = board.create('text' , [-9.5, 1, 'TOUCHDOWN'])\n\nvar p1 = board.create('point', [3, 3], {size:1}); //receiver\nvar text1 = board.create('text', [-2, 0 , 'Receiver'], {anchor: p1})\n\nvar p2 = board.create('point', [7, 1], {size:10}); //(2, -4) //football\nvar text2 = board.create('text', [0, -1, \"Football\"], {anchor: p2})\n\n\nvar p3 = board.create('point', [7, 1], {size: 1}) //quarterback\nvar text3 = board.create('text', [0, 1, \"Quarterback\"], {anchor: p3})\n\nvar li = board.create('segment', ['C', 'B'], \n                      {\n                         name:'seg',\n                         strokeColor:'#000000',\n                         strokeWidth:1,\n                         highlightStrokeWidth: 5,\n                         lastArrow: {type: 2, size: 8, highlightSize: 6},\n                         touchLastPoint: true,\n                         firstArrow: {type: 3, size: 8}\n                      })\n\nvar button = board.create('button', [4, 8, 'Throw football', function() {\n    p1.moveTo([-7, -2], 2450); //receiver\n    p2.moveTo([-7, -2], 2500); //football\n    \n    var p4 = board.create('point', [3, 3], {size: 1})\n    \n    var li2 = board.create('segment', ['D', 'A'],\n                           {name:'seg',\n                             strokeColor:'#000000',\n                             strokeWidth:1,\n                             highlightStrokeWidth: 5,\n                             lastArrow: {type: 2, size: 8, highlightSize: 6},\n                             touchLastPoint: true,\n                             firstArrow: {type: 3, size: 8},\n                             dash: 3\n                            })\n    \n     var li3 = board.create('segment', ['A','B'],\n        {name:'seg',\n         strokeColor:'#000000',\n         strokeWidth:1,\n         highlightStrokeWidth: 5,\n         lastArrow: {type: 2, size: 8, highlightSize: 6},\n         touchLastPoint: true,\n         firstArrow: {type: 3, size: 8},\n         dash: 3\n        })\n\n}])",
       "layout": "IPY_MODEL_8b7e5ac02e364ba3a5216b730de42747"
      }
     },
     "ddee97e98861415abd0ca30c1e283a71": {
      "model_module": "@jupyter-widgets/base",
      "model_module_version": "1.2.0",
      "model_name": "LayoutModel",
      "state": {}
     },
     "f7b486005a6242ecb2a06421afd96c50": {
      "model_module": "jupyter-divewidgets",
      "model_module_version": "^0.1.5",
      "model_name": "JSWidgetModel",
      "state": {
       "_model_module_version": "^0.1.5",
       "_view_module_version": "^0.1.5",
       "html": "<!DOCTYPE html>\n<html>\n    <head>\n    <style>\n    html, body {\n        height: 100%;\n    }\n    body {\n        width: 100%;\n        display: flex;\n        padding: 0;\n        margin: 0;\n    }\n    .jxgbox {\n        width:100%; \n        flex-grow: 1;\n    }\n    </style>\n    <link rel=\"stylesheet\" type=\"text/css\" href=\"https://jsxgraph.org/distrib/jsxgraph.css\" />\n    <script type=\"text/javascript\" src=\"https://cdn.jsdelivr.net/npm/jsxgraph/distrib/jsxgraphcore.js\"></script>\n    <script type=\"text/javascript\" src=\"https://cdn.jsdelivr.net/npm/mathjax@3/es5/tex-chtml.js\"></script>\n    </head>\n<body>\n<div id=\"box\" class=\"jxgbox\"></div>\n</body>\n</html>",
       "js": "JXG.Options.text.useMathJax = true;\n// Create a line (l2) as reflection of another line (l1)\n// reflection line\nvar board = JXG.JSXGraph.initBoard('box', {\n    axis:true,\n    boundingbox:[-10, 10, 10, -10],\n    showCopyright: false,\n    grid: true\n});\nvar li = board.create('line', [1,1,1], {strokeColor: '#aaaaaa'});\nvar reflect = board.create('transform', [li], {type: 'reflect'});\n\nvar l1 = board.create('line', [1,-5,1], {strokeColor: '#0000FF'});\nvar l2 = board.create('line', [l1, reflect], {strokeColor: '#000000'});\nvar intersection = board.create('intersection', [l1, l2])\n\n\nboard.create('text',[3,-3,function(){\n  return 'First slope = '+ l1.getSlope().toFixed(2)}]);\n\nboard.create('text',[3,-4,function(){\n  return 'Second slope = '+ l2.getSlope().toFixed(2)}]);\n\nboard.create('text',[3,-5,function(){\n  return 'Third slope = '+ li.getSlope().toFixed(2)}]);",
       "layout": "IPY_MODEL_80a0dd3a60e0483885623cbae7856abf"
      }
     }
    },
    "version_major": 2,
    "version_minor": 0
   }
  }
 },
 "nbformat": 4,
 "nbformat_minor": 5
}
