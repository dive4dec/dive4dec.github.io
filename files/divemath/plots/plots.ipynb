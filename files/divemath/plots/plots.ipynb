{
 "cells": [
  {
   "cell_type": "markdown",
   "id": "c88a2e2f-d877-491d-adfd-0774b1048a84",
   "metadata": {},
   "source": [
    "# Plotting Functions"
   ]
  },
  {
   "cell_type": "markdown",
   "id": "6a50420e-6061-4dcc-94a2-ca0e0dc9c796",
   "metadata": {},
   "source": [
    "**DIVE into Math**\n",
    "\n",
    "---"
   ]
  },
  {
   "cell_type": "markdown",
   "id": "f2d265e0-8177-4bcd-b29f-4f59162c501c",
   "metadata": {},
   "source": [
    "Contributor(s): \n",
    "\n",
    "- Nurdaulet TAUMERGENOV\n",
    "- Michael LIM\n",
    "\n",
    "---"
   ]
  },
  {
   "cell_type": "code",
   "execution_count": null,
   "id": "45777c8c-f182-4278-a39c-84f96ca17d99",
   "metadata": {},
   "outputs": [],
   "source": [
    "%reload_ext divewidgets"
   ]
  },
  {
   "cell_type": "markdown",
   "id": "5145434e-1c4c-4b16-9ba2-7df6aadf11ea",
   "metadata": {
    "tags": []
   },
   "source": [
    "## Sketch and compare graphs of various types of functions"
   ]
  },
  {
   "cell_type": "markdown",
   "id": "33f18827-ec4f-4422-9250-96958522eae3",
   "metadata": {},
   "source": [
    "Sketch and compare graphs of various types of functions includes: constant, linear, quadratic, trigonometric, exponential and logarithmic functions.  \n",
    "\n",
    "Comparison criterias:\n",
    " * Domains\n",
    " * Existance of min/max values\n",
    " * Symmetry\n",
    " * Periodicity"
   ]
  },
  {
   "cell_type": "markdown",
   "id": "289dbe45-87e9-4039-9d98-af2c6b4a9e04",
   "metadata": {},
   "source": [
    "### **Constant Function**"
   ]
  },
  {
   "cell_type": "markdown",
   "id": "46bae864-45b6-4857-b672-8852a94f1d72",
   "metadata": {
    "tags": []
   },
   "source": [
    "#### __Graph of constant functions__"
   ]
  },
  {
   "cell_type": "code",
   "execution_count": null,
   "id": "ac9edaef-99b3-47ca-abbf-be1c88e10e11",
   "metadata": {
    "jupyter": {
     "source_hidden": true
    },
    "tags": []
   },
   "outputs": [],
   "source": [
    "%%jsxgraph\n",
    "JXG.Options.text.useMathJax = true;\n",
    "//board\n",
    "var brd = JXG.JSXGraph.initBoard('box', {boundingbox: [-5, 5, 5, -5], axis: true, showCopyright:false});\n",
    "\n",
    "// Slider k\n",
    "var k = brd.create('slider', [[1, -4], [4,-4], [-5, 1, 5]], {name:'k', snapWidth: 0.1});\n",
    "\n",
    "// Graph of y = k\n",
    "var line = brd.create('line', [[-4,function(){return k.Value()}],[4,function(){return k.Value(); }]], {strokeWidth:2});\n",
    "\n",
    "\n",
    "// texts\n",
    "var formula1 = brd.create('text', [2.5, function() {return k.Value() + 0.3} , function(){return 'y = ' + k.Value().toFixed(1); }], {fontSize: 15});\n"
   ]
  },
  {
   "cell_type": "markdown",
   "id": "d8bb56dd-9b16-41ea-a017-95bf5bf71442",
   "metadata": {
    "tags": []
   },
   "source": [
    "**Domain and Range of a Constant Function**\n",
    "\n",
    "A constant function is a linear function whose range contains only one element irrespective of the number of elements of the domain. Since the constant function is defined for all real values of x:\n",
    "* Its domain is the set of all real numbers, $R$. So, domain = $R$\n",
    "* Since a constant function $f(x) = k$ leads to only one output, which is $k$, its range is the set with just one element $k$. Range = {$k$}\n",
    "\n",
    "**Minimum and Maximum values (Extreme values)**\n",
    "\n",
    "\n",
    "A function does not have an extreme value (Maximum or Minimum) when it is a constant function ($y=c$ or $x=c$)\n",
    "\n",
    "**Symmetry**\n",
    "\n",
    "The graph of a constant function $f(x) = k$ (or $y = k$) is symmetric with respect to the y-axis.\n",
    "\n",
    "Similarly, the graph of a constant function $x = k$ is symmetric with respect to the x-axis.\n",
    "\n",
    "**Periodicity**\n",
    "Constants are periodic functions of any period, and therefore, they do not have a fundamental period."
   ]
  },
  {
   "cell_type": "markdown",
   "id": "de968d63-a454-4508-a360-75f3a1f96c39",
   "metadata": {},
   "source": [
    "**Exercise**\n",
    "\n",
    "Given the formula of the constant function, try to find inverse function to $y = k$. Write your answer below:\n",
    "\n",
    "$$? = ?$$\n",
    "\n",
    "*hint*: To find out inverse function of a given function, try to swap roles of $X$ and $Y$."
   ]
  },
  {
   "cell_type": "markdown",
   "id": "251eb9dc-e2f8-43d3-a690-19c01744c55c",
   "metadata": {
    "deletable": false,
    "nbgrader": {
     "cell_type": "markdown",
     "checksum": "11b903531c3dc15001aba9cee6eb2924",
     "grade": true,
     "grade_id": "p1",
     "locked": false,
     "points": 1,
     "schema_version": 3,
     "solution": true,
     "task": false
    },
    "tags": []
   },
   "source": [
    "YOUR ANSWER HERE"
   ]
  },
  {
   "cell_type": "markdown",
   "id": "bee45e2c-245a-44d0-8b89-755149decd23",
   "metadata": {},
   "source": [
    "### **Linear function**"
   ]
  },
  {
   "cell_type": "markdown",
   "id": "9f60f0b1-6304-4f77-9fbf-4c369e57e6db",
   "metadata": {},
   "source": [
    "The linear function of a real variable that takes a general equation:\n",
    "$$ y = mx + c, $$\n",
    "whose graph is a straight line."
   ]
  },
  {
   "cell_type": "markdown",
   "id": "39e35373-df88-4786-8c9a-d515a7dbbbeb",
   "metadata": {},
   "source": [
    "**Graph of linear function**"
   ]
  },
  {
   "cell_type": "code",
   "execution_count": null,
   "id": "a1e60cef-ec92-4095-a1b0-f4e3b0505abf",
   "metadata": {
    "jupyter": {
     "source_hidden": true
    },
    "tags": []
   },
   "outputs": [],
   "source": [
    "%%jsxgraph\n",
    "JXG.Options.text.useMathJax = true;\n",
    "//board\n",
    "var brd = JXG.JSXGraph.initBoard('box', {boundingbox: [-5, 5, 5, -5], axis: true, showCopyright:false});\n",
    "\n",
    "// Slider a,b,c\n",
    "var m = brd.create('slider', [[1, -3.5], [4,-3.5], [-5, 1, 5]], {name:'m', snapWidth: 0.5});\n",
    "var c = brd.create('slider', [[1, -4], [4,-4], [-5, 1, 5]], {name:'c', snapWidth: 0.5});\n",
    "\n",
    "\n",
    "var curve = brd.create('functiongraph', [function(t){ \n",
    "        return m.Value() * t + c.Value(); \n",
    "    }, -10, 10]);\t\n",
    "\n",
    "// texts\n",
    "var formula2 = brd.create('text', [-4, 4 , function(){return 'y = ' + m.Value().toFixed(1) + \"x + \"+c.Value().toFixed(1); }], {fontSize: 15});\n"
   ]
  },
  {
   "cell_type": "markdown",
   "id": "2a2ef755-7358-4c6c-8568-23cb90c7be5b",
   "metadata": {},
   "source": [
    "**Domain and Range of a Linear Function**\n",
    "\n",
    "The domain of a linear function is the set of all real numbers, and the range of a linear function is also the set of all real numbers.\n",
    "\n",
    "When, the slope $m \\neq 0$ (else it is constant funciton):\n",
    "* The domain of a linear function  = $\\mathbb{R}$\n",
    "* The range of a linear function = $\\mathbb{R}$ \n",
    "\n",
    "**Minimum and Maximum values (Extreme values)**\n",
    "\n",
    "Since, the domain and range of a linear function are $\\mathbb{R}$, linear function does not have min or max values.\n"
   ]
  },
  {
   "cell_type": "markdown",
   "id": "2ff20f1e-1518-4f3f-b341-3ba5834a232d",
   "metadata": {},
   "source": [
    "**Exercise**\n",
    "\n",
    "*Constant* functions are special cases of linear functions. Using interactive Graph above, find out how we can convert linear function to constant function?\n",
    "\n"
   ]
  },
  {
   "cell_type": "markdown",
   "id": "d0061389-1a8d-465f-8abd-c5923ad2ffd5",
   "metadata": {
    "deletable": false,
    "nbgrader": {
     "cell_type": "markdown",
     "checksum": "60fdd1f7ebf4bcb905d160e67f88525a",
     "grade": true,
     "grade_id": "p2",
     "locked": false,
     "points": 1,
     "schema_version": 3,
     "solution": true,
     "task": false
    },
    "tags": []
   },
   "source": [
    "YOUR ANSWER HERE"
   ]
  },
  {
   "cell_type": "markdown",
   "id": "78907697-bd5d-4e13-b377-686f1a8a1568",
   "metadata": {},
   "source": [
    "### **Quadratic Function**\n"
   ]
  },
  {
   "cell_type": "markdown",
   "id": "19d7554c-2362-4e57-bffe-847988ff05b9",
   "metadata": {},
   "source": [
    "**Graph of Quadratic function**"
   ]
  },
  {
   "cell_type": "code",
   "execution_count": null,
   "id": "f0c166d8-086d-4ec2-a318-913d91c661ca",
   "metadata": {
    "jupyter": {
     "source_hidden": true
    },
    "tags": []
   },
   "outputs": [],
   "source": [
    "%%jsxgraph\n",
    "JXG.Options.text.useMathJax = true;\n",
    "//board\n",
    "var brd = JXG.JSXGraph.initBoard('box', {boundingbox: [-5, 5, 5, -5], axis: true, showCopyright:false});\n",
    "\n",
    "// Slider a,b,c\n",
    "var a = brd.create('slider', [[1, -3.5], [4,-3.5], [-5, 1, 5]], {name:'a', snapWidth: 0.2});\n",
    "var b = brd.create('slider', [[1, -4], [4,-4], [-5, 0, 5]], {name:'b', snapWidth: 0.2});\n",
    "var c = brd.create('slider', [[1, -4.5], [4,-4.5], [-5, 0, 5]], {name:'c', snapWidth: 0.2});\n",
    "\n",
    "\n",
    "\n",
    "var curve = brd.create('functiongraph', [function(t){ \n",
    "        return a.Value() * t * t + b.Value() * t + c.Value(); \n",
    "    }, -10, 10]);\t\n",
    "\n",
    "// texts\n",
    "var formula2 = brd.create('text', [-4, 4 , function(){return 'y = ' + a.Value().toFixed(1) + \"*x^2 + \"+b.Value().toFixed(1)+\"*x + \"+c.Value().toFixed(1); }], {fontSize: 15});\n"
   ]
  },
  {
   "cell_type": "markdown",
   "id": "cf084085-d0d6-4183-9f8e-c3fdcf59d7e4",
   "metadata": {},
   "source": [
    "\n",
    "**Domain and Range of Quadratic Function**\n",
    "\n",
    "A quadratic function is a polynomial function that is defined for all real values of $x$. So, the domain of a quadratic function is $\\mathbb{R}$. In interval notation, the domain of any quadratic function is $(-\\infty, \\infty)$.\n",
    "\n",
    "The range of the quadratic function depends on the graph's opening side and vertex. So, look for the lowermost and uppermost f(x) values on the graph of the function to determine the range of the quadratic function. The range of any quadratic function with vertex $(h, k)$ and the equation $f(x) = a(x - h)^2 + k$ is:\n",
    "* $y \\geq k$ or $[k, +\\infty)$ when $a > 0$ (as the parabola opens up when $a > 0$).\n",
    "* $y \\leq k$ or $(-\\infty, k]$ when $a < 0$ (as the parabola opens down when $a < 0$).\n",
    "\n",
    "**Maxima and Minima of Quadratic Function**\n",
    "\n",
    "Maxima or minima of quadratic functions occur at its vertex.\n",
    "\n",
    "\n",
    "**Symmetry**\n",
    "Quadratic function is symmetric by y axis iff $b=0$, so $y = ax^2 + c$.\n",
    "\n",
    "**Periodicity**\n",
    "Quadratic function is not periodic.\n",
    "\n"
   ]
  },
  {
   "cell_type": "markdown",
   "id": "035d4982-c52a-4d03-a6ce-842da527090d",
   "metadata": {},
   "source": [
    "**Exercise**\n",
    "\n",
    "Playing with sliders of the graph of quadratic function, how can we convert it to linear function?\n",
    "\n",
    "*hint*: Additionally, you can find it by comparing formulas of quadratic and linear function. \n",
    "\n"
   ]
  },
  {
   "cell_type": "markdown",
   "id": "6ba4ce8b-3904-4512-aa0c-e364af476294",
   "metadata": {
    "deletable": false,
    "nbgrader": {
     "cell_type": "markdown",
     "checksum": "c8b504260721e8337533afb4b4ad5fa8",
     "grade": true,
     "grade_id": "p3",
     "locked": false,
     "points": 1,
     "schema_version": 3,
     "solution": true,
     "task": false
    },
    "tags": []
   },
   "source": [
    "YOUR ANSWER HERE"
   ]
  },
  {
   "cell_type": "markdown",
   "id": "119488fc-f781-4a07-a182-6050e133dfda",
   "metadata": {},
   "source": [
    "### **Trigonometric function**"
   ]
  },
  {
   "cell_type": "markdown",
   "id": "67091626-bdfe-459a-9f7e-db2586770646",
   "metadata": {},
   "source": [
    "#### **Graph of sine**"
   ]
  },
  {
   "cell_type": "code",
   "execution_count": null,
   "id": "4b0b07da-2f0a-45ea-a6db-7e65c40cf59e",
   "metadata": {
    "jupyter": {
     "source_hidden": true
    },
    "tags": []
   },
   "outputs": [],
   "source": [
    "%%jsxgraph\n",
    "JXG.Options.text.useMathJax = true;\n",
    "//board\n",
    "var brd = JXG.JSXGraph.initBoard('box', {boundingbox: [-5, 5, 5, -5], axis: true, showCopyright:false});\n",
    "\n",
    "// Slider a,b,c\n",
    "var a = brd.create('slider', [[1, -3], [4,-3], [-5, 1, 5]], {name:'a', snapWidth: 0.1});\n",
    "var b = brd.create('slider', [[1, -3.5], [4,-3.5], [-5, 1, 5]], {name:'b', snapWidth: 0.1});\n",
    "var c = brd.create('slider', [[1, -4], [4,-4], [-5, 0, 5]], {name:'c', snapWidth: 0.1});\n",
    "var d = brd.create('slider', [[1, -4.5], [4,-4.5], [-5, 0, 5]], {name:'d', snapWidth: 0.1});\n",
    "\n",
    "\n",
    "\n",
    "var curve = brd.create('functiongraph', [function(t){ \n",
    "        return a.Value() * Math.sin(b.Value()*t+c.Value()) + d.Value(); \n",
    "    }, -10, 10]);\t\n",
    "\n",
    "\n",
    "var formula2 = brd.create('text', [-4, 4 , function(){return 'y = ' + a.Value().toFixed(1) + \"*sin(\" + b.Value().toFixed(1)+\"*x+\"+c.Value().toFixed(1)+\")+\"+d.Value().toFixed(1); }], {fontSize: 15});\n",
    "\n"
   ]
  },
  {
   "cell_type": "markdown",
   "id": "3cdeacdc-ae06-4201-a21e-ae68d3f079a1",
   "metadata": {},
   "source": [
    "**Exercise**\n",
    "\n",
    "Playing with the graph of sine function, find out which of these variables ($a, b, c, d$) correspond to each of this properties.\n",
    "\n",
    "*Amplude:*\n",
    "\n",
    "*Period:*\n",
    "\n",
    "*Phase shift:*\n",
    "\n",
    "*Vertical shift:*"
   ]
  },
  {
   "cell_type": "markdown",
   "id": "dccef1ad-5b98-40fb-a8ed-4b2662ed0591",
   "metadata": {
    "deletable": false,
    "nbgrader": {
     "cell_type": "markdown",
     "checksum": "e95afce7c7a31f343c985f237b91b56a",
     "grade": true,
     "grade_id": "p4",
     "locked": false,
     "points": 1,
     "schema_version": 3,
     "solution": true,
     "task": false
    },
    "tags": []
   },
   "source": [
    "YOUR ANSWER HERE"
   ]
  },
  {
   "cell_type": "markdown",
   "id": "2fe82915-2b28-41ac-b184-cd3e6083970a",
   "metadata": {},
   "source": [
    "**Graph of cosine**"
   ]
  },
  {
   "cell_type": "code",
   "execution_count": null,
   "id": "1eaf5fbb-7033-41fb-b514-c29690d5414c",
   "metadata": {
    "jupyter": {
     "source_hidden": true
    },
    "tags": []
   },
   "outputs": [],
   "source": [
    "%%jsxgraph\n",
    "JXG.Options.text.useMathJax = true;\n",
    "//board\n",
    "var brd = JXG.JSXGraph.initBoard('box', {boundingbox: [-5, 5, 5, -5], axis: true, showCopyright:false});\n",
    "\n",
    "// Slider a,b,c\n",
    "var a = brd.create('slider', [[1, -3], [4,-3], [-5, 1, 5]], {name:'a', snapWidth: 0.1});\n",
    "var b = brd.create('slider', [[1, -3.5], [4,-3.5], [-5, 1, 5]], {name:'b', snapWidth: 0.1});\n",
    "var c = brd.create('slider', [[1, -4], [4,-4], [-5, 0, 5]], {name:'c', snapWidth: 0.1});\n",
    "var d = brd.create('slider', [[1, -4.5], [4,-4.5], [-5, 0, 5]], {name:'d', snapWidth: 0.1});\n",
    "\n",
    "\n",
    "\n",
    "var curve = brd.create('functiongraph', [function(t){ \n",
    "        return a.Value() * Math.cos(b.Value()*t+c.Value()) + d.Value(); \n",
    "    }, -10, 10]);\t\n",
    "\n",
    "\n",
    "var formula2 = brd.create('text', [-4, 4 , function(){return 'y = ' + a.Value().toFixed(1) + \"*cos(\" + b.Value().toFixed(1)+\"*x+\"+c.Value().toFixed(1)+\")+\"+d.Value().toFixed(1); }], {fontSize: 15});\n",
    "\n"
   ]
  },
  {
   "cell_type": "markdown",
   "id": "bb402c53-7210-4554-8146-9ffb0c4001aa",
   "metadata": {},
   "source": [
    "**Exercise**\n",
    "\n",
    "Playing with the graph of cosine function, how can we convert cosine function to sine?\n",
    "\n",
    "*hint:* try to experiment with its Phase shift.\n",
    "\n"
   ]
  },
  {
   "cell_type": "markdown",
   "id": "5bb8362e-f02d-44bf-9509-2d09552e193e",
   "metadata": {
    "deletable": false,
    "nbgrader": {
     "cell_type": "markdown",
     "checksum": "916f1693024d3b9864680cccb92f8d5f",
     "grade": true,
     "grade_id": "p5",
     "locked": false,
     "points": 1,
     "schema_version": 3,
     "solution": true,
     "task": false
    },
    "tags": []
   },
   "source": [
    "YOUR ANSWER HERE"
   ]
  },
  {
   "cell_type": "markdown",
   "id": "eb727541-55c8-405a-a65b-2a8dfa015378",
   "metadata": {},
   "source": [
    "**Graph of tangents**"
   ]
  },
  {
   "cell_type": "code",
   "execution_count": null,
   "id": "7b1aca51-6d70-4ba4-9a71-71567da71ed6",
   "metadata": {
    "jupyter": {
     "source_hidden": true
    },
    "tags": []
   },
   "outputs": [],
   "source": [
    "%%jsxgraph\n",
    "JXG.Options.text.useMathJax = true;\n",
    "//board\n",
    "var brd = JXG.JSXGraph.initBoard('box', {boundingbox: [-5, 5, 5, -5], axis: true, showCopyright:false});\n",
    "\n",
    "// Slider a,b,c\n",
    "var a = brd.create('slider', [[1, -3], [4,-3], [-5, 1, 5]], {name:'a', snapWidth: 0.1});\n",
    "var b = brd.create('slider', [[1, -3.5], [4,-3.5], [-5, 1, 5]], {name:'b', snapWidth: 0.1});\n",
    "var c = brd.create('slider', [[1, -4], [4,-4], [-5, 0, 5]], {name:'c', snapWidth: 0.1});\n",
    "var d = brd.create('slider', [[1, -4.5], [4,-4.5], [-5, 0, 5]], {name:'d', snapWidth: 0.1});\n",
    "\n",
    "\n",
    "\n",
    "var curve = brd.create('functiongraph', [function(t){ \n",
    "        return a.Value() * Math.tan(b.Value()*t+c.Value()) + d.Value(); \n",
    "    }, -10, 10]);\t\n",
    "\n",
    "\n",
    "var formula2 = brd.create('text', [-4, 4 , function(){return 'y = ' + a.Value().toFixed(1) + \"*tan(\" + b.Value().toFixed(1)+\"*x+\"+c.Value().toFixed(1)+\")+\"+d.Value().toFixed(1); }], {fontSize: 15});\n",
    "\n"
   ]
  },
  {
   "cell_type": "markdown",
   "id": "e1484616-16f0-4fe7-a831-167cb4c23786",
   "metadata": {},
   "source": [
    "**Graph of cotangent**"
   ]
  },
  {
   "cell_type": "code",
   "execution_count": null,
   "id": "033d41a2-a5d3-415f-a1ad-54464282b436",
   "metadata": {
    "jupyter": {
     "source_hidden": true
    },
    "tags": []
   },
   "outputs": [],
   "source": [
    "%%jsxgraph\n",
    "JXG.Options.text.useMathJax = true;\n",
    "//board\n",
    "var brd = JXG.JSXGraph.initBoard('box', {boundingbox: [-5, 5, 5, -5], axis: true, showCopyright:false});\n",
    "\n",
    "// Slider a,b,c\n",
    "var a = brd.create('slider', [[1, -3], [4,-3], [-5, 1, 5]], {name:'a', snapWidth: 0.1});\n",
    "var b = brd.create('slider', [[1, -3.5], [4,-3.5], [-5, 1, 5]], {name:'b', snapWidth: 0.1});\n",
    "var c = brd.create('slider', [[1, -4], [4,-4], [-5, 0, 5]], {name:'c', snapWidth: 0.1});\n",
    "var d = brd.create('slider', [[1, -4.5], [4,-4.5], [-5, 0, 5]], {name:'d', snapWidth: 0.1});\n",
    "\n",
    "\n",
    "\n",
    "var curve = brd.create('functiongraph', [function(t){ \n",
    "        return a.Value() * 1/(Math.tan(b.Value()*t+c.Value())) + d.Value(); \n",
    "    }, -10, 10]);\t\n",
    "\n",
    "\n",
    "var formula2 = brd.create('text', [-4, 4 , function(){return 'y = ' + a.Value().toFixed(1) + \"*cot(\" + b.Value().toFixed(1)+\"*x+\"+c.Value().toFixed(1)+\")+\"+d.Value().toFixed(1); }], {fontSize: 15});\n",
    "\n"
   ]
  },
  {
   "cell_type": "markdown",
   "id": "69d69146-2f0f-44b7-89ef-bfd3f40bb31c",
   "metadata": {},
   "source": [
    "**Domain and Range**\n",
    "\n",
    "| Trigonometric Functions\t| Domain    \t| Range \t|\n",
    "|-------------- |---------------|--------------|\n",
    "|$\\sin \\theta$ \t| ($-\\infty$, $+\\infty$)\t|[-1, 1]\t|  \n",
    "|$\\cos \\theta$ \t| ($-\\infty$, $+\\infty$)\t|[-1, 1] \t|  \n",
    "|$\\tan \\theta$\t| $\\mathbb{R}\\setminus$ {($n+\\frac{1}{2}$)$\\pi$ $\\mid$ $n\\in \\mathbb{Z}$}     \t|($-\\infty$, $+\\infty$)\t|  \n",
    "|$\\cot \\theta$\t| $\\mathbb{R}\\setminus$ {$n \\pi \\mid$ $n\\in \\mathbb{Z}$} \t| ($-\\infty$, $+\\infty$)\t|  "
   ]
  },
  {
   "cell_type": "markdown",
   "id": "6b8cfa6f-0201-4eb7-9f25-bb09edcfdbbb",
   "metadata": {},
   "source": [
    "**Symmetry**\n",
    "* $y=\\sin \\theta$ - symmetric by origin\n",
    "* $y=\\cos \\theta$ - symmetric by y-axis\n",
    "* $y=\\tan \\theta$ and $y=\\cot \\theta$ - symmetric by origin "
   ]
  },
  {
   "cell_type": "markdown",
   "id": "a2931cb6-cf20-4d35-aee7-8e48f15355df",
   "metadata": {},
   "source": [
    "__Periodicity__\n",
    "\n",
    "$$\n",
    "\\begin{align}\n",
    "\\sin(\\alpha \\pm 2 \\pi n) = \\sin \\alpha, \\text{ period } 2\\pi \\text{ or } 360^{\\circ}, \\\\\n",
    "\\cos(\\alpha \\pm 2 \\pi n) = \\cos \\alpha, \\text{ period } 2\\pi \\text{ or } 360^{\\circ}, \\\\\n",
    "\\tan(\\alpha \\pm \\pi n) = \\tan \\alpha, \\text{ period } \\pi \\text{ or } 180^{\\circ}, \\\\\n",
    "\\cot(\\alpha \\pm \\pi n) = \\cot \\alpha, \\text{ period } \\pi \\text{ or } 180^{\\circ}, \n",
    "\\end{align}\n",
    "$$"
   ]
  },
  {
   "cell_type": "markdown",
   "id": "845230a9-4bde-4058-83e2-ba21a4521aa4",
   "metadata": {},
   "source": [
    "### **Exponential Function**"
   ]
  },
  {
   "cell_type": "markdown",
   "id": "4dc33a53-67ee-49df-90ec-6b0e04327fe0",
   "metadata": {},
   "source": [
    "__Graph of Exponential function__"
   ]
  },
  {
   "cell_type": "code",
   "execution_count": null,
   "id": "4f4b2271-c42a-45a5-b1a3-a464994e2e80",
   "metadata": {
    "jupyter": {
     "source_hidden": true
    },
    "tags": []
   },
   "outputs": [],
   "source": [
    "%%jsxgraph -i jxgbox -h 500 -m https://www.cs.cityu.edu.hk/~ccha23/js/load-mathjax.js\n",
    "JXG.Options.text.useMathJax = true;\n",
    "var brd = JXG.JSXGraph.initBoard('jxgbox', {boundingbox: [-8, 8, 8, -4], axis:true,  showCopyright:false});\n",
    "var aVar = brd.create('slider', [[1, 3], [6,3], [0, 1, 5]], {name:'a', snapWidth: 0.001});\n",
    "var exponentialGraph = brd.create('functiongraph', [function(x){return Math.pow(aVar.Value(), x);}, -10, 10]);\n",
    "var text1 = brd.create('text',[-5,2,function(){return '\\\\[\\\\M{y}=a^x\\\\]';}]);"
   ]
  },
  {
   "cell_type": "markdown",
   "id": "e028d61c-716b-41cb-b84f-1605036c978b",
   "metadata": {},
   "source": [
    "**Domain and Range of Exponential Function**\n",
    "\n",
    "For an exponential function $f(x) = a^x$,\n",
    "* Domain is the set of all real numbers, or $(-\\infty, +\\infty)$.\n",
    "* Range is f(x) > d if a > 0 and f(x) < d if a < 0.\n",
    "\n",
    "**Exponential function is not periodic, symmetric neither has max/min values**\n"
   ]
  },
  {
   "cell_type": "markdown",
   "id": "b10f14a1-f977-4715-8dc7-1b72a3744b51",
   "metadata": {},
   "source": [
    "### **Logarithmic Function**"
   ]
  },
  {
   "cell_type": "markdown",
   "id": "011700d7-3e8e-47ee-906c-8036599d92f2",
   "metadata": {},
   "source": [
    "__Graph of Logarithmic Function__"
   ]
  },
  {
   "cell_type": "code",
   "execution_count": null,
   "id": "24798b15-fbd7-463e-8b85-4d42bacad9fc",
   "metadata": {
    "jupyter": {
     "source_hidden": true
    },
    "tags": []
   },
   "outputs": [],
   "source": [
    "%%jsxgraph -i jxgbox -h 500 -m https://www.cs.cityu.edu.hk/~ccha23/js/load-mathjax.js\n",
    "JXG.Options.text.useMathJax = true;\n",
    "var brd = JXG.JSXGraph.initBoard('jxgbox', {boundingbox: [-8, 8, 8, -4], axis:true,  showCopyright:false});\n",
    "var aVar = brd.create('slider', [[1.5, 3], [6,3], [0, 1, 5]], {name:'a', snapWidth: 0.001});\n",
    "var logarithmicGraph = brd.create('functiongraph', [function(x){return Math.log(x) / Math.log(aVar.Value());}, -10, 10]);\n",
    "var text1 = brd.create('text',[-5,2,function(){return '\\\\[\\\\M{y}=\\log_{a}{x}\\\\]';}]);"
   ]
  },
  {
   "cell_type": "markdown",
   "id": "3310109f-0fe5-4a5c-8405-4011e8621f99",
   "metadata": {},
   "source": [
    "**Domain and Range of Logarithmic Function**\n",
    "\n",
    "* The domain of log function $y = \\log x$ is $x > 0$ or $(0, +\\infty)$.\n",
    "* The range of any log function is the set of all real numbers \\mathbb{R}.\n",
    "\n",
    "**Exponential function is not periodic, symmetric neither has max/min values**"
   ]
  },
  {
   "cell_type": "markdown",
   "id": "cd53172b-4a50-4e5d-8208-623fe1509b09",
   "metadata": {},
   "source": [
    "**Exercise**\n",
    "\n",
    "Try solving $f(x)=k$ for exponential function, what is the type of resulting function? You can derive the result filling the missed gaps below.\n",
    "\n",
    "$$ \n",
    "\\begin{align}\n",
    "f(x) &= k \\\\\n",
    " \\Rightarrow \\quad a^x &=? \\\\\n",
    "\\Rightarrow \\quad  \\log{_?}{a^x} &= \\log{_?}{?} \\\\\n",
    "\\Rightarrow \\quad  \\log{_?}{?} &= a \\\\\n",
    "\\end{align}\n",
    "$$\n",
    "\n",
    "*hint:* You can use interactive graph below to observe the result.\n"
   ]
  },
  {
   "cell_type": "markdown",
   "id": "b3b1f71f-54b5-41d4-934b-1240ef0a5f9d",
   "metadata": {
    "deletable": false,
    "nbgrader": {
     "cell_type": "markdown",
     "checksum": "7875855cbac1642b1b1300f2bd826327",
     "grade": true,
     "grade_id": "p6",
     "locked": false,
     "points": 1,
     "schema_version": 3,
     "solution": true,
     "task": false
    },
    "tags": []
   },
   "source": [
    "YOUR ANSWER HERE"
   ]
  },
  {
   "cell_type": "code",
   "execution_count": null,
   "id": "7ecdbf78-b62d-4a1f-a871-6246b834ec96",
   "metadata": {
    "jupyter": {
     "source_hidden": true
    },
    "tags": []
   },
   "outputs": [],
   "source": [
    "%%jsxgraph -i jxgbox -h 500 -m https://www.cs.cityu.edu.hk/~ccha23/js/load-mathjax.js\n",
    "JXG.Options.text.useMathJax = true;\n",
    "var brd = JXG.JSXGraph.initBoard('jxgbox', {boundingbox: [-8, 8, 8, -4], axis:true,  showCopyright:false});\n",
    "var aVar = brd.create('slider', [[1, 3], [6,3], [0, 1, 5]], {name:'a', snapWidth: 0.001});\n",
    "var exponentialGraph = brd.create('functiongraph', [function(x){return Math.pow(aVar.Value(), x);}, -100, 100]);\n",
    "var logarithmicGraph = brd.create('functiongraph', [function(x){return Math.log(x) / Math.log(aVar.Value());}, -100, 100]);\n",
    "var yEqualsToXGraph = brd.create('functiongraph', [function(x){return x}, -100, 100], {strokeColor:'#00ff00'});\n",
    "var text1 = brd.create('text',[-5,2,function(){return '\\\\[\\\\M{y}=a^x\\\\]';}]);\n",
    "var text2 = brd.create('text',[5,-2,function(){return '\\\\[\\\\M{y}=\\log_{a}{x}\\\\]';}]);"
   ]
  },
  {
   "cell_type": "markdown",
   "id": "3dde2d70-7eff-45dc-9a4a-8fad62ea65c8",
   "metadata": {},
   "source": [
    "**Exercise**\n",
    "What type of functions satisfy the following rules:\n",
    "\n",
    "$f(x+k) = f(x)+k$: ***your answer***\n",
    "\n",
    "$f(kx)=kf(x)$: ***your answer***"
   ]
  },
  {
   "cell_type": "markdown",
   "id": "a73293dd-d1b4-45c5-bf0e-d5371a4efbf3",
   "metadata": {
    "deletable": false,
    "nbgrader": {
     "cell_type": "markdown",
     "checksum": "ffeb0e5a4d76f4e70cb6003fb9720496",
     "grade": true,
     "grade_id": "p7",
     "locked": false,
     "points": 1,
     "schema_version": 3,
     "solution": true,
     "task": false
    },
    "tags": []
   },
   "source": [
    "YOUR ANSWER HERE"
   ]
  },
  {
   "cell_type": "markdown",
   "id": "3d7d472a-9dda-4b79-b166-a52ec0724dee",
   "metadata": {},
   "source": [
    "**Exercise**\n",
    "\n",
    "A function is \"even\" when for all $x$:\n",
    "\n",
    "$$  f(x) = f(-x)$$\n",
    "\n",
    "A function is \"odd\" when for all $x$:\n",
    "\n",
    "$$  -f(x) = f(-x)$$\n",
    "\n",
    "***Question:*** Playing with the graph, classify those functions *(constant, linear, sine, tangent, exponential, logarithmic)* into 3 separate groups:\n",
    "\n",
    "Even: ***your answer***\n",
    "\n",
    "Odd: ***your answer***\n",
    "\n",
    "Neither: ***your answer***"
   ]
  },
  {
   "cell_type": "markdown",
   "id": "3bd2a81e-ef4e-4755-912a-8fdb8b80630e",
   "metadata": {
    "deletable": false,
    "nbgrader": {
     "cell_type": "markdown",
     "checksum": "2ebeb089bb4ab7633e0239cafb641a7e",
     "grade": true,
     "grade_id": "p8",
     "locked": false,
     "points": 1,
     "schema_version": 3,
     "solution": true,
     "task": false
    },
    "tags": []
   },
   "source": [
    "YOUR ANSWER HERE"
   ]
  }
 ],
 "metadata": {
  "kernelspec": {
   "display_name": "Python (XPython)",
   "language": "python",
   "name": "xeus-python"
  },
  "language_info": {
   "codemirror_mode": {
    "name": "ipython",
    "version": 3
   },
   "file_extension": ".py",
   "mimetype": "text/x-python",
   "name": "python",
   "nbconvert_exporter": "python",
   "pygments_lexer": "ipython3",
   "version": "3.10.6"
  },
  "widgets": {
   "application/vnd.jupyter.widget-state+json": {
    "state": {
     "06c40ffa0ff7426bbb3b866bb34092c6": {
      "model_module": "jupyter-divewidgets",
      "model_module_version": "^0.1.5",
      "model_name": "JSWidgetModel",
      "state": {
       "_model_module_version": "^0.1.5",
       "_view_module_version": "^0.1.5",
       "html": "<!DOCTYPE html>\n<html>\n    <head>\n    <style>\n    html, body {\n        height: 100%;\n    }\n    body {\n        width: 100%;\n        display: flex;\n        padding: 0;\n        margin: 0;\n    }\n    .jxgbox {\n        width:100%; \n        flex-grow: 1;\n    }\n    </style>\n    <link rel=\"stylesheet\" type=\"text/css\" href=\"https://jsxgraph.org/distrib/jsxgraph.css\" />\n    <script type=\"text/javascript\" src=\"https://cdn.jsdelivr.net/npm/jsxgraph/distrib/jsxgraphcore.js\"></script>\n    <script type=\"text/javascript\" src=\"https://cdn.jsdelivr.net/npm/mathjax@3/es5/tex-chtml.js\"></script>\n    </head>\n<body>\n<div id=\"box\" class=\"jxgbox\"></div>\n</body>\n</html>",
       "js": "JXG.Options.text.useMathJax = true;\n//board\nvar brd = JXG.JSXGraph.initBoard('box', {boundingbox: [-5, 5, 5, -5], axis: true, showCopyright:false});\n\n// Slider a,b,c\nvar a = brd.create('slider', [[1, -3], [4,-3], [-5, 1, 5]], {name:'a', snapWidth: 0.1});\nvar b = brd.create('slider', [[1, -3.5], [4,-3.5], [-5, 1, 5]], {name:'b', snapWidth: 0.1});\nvar c = brd.create('slider', [[1, -4], [4,-4], [-5, 0, 5]], {name:'c', snapWidth: 0.1});\nvar d = brd.create('slider', [[1, -4.5], [4,-4.5], [-5, 0, 5]], {name:'d', snapWidth: 0.1});\n\n\n\nvar curve = brd.create('functiongraph', [function(t){ \n        return a.Value() * Math.cos(b.Value()*t+c.Value()) + d.Value(); \n    }, -10, 10]);\t\n\n\nvar formula2 = brd.create('text', [-4, 4 , function(){return 'y = ' + a.Value().toFixed(1) + \"*cos(\" + b.Value().toFixed(1)+\"*x+\"+c.Value().toFixed(1)+\")+\"+d.Value().toFixed(1); }], {fontSize: 15});",
       "layout": "IPY_MODEL_99e144d84bd64253970991a1b55db2ce"
      }
     },
     "076406127cda4acfb927d74e85d2e1b2": {
      "model_module": "jupyter-divewidgets",
      "model_module_version": "^0.1.5",
      "model_name": "JSWidgetModel",
      "state": {
       "_model_module_version": "^0.1.5",
       "_view_module_version": "^0.1.5",
       "html": "<!DOCTYPE html>\n<html>\n    <head>\n    <style>\n    html, body {\n        height: 100%;\n    }\n    body {\n        width: 100%;\n        display: flex;\n        padding: 0;\n        margin: 0;\n    }\n    .jxgbox {\n        width:100%; \n        flex-grow: 1;\n    }\n    </style>\n    <link rel=\"stylesheet\" type=\"text/css\" href=\"https://jsxgraph.org/distrib/jsxgraph.css\" />\n    <script type=\"text/javascript\" src=\"https://cdn.jsdelivr.net/npm/jsxgraph/distrib/jsxgraphcore.js\"></script>\n    <script type=\"text/javascript\" src=\"https://cdn.jsdelivr.net/npm/mathjax@3/es5/tex-chtml.js\"></script>\n    </head>\n<body>\n<div id=\"box\" class=\"jxgbox\"></div>\n</body>\n</html>",
       "js": "JXG.Options.text.useMathJax = true;\n//board\nvar brd = JXG.JSXGraph.initBoard('box', {boundingbox: [-5, 5, 5, -5], axis: true, showCopyright:false});\n\n// Slider a,b,c\nvar m = brd.create('slider', [[1, -3.5], [4,-3.5], [-5, 1, 5]], {name:'m', snapWidth: 0.5});\nvar c = brd.create('slider', [[1, -4], [4,-4], [-5, 1, 5]], {name:'c', snapWidth: 0.5});\n\n\nvar curve = brd.create('functiongraph', [function(t){ \n        return m.Value() * t + c.Value(); \n    }, -10, 10]);\t\n\n// texts\nvar formula2 = brd.create('text', [-4, 4 , function(){return 'y = ' + m.Value().toFixed(1) + \"x + \"+c.Value().toFixed(1); }], {fontSize: 15});",
       "layout": "IPY_MODEL_ef2d71d6b0cc41059efc78ce203cac01"
      }
     },
     "1a4ab06cd0324a05860e252c8194cdde": {
      "model_module": "@jupyter-widgets/base",
      "model_module_version": "2.0.0",
      "model_name": "LayoutModel",
      "state": {}
     },
     "216bc7f016204e12ad6eee9c65337ebb": {
      "model_module": "@jupyter-widgets/base",
      "model_module_version": "2.0.0",
      "model_name": "LayoutModel",
      "state": {}
     },
     "403cc239b96c409e93a96d71252acb5f": {
      "model_module": "@jupyter-widgets/base",
      "model_module_version": "2.0.0",
      "model_name": "LayoutModel",
      "state": {}
     },
     "56261ff9c6f74676bcf2b1f1d8092dd2": {
      "model_module": "jupyter-divewidgets",
      "model_module_version": "^0.1.5",
      "model_name": "JSWidgetModel",
      "state": {
       "_model_module_version": "^0.1.5",
       "_view_module_version": "^0.1.5",
       "height": 500,
       "html": "<!DOCTYPE html>\n<html>\n    <head>\n    <style>\n    html, body {\n        height: 100%;\n    }\n    body {\n        width: 100%;\n        display: flex;\n        padding: 0;\n        margin: 0;\n    }\n    .jxgbox {\n        width:100%; \n        flex-grow: 1;\n    }\n    </style>\n    <link rel=\"stylesheet\" type=\"text/css\" href=\"https://jsxgraph.org/distrib/jsxgraph.css\" />\n    <script type=\"text/javascript\" src=\"https://cdn.jsdelivr.net/npm/jsxgraph/distrib/jsxgraphcore.js\"></script>\n    <script type=\"text/javascript\" src=\"https://www.cs.cityu.edu.hk/~ccha23/js/load-mathjax.js\"></script>\n    </head>\n<body>\n<div id=\"jxgbox\" class=\"jxgbox\"></div>\n</body>\n</html>",
       "js": "JXG.Options.text.useMathJax = true;\nvar brd = JXG.JSXGraph.initBoard('jxgbox', {boundingbox: [-8, 8, 8, -4], axis:true,  showCopyright:false});\nvar aVar = brd.create('slider', [[1, 3], [6,3], [0, 1, 5]], {name:'a', snapWidth: 0.001});\nvar exponentialGraph = brd.create('functiongraph', [function(x){return Math.pow(aVar.Value(), x);}, -100, 100]);\nvar logarithmicGraph = brd.create('functiongraph', [function(x){return Math.log(x) / Math.log(aVar.Value());}, -100, 100]);\nvar yEqualsToXGraph = brd.create('functiongraph', [function(x){return x}, -100, 100], {strokeColor:'#00ff00'});\nvar text1 = brd.create('text',[-5,2,function(){return '\\\\[\\\\M{y}=a^x\\\\]';}]);\nvar text2 = brd.create('text',[5,-2,function(){return '\\\\[\\\\M{y}=\\log_{a}{x}\\\\]';}]);",
       "layout": "IPY_MODEL_1a4ab06cd0324a05860e252c8194cdde"
      }
     },
     "60192d6fd9ac451a860e83020a4e79f5": {
      "model_module": "jupyter-divewidgets",
      "model_module_version": "^0.1.5",
      "model_name": "JSWidgetModel",
      "state": {
       "_model_module_version": "^0.1.5",
       "_view_module_version": "^0.1.5",
       "html": "<!DOCTYPE html>\n<html>\n    <head>\n    <style>\n    html, body {\n        height: 100%;\n    }\n    body {\n        width: 100%;\n        display: flex;\n        padding: 0;\n        margin: 0;\n    }\n    .jxgbox {\n        width:100%; \n        flex-grow: 1;\n    }\n    </style>\n    <link rel=\"stylesheet\" type=\"text/css\" href=\"https://jsxgraph.org/distrib/jsxgraph.css\" />\n    <script type=\"text/javascript\" src=\"https://cdn.jsdelivr.net/npm/jsxgraph/distrib/jsxgraphcore.js\"></script>\n    <script type=\"text/javascript\" src=\"https://cdn.jsdelivr.net/npm/mathjax@3/es5/tex-chtml.js\"></script>\n    </head>\n<body>\n<div id=\"box\" class=\"jxgbox\"></div>\n</body>\n</html>",
       "js": "JXG.Options.text.useMathJax = true;\n//board\nvar brd = JXG.JSXGraph.initBoard('box', {boundingbox: [-5, 5, 5, -5], axis: true, showCopyright:false});\n\n// Slider a,b,c\nvar a = brd.create('slider', [[1, -3], [4,-3], [-5, 1, 5]], {name:'a', snapWidth: 0.1});\nvar b = brd.create('slider', [[1, -3.5], [4,-3.5], [-5, 1, 5]], {name:'b', snapWidth: 0.1});\nvar c = brd.create('slider', [[1, -4], [4,-4], [-5, 0, 5]], {name:'c', snapWidth: 0.1});\nvar d = brd.create('slider', [[1, -4.5], [4,-4.5], [-5, 0, 5]], {name:'d', snapWidth: 0.1});\n\n\n\nvar curve = brd.create('functiongraph', [function(t){ \n        return a.Value() * Math.sin(b.Value()*t+c.Value()) + d.Value(); \n    }, -10, 10]);\t\n\n\nvar formula2 = brd.create('text', [-4, 4 , function(){return 'y = ' + a.Value().toFixed(1) + \"*sin(\" + b.Value().toFixed(1)+\"*x+\"+c.Value().toFixed(1)+\")+\"+d.Value().toFixed(1); }], {fontSize: 15});",
       "layout": "IPY_MODEL_ed24d6eb0d834673bcee3de4ba82fcec"
      }
     },
     "73b50ed1d5cc41f882cb2d18f78c3f16": {
      "model_module": "jupyter-divewidgets",
      "model_module_version": "^0.1.5",
      "model_name": "JSWidgetModel",
      "state": {
       "_model_module_version": "^0.1.5",
       "_view_module_version": "^0.1.5",
       "height": 500,
       "html": "<!DOCTYPE html>\n<html>\n    <head>\n    <style>\n    html, body {\n        height: 100%;\n    }\n    body {\n        width: 100%;\n        display: flex;\n        padding: 0;\n        margin: 0;\n    }\n    .jxgbox {\n        width:100%; \n        flex-grow: 1;\n    }\n    </style>\n    <link rel=\"stylesheet\" type=\"text/css\" href=\"https://jsxgraph.org/distrib/jsxgraph.css\" />\n    <script type=\"text/javascript\" src=\"https://cdn.jsdelivr.net/npm/jsxgraph/distrib/jsxgraphcore.js\"></script>\n    <script type=\"text/javascript\" src=\"https://www.cs.cityu.edu.hk/~ccha23/js/load-mathjax.js\"></script>\n    </head>\n<body>\n<div id=\"jxgbox\" class=\"jxgbox\"></div>\n</body>\n</html>",
       "js": "JXG.Options.text.useMathJax = true;\nvar brd = JXG.JSXGraph.initBoard('jxgbox', {boundingbox: [-8, 8, 8, -4], axis:true,  showCopyright:false});\nvar aVar = brd.create('slider', [[1.5, 3], [6,3], [0, 1, 5]], {name:'a', snapWidth: 0.001});\nvar logarithmicGraph = brd.create('functiongraph', [function(x){return Math.log(x) / Math.log(aVar.Value());}, -10, 10]);\nvar text1 = brd.create('text',[-5,2,function(){return '\\\\[\\\\M{y}=\\log_{a}{x}\\\\]';}]);",
       "layout": "IPY_MODEL_fddd640a856e46feaa692a905e349bff"
      }
     },
     "83febc4a87814cbf81ee3fc8476693ac": {
      "model_module": "jupyter-divewidgets",
      "model_module_version": "^0.1.5",
      "model_name": "JSWidgetModel",
      "state": {
       "_model_module_version": "^0.1.5",
       "_view_module_version": "^0.1.5",
       "html": "<!DOCTYPE html>\n<html>\n    <head>\n    <style>\n    html, body {\n        height: 100%;\n    }\n    body {\n        width: 100%;\n        display: flex;\n        padding: 0;\n        margin: 0;\n    }\n    .jxgbox {\n        width:100%; \n        flex-grow: 1;\n    }\n    </style>\n    <link rel=\"stylesheet\" type=\"text/css\" href=\"https://jsxgraph.org/distrib/jsxgraph.css\" />\n    <script type=\"text/javascript\" src=\"https://cdn.jsdelivr.net/npm/jsxgraph/distrib/jsxgraphcore.js\"></script>\n    <script type=\"text/javascript\" src=\"https://cdn.jsdelivr.net/npm/mathjax@3/es5/tex-chtml.js\"></script>\n    </head>\n<body>\n<div id=\"box\" class=\"jxgbox\"></div>\n</body>\n</html>",
       "js": "JXG.Options.text.useMathJax = true;\n//board\nvar brd = JXG.JSXGraph.initBoard('box', {boundingbox: [-5, 5, 5, -5], axis: true, showCopyright:false});\n\n// Slider a,b,c\nvar a = brd.create('slider', [[1, -3], [4,-3], [-5, 1, 5]], {name:'a', snapWidth: 0.1});\nvar b = brd.create('slider', [[1, -3.5], [4,-3.5], [-5, 1, 5]], {name:'b', snapWidth: 0.1});\nvar c = brd.create('slider', [[1, -4], [4,-4], [-5, 0, 5]], {name:'c', snapWidth: 0.1});\nvar d = brd.create('slider', [[1, -4.5], [4,-4.5], [-5, 0, 5]], {name:'d', snapWidth: 0.1});\n\n\n\nvar curve = brd.create('functiongraph', [function(t){ \n        return a.Value() * 1/(Math.tan(b.Value()*t+c.Value())) + d.Value(); \n    }, -10, 10]);\t\n\n\nvar formula2 = brd.create('text', [-4, 4 , function(){return 'y = ' + a.Value().toFixed(1) + \"*cot(\" + b.Value().toFixed(1)+\"*x+\"+c.Value().toFixed(1)+\")+\"+d.Value().toFixed(1); }], {fontSize: 15});",
       "layout": "IPY_MODEL_a26e8b0aa2764f0bb3c97da976df839f"
      }
     },
     "952e0076fa914a309075c20cf9ddb73e": {
      "model_module": "jupyter-divewidgets",
      "model_module_version": "^0.1.5",
      "model_name": "JSWidgetModel",
      "state": {
       "_model_module_version": "^0.1.5",
       "_view_module_version": "^0.1.5",
       "html": "<!DOCTYPE html>\n<html>\n    <head>\n    <style>\n    html, body {\n        height: 100%;\n    }\n    body {\n        width: 100%;\n        display: flex;\n        padding: 0;\n        margin: 0;\n    }\n    .jxgbox {\n        width:100%; \n        flex-grow: 1;\n    }\n    </style>\n    <link rel=\"stylesheet\" type=\"text/css\" href=\"https://jsxgraph.org/distrib/jsxgraph.css\" />\n    <script type=\"text/javascript\" src=\"https://cdn.jsdelivr.net/npm/jsxgraph/distrib/jsxgraphcore.js\"></script>\n    <script type=\"text/javascript\" src=\"https://cdn.jsdelivr.net/npm/mathjax@3/es5/tex-chtml.js\"></script>\n    </head>\n<body>\n<div id=\"box\" class=\"jxgbox\"></div>\n</body>\n</html>",
       "js": "JXG.Options.text.useMathJax = true;\n//board\nvar brd = JXG.JSXGraph.initBoard('box', {boundingbox: [-5, 5, 5, -5], axis: true, showCopyright:false});\n\n// Slider a,b,c\nvar a = brd.create('slider', [[1, -3.5], [4,-3.5], [-5, 1, 5]], {name:'a', snapWidth: 0.2});\nvar b = brd.create('slider', [[1, -4], [4,-4], [-5, 0, 5]], {name:'b', snapWidth: 0.2});\nvar c = brd.create('slider', [[1, -4.5], [4,-4.5], [-5, 0, 5]], {name:'c', snapWidth: 0.2});\n\n\n\nvar curve = brd.create('functiongraph', [function(t){ \n        return a.Value() * t * t + b.Value() * t + c.Value(); \n    }, -10, 10]);\t\n\n// texts\nvar formula2 = brd.create('text', [-4, 4 , function(){return 'y = ' + a.Value().toFixed(1) + \"*x^2 + \"+b.Value().toFixed(1)+\"*x + \"+c.Value().toFixed(1); }], {fontSize: 15});",
       "layout": "IPY_MODEL_403cc239b96c409e93a96d71252acb5f"
      }
     },
     "99e144d84bd64253970991a1b55db2ce": {
      "model_module": "@jupyter-widgets/base",
      "model_module_version": "2.0.0",
      "model_name": "LayoutModel",
      "state": {}
     },
     "a22f8bd2cc5e486c91405a30e5b5f76b": {
      "model_module": "jupyter-divewidgets",
      "model_module_version": "^0.1.5",
      "model_name": "JSWidgetModel",
      "state": {
       "_model_module_version": "^0.1.5",
       "_view_module_version": "^0.1.5",
       "html": "<!DOCTYPE html>\n<html>\n    <head>\n    <style>\n    html, body {\n        height: 100%;\n    }\n    body {\n        width: 100%;\n        display: flex;\n        padding: 0;\n        margin: 0;\n    }\n    .jxgbox {\n        width:100%; \n        flex-grow: 1;\n    }\n    </style>\n    <link rel=\"stylesheet\" type=\"text/css\" href=\"https://jsxgraph.org/distrib/jsxgraph.css\" />\n    <script type=\"text/javascript\" src=\"https://cdn.jsdelivr.net/npm/jsxgraph/distrib/jsxgraphcore.js\"></script>\n    <script type=\"text/javascript\" src=\"https://cdn.jsdelivr.net/npm/mathjax@3/es5/tex-chtml.js\"></script>\n    </head>\n<body>\n<div id=\"box\" class=\"jxgbox\"></div>\n</body>\n</html>",
       "js": "JXG.Options.text.useMathJax = true;\n//board\nvar brd = JXG.JSXGraph.initBoard('box', {boundingbox: [-5, 5, 5, -5], axis: true, showCopyright:false});\n\n// Slider a,b,c\nvar a = brd.create('slider', [[1, -3], [4,-3], [-5, 1, 5]], {name:'a', snapWidth: 0.1});\nvar b = brd.create('slider', [[1, -3.5], [4,-3.5], [-5, 1, 5]], {name:'b', snapWidth: 0.1});\nvar c = brd.create('slider', [[1, -4], [4,-4], [-5, 0, 5]], {name:'c', snapWidth: 0.1});\nvar d = brd.create('slider', [[1, -4.5], [4,-4.5], [-5, 0, 5]], {name:'d', snapWidth: 0.1});\n\n\n\nvar curve = brd.create('functiongraph', [function(t){ \n        return a.Value() * Math.tan(b.Value()*t+c.Value()) + d.Value(); \n    }, -10, 10]);\t\n\n\nvar formula2 = brd.create('text', [-4, 4 , function(){return 'y = ' + a.Value().toFixed(1) + \"*tan(\" + b.Value().toFixed(1)+\"*x+\"+c.Value().toFixed(1)+\")+\"+d.Value().toFixed(1); }], {fontSize: 15});",
       "layout": "IPY_MODEL_216bc7f016204e12ad6eee9c65337ebb"
      }
     },
     "a26e8b0aa2764f0bb3c97da976df839f": {
      "model_module": "@jupyter-widgets/base",
      "model_module_version": "2.0.0",
      "model_name": "LayoutModel",
      "state": {}
     },
     "b0da539742304381b67da3b599d86d28": {
      "model_module": "@jupyter-widgets/base",
      "model_module_version": "2.0.0",
      "model_name": "LayoutModel",
      "state": {}
     },
     "d190e094902b4acca9c80e4d551b45fb": {
      "model_module": "jupyter-divewidgets",
      "model_module_version": "^0.1.5",
      "model_name": "JSWidgetModel",
      "state": {
       "_model_module_version": "^0.1.5",
       "_view_module_version": "^0.1.5",
       "html": "<!DOCTYPE html>\n<html>\n    <head>\n    <style>\n    html, body {\n        height: 100%;\n    }\n    body {\n        width: 100%;\n        display: flex;\n        padding: 0;\n        margin: 0;\n    }\n    .jxgbox {\n        width:100%; \n        flex-grow: 1;\n    }\n    </style>\n    <link rel=\"stylesheet\" type=\"text/css\" href=\"https://jsxgraph.org/distrib/jsxgraph.css\" />\n    <script type=\"text/javascript\" src=\"https://cdn.jsdelivr.net/npm/jsxgraph/distrib/jsxgraphcore.js\"></script>\n    <script type=\"text/javascript\" src=\"https://cdn.jsdelivr.net/npm/mathjax@3/es5/tex-chtml.js\"></script>\n    </head>\n<body>\n<div id=\"box\" class=\"jxgbox\"></div>\n</body>\n</html>",
       "js": "JXG.Options.text.useMathJax = true;\n//board\nvar brd = JXG.JSXGraph.initBoard('box', {boundingbox: [-5, 5, 5, -5], axis: true, showCopyright:false});\n\n// Slider k\nvar k = brd.create('slider', [[1, -4], [4,-4], [-5, 1, 5]], {name:'k', snapWidth: 0.1});\n\n// Graph of y = k\nvar line = brd.create('line', [[-4,function(){return k.Value()}],[4,function(){return k.Value(); }]], {strokeWidth:2});\n\n\n// texts\nvar formula1 = brd.create('text', [2.5, function() {return k.Value() + 0.3} , function(){return 'y = ' + k.Value().toFixed(1); }], {fontSize: 15});",
       "layout": "IPY_MODEL_b0da539742304381b67da3b599d86d28"
      }
     },
     "ed24d6eb0d834673bcee3de4ba82fcec": {
      "model_module": "@jupyter-widgets/base",
      "model_module_version": "2.0.0",
      "model_name": "LayoutModel",
      "state": {}
     },
     "ef2d71d6b0cc41059efc78ce203cac01": {
      "model_module": "@jupyter-widgets/base",
      "model_module_version": "2.0.0",
      "model_name": "LayoutModel",
      "state": {}
     },
     "f1915afd3e40424b9ce7c496b31bda59": {
      "model_module": "@jupyter-widgets/base",
      "model_module_version": "2.0.0",
      "model_name": "LayoutModel",
      "state": {}
     },
     "f72b95068c3d429fab862e1cefa88899": {
      "model_module": "jupyter-divewidgets",
      "model_module_version": "^0.1.5",
      "model_name": "JSWidgetModel",
      "state": {
       "_model_module_version": "^0.1.5",
       "_view_module_version": "^0.1.5",
       "height": 500,
       "html": "<!DOCTYPE html>\n<html>\n    <head>\n    <style>\n    html, body {\n        height: 100%;\n    }\n    body {\n        width: 100%;\n        display: flex;\n        padding: 0;\n        margin: 0;\n    }\n    .jxgbox {\n        width:100%; \n        flex-grow: 1;\n    }\n    </style>\n    <link rel=\"stylesheet\" type=\"text/css\" href=\"https://jsxgraph.org/distrib/jsxgraph.css\" />\n    <script type=\"text/javascript\" src=\"https://cdn.jsdelivr.net/npm/jsxgraph/distrib/jsxgraphcore.js\"></script>\n    <script type=\"text/javascript\" src=\"https://www.cs.cityu.edu.hk/~ccha23/js/load-mathjax.js\"></script>\n    </head>\n<body>\n<div id=\"jxgbox\" class=\"jxgbox\"></div>\n</body>\n</html>",
       "js": "JXG.Options.text.useMathJax = true;\nvar brd = JXG.JSXGraph.initBoard('jxgbox', {boundingbox: [-8, 8, 8, -4], axis:true,  showCopyright:false});\nvar aVar = brd.create('slider', [[1, 3], [6,3], [0, 1, 5]], {name:'a', snapWidth: 0.001});\nvar exponentialGraph = brd.create('functiongraph', [function(x){return Math.pow(aVar.Value(), x);}, -10, 10]);\nvar text1 = brd.create('text',[-5,2,function(){return '\\\\[\\\\M{y}=a^x\\\\]';}]);",
       "layout": "IPY_MODEL_f1915afd3e40424b9ce7c496b31bda59"
      }
     },
     "fddd640a856e46feaa692a905e349bff": {
      "model_module": "@jupyter-widgets/base",
      "model_module_version": "2.0.0",
      "model_name": "LayoutModel",
      "state": {}
     }
    },
    "version_major": 2,
    "version_minor": 0
   }
  }
 },
 "nbformat": 4,
 "nbformat_minor": 5
}
