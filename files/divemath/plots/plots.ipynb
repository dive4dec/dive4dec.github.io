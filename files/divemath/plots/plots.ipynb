{
  "metadata": {
    "kernelspec": {
      "name": "xeus-python",
      "display_name": "Python (XPython)",
      "language": "python"
    },
    "language_info": {
      "file_extension": ".py",
      "mimetype": "text/x-python",
      "name": "python",
      "version": "3.10.2"
    },
    "widgets": {
      "application/vnd.jupyter.widget-state+json": {
        "version_major": 2,
        "version_minor": 0,
        "state": {
          "e362d899e28b43149ca816901afe70e4": {
            "model_name": "LayoutModel",
            "model_module": "@jupyter-widgets/base",
            "model_module_version": "1.2.0",
            "state": {}
          },
          "2f0468ab933e4a3a933a0f44ad10d43a": {
            "model_name": "JSWidgetModel",
            "model_module": "jupyter-divewidgets",
            "model_module_version": "^0.1.5",
            "state": {
              "_model_module_version": "^0.1.5",
              "_view_module_version": "^0.1.5",
              "html": "<!DOCTYPE html>\n<html>\n    <head>\n    <style>\n    html, body {\n        height: 100%;\n    }\n    body {\n        width: 100%;\n        display: flex;\n        padding: 0;\n        margin: 0;\n    }\n    .jxgbox {\n        width:100%; \n        flex-grow: 1;\n    }\n    </style>\n    <link rel=\"stylesheet\" type=\"text/css\" href=\"https://jsxgraph.org/distrib/jsxgraph.css\" />\n    <script type=\"text/javascript\" src=\"https://cdn.jsdelivr.net/npm/jsxgraph/distrib/jsxgraphcore.js\"></script>\n    <script type=\"text/javascript\" src=\"https://cdn.jsdelivr.net/npm/mathjax@3/es5/tex-chtml.js\"></script>\n    </head>\n<body>\n<div id=\"box\" class=\"jxgbox\"></div>\n</body>\n</html>",
              "js": "JXG.Options.text.useMathJax = true;\n//board\nvar brd = JXG.JSXGraph.initBoard('box', {boundingbox: [-5, 5, 5, -5], axis: true, showCopyright:false});\n\n// Slider k\nvar k = brd.create('slider', [[1, -4], [4,-4], [-5, 1, 5]], {name:'k', snapWidth: 0.1});\n\n// Graph of y = k\nvar line = brd.create('line', [[-4,function(){return k.Value()}],[4,function(){return k.Value(); }]], {strokeWidth:2});\n\n\n// texts\nvar formula1 = brd.create('text', [2.5, function() {return k.Value() + 0.3} , function(){return 'y = ' + k.Value().toFixed(1); }], {fontSize: 15});",
              "layout": "IPY_MODEL_e362d899e28b43149ca816901afe70e4"
            }
          },
          "899bda4b46b142d29e4d71eb46a5bf30": {
            "model_name": "LayoutModel",
            "model_module": "@jupyter-widgets/base",
            "model_module_version": "1.2.0",
            "state": {}
          },
          "1957f2d2e490485b8e3a43d4cf810e56": {
            "model_name": "JSWidgetModel",
            "model_module": "jupyter-divewidgets",
            "model_module_version": "^0.1.5",
            "state": {
              "_model_module_version": "^0.1.5",
              "_view_module_version": "^0.1.5",
              "html": "<!DOCTYPE html>\n<html>\n    <head>\n    <style>\n    html, body {\n        height: 100%;\n    }\n    body {\n        width: 100%;\n        display: flex;\n        padding: 0;\n        margin: 0;\n    }\n    .jxgbox {\n        width:100%; \n        flex-grow: 1;\n    }\n    </style>\n    <link rel=\"stylesheet\" type=\"text/css\" href=\"https://jsxgraph.org/distrib/jsxgraph.css\" />\n    <script type=\"text/javascript\" src=\"https://cdn.jsdelivr.net/npm/jsxgraph/distrib/jsxgraphcore.js\"></script>\n    <script type=\"text/javascript\" src=\"https://cdn.jsdelivr.net/npm/mathjax@3/es5/tex-chtml.js\"></script>\n    </head>\n<body>\n<div id=\"box\" class=\"jxgbox\"></div>\n</body>\n</html>",
              "js": "JXG.Options.text.useMathJax = true;\n//board\nvar brd = JXG.JSXGraph.initBoard('box', {boundingbox: [-5, 5, 5, -5], axis: true, showCopyright:false});\n\n// Slider a,b,c\nvar m = brd.create('slider', [[1, -3.5], [4,-3.5], [-5, 1, 5]], {name:'m', snapWidth: 0.5});\nvar c = brd.create('slider', [[1, -4], [4,-4], [-5, 1, 5]], {name:'c', snapWidth: 0.5});\n\n\nvar curve = brd.create('functiongraph', [function(t){ \n        return m.Value() * t + c.Value(); \n    }, -10, 10]);\t\n\n// texts\nvar formula2 = brd.create('text', [-4, 4 , function(){return 'y = ' + m.Value().toFixed(1) + \"x + \"+c.Value().toFixed(1); }], {fontSize: 15});",
              "layout": "IPY_MODEL_899bda4b46b142d29e4d71eb46a5bf30"
            }
          },
          "605cd63710ad4632b496bd2ef540bf5a": {
            "model_name": "LayoutModel",
            "model_module": "@jupyter-widgets/base",
            "model_module_version": "1.2.0",
            "state": {}
          },
          "c0ff2ca894824c65853647891401164f": {
            "model_name": "JSWidgetModel",
            "model_module": "jupyter-divewidgets",
            "model_module_version": "^0.1.5",
            "state": {
              "_model_module_version": "^0.1.5",
              "_view_module_version": "^0.1.5",
              "html": "<!DOCTYPE html>\n<html>\n    <head>\n    <style>\n    html, body {\n        height: 100%;\n    }\n    body {\n        width: 100%;\n        display: flex;\n        padding: 0;\n        margin: 0;\n    }\n    .jxgbox {\n        width:100%; \n        flex-grow: 1;\n    }\n    </style>\n    <link rel=\"stylesheet\" type=\"text/css\" href=\"https://jsxgraph.org/distrib/jsxgraph.css\" />\n    <script type=\"text/javascript\" src=\"https://cdn.jsdelivr.net/npm/jsxgraph/distrib/jsxgraphcore.js\"></script>\n    <script type=\"text/javascript\" src=\"https://cdn.jsdelivr.net/npm/mathjax@3/es5/tex-chtml.js\"></script>\n    </head>\n<body>\n<div id=\"box\" class=\"jxgbox\"></div>\n</body>\n</html>",
              "js": "JXG.Options.text.useMathJax = true;\n//board\nvar brd = JXG.JSXGraph.initBoard('box', {boundingbox: [-5, 5, 5, -5], axis: true, showCopyright:false});\n\n// Slider a,b,c\nvar a = brd.create('slider', [[1, -3.5], [4,-3.5], [-5, 1, 5]], {name:'a', snapWidth: 0.2});\nvar b = brd.create('slider', [[1, -4], [4,-4], [-5, 0, 5]], {name:'b', snapWidth: 0.2});\nvar c = brd.create('slider', [[1, -4.5], [4,-4.5], [-5, 0, 5]], {name:'c', snapWidth: 0.2});\n\n\n\nvar curve = brd.create('functiongraph', [function(t){ \n        return a.Value() * t * t + b.Value() * t + c.Value(); \n    }, -10, 10]);\t\n\n// texts\nvar formula2 = brd.create('text', [-4, 4 , function(){return 'y = ' + a.Value().toFixed(1) + \"*x^2 + \"+b.Value().toFixed(1)+\"*x + \"+c.Value().toFixed(1); }], {fontSize: 15});",
              "layout": "IPY_MODEL_605cd63710ad4632b496bd2ef540bf5a"
            }
          },
          "4369df32245644b1b66c52494be8172a": {
            "model_name": "LayoutModel",
            "model_module": "@jupyter-widgets/base",
            "model_module_version": "1.2.0",
            "state": {}
          },
          "40325239f2694e32962b333ea3912aba": {
            "model_name": "JSWidgetModel",
            "model_module": "jupyter-divewidgets",
            "model_module_version": "^0.1.5",
            "state": {
              "_model_module_version": "^0.1.5",
              "_view_module_version": "^0.1.5",
              "html": "<!DOCTYPE html>\n<html>\n    <head>\n    <style>\n    html, body {\n        height: 100%;\n    }\n    body {\n        width: 100%;\n        display: flex;\n        padding: 0;\n        margin: 0;\n    }\n    .jxgbox {\n        width:100%; \n        flex-grow: 1;\n    }\n    </style>\n    <link rel=\"stylesheet\" type=\"text/css\" href=\"https://jsxgraph.org/distrib/jsxgraph.css\" />\n    <script type=\"text/javascript\" src=\"https://cdn.jsdelivr.net/npm/jsxgraph/distrib/jsxgraphcore.js\"></script>\n    <script type=\"text/javascript\" src=\"https://cdn.jsdelivr.net/npm/mathjax@3/es5/tex-chtml.js\"></script>\n    </head>\n<body>\n<div id=\"box\" class=\"jxgbox\"></div>\n</body>\n</html>",
              "js": "JXG.Options.text.useMathJax = true;\n//board\nvar brd = JXG.JSXGraph.initBoard('box', {boundingbox: [-5, 5, 5, -5], axis: true, showCopyright:false});\n\n// Slider a,b,c\nvar a = brd.create('slider', [[1, -3], [4,-3], [-5, 1, 5]], {name:'a', snapWidth: 0.1});\nvar b = brd.create('slider', [[1, -3.5], [4,-3.5], [-5, 1, 5]], {name:'b', snapWidth: 0.1});\nvar c = brd.create('slider', [[1, -4], [4,-4], [-5, 0, 5]], {name:'c', snapWidth: 0.1});\nvar d = brd.create('slider', [[1, -4.5], [4,-4.5], [-5, 0, 5]], {name:'d', snapWidth: 0.1});\n\n\n\nvar curve = brd.create('functiongraph', [function(t){ \n        return a.Value() * Math.sin(b.Value()*t+c.Value()) + d.Value(); \n    }, -10, 10]);\t\n\n\nvar formula2 = brd.create('text', [-4, 4 , function(){return 'y = ' + a.Value().toFixed(1) + \"*sin(\" + b.Value().toFixed(1)+\"*x+\"+c.Value().toFixed(1)+\")+\"+d.Value().toFixed(1); }], {fontSize: 15});",
              "layout": "IPY_MODEL_4369df32245644b1b66c52494be8172a"
            }
          },
          "0b2b96d30aa84271af9a55aaf7ab2b64": {
            "model_name": "LayoutModel",
            "model_module": "@jupyter-widgets/base",
            "model_module_version": "1.2.0",
            "state": {}
          },
          "ad24e0f16c98406cbc108102f1aa91cc": {
            "model_name": "JSWidgetModel",
            "model_module": "jupyter-divewidgets",
            "model_module_version": "^0.1.5",
            "state": {
              "_model_module_version": "^0.1.5",
              "_view_module_version": "^0.1.5",
              "html": "<!DOCTYPE html>\n<html>\n    <head>\n    <style>\n    html, body {\n        height: 100%;\n    }\n    body {\n        width: 100%;\n        display: flex;\n        padding: 0;\n        margin: 0;\n    }\n    .jxgbox {\n        width:100%; \n        flex-grow: 1;\n    }\n    </style>\n    <link rel=\"stylesheet\" type=\"text/css\" href=\"https://jsxgraph.org/distrib/jsxgraph.css\" />\n    <script type=\"text/javascript\" src=\"https://cdn.jsdelivr.net/npm/jsxgraph/distrib/jsxgraphcore.js\"></script>\n    <script type=\"text/javascript\" src=\"https://cdn.jsdelivr.net/npm/mathjax@3/es5/tex-chtml.js\"></script>\n    </head>\n<body>\n<div id=\"box\" class=\"jxgbox\"></div>\n</body>\n</html>",
              "js": "JXG.Options.text.useMathJax = true;\n//board\nvar brd = JXG.JSXGraph.initBoard('box', {boundingbox: [-5, 5, 5, -5], axis: true, showCopyright:false});\n\n// Slider a,b,c\nvar a = brd.create('slider', [[1, -3], [4,-3], [-5, 1, 5]], {name:'a', snapWidth: 0.1});\nvar b = brd.create('slider', [[1, -3.5], [4,-3.5], [-5, 1, 5]], {name:'b', snapWidth: 0.1});\nvar c = brd.create('slider', [[1, -4], [4,-4], [-5, 0, 5]], {name:'c', snapWidth: 0.1});\nvar d = brd.create('slider', [[1, -4.5], [4,-4.5], [-5, 0, 5]], {name:'d', snapWidth: 0.1});\n\n\n\nvar curve = brd.create('functiongraph', [function(t){ \n        return a.Value() * Math.cos(b.Value()*t+c.Value()) + d.Value(); \n    }, -10, 10]);\t\n\n\nvar formula2 = brd.create('text', [-4, 4 , function(){return 'y = ' + a.Value().toFixed(1) + \"*cos(\" + b.Value().toFixed(1)+\"*x+\"+c.Value().toFixed(1)+\")+\"+d.Value().toFixed(1); }], {fontSize: 15});",
              "layout": "IPY_MODEL_0b2b96d30aa84271af9a55aaf7ab2b64"
            }
          },
          "af5ec7b824d448d7b5208ad775761d21": {
            "model_name": "LayoutModel",
            "model_module": "@jupyter-widgets/base",
            "model_module_version": "1.2.0",
            "state": {}
          },
          "7ea18d0003104fb1a4dfa2fcf67bc700": {
            "model_name": "JSWidgetModel",
            "model_module": "jupyter-divewidgets",
            "model_module_version": "^0.1.5",
            "state": {
              "_model_module_version": "^0.1.5",
              "_view_module_version": "^0.1.5",
              "html": "<!DOCTYPE html>\n<html>\n    <head>\n    <style>\n    html, body {\n        height: 100%;\n    }\n    body {\n        width: 100%;\n        display: flex;\n        padding: 0;\n        margin: 0;\n    }\n    .jxgbox {\n        width:100%; \n        flex-grow: 1;\n    }\n    </style>\n    <link rel=\"stylesheet\" type=\"text/css\" href=\"https://jsxgraph.org/distrib/jsxgraph.css\" />\n    <script type=\"text/javascript\" src=\"https://cdn.jsdelivr.net/npm/jsxgraph/distrib/jsxgraphcore.js\"></script>\n    <script type=\"text/javascript\" src=\"https://cdn.jsdelivr.net/npm/mathjax@3/es5/tex-chtml.js\"></script>\n    </head>\n<body>\n<div id=\"box\" class=\"jxgbox\"></div>\n</body>\n</html>",
              "js": "JXG.Options.text.useMathJax = true;\n//board\nvar brd = JXG.JSXGraph.initBoard('box', {boundingbox: [-5, 5, 5, -5], axis: true, showCopyright:false});\n\n// Slider a,b,c\nvar a = brd.create('slider', [[1, -3], [4,-3], [-5, 1, 5]], {name:'a', snapWidth: 0.1});\nvar b = brd.create('slider', [[1, -3.5], [4,-3.5], [-5, 1, 5]], {name:'b', snapWidth: 0.1});\nvar c = brd.create('slider', [[1, -4], [4,-4], [-5, 0, 5]], {name:'c', snapWidth: 0.1});\nvar d = brd.create('slider', [[1, -4.5], [4,-4.5], [-5, 0, 5]], {name:'d', snapWidth: 0.1});\n\n\n\nvar curve = brd.create('functiongraph', [function(t){ \n        return a.Value() * Math.tan(b.Value()*t+c.Value()) + d.Value(); \n    }, -10, 10]);\t\n\n\nvar formula2 = brd.create('text', [-4, 4 , function(){return 'y = ' + a.Value().toFixed(1) + \"*tan(\" + b.Value().toFixed(1)+\"*x+\"+c.Value().toFixed(1)+\")+\"+d.Value().toFixed(1); }], {fontSize: 15});",
              "layout": "IPY_MODEL_af5ec7b824d448d7b5208ad775761d21"
            }
          },
          "15fc2753d0cb472c89050608cc395014": {
            "model_name": "LayoutModel",
            "model_module": "@jupyter-widgets/base",
            "model_module_version": "1.2.0",
            "state": {}
          },
          "b096211e389f437d8aaf20712d2dfa33": {
            "model_name": "JSWidgetModel",
            "model_module": "jupyter-divewidgets",
            "model_module_version": "^0.1.5",
            "state": {
              "_model_module_version": "^0.1.5",
              "_view_module_version": "^0.1.5",
              "html": "<!DOCTYPE html>\n<html>\n    <head>\n    <style>\n    html, body {\n        height: 100%;\n    }\n    body {\n        width: 100%;\n        display: flex;\n        padding: 0;\n        margin: 0;\n    }\n    .jxgbox {\n        width:100%; \n        flex-grow: 1;\n    }\n    </style>\n    <link rel=\"stylesheet\" type=\"text/css\" href=\"https://jsxgraph.org/distrib/jsxgraph.css\" />\n    <script type=\"text/javascript\" src=\"https://cdn.jsdelivr.net/npm/jsxgraph/distrib/jsxgraphcore.js\"></script>\n    <script type=\"text/javascript\" src=\"https://cdn.jsdelivr.net/npm/mathjax@3/es5/tex-chtml.js\"></script>\n    </head>\n<body>\n<div id=\"box\" class=\"jxgbox\"></div>\n</body>\n</html>",
              "js": "JXG.Options.text.useMathJax = true;\n//board\nvar brd = JXG.JSXGraph.initBoard('box', {boundingbox: [-5, 5, 5, -5], axis: true, showCopyright:false});\n\n// Slider a,b,c\nvar a = brd.create('slider', [[1, -3], [4,-3], [-5, 1, 5]], {name:'a', snapWidth: 0.1});\nvar b = brd.create('slider', [[1, -3.5], [4,-3.5], [-5, 1, 5]], {name:'b', snapWidth: 0.1});\nvar c = brd.create('slider', [[1, -4], [4,-4], [-5, 0, 5]], {name:'c', snapWidth: 0.1});\nvar d = brd.create('slider', [[1, -4.5], [4,-4.5], [-5, 0, 5]], {name:'d', snapWidth: 0.1});\n\n\n\nvar curve = brd.create('functiongraph', [function(t){ \n        return a.Value() * 1/(Math.tan(b.Value()*t+c.Value())) + d.Value(); \n    }, -10, 10]);\t\n\n\nvar formula2 = brd.create('text', [-4, 4 , function(){return 'y = ' + a.Value().toFixed(1) + \"*cot(\" + b.Value().toFixed(1)+\"*x+\"+c.Value().toFixed(1)+\")+\"+d.Value().toFixed(1); }], {fontSize: 15});",
              "layout": "IPY_MODEL_15fc2753d0cb472c89050608cc395014"
            }
          },
          "79f7f313bb1844e0a505e839bd053066": {
            "model_name": "LayoutModel",
            "model_module": "@jupyter-widgets/base",
            "model_module_version": "1.2.0",
            "state": {}
          },
          "02e5eb04d52f467ba8da2bec695cd326": {
            "model_name": "JSWidgetModel",
            "model_module": "jupyter-divewidgets",
            "model_module_version": "^0.1.5",
            "state": {
              "_model_module_version": "^0.1.5",
              "_view_module_version": "^0.1.5",
              "height": 500,
              "html": "<!DOCTYPE html>\n<html>\n    <head>\n    <style>\n    html, body {\n        height: 100%;\n    }\n    body {\n        width: 100%;\n        display: flex;\n        padding: 0;\n        margin: 0;\n    }\n    .jxgbox {\n        width:100%; \n        flex-grow: 1;\n    }\n    </style>\n    <link rel=\"stylesheet\" type=\"text/css\" href=\"https://jsxgraph.org/distrib/jsxgraph.css\" />\n    <script type=\"text/javascript\" src=\"https://cdn.jsdelivr.net/npm/jsxgraph/distrib/jsxgraphcore.js\"></script>\n    <script type=\"text/javascript\" src=\"https://www.cs.cityu.edu.hk/~ccha23/js/load-mathjax.js\"></script>\n    </head>\n<body>\n<div id=\"jxgbox\" class=\"jxgbox\"></div>\n</body>\n</html>",
              "js": "JXG.Options.text.useMathJax = true;\nvar brd = JXG.JSXGraph.initBoard('jxgbox', {boundingbox: [-8, 8, 8, -4], axis:true,  showCopyright:false});\nvar aVar = brd.create('slider', [[1, 3], [6,3], [0, 1, 5]], {name:'a', snapWidth: 0.001});\nvar exponentialGraph = brd.create('functiongraph', [function(x){return Math.pow(aVar.Value(), x);}, -10, 10]);\nvar text1 = brd.create('text',[-5,2,function(){return '\\\\[\\\\M{y}=a^x\\\\]';}]);",
              "layout": "IPY_MODEL_79f7f313bb1844e0a505e839bd053066"
            }
          },
          "88ed33140cde4662b36b4647f79d7668": {
            "model_name": "LayoutModel",
            "model_module": "@jupyter-widgets/base",
            "model_module_version": "1.2.0",
            "state": {}
          },
          "a82ed85bb8c5414e916c244df3376fa9": {
            "model_name": "JSWidgetModel",
            "model_module": "jupyter-divewidgets",
            "model_module_version": "^0.1.5",
            "state": {
              "_model_module_version": "^0.1.5",
              "_view_module_version": "^0.1.5",
              "height": 500,
              "html": "<!DOCTYPE html>\n<html>\n    <head>\n    <style>\n    html, body {\n        height: 100%;\n    }\n    body {\n        width: 100%;\n        display: flex;\n        padding: 0;\n        margin: 0;\n    }\n    .jxgbox {\n        width:100%; \n        flex-grow: 1;\n    }\n    </style>\n    <link rel=\"stylesheet\" type=\"text/css\" href=\"https://jsxgraph.org/distrib/jsxgraph.css\" />\n    <script type=\"text/javascript\" src=\"https://cdn.jsdelivr.net/npm/jsxgraph/distrib/jsxgraphcore.js\"></script>\n    <script type=\"text/javascript\" src=\"https://www.cs.cityu.edu.hk/~ccha23/js/load-mathjax.js\"></script>\n    </head>\n<body>\n<div id=\"jxgbox\" class=\"jxgbox\"></div>\n</body>\n</html>",
              "js": "JXG.Options.text.useMathJax = true;\nvar brd = JXG.JSXGraph.initBoard('jxgbox', {boundingbox: [-8, 8, 8, -4], axis:true,  showCopyright:false});\nvar aVar = brd.create('slider', [[1.5, 3], [6,3], [0, 1, 5]], {name:'a', snapWidth: 0.001});\nvar logarithmicGraph = brd.create('functiongraph', [function(x){return Math.log(x) / Math.log(aVar.Value());}, -10, 10]);\nvar text1 = brd.create('text',[-5,2,function(){return '\\\\[\\\\M{y}=\\log_{a}{x}\\\\]';}]);",
              "layout": "IPY_MODEL_88ed33140cde4662b36b4647f79d7668"
            }
          },
          "c363a07903a04d48a9f9196ee1851acf": {
            "model_name": "LayoutModel",
            "model_module": "@jupyter-widgets/base",
            "model_module_version": "1.2.0",
            "state": {}
          },
          "b3780592bc694e938d854ac622e78f59": {
            "model_name": "JSWidgetModel",
            "model_module": "jupyter-divewidgets",
            "model_module_version": "^0.1.5",
            "state": {
              "_model_module_version": "^0.1.5",
              "_view_module_version": "^0.1.5",
              "height": 500,
              "html": "<!DOCTYPE html>\n<html>\n    <head>\n    <style>\n    html, body {\n        height: 100%;\n    }\n    body {\n        width: 100%;\n        display: flex;\n        padding: 0;\n        margin: 0;\n    }\n    .jxgbox {\n        width:100%; \n        flex-grow: 1;\n    }\n    </style>\n    <link rel=\"stylesheet\" type=\"text/css\" href=\"https://jsxgraph.org/distrib/jsxgraph.css\" />\n    <script type=\"text/javascript\" src=\"https://cdn.jsdelivr.net/npm/jsxgraph/distrib/jsxgraphcore.js\"></script>\n    <script type=\"text/javascript\" src=\"https://www.cs.cityu.edu.hk/~ccha23/js/load-mathjax.js\"></script>\n    </head>\n<body>\n<div id=\"jxgbox\" class=\"jxgbox\"></div>\n</body>\n</html>",
              "js": "JXG.Options.text.useMathJax = true;\nvar brd = JXG.JSXGraph.initBoard('jxgbox', {boundingbox: [-8, 8, 8, -4], axis:true,  showCopyright:false});\nvar aVar = brd.create('slider', [[1, 3], [6,3], [0, 1, 5]], {name:'a', snapWidth: 0.001});\nvar exponentialGraph = brd.create('functiongraph', [function(x){return Math.pow(aVar.Value(), x);}, -100, 100]);\nvar logarithmicGraph = brd.create('functiongraph', [function(x){return Math.log(x) / Math.log(aVar.Value());}, -100, 100]);\nvar yEqualsToXGraph = brd.create('functiongraph', [function(x){return x}, -100, 100], {strokeColor:'#00ff00'});\nvar text1 = brd.create('text',[-5,2,function(){return '\\\\[\\\\M{y}=a^x\\\\]';}]);\nvar text2 = brd.create('text',[5,-2,function(){return '\\\\[\\\\M{y}=\\log_{a}{x}\\\\]';}]);",
              "layout": "IPY_MODEL_c363a07903a04d48a9f9196ee1851acf"
            }
          }
        }
      }
    }
  },
  "nbformat_minor": 5,
  "nbformat": 4,
  "cells": [
    {
      "cell_type": "markdown",
      "source": "# Plotting Functions",
      "metadata": {},
      "id": "c88a2e2f-d877-491d-adfd-0774b1048a84"
    },
    {
      "cell_type": "markdown",
      "source": "**DIVE into Math**\n\n---",
      "metadata": {},
      "id": "6a50420e-6061-4dcc-94a2-ca0e0dc9c796"
    },
    {
      "cell_type": "markdown",
      "source": "Contributor(s): \n\n- Nurdaulet TAUMERGENOV\n- Michael LIM\n- Chung Chan\n\n---",
      "metadata": {},
      "id": "f2d265e0-8177-4bcd-b29f-4f59162c501c"
    },
    {
      "cell_type": "code",
      "source": "%reload_ext divewidgets",
      "metadata": {
        "trusted": true
      },
      "execution_count": 1,
      "outputs": [],
      "id": "45777c8c-f182-4278-a39c-84f96ca17d99"
    },
    {
      "cell_type": "markdown",
      "source": "## Sketch and compare graphs of various types of functions",
      "metadata": {
        "tags": []
      },
      "id": "5145434e-1c4c-4b16-9ba2-7df6aadf11ea"
    },
    {
      "cell_type": "markdown",
      "source": "Sketch and compare graphs of various types of functions includes: constant, linear, quadratic, trigonometric, exponential and logarithmic functions.  \n\nComparison criterias:\n * Domains\n * Existance of min/max values\n * Symmetry\n * Periodicity",
      "metadata": {},
      "id": "33f18827-ec4f-4422-9250-96958522eae3"
    },
    {
      "cell_type": "markdown",
      "source": "### **Constant Function**",
      "metadata": {},
      "id": "289dbe45-87e9-4039-9d98-af2c6b4a9e04"
    },
    {
      "cell_type": "markdown",
      "source": "#### __Graph of constant functions__",
      "metadata": {
        "tags": []
      },
      "id": "46bae864-45b6-4857-b672-8852a94f1d72"
    },
    {
      "cell_type": "code",
      "source": "%%jsxgraph\nJXG.Options.text.useMathJax = true;\n//board\nvar brd = JXG.JSXGraph.initBoard('box', {boundingbox: [-5, 5, 5, -5], axis: true, showCopyright:false});\n\n// Slider k\nvar k = brd.create('slider', [[1, -4], [4,-4], [-5, 1, 5]], {name:'k', snapWidth: 0.1});\n\n// Graph of y = k\nvar line = brd.create('line', [[-4,function(){return k.Value()}],[4,function(){return k.Value(); }]], {strokeWidth:2});\n\n\n// texts\nvar formula1 = brd.create('text', [2.5, function() {return k.Value() + 0.3} , function(){return 'y = ' + k.Value().toFixed(1); }], {fontSize: 15});\n",
      "metadata": {
        "trusted": true
      },
      "execution_count": 2,
      "outputs": [
        {
          "output_type": "display_data",
          "data": {
            "application/vnd.jupyter.widget-view+json": {
              "model_id": "2f0468ab933e4a3a933a0f44ad10d43a",
              "version_major": 2,
              "version_minor": 0
            },
            "text/plain": "JSWidget(value=None, height=600, html='<!DOCTYPE html>\\n<html>\\n    <head>\\n    <style>\\n    html, body {\\n   …"
          },
          "metadata": {}
        }
      ],
      "id": "ac9edaef-99b3-47ca-abbf-be1c88e10e11"
    },
    {
      "cell_type": "markdown",
      "source": "**Domain and Range of a Constant Function**\n\nA constant function is a linear function whose range contains only one element irrespective of the number of elements of the domain. Since the constant function is defined for all real values of x:\n* Its domain is the set of all real numbers, $R$. So, domain = $R$\n* Since a constant function $f(x) = k$ leads to only one output, which is $k$, its range is the set with just one element $k$. Range = {$k$}\n\n**Minimum and Maximum values (Extreme values)**\n\n\nA function does not have an extreme value (Maximum or Minimum) when it is a constant function ($y=c$ or $x=c$)\n\n**Symmetry**\n\nThe graph of a constant function $f(x) = k$ (or $y = k$) is symmetric with respect to the y-axis.\n\nSimilarly, the graph of a constant function $x = k$ is symmetric with respect to the x-axis.\n\n**Periodicity**\nConstants are periodic functions of any period, and therefore, they do not have a fundamental period.",
      "metadata": {
        "tags": []
      },
      "id": "d8bb56dd-9b16-41ea-a017-95bf5bf71442"
    },
    {
      "cell_type": "markdown",
      "source": "**Exercise**\n\nGiven the formula of the constant function, try to find inverse function to $y = k$. Write your answer below:\n\n$$? = ?$$\n\n*hint*: To find out inverse function of a given function, try to swap roles of $X$ and $Y$.",
      "metadata": {},
      "id": "de968d63-a454-4508-a360-75f3a1f96c39"
    },
    {
      "cell_type": "markdown",
      "source": "YOUR ANSWER HERE",
      "metadata": {
        "deletable": false,
        "nbgrader": {
          "cell_type": "markdown",
          "checksum": "11b903531c3dc15001aba9cee6eb2924",
          "grade": true,
          "grade_id": "p1",
          "locked": false,
          "points": 1,
          "schema_version": 3,
          "solution": true,
          "task": false
        },
        "tags": []
      },
      "id": "251eb9dc-e2f8-43d3-a690-19c01744c55c"
    },
    {
      "cell_type": "markdown",
      "source": "### **Linear function**",
      "metadata": {},
      "id": "bee45e2c-245a-44d0-8b89-755149decd23"
    },
    {
      "cell_type": "markdown",
      "source": "The linear function of a real variable that takes a general equation:\n$$ y = mx + c, $$\nwhose graph is a straight line.",
      "metadata": {},
      "id": "9f60f0b1-6304-4f77-9fbf-4c369e57e6db"
    },
    {
      "cell_type": "markdown",
      "source": "**Graph of linear function**",
      "metadata": {},
      "id": "39e35373-df88-4786-8c9a-d515a7dbbbeb"
    },
    {
      "cell_type": "code",
      "source": "%%jsxgraph\nJXG.Options.text.useMathJax = true;\n//board\nvar brd = JXG.JSXGraph.initBoard('box', {boundingbox: [-5, 5, 5, -5], axis: true, showCopyright:false});\n\n// Slider a,b,c\nvar m = brd.create('slider', [[1, -3.5], [4,-3.5], [-5, 1, 5]], {name:'m', snapWidth: 0.5});\nvar c = brd.create('slider', [[1, -4], [4,-4], [-5, 1, 5]], {name:'c', snapWidth: 0.5});\n\n\nvar curve = brd.create('functiongraph', [function(t){ \n        return m.Value() * t + c.Value(); \n    }, -10, 10]);\t\n\n// texts\nvar formula2 = brd.create('text', [-4, 4 , function(){return 'y = ' + m.Value().toFixed(1) + \"x + \"+c.Value().toFixed(1); }], {fontSize: 15});\n",
      "metadata": {
        "trusted": true
      },
      "execution_count": 3,
      "outputs": [
        {
          "output_type": "display_data",
          "data": {
            "application/vnd.jupyter.widget-view+json": {
              "model_id": "1957f2d2e490485b8e3a43d4cf810e56",
              "version_major": 2,
              "version_minor": 0
            },
            "text/plain": "JSWidget(value=None, height=600, html='<!DOCTYPE html>\\n<html>\\n    <head>\\n    <style>\\n    html, body {\\n   …"
          },
          "metadata": {}
        }
      ],
      "id": "a1e60cef-ec92-4095-a1b0-f4e3b0505abf"
    },
    {
      "cell_type": "markdown",
      "source": "**Domain and Range of a Linear Function**\n\nThe domain of a linear function is the set of all real numbers, and the range of a linear function is also the set of all real numbers.\n\nWhen, the slope $m \\neq 0$ (else it is constant funciton):\n* The domain of a linear function  = $\\mathbb{R}$\n* The range of a linear function = $\\mathbb{R}$ \n\n**Minimum and Maximum values (Extreme values)**\n\nSince, the domain and range of a linear function are $\\mathbb{R}$, linear function does not have min or max values.\n",
      "metadata": {},
      "id": "2a2ef755-7358-4c6c-8568-23cb90c7be5b"
    },
    {
      "cell_type": "markdown",
      "source": "**Exercise**\n\n*Constant* functions are special cases of linear functions. Using interactive Graph above, find out how we can convert linear function to constant function?\n\n",
      "metadata": {},
      "id": "2ff20f1e-1518-4f3f-b341-3ba5834a232d"
    },
    {
      "cell_type": "markdown",
      "source": "YOUR ANSWER HERE",
      "metadata": {
        "deletable": false,
        "nbgrader": {
          "cell_type": "markdown",
          "checksum": "60fdd1f7ebf4bcb905d160e67f88525a",
          "grade": true,
          "grade_id": "p2",
          "locked": false,
          "points": 1,
          "schema_version": 3,
          "solution": true,
          "task": false
        },
        "tags": []
      },
      "id": "d0061389-1a8d-465f-8abd-c5923ad2ffd5"
    },
    {
      "cell_type": "markdown",
      "source": "### **Quadratic Function**\n",
      "metadata": {},
      "id": "78907697-bd5d-4e13-b377-686f1a8a1568"
    },
    {
      "cell_type": "markdown",
      "source": "**Graph of Quadratic function**",
      "metadata": {},
      "id": "19d7554c-2362-4e57-bffe-847988ff05b9"
    },
    {
      "cell_type": "code",
      "source": "%%jsxgraph\nJXG.Options.text.useMathJax = true;\n//board\nvar brd = JXG.JSXGraph.initBoard('box', {boundingbox: [-5, 5, 5, -5], axis: true, showCopyright:false});\n\n// Slider a,b,c\nvar a = brd.create('slider', [[1, -3.5], [4,-3.5], [-5, 1, 5]], {name:'a', snapWidth: 0.2});\nvar b = brd.create('slider', [[1, -4], [4,-4], [-5, 0, 5]], {name:'b', snapWidth: 0.2});\nvar c = brd.create('slider', [[1, -4.5], [4,-4.5], [-5, 0, 5]], {name:'c', snapWidth: 0.2});\n\n\n\nvar curve = brd.create('functiongraph', [function(t){ \n        return a.Value() * t * t + b.Value() * t + c.Value(); \n    }, -10, 10]);\t\n\n// texts\nvar formula2 = brd.create('text', [-4, 4 , function(){return 'y = ' + a.Value().toFixed(1) + \"*x^2 + \"+b.Value().toFixed(1)+\"*x + \"+c.Value().toFixed(1); }], {fontSize: 15});\n",
      "metadata": {
        "trusted": true
      },
      "execution_count": 4,
      "outputs": [
        {
          "output_type": "display_data",
          "data": {
            "application/vnd.jupyter.widget-view+json": {
              "model_id": "c0ff2ca894824c65853647891401164f",
              "version_major": 2,
              "version_minor": 0
            },
            "text/plain": "JSWidget(value=None, height=600, html='<!DOCTYPE html>\\n<html>\\n    <head>\\n    <style>\\n    html, body {\\n   …"
          },
          "metadata": {}
        }
      ],
      "id": "f0c166d8-086d-4ec2-a318-913d91c661ca"
    },
    {
      "cell_type": "markdown",
      "source": "\n**Domain and Range of Quadratic Function**\n\nA quadratic function is a polynomial function that is defined for all real values of $x$. So, the domain of a quadratic function is $\\mathbb{R}$. In interval notation, the domain of any quadratic function is $(-\\infty, \\infty)$.\n\nThe range of the quadratic function depends on the graph's opening side and vertex. So, look for the lowermost and uppermost f(x) values on the graph of the function to determine the range of the quadratic function. The range of any quadratic function with vertex $(h, k)$ and the equation $f(x) = a(x - h)^2 + k$ is:\n* $y \\geq k$ or $[k, +\\infty)$ when $a > 0$ (as the parabola opens up when $a > 0$).\n* $y \\leq k$ or $(-\\infty, k]$ when $a < 0$ (as the parabola opens down when $a < 0$).\n\n**Maxima and Minima of Quadratic Function**\n\nMaxima or minima of quadratic functions occur at its vertex.\n\n\n**Symmetry**\nQuadratic function is symmetric by y axis iff $b=0$, so $y = ax^2 + c$.\n\n**Periodicity**\nQuadratic function is not periodic.\n\n",
      "metadata": {},
      "id": "cf084085-d0d6-4183-9f8e-c3fdcf59d7e4"
    },
    {
      "cell_type": "markdown",
      "source": "**Exercise**\n\nPlaying with sliders of the graph of quadratic function, how can we convert it to linear function?\n\n*hint*: Additionally, you can find it by comparing formulas of quadratic and linear function. \n\n",
      "metadata": {},
      "id": "035d4982-c52a-4d03-a6ce-842da527090d"
    },
    {
      "cell_type": "markdown",
      "source": "YOUR ANSWER HERE",
      "metadata": {
        "deletable": false,
        "nbgrader": {
          "cell_type": "markdown",
          "checksum": "c8b504260721e8337533afb4b4ad5fa8",
          "grade": true,
          "grade_id": "p3",
          "locked": false,
          "points": 1,
          "schema_version": 3,
          "solution": true,
          "task": false
        },
        "tags": []
      },
      "id": "6ba4ce8b-3904-4512-aa0c-e364af476294"
    },
    {
      "cell_type": "markdown",
      "source": "### **Trigonometric function**",
      "metadata": {},
      "id": "119488fc-f781-4a07-a182-6050e133dfda"
    },
    {
      "cell_type": "markdown",
      "source": "#### **Graph of sine**",
      "metadata": {},
      "id": "67091626-bdfe-459a-9f7e-db2586770646"
    },
    {
      "cell_type": "code",
      "source": "%%jsxgraph\nJXG.Options.text.useMathJax = true;\n//board\nvar brd = JXG.JSXGraph.initBoard('box', {boundingbox: [-5, 5, 5, -5], axis: true, showCopyright:false});\n\n// Slider a,b,c\nvar a = brd.create('slider', [[1, -3], [4,-3], [-5, 1, 5]], {name:'a', snapWidth: 0.1});\nvar b = brd.create('slider', [[1, -3.5], [4,-3.5], [-5, 1, 5]], {name:'b', snapWidth: 0.1});\nvar c = brd.create('slider', [[1, -4], [4,-4], [-5, 0, 5]], {name:'c', snapWidth: 0.1});\nvar d = brd.create('slider', [[1, -4.5], [4,-4.5], [-5, 0, 5]], {name:'d', snapWidth: 0.1});\n\n\n\nvar curve = brd.create('functiongraph', [function(t){ \n        return a.Value() * Math.sin(b.Value()*t+c.Value()) + d.Value(); \n    }, -10, 10]);\t\n\n\nvar formula2 = brd.create('text', [-4, 4 , function(){return 'y = ' + a.Value().toFixed(1) + \"*sin(\" + b.Value().toFixed(1)+\"*x+\"+c.Value().toFixed(1)+\")+\"+d.Value().toFixed(1); }], {fontSize: 15});\n\n",
      "metadata": {
        "trusted": true
      },
      "execution_count": 5,
      "outputs": [
        {
          "output_type": "display_data",
          "data": {
            "application/vnd.jupyter.widget-view+json": {
              "model_id": "40325239f2694e32962b333ea3912aba",
              "version_major": 2,
              "version_minor": 0
            },
            "text/plain": "JSWidget(value=None, height=600, html='<!DOCTYPE html>\\n<html>\\n    <head>\\n    <style>\\n    html, body {\\n   …"
          },
          "metadata": {}
        }
      ],
      "id": "4b0b07da-2f0a-45ea-a6db-7e65c40cf59e"
    },
    {
      "cell_type": "markdown",
      "source": "**Exercise**\n\nPlaying with the graph of sine function, find out which of these variables ($a, b, c, d$) correspond to each of this properties.\n\n*Amplude:*\n\n*Period:*\n\n*Phase shift:*\n\n*Vertical shift:*",
      "metadata": {},
      "id": "3cdeacdc-ae06-4201-a21e-ae68d3f079a1"
    },
    {
      "cell_type": "markdown",
      "source": "YOUR ANSWER HERE",
      "metadata": {
        "deletable": false,
        "nbgrader": {
          "cell_type": "markdown",
          "checksum": "e95afce7c7a31f343c985f237b91b56a",
          "grade": true,
          "grade_id": "p4",
          "locked": false,
          "points": 1,
          "schema_version": 3,
          "solution": true,
          "task": false
        },
        "tags": []
      },
      "id": "dccef1ad-5b98-40fb-a8ed-4b2662ed0591"
    },
    {
      "cell_type": "markdown",
      "source": "**Graph of cosine**",
      "metadata": {},
      "id": "2fe82915-2b28-41ac-b184-cd3e6083970a"
    },
    {
      "cell_type": "code",
      "source": "%%jsxgraph\nJXG.Options.text.useMathJax = true;\n//board\nvar brd = JXG.JSXGraph.initBoard('box', {boundingbox: [-5, 5, 5, -5], axis: true, showCopyright:false});\n\n// Slider a,b,c\nvar a = brd.create('slider', [[1, -3], [4,-3], [-5, 1, 5]], {name:'a', snapWidth: 0.1});\nvar b = brd.create('slider', [[1, -3.5], [4,-3.5], [-5, 1, 5]], {name:'b', snapWidth: 0.1});\nvar c = brd.create('slider', [[1, -4], [4,-4], [-5, 0, 5]], {name:'c', snapWidth: 0.1});\nvar d = brd.create('slider', [[1, -4.5], [4,-4.5], [-5, 0, 5]], {name:'d', snapWidth: 0.1});\n\n\n\nvar curve = brd.create('functiongraph', [function(t){ \n        return a.Value() * Math.cos(b.Value()*t+c.Value()) + d.Value(); \n    }, -10, 10]);\t\n\n\nvar formula2 = brd.create('text', [-4, 4 , function(){return 'y = ' + a.Value().toFixed(1) + \"*cos(\" + b.Value().toFixed(1)+\"*x+\"+c.Value().toFixed(1)+\")+\"+d.Value().toFixed(1); }], {fontSize: 15});\n\n",
      "metadata": {
        "trusted": true
      },
      "execution_count": 6,
      "outputs": [
        {
          "output_type": "display_data",
          "data": {
            "application/vnd.jupyter.widget-view+json": {
              "model_id": "ad24e0f16c98406cbc108102f1aa91cc",
              "version_major": 2,
              "version_minor": 0
            },
            "text/plain": "JSWidget(value=None, height=600, html='<!DOCTYPE html>\\n<html>\\n    <head>\\n    <style>\\n    html, body {\\n   …"
          },
          "metadata": {}
        }
      ],
      "id": "1eaf5fbb-7033-41fb-b514-c29690d5414c"
    },
    {
      "cell_type": "markdown",
      "source": "**Exercise**\n\nPlaying with the graph of cosine function, how can we convert cosine function to sine?\n\n*hint:* try to experiment with its Phase shift.\n\n",
      "metadata": {},
      "id": "bb402c53-7210-4554-8146-9ffb0c4001aa"
    },
    {
      "cell_type": "markdown",
      "source": "YOUR ANSWER HERE",
      "metadata": {
        "deletable": false,
        "nbgrader": {
          "cell_type": "markdown",
          "checksum": "916f1693024d3b9864680cccb92f8d5f",
          "grade": true,
          "grade_id": "p5",
          "locked": false,
          "points": 1,
          "schema_version": 3,
          "solution": true,
          "task": false
        },
        "tags": []
      },
      "id": "5bb8362e-f02d-44bf-9509-2d09552e193e"
    },
    {
      "cell_type": "markdown",
      "source": "**Graph of tangents**",
      "metadata": {},
      "id": "eb727541-55c8-405a-a65b-2a8dfa015378"
    },
    {
      "cell_type": "code",
      "source": "%%jsxgraph\nJXG.Options.text.useMathJax = true;\n//board\nvar brd = JXG.JSXGraph.initBoard('box', {boundingbox: [-5, 5, 5, -5], axis: true, showCopyright:false});\n\n// Slider a,b,c\nvar a = brd.create('slider', [[1, -3], [4,-3], [-5, 1, 5]], {name:'a', snapWidth: 0.1});\nvar b = brd.create('slider', [[1, -3.5], [4,-3.5], [-5, 1, 5]], {name:'b', snapWidth: 0.1});\nvar c = brd.create('slider', [[1, -4], [4,-4], [-5, 0, 5]], {name:'c', snapWidth: 0.1});\nvar d = brd.create('slider', [[1, -4.5], [4,-4.5], [-5, 0, 5]], {name:'d', snapWidth: 0.1});\n\n\n\nvar curve = brd.create('functiongraph', [function(t){ \n        return a.Value() * Math.tan(b.Value()*t+c.Value()) + d.Value(); \n    }, -10, 10]);\t\n\n\nvar formula2 = brd.create('text', [-4, 4 , function(){return 'y = ' + a.Value().toFixed(1) + \"*tan(\" + b.Value().toFixed(1)+\"*x+\"+c.Value().toFixed(1)+\")+\"+d.Value().toFixed(1); }], {fontSize: 15});\n\n",
      "metadata": {
        "trusted": true
      },
      "execution_count": 7,
      "outputs": [
        {
          "output_type": "display_data",
          "data": {
            "application/vnd.jupyter.widget-view+json": {
              "model_id": "7ea18d0003104fb1a4dfa2fcf67bc700",
              "version_major": 2,
              "version_minor": 0
            },
            "text/plain": "JSWidget(value=None, height=600, html='<!DOCTYPE html>\\n<html>\\n    <head>\\n    <style>\\n    html, body {\\n   …"
          },
          "metadata": {}
        }
      ],
      "id": "7b1aca51-6d70-4ba4-9a71-71567da71ed6"
    },
    {
      "cell_type": "markdown",
      "source": "**Graph of cotangent**",
      "metadata": {},
      "id": "e1484616-16f0-4fe7-a831-167cb4c23786"
    },
    {
      "cell_type": "code",
      "source": "%%jsxgraph\nJXG.Options.text.useMathJax = true;\n//board\nvar brd = JXG.JSXGraph.initBoard('box', {boundingbox: [-5, 5, 5, -5], axis: true, showCopyright:false});\n\n// Slider a,b,c\nvar a = brd.create('slider', [[1, -3], [4,-3], [-5, 1, 5]], {name:'a', snapWidth: 0.1});\nvar b = brd.create('slider', [[1, -3.5], [4,-3.5], [-5, 1, 5]], {name:'b', snapWidth: 0.1});\nvar c = brd.create('slider', [[1, -4], [4,-4], [-5, 0, 5]], {name:'c', snapWidth: 0.1});\nvar d = brd.create('slider', [[1, -4.5], [4,-4.5], [-5, 0, 5]], {name:'d', snapWidth: 0.1});\n\n\n\nvar curve = brd.create('functiongraph', [function(t){ \n        return a.Value() * 1/(Math.tan(b.Value()*t+c.Value())) + d.Value(); \n    }, -10, 10]);\t\n\n\nvar formula2 = brd.create('text', [-4, 4 , function(){return 'y = ' + a.Value().toFixed(1) + \"*cot(\" + b.Value().toFixed(1)+\"*x+\"+c.Value().toFixed(1)+\")+\"+d.Value().toFixed(1); }], {fontSize: 15});\n\n",
      "metadata": {
        "trusted": true
      },
      "execution_count": 8,
      "outputs": [
        {
          "output_type": "display_data",
          "data": {
            "application/vnd.jupyter.widget-view+json": {
              "model_id": "b096211e389f437d8aaf20712d2dfa33",
              "version_major": 2,
              "version_minor": 0
            },
            "text/plain": "JSWidget(value=None, height=600, html='<!DOCTYPE html>\\n<html>\\n    <head>\\n    <style>\\n    html, body {\\n   …"
          },
          "metadata": {}
        }
      ],
      "id": "033d41a2-a5d3-415f-a1ad-54464282b436"
    },
    {
      "cell_type": "markdown",
      "source": "**Domain and Range**\n\n| Trigonometric Functions\t| Domain    \t| Range \t|\n|-------------- |---------------|--------------|\n|$\\sin \\theta$ \t| ($-\\infty$, $+\\infty$)\t|[-1, 1]\t|  \n|$\\cos \\theta$ \t| ($-\\infty$, $+\\infty$)\t|[-1, 1] \t|  \n|$\\tan \\theta$\t| $\\mathbb{R}\\setminus$ {($n+\\frac{1}{2}$)$\\pi$ $\\mid$ $n\\in \\mathbb{Z}$}     \t|($-\\infty$, $+\\infty$)\t|  \n|$\\cot \\theta$\t| $\\mathbb{R}\\setminus$ {$n \\pi \\mid$ $n\\in \\mathbb{Z}$} \t| ($-\\infty$, $+\\infty$)\t|  ",
      "metadata": {},
      "id": "69d69146-2f0f-44b7-89ef-bfd3f40bb31c"
    },
    {
      "cell_type": "markdown",
      "source": "**Symmetry**\n* $y=\\sin \\theta$ - symmetric by origin\n* $y=\\cos \\theta$ - symmetric by y-axis\n* $y=\\tan \\theta$ and $y=\\cot \\theta$ - symmetric by origin ",
      "metadata": {},
      "id": "6b8cfa6f-0201-4eb7-9f25-bb09edcfdbbb"
    },
    {
      "cell_type": "markdown",
      "source": "__Periodicity__\n\n$$\n\\begin{align}\n\\sin(\\alpha \\pm 2 \\pi n) = \\sin \\alpha, \\text{ period } 2\\pi \\text{ or } 360^{\\circ}, \\\\\n\\cos(\\alpha \\pm 2 \\pi n) = \\cos \\alpha, \\text{ period } 2\\pi \\text{ or } 360^{\\circ}, \\\\\n\\tan(\\alpha \\pm \\pi n) = \\tan \\alpha, \\text{ period } \\pi \\text{ or } 180^{\\circ}, \\\\\n\\cot(\\alpha \\pm \\pi n) = \\cot \\alpha, \\text{ period } \\pi \\text{ or } 180^{\\circ}, \n\\end{align}\n$$",
      "metadata": {},
      "id": "a2931cb6-cf20-4d35-aee7-8e48f15355df"
    },
    {
      "cell_type": "markdown",
      "source": "### **Exponential Function**",
      "metadata": {},
      "id": "845230a9-4bde-4058-83e2-ba21a4521aa4"
    },
    {
      "cell_type": "markdown",
      "source": "__Graph of Exponential function__",
      "metadata": {},
      "id": "4dc33a53-67ee-49df-90ec-6b0e04327fe0"
    },
    {
      "cell_type": "code",
      "source": "%%jsxgraph -i jxgbox -h 500 -m https://www.cs.cityu.edu.hk/~ccha23/js/load-mathjax.js\nJXG.Options.text.useMathJax = true;\nvar brd = JXG.JSXGraph.initBoard('jxgbox', {boundingbox: [-8, 8, 8, -4], axis:true,  showCopyright:false});\nvar aVar = brd.create('slider', [[1, 3], [6,3], [0, 1, 5]], {name:'a', snapWidth: 0.001});\nvar exponentialGraph = brd.create('functiongraph', [function(x){return Math.pow(aVar.Value(), x);}, -10, 10]);\nvar text1 = brd.create('text',[-5,2,function(){return '\\\\[\\\\M{y}=a^x\\\\]';}]);",
      "metadata": {
        "trusted": true
      },
      "execution_count": 9,
      "outputs": [
        {
          "output_type": "display_data",
          "data": {
            "application/vnd.jupyter.widget-view+json": {
              "model_id": "02e5eb04d52f467ba8da2bec695cd326",
              "version_major": 2,
              "version_minor": 0
            },
            "text/plain": "JSWidget(value=None, height=500, html='<!DOCTYPE html>\\n<html>\\n    <head>\\n    <style>\\n    html, body {\\n   …"
          },
          "metadata": {}
        }
      ],
      "id": "4f4b2271-c42a-45a5-b1a3-a464994e2e80"
    },
    {
      "cell_type": "markdown",
      "source": "**Domain and Range of Exponential Function**\n\nFor an exponential function $f(x) = a^x$,\n* Domain is the set of all real numbers, or $(-\\infty, +\\infty)$.\n* Range is f(x) > d if a > 0 and f(x) < d if a < 0.\n\n**Exponential function is not periodic, symmetric neither has max/min values**\n",
      "metadata": {},
      "id": "e028d61c-716b-41cb-b84f-1605036c978b"
    },
    {
      "cell_type": "markdown",
      "source": "### **Logarithmic Function**",
      "metadata": {},
      "id": "b10f14a1-f977-4715-8dc7-1b72a3744b51"
    },
    {
      "cell_type": "markdown",
      "source": "__Graph of Logarithmic Function__",
      "metadata": {},
      "id": "011700d7-3e8e-47ee-906c-8036599d92f2"
    },
    {
      "cell_type": "code",
      "source": "%%jsxgraph -i jxgbox -h 500 -m https://www.cs.cityu.edu.hk/~ccha23/js/load-mathjax.js\nJXG.Options.text.useMathJax = true;\nvar brd = JXG.JSXGraph.initBoard('jxgbox', {boundingbox: [-8, 8, 8, -4], axis:true,  showCopyright:false});\nvar aVar = brd.create('slider', [[1.5, 3], [6,3], [0, 1, 5]], {name:'a', snapWidth: 0.001});\nvar logarithmicGraph = brd.create('functiongraph', [function(x){return Math.log(x) / Math.log(aVar.Value());}, -10, 10]);\nvar text1 = brd.create('text',[-5,2,function(){return '\\\\[\\\\M{y}=\\log_{a}{x}\\\\]';}]);",
      "metadata": {
        "trusted": true
      },
      "execution_count": 10,
      "outputs": [
        {
          "output_type": "display_data",
          "data": {
            "application/vnd.jupyter.widget-view+json": {
              "model_id": "a82ed85bb8c5414e916c244df3376fa9",
              "version_major": 2,
              "version_minor": 0
            },
            "text/plain": "JSWidget(value=None, height=500, html='<!DOCTYPE html>\\n<html>\\n    <head>\\n    <style>\\n    html, body {\\n   …"
          },
          "metadata": {}
        }
      ],
      "id": "24798b15-fbd7-463e-8b85-4d42bacad9fc"
    },
    {
      "cell_type": "markdown",
      "source": "**Domain and Range of Logarithmic Function**\n\n* The domain of log function $y = \\log x$ is $x > 0$ or $(0, +\\infty)$.\n* The range of any log function is the set of all real numbers \\mathbb{R}.\n\n**Exponential function is not periodic, symmetric neither has max/min values**",
      "metadata": {},
      "id": "3310109f-0fe5-4a5c-8405-4011e8621f99"
    },
    {
      "cell_type": "markdown",
      "source": "**Exercise**\n\nTry solving $f(x)=k$ for exponential function, what is the type of resulting function? You can derive the result filling the missed gaps below.\n\n$$ \n\\begin{align}\nf(x) &= k \\\\\n \\Rightarrow \\quad a^x &=? \\\\\n\\Rightarrow \\quad  \\log{_?}{a^x} &= \\log{_?}{?} \\\\\n\\Rightarrow \\quad  \\log{_?}{?} &= a \\\\\n\\end{align}\n$$\n\n*hint:* You can use interactive graph below to observe the result.\n",
      "metadata": {},
      "id": "cd53172b-4a50-4e5d-8208-623fe1509b09"
    },
    {
      "cell_type": "markdown",
      "source": "YOUR ANSWER HERE",
      "metadata": {
        "deletable": false,
        "nbgrader": {
          "cell_type": "markdown",
          "checksum": "7875855cbac1642b1b1300f2bd826327",
          "grade": true,
          "grade_id": "p6",
          "locked": false,
          "points": 1,
          "schema_version": 3,
          "solution": true,
          "task": false
        },
        "tags": []
      },
      "id": "b3b1f71f-54b5-41d4-934b-1240ef0a5f9d"
    },
    {
      "cell_type": "code",
      "source": "%%jsxgraph -i jxgbox -h 500 -m https://www.cs.cityu.edu.hk/~ccha23/js/load-mathjax.js\nJXG.Options.text.useMathJax = true;\nvar brd = JXG.JSXGraph.initBoard('jxgbox', {boundingbox: [-8, 8, 8, -4], axis:true,  showCopyright:false});\nvar aVar = brd.create('slider', [[1, 3], [6,3], [0, 1, 5]], {name:'a', snapWidth: 0.001});\nvar exponentialGraph = brd.create('functiongraph', [function(x){return Math.pow(aVar.Value(), x);}, -100, 100]);\nvar logarithmicGraph = brd.create('functiongraph', [function(x){return Math.log(x) / Math.log(aVar.Value());}, -100, 100]);\nvar yEqualsToXGraph = brd.create('functiongraph', [function(x){return x}, -100, 100], {strokeColor:'#00ff00'});\nvar text1 = brd.create('text',[-5,2,function(){return '\\\\[\\\\M{y}=a^x\\\\]';}]);\nvar text2 = brd.create('text',[5,-2,function(){return '\\\\[\\\\M{y}=\\log_{a}{x}\\\\]';}]);",
      "metadata": {
        "trusted": true
      },
      "execution_count": 11,
      "outputs": [
        {
          "output_type": "display_data",
          "data": {
            "application/vnd.jupyter.widget-view+json": {
              "model_id": "b3780592bc694e938d854ac622e78f59",
              "version_major": 2,
              "version_minor": 0
            },
            "text/plain": "JSWidget(value=None, height=500, html='<!DOCTYPE html>\\n<html>\\n    <head>\\n    <style>\\n    html, body {\\n   …"
          },
          "metadata": {}
        }
      ],
      "id": "7ecdbf78-b62d-4a1f-a871-6246b834ec96"
    },
    {
      "cell_type": "markdown",
      "source": "**Exercise**\nWhat type of functions satisfy the following rules:\n\n$f(x+k) = f(x)+k$: ***your answer***\n\n$f(kx)=kf(x)$: ***your answer***",
      "metadata": {},
      "id": "3dde2d70-7eff-45dc-9a4a-8fad62ea65c8"
    },
    {
      "cell_type": "markdown",
      "source": "YOUR ANSWER HERE",
      "metadata": {
        "deletable": false,
        "nbgrader": {
          "cell_type": "markdown",
          "checksum": "ffeb0e5a4d76f4e70cb6003fb9720496",
          "grade": true,
          "grade_id": "p7",
          "locked": false,
          "points": 1,
          "schema_version": 3,
          "solution": true,
          "task": false
        },
        "tags": []
      },
      "id": "a73293dd-d1b4-45c5-bf0e-d5371a4efbf3"
    },
    {
      "cell_type": "markdown",
      "source": "**Exercise**\n\nA function is \"even\" when for all $x$:\n\n$$  f(x) = f(-x)$$\n\nA function is \"odd\" when for all $x$:\n\n$$  -f(x) = f(-x)$$\n\n***Question:*** Playing with the graph, classify those functions *(constant, linear, sine, tangent, exponential, logarithmic)* into 3 separate groups:\n\nEven: ***your answer***\n\nOdd: ***your answer***\n\nNeither: ***your answer***",
      "metadata": {},
      "id": "3d7d472a-9dda-4b79-b166-a52ec0724dee"
    },
    {
      "cell_type": "markdown",
      "source": "YOUR ANSWER HERE",
      "metadata": {
        "deletable": false,
        "nbgrader": {
          "cell_type": "markdown",
          "checksum": "2ebeb089bb4ab7633e0239cafb641a7e",
          "grade": true,
          "grade_id": "p8",
          "locked": false,
          "points": 1,
          "schema_version": 3,
          "solution": true,
          "task": false
        },
        "tags": []
      },
      "id": "3bd2a81e-ef4e-4755-912a-8fdb8b80630e"
    }
  ]
}